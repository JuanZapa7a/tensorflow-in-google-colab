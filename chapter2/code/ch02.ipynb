{
  "nbformat": 4,
  "nbformat_minor": 0,
  "metadata": {
    "colab": {
      "name": "ch02.ipynb",
      "provenance": [],
      "collapsed_sections": []
    },
    "kernelspec": {
      "display_name": "Python 3",
      "language": "python",
      "name": "python3"
    },
    "language_info": {
      "codemirror_mode": {
        "name": "ipython",
        "version": 3
      },
      "file_extension": ".py",
      "mimetype": "text/x-python",
      "name": "python",
      "nbconvert_exporter": "python",
      "pygments_lexer": "ipython3",
      "version": "3.7.3"
    },
    "accelerator": "GPU"
  },
  "cells": [
    {
      "cell_type": "markdown",
      "metadata": {
        "colab_type": "text",
        "id": "qUdBqDRN9LWj"
      },
      "source": [
        "# Tensors in the **load_digits** Dataset\n",
        "\n",
        "Let's explore tensors in context with the **load_digits** dataset. The dataset is part of the Scikit-Learn library, which is a free software machine learning library for the Python programming language. It features various classification, regression and clustering algorithms that are easy to use and manipulate.\n",
        "\n",
        "The load_digits dataset consists of 1797 8x8 images. Each image represents a hand-written digit from 0-9. Image data is contained in the **images** container. The dataset also contains the data flattened into feature vectors of length 64 in the **data** container. The length of 64 is obtained by multiplying the 8X8 image pixels. That is, each image is represented by 8 rows and 8 columns of pixels. So, the flattened data set consists of 1797 flattened vectors of 64 elements. Target values are contained in the **target** container and target names are contained in the **target_names** container. Finally, the **DESCR** holds descriptions of the dataset.\n",
        "\n",
        "The data container of flattened vectors is included to allow us to more easily use Scikit-Learn machine learning algorithms. The image container is included so that we can visualize digits.\n",
        "\n",
        "Now, let's get the data and explore:"
      ]
    },
    {
      "cell_type": "code",
      "metadata": {
        "colab_type": "code",
        "id": "VH1AmPXJAIV8",
        "outputId": "f01ba53f-692d-45a1-f7a3-e9e3704fb5ab",
        "colab": {
          "base_uri": "https://localhost:8080/",
          "height": 34
        }
      },
      "source": [
        "from sklearn.datasets import load_digits\n",
        "\n",
        "# get data\n",
        "\n",
        "digits = load_digits()\n",
        "\n",
        "# get available containers (or keys) from dataset\n",
        "\n",
        "br = '\\n' # create a newline variable\n",
        "\n",
        "print (digits.keys())"
      ],
      "execution_count": 1,
      "outputs": [
        {
          "output_type": "stream",
          "text": [
            "dict_keys(['data', 'target', 'target_names', 'images', 'DESCR'])\n"
          ],
          "name": "stdout"
        }
      ]
    },
    {
      "cell_type": "code",
      "metadata": {
        "id": "YrtjOHGuApR2",
        "colab_type": "code",
        "colab": {}
      },
      "source": [
        "# create variables\n",
        "\n",
        "data = digits.data\n",
        "images = digits.images\n",
        "targets = digits.target\n",
        "target_names = digits.target_names"
      ],
      "execution_count": 0,
      "outputs": []
    },
    {
      "cell_type": "code",
      "metadata": {
        "id": "_JbRNw5nApYW",
        "colab_type": "code",
        "outputId": "691941f6-d825-4af7-b849-782ad524471d",
        "colab": {
          "base_uri": "https://localhost:8080/",
          "height": 306
        }
      },
      "source": [
        "# display tensor information\n",
        "\n",
        "print ('data container:')\n",
        "print (str(data.ndim) + 'D tensor')\n",
        "print (data.shape)\n",
        "print (data.dtype, br)\n",
        "\n",
        "print ('image container:')\n",
        "print (str(images.ndim) + 'D tensor')\n",
        "print (images.shape)\n",
        "print (images.dtype, br)\n",
        "\n",
        "print ('targets container:')\n",
        "print (str(targets.ndim) + 'D tensor')\n",
        "print (targets.shape)\n",
        "print (targets.dtype, br)\n",
        "\n",
        "print ('target names container:')\n",
        "print (target_names)"
      ],
      "execution_count": 3,
      "outputs": [
        {
          "output_type": "stream",
          "text": [
            "data container:\n",
            "2D tensor\n",
            "(1797, 64)\n",
            "float64 \n",
            "\n",
            "image container:\n",
            "3D tensor\n",
            "(1797, 8, 8)\n",
            "float64 \n",
            "\n",
            "targets container:\n",
            "1D tensor\n",
            "(1797,)\n",
            "int64 \n",
            "\n",
            "target names container:\n",
            "[0 1 2 3 4 5 6 7 8 9]\n"
          ],
          "name": "stdout"
        }
      ]
    },
    {
      "cell_type": "markdown",
      "metadata": {
        "colab_type": "text",
        "id": "NCugdcu5_AM1"
      },
      "source": [
        "So, flattened data is a 2D tensor consisting of 1797 vectors each with 64 float64 elements. Image data is a 3D tensor consisting of 1797 float64 8x8 pixel image matrices. Target data is a 1D tensor with 1797 int64 target values that correspond to each data element. As you can see, target_names range from 0 to 9.\n",
        "\n",
        "Let's look at the 1st data element and visualize the digit between 0 and 9 that it represents:"
      ]
    },
    {
      "cell_type": "code",
      "metadata": {
        "colab_type": "code",
        "id": "W65O8mxrDrCL",
        "outputId": "be1e8f1f-623f-406c-c7d9-79af05047963",
        "colab": {
          "base_uri": "https://localhost:8080/",
          "height": 265
        }
      },
      "source": [
        "# first image begins at index 0\n",
        "\n",
        "image = images[0]\n",
        "import matplotlib.pyplot as plt\n",
        "plt.imshow(image, cmap='binary')\n",
        "plt.show()"
      ],
      "execution_count": 4,
      "outputs": [
        {
          "output_type": "display_data",
          "data": {
            "image/png": "[encoded data removed]",
            "text/plain": [
              "<Figure size 432x288 with 1 Axes>"
            ]
          },
          "metadata": {
            "tags": [],
            "needs_background": "light"
          }
        }
      ]
    },
    {
      "cell_type": "code",
      "metadata": {
        "id": "D2YHG21QFHyg",
        "colab_type": "code",
        "outputId": "84dd9e93-c4c8-4be2-9a18-69c53c85d9ea",
        "colab": {
          "base_uri": "https://localhost:8080/",
          "height": 221
        }
      },
      "source": [
        "# first digit begins at index 0\n",
        "\n",
        "target = targets[0]\n",
        "print ('digit is:', target, br)\n",
        "\n",
        "# image matrix of first image\n",
        "\n",
        "print ('image matrix:', br)\n",
        "print (image)"
      ],
      "execution_count": 5,
      "outputs": [
        {
          "output_type": "stream",
          "text": [
            "digit is: 0 \n",
            "\n",
            "image matrix: \n",
            "\n",
            "[[ 0.  0.  5. 13.  9.  1.  0.  0.]\n",
            " [ 0.  0. 13. 15. 10. 15.  5.  0.]\n",
            " [ 0.  3. 15.  2.  0. 11.  8.  0.]\n",
            " [ 0.  4. 12.  0.  0.  8.  8.  0.]\n",
            " [ 0.  5.  8.  0.  0.  9.  8.  0.]\n",
            " [ 0.  4. 11.  0.  1. 12.  7.  0.]\n",
            " [ 0.  2. 14.  5. 10. 12.  0.  0.]\n",
            " [ 0.  0.  6. 13. 10.  0.  0.  0.]]\n"
          ],
          "name": "stdout"
        }
      ]
    },
    {
      "cell_type": "markdown",
      "metadata": {
        "colab_type": "text",
        "id": "7kiTW9HXMMek"
      },
      "source": [
        "# Image Matrix\n",
        "\n",
        "1. The numbers in the matrix we just displayed reprent grayscale intensity\n",
        "2. So, every '0' represents **white** space\n",
        "3. And, higher numbers represent darker shades of **gray** to **black**\n",
        "\n",
        "That is, the lower the number, the lighter the gray (with zero being white). The higher the number, the darker the shade of gray (with high numbers approaching black). So, you can kind of see the digit 0 by looking at the numbers in the matrix."
      ]
    },
    {
      "cell_type": "markdown",
      "metadata": {
        "colab_type": "text",
        "id": "o1wdKGG5Nq51"
      },
      "source": [
        "# Split into Train-Test Data\n",
        "\n",
        "We can use the **images** data directly or reshape the flattened **data**. Let's start by reshaping the flattened data. This is a good exercise because you may have to reshape a dataset in the future.\n",
        "\n",
        "For machine learning and deep learning applications, we split data into a training set and testing set. The **training** set contains a known output and the model learns on this data in order to be generalized to other data later on. The **test** dataset is used to test our model's prediction.\n",
        "\n",
        "The **train_test_split** module is part of the Scikit-Learn library. It allows us to efficiently split arrays or matrices into random train and test subsets. With the *test_size* parameter, we can set the size of the training and test sets. In the case below, the test subset is 33% and the training subset is 67% of the larger dataset. The *random_state* parameter is set to stabilize results. If not set, results can vary widely with each run of our training algorithm. "
      ]
    },
    {
      "cell_type": "code",
      "metadata": {
        "colab_type": "code",
        "id": "CG99ileKOVzj",
        "colab": {}
      },
      "source": [
        "# Input image dimensions\n",
        "\n",
        "img_rows, img_cols = 8, 8"
      ],
      "execution_count": 0,
      "outputs": []
    },
    {
      "cell_type": "code",
      "metadata": {
        "id": "aoA5nPgnKxgu",
        "colab_type": "code",
        "outputId": "80784f40-2b5e-439b-8ffa-204ce383e86b",
        "colab": {
          "base_uri": "https://localhost:8080/",
          "height": 51
        }
      },
      "source": [
        "# Reshape\n",
        "X = data.reshape(data.shape[0], img_rows, img_cols)\n",
        "print ('X reshaped:', X.shape)\n",
        "print ('number of dimensions:', X.ndim)"
      ],
      "execution_count": 7,
      "outputs": [
        {
          "output_type": "stream",
          "text": [
            "X reshaped: (1797, 8, 8)\n",
            "number of dimensions: 3\n"
          ],
          "name": "stdout"
        }
      ]
    },
    {
      "cell_type": "code",
      "metadata": {
        "id": "tphOCs_kLEuR",
        "colab_type": "code",
        "outputId": "cbb6440c-ca60-4f4d-c05a-12f11e0639a3",
        "colab": {
          "base_uri": "https://localhost:8080/",
          "height": 34
        }
      },
      "source": [
        "y = targets\n",
        "y.shape"
      ],
      "execution_count": 8,
      "outputs": [
        {
          "output_type": "execute_result",
          "data": {
            "text/plain": [
              "(1797,)"
            ]
          },
          "metadata": {
            "tags": []
          },
          "execution_count": 8
        }
      ]
    },
    {
      "cell_type": "code",
      "metadata": {
        "id": "uqYKR3adKx5K",
        "colab_type": "code",
        "colab": {}
      },
      "source": [
        "from sklearn.model_selection import train_test_split\n",
        "\n",
        "X_train, X_test, y_train, y_test = train_test_split(\n",
        "    X, y, test_size=0.33, random_state=0)"
      ],
      "execution_count": 0,
      "outputs": []
    },
    {
      "cell_type": "markdown",
      "metadata": {
        "colab_type": "text",
        "id": "wxBPQw-JPAeu"
      },
      "source": [
        "Alternatively, we can use the images directly because it is already in matrix form."
      ]
    },
    {
      "cell_type": "code",
      "metadata": {
        "colab_type": "code",
        "id": "AIy67nRbPIGO",
        "outputId": "ab5db044-b0ea-40cc-c4eb-739ee0ce0d13",
        "colab": {
          "base_uri": "https://localhost:8080/",
          "height": 221
        }
      },
      "source": [
        "X_alt = images\n",
        "y_alt = targets\n",
        "\n",
        "print ('X:', X_alt.shape)\n",
        "print ('number of dimensions:', X_alt.ndim, br)\n",
        "\n",
        "X_tra, X_tes, y_tra, y_tes = train_test_split(\n",
        "    X_alt, y_alt, test_size=0.33, random_state=0)\n",
        "\n",
        "print ('X_train:', X_tra.shape)\n",
        "print ('number of dimensions:', X_tra.ndim)\n",
        "train_percent = X_tra.shape[0] / X_alt.shape[0]\n",
        "print ('train data percent of X data:', train_percent, br)\n",
        "\n",
        "print ('X_test:', X_tes.shape)\n",
        "print ('number of dimensions:', X_tes.ndim)\n",
        "test_percent = X_tes.shape[0] / X_alt.shape[0]\n",
        "print ('test data percent of X data:', test_percent, br)\n",
        "\n",
        "num_images = X_tra.shape[0] + X_tes.shape[0]\n",
        "print ('total number of images:', num_images)"
      ],
      "execution_count": 10,
      "outputs": [
        {
          "output_type": "stream",
          "text": [
            "X: (1797, 8, 8)\n",
            "number of dimensions: 3 \n",
            "\n",
            "X_train: (1203, 8, 8)\n",
            "number of dimensions: 3\n",
            "train data percent of X data: 0.669449081803005 \n",
            "\n",
            "X_test: (594, 8, 8)\n",
            "number of dimensions: 3\n",
            "test data percent of X data: 0.330550918196995 \n",
            "\n",
            "total number of images: 1797\n"
          ],
          "name": "stdout"
        }
      ]
    },
    {
      "cell_type": "markdown",
      "metadata": {
        "colab_type": "text",
        "id": "K5BPl2nOyek6"
      },
      "source": [
        "We know that the train_test_split() worked as expected because the training set (X_train) contains 1203 images (two-thirds of X data) while the test set (X_test) contains 594 images (one-third of X data)."
      ]
    },
    {
      "cell_type": "markdown",
      "metadata": {
        "colab_type": "text",
        "id": "gf41jhfPSJ4C"
      },
      "source": [
        "# GPU Hardware Accelerator\n",
        "\n",
        "To vastly speed up processing, we can use the GPU. Colab allows us to use a Tesla K80 GPU to greatly enhance processing speed. However, we must be sure to set the GPU. So, click the **Runtime** tab. Next, click **Change runtime type** from the drop-down menu. Choose 'GPU' from **Hardware accelerator** drop-down and **Save**. We cannot guarantee that the GPU will always be available, but we have had pretty good luck with it."
      ]
    },
    {
      "cell_type": "code",
      "metadata": {
        "colab_type": "code",
        "id": "S_lqe44ZSNvZ",
        "outputId": "77bcff21-171f-4223-dc69-e54b28659b2f",
        "colab": {
          "base_uri": "https://localhost:8080/",
          "height": 34
        }
      },
      "source": [
        "# To activate GPU:\n",
        "# a) go to 'Runtime' menu item -> choos 'Change runtime type' -> choose 'Hardware accelerator'\n",
        "# b) choose 'GPU' from drop-down menu and Save\n",
        " \n",
        "import tensorflow as tf\n",
        "\n",
        "# display tf version and test if GPU is active\n",
        "\n",
        "tf.__version__, tf.test.gpu_device_name()"
      ],
      "execution_count": 11,
      "outputs": [
        {
          "output_type": "execute_result",
          "data": {
            "text/plain": [
              "('2.2.0', '/device:GPU:0')"
            ]
          },
          "metadata": {
            "tags": []
          },
          "execution_count": 11
        }
      ]
    },
    {
      "cell_type": "markdown",
      "metadata": {
        "colab_type": "text",
        "id": "B54OwrEMTqAl"
      },
      "source": [
        "If you see '/device:GPU:0', the GPU is active. If you see '..', only the regular CPU is active."
      ]
    },
    {
      "cell_type": "markdown",
      "metadata": {
        "colab_type": "text",
        "id": "Oh74lWrNT9gV"
      },
      "source": [
        "# Load NumPy arrays with tf.data.Dataset\n",
        "\n",
        "Let's build our first neural network with TensorFlow 2.x. Assuming you have an array of examples and a corresponding array of labels, pass the two arrays as a tuple into **tf.data.Dataset.from_tensor_slices** to create a **tf.data.Dataset**.\n",
        "\n",
        "## Build the Input Pipeline\n",
        "\n",
        "* ensure that feature data is float32 or float 64\n",
        "* ensure that target data is int32 or int64\n",
        "* normalize data\n",
        "* create a dataset whose elements are slices of the given tensors\n",
        "* notice that train and test tensors are composed of both images AND labels\n",
        "\n",
        "When training a neural network, it is most common to use either 32-bit precision data. However, 64-bit precision data can also be used.In our case, training data is already 64-bit (float64) precision so we don't have to convert it. Target data should be either int32 or int64. In our case, it is int64.\n",
        "\n",
        "To scale the data, we divide each image by 255. Data values (image pixels) are often stored as integer numbers in the range from 0 to 255, which is the range that a single 8-bit byte can hold. So, this division ensures that input features are scaled between 0.0 and 1.0. Scaling reduces erratic behavior of our neural network during training.\n",
        "\n",
        "To create the data objects that tensorflow requires, we need to take slices from the training and test tensors. The **tf.data.Dataset.from_tensor_slices** method takes slices from the given tensors in the form of tensorflow objects. That is, the method creates a dataset whose elements are slices of the given tensors."
      ]
    },
    {
      "cell_type": "code",
      "metadata": {
        "id": "p3ZjIcP4SV8g",
        "colab_type": "code",
        "outputId": "edbc9616-0ffb-4e37-fb98-3baa7d5ed1ec",
        "colab": {
          "base_uri": "https://localhost:8080/",
          "height": 34
        }
      },
      "source": [
        "# TensorFlow expects feature data as float and label as int\n",
        "\n",
        "X_train.dtype, y_train.dtype"
      ],
      "execution_count": 12,
      "outputs": [
        {
          "output_type": "execute_result",
          "data": {
            "text/plain": [
              "(dtype('float64'), dtype('int64'))"
            ]
          },
          "metadata": {
            "tags": []
          },
          "execution_count": 12
        }
      ]
    },
    {
      "cell_type": "code",
      "metadata": {
        "colab_type": "code",
        "id": "p8leDHzaCK-r",
        "colab": {}
      },
      "source": [
        "# scale by dividing by the number of pixels in an image\n",
        "\n",
        "s_train = X_train / 255.0\n",
        "\n",
        "s_test = X_test / 255.0"
      ],
      "execution_count": 0,
      "outputs": []
    },
    {
      "cell_type": "code",
      "metadata": {
        "id": "QjGcD8onV065",
        "colab_type": "code",
        "colab": {}
      },
      "source": [
        "# create tensors for TensorFlow consumption\n",
        "\n",
        "train_dataset = tf.data.Dataset.from_tensor_slices((s_train,\n",
        "                                                    y_train))\n",
        "test_dataset = tf.data.Dataset.from_tensor_slices((s_test,\n",
        "                                                   y_test))"
      ],
      "execution_count": 0,
      "outputs": []
    },
    {
      "cell_type": "markdown",
      "metadata": {
        "colab_type": "text",
        "id": "f0BtNxBHAeH6"
      },
      "source": [
        "Let's see what our tensor slices look like: "
      ]
    },
    {
      "cell_type": "code",
      "metadata": {
        "colab_type": "code",
        "id": "qvNfgFS_dkmO",
        "outputId": "ca8ddbde-8044-42ee-df80-252eb6e1e6b8",
        "colab": {
          "base_uri": "https://localhost:8080/",
          "height": 51
        }
      },
      "source": [
        "print ('train:', train_dataset)\n",
        "print ('test: ', test_dataset)"
      ],
      "execution_count": 16,
      "outputs": [
        {
          "output_type": "stream",
          "text": [
            "train: <TensorSliceDataset shapes: ((8, 8), ()), types: (tf.float64, tf.int64)>\n",
            "test:  <TensorSliceDataset shapes: ((8, 8), ()), types: (tf.float64, tf.int64)>\n"
          ],
          "name": "stdout"
        }
      ]
    },
    {
      "cell_type": "markdown",
      "metadata": {
        "colab_type": "text",
        "id": "JZsOMQP7AqxB"
      },
      "source": [
        "As you can see, both train and test tensor slices consist of 8x8 images with float64 feature images and int64 scalar target values. Scalar images are represented by '()'."
      ]
    },
    {
      "cell_type": "markdown",
      "metadata": {
        "colab_type": "text",
        "id": "xgTO2vrlkUA0"
      },
      "source": [
        "## Explore TensorFlow Data\n",
        "\n",
        "Let's explore what is actually inside the TensorSliceDataset **train_dataset** that we just created. Use the **take()** method to grab samples starting from the first one in the dataset."
      ]
    },
    {
      "cell_type": "code",
      "metadata": {
        "id": "dPZ0rNULY547",
        "colab_type": "code",
        "outputId": "f8fb18f2-e000-4b25-c72b-5633f2d4228f",
        "colab": {
          "base_uri": "https://localhost:8080/",
          "height": 102
        }
      },
      "source": [
        "for feature, label in train_dataset.take(1):\n",
        "  print (feature[0], br)\n",
        "  print (label)"
      ],
      "execution_count": 17,
      "outputs": [
        {
          "output_type": "stream",
          "text": [
            "tf.Tensor(\n",
            "[0.         0.         0.05098039 0.0627451  0.0627451  0.05882353\n",
            " 0.00784314 0.        ], shape=(8,), dtype=float64) \n",
            "\n",
            "tf.Tensor(8, shape=(), dtype=int64)\n"
          ],
          "name": "stdout"
        }
      ]
    },
    {
      "cell_type": "code",
      "metadata": {
        "id": "vQDScysdZbOa",
        "colab_type": "code",
        "outputId": "e1db3834-5d67-419d-98c2-571417e01c22",
        "colab": {
          "base_uri": "https://localhost:8080/",
          "height": 51
        }
      },
      "source": [
        "for _, label in test_dataset.take(2):\n",
        "  print (label)"
      ],
      "execution_count": 18,
      "outputs": [
        {
          "output_type": "stream",
          "text": [
            "tf.Tensor(2, shape=(), dtype=int64)\n",
            "tf.Tensor(8, shape=(), dtype=int64)\n"
          ],
          "name": "stdout"
        }
      ]
    },
    {
      "cell_type": "markdown",
      "metadata": {
        "colab_type": "text",
        "id": "gzGq0e3qLa-A"
      },
      "source": [
        "# Shuffle Data\n",
        "\n",
        "We want to shuffle data after each epoch because we want to ensure that each batch of data is representative of the overall dataset. An **epoch** is one complete presentation of the dataset to be learned from a machine learning alogrithm. Neural nets often use iterative algorithms that employ many epochs during their learning phase. A **batch** of data is a group of training samples. Deep learning models don't process an entire dataset at once. They break the data into small batches.\n",
        "\n",
        "Shuffling your data after each epoch ensures that you will not be *stuck* with too many bad batches. Shuffling data also serves the purpose of reducing variance and making sure that models remain general and overfit less. **Overfitting** is when a model trains data too well. Overfitting happens when a model learns the detail and noise in the training data to the extent that it negatively impacts the performance of the model on new data. We will discuss overfitting within the context of this example shortly.\n",
        "\n",
        "Shuffling your data ensures that each data point creates an *independent* change on the model without being biased by the same points before them. By shuffling, we ensure that training data fed to the model contains all flavors of the data.\n",
        "\n",
        "A great metaphor is **shuffling a deck of cards**. We shuffle a deck of cards before playing a card game because we want to make sure that each player gets the same chance of getting a specific card as another. So, just like shuffling a deck of cards removes bias so does shuffling data before each epoch when training a neural net."
      ]
    },
    {
      "cell_type": "code",
      "metadata": {
        "colab_type": "code",
        "id": "7aod_0fnQxbm",
        "colab": {}
      },
      "source": [
        "BATCH_SIZE = 64\n",
        "SHUFFLE_BUFFER_SIZE = 100"
      ],
      "execution_count": 0,
      "outputs": []
    },
    {
      "cell_type": "code",
      "metadata": {
        "id": "l8y7E8EddCQM",
        "colab_type": "code",
        "colab": {}
      },
      "source": [
        "# rename train and test sets\n",
        "\n",
        "train_ds = train_dataset\\\n",
        ".shuffle(SHUFFLE_BUFFER_SIZE)\\\n",
        ".batch(BATCH_SIZE)\n",
        "\n",
        "test_ds = test_dataset.batch(BATCH_SIZE)"
      ],
      "execution_count": 0,
      "outputs": []
    },
    {
      "cell_type": "markdown",
      "metadata": {
        "colab_type": "text",
        "id": "E-kyVJb6Q5Dk"
      },
      "source": [
        "Notice that we only shuffle training data. The reason is because test data is supposed to represent data that our model has not seen. That is, test data is supposed to represent new data. Once we run the shuffle() method on training data, the model **automatically** shuffles the data before each epoch!\n",
        "\n",
        "Deep learning models don't process an entire dataset at once. They break the data up into small batches. So, we arbitrarily set **batch size** to **64** and shuffle buffer size to **100**. You can try different values to see how your results are impacted. We suggest making buffer size relatively large or shuffling won't be very effective.\n",
        "\n",
        "We also recommend renaming train and test sets because we don't want to batch and shuffle more than once!"
      ]
    },
    {
      "cell_type": "markdown",
      "metadata": {
        "id": "zTIun6d_MbHs",
        "colab_type": "text"
      },
      "source": [
        "Let's look at what happened to the data."
      ]
    },
    {
      "cell_type": "code",
      "metadata": {
        "id": "mrrnRRgPMbP7",
        "colab_type": "code",
        "outputId": "4323d9ac-84c6-4091-a442-2e72f1f52ba2",
        "colab": {
          "base_uri": "https://localhost:8080/",
          "height": 51
        }
      },
      "source": [
        "train_ds, test_ds"
      ],
      "execution_count": 21,
      "outputs": [
        {
          "output_type": "execute_result",
          "data": {
            "text/plain": [
              "(<BatchDataset shapes: ((None, 8, 8), (None,)), types: (tf.float64, tf.int64)>,\n",
              " <BatchDataset shapes: ((None, 8, 8), (None,)), types: (tf.float64, tf.int64)>)"
            ]
          },
          "metadata": {
            "tags": []
          },
          "execution_count": 21
        }
      ]
    },
    {
      "cell_type": "markdown",
      "metadata": {
        "id": "B-SSV3otNHK1",
        "colab_type": "text"
      },
      "source": [
        "After batching data, we get **None** as an extra dimension. What happened? The extra dimension tells TensorFlow that batching has occurred. Since TensorFlow models can accept any batch size, 'None' is added."
      ]
    },
    {
      "cell_type": "markdown",
      "metadata": {
        "colab_type": "text",
        "id": "g5YXg94rk0c-"
      },
      "source": [
        "# Feedforward Neural Network\n",
        "\n",
        "Our simple example is a feedforward neural network. A **feedforward** neural network is one where information only travels forward in the network. So, data moves from the input nodes, through the hidden nodes (if any), and to the output nodes. There are no cycles or loops in the network.\n",
        "\n",
        "The layers in our network are **fully-connected**, which means that each layer is fully conected to the next one. Fully connected layers connect every node (or neuron) in the previous layer with every node in the successive layer. That is, each neuron in a **layer** receives an input from all the neurons present in the **previous layer**. Fully connected layers are typically referred to as  **densely** connected.\n",
        "\n"
      ]
    },
    {
      "cell_type": "markdown",
      "metadata": {
        "colab_type": "text",
        "id": "KHDabSVUR78v"
      },
      "source": [
        "# Number of layers\n",
        "\n",
        "* typically more layers increase performance\n",
        "* but, more layers require more computer resources\n",
        "\n",
        "When we don't have very much training data, a simple network with few layers tends to perform as good as or better than a complex one with many layers. Actually, it is a good idea to start with a simple network when you first begin exploring a new dataset. We also suggest drawing a small random sample on the dataset and training it with the simple network to get an idea of its potential performance. Following this suggestion saves time and computing resources upfront. And, we get acquainted with our data. If the simple model doesn't train well on the small sample, we may have to get more data and/or try to find out why we got poor performance before we spend time creating a more complex model."
      ]
    },
    {
      "cell_type": "markdown",
      "metadata": {
        "colab_type": "text",
        "id": "rXrrBDzvoS4N"
      },
      "source": [
        "  \n",
        "\n",
        "# Our Model\n",
        "\n",
        "Our model contains an input layer, a hidden layer, and an output layer. The first layer in a neural net model is always an input layer because it must understand the shape of feature data to operate appropriately.\n",
        "\n",
        "The first layer in our model accepts feature data as flattened vectors. **Flattening** is the process of converting data into a 1D array for inputting into the next layer. When training a fully-connected neural net, the input layer should always accept either 1D vectors or 2D matrices.\n",
        "\n",
        "Simply, the role of a *Flatten* layer is to convert each input into a 1D array. This layer doesn't have any parameters. It exists to do some simple preprocessing. Since this layer is the first layer in our model, we must specify the *input_shape* of the feature instances. So, we set **input_shape=(8, 8)** since each feature image is represented by an 8 X 8 matrix.\n",
        "\n",
        "The second layer is a densely connected hidden layer. It contains 256 neurons (or nodes) and uses the **relu** activation function. The final layer is an output layer. It is also densely connected, contains 10 neurons, and uses the **softmax** activation function. The output layer must always contain the same amount of neurons as it has classes. In our case, we are classifying digits 0-9 so we have 10 classes.\n",
        "\n",
        "Just like the number of layers, we can increase the number of neurons from 256 to a larger number. However, (just like adding layers) more neurons increases processing requirements. With large datasets, adding layers and additional neurons can significantly impact processing time!\n",
        "\n",
        "An **activation function** of a node defines the output of that node given an input or set of inputs. It is actually an algorithm that acts on (or activates) each node in a neural net.\n",
        "\n",
        "**Relu** (rectified linear activation function) is a piecewise linear function that will output the input directly if it is positive, otherwise, it will output zero. It has become the default activation function for many types of neural networks because a model that uses it is easier to train and often achieves better performance.\n",
        "\n",
        "**Softmax** is an activation function frequently used in classifications where classes are mutually exclusive. Softmax output is large if the score is large. Its output is small if the score is small."
      ]
    },
    {
      "cell_type": "markdown",
      "metadata": {
        "id": "5FRfPvnzS9VL",
        "colab_type": "text"
      },
      "source": [
        "Define the input shape:"
      ]
    },
    {
      "cell_type": "code",
      "metadata": {
        "id": "o2mQUGrzS9cp",
        "colab_type": "code",
        "outputId": "9e8a5ac9-5eb8-41d3-ae98-06c07c745a58",
        "colab": {
          "base_uri": "https://localhost:8080/",
          "height": 34
        }
      },
      "source": [
        "for item in train_ds.take(1):\n",
        "  s = item[0].shape\n",
        "\n",
        "in_shape = s[1:]\n",
        "in_shape"
      ],
      "execution_count": 22,
      "outputs": [
        {
          "output_type": "execute_result",
          "data": {
            "text/plain": [
              "TensorShape([8, 8])"
            ]
          },
          "metadata": {
            "tags": []
          },
          "execution_count": 22
        }
      ]
    },
    {
      "cell_type": "markdown",
      "metadata": {
        "id": "2TFi4M2eVlt_",
        "colab_type": "text"
      },
      "source": [
        "Import libraries:"
      ]
    },
    {
      "cell_type": "code",
      "metadata": {
        "id": "SQL0Vl0cVl0W",
        "colab_type": "code",
        "colab": {}
      },
      "source": [
        "# import libraries to simplify model layout\n",
        "\n",
        "from tensorflow.keras.models import Sequential\n",
        "from tensorflow.keras.layers import Dense, Flatten"
      ],
      "execution_count": 0,
      "outputs": []
    },
    {
      "cell_type": "markdown",
      "metadata": {
        "id": "23-DesarV4Wd",
        "colab_type": "text"
      },
      "source": [
        "Build the model:"
      ]
    },
    {
      "cell_type": "code",
      "metadata": {
        "colab_type": "code",
        "id": "dwEhR2m7TUjv",
        "colab": {}
      },
      "source": [
        "model = Sequential([\n",
        "    Flatten(input_shape=in_shape),\n",
        "    Dense(256, activation='relu'),\n",
        "    Dense(10, activation='softmax')\n",
        "])"
      ],
      "execution_count": 0,
      "outputs": []
    },
    {
      "cell_type": "markdown",
      "metadata": {
        "colab_type": "text",
        "id": "61IO0YpXWMQO"
      },
      "source": [
        "# Model Summary\n",
        "\n",
        "The **summary()** method displays the characteristics of a model. We can see the layers, output shapes, and parameters. The first layer has an output shape of 64, which is the result of flattening an 8 x 8 matrix. That is, multiplying 8 by 8 results in 64 pixels. It has no parameters because it is used soley for preprocessing feature data. The second layer has 256 neurons as expected. It has 16640 parameters. How do we get this number?\n",
        "\n",
        "Remember that each layer receives output from the previous layer. And, each data element in a fully connected neural net visits every other neuron. So, we multiply 64 (neurons from the previous layer) by 256 (neurons at this layer) to get the number of visits. The result is 16384. However, we still have 256 neurons at this layer. So, by adding 256 to this result, we get 16640!\n",
        "\n",
        "The third layer has 10 neurons. Since it is the output layer, it must equal the number of classes. The number of parameters is 2570. We calculate this in the same way. The second layer passes 256 neurons to the third layer. And, the third has 10 neurons. So, we get 2560 parameters. By adding the 10 neurons at this layer, we get 2570.\n",
        "\n",
        "The total number of parameters is easily calculated by summing the parameters for each layer. So, we sum 0, 16640, and 2570 to get 19,210 parameters."
      ]
    },
    {
      "cell_type": "code",
      "metadata": {
        "colab_type": "code",
        "id": "X0HnxjBIWUfz",
        "outputId": "3ffdb5d1-11fa-40cd-bac4-871edef94a9f",
        "colab": {
          "base_uri": "https://localhost:8080/",
          "height": 255
        }
      },
      "source": [
        "model.summary()"
      ],
      "execution_count": 26,
      "outputs": [
        {
          "output_type": "stream",
          "text": [
            "Model: \"sequential_1\"\n",
            "_________________________________________________________________\n",
            "Layer (type)                 Output Shape              Param #   \n",
            "=================================================================\n",
            "flatten_1 (Flatten)          (None, 64)                0         \n",
            "_________________________________________________________________\n",
            "dense_2 (Dense)              (None, 256)               16640     \n",
            "_________________________________________________________________\n",
            "dense_3 (Dense)              (None, 10)                2570      \n",
            "=================================================================\n",
            "Total params: 19,210\n",
            "Trainable params: 19,210\n",
            "Non-trainable params: 0\n",
            "_________________________________________________________________\n"
          ],
          "name": "stdout"
        }
      ]
    },
    {
      "cell_type": "markdown",
      "metadata": {
        "colab_type": "text",
        "id": "Ff3WliOmeeYy"
      },
      "source": [
        "# Compile Our Model\n",
        "\n",
        "After a model is created, we must compile it to specify the loss function and optimizer. Compiling a model configures it for training. We compile neural net models with the **compile()** method.\n",
        "\n",
        "We use **sparse_categorical_crossentropy** because we have sparse labels. In our case, there is just a target class index from 0 to 9 and the classes are exclusive. That is, a digit can only be one of the ten digits. We use the **adam** optimizer because we have had luck with it. We could choose another optimizer to see if our results improve.\n",
        "\n",
        "A list of optimizers can be found by perusing the following URL:\n",
        "\n",
        "https://www.tensorflow.org/api_docs/python/tf/keras/optimizers"
      ]
    },
    {
      "cell_type": "code",
      "metadata": {
        "colab_type": "code",
        "id": "VIr6Hg-kQ4VL",
        "colab": {}
      },
      "source": [
        "model.compile(optimizer='adam',\n",
        "              loss='sparse_categorical_crossentropy',\n",
        "              metrics=['accuracy'])"
      ],
      "execution_count": 0,
      "outputs": []
    },
    {
      "cell_type": "markdown",
      "metadata": {
        "colab_type": "text",
        "id": "W6flPocVgk_p"
      },
      "source": [
        "# Train Our Model\n",
        "\n",
        "Now, we can train the data. Since train_ds and test_ds are composed of both images and labels, we put them as parameters to the **fit()** method.  We have 60 epochs. So, we pass the data to our model 60 times."
      ]
    },
    {
      "cell_type": "code",
      "metadata": {
        "colab_type": "code",
        "id": "NowEhU-0gZYs",
        "outputId": "85917035-a1fa-4a2a-9fe4-6d51c932de54",
        "colab": {
          "base_uri": "https://localhost:8080/",
          "height": 1000
        }
      },
      "source": [
        "history = model.fit(train_ds, epochs=60,\n",
        "                    validation_data=(test_ds))"
      ],
      "execution_count": 28,
      "outputs": [
        {
          "output_type": "stream",
          "text": [
            "Epoch 1/60\n",
            "19/19 [==============================] - 0s 15ms/step - loss: 2.2777 - accuracy: 0.2893 - val_loss: 2.2542 - val_accuracy: 0.5101\n",
            "Epoch 2/60\n",
            "19/19 [==============================] - 0s 5ms/step - loss: 2.2229 - accuracy: 0.6301 - val_loss: 2.2005 - val_accuracy: 0.6061\n",
            "Epoch 3/60\n",
            "19/19 [==============================] - 0s 5ms/step - loss: 2.1550 - accuracy: 0.6833 - val_loss: 2.1288 - val_accuracy: 0.6465\n",
            "Epoch 4/60\n",
            "19/19 [==============================] - 0s 5ms/step - loss: 2.0678 - accuracy: 0.7016 - val_loss: 2.0387 - val_accuracy: 0.6465\n",
            "Epoch 5/60\n",
            "19/19 [==============================] - 0s 5ms/step - loss: 1.9604 - accuracy: 0.7107 - val_loss: 1.9302 - val_accuracy: 0.6667\n",
            "Epoch 6/60\n",
            "19/19 [==============================] - 0s 5ms/step - loss: 1.8352 - accuracy: 0.7315 - val_loss: 1.8069 - val_accuracy: 0.6886\n",
            "Epoch 7/60\n",
            "19/19 [==============================] - 0s 5ms/step - loss: 1.6977 - accuracy: 0.7465 - val_loss: 1.6744 - val_accuracy: 0.6987\n",
            "Epoch 8/60\n",
            "19/19 [==============================] - 0s 5ms/step - loss: 1.5562 - accuracy: 0.7706 - val_loss: 1.5396 - val_accuracy: 0.7121\n",
            "Epoch 9/60\n",
            "19/19 [==============================] - 0s 4ms/step - loss: 1.4165 - accuracy: 0.8047 - val_loss: 1.4099 - val_accuracy: 0.7508\n",
            "Epoch 10/60\n",
            "19/19 [==============================] - 0s 5ms/step - loss: 1.2839 - accuracy: 0.8246 - val_loss: 1.2871 - val_accuracy: 0.7845\n",
            "Epoch 11/60\n",
            "19/19 [==============================] - 0s 5ms/step - loss: 1.1647 - accuracy: 0.8454 - val_loss: 1.1765 - val_accuracy: 0.8098\n",
            "Epoch 12/60\n",
            "19/19 [==============================] - 0s 5ms/step - loss: 1.0566 - accuracy: 0.8579 - val_loss: 1.0782 - val_accuracy: 0.8215\n",
            "Epoch 13/60\n",
            "19/19 [==============================] - 0s 5ms/step - loss: 0.9622 - accuracy: 0.8687 - val_loss: 0.9911 - val_accuracy: 0.8350\n",
            "Epoch 14/60\n",
            "19/19 [==============================] - 0s 5ms/step - loss: 0.8796 - accuracy: 0.8786 - val_loss: 0.9144 - val_accuracy: 0.8434\n",
            "Epoch 15/60\n",
            "19/19 [==============================] - 0s 5ms/step - loss: 0.8082 - accuracy: 0.8861 - val_loss: 0.8480 - val_accuracy: 0.8502\n",
            "Epoch 16/60\n",
            "19/19 [==============================] - 0s 5ms/step - loss: 0.7460 - accuracy: 0.8903 - val_loss: 0.7889 - val_accuracy: 0.8535\n",
            "Epoch 17/60\n",
            "19/19 [==============================] - 0s 5ms/step - loss: 0.6912 - accuracy: 0.8969 - val_loss: 0.7370 - val_accuracy: 0.8603\n",
            "Epoch 18/60\n",
            "19/19 [==============================] - 0s 5ms/step - loss: 0.6434 - accuracy: 0.8978 - val_loss: 0.6911 - val_accuracy: 0.8704\n",
            "Epoch 19/60\n",
            "19/19 [==============================] - 0s 5ms/step - loss: 0.6013 - accuracy: 0.9019 - val_loss: 0.6514 - val_accuracy: 0.8771\n",
            "Epoch 20/60\n",
            "19/19 [==============================] - 0s 5ms/step - loss: 0.5644 - accuracy: 0.9102 - val_loss: 0.6143 - val_accuracy: 0.8906\n",
            "Epoch 21/60\n",
            "19/19 [==============================] - 0s 5ms/step - loss: 0.5309 - accuracy: 0.9111 - val_loss: 0.5824 - val_accuracy: 0.8872\n",
            "Epoch 22/60\n",
            "19/19 [==============================] - 0s 5ms/step - loss: 0.5011 - accuracy: 0.9127 - val_loss: 0.5512 - val_accuracy: 0.9007\n",
            "Epoch 23/60\n",
            "19/19 [==============================] - 0s 5ms/step - loss: 0.4737 - accuracy: 0.9160 - val_loss: 0.5251 - val_accuracy: 0.9007\n",
            "Epoch 24/60\n",
            "19/19 [==============================] - 0s 5ms/step - loss: 0.4495 - accuracy: 0.9202 - val_loss: 0.4999 - val_accuracy: 0.9074\n",
            "Epoch 25/60\n",
            "19/19 [==============================] - 0s 5ms/step - loss: 0.4275 - accuracy: 0.9210 - val_loss: 0.4779 - val_accuracy: 0.9057\n",
            "Epoch 26/60\n",
            "19/19 [==============================] - 0s 5ms/step - loss: 0.4076 - accuracy: 0.9244 - val_loss: 0.4572 - val_accuracy: 0.9091\n",
            "Epoch 27/60\n",
            "19/19 [==============================] - 0s 5ms/step - loss: 0.3887 - accuracy: 0.9252 - val_loss: 0.4384 - val_accuracy: 0.9108\n",
            "Epoch 28/60\n",
            "19/19 [==============================] - 0s 5ms/step - loss: 0.3719 - accuracy: 0.9302 - val_loss: 0.4209 - val_accuracy: 0.9158\n",
            "Epoch 29/60\n",
            "19/19 [==============================] - 0s 5ms/step - loss: 0.3565 - accuracy: 0.9310 - val_loss: 0.4053 - val_accuracy: 0.9158\n",
            "Epoch 30/60\n",
            "19/19 [==============================] - 0s 5ms/step - loss: 0.3422 - accuracy: 0.9343 - val_loss: 0.3898 - val_accuracy: 0.9192\n",
            "Epoch 31/60\n",
            "19/19 [==============================] - 0s 5ms/step - loss: 0.3287 - accuracy: 0.9377 - val_loss: 0.3771 - val_accuracy: 0.9209\n",
            "Epoch 32/60\n",
            "19/19 [==============================] - 0s 5ms/step - loss: 0.3169 - accuracy: 0.9368 - val_loss: 0.3643 - val_accuracy: 0.9209\n",
            "Epoch 33/60\n",
            "19/19 [==============================] - 0s 5ms/step - loss: 0.3051 - accuracy: 0.9401 - val_loss: 0.3518 - val_accuracy: 0.9259\n",
            "Epoch 34/60\n",
            "19/19 [==============================] - 0s 5ms/step - loss: 0.2944 - accuracy: 0.9385 - val_loss: 0.3408 - val_accuracy: 0.9259\n",
            "Epoch 35/60\n",
            "19/19 [==============================] - 0s 5ms/step - loss: 0.2845 - accuracy: 0.9426 - val_loss: 0.3305 - val_accuracy: 0.9242\n",
            "Epoch 36/60\n",
            "19/19 [==============================] - 0s 5ms/step - loss: 0.2751 - accuracy: 0.9393 - val_loss: 0.3216 - val_accuracy: 0.9276\n",
            "Epoch 37/60\n",
            "19/19 [==============================] - 0s 5ms/step - loss: 0.2667 - accuracy: 0.9443 - val_loss: 0.3116 - val_accuracy: 0.9259\n",
            "Epoch 38/60\n",
            "19/19 [==============================] - 0s 5ms/step - loss: 0.2583 - accuracy: 0.9435 - val_loss: 0.3039 - val_accuracy: 0.9276\n",
            "Epoch 39/60\n",
            "19/19 [==============================] - 0s 5ms/step - loss: 0.2503 - accuracy: 0.9493 - val_loss: 0.2957 - val_accuracy: 0.9276\n",
            "Epoch 40/60\n",
            "19/19 [==============================] - 0s 5ms/step - loss: 0.2437 - accuracy: 0.9493 - val_loss: 0.2882 - val_accuracy: 0.9276\n",
            "Epoch 41/60\n",
            "19/19 [==============================] - 0s 5ms/step - loss: 0.2360 - accuracy: 0.9510 - val_loss: 0.2817 - val_accuracy: 0.9293\n",
            "Epoch 42/60\n",
            "19/19 [==============================] - 0s 6ms/step - loss: 0.2301 - accuracy: 0.9510 - val_loss: 0.2754 - val_accuracy: 0.9343\n",
            "Epoch 43/60\n",
            "19/19 [==============================] - 0s 5ms/step - loss: 0.2238 - accuracy: 0.9559 - val_loss: 0.2680 - val_accuracy: 0.9327\n",
            "Epoch 44/60\n",
            "19/19 [==============================] - 0s 5ms/step - loss: 0.2177 - accuracy: 0.9559 - val_loss: 0.2628 - val_accuracy: 0.9360\n",
            "Epoch 45/60\n",
            "19/19 [==============================] - 0s 5ms/step - loss: 0.2121 - accuracy: 0.9559 - val_loss: 0.2576 - val_accuracy: 0.9360\n",
            "Epoch 46/60\n",
            "19/19 [==============================] - 0s 5ms/step - loss: 0.2068 - accuracy: 0.9584 - val_loss: 0.2522 - val_accuracy: 0.9360\n",
            "Epoch 47/60\n",
            "19/19 [==============================] - 0s 5ms/step - loss: 0.2020 - accuracy: 0.9584 - val_loss: 0.2472 - val_accuracy: 0.9377\n",
            "Epoch 48/60\n",
            "19/19 [==============================] - 0s 5ms/step - loss: 0.1976 - accuracy: 0.9576 - val_loss: 0.2426 - val_accuracy: 0.9360\n",
            "Epoch 49/60\n",
            "19/19 [==============================] - 0s 5ms/step - loss: 0.1922 - accuracy: 0.9609 - val_loss: 0.2381 - val_accuracy: 0.9394\n",
            "Epoch 50/60\n",
            "19/19 [==============================] - 0s 5ms/step - loss: 0.1883 - accuracy: 0.9609 - val_loss: 0.2340 - val_accuracy: 0.9428\n",
            "Epoch 51/60\n",
            "19/19 [==============================] - 0s 6ms/step - loss: 0.1841 - accuracy: 0.9626 - val_loss: 0.2298 - val_accuracy: 0.9394\n",
            "Epoch 52/60\n",
            "19/19 [==============================] - 0s 5ms/step - loss: 0.1799 - accuracy: 0.9618 - val_loss: 0.2260 - val_accuracy: 0.9394\n",
            "Epoch 53/60\n",
            "19/19 [==============================] - 0s 5ms/step - loss: 0.1761 - accuracy: 0.9634 - val_loss: 0.2220 - val_accuracy: 0.9411\n",
            "Epoch 54/60\n",
            "19/19 [==============================] - 0s 5ms/step - loss: 0.1722 - accuracy: 0.9634 - val_loss: 0.2189 - val_accuracy: 0.9394\n",
            "Epoch 55/60\n",
            "19/19 [==============================] - 0s 5ms/step - loss: 0.1686 - accuracy: 0.9651 - val_loss: 0.2156 - val_accuracy: 0.9478\n",
            "Epoch 56/60\n",
            "19/19 [==============================] - 0s 5ms/step - loss: 0.1655 - accuracy: 0.9634 - val_loss: 0.2124 - val_accuracy: 0.9428\n",
            "Epoch 57/60\n",
            "19/19 [==============================] - 0s 6ms/step - loss: 0.1623 - accuracy: 0.9667 - val_loss: 0.2093 - val_accuracy: 0.9428\n",
            "Epoch 58/60\n",
            "19/19 [==============================] - 0s 5ms/step - loss: 0.1589 - accuracy: 0.9684 - val_loss: 0.2067 - val_accuracy: 0.9461\n",
            "Epoch 59/60\n",
            "19/19 [==============================] - 0s 5ms/step - loss: 0.1562 - accuracy: 0.9692 - val_loss: 0.2034 - val_accuracy: 0.9495\n",
            "Epoch 60/60\n",
            "19/19 [==============================] - 0s 5ms/step - loss: 0.1530 - accuracy: 0.9676 - val_loss: 0.2012 - val_accuracy: 0.9478\n"
          ],
          "name": "stdout"
        }
      ]
    },
    {
      "cell_type": "markdown",
      "metadata": {
        "colab_type": "text",
        "id": "WNUBubrsi1fX"
      },
      "source": [
        "At each epoch during training, processing time is displayed. Training loss (loss), training accuracy (accuracy), test loss (val_loss), and test accuracy (val_accuracy) are also displayed."
      ]
    },
    {
      "cell_type": "markdown",
      "metadata": {
        "id": "8U-SMSAGkFtg",
        "colab_type": "text"
      },
      "source": [
        "# Generalize on Test Data\n",
        "\n"
      ]
    },
    {
      "cell_type": "code",
      "metadata": {
        "id": "Rju-MIimkFzo",
        "colab_type": "code",
        "outputId": "0082add5-e4e8-4d29-883a-ffdb55c6d4fe",
        "colab": {
          "base_uri": "https://localhost:8080/",
          "height": 51
        }
      },
      "source": [
        "model.evaluate(test_ds)"
      ],
      "execution_count": 29,
      "outputs": [
        {
          "output_type": "stream",
          "text": [
            "10/10 [==============================] - 0s 3ms/step - loss: 0.2012 - accuracy: 0.9478\n"
          ],
          "name": "stdout"
        },
        {
          "output_type": "execute_result",
          "data": {
            "text/plain": [
              "[0.20121537148952484, 0.9478114247322083]"
            ]
          },
          "metadata": {
            "tags": []
          },
          "execution_count": 29
        }
      ]
    },
    {
      "cell_type": "markdown",
      "metadata": {
        "colab_type": "text",
        "id": "JvzGgcnAKCTC"
      },
      "source": [
        "# Model History\n",
        "\n",
        "The **fit()** method automatically keeps a record of the loss and metric values during training. To access this record, we assigned training results to variable **history**.\n",
        "\n"
      ]
    },
    {
      "cell_type": "code",
      "metadata": {
        "id": "YIWnRzg-U4EJ",
        "colab_type": "code",
        "colab": {}
      },
      "source": [
        "# The returned \"history\" object holds a record\n",
        "# of the loss values and metric values during training\n",
        "\n",
        "# history.history contains the training record\n",
        "\n",
        "history_dict = history.history"
      ],
      "execution_count": 0,
      "outputs": []
    },
    {
      "cell_type": "code",
      "metadata": {
        "id": "_XxIWSdQU4HB",
        "colab_type": "code",
        "outputId": "a5cf23c2-06d0-4b60-99e9-4f8c5ac70b2e",
        "colab": {
          "base_uri": "https://localhost:8080/",
          "height": 51
        }
      },
      "source": [
        "# display list of keys\n",
        "\n",
        "keys = history_dict.keys()\n",
        "print ('keys:', keys, br)"
      ],
      "execution_count": 31,
      "outputs": [
        {
          "output_type": "stream",
          "text": [
            "keys: dict_keys(['loss', 'accuracy', 'val_loss', 'val_accuracy']) \n",
            "\n"
          ],
          "name": "stdout"
        }
      ]
    },
    {
      "cell_type": "code",
      "metadata": {
        "id": "_-itO2shWLJx",
        "colab_type": "code",
        "colab": {}
      },
      "source": [
        "# find final loss and accuracy\n",
        "\n",
        "length = len(history_dict['loss']) - 1  # subract 1 because index starts at 0"
      ],
      "execution_count": 0,
      "outputs": []
    },
    {
      "cell_type": "code",
      "metadata": {
        "colab_type": "code",
        "id": "wSNW1dRFKBI0",
        "outputId": "5f7fb775-42a7-4481-bd4a-12d9a2a61089",
        "colab": {
          "base_uri": "https://localhost:8080/",
          "height": 102
        }
      },
      "source": [
        "final_loss = history_dict['loss'][length]\n",
        "final_loss_val = history_dict['val_loss'][length]\n",
        "final_acc = history_dict['accuracy'][length]\n",
        "final_acc_val = history_dict['val_accuracy'][length]\n",
        "print ('final loss (train/test):')\n",
        "print (final_loss, final_loss_val, br)\n",
        "print ('final accuracy (train/test):')\n",
        "print (final_acc, final_acc_val)"
      ],
      "execution_count": 33,
      "outputs": [
        {
          "output_type": "stream",
          "text": [
            "final loss (train/test):\n",
            "0.1530088186264038 0.20121537148952484 \n",
            "\n",
            "final accuracy (train/test):\n",
            "0.967581033706665 0.9478114247322083\n"
          ],
          "name": "stdout"
        }
      ]
    },
    {
      "cell_type": "markdown",
      "metadata": {
        "colab_type": "text",
        "id": "lDJplFk5PQ5A"
      },
      "source": [
        "Let's visualize training results:"
      ]
    },
    {
      "cell_type": "code",
      "metadata": {
        "colab_type": "code",
        "id": "qgfQfTizPVWG",
        "outputId": "d06bc739-310a-4d02-bd1a-2a5b9bd29fd5",
        "colab": {
          "base_uri": "https://localhost:8080/",
          "height": 1000
        }
      },
      "source": [
        "import matplotlib.pyplot as plt\n",
        "\n",
        "acc = history_dict['accuracy']\n",
        "val_acc = history_dict['val_accuracy']\n",
        "loss = history_dict['loss']\n",
        "val_loss = history_dict['val_loss']\n",
        "\n",
        "epochs = range(1, len(acc) + 1)\n",
        "\n",
        "plt.figure(figsize=(12,9))\n",
        "plt.plot(epochs, loss, 'bo', label='Training loss')\n",
        "plt.plot(epochs, val_loss, 'b', label='Validation loss')\n",
        "plt.title('Training and validation loss')\n",
        "plt.xlabel('Epochs')\n",
        "plt.ylabel('Loss')\n",
        "plt.legend()\n",
        "plt.show()\n",
        "\n",
        "# clear previous figure\n",
        "\n",
        "plt.clf()\n",
        "\n",
        "plt.figure(figsize=(12,9))\n",
        "plt.plot(epochs, acc, 'bo', label='Training acc')\n",
        "plt.plot(epochs, val_acc, 'b', label='Validation acc')\n",
        "plt.title('Training and validation accuracy')\n",
        "plt.xlabel('Epochs')\n",
        "plt.ylabel('Accuracy')\n",
        "plt.legend(loc='lower right')\n",
        "plt.ylim((0.5,1))\n",
        "plt.show()"
      ],
      "execution_count": 34,
      "outputs": [
        {
          "output_type": "display_data",
          "data": {
            "image/png": "[encoded data removed]",
            "text/plain": [
              "<Figure size 864x648 with 1 Axes>"
            ]
          },
          "metadata": {
            "tags": [],
            "needs_background": "light"
          }
        },
        {
          "output_type": "display_data",
          "data": {
            "text/plain": [
              "<Figure size 432x288 with 0 Axes>"
            ]
          },
          "metadata": {
            "tags": []
          }
        },
        {
          "output_type": "display_data",
          "data": {
            "image/png": "[encoded data removed]",
            "text/plain": [
              "<Figure size 864x648 with 1 Axes>"
            ]
          },
          "metadata": {
            "tags": [],
            "needs_background": "light"
          }
        }
      ]
    },
    {
      "cell_type": "markdown",
      "metadata": {
        "colab_type": "text",
        "id": "ngtUbuM3Pjx9"
      },
      "source": [
        "Our model is **overfitting** the data because training accuracy is higher than test (validation) accuracy. The visualization is very useful because we can see where the training and validation (or test) accuracy converge or diverge. To be able to generalize our model so that it works with new data, we want the training and test accuracy to be as closely aligned as possible."
      ]
    },
    {
      "cell_type": "markdown",
      "metadata": {
        "colab_type": "text",
        "id": "daiWVnQIQfRK"
      },
      "source": [
        "Earlier, we calculated test accuracy from the history of training. Now, let's use the **evaluate()** method to do the same:"
      ]
    },
    {
      "cell_type": "code",
      "metadata": {
        "colab_type": "code",
        "id": "gFl9faBzQfqo",
        "outputId": "84877553-6513-4832-eb3f-244e11042c88",
        "colab": {
          "base_uri": "https://localhost:8080/",
          "height": 68
        }
      },
      "source": [
        "test_loss, test_acc = model.evaluate(test_ds)\n",
        "\n",
        "print('\\nTest accuracy:', test_acc)"
      ],
      "execution_count": 35,
      "outputs": [
        {
          "output_type": "stream",
          "text": [
            "10/10 [==============================] - 0s 3ms/step - loss: 0.2012 - accuracy: 0.9478\n",
            "\n",
            "Test accuracy: 0.9478114247322083\n"
          ],
          "name": "stdout"
        }
      ]
    },
    {
      "cell_type": "markdown",
      "metadata": {
        "colab_type": "text",
        "id": "DxMrbaqdQx5O"
      },
      "source": [
        "# Predictions\n",
        "\n",
        "We can also make predictions by using the **predict()** method on the test data: \n"
      ]
    },
    {
      "cell_type": "code",
      "metadata": {
        "colab_type": "code",
        "id": "4zGlzXODQ4OJ",
        "colab": {}
      },
      "source": [
        "predictions = model.predict(test_ds)"
      ],
      "execution_count": 0,
      "outputs": []
    },
    {
      "cell_type": "markdown",
      "metadata": {
        "colab_type": "text",
        "id": "LyT-baISREPq"
      },
      "source": [
        "The **predictions** variable holds all of the predictions based on the **test_ds**. Each prediction is represented by an array of values that  provide a set of probabilities based on the predict method. Let's look at the first prediction (at index 0):"
      ]
    },
    {
      "cell_type": "code",
      "metadata": {
        "colab_type": "code",
        "id": "hFahL2AJRKpS",
        "outputId": "bf686f3a-8c7d-48bd-914b-cfebac22b2dd",
        "colab": {
          "base_uri": "https://localhost:8080/",
          "height": 68
        }
      },
      "source": [
        "predictions[0]  # start at index 0 to predict 1st image from the test dataset"
      ],
      "execution_count": 37,
      "outputs": [
        {
          "output_type": "execute_result",
          "data": {
            "text/plain": [
              "array([4.3952805e-06, 7.5141492e-04, 9.9335301e-01, 4.0680692e-03,\n",
              "       5.0157132e-07, 7.9527206e-05, 1.8818246e-06, 2.1258750e-04,\n",
              "       1.4357164e-03, 9.2841074e-05], dtype=float32)"
            ]
          },
          "metadata": {
            "tags": []
          },
          "execution_count": 37
        }
      ]
    },
    {
      "cell_type": "markdown",
      "metadata": {
        "colab_type": "text",
        "id": "4IY8TEvaqFXH"
      },
      "source": [
        "It's difficult to identify the prediction from the float numbers, so let's make it easier to see:"
      ]
    },
    {
      "cell_type": "code",
      "metadata": {
        "colab_type": "code",
        "id": "RQotJJQdqTUe",
        "outputId": "7ce8cbcb-d371-47a8-c712-0bb284c11e35",
        "colab": {
          "base_uri": "https://localhost:8080/",
          "height": 51
        }
      },
      "source": [
        "predictions[0].round(2)"
      ],
      "execution_count": 38,
      "outputs": [
        {
          "output_type": "execute_result",
          "data": {
            "text/plain": [
              "array([0.  , 0.  , 0.99, 0.  , 0.  , 0.  , 0.  , 0.  , 0.  , 0.  ],\n",
              "      dtype=float32)"
            ]
          },
          "metadata": {
            "tags": []
          },
          "execution_count": 38
        }
      ]
    },
    {
      "cell_type": "markdown",
      "metadata": {
        "colab_type": "text",
        "id": "Pdzx8b02qaWA"
      },
      "source": [
        "So, we know from from the array that the prediction is digit '2' because the '0.99' is located at the third position! Remember that we are predicting digits 0-9. That is, digit '0' is at the first position, digit '1' is at the second position, digit '2' is at the third position and so on."
      ]
    },
    {
      "cell_type": "markdown",
      "metadata": {
        "colab_type": "text",
        "id": "dw2MgPrlROxd"
      },
      "source": [
        "We use the following algorithm to elicit the confidence in the prediction:"
      ]
    },
    {
      "cell_type": "code",
      "metadata": {
        "colab_type": "code",
        "id": "bpQuTkysR0xH",
        "outputId": "89ac0110-f571-41f5-9e78-baaea808bb11",
        "colab": {
          "base_uri": "https://localhost:8080/",
          "height": 34
        }
      },
      "source": [
        "import numpy as np\n",
        "\n",
        "confidence = 100*np.max(predictions[0])\n",
        "print (str(np.round(confidence, 2)) + '%')"
      ],
      "execution_count": 39,
      "outputs": [
        {
          "output_type": "stream",
          "text": [
            "99.34%\n"
          ],
          "name": "stdout"
        }
      ]
    },
    {
      "cell_type": "markdown",
      "metadata": {
        "colab_type": "text",
        "id": "SsTwi1npR59n"
      },
      "source": [
        "The following algorithm formally predicts the digit based on the first image in the test dataset:"
      ]
    },
    {
      "cell_type": "code",
      "metadata": {
        "colab_type": "code",
        "id": "BBz-xw3tSUwo",
        "outputId": "a9eae8af-3aac-4f19-9e3e-a872316b7426",
        "colab": {
          "base_uri": "https://localhost:8080/",
          "height": 34
        }
      },
      "source": [
        "first_pred = np.argmax(predictions[0]) # start at index 0\n",
        "print ('predicted:', first_pred)"
      ],
      "execution_count": 40,
      "outputs": [
        {
          "output_type": "stream",
          "text": [
            "predicted: 2\n"
          ],
          "name": "stdout"
        }
      ]
    },
    {
      "cell_type": "markdown",
      "metadata": {
        "colab_type": "text",
        "id": "dIqliRAVThYf"
      },
      "source": [
        "So, we predict that the digit is **2** based on the first image in the test dataset. Were we correct? We can find out by displaying the first image from the target data:"
      ]
    },
    {
      "cell_type": "code",
      "metadata": {
        "colab_type": "code",
        "id": "dJeD6wHbVCpZ",
        "outputId": "5f502739-aa70-4436-8d32-c9e168a7e36b",
        "colab": {
          "base_uri": "https://localhost:8080/",
          "height": 34
        }
      },
      "source": [
        "print ('actual:', y_test[0])"
      ],
      "execution_count": 41,
      "outputs": [
        {
          "output_type": "stream",
          "text": [
            "actual: 2\n"
          ],
          "name": "stdout"
        }
      ]
    },
    {
      "cell_type": "markdown",
      "metadata": {
        "colab_type": "text",
        "id": "ztQ-NW44Vdoq"
      },
      "source": [
        "We just verified that our prediction was correct. Now, let's make predictions based on the first five images in our test dataset. We begin by displaying the first five predictions. We continue by displaying the confidence we have in each prediction:"
      ]
    },
    {
      "cell_type": "code",
      "metadata": {
        "colab_type": "code",
        "id": "-rTfIj9jVt1M",
        "outputId": "a618b6b0-abbc-4ff2-c5bb-71373f1cf3cb",
        "colab": {
          "base_uri": "https://localhost:8080/",
          "height": 170
        }
      },
      "source": [
        "# first five predictions based on test data:\n",
        "\n",
        "print ('first five preditions:', end=' ')\n",
        "\n",
        "p5 = []\n",
        "for i in range(5):\n",
        "  p = predictions[i]\n",
        "  v = np.max(p)\n",
        "  p5.append(p.tolist().index(v))\n",
        "\n",
        "print (p5)  \n",
        "\n",
        "# confidence in first five predictions:\n",
        "\n",
        "print ()\n",
        "print ('Confidence in our predictions:', br)\n",
        "\n",
        "c = []\n",
        "for i in range(5):\n",
        "  conf = str(round(100*np.max(predictions[i]), 2))\n",
        "  c.append(conf)  \n",
        "  print (conf + '% for prediction:', p5[i])\n"
      ],
      "execution_count": 42,
      "outputs": [
        {
          "output_type": "stream",
          "text": [
            "first five preditions: [2, 8, 2, 6, 6]\n",
            "\n",
            "Confidence in our predictions: \n",
            "\n",
            "99.34% for prediction: 2\n",
            "91.1% for prediction: 8\n",
            "99.8% for prediction: 2\n",
            "98.51% for prediction: 6\n",
            "98.06% for prediction: 6\n"
          ],
          "name": "stdout"
        }
      ]
    },
    {
      "cell_type": "markdown",
      "metadata": {
        "colab_type": "text",
        "id": "zWBYI_36WEss"
      },
      "source": [
        "We continue by comparing our predictions with the actual target values. We also display the confidence we have with each prediction and the actual target images:"
      ]
    },
    {
      "cell_type": "code",
      "metadata": {
        "colab_type": "code",
        "id": "cYaxaBwFWILK",
        "outputId": "168ff4e7-79fa-42b3-9b5f-aaaf56e08459",
        "colab": {
          "base_uri": "https://localhost:8080/",
          "height": 1000
        }
      },
      "source": [
        "# first five predictions from test data\n",
        "\n",
        "prediction_5 = [np.argmax(predictions[i])\\\n",
        "                for i, row in enumerate(p5)]\n",
        "\n",
        "# display predicted digits, actual digits, confidences and images\n",
        "\n",
        "for i, row in enumerate(prediction_5):\n",
        "  print ('predicted:', target_names[row])\n",
        "  print ('actual:', target_names[y_test[i]])\n",
        "  print (str(c[i]) + '%')\n",
        "  fig, ax = plt.subplots()\n",
        "  image = ax.imshow(X_test[i], cmap='bone')\n",
        "  plt.title(target_names[y_test[i]])\n",
        "  plt.show()\n",
        "  print (br)"
      ],
      "execution_count": 43,
      "outputs": [
        {
          "output_type": "stream",
          "text": [
            "predicted: 2\n",
            "actual: 2\n",
            "99.34%\n"
          ],
          "name": "stdout"
        },
        {
          "output_type": "display_data",
          "data": {
            "image/png": "[encoded data removed]",
            "text/plain": [
              "<Figure size 432x288 with 1 Axes>"
            ]
          },
          "metadata": {
            "tags": [],
            "needs_background": "light"
          }
        },
        {
          "output_type": "stream",
          "text": [
            "\n",
            "\n",
            "predicted: 8\n",
            "actual: 8\n",
            "91.1%\n"
          ],
          "name": "stdout"
        },
        {
          "output_type": "display_data",
          "data": {
            "image/png": "[encoded data removed]",
            "text/plain": [
              "<Figure size 432x288 with 1 Axes>"
            ]
          },
          "metadata": {
            "tags": [],
            "needs_background": "light"
          }
        },
        {
          "output_type": "stream",
          "text": [
            "\n",
            "\n",
            "predicted: 2\n",
            "actual: 2\n",
            "99.8%\n"
          ],
          "name": "stdout"
        },
        {
          "output_type": "display_data",
          "data": {
            "image/png": "[encoded data removed]",
            "text/plain": [
              "<Figure size 432x288 with 1 Axes>"
            ]
          },
          "metadata": {
            "tags": [],
            "needs_background": "light"
          }
        },
        {
          "output_type": "stream",
          "text": [
            "\n",
            "\n",
            "predicted: 6\n",
            "actual: 6\n",
            "98.51%\n"
          ],
          "name": "stdout"
        },
        {
          "output_type": "display_data",
          "data": {
            "image/png": "[encoded data removed]",
            "text/plain": [
              "<Figure size 432x288 with 1 Axes>"
            ]
          },
          "metadata": {
            "tags": [],
            "needs_background": "light"
          }
        },
        {
          "output_type": "stream",
          "text": [
            "\n",
            "\n",
            "predicted: 6\n",
            "actual: 6\n",
            "98.06%\n"
          ],
          "name": "stdout"
        },
        {
          "output_type": "display_data",
          "data": {
            "image/png": "[encoded data removed]",
            "text/plain": [
              "<Figure size 432x288 with 1 Axes>"
            ]
          },
          "metadata": {
            "tags": [],
            "needs_background": "light"
          }
        },
        {
          "output_type": "stream",
          "text": [
            "\n",
            "\n"
          ],
          "name": "stdout"
        }
      ]
    },
    {
      "cell_type": "markdown",
      "metadata": {
        "colab_type": "text",
        "id": "nWr6DWKDe-HV"
      },
      "source": [
        "# Mount Google Drive to Display an Image\n",
        "\n",
        "Now, we will show you how to display an image in Google Colab:\n",
        "\n",
        "1. install Pillow module\n",
        "2. mount the Google Drive\n",
        "3. point to the image"
      ]
    },
    {
      "cell_type": "code",
      "metadata": {
        "colab_type": "code",
        "id": "8nmvVdGvffW9",
        "outputId": "87b77c18-9b5c-4443-faf2-45315efbed20",
        "colab": {
          "base_uri": "https://localhost:8080/",
          "height": 34
        }
      },
      "source": [
        "!pip install Pillow"
      ],
      "execution_count": 44,
      "outputs": [
        {
          "output_type": "stream",
          "text": [
            "Requirement already satisfied: Pillow in /usr/local/lib/python3.6/dist-packages (7.0.0)\n"
          ],
          "name": "stdout"
        }
      ]
    },
    {
      "cell_type": "markdown",
      "metadata": {
        "colab_type": "text",
        "id": "FF_xUBG2gpZQ"
      },
      "source": [
        "To mount the drive, click on the link, go to your google account, copy the authorization code, paste it, and click 'Enter':"
      ]
    },
    {
      "cell_type": "code",
      "metadata": {
        "colab_type": "code",
        "id": "gncY2JjwgamR",
        "outputId": "fdebee51-68ca-473f-e991-c7b1cc63bfe5",
        "colab": {
          "base_uri": "https://localhost:8080/",
          "height": 122
        }
      },
      "source": [
        "from google.colab import drive\n",
        "drive.mount('/content/gdrive')"
      ],
      "execution_count": 45,
      "outputs": [
        {
          "output_type": "stream",
          "text": [
            "Go to this URL in a browser: https://accounts.google.com/o/oauth2/auth?client_id=947318989803-6bn6qk8qdgf4n4g3pfee6491hc0brc4i.apps.googleusercontent.com&redirect_uri=urn%3aietf%3awg%3aoauth%3a2.0%3aoob&response_type=code&scope=email%20https%3a%2f%2fwww.googleapis.com%2fauth%2fdocs.test%20https%3a%2f%2fwww.googleapis.com%2fauth%2fdrive%20https%3a%2f%2fwww.googleapis.com%2fauth%2fdrive.photos.readonly%20https%3a%2f%2fwww.googleapis.com%2fauth%2fpeopleapi.readonly\n",
            "\n",
            "Enter your authorization code:\n",
            "··········\n",
            "Mounted at /content/gdrive\n"
          ],
          "name": "stdout"
        }
      ]
    },
    {
      "cell_type": "markdown",
      "metadata": {
        "colab_type": "text",
        "id": "gbLDW6iIg9Mp"
      },
      "source": [
        "Point to the image and display it. The image is included on our GitHub site for the book. But, you can use any image you wish. Be sure to copy the image to the directory on your **Google Drive** account that is assigned to the variable **img_path** in the following code snippet:"
      ]
    },
    {
      "cell_type": "code",
      "metadata": {
        "colab_type": "code",
        "id": "4rRLa1Vrg9WZ",
        "outputId": "96e35a2b-8910-4ca3-f5ae-ae214fdc13c9",
        "colab": {
          "base_uri": "https://localhost:8080/",
          "height": 269
        }
      },
      "source": [
        "# Be sure to copy the image to this directory on Google Drive\n",
        "\n",
        "img_path = 'gdrive/My Drive/Colab Notebooks/simple_nn_6.png'\n",
        "\n",
        "from PIL import Image\n",
        "import matplotlib.pyplot as plt\n",
        "img  = Image.open(img_path)\n",
        "plt.imshow(img)"
      ],
      "execution_count": 46,
      "outputs": [
        {
          "output_type": "execute_result",
          "data": {
            "text/plain": [
              "<matplotlib.image.AxesImage at 0x7f4c2151fb00>"
            ]
          },
          "metadata": {
            "tags": []
          },
          "execution_count": 46
        },
        {
          "output_type": "display_data",
          "data": {
            "image/png": "[encoded data removed]",
            "text/plain": [
              "<Figure size 432x288 with 1 Axes>"
            ]
          },
          "metadata": {
            "tags": [],
            "needs_background": "light"
          }
        }
      ]
    }
  ]
}