{
  "nbformat": 4,
  "nbformat_minor": 0,
  "metadata": {
    "accelerator": "GPU",
    "colab": {
      "name": "ch5.ipynb",
      "provenance": [],
      "collapsed_sections": []
    },
    "kernelspec": {
      "display_name": "Python 3",
      "language": "python",
      "name": "python3"
    },
    "language_info": {
      "codemirror_mode": {
        "name": "ipython",
        "version": 3
      },
      "file_extension": ".py",
      "mimetype": "text/x-python",
      "name": "python",
      "nbconvert_exporter": "python",
      "pygments_lexer": "ipython3",
      "version": "3.7.3"
    }
  },
  "cells": [
    {
      "cell_type": "markdown",
      "metadata": {
        "colab_type": "text",
        "id": "MmHHkv6nyW_d"
      },
      "source": [
        "# Classification\n",
        "\n",
        "**Classification** is the problem of predicting the class of given data points. Classes are also called targets, labels or categories. Classification is applied by training a classifier algorithm on training data to predict how new data is classified.\n",
        "\n",
        "Actually, the first neural net model that we created in chapter 2 was a classification model. This model was used to classify digits 0-9 from the simple **load_digits** dataset. We modeled the **MNIST** dataset in chapter 3,  which is also a classification model. This model was also used to classify digits 0-9, but the data images are much more complex than load_digits and MNIST contains significantly more data.\n",
        "\n",
        "So, we've already introduced classification at a superficial level. However, in this chapter, we build more sophisticated models based on more complex datasets."
      ]
    },
    {
      "cell_type": "markdown",
      "metadata": {
        "colab_type": "text",
        "id": "9N9TDGiFvMxI"
      },
      "source": [
        "Set up the GPU for this notebook by clicking on the **Runtime** tab, clicking on **Change runtime type** from the drop-down menu, choosing **GPU** from the *Hardware Accelerator* drop-down menu, and clicking **Save**.\n",
        "\n",
        "Display TensorFlow version and enable GPU:"
      ]
    },
    {
      "cell_type": "code",
      "metadata": {
        "colab_type": "code",
        "id": "zfs8Nc0wu1SJ",
        "colab": {
          "base_uri": "https://localhost:8080/",
          "height": 34
        },
        "outputId": "5f83895d-1da6-4a19-96ad-ff0a3d6322e4"
      },
      "source": [
        "import tensorflow as tf\n",
        "\n",
        "# display tf version and test if GPU is active\n",
        "\n",
        "tf.__version__, tf.test.gpu_device_name()"
      ],
      "execution_count": 1,
      "outputs": [
        {
          "output_type": "execute_result",
          "data": {
            "text/plain": [
              "('2.2.0', '/device:GPU:0')"
            ]
          },
          "metadata": {
            "tags": []
          },
          "execution_count": 1
        }
      ]
    },
    {
      "cell_type": "markdown",
      "metadata": {
        "colab_type": "text",
        "id": "WQjIlVlBB41e"
      },
      "source": [
        "# Fashion-MNIST Dataset\n",
        "\n",
        "**Fashion-MNIST** is a dataset of Zalando Research article images consisting of a training set of 60,000 examples and a test set of 10,000 examples. Each example is a 28×28 grayscale image associated with a label from 10 classes. Fashion-MNIST is intended to serve as a direct drop-in replacement of the original MNIST dataset for benchmarking machine learning algorithms.\n",
        "\n",
        "Fashion-MNIST is a good alternative to MNIST because MNIST is too easy to classify. That is, most pairs of MNIST digits can be distinguished pretty well by just a few pixels. Also, MNIST is overused. Many data scientists believe that we should start benchmarking with a more difficult dataset.\n",
        "\n",
        "Zalando Research is an organization that utilizes an agile design process that combines invaluable human experience with the power of Machine Learning. Zalando concentrates on exploring novel ways to use generative models in fashion design for rapid visualizations and prototyping."
      ]
    },
    {
      "cell_type": "markdown",
      "metadata": {
        "colab_type": "text",
        "id": "GO8kzfEq4W8o"
      },
      "source": [
        "## Load Fashion-MNIST\n",
        "\n",
        "Since Fashion-MNIST is a **tfds.data.Dataset**, we can easily load it with **tfds.load()**. To get a list of all tfds datasets, just run the **tfds.list_builders()** method as demonstrated in chapter 3.\n",
        "\n",
        "Load train and test examples as a tf.data.Dataset:"
      ]
    },
    {
      "cell_type": "code",
      "metadata": {
        "colab_type": "code",
        "id": "g1f8DxEI-chD",
        "colab": {}
      },
      "source": [
        "import tensorflow_datasets as tfds\n",
        "\n",
        "train, info = tfds.load('fashion_mnist', split='train',\n",
        "                        with_info=True, shuffle_files=True)\n",
        "test = tfds.load('fashion_mnist', split='test')"
      ],
      "execution_count": 2,
      "outputs": []
    },
    {
      "cell_type": "markdown",
      "metadata": {
        "colab_type": "text",
        "id": "IBcz0rKXbv2Q"
      },
      "source": [
        "Since we already have *info* from the train data, we don't need it again for the test data."
      ]
    },
    {
      "cell_type": "markdown",
      "metadata": {
        "colab_type": "text",
        "id": "uxvybpdAU6PF"
      },
      "source": [
        "Let's verify that both train and test data are tensors and get their shape:"
      ]
    },
    {
      "cell_type": "code",
      "metadata": {
        "colab_type": "code",
        "id": "lAdYNKobU1xH",
        "colab": {
          "base_uri": "https://localhost:8080/",
          "height": 85
        },
        "outputId": "703421f6-2ec3-4035-d1f9-19ffb60de99d"
      },
      "source": [
        "train.element_spec, test.element_spec"
      ],
      "execution_count": 3,
      "outputs": [
        {
          "output_type": "execute_result",
          "data": {
            "text/plain": [
              "({'image': TensorSpec(shape=(28, 28, 1), dtype=tf.uint8, name=None),\n",
              "  'label': TensorSpec(shape=(), dtype=tf.int64, name=None)},\n",
              " {'image': TensorSpec(shape=(28, 28, 1), dtype=tf.uint8, name=None),\n",
              "  'label': TensorSpec(shape=(), dtype=tf.int64, name=None)})"
            ]
          },
          "metadata": {
            "tags": []
          },
          "execution_count": 3
        }
      ]
    },
    {
      "cell_type": "markdown",
      "metadata": {
        "colab_type": "text",
        "id": "qosYmRR-742D"
      },
      "source": [
        "Notice that the 28 x 28 x 1 shape is 3D. So, each image consists of 28 x 28 pixels. The '1' means that images are grayscale."
      ]
    },
    {
      "cell_type": "markdown",
      "metadata": {
        "colab_type": "text",
        "id": "aM8SgjRqY7c1"
      },
      "source": [
        "## Display Information about the Dataset\n",
        "\n",
        "Let's display information about the dataset:"
      ]
    },
    {
      "cell_type": "code",
      "metadata": {
        "colab_type": "code",
        "id": "hN_xWIPPY2dO",
        "colab": {
          "base_uri": "https://localhost:8080/",
          "height": 598
        },
        "outputId": "2f30f6f0-06b3-441c-c65f-f42255625e12"
      },
      "source": [
        "info"
      ],
      "execution_count": 4,
      "outputs": [
        {
          "output_type": "execute_result",
          "data": {
            "text/plain": [
              "tfds.core.DatasetInfo(\n",
              "    name='fashion_mnist',\n",
              "    version=3.0.0,\n",
              "    description='Fashion-MNIST is a dataset of Zalando's article images consisting of a training set of 60,000 examples and a test set of 10,000 examples. Each example is a 28x28 grayscale image, associated with a label from 10 classes.',\n",
              "    homepage='https://github.com/zalandoresearch/fashion-mnist',\n",
              "    features=FeaturesDict({\n",
              "        'image': Image(shape=(28, 28, 1), dtype=tf.uint8),\n",
              "        'label': ClassLabel(shape=(), dtype=tf.int64, num_classes=10),\n",
              "    }),\n",
              "    total_num_examples=70000,\n",
              "    splits={\n",
              "        'test': 10000,\n",
              "        'train': 60000,\n",
              "    },\n",
              "    supervised_keys=('image', 'label'),\n",
              "    citation=\"\"\"@article{DBLP:journals/corr/abs-1708-07747,\n",
              "      author    = {Han Xiao and\n",
              "                   Kashif Rasul and\n",
              "                   Roland Vollgraf},\n",
              "      title     = {Fashion-MNIST: a Novel Image Dataset for Benchmarking Machine Learning\n",
              "                   Algorithms},\n",
              "      journal   = {CoRR},\n",
              "      volume    = {abs/1708.07747},\n",
              "      year      = {2017},\n",
              "      url       = {http://arxiv.org/abs/1708.07747},\n",
              "      archivePrefix = {arXiv},\n",
              "      eprint    = {1708.07747},\n",
              "      timestamp = {Mon, 13 Aug 2018 16:47:27 +0200},\n",
              "      biburl    = {https://dblp.org/rec/bib/journals/corr/abs-1708-07747},\n",
              "      bibsource = {dblp computer science bibliography, https://dblp.org}\n",
              "    }\"\"\",\n",
              "    redistribution_info=,\n",
              ")"
            ]
          },
          "metadata": {
            "tags": []
          },
          "execution_count": 4
        }
      ]
    },
    {
      "cell_type": "markdown",
      "metadata": {
        "colab_type": "text",
        "id": "GCpblTOy_6fn"
      },
      "source": [
        "Wow! We now have a lot of information about the dataset. We know the name, description, and homepage of the dataset. We also know the shape and datatype of feature images and labels. We know that there are 70,000 examples with train and test set splits of 60,000 and 10,000 respectively. And, there is even more information provided!"
      ]
    },
    {
      "cell_type": "markdown",
      "metadata": {
        "colab_type": "text",
        "id": "E72-EVW2yVds"
      },
      "source": [
        "## Extract Class Labels\n",
        "\n",
        "Let's extract some useful information from the **info** object:"
      ]
    },
    {
      "cell_type": "code",
      "metadata": {
        "colab_type": "code",
        "id": "k34LeSIIxlND",
        "colab": {
          "base_uri": "https://localhost:8080/",
          "height": 68
        },
        "outputId": "e63f6257-122b-49b6-d6d2-d48ba1a7252d"
      },
      "source": [
        "br = '\\n'\n",
        "\n",
        "num_classes = info.features['label'].num_classes\n",
        "class_labels = info.features['label'].names\n",
        "print ('number of classes:', num_classes, br)\n",
        "print ('class labels:', class_labels)"
      ],
      "execution_count": 5,
      "outputs": [
        {
          "output_type": "stream",
          "text": [
            "number of classes: 10 \n",
            "\n",
            "class labels: ['T-shirt/top', 'Trouser', 'Pullover', 'Dress', 'Coat', 'Sandal', 'Shirt', 'Sneaker', 'Bag', 'Ankle boot']\n"
          ],
          "name": "stdout"
        }
      ]
    },
    {
      "cell_type": "markdown",
      "metadata": {
        "colab_type": "text",
        "id": "Urr9PjZ6XfTK"
      },
      "source": [
        "From simple code, we are able to ascertain the number of classes and their corresponding class labels.\n",
        "\n",
        "## Display Samples from the Dataset\n",
        "\n",
        "Now, let's display some examples:"
      ]
    },
    {
      "cell_type": "code",
      "metadata": {
        "colab_type": "code",
        "id": "3ejVja6NXgGZ",
        "colab": {
          "base_uri": "https://localhost:8080/",
          "height": 534
        },
        "outputId": "9ba4e6bb-d30b-44d3-bfa7-6b5aeeafe7ae"
      },
      "source": [
        "fig = tfds.show_examples(info, train)"
      ],
      "execution_count": 6,
      "outputs": [
        {
          "output_type": "display_data",
          "data": {
            "image/png": "[encoded data removed]",
            "text/plain": [
              "<Figure size 648x648 with 9 Axes>"
            ]
          },
          "metadata": {
            "tags": []
          }
        }
      ]
    },
    {
      "cell_type": "markdown",
      "metadata": {
        "colab_type": "text",
        "id": "j2MKZuf0ZdlS"
      },
      "source": [
        "**tfds.show_examples()** allows us to visualize images (and labels) from an image classification dataset. To use this method, we need the dataset and information about the dataset. Since we just created variable *info* with method **info** from tfds.builder, we can show some examples.\n"
      ]
    },
    {
      "cell_type": "markdown",
      "metadata": {
        "colab_type": "text",
        "id": "dcd2OVmEw5b7"
      },
      "source": [
        "## Build a Custom Function to Display Samples\n",
        "\n",
        "Once we have the label names, we can build a custom function to display samples from the train dataset. We can even change colors!"
      ]
    },
    {
      "cell_type": "code",
      "metadata": {
        "colab_type": "code",
        "id": "pFgErHU1aDO-",
        "colab": {}
      },
      "source": [
        "import matplotlib.pyplot as plt, numpy as np\n",
        "\n",
        "def display_samples(data, num, cmap):\n",
        "  for example in data.take(num):\n",
        "    image, label = example['image'], example['label']\n",
        "    print ('Label:', class_labels[label.numpy()], end=', ')\n",
        "    print ('Index:', label.numpy())\n",
        "    plt.imshow(image.numpy()[:, :, 0].astype(np.float32),\n",
        "               cmap=plt.get_cmap(cmap))\n",
        "    plt.show()"
      ],
      "execution_count": 7,
      "outputs": []
    },
    {
      "cell_type": "code",
      "metadata": {
        "id": "MSO9TSwe8UUE",
        "colab_type": "code",
        "colab": {
          "base_uri": "https://localhost:8080/",
          "height": 547
        },
        "outputId": "496f1101-7c63-4686-85df-913d2167733e"
      },
      "source": [
        "# choose colormap by changing 'indx'\n",
        "\n",
        "indx = 5\n",
        "cmap = ['coolwarm', 'viridis', 'plasma',\n",
        "        'seismic', 'copper', 'twilight']\n",
        "samples = 2\n",
        "display_samples(train, samples, cmap[indx])"
      ],
      "execution_count": 8,
      "outputs": [
        {
          "output_type": "stream",
          "text": [
            "Label: Pullover, Index: 2\n"
          ],
          "name": "stdout"
        },
        {
          "output_type": "display_data",
          "data": {
            "image/png": "[encoded data removed]",
            "text/plain": [
              "<Figure size 432x288 with 1 Axes>"
            ]
          },
          "metadata": {
            "tags": [],
            "needs_background": "light"
          }
        },
        {
          "output_type": "stream",
          "text": [
            "Label: Trouser, Index: 1\n"
          ],
          "name": "stdout"
        },
        {
          "output_type": "display_data",
          "data": {
            "image/png": "[encoded data removed]",
            "text/plain": [
              "<Figure size 432x288 with 1 Axes>"
            ]
          },
          "metadata": {
            "tags": [],
            "needs_background": "light"
          }
        }
      ]
    },
    {
      "cell_type": "markdown",
      "metadata": {
        "id": "q_fnvXc7EpMA",
        "colab_type": "text"
      },
      "source": [
        "## Build a Custom Function to Display a Grid"
      ]
    },
    {
      "cell_type": "markdown",
      "metadata": {
        "id": "ztroViUp-6gh",
        "colab_type": "text"
      },
      "source": [
        "Take 30 samples from the train set:"
      ]
    },
    {
      "cell_type": "code",
      "metadata": {
        "id": "GOUb43z4-6pV",
        "colab_type": "code",
        "colab": {}
      },
      "source": [
        "num = 30\n",
        "images, labels = [], []\n",
        "for example in train.take(num):\n",
        "  image, label = example['image'], example['label']\n",
        "  images.append(tf.squeeze(image.numpy()))\n",
        "  labels.append(tf.squeeze(label.numpy()))"
      ],
      "execution_count": 17,
      "outputs": []
    },
    {
      "cell_type": "markdown",
      "metadata": {
        "id": "cxoTOqCjFW3h",
        "colab_type": "text"
      },
      "source": [
        "To enable image plotting, we must remove (or squeeze) the 1 dimension from the image matrix."
      ]
    },
    {
      "cell_type": "markdown",
      "metadata": {
        "id": "DMxL2HtzE8lD",
        "colab_type": "text"
      },
      "source": [
        "Build the function:"
      ]
    },
    {
      "cell_type": "code",
      "metadata": {
        "id": "7RPjHBEyE8qr",
        "colab_type": "code",
        "colab": {}
      },
      "source": [
        "def display_grid(feature, target, n_rows, n_cols, cl):\n",
        "  plt.figure(figsize=(n_cols * 1.5, n_rows * 1.5))\n",
        "  for row in range(n_rows):\n",
        "    for col in range(n_cols):\n",
        "      index = n_cols * row + col\n",
        "      plt.subplot(n_rows, n_cols, index + 1)\n",
        "      plt.imshow(feature[index], cmap='binary',\n",
        "                 interpolation='nearest')\n",
        "      plt.axis('off')\n",
        "      plt.title(cl[target[index]], fontsize=12)\n",
        "  plt.subplots_adjust(wspace=0.2, hspace=0.5)"
      ],
      "execution_count": 18,
      "outputs": []
    },
    {
      "cell_type": "markdown",
      "metadata": {
        "id": "fegcj0bXFDXk",
        "colab_type": "text"
      },
      "source": [
        "Invoke the function:"
      ]
    },
    {
      "cell_type": "code",
      "metadata": {
        "id": "5SD9ikMAFDec",
        "colab_type": "code",
        "colab": {
          "base_uri": "https://localhost:8080/",
          "height": 455
        },
        "outputId": "b9a0b362-69db-4553-8580-84ab21ea39bf"
      },
      "source": [
        "rows = 5\n",
        "cols = 6\n",
        "display_grid(images, labels, rows, cols, class_labels)"
      ],
      "execution_count": 19,
      "outputs": [
        {
          "output_type": "display_data",
          "data": {
            "image/png": "[encoded data removed]",
            "text/plain": [
              "<Figure size 648x540 with 30 Axes>"
            ]
          },
          "metadata": {
            "tags": [],
            "needs_background": "light"
          }
        }
      ]
    },
    {
      "cell_type": "markdown",
      "metadata": {
        "colab_type": "text",
        "id": "5ji6XGnVMjJ6"
      },
      "source": [
        "## Pinpoint Metadata\n",
        "\n",
        "We easily can pinpoint metadata with DatasetInfo as so:"
      ]
    },
    {
      "cell_type": "code",
      "metadata": {
        "colab_type": "code",
        "id": "KJIa053wK6bK",
        "colab": {
          "base_uri": "https://localhost:8080/",
          "height": 51
        },
        "outputId": "d61d4d38-c7b2-42a3-862d-bf452d7e163b"
      },
      "source": [
        "print ('Number of training examples:', end=' ')\n",
        "print (info.splits['train'].num_examples)\n",
        "\n",
        "print ('Number of test examples:', end=' ')\n",
        "print (info.splits['test'].num_examples)"
      ],
      "execution_count": 20,
      "outputs": [
        {
          "output_type": "stream",
          "text": [
            "Number of training examples: 60000\n",
            "Number of test examples: 10000\n"
          ],
          "name": "stdout"
        }
      ]
    },
    {
      "cell_type": "markdown",
      "metadata": {
        "colab_type": "text",
        "id": "LTyIQAnR-twt"
      },
      "source": [
        "## Build the Input Pipeline"
      ]
    },
    {
      "cell_type": "code",
      "metadata": {
        "id": "wDDs0pb3SU4n",
        "colab_type": "code",
        "colab": {}
      },
      "source": [
        "bs = 128\n",
        "ss = 5000\n",
        "\n",
        "train_fs = train.shuffle(ss).batch(bs)\n",
        "train_fs = train_fs.map(lambda items: (\n",
        "    tf.cast(items['image'], tf.float32) / 255., items['label']))\n",
        "train_fs = train_fs.cache().prefetch(1)\n",
        "\n",
        "test_fs = test.batch(bs)\n",
        "test_fs = test_fs.map(lambda items: (\n",
        "    tf.cast(items['image'], tf.float32) / 255., items['label']))\n",
        "test_fs = test_fs.cache().prefetch(1)"
      ],
      "execution_count": 22,
      "outputs": []
    },
    {
      "cell_type": "markdown",
      "metadata": {
        "colab_type": "text",
        "id": "zbj3CeaiUzTZ"
      },
      "source": [
        "We create the rest of the input pipeline by adding shuffling, batching, scaling, caching, and prefetching. Notice how we scale images by mapping with a lambda function. Adding **cache()** increases performance on TFDS because data is read and written only once rather than during each epoch. Adding **prefectch(1)** is a good idea because it adds efficiency to the batching process. That is, while our training algorithm is working on one batch, TensorFlow is working on the dataset in parallel to get the next batch ready. So, prefectch can dramatically improve training performance."
      ]
    },
    {
      "cell_type": "markdown",
      "metadata": {
        "colab_type": "text",
        "id": "EcYrNB-tVHO8"
      },
      "source": [
        "Let's verify that the train and test sets were created correctly:"
      ]
    },
    {
      "cell_type": "code",
      "metadata": {
        "colab_type": "code",
        "id": "UXzYkONtVKsj",
        "colab": {
          "base_uri": "https://localhost:8080/",
          "height": 85
        },
        "outputId": "65fbe3d6-37b4-40f2-b599-bcf1cb3d4f95"
      },
      "source": [
        "train_fs.element_spec, test_fs.element_spec"
      ],
      "execution_count": 23,
      "outputs": [
        {
          "output_type": "execute_result",
          "data": {
            "text/plain": [
              "((TensorSpec(shape=(None, 28, 28, 1), dtype=tf.float32, name=None),\n",
              "  TensorSpec(shape=(None,), dtype=tf.int64, name=None)),\n",
              " (TensorSpec(shape=(None, 28, 28, 1), dtype=tf.float32, name=None),\n",
              "  TensorSpec(shape=(None,), dtype=tf.int64, name=None)))"
            ]
          },
          "metadata": {
            "tags": []
          },
          "execution_count": 23
        }
      ]
    },
    {
      "cell_type": "markdown",
      "metadata": {
        "colab_type": "text",
        "id": "g3R8JhD8Vky3"
      },
      "source": [
        "We can see that the image shapes are 28 x 28 x 1. The 1 value means that the images are grayscale. That is, images are just in black and white."
      ]
    },
    {
      "cell_type": "markdown",
      "metadata": {
        "colab_type": "text",
        "id": "r36CrTSeW3Xc"
      },
      "source": [
        "## Build the Model\n",
        "\n",
        "Let's build a simple neural net model:"
      ]
    },
    {
      "cell_type": "code",
      "metadata": {
        "colab_type": "code",
        "id": "f6YpysRqW3iz",
        "colab": {}
      },
      "source": [
        "from tensorflow.keras.models import Sequential\n",
        "from tensorflow.keras.layers import Dense, Flatten, Dropout\n",
        "from tensorflow import keras\n",
        "\n",
        "# clear previous model and plant a seed\n",
        "\n",
        "keras.backend.clear_session()\n",
        "np.random.seed(0)\n",
        "tf.random.set_seed(0)\n",
        "\n",
        "model = Sequential([\n",
        "  Flatten(input_shape=[28, 28, 1]),\n",
        "  Dense(512, activation='relu'),\n",
        "  Dropout(0.4),\n",
        "  Dense(10, activation='softmax')\n",
        "])"
      ],
      "execution_count": 24,
      "outputs": []
    },
    {
      "cell_type": "markdown",
      "metadata": {
        "colab_type": "text",
        "id": "GZinIsURblh1"
      },
      "source": [
        "## Compile the Model: "
      ]
    },
    {
      "cell_type": "code",
      "metadata": {
        "colab_type": "code",
        "id": "nvA9jXlAadZf",
        "colab": {}
      },
      "source": [
        "model.compile(optimizer='adam',\n",
        "              loss='sparse_categorical_crossentropy',\n",
        "              metrics=['accuracy'])"
      ],
      "execution_count": 25,
      "outputs": []
    },
    {
      "cell_type": "markdown",
      "metadata": {
        "colab_type": "text",
        "id": "c9yzacIQgy0Q"
      },
      "source": [
        "Display summary of the model:"
      ]
    },
    {
      "cell_type": "code",
      "metadata": {
        "colab_type": "code",
        "id": "-QqtPWDvgy76",
        "colab": {
          "base_uri": "https://localhost:8080/",
          "height": 289
        },
        "outputId": "c17c58e5-e362-4d62-ccd6-b339fca14c85"
      },
      "source": [
        "model.summary()"
      ],
      "execution_count": 26,
      "outputs": [
        {
          "output_type": "stream",
          "text": [
            "Model: \"sequential\"\n",
            "_________________________________________________________________\n",
            "Layer (type)                 Output Shape              Param #   \n",
            "=================================================================\n",
            "flatten (Flatten)            (None, 784)               0         \n",
            "_________________________________________________________________\n",
            "dense (Dense)                (None, 512)               401920    \n",
            "_________________________________________________________________\n",
            "dropout (Dropout)            (None, 512)               0         \n",
            "_________________________________________________________________\n",
            "dense_1 (Dense)              (None, 10)                5130      \n",
            "=================================================================\n",
            "Total params: 407,050\n",
            "Trainable params: 407,050\n",
            "Non-trainable params: 0\n",
            "_________________________________________________________________\n"
          ],
          "name": "stdout"
        }
      ]
    },
    {
      "cell_type": "markdown",
      "metadata": {
        "colab_type": "text",
        "id": "KqM0RE9iz38f"
      },
      "source": [
        "We can also display information about the model's layers:"
      ]
    },
    {
      "cell_type": "code",
      "metadata": {
        "colab_type": "code",
        "id": "u8hGgmE9z4EK",
        "colab": {
          "base_uri": "https://localhost:8080/",
          "height": 85
        },
        "outputId": "67d5fb5c-3a43-440a-890a-6777984c0600"
      },
      "source": [
        "model.layers"
      ],
      "execution_count": 27,
      "outputs": [
        {
          "output_type": "execute_result",
          "data": {
            "text/plain": [
              "[<tensorflow.python.keras.layers.core.Flatten at 0x7f523c0b3b70>,\n",
              " <tensorflow.python.keras.layers.core.Dense at 0x7f523c056470>,\n",
              " <tensorflow.python.keras.layers.core.Dropout at 0x7f523c058710>,\n",
              " <tensorflow.python.keras.layers.core.Dense at 0x7f523c0567f0>]"
            ]
          },
          "metadata": {
            "tags": []
          },
          "execution_count": 27
        }
      ]
    },
    {
      "cell_type": "markdown",
      "metadata": {
        "colab_type": "text",
        "id": "UX_0o1TpccRj"
      },
      "source": [
        "## Train the Model"
      ]
    },
    {
      "cell_type": "code",
      "metadata": {
        "colab_type": "code",
        "id": "a1VoApB_ch_R",
        "colab": {
          "base_uri": "https://localhost:8080/",
          "height": 357
        },
        "outputId": "bfa6967e-14d7-48b3-d3eb-7687d20c8f18"
      },
      "source": [
        "epochs = 10\n",
        "history = model.fit(train_fs, epochs=epochs,\n",
        "                    verbose=1, validation_data=test_fs)"
      ],
      "execution_count": 28,
      "outputs": [
        {
          "output_type": "stream",
          "text": [
            "Epoch 1/10\n",
            "469/469 [==============================] - 11s 23ms/step - loss: 0.5528 - accuracy: 0.8047 - val_loss: 0.4348 - val_accuracy: 0.8476\n",
            "Epoch 2/10\n",
            "469/469 [==============================] - 2s 4ms/step - loss: 0.4089 - accuracy: 0.8544 - val_loss: 0.3917 - val_accuracy: 0.8587\n",
            "Epoch 3/10\n",
            "469/469 [==============================] - 2s 4ms/step - loss: 0.3753 - accuracy: 0.8634 - val_loss: 0.3752 - val_accuracy: 0.8663\n",
            "Epoch 4/10\n",
            "469/469 [==============================] - 2s 4ms/step - loss: 0.3508 - accuracy: 0.8732 - val_loss: 0.3589 - val_accuracy: 0.8688\n",
            "Epoch 5/10\n",
            "469/469 [==============================] - 2s 4ms/step - loss: 0.3360 - accuracy: 0.8772 - val_loss: 0.3511 - val_accuracy: 0.8733\n",
            "Epoch 6/10\n",
            "469/469 [==============================] - 2s 4ms/step - loss: 0.3220 - accuracy: 0.8821 - val_loss: 0.3424 - val_accuracy: 0.8774\n",
            "Epoch 7/10\n",
            "469/469 [==============================] - 2s 4ms/step - loss: 0.3131 - accuracy: 0.8860 - val_loss: 0.3394 - val_accuracy: 0.8790\n",
            "Epoch 8/10\n",
            "469/469 [==============================] - 2s 4ms/step - loss: 0.3045 - accuracy: 0.8882 - val_loss: 0.3355 - val_accuracy: 0.8803\n",
            "Epoch 9/10\n",
            "469/469 [==============================] - 2s 4ms/step - loss: 0.2958 - accuracy: 0.8911 - val_loss: 0.3353 - val_accuracy: 0.8803\n",
            "Epoch 10/10\n",
            "469/469 [==============================] - 2s 4ms/step - loss: 0.2904 - accuracy: 0.8921 - val_loss: 0.3326 - val_accuracy: 0.8813\n"
          ],
          "name": "stdout"
        }
      ]
    },
    {
      "cell_type": "markdown",
      "metadata": {
        "id": "OGmDMWq_AXkX",
        "colab_type": "text"
      },
      "source": [
        "# Generalize on Test Data\n",
        "\n",
        "Although model fit information provides validation loss and accuracy values during training, it is always a good idea to explictly evaluate the model on test data because accuracy and loss values can differ."
      ]
    },
    {
      "cell_type": "code",
      "metadata": {
        "id": "xmd6dTsUAY5-",
        "colab_type": "code",
        "colab": {
          "base_uri": "https://localhost:8080/",
          "height": 34
        },
        "outputId": "409d2e99-0c29-48a9-fa8e-08533370b073"
      },
      "source": [
        "print('Test accuracy:', end=' ')\n",
        "test_loss, test_acc = model.evaluate(test_fs, verbose=2)"
      ],
      "execution_count": 29,
      "outputs": [
        {
          "output_type": "stream",
          "text": [
            "Test accuracy: 79/79 - 0s - loss: 0.3326 - accuracy: 0.8813\n"
          ],
          "name": "stdout"
        }
      ]
    },
    {
      "cell_type": "markdown",
      "metadata": {
        "id": "fWKvhq-XBvUs",
        "colab_type": "text"
      },
      "source": [
        "## Visualize Performance\n",
        "\n",
        "The **fit** method automatically records the history of the training process as a dictionary. So, we can assign training to a variable. In this case, we assigned it to **history**. The  **history** attribute of the variable contains the dictionary information. We display the dictionary keys to inform us how to plot the results."
      ]
    },
    {
      "cell_type": "markdown",
      "metadata": {
        "id": "qcI8_RNLCIFO",
        "colab_type": "text"
      },
      "source": [
        "Display the contents of the dictionary:"
      ]
    },
    {
      "cell_type": "code",
      "metadata": {
        "id": "SvjrnHU5Bvbb",
        "colab_type": "code",
        "colab": {
          "base_uri": "https://localhost:8080/",
          "height": 88
        },
        "outputId": "6f43190a-6ce6-413d-facd-267ddc91baed"
      },
      "source": [
        "hist_dict = history.history\n",
        "print (hist_dict, '\\n')\n",
        "print (hist_dict.keys())"
      ],
      "execution_count": 30,
      "outputs": [
        {
          "output_type": "stream",
          "text": [
            "{'loss': [0.5528050661087036, 0.4088926613330841, 0.3752906620502472, 0.3507601320743561, 0.33595818281173706, 0.3219824731349945, 0.31310582160949707, 0.30453404784202576, 0.29578906297683716, 0.29040130972862244], 'accuracy': [0.8047166466712952, 0.854366660118103, 0.8633833527565002, 0.8731666803359985, 0.8771666884422302, 0.8821333050727844, 0.8860166668891907, 0.8881999850273132, 0.8910666704177856, 0.892133355140686], 'val_loss': [0.43484464287757874, 0.39166495203971863, 0.3751944899559021, 0.35894349217414856, 0.35110560059547424, 0.3424067497253418, 0.3394293189048767, 0.33551663160324097, 0.33529335260391235, 0.33257752656936646], 'val_accuracy': [0.847599983215332, 0.8586999773979187, 0.8662999868392944, 0.8687999844551086, 0.8733000159263611, 0.8773999810218811, 0.8790000081062317, 0.880299985408783, 0.880299985408783, 0.8812999725341797]} \n",
            "\n",
            "dict_keys(['loss', 'accuracy', 'val_loss', 'val_accuracy'])\n"
          ],
          "name": "stdout"
        }
      ]
    },
    {
      "cell_type": "markdown",
      "metadata": {
        "id": "cLgpI4KWCrsi",
        "colab_type": "text"
      },
      "source": [
        "The dictionary **history.history** contains loss, accuracy, val_loss, and val_accuracy metrics that the model measures at the end of each epoch on the training set and validation set.\n",
        "\n",
        "The **params** method provides all parameters involved with training."
      ]
    },
    {
      "cell_type": "code",
      "metadata": {
        "id": "p4_EMvdtCrzf",
        "colab_type": "code",
        "colab": {
          "base_uri": "https://localhost:8080/",
          "height": 34
        },
        "outputId": "7a201e54-21b9-4a3a-963a-790e59c484cc"
      },
      "source": [
        "history.params"
      ],
      "execution_count": 31,
      "outputs": [
        {
          "output_type": "execute_result",
          "data": {
            "text/plain": [
              "{'epochs': 10, 'steps': 469, 'verbose': 1}"
            ]
          },
          "metadata": {
            "tags": []
          },
          "execution_count": 31
        }
      ]
    },
    {
      "cell_type": "markdown",
      "metadata": {
        "id": "joRnMZ4gCr53",
        "colab_type": "text"
      },
      "source": [
        "The epoch method displays the number of epochs:"
      ]
    },
    {
      "cell_type": "code",
      "metadata": {
        "id": "i1VA64snCsAw",
        "colab_type": "code",
        "colab": {
          "base_uri": "https://localhost:8080/",
          "height": 34
        },
        "outputId": "b4ba596c-d4f9-4417-ee36-734b85763085"
      },
      "source": [
        "history.epoch"
      ],
      "execution_count": 34,
      "outputs": [
        {
          "output_type": "execute_result",
          "data": {
            "text/plain": [
              "[0, 1, 2, 3, 4, 5, 6, 7, 8, 9]"
            ]
          },
          "metadata": {
            "tags": []
          },
          "execution_count": 34
        }
      ]
    },
    {
      "cell_type": "markdown",
      "metadata": {
        "id": "eqHe6hm-DhLM",
        "colab_type": "text"
      },
      "source": [
        "Plot training performance:"
      ]
    },
    {
      "cell_type": "code",
      "metadata": {
        "id": "cKndUJAFDhSa",
        "colab_type": "code",
        "colab": {
          "base_uri": "https://localhost:8080/",
          "height": 549
        },
        "outputId": "7b5848b8-7d3e-45de-db5a-fc20ebd64ca5"
      },
      "source": [
        "plt.plot(history.history['accuracy'], label='accuracy')\n",
        "plt.plot(history.history['val_accuracy'], label = 'val_accuracy')\n",
        "plt.xlabel('Epoch')\n",
        "plt.ylabel('Accuracy')\n",
        "plt.ylim([0.5, 1])\n",
        "plt.legend(loc='lower right')\n",
        "plt.show()\n",
        "\n",
        "plt.plot(history.history['loss'], label='loss')\n",
        "plt.plot(history.history['val_loss'], label = 'val_loss')\n",
        "plt.xlabel('Epoch')\n",
        "plt.ylabel('Loss')\n",
        "plt.ylim([0.05, .7])\n",
        "plt.legend(loc='lower right')\n",
        "plt.show()"
      ],
      "execution_count": 35,
      "outputs": [
        {
          "output_type": "display_data",
          "data": {
            "image/png": "[encoded data removed]",
            "text/plain": [
              "<Figure size 432x288 with 1 Axes>"
            ]
          },
          "metadata": {
            "tags": [],
            "needs_background": "light"
          }
        },
        {
          "output_type": "display_data",
          "data": {
            "image/png": "[encoded data removed]",
            "text/plain": [
              "<Figure size 432x288 with 1 Axes>"
            ]
          },
          "metadata": {
            "tags": [],
            "needs_background": "light"
          }
        }
      ]
    },
    {
      "cell_type": "markdown",
      "metadata": {
        "id": "9NvOb1MeD1p8",
        "colab_type": "text"
      },
      "source": [
        "We don't have much overfitting.\n",
        "\n",
        "We can also use pandas to plot training performance:"
      ]
    },
    {
      "cell_type": "code",
      "metadata": {
        "id": "pVy1TgVND1w5",
        "colab_type": "code",
        "colab": {
          "base_uri": "https://localhost:8080/",
          "height": 341
        },
        "outputId": "68819d18-af37-4ca1-fa62-34e7444f1831"
      },
      "source": [
        "import pandas as pd\n",
        "\n",
        "pd.DataFrame(history.history).plot(figsize=(8, 5))\n",
        "plt.grid(True)\n",
        "plt.gca().set_ylim(0, 1)"
      ],
      "execution_count": 36,
      "outputs": [
        {
          "output_type": "execute_result",
          "data": {
            "text/plain": [
              "(0.0, 1.0)"
            ]
          },
          "metadata": {
            "tags": []
          },
          "execution_count": 36
        },
        {
          "output_type": "display_data",
          "data": {
            "image/png": "[encoded data removed]",
            "text/plain": [
              "<Figure size 576x360 with 1 Axes>"
            ]
          },
          "metadata": {
            "tags": [],
            "needs_background": "light"
          }
        }
      ]
    },
    {
      "cell_type": "markdown",
      "metadata": {
        "id": "eypwOSLkER31",
        "colab_type": "text"
      },
      "source": [
        "## Predict Labels for Test Images\n",
        "\n",
        "Now that we have a trained model, we can make predictions based on test images. We predict from test images because the model sees these images as **new** data."
      ]
    },
    {
      "cell_type": "code",
      "metadata": {
        "id": "rUn2ONFSER9q",
        "colab_type": "code",
        "colab": {}
      },
      "source": [
        "tf.random.set_seed(0)\n",
        "\n",
        "predictions = model.predict(test_fs)"
      ],
      "execution_count": 37,
      "outputs": []
    },
    {
      "cell_type": "markdown",
      "metadata": {
        "id": "FScNHH7XEppF",
        "colab_type": "text"
      },
      "source": [
        "Since Fashion-MNIST has 10 class labels, each prediction is an array of 10 numbers that represent the model's *confidence* that the image corresponds to each of the 10 different articles of clothing.\n",
        "\n",
        "Now, let's take a look at the first prediction from test_fs:"
      ]
    },
    {
      "cell_type": "code",
      "metadata": {
        "id": "M0iKLgb8EpuE",
        "colab_type": "code",
        "colab": {
          "base_uri": "https://localhost:8080/",
          "height": 68
        },
        "outputId": "2bf5c072-c26c-4699-98ce-76f09fb11bf3"
      },
      "source": [
        "predictions[0]"
      ],
      "execution_count": 38,
      "outputs": [
        {
          "output_type": "execute_result",
          "data": {
            "text/plain": [
              "array([1.0627345e-05, 1.3572762e-07, 1.8918417e-02, 1.0149560e-06,\n",
              "       9.4339615e-01, 7.5180154e-11, 3.7671302e-02, 8.0767219e-11,\n",
              "       2.3992948e-06, 1.1257719e-09], dtype=float32)"
            ]
          },
          "metadata": {
            "tags": []
          },
          "execution_count": 38
        }
      ]
    },
    {
      "cell_type": "markdown",
      "metadata": {
        "id": "dL_DdZI4ExeV",
        "colab_type": "text"
      },
      "source": [
        "It's kind of hard to tell which of the values has the highest number by looking at the array of numpy values. So, let's round the numbers in the predictions array:"
      ]
    },
    {
      "cell_type": "code",
      "metadata": {
        "id": "NcMG7lsSExm5",
        "colab_type": "code",
        "colab": {
          "base_uri": "https://localhost:8080/",
          "height": 51
        },
        "outputId": "86e9acc3-b24e-41eb-e915-af002058a31c"
      },
      "source": [
        "np.round(predictions[0], 2)"
      ],
      "execution_count": 39,
      "outputs": [
        {
          "output_type": "execute_result",
          "data": {
            "text/plain": [
              "array([0.  , 0.  , 0.02, 0.  , 0.94, 0.  , 0.04, 0.  , 0.  , 0.  ],\n",
              "      dtype=float32)"
            ]
          },
          "metadata": {
            "tags": []
          },
          "execution_count": 39
        }
      ]
    },
    {
      "cell_type": "markdown",
      "metadata": {
        "id": "1359MLI8FCs7",
        "colab_type": "text"
      },
      "source": [
        "We can directly derive the confidence we have in the first prediction with the following code:"
      ]
    },
    {
      "cell_type": "code",
      "metadata": {
        "id": "YIwNaj4hfojW",
        "colab_type": "code",
        "colab": {}
      },
      "source": [
        "c = 100*np.max(predictions[0])"
      ],
      "execution_count": 40,
      "outputs": []
    },
    {
      "cell_type": "markdown",
      "metadata": {
        "id": "UaZ569FmFC-S",
        "colab_type": "text"
      },
      "source": [
        "Convert the value to a percentage:"
      ]
    },
    {
      "cell_type": "code",
      "metadata": {
        "id": "UBMAmunEFDDc",
        "colab_type": "code",
        "colab": {
          "base_uri": "https://localhost:8080/",
          "height": 35
        },
        "outputId": "5ba34524-87d7-42e4-dac0-73ac05a5575f"
      },
      "source": [
        "str(np.round(c, 2)) + '%'"
      ],
      "execution_count": 41,
      "outputs": [
        {
          "output_type": "execute_result",
          "data": {
            "application/vnd.google.colaboratory.intrinsic": {
              "type": "string"
            },
            "text/plain": [
              "'94.34%'"
            ]
          },
          "metadata": {
            "tags": []
          },
          "execution_count": 41
        }
      ]
    },
    {
      "cell_type": "markdown",
      "metadata": {
        "id": "tzzPy-tlFDI7",
        "colab_type": "text"
      },
      "source": [
        "Display the prediction for the first image::"
      ]
    },
    {
      "cell_type": "code",
      "metadata": {
        "id": "4F1ymhWIFDO2",
        "colab_type": "code",
        "colab": {
          "base_uri": "https://localhost:8080/",
          "height": 34
        },
        "outputId": "a3ac5a3b-de36-49cd-bf70-4f023f0493ce"
      },
      "source": [
        "np.argmax(predictions[0])"
      ],
      "execution_count": 42,
      "outputs": [
        {
          "output_type": "execute_result",
          "data": {
            "text/plain": [
              "4"
            ]
          },
          "metadata": {
            "tags": []
          },
          "execution_count": 42
        }
      ]
    },
    {
      "cell_type": "markdown",
      "metadata": {
        "id": "oEAKUW2TFiUf",
        "colab_type": "text"
      },
      "source": [
        "The prediction can only be between **0** and **9** because our target class consists of ten classes. We can use the 'class_labels' array that we created earlier to see the actual fashion article as so:"
      ]
    },
    {
      "cell_type": "code",
      "metadata": {
        "id": "4A3BrnFJFiac",
        "colab_type": "code",
        "colab": {
          "base_uri": "https://localhost:8080/",
          "height": 35
        },
        "outputId": "c65c9f63-93ca-4542-bc12-15297099c657"
      },
      "source": [
        "class_labels[np.argmax(predictions[0])]"
      ],
      "execution_count": 43,
      "outputs": [
        {
          "output_type": "execute_result",
          "data": {
            "application/vnd.google.colaboratory.intrinsic": {
              "type": "string"
            },
            "text/plain": [
              "'Coat'"
            ]
          },
          "metadata": {
            "tags": []
          },
          "execution_count": 43
        }
      ]
    },
    {
      "cell_type": "markdown",
      "metadata": {
        "id": "hBUF5SUNFifh",
        "colab_type": "text"
      },
      "source": [
        "Let's see the first actual test image so we can compare the two:"
      ]
    },
    {
      "cell_type": "code",
      "metadata": {
        "id": "155QZkXgFil1",
        "colab_type": "code",
        "colab": {
          "base_uri": "https://localhost:8080/",
          "height": 35
        },
        "outputId": "bf28c90f-467e-43b6-efbd-f01b9d0f7f7d"
      },
      "source": [
        "# take the first batch of images\n",
        "\n",
        "for image, label in test_fs.take(1):\n",
        "  label\n",
        "\n",
        "class_labels[label[0].numpy()]"
      ],
      "execution_count": 44,
      "outputs": [
        {
          "output_type": "execute_result",
          "data": {
            "application/vnd.google.colaboratory.intrinsic": {
              "type": "string"
            },
            "text/plain": [
              "'Coat'"
            ]
          },
          "metadata": {
            "tags": []
          },
          "execution_count": 44
        }
      ]
    },
    {
      "cell_type": "markdown",
      "metadata": {
        "id": "--Mn1nolNGM-",
        "colab_type": "text"
      },
      "source": [
        "So, we take the first image from a batch of 128 images. If the prediction matches the test image, the prediction was correct."
      ]
    },
    {
      "cell_type": "markdown",
      "metadata": {
        "id": "FSHn6uXLSbZU",
        "colab_type": "text"
      },
      "source": [
        "## Build a Prediction Plot\n",
        "\n",
        "Since we have a trained model, we can build a prediction plot."
      ]
    },
    {
      "cell_type": "markdown",
      "metadata": {
        "id": "ksMwQVX7UvHE",
        "colab_type": "text"
      },
      "source": [
        "Since we want to see how well the model works on new data, take 20 samples from the test set:"
      ]
    },
    {
      "cell_type": "code",
      "metadata": {
        "id": "15xmuhTSSbkX",
        "colab_type": "code",
        "colab": {}
      },
      "source": [
        "num = 20\n",
        "images, labels = [], []\n",
        "for example in test.take(num):\n",
        "  image, label = example['image'], example['label']\n",
        "  images.append(tf.squeeze(image.numpy()))\n",
        "  labels.append(tf.squeeze(label.numpy()))"
      ],
      "execution_count": 45,
      "outputs": []
    },
    {
      "cell_type": "markdown",
      "metadata": {
        "id": "uqZIko66U5oJ",
        "colab_type": "text"
      },
      "source": [
        "Build a custom function:"
      ]
    },
    {
      "cell_type": "code",
      "metadata": {
        "id": "jS-_Z3OpSbpd",
        "colab_type": "code",
        "colab": {}
      },
      "source": [
        "def display_test(feature, target, num_images,\n",
        "                 n_rows, n_cols, cl, p):\n",
        "  for i in range(num_images):\n",
        "    plt.subplot(n_rows, 2*n_cols, 2*i+1)\n",
        "    if cl[target[i]] != cl[np.argmax(p[i])]:\n",
        "      plt.imshow(feature[i], cmap='Reds')\n",
        "    else:\n",
        "      plt.imshow(feature[i], cmap='Blues')\n",
        "    val = 100*np.max(p[i])\n",
        "    rounded = str(np.round(val, 2)) + '%'\n",
        "    plt.title(cl[target[i]] + ' (' +\\\n",
        "              cl[np.argmax(p[i])] + ') ' +\\\n",
        "              rounded )\n",
        "  plt.tight_layout()\n",
        "plt.show()"
      ],
      "execution_count": 46,
      "outputs": []
    },
    {
      "cell_type": "markdown",
      "metadata": {
        "id": "AOBgJc8PZF_2",
        "colab_type": "text"
      },
      "source": [
        "Invoke function:"
      ]
    },
    {
      "cell_type": "code",
      "metadata": {
        "id": "_bd-9usOZGGf",
        "colab_type": "code",
        "colab": {
          "base_uri": "https://localhost:8080/",
          "height": 717
        },
        "outputId": "5dd27243-8524-4407-ea80-7280eed3c367"
      },
      "source": [
        "num_rows, num_cols = 5, 4\n",
        "num_images = num_rows*num_cols\n",
        "plt.figure(figsize=(2*2*num_cols, 2*num_rows))\n",
        "display_test(images, labels, num_images, num_rows,\n",
        "             num_cols, class_labels, predictions)"
      ],
      "execution_count": 47,
      "outputs": [
        {
          "output_type": "display_data",
          "data": {
            "image/png": "[encoded data removed]",
            "text/plain": [
              "<Figure size 1152x720 with 20 Axes>"
            ]
          },
          "metadata": {
            "tags": [],
            "needs_background": "light"
          }
        }
      ]
    },
    {
      "cell_type": "markdown",
      "metadata": {
        "id": "vicSYKDAbjDQ",
        "colab_type": "text"
      },
      "source": [
        "Any clothing article in red means that the prediction was incorrect."
      ]
    },
    {
      "cell_type": "markdown",
      "metadata": {
        "colab_type": "text",
        "id": "K26p4JnqXzFd"
      },
      "source": [
        "# Model the Keras Fashion-MNIST Dataset\n",
        "\n",
        "Although TFDS are recommended for TensorFlow 2.x application, we show how to work with a Keras dataset because of its popularity in industry. The newness of TensorFlow 2.x means that it doesn't have the industry penetration of Keras."
      ]
    },
    {
      "cell_type": "markdown",
      "metadata": {
        "id": "03O8d2s_YcUr",
        "colab_type": "text"
      },
      "source": [
        "Load Keras dataset:"
      ]
    },
    {
      "cell_type": "code",
      "metadata": {
        "id": "QZEzHBjxfjKn",
        "colab_type": "code",
        "colab": {}
      },
      "source": [
        "train, test = tf.keras.datasets.fashion_mnist.load_data()"
      ],
      "execution_count": 48,
      "outputs": []
    },
    {
      "cell_type": "markdown",
      "metadata": {
        "colab_type": "text",
        "id": "YH14W9a0C8TA"
      },
      "source": [
        "## Explore the Data\n",
        "\n",
        "Let's look at data shapes:"
      ]
    },
    {
      "cell_type": "code",
      "metadata": {
        "colab_type": "code",
        "id": "ZZsvDfsgCz44",
        "colab": {
          "base_uri": "https://localhost:8080/",
          "height": 170
        },
        "outputId": "7254d7dc-b011-452b-83d1-08092af31473"
      },
      "source": [
        "print ('train data:', br)\n",
        "print (train[0].shape)\n",
        "print (train[1].shape, br)\n",
        "print ('test data:', br)\n",
        "print (test[0].shape)\n",
        "print (test[1].shape)"
      ],
      "execution_count": 49,
      "outputs": [
        {
          "output_type": "stream",
          "text": [
            "train data: \n",
            "\n",
            "(60000, 28, 28)\n",
            "(60000,) \n",
            "\n",
            "test data: \n",
            "\n",
            "(10000, 28, 28)\n",
            "(10000,)\n"
          ],
          "name": "stdout"
        }
      ]
    },
    {
      "cell_type": "markdown",
      "metadata": {
        "colab_type": "text",
        "id": "7RHDosGXDH0g"
      },
      "source": [
        "As we can see, train data consists of 60000 28x28 feature images and 60000 labels. And, test data consists of 10000 28x28 feature images and 10000 labels. Notice that train images are contained in train[0] and train labels are contained in train[1].\n",
        "\n",
        "So, let's see what the first image represents:"
      ]
    },
    {
      "cell_type": "code",
      "metadata": {
        "colab_type": "code",
        "id": "BIGGsOoi-698",
        "colab": {
          "base_uri": "https://localhost:8080/",
          "height": 35
        },
        "outputId": "1901faa2-24be-4f03-94ac-a84cede10265"
      },
      "source": [
        "class_labels[train[1][0]]"
      ],
      "execution_count": 50,
      "outputs": [
        {
          "output_type": "execute_result",
          "data": {
            "application/vnd.google.colaboratory.intrinsic": {
              "type": "string"
            },
            "text/plain": [
              "'Ankle boot'"
            ]
          },
          "metadata": {
            "tags": []
          },
          "execution_count": 50
        }
      ]
    },
    {
      "cell_type": "markdown",
      "metadata": {
        "colab_type": "text",
        "id": "RCt3awNx94sc"
      },
      "source": [
        "As noted earlier, we access train labels with **train[1]** and get the first image at index 0."
      ]
    },
    {
      "cell_type": "markdown",
      "metadata": {
        "colab_type": "text",
        "id": "s5llJ47CDvnW"
      },
      "source": [
        "## Visualize the First Image\n",
        "\n",
        "Let's see what the first image looks like. We can plot the first image with Matplotlib's imshow() function as so:"
      ]
    },
    {
      "cell_type": "code",
      "metadata": {
        "colab_type": "code",
        "id": "rKr9ys64DvyN",
        "colab": {
          "base_uri": "https://localhost:8080/",
          "height": 265
        },
        "outputId": "89391663-a1f6-49cf-92d9-60bab4d58270"
      },
      "source": [
        "plt.imshow(train[0][0], cmap='binary')\n",
        "plt.axis('off')"
      ],
      "execution_count": 51,
      "outputs": [
        {
          "output_type": "execute_result",
          "data": {
            "text/plain": [
              "(-0.5, 27.5, 27.5, -0.5)"
            ]
          },
          "metadata": {
            "tags": []
          },
          "execution_count": 51
        },
        {
          "output_type": "display_data",
          "data": {
            "image/png": "[encoded data removed]",
            "text/plain": [
              "<Figure size 432x288 with 1 Axes>"
            ]
          },
          "metadata": {
            "tags": [],
            "needs_background": "light"
          }
        }
      ]
    },
    {
      "cell_type": "markdown",
      "metadata": {
        "colab_type": "text",
        "id": "D4GbetR5AW-8"
      },
      "source": [
        "We can make this easier to view by assigning images and labels to their own variables:"
      ]
    },
    {
      "cell_type": "code",
      "metadata": {
        "colab_type": "code",
        "id": "oiQQzEno-Fao",
        "colab": {}
      },
      "source": [
        "train_images = train[0]\n",
        "train_labels = train[1]"
      ],
      "execution_count": 52,
      "outputs": []
    },
    {
      "cell_type": "markdown",
      "metadata": {
        "colab_type": "text",
        "id": "Y7-MBjItSqqn"
      },
      "source": [
        "Let's plot the first image again based on the **train_images** variable:"
      ]
    },
    {
      "cell_type": "code",
      "metadata": {
        "colab_type": "code",
        "id": "KJ0d88URSwCl",
        "colab": {
          "base_uri": "https://localhost:8080/",
          "height": 265
        },
        "outputId": "6c721c7a-c558-4a9c-fa6c-8123603dc190"
      },
      "source": [
        "plt.imshow(train_images[0], cmap='binary')\n",
        "plt.axis('off')"
      ],
      "execution_count": 53,
      "outputs": [
        {
          "output_type": "execute_result",
          "data": {
            "text/plain": [
              "(-0.5, 27.5, 27.5, -0.5)"
            ]
          },
          "metadata": {
            "tags": []
          },
          "execution_count": 53
        },
        {
          "output_type": "display_data",
          "data": {
            "image/png": "[encoded data removed]",
            "text/plain": [
              "<Figure size 432x288 with 1 Axes>"
            ]
          },
          "metadata": {
            "tags": [],
            "needs_background": "light"
          }
        }
      ]
    },
    {
      "cell_type": "markdown",
      "metadata": {
        "colab_type": "text",
        "id": "6xRU54Nh-eFY"
      },
      "source": [
        "Now, we can access the representation of the first image as so:"
      ]
    },
    {
      "cell_type": "code",
      "metadata": {
        "colab_type": "code",
        "id": "ozkZ6vZdArsJ",
        "colab": {
          "base_uri": "https://localhost:8080/",
          "height": 35
        },
        "outputId": "ad2387ce-099b-4590-8bf1-8a558b147e27"
      },
      "source": [
        "class_labels[train_labels[0]]"
      ],
      "execution_count": 54,
      "outputs": [
        {
          "output_type": "execute_result",
          "data": {
            "application/vnd.google.colaboratory.intrinsic": {
              "type": "string"
            },
            "text/plain": [
              "'Ankle boot'"
            ]
          },
          "metadata": {
            "tags": []
          },
          "execution_count": 54
        }
      ]
    },
    {
      "cell_type": "markdown",
      "metadata": {
        "colab_type": "text",
        "id": "SjfaMGFNeARD"
      },
      "source": [
        "The labels are the class IDs (represented as uint8), from 0 to 9:"
      ]
    },
    {
      "cell_type": "code",
      "metadata": {
        "colab_type": "code",
        "id": "iDX_rotkeBYS",
        "colab": {
          "base_uri": "https://localhost:8080/",
          "height": 34
        },
        "outputId": "cc43f841-cb4f-4c22-801c-23c8110e1b99"
      },
      "source": [
        "train_labels"
      ],
      "execution_count": 55,
      "outputs": [
        {
          "output_type": "execute_result",
          "data": {
            "text/plain": [
              "array([9, 0, 0, ..., 3, 0, 5], dtype=uint8)"
            ]
          },
          "metadata": {
            "tags": []
          },
          "execution_count": 55
        }
      ]
    },
    {
      "cell_type": "markdown",
      "metadata": {
        "colab_type": "text",
        "id": "7n5B0WiRBA0x"
      },
      "source": [
        "## Visualze a Sample of Images\n",
        "\n",
        "We can look at a sample of the images in the dataset with a bit of code:"
      ]
    },
    {
      "cell_type": "code",
      "metadata": {
        "colab_type": "code",
        "id": "3UwCpvtKBGi8",
        "colab": {
          "base_uri": "https://localhost:8080/",
          "height": 455
        },
        "outputId": "b6a83147-b2a5-47fd-8c25-85b0d7984e44"
      },
      "source": [
        "n_rows = 5\n",
        "n_cols = 6\n",
        "plt.figure(figsize=(n_cols * 1.5, n_rows * 1.5))\n",
        "for row in range(n_rows):\n",
        "  for col in range(n_cols):\n",
        "    index = n_cols * row + col\n",
        "    plt.subplot(n_rows, n_cols, index + 1)\n",
        "    plt.imshow(train_images[index], cmap='binary',\n",
        "               interpolation='nearest')\n",
        "    plt.axis('off')\n",
        "    plt.title(class_labels[train_labels[index]], fontsize=12)\n",
        "plt.subplots_adjust(wspace=0.2, hspace=0.5)"
      ],
      "execution_count": 56,
      "outputs": [
        {
          "output_type": "display_data",
          "data": {
            "image/png": "[encoded data removed]",
            "text/plain": [
              "<Figure size 648x540 with 30 Axes>"
            ]
          },
          "metadata": {
            "tags": [],
            "needs_background": "light"
          }
        }
      ]
    },
    {
      "cell_type": "markdown",
      "metadata": {
        "colab_type": "text",
        "id": "lfSmnOTdCb-Q"
      },
      "source": [
        "## Prepare Data for Training\n",
        "\n",
        "To prepare training data properly for TensorFlow consumption, we need to grab the images and labels and **scale** the images. Scaling ensures that each input parameter (a pixel, in our case) has a similar data distribution. The distribution of such data would resemble a Gaussian curve centered at zero. Scaling data makes convergence faster while training the network.\n",
        "\n",
        "Since pixel data is represented by a range from [0, 255], we divide each of the feature images by 255 to scale. Once we have the images and labels, we can convert it to a tf.Tensor object with *from_tensor_slices*:"
      ]
    },
    {
      "cell_type": "code",
      "metadata": {
        "colab_type": "code",
        "id": "RTZpGr57CetH",
        "colab": {
          "base_uri": "https://localhost:8080/",
          "height": 102
        },
        "outputId": "0ee5fa6b-db1b-4b1a-e245-249f35e8ef97"
      },
      "source": [
        "# add test images and labels to the mix\n",
        "\n",
        "test_images, test_labels = test\n",
        "\n",
        "train_pictures = train_images / 255.  # divide by 255 to scale\n",
        "train_targets = train_labels.astype(np.int32)\n",
        "\n",
        "test_pictures = test_images / 255.  # divide by 255 to scale\n",
        "test_targets = test_labels.astype(np.int32)\n",
        "\n",
        "print ('train images:', len(train_pictures))\n",
        "print ('train labels:', len(train_targets), br)\n",
        "print ('test images', len(test_pictures))\n",
        "print ('test labels', len(test_targets))\n",
        "\n",
        "train_ds = tf.data.Dataset.from_tensor_slices(\n",
        "    (train_pictures, train_targets))\n",
        "test_ds = tf.data.Dataset.from_tensor_slices(\n",
        "    (test_pictures, test_targets))"
      ],
      "execution_count": 59,
      "outputs": [
        {
          "output_type": "stream",
          "text": [
            "train images: 60000\n",
            "train labels: 60000 \n",
            "\n",
            "test images 10000\n",
            "test labels 10000\n"
          ],
          "name": "stdout"
        }
      ]
    },
    {
      "cell_type": "markdown",
      "metadata": {
        "colab_type": "text",
        "id": "0reT94Cs1cGw"
      },
      "source": [
        "Now we can shuffle the data. We set BATCH_SIZE to 128 so the model will run faster than with a smaller batch size. You can experiment with this number and see what happens. We also set the SHUFFLE_BUFFER_SIZE to 5000 so the shuffle method will work well. Again, you can experiment with this number."
      ]
    },
    {
      "cell_type": "code",
      "metadata": {
        "colab_type": "code",
        "id": "l0sWdV9f2Dei",
        "colab": {}
      },
      "source": [
        "BATCH_SIZE = 128\n",
        "SHUFFLE_BUFFER_SIZE = 5000\n",
        "\n",
        "train_ks = train_ds.shuffle(\n",
        "    SHUFFLE_BUFFER_SIZE).batch(BATCH_SIZE).prefetch(1)\n",
        "test_ks = test_ds.batch(BATCH_SIZE).prefetch(1)"
      ],
      "execution_count": 62,
      "outputs": []
    },
    {
      "cell_type": "markdown",
      "metadata": {
        "colab_type": "text",
        "id": "ba8p9Uvz-DEm"
      },
      "source": [
        "## Build the model"
      ]
    },
    {
      "cell_type": "code",
      "metadata": {
        "colab_type": "code",
        "id": "LRqtExym0Xoq",
        "colab": {}
      },
      "source": [
        "from tensorflow.keras.models import Sequential\n",
        "from tensorflow.keras.layers import Dense, Flatten, Dropout\n",
        "from tensorflow import keras\n",
        "\n",
        "# clear previous model and plant a seed\n",
        "\n",
        "keras.backend.clear_session()\n",
        "np.random.seed(0)\n",
        "tf.random.set_seed(0)\n",
        "\n",
        "model = Sequential([\n",
        "  Flatten(input_shape=[28, 28]),\n",
        "  Dense(512, activation='relu'),\n",
        "  Dropout(0.4),\n",
        "  Dense(10, activation='softmax')\n",
        "])"
      ],
      "execution_count": 63,
      "outputs": []
    },
    {
      "cell_type": "markdown",
      "metadata": {
        "colab_type": "text",
        "id": "R9tKEIph9lD1"
      },
      "source": [
        "It is always a good idea to clear any previous modeling sessions. Remember we already created a model and fit it earlier in the chapter. Also, planting a random seed ensures that the results are consistent. In machine learning, such consistency is called reproducibility. That is, the seed allows us to reproduce results in a consistent manner. You can use any integer value for the random seed number. We used **0** in our case. \n",
        "\n",
        "The **Flatten()** layer just flattens the 2D matrix of 28x28 images to a 1D array of 784 pixels. the next layer is the first true layer. It accepts input images into 128 neurons and performs *relu* activation. The final layer is the output layer. It accepts output from the input layer with 10 neurons that  represent the ten classes of clothing and performs *softmax* activation."
      ]
    },
    {
      "cell_type": "markdown",
      "metadata": {
        "colab_type": "text",
        "id": "r-hsrxCM-fAW"
      },
      "source": [
        "## Compile the Model"
      ]
    },
    {
      "cell_type": "code",
      "metadata": {
        "colab_type": "code",
        "id": "2RBY7nWpZAho",
        "colab": {}
      },
      "source": [
        "model.compile(optimizer='adam',\n",
        "              loss='sparse_categorical_crossentropy',\n",
        "              metrics=['accuracy'])"
      ],
      "execution_count": 64,
      "outputs": []
    },
    {
      "cell_type": "markdown",
      "metadata": {
        "id": "GfsRRnOep9bc",
        "colab_type": "text"
      },
      "source": [
        "## Train the Model\n",
        "\n",
        "Fit the model. Passing a dataset of (feature, label) pairs is all that's needed for Model.fit and Model.evaluate."
      ]
    },
    {
      "cell_type": "code",
      "metadata": {
        "colab_type": "code",
        "id": "98hatQdBaZ_T",
        "colab": {
          "base_uri": "https://localhost:8080/",
          "height": 357
        },
        "outputId": "0dcb324f-317d-4585-df30-b38609d79a98"
      },
      "source": [
        "history = model.fit(train_ks, epochs=10, validation_data=test_ks)"
      ],
      "execution_count": 65,
      "outputs": [
        {
          "output_type": "stream",
          "text": [
            "Epoch 1/10\n",
            "469/469 [==============================] - 2s 4ms/step - loss: 0.5519 - accuracy: 0.8066 - val_loss: 0.4321 - val_accuracy: 0.8475\n",
            "Epoch 2/10\n",
            "469/469 [==============================] - 2s 4ms/step - loss: 0.4071 - accuracy: 0.8539 - val_loss: 0.3989 - val_accuracy: 0.8567\n",
            "Epoch 3/10\n",
            "469/469 [==============================] - 2s 4ms/step - loss: 0.3722 - accuracy: 0.8647 - val_loss: 0.3708 - val_accuracy: 0.8693\n",
            "Epoch 4/10\n",
            "469/469 [==============================] - 2s 4ms/step - loss: 0.3524 - accuracy: 0.8715 - val_loss: 0.3531 - val_accuracy: 0.8725\n",
            "Epoch 5/10\n",
            "469/469 [==============================] - 2s 4ms/step - loss: 0.3358 - accuracy: 0.8772 - val_loss: 0.3519 - val_accuracy: 0.8733\n",
            "Epoch 6/10\n",
            "469/469 [==============================] - 2s 4ms/step - loss: 0.3243 - accuracy: 0.8815 - val_loss: 0.3484 - val_accuracy: 0.8739\n",
            "Epoch 7/10\n",
            "469/469 [==============================] - 2s 4ms/step - loss: 0.3132 - accuracy: 0.8844 - val_loss: 0.3659 - val_accuracy: 0.8655\n",
            "Epoch 8/10\n",
            "469/469 [==============================] - 2s 4ms/step - loss: 0.3035 - accuracy: 0.8875 - val_loss: 0.3486 - val_accuracy: 0.8774\n",
            "Epoch 9/10\n",
            "469/469 [==============================] - 2s 4ms/step - loss: 0.2959 - accuracy: 0.8907 - val_loss: 0.3303 - val_accuracy: 0.8820\n",
            "Epoch 10/10\n",
            "469/469 [==============================] - 2s 4ms/step - loss: 0.2875 - accuracy: 0.8934 - val_loss: 0.3257 - val_accuracy: 0.8835\n"
          ],
          "name": "stdout"
        }
      ]
    },
    {
      "cell_type": "markdown",
      "metadata": {
        "colab_type": "text",
        "id": "WeD6TXaRKiSS"
      },
      "source": [
        "Let's see what the model looks like:"
      ]
    },
    {
      "cell_type": "code",
      "metadata": {
        "colab_type": "code",
        "id": "m3jNZKQuJtdh",
        "colab": {
          "base_uri": "https://localhost:8080/",
          "height": 289
        },
        "outputId": "465fe95a-80e8-48ac-c5db-8a2fb417b389"
      },
      "source": [
        "model.summary()"
      ],
      "execution_count": 66,
      "outputs": [
        {
          "output_type": "stream",
          "text": [
            "Model: \"sequential\"\n",
            "_________________________________________________________________\n",
            "Layer (type)                 Output Shape              Param #   \n",
            "=================================================================\n",
            "flatten (Flatten)            (None, 784)               0         \n",
            "_________________________________________________________________\n",
            "dense (Dense)                (None, 512)               401920    \n",
            "_________________________________________________________________\n",
            "dropout (Dropout)            (None, 512)               0         \n",
            "_________________________________________________________________\n",
            "dense_1 (Dense)              (None, 10)                5130      \n",
            "=================================================================\n",
            "Total params: 407,050\n",
            "Trainable params: 407,050\n",
            "Non-trainable params: 0\n",
            "_________________________________________________________________\n"
          ],
          "name": "stdout"
        }
      ]
    },
    {
      "cell_type": "markdown",
      "metadata": {
        "colab_type": "text",
        "id": "5xRYUEIly6lQ"
      },
      "source": [
        "We can also get informatin about the model itself:"
      ]
    },
    {
      "cell_type": "code",
      "metadata": {
        "colab_type": "code",
        "id": "albU2NGxy6tH",
        "colab": {
          "base_uri": "https://localhost:8080/",
          "height": 85
        },
        "outputId": "87b85c6e-4ccb-4846-82cb-77b2d8c27c28"
      },
      "source": [
        "model.layers"
      ],
      "execution_count": 67,
      "outputs": [
        {
          "output_type": "execute_result",
          "data": {
            "text/plain": [
              "[<tensorflow.python.keras.layers.core.Flatten at 0x7f523ca4ca20>,\n",
              " <tensorflow.python.keras.layers.core.Dense at 0x7f523c872320>,\n",
              " <tensorflow.python.keras.layers.core.Dropout at 0x7f523cce8630>,\n",
              " <tensorflow.python.keras.layers.core.Dense at 0x7f523c4400f0>]"
            ]
          },
          "metadata": {
            "tags": []
          },
          "execution_count": 67
        }
      ]
    },
    {
      "cell_type": "markdown",
      "metadata": {
        "colab_type": "text",
        "id": "enkM4dCtchX0"
      },
      "source": [
        "## Generalize on Test Data\n",
        "\n",
        "Although model fit information provides validation loss and accuracy values during training, it is always a good idea to explictly evaluate the model on test data because accuracy and loss values can differ."
      ]
    },
    {
      "cell_type": "code",
      "metadata": {
        "id": "Um3lfEXZqhno",
        "colab_type": "code",
        "colab": {
          "base_uri": "https://localhost:8080/",
          "height": 51
        },
        "outputId": "e3542232-2160-4595-f39a-a7a492f2f4b5"
      },
      "source": [
        "print('Train accuracy:', end=' ')\n",
        "train_loss, train_acc = model.evaluate(train_ks, verbose=2)\n",
        "print('Test accuracy:', end=' ')\n",
        "test_loss, test_acc = model.evaluate(test_ks, verbose=2)"
      ],
      "execution_count": 68,
      "outputs": [
        {
          "output_type": "stream",
          "text": [
            "Train accuracy: 469/469 - 1s - loss: 0.2464 - accuracy: 0.9097\n",
            "Test accuracy: 79/79 - 0s - loss: 0.3257 - accuracy: 0.8835\n"
          ],
          "name": "stdout"
        }
      ]
    },
    {
      "cell_type": "markdown",
      "metadata": {
        "colab_type": "text",
        "id": "BwtUhha0NbpT"
      },
      "source": [
        "# Visualize Training\n",
        "\n",
        "The **fit** method automatically records the history of the training process as a dictionary. So, we can assign training to a variable. In this case, we assigned it to **history**. The  **history** attribute of the variable contains the dictionary information. We display the dictionary keys to inform us how to plot the results."
      ]
    },
    {
      "cell_type": "code",
      "metadata": {
        "colab_type": "code",
        "id": "G0fvMh7ji76P",
        "colab": {
          "base_uri": "https://localhost:8080/",
          "height": 88
        },
        "outputId": "2c760b94-804e-416c-cb7e-80ea7056f5e7"
      },
      "source": [
        "hist_dict = history.history\n",
        "print (hist_dict, '\\n')\n",
        "print (hist_dict.keys())"
      ],
      "execution_count": 69,
      "outputs": [
        {
          "output_type": "stream",
          "text": [
            "{'loss': [0.5518734455108643, 0.4070889353752136, 0.37217873334884644, 0.35236868262290955, 0.33575156331062317, 0.3242616653442383, 0.3132479190826416, 0.30352333188056946, 0.29590120911598206, 0.2874850928783417], 'accuracy': [0.8065999746322632, 0.853866696357727, 0.8646666407585144, 0.871483325958252, 0.8771833181381226, 0.8815000057220459, 0.8844000101089478, 0.8875333070755005, 0.890666663646698, 0.8934333324432373], 'val_loss': [0.4320629835128784, 0.39889219403266907, 0.3708018958568573, 0.35305777192115784, 0.3519214987754822, 0.3484376072883606, 0.3658628761768341, 0.34857165813446045, 0.33028119802474976, 0.3257363736629486], 'val_accuracy': [0.8475000262260437, 0.8567000031471252, 0.8693000078201294, 0.8725000023841858, 0.8733000159263611, 0.8738999962806702, 0.8654999732971191, 0.8773999810218811, 0.8820000290870667, 0.8834999799728394]} \n",
            "\n",
            "dict_keys(['loss', 'accuracy', 'val_loss', 'val_accuracy'])\n"
          ],
          "name": "stdout"
        }
      ]
    },
    {
      "cell_type": "markdown",
      "metadata": {
        "colab_type": "text",
        "id": "3x4FyF-bg2-L"
      },
      "source": [
        "Specifically, the dictionary **history.history** contains loss and other metrics the model measures at the end of each epoch on the training set and validation set. Let's explore this dictionary a bit more. The **params** method provides all parameters involved with the model."
      ]
    },
    {
      "cell_type": "code",
      "metadata": {
        "colab_type": "code",
        "id": "ZvmCiHfohxj1",
        "colab": {
          "base_uri": "https://localhost:8080/",
          "height": 34
        },
        "outputId": "7340f55f-838e-4309-fd73-5d1fae3b9dc8"
      },
      "source": [
        "history.params"
      ],
      "execution_count": 70,
      "outputs": [
        {
          "output_type": "execute_result",
          "data": {
            "text/plain": [
              "{'epochs': 10, 'steps': 469, 'verbose': 1}"
            ]
          },
          "metadata": {
            "tags": []
          },
          "execution_count": 70
        }
      ]
    },
    {
      "cell_type": "markdown",
      "metadata": {
        "colab_type": "text",
        "id": "1HPCCXG6h-Jd"
      },
      "source": [
        "We can also see the epochs:"
      ]
    },
    {
      "cell_type": "code",
      "metadata": {
        "colab_type": "code",
        "id": "jep4VNyniGPG",
        "colab": {
          "base_uri": "https://localhost:8080/",
          "height": 34
        },
        "outputId": "82d96219-6fc3-413e-f2f6-36d616edd926"
      },
      "source": [
        "history.epoch"
      ],
      "execution_count": 71,
      "outputs": [
        {
          "output_type": "execute_result",
          "data": {
            "text/plain": [
              "[0, 1, 2, 3, 4, 5, 6, 7, 8, 9]"
            ]
          },
          "metadata": {
            "tags": []
          },
          "execution_count": 71
        }
      ]
    },
    {
      "cell_type": "markdown",
      "metadata": {
        "colab_type": "text",
        "id": "-tBBBOazj--F"
      },
      "source": [
        "Now, let's plot training:"
      ]
    },
    {
      "cell_type": "code",
      "metadata": {
        "colab_type": "code",
        "id": "sbNVtu6-kB_n",
        "colab": {
          "base_uri": "https://localhost:8080/",
          "height": 549
        },
        "outputId": "9cbe6f13-5309-4de4-f071-66e20bd0e51e"
      },
      "source": [
        "plt.plot(history.history['accuracy'], label='accuracy')\n",
        "plt.plot(history.history['val_accuracy'], label = 'val_accuracy')\n",
        "plt.xlabel('Epoch')\n",
        "plt.ylabel('Accuracy')\n",
        "plt.ylim([0.5, 1])\n",
        "plt.legend(loc='lower right')\n",
        "plt.show()\n",
        "\n",
        "plt.plot(history.history['loss'], label='loss')\n",
        "plt.plot(history.history['val_loss'], label = 'val_loss')\n",
        "plt.xlabel('Epoch')\n",
        "plt.ylabel('Loss')\n",
        "plt.ylim([0.05, .7])\n",
        "plt.legend(loc='lower right')\n",
        "plt.show()"
      ],
      "execution_count": 72,
      "outputs": [
        {
          "output_type": "display_data",
          "data": {
            "image/png": "[encoded data removed]",
            "text/plain": [
              "<Figure size 432x288 with 1 Axes>"
            ]
          },
          "metadata": {
            "tags": [],
            "needs_background": "light"
          }
        },
        {
          "output_type": "display_data",
          "data": {
            "image/png": "[encoded data removed]",
            "text/plain": [
              "<Figure size 432x288 with 1 Axes>"
            ]
          },
          "metadata": {
            "tags": [],
            "needs_background": "light"
          }
        }
      ]
    },
    {
      "cell_type": "markdown",
      "metadata": {
        "colab_type": "text",
        "id": "x_xJ-WEOlGJ0"
      },
      "source": [
        "We can see that the model is overfitting because test accuracy is lower than training accuracy. However, the model is not overfitting by a tremendous amount.\n",
        "\n",
        "Since this is a beginning book, we will do very little model tuning. **Tuning** is the process of maximizing a model's performance without overfitting or creating too high of a variance. Simple tuning is pretty easy, but sophisticated tuning is definitly an advanced topic.\n",
        "\n",
        "A very simple, but powerful way to tune a model is to use dropout. **Dropout** is a regularization method that approximates training a large number of neural networks with different architectures in parallel. Reading the definition doesn't make it easier to understand for a beginner. So, let's explain how it works. \n",
        "\n",
        "During training, some number of layer outputs are randomly ignored or *dropped out*. By randomly dropping out layer outputs, effectively the layer looks like and is treated like a layer with a different number of nodes and connectivity to the prior layer. So, each update to a layer during training is performed with a different *view* of the configured layer."
      ]
    },
    {
      "cell_type": "markdown",
      "metadata": {
        "colab_type": "text",
        "id": "oUnwPNP7kR45"
      },
      "source": [
        "We can also use Pandas to plot the history dictionary with just a few lines of code:"
      ]
    },
    {
      "cell_type": "code",
      "metadata": {
        "colab_type": "code",
        "id": "gwX6-yEnkTKk",
        "colab": {
          "base_uri": "https://localhost:8080/",
          "height": 341
        },
        "outputId": "a3e8d0aa-2cb9-478e-e21d-6f201b2c7200"
      },
      "source": [
        "import pandas as pd\n",
        "\n",
        "pd.DataFrame(history.history).plot(figsize=(8, 5))\n",
        "plt.grid(True)\n",
        "plt.gca().set_ylim(0, 1)"
      ],
      "execution_count": 73,
      "outputs": [
        {
          "output_type": "execute_result",
          "data": {
            "text/plain": [
              "(0.0, 1.0)"
            ]
          },
          "metadata": {
            "tags": []
          },
          "execution_count": 73
        },
        {
          "output_type": "display_data",
          "data": {
            "image/png": "[encoded data removed]",
            "text/plain": [
              "<Figure size 576x360 with 1 Axes>"
            ]
          },
          "metadata": {
            "tags": [],
            "needs_background": "light"
          }
        }
      ]
    },
    {
      "cell_type": "markdown",
      "metadata": {
        "colab_type": "text",
        "id": "QDvMSckxNiVB"
      },
      "source": [
        "# Predict Labels for Test Images\n",
        "\n",
        "Now that we have a trained model, we can make predictions based on the test images. We predict from the test images because the model sees these images as **new** data."
      ]
    },
    {
      "cell_type": "markdown",
      "metadata": {
        "id": "57_19V5tPDNT",
        "colab_type": "text"
      },
      "source": [
        "Let's begin by predicting the label for each image in the test set."
      ]
    },
    {
      "cell_type": "code",
      "metadata": {
        "colab_type": "code",
        "id": "bHDvfOOYjNzu",
        "colab": {}
      },
      "source": [
        "predictions = model.predict(test_ks)"
      ],
      "execution_count": 74,
      "outputs": []
    },
    {
      "cell_type": "markdown",
      "metadata": {
        "colab_type": "text",
        "id": "HQqhOh0RkHIv"
      },
      "source": [
        "For this dataset, a prediction is an array of 10 numbers that represent the model's *confidence* that the image corresponds to each of the 10 different articles of clothing.\n",
        "\n",
        "Now, let's take a look at the first prediction from test_images:"
      ]
    },
    {
      "cell_type": "code",
      "metadata": {
        "colab_type": "code",
        "id": "uaydU5dfkns2",
        "colab": {
          "base_uri": "https://localhost:8080/",
          "height": 68
        },
        "outputId": "349bbe0b-47ef-49c8-807e-1392e285cc32"
      },
      "source": [
        "predictions[0]"
      ],
      "execution_count": 75,
      "outputs": [
        {
          "output_type": "execute_result",
          "data": {
            "text/plain": [
              "array([2.9428297e-06, 4.1648735e-07, 4.1235826e-06, 7.7112873e-07,\n",
              "       5.3039535e-06, 3.9883354e-03, 2.0204807e-05, 2.4806140e-02,\n",
              "       2.5234328e-06, 9.7116917e-01], dtype=float32)"
            ]
          },
          "metadata": {
            "tags": []
          },
          "execution_count": 75
        }
      ]
    },
    {
      "cell_type": "markdown",
      "metadata": {
        "id": "Wpub5CgQ2_S3",
        "colab_type": "text"
      },
      "source": [
        "Round values for convenience:"
      ]
    },
    {
      "cell_type": "code",
      "metadata": {
        "id": "3Nd7DYHE2_ZU",
        "colab_type": "code",
        "colab": {
          "base_uri": "https://localhost:8080/",
          "height": 51
        },
        "outputId": "9bcef5b4-397f-425a-ff92-daad97e3781c"
      },
      "source": [
        "np.round(predictions[0], 2)"
      ],
      "execution_count": 76,
      "outputs": [
        {
          "output_type": "execute_result",
          "data": {
            "text/plain": [
              "array([0.  , 0.  , 0.  , 0.  , 0.  , 0.  , 0.  , 0.02, 0.  , 0.97],\n",
              "      dtype=float32)"
            ]
          },
          "metadata": {
            "tags": []
          },
          "execution_count": 76
        }
      ]
    },
    {
      "cell_type": "markdown",
      "metadata": {
        "id": "cHig95673Gct",
        "colab_type": "text"
      },
      "source": [
        "Directly access confidence in the prediction:"
      ]
    },
    {
      "cell_type": "code",
      "metadata": {
        "id": "e9NrnSkg3GkL",
        "colab_type": "code",
        "colab": {
          "base_uri": "https://localhost:8080/",
          "height": 34
        },
        "outputId": "ab059fa5-0e18-44ae-fd51-fb654ca4cfb8"
      },
      "source": [
        "100*np.max(predictions[0])"
      ],
      "execution_count": 77,
      "outputs": [
        {
          "output_type": "execute_result",
          "data": {
            "text/plain": [
              "97.11691737174988"
            ]
          },
          "metadata": {
            "tags": []
          },
          "execution_count": 77
        }
      ]
    },
    {
      "cell_type": "markdown",
      "metadata": {
        "id": "M6ApA5ii3O9e",
        "colab_type": "text"
      },
      "source": [
        "Convert value to percentage:"
      ]
    },
    {
      "cell_type": "code",
      "metadata": {
        "id": "CZyL3cXJ3PC6",
        "colab_type": "code",
        "colab": {
          "base_uri": "https://localhost:8080/",
          "height": 35
        },
        "outputId": "b59ed663-708c-48f0-e60a-56eaa995e2e3"
      },
      "source": [
        "str(np.round(100*np.max(predictions[0]), 2)) + '%'"
      ],
      "execution_count": 78,
      "outputs": [
        {
          "output_type": "execute_result",
          "data": {
            "application/vnd.google.colaboratory.intrinsic": {
              "type": "string"
            },
            "text/plain": [
              "'97.12%'"
            ]
          },
          "metadata": {
            "tags": []
          },
          "execution_count": 78
        }
      ]
    },
    {
      "cell_type": "markdown",
      "metadata": {
        "colab_type": "text",
        "id": "URM3lVSWoee6"
      },
      "source": [
        "Now, let's display the prediction for the first image:"
      ]
    },
    {
      "cell_type": "code",
      "metadata": {
        "colab_type": "code",
        "id": "SmeZ6PlOofpk",
        "colab": {
          "base_uri": "https://localhost:8080/",
          "height": 34
        },
        "outputId": "d0ee4fef-9e4a-4da6-888e-a676663f395e"
      },
      "source": [
        "np.argmax(predictions[0])"
      ],
      "execution_count": 79,
      "outputs": [
        {
          "output_type": "execute_result",
          "data": {
            "text/plain": [
              "9"
            ]
          },
          "metadata": {
            "tags": []
          },
          "execution_count": 79
        }
      ]
    },
    {
      "cell_type": "markdown",
      "metadata": {
        "colab_type": "text",
        "id": "21eqCVV_pF-d"
      },
      "source": [
        "The prediction can only be between **0** and **9** because our target class consists of ten classes. We can use the 'class_labels' array that we created earlier to see the actual fashion article as so:"
      ]
    },
    {
      "cell_type": "code",
      "metadata": {
        "colab_type": "code",
        "id": "giVlHJr9pRV2",
        "colab": {
          "base_uri": "https://localhost:8080/",
          "height": 35
        },
        "outputId": "30a7b1ea-2429-4e4f-fb4a-a75346453e7e"
      },
      "source": [
        "class_labels[np.argmax(predictions[0])]"
      ],
      "execution_count": 80,
      "outputs": [
        {
          "output_type": "execute_result",
          "data": {
            "application/vnd.google.colaboratory.intrinsic": {
              "type": "string"
            },
            "text/plain": [
              "'Ankle boot'"
            ]
          },
          "metadata": {
            "tags": []
          },
          "execution_count": 80
        }
      ]
    },
    {
      "cell_type": "markdown",
      "metadata": {
        "colab_type": "text",
        "id": "BYyNzNDKrNCc"
      },
      "source": [
        "Now, let's see the first actual test image so we can compare the two:"
      ]
    },
    {
      "cell_type": "code",
      "metadata": {
        "colab_type": "code",
        "id": "XwwCcA1FrWjD",
        "colab": {
          "base_uri": "https://localhost:8080/",
          "height": 35
        },
        "outputId": "92ab713e-d308-478e-9323-f554dd0a2207"
      },
      "source": [
        "class_labels[test_labels[0]]"
      ],
      "execution_count": 81,
      "outputs": [
        {
          "output_type": "execute_result",
          "data": {
            "application/vnd.google.colaboratory.intrinsic": {
              "type": "string"
            },
            "text/plain": [
              "'Ankle boot'"
            ]
          },
          "metadata": {
            "tags": []
          },
          "execution_count": 81
        }
      ]
    },
    {
      "cell_type": "markdown",
      "metadata": {
        "colab_type": "text",
        "id": "sfmGQuMzkxRI"
      },
      "source": [
        "If our prediction and the actual image match, we predicted correctly."
      ]
    },
    {
      "cell_type": "markdown",
      "metadata": {
        "colab_type": "text",
        "id": "dyMV9S8dMIfA"
      },
      "source": [
        "Let's make four predictions based on the test dataset: "
      ]
    },
    {
      "cell_type": "code",
      "metadata": {
        "colab_type": "code",
        "id": "u0gTm1a-Mr3Y",
        "colab": {}
      },
      "source": [
        "pred_4 = predictions[:4]"
      ],
      "execution_count": 82,
      "outputs": []
    },
    {
      "cell_type": "markdown",
      "metadata": {
        "colab_type": "text",
        "id": "nA3Z8QCmP01W"
      },
      "source": [
        "Show predictions:"
      ]
    },
    {
      "cell_type": "code",
      "metadata": {
        "colab_type": "code",
        "id": "E13cwvNPPfG5",
        "colab": {
          "base_uri": "https://localhost:8080/",
          "height": 34
        },
        "outputId": "f97daf32-22a7-43c0-e513-c1373bd10324"
      },
      "source": [
        "ls = [np.argmax(row) for row in pred_4]\n",
        "ls"
      ],
      "execution_count": 83,
      "outputs": [
        {
          "output_type": "execute_result",
          "data": {
            "text/plain": [
              "[9, 2, 1, 1]"
            ]
          },
          "metadata": {
            "tags": []
          },
          "execution_count": 83
        }
      ]
    },
    {
      "cell_type": "markdown",
      "metadata": {
        "id": "jPg4KTenorXM",
        "colab_type": "text"
      },
      "source": [
        "Get class labels of predictions:"
      ]
    },
    {
      "cell_type": "code",
      "metadata": {
        "id": "B36m3fRVordH",
        "colab_type": "code",
        "colab": {
          "base_uri": "https://localhost:8080/",
          "height": 34
        },
        "outputId": "570f2759-4752-4bab-feb0-17f0baf850a7"
      },
      "source": [
        "np.array(class_labels)[ls]"
      ],
      "execution_count": 84,
      "outputs": [
        {
          "output_type": "execute_result",
          "data": {
            "text/plain": [
              "array(['Ankle boot', 'Pullover', 'Trouser', 'Trouser'], dtype='<U11')"
            ]
          },
          "metadata": {
            "tags": []
          },
          "execution_count": 84
        }
      ]
    },
    {
      "cell_type": "markdown",
      "metadata": {
        "colab_type": "text",
        "id": "cpo3T6LINQ8J"
      },
      "source": [
        "Compare predictions to the test dataset:"
      ]
    },
    {
      "cell_type": "code",
      "metadata": {
        "colab_type": "code",
        "id": "YTMXSZP5NUvX",
        "colab": {
          "base_uri": "https://localhost:8080/",
          "height": 34
        },
        "outputId": "9b5cc807-54d3-4f23-ebb1-46263e046416"
      },
      "source": [
        "actual_4 = test_labels[:4]\n",
        "actual_4"
      ],
      "execution_count": 85,
      "outputs": [
        {
          "output_type": "execute_result",
          "data": {
            "text/plain": [
              "array([9, 2, 1, 1], dtype=uint8)"
            ]
          },
          "metadata": {
            "tags": []
          },
          "execution_count": 85
        }
      ]
    },
    {
      "cell_type": "markdown",
      "metadata": {
        "colab_type": "text",
        "id": "8M5J4aJNP5-x"
      },
      "source": [
        "Get class labels of actual images:"
      ]
    },
    {
      "cell_type": "code",
      "metadata": {
        "colab_type": "code",
        "id": "Ln-4Arn2PsQh",
        "colab": {
          "base_uri": "https://localhost:8080/",
          "height": 34
        },
        "outputId": "38213367-b8bb-49e4-8874-4381d4fde87f"
      },
      "source": [
        "np.array(class_labels)[actual_4]"
      ],
      "execution_count": 86,
      "outputs": [
        {
          "output_type": "execute_result",
          "data": {
            "text/plain": [
              "array(['Ankle boot', 'Pullover', 'Trouser', 'Trouser'], dtype='<U11')"
            ]
          },
          "metadata": {
            "tags": []
          },
          "execution_count": 86
        }
      ]
    },
    {
      "cell_type": "markdown",
      "metadata": {
        "colab_type": "text",
        "id": "lin2mTX2Qu5A"
      },
      "source": [
        "Let's visualize:"
      ]
    },
    {
      "cell_type": "code",
      "metadata": {
        "colab_type": "code",
        "id": "du14_sJCQ_oY",
        "colab": {
          "base_uri": "https://localhost:8080/",
          "height": 134
        },
        "outputId": "0bd3533a-7fdd-499b-cdee-7ff7916ac6ad"
      },
      "source": [
        "# slice off the first four images from the test data\n",
        "\n",
        "img_4 = test_images[:4]\n",
        "\n",
        "# plot images\n",
        "\n",
        "plt.figure(figsize=(7.2, 2.4))\n",
        "for index, image in enumerate(img_4):\n",
        "  plt.subplot(1, 4, index + 1)\n",
        "  plt.imshow(image, cmap='twilight', interpolation='nearest')\n",
        "  plt.axis('off')\n",
        "  plt.title(class_labels[actual_4[index]], fontsize=12)\n",
        "plt.subplots_adjust(wspace=0.2, hspace=0.5)"
      ],
      "execution_count": 87,
      "outputs": [
        {
          "output_type": "display_data",
          "data": {
            "image/png": "[encoded data removed]",
            "text/plain": [
              "<Figure size 518.4x172.8 with 4 Axes>"
            ]
          },
          "metadata": {
            "tags": [],
            "needs_background": "light"
          }
        }
      ]
    },
    {
      "cell_type": "markdown",
      "metadata": {
        "colab_type": "text",
        "id": "R5RN401XtMji"
      },
      "source": [
        "## Explore Misclassifications\n",
        "\n",
        "Let's explore the predictions and test images to find some misclassifications. The first step is to identify the prediction labels:"
      ]
    },
    {
      "cell_type": "code",
      "metadata": {
        "colab_type": "code",
        "id": "7yrAVKXstZXp",
        "colab": {}
      },
      "source": [
        "rng = (len(predictions))\n",
        "y_pred = [np.argmax(row) for row in predictions]"
      ],
      "execution_count": 88,
      "outputs": []
    },
    {
      "cell_type": "markdown",
      "metadata": {
        "colab_type": "text",
        "id": "Ut_YKdPRt48D"
      },
      "source": [
        "The next step is the grab some predictions and actual targets:"
      ]
    },
    {
      "cell_type": "code",
      "metadata": {
        "colab_type": "code",
        "id": "OkaA-Z-4t0vE",
        "colab": {
          "base_uri": "https://localhost:8080/",
          "height": 51
        },
        "outputId": "4c21d53e-29ad-4208-a0ad-a1714e1f05d3"
      },
      "source": [
        "# find first n predictions and actual targets\n",
        "\n",
        "n = 20\n",
        "y_n = [y_pred[i] for i, row in enumerate(range(n))]\n",
        "y_actual = [test_labels[i] for i, row in enumerate(range(n))]\n",
        "\n",
        "y_n, y_actual"
      ],
      "execution_count": 89,
      "outputs": [
        {
          "output_type": "execute_result",
          "data": {
            "text/plain": [
              "([9, 2, 1, 1, 6, 1, 4, 6, 5, 7, 4, 5, 5, 3, 4, 1, 2, 2, 8, 0],\n",
              " [9, 2, 1, 1, 6, 1, 4, 6, 5, 7, 4, 5, 7, 3, 4, 1, 2, 4, 8, 0])"
            ]
          },
          "metadata": {
            "tags": []
          },
          "execution_count": 89
        }
      ]
    },
    {
      "cell_type": "markdown",
      "metadata": {
        "colab_type": "text",
        "id": "emchW8DCusI2"
      },
      "source": [
        "Find misclassifications:"
      ]
    },
    {
      "cell_type": "code",
      "metadata": {
        "colab_type": "code",
        "id": "aXDIahTNutfP",
        "colab": {
          "base_uri": "https://localhost:8080/",
          "height": 34
        },
        "outputId": "683302c6-6928-47b1-9224-37f8bdf2941f"
      },
      "source": [
        "# compare predictions against actual targets\n",
        "\n",
        "miss_indx_list = [index for index, (x, y) in\n",
        "                  enumerate(zip(y_n, y_actual))\n",
        "                  if x != y]\n",
        "\n",
        "miss_indx_list"
      ],
      "execution_count": 90,
      "outputs": [
        {
          "output_type": "execute_result",
          "data": {
            "text/plain": [
              "[12, 17]"
            ]
          },
          "metadata": {
            "tags": []
          },
          "execution_count": 90
        }
      ]
    },
    {
      "cell_type": "markdown",
      "metadata": {
        "colab_type": "text",
        "id": "XyWMSOeM9P8z"
      },
      "source": [
        "If you don't get any misclassification, increase **n** size and rerun the last two code snippets!"
      ]
    },
    {
      "cell_type": "markdown",
      "metadata": {
        "colab_type": "text",
        "id": "8f-NacMVvnnO"
      },
      "source": [
        "So, we now have an array of misclassifications by their index. Now, let's see the confidence for each misclassifications:"
      ]
    },
    {
      "cell_type": "code",
      "metadata": {
        "colab_type": "code",
        "id": "CLtfQd8ovbGI",
        "colab": {
          "base_uri": "https://localhost:8080/",
          "height": 51
        },
        "outputId": "f1b1bb56-db2a-4424-b616-9d1b5f8890cd"
      },
      "source": [
        "# display confidence for each misclassfication:\n",
        "\n",
        "for row in miss_indx_list:\n",
        "  val = 100*np.max(predictions[row])\n",
        "  rounded = str(round(val, 2)) + '%'\n",
        "  print ('index:', row, 'confidence:', rounded,\n",
        "         'pred:', class_labels[np.argmax(predictions[row])],\n",
        "         'actual:', class_labels[test_labels[row]])"
      ],
      "execution_count": 91,
      "outputs": [
        {
          "output_type": "stream",
          "text": [
            "index: 12 confidence: 93.95% pred: Sandal actual: Sneaker\n",
            "index: 17 confidence: 79.38% pred: Pullover actual: Coat\n"
          ],
          "name": "stdout"
        }
      ]
    },
    {
      "cell_type": "markdown",
      "metadata": {
        "colab_type": "text",
        "id": "vobdiBLryoc5"
      },
      "source": [
        "## Visualize Misclassifications\n",
        "\n",
        "Create a function to visualize:"
      ]
    },
    {
      "cell_type": "code",
      "metadata": {
        "colab_type": "code",
        "id": "aqxx7atpxIkv",
        "colab": {}
      },
      "source": [
        "def see_misses(indx):\n",
        "  plt.imshow(test_images[indx], cmap='nipy_spectral')\n",
        "  plt.show()\n",
        "  print ('actual:', class_labels[test_labels[indx]])\n",
        "  print ('predicted:',\n",
        "         class_labels[np.argmax(predictions[indx])])\n",
        "  print ('confidence', rounded)"
      ],
      "execution_count": 92,
      "outputs": []
    },
    {
      "cell_type": "markdown",
      "metadata": {
        "id": "2AVWjYDLtPkI",
        "colab_type": "text"
      },
      "source": [
        "Invoke the function:"
      ]
    },
    {
      "cell_type": "code",
      "metadata": {
        "id": "UlvaJEGjtPqF",
        "colab_type": "code",
        "colab": {
          "base_uri": "https://localhost:8080/",
          "height": 615
        },
        "outputId": "ac643009-dc39-41f3-d4bf-1bd0f0184798"
      },
      "source": [
        "for row in miss_indx_list:\n",
        "  val = 100*np.max(predictions[row])\n",
        "  rounded = str(round(val, 2)) + '%'\n",
        "  see_misses(row)"
      ],
      "execution_count": 93,
      "outputs": [
        {
          "output_type": "display_data",
          "data": {
            "image/png": "[encoded data removed]",
            "text/plain": [
              "<Figure size 432x288 with 1 Axes>"
            ]
          },
          "metadata": {
            "tags": [],
            "needs_background": "light"
          }
        },
        {
          "output_type": "stream",
          "text": [
            "actual: Sneaker\n",
            "predicted: Sandal\n",
            "confidence 93.95%\n"
          ],
          "name": "stdout"
        },
        {
          "output_type": "display_data",
          "data": {
            "image/png": "[encoded data removed]",
            "text/plain": [
              "<Figure size 432x288 with 1 Axes>"
            ]
          },
          "metadata": {
            "tags": [],
            "needs_background": "light"
          }
        },
        {
          "output_type": "stream",
          "text": [
            "actual: Coat\n",
            "predicted: Pullover\n",
            "confidence 79.38%\n"
          ],
          "name": "stdout"
        }
      ]
    },
    {
      "cell_type": "markdown",
      "metadata": {
        "colab_type": "text",
        "id": "gKHoL5AV1KZJ"
      },
      "source": [
        "Let's get a bit more fancy and create a more sophisticated visualization:"
      ]
    },
    {
      "cell_type": "code",
      "metadata": {
        "colab_type": "code",
        "id": "ZspBnpQu1PEA",
        "colab": {
          "base_uri": "https://localhost:8080/",
          "height": 715
        },
        "outputId": "888fe356-7b56-4224-9463-6026d469b1ab"
      },
      "source": [
        "# Plot the first X test images, their true labels,\n",
        "# their predicted labels, and prediction confidence.\n",
        "\n",
        "num_rows = 5\n",
        "num_cols = 4\n",
        "num_images = num_rows*num_cols\n",
        "plt.figure(figsize=(2*2*num_cols, 2*num_rows))\n",
        "for i in range(num_images):\n",
        "  plt.subplot(num_rows, 2*num_cols, 2*i+1)\n",
        "  if class_labels[test_labels[i]] != class_labels[y_pred[i]]:\n",
        "    plt.imshow(test_images[i], cmap='Reds')\n",
        "  else:\n",
        "    plt.imshow(test_images[i], cmap='Blues')\n",
        "  val = 100*np.max(predictions[i])\n",
        "  rounded = str(np.round(val, 2)) + '%'\n",
        "  plt.title(class_labels[test_labels[i]] + ' (' +\\\n",
        "            class_labels[y_pred[i]] + ') ' + rounded )\n",
        "plt.tight_layout()\n",
        "plt.show()"
      ],
      "execution_count": 94,
      "outputs": [
        {
          "output_type": "display_data",
          "data": {
            "image/png": "[encoded data removed]",
            "text/plain": [
              "<Figure size 1152x720 with 20 Axes>"
            ]
          },
          "metadata": {
            "tags": [],
            "needs_background": "light"
          }
        }
      ]
    },
    {
      "cell_type": "markdown",
      "metadata": {
        "id": "KdB6fC4QxswA",
        "colab_type": "text"
      },
      "source": [
        "From this visualization, we can easily see misclassifications."
      ]
    },
    {
      "cell_type": "markdown",
      "metadata": {
        "colab_type": "text",
        "id": "wpMAeYHT_EQz"
      },
      "source": [
        "## Predict from a Single Image\n",
        "\n",
        "Get a randomly generated number:"
      ]
    },
    {
      "cell_type": "code",
      "metadata": {
        "id": "pEJDRdCramam",
        "colab_type": "code",
        "colab": {
          "base_uri": "https://localhost:8080/",
          "height": 34
        },
        "outputId": "be778946-a2ac-449a-b8b4-63f83fdaabb4"
      },
      "source": [
        "beg, end = 0, len(test_images) - 1\n",
        "rng = np.random.default_rng()\n",
        "indx = int(rng.uniform(beg, end, size=1))\n",
        "indx"
      ],
      "execution_count": 95,
      "outputs": [
        {
          "output_type": "execute_result",
          "data": {
            "text/plain": [
              "4537"
            ]
          },
          "metadata": {
            "tags": []
          },
          "execution_count": 95
        }
      ]
    },
    {
      "cell_type": "code",
      "metadata": {
        "colab_type": "code",
        "id": "YYksWN-3_nzU",
        "colab": {
          "base_uri": "https://localhost:8080/",
          "height": 34
        },
        "outputId": "56c5aacb-c230-43da-ded0-aed5713f8979"
      },
      "source": [
        "# Grab the image from the test dataset\n",
        "\n",
        "img = test_images[indx]\n",
        "label = class_labels[test_labels[indx]]\n",
        "img.shape, label"
      ],
      "execution_count": 96,
      "outputs": [
        {
          "output_type": "execute_result",
          "data": {
            "text/plain": [
              "((28, 28), 'Bag')"
            ]
          },
          "metadata": {
            "tags": []
          },
          "execution_count": 96
        }
      ]
    },
    {
      "cell_type": "markdown",
      "metadata": {
        "colab_type": "text",
        "id": "n1qygwjY_zwi"
      },
      "source": [
        "tf.keras models are optimized to make predictions on a batch or collection of examples at once. Accordingly, even though you're using a single image, you need to add it to a list:"
      ]
    },
    {
      "cell_type": "code",
      "metadata": {
        "colab_type": "code",
        "id": "LzbBMWue__gV",
        "colab": {
          "base_uri": "https://localhost:8080/",
          "height": 34
        },
        "outputId": "ae998468-46e9-466f-cd00-0a8bf6c65e1b"
      },
      "source": [
        "img_batch = (np.expand_dims(img, 0))\n",
        "img_batch.shape"
      ],
      "execution_count": 97,
      "outputs": [
        {
          "output_type": "execute_result",
          "data": {
            "text/plain": [
              "(1, 28, 28)"
            ]
          },
          "metadata": {
            "tags": []
          },
          "execution_count": 97
        }
      ]
    },
    {
      "cell_type": "markdown",
      "metadata": {
        "colab_type": "text",
        "id": "12zLVGa6AL3V"
      },
      "source": [
        "Now, we can predict:"
      ]
    },
    {
      "cell_type": "code",
      "metadata": {
        "colab_type": "code",
        "id": "q_rhzFg1AOec",
        "colab": {}
      },
      "source": [
        "pred_single = model.predict(img_batch)"
      ],
      "execution_count": 98,
      "outputs": []
    },
    {
      "cell_type": "markdown",
      "metadata": {
        "id": "dUDl3oCJiWN2",
        "colab_type": "text"
      },
      "source": [
        "Display prediction:"
      ]
    },
    {
      "cell_type": "code",
      "metadata": {
        "id": "7mPSnKjuiWVt",
        "colab_type": "code",
        "colab": {
          "base_uri": "https://localhost:8080/",
          "height": 34
        },
        "outputId": "9aea14bf-6e87-4a18-ce41-d1487fb13a7a"
      },
      "source": [
        "np.argmax(pred_single)"
      ],
      "execution_count": 99,
      "outputs": [
        {
          "output_type": "execute_result",
          "data": {
            "text/plain": [
              "8"
            ]
          },
          "metadata": {
            "tags": []
          },
          "execution_count": 99
        }
      ]
    },
    {
      "cell_type": "markdown",
      "metadata": {
        "id": "u6hogL9nikF3",
        "colab_type": "text"
      },
      "source": [
        "Display prediction by label name:"
      ]
    },
    {
      "cell_type": "code",
      "metadata": {
        "id": "IZqtIAHTikNz",
        "colab_type": "code",
        "colab": {
          "base_uri": "https://localhost:8080/",
          "height": 35
        },
        "outputId": "f4ef25a0-ed8f-4081-8815-da1afedc3d07"
      },
      "source": [
        "class_labels[np.argmax(pred_single)]"
      ],
      "execution_count": 100,
      "outputs": [
        {
          "output_type": "execute_result",
          "data": {
            "application/vnd.google.colaboratory.intrinsic": {
              "type": "string"
            },
            "text/plain": [
              "'Bag'"
            ]
          },
          "metadata": {
            "tags": []
          },
          "execution_count": 100
        }
      ]
    },
    {
      "cell_type": "markdown",
      "metadata": {
        "id": "FLbaKA6_52yU",
        "colab_type": "text"
      },
      "source": [
        "Display actual label:"
      ]
    },
    {
      "cell_type": "code",
      "metadata": {
        "id": "KqMH6DTp5241",
        "colab_type": "code",
        "colab": {
          "base_uri": "https://localhost:8080/",
          "height": 35
        },
        "outputId": "261f4754-5df1-4d44-b443-0fd13aba1de3"
      },
      "source": [
        "class_labels[test_labels[indx]]"
      ],
      "execution_count": 101,
      "outputs": [
        {
          "output_type": "execute_result",
          "data": {
            "application/vnd.google.colaboratory.intrinsic": {
              "type": "string"
            },
            "text/plain": [
              "'Bag'"
            ]
          },
          "metadata": {
            "tags": []
          },
          "execution_count": 101
        }
      ]
    },
    {
      "cell_type": "markdown",
      "metadata": {
        "colab_type": "text",
        "id": "t_BMx29SAutx"
      },
      "source": [
        "Let's visualize:"
      ]
    },
    {
      "cell_type": "code",
      "metadata": {
        "colab_type": "code",
        "id": "g2xLWCUWAjvN",
        "colab": {
          "base_uri": "https://localhost:8080/",
          "height": 316
        },
        "outputId": "b71571ed-7c35-444a-f2ac-9f44a2c6c727"
      },
      "source": [
        "pred = class_labels[np.argmax(pred_single)]\n",
        "actual = class_labels[test_labels[indx]]\n",
        "\n",
        "# get confidence from the predictions object\n",
        "val = 100*np.max(predictions[indx])\n",
        "rounded = str(np.round(val, 2)) + '%'\n",
        "\n",
        "# display actual image\n",
        "plt.imshow(test_images[indx], cmap=plt.cm.binary)\n",
        "plt.show()\n",
        "\n",
        "print ('actual:', actual)\n",
        "print ('predicted:', pred)\n",
        "print ('confidence', rounded)"
      ],
      "execution_count": 102,
      "outputs": [
        {
          "output_type": "display_data",
          "data": {
            "image/png": "[encoded data removed]",
            "text/plain": [
              "<Figure size 432x288 with 1 Axes>"
            ]
          },
          "metadata": {
            "tags": [],
            "needs_background": "light"
          }
        },
        {
          "output_type": "stream",
          "text": [
            "actual: Bag\n",
            "predicted: Bag\n",
            "confidence 100.0%\n"
          ],
          "name": "stdout"
        }
      ]
    },
    {
      "cell_type": "markdown",
      "metadata": {
        "colab_type": "text",
        "id": "toH5XGzqFI1K"
      },
      "source": [
        "# Confusion Matrix\n",
        "\n",
        "Create a confusion matrix to visually demonstrate how well our model classified the articles of clothing:"
      ]
    },
    {
      "cell_type": "code",
      "metadata": {
        "id": "uLK3WJYOngEn",
        "colab_type": "code",
        "colab": {
          "base_uri": "https://localhost:8080/",
          "height": 204
        },
        "outputId": "3c1360a0-cf84-4309-9fa7-264f2054645b"
      },
      "source": [
        "tf.math.confusion_matrix(test_labels, y_pred)"
      ],
      "execution_count": 103,
      "outputs": [
        {
          "output_type": "execute_result",
          "data": {
            "text/plain": [
              "<tf.Tensor: shape=(10, 10), dtype=int32, numpy=\n",
              "array([[848,   1,  22,  34,   5,   2,  83,   0,   5,   0],\n",
              "       [  2, 966,   0,  23,   3,   0,   5,   0,   1,   0],\n",
              "       [ 13,   0, 832,  10,  81,   0,  64,   0,   0,   0],\n",
              "       [ 19,   5,  13, 912,  27,   0,  21,   0,   3,   0],\n",
              "       [  0,   0, 119,  41, 758,   0,  82,   0,   0,   0],\n",
              "       [  0,   0,   0,   0,   0, 958,   0,  23,   0,  19],\n",
              "       [130,   0, 100,  35,  50,   0, 677,   0,   8,   0],\n",
              "       [  0,   0,   0,   0,   0,  13,   0, 953,   0,  34],\n",
              "       [  4,   0,   7,   4,   5,   2,   5,   4, 969,   0],\n",
              "       [  0,   0,   0,   0,   0,   6,   1,  31,   0, 962]], dtype=int32)>"
            ]
          },
          "metadata": {
            "tags": []
          },
          "execution_count": 103
        }
      ]
    },
    {
      "cell_type": "markdown",
      "metadata": {
        "id": "EG4tT0UEoENY",
        "colab_type": "text"
      },
      "source": [
        "Create a fancy confusion matrix:"
      ]
    },
    {
      "cell_type": "code",
      "metadata": {
        "colab_type": "code",
        "id": "ewbd05lUE--m",
        "colab": {
          "base_uri": "https://localhost:8080/",
          "height": 331
        },
        "outputId": "41bd53d4-976c-4e17-d638-7cee6dbc9e86"
      },
      "source": [
        "from sklearn.metrics import confusion_matrix, f1_score\n",
        "import matplotlib.pyplot as plt\n",
        "import seaborn as sns\n",
        "\n",
        "cm = confusion_matrix(test_labels, y_pred)\n",
        "plt.figure('confusion matrix')\n",
        "sns.heatmap(cm.T, square=True, annot=True, fmt='d',\n",
        "                cmap='gist_ncar_r',\n",
        "                xticklabels=class_labels,\n",
        "                yticklabels=class_labels, cbar=False)\n",
        "\n",
        "plt.xlabel('true label')\n",
        "plt.ylabel('predicted label')\n",
        "plt.tight_layout()\n",
        "plt.show()"
      ],
      "execution_count": 104,
      "outputs": [
        {
          "output_type": "stream",
          "text": [
            "/usr/local/lib/python3.6/dist-packages/statsmodels/tools/_testing.py:19: FutureWarning: pandas.util.testing is deprecated. Use the functions in the public API at pandas.testing instead.\n",
            "  import pandas.util.testing as tm\n"
          ],
          "name": "stderr"
        },
        {
          "output_type": "display_data",
          "data": {
            "image/png": "[encoded data removed]",
            "text/plain": [
              "<Figure size 432x288 with 1 Axes>"
            ]
          },
          "metadata": {
            "tags": [],
            "needs_background": "light"
          }
        }
      ]
    },
    {
      "cell_type": "markdown",
      "metadata": {
        "colab_type": "text",
        "id": "kip7rVqsZVnC"
      },
      "source": [
        "Correct classifications are along the diagonal. Misclassifications are not on the diagonal. For an excellent explanation of a confusion matrix, please peruse the following URL:\n",
        "\n",
        "https://www.dataschool.io/simple-guide-to-confusion-matrix-terminology/"
      ]
    },
    {
      "cell_type": "markdown",
      "metadata": {
        "colab_type": "text",
        "id": "_G_vUKLNacBq"
      },
      "source": [
        "# Number of Hidden Layers\n",
        "\n",
        "For many problems, we can begin with a single hidden layer and get reasonable results as we did with our Fashion-MNIST model in this chapter. For more complex problems, however, we should add layers until we start overfitting the training set. Since this book is for beginners, we won't venture into highly complex tasks. But, as you gain proficiency with neural network modeling, you will definitely face much more complex tasks.  "
      ]
    },
    {
      "cell_type": "markdown",
      "metadata": {
        "colab_type": "text",
        "id": "fYaAyzBGbj8i"
      },
      "source": [
        "# Number of Neurons in Hidden Layers\n",
        "\n",
        "The number of neurons in the input and output layers is based on the type of input and output your task requires. For example, the Fashion-MNIST task requires 28 x 28 = 784 input neurons and 10 output neurons. For hidden layers, it is very difficult to determine. You can try increasing the number of neurons gradually until the network starts overfitting. In practice, we typically pick a model with more layers and neurons than we need and then use early stopping and other regularization techniques to reduce overfitting. Again, this being a beginning book, we won't delve any deeper into tuning networks.\n",
        "\n",
        "Generally, we get a better model by increasing the number of layers rather than the number of neurons per layer. Of course, the number of layers and neurons we include is limited by our computational resources available."
      ]
    }
  ]
}