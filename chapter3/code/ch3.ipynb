{
  "nbformat": 4,
  "nbformat_minor": 0,
  "metadata": {
    "accelerator": "GPU",
    "colab": {
      "name": "ch3.ipynb",
      "provenance": [],
      "collapsed_sections": []
    },
    "kernelspec": {
      "display_name": "Python 3",
      "language": "python",
      "name": "python3"
    },
    "language_info": {
      "codemirror_mode": {
        "name": "ipython",
        "version": 3
      },
      "file_extension": ".py",
      "mimetype": "text/x-python",
      "name": "python",
      "nbconvert_exporter": "python",
      "pygments_lexer": "ipython3",
      "version": "3.7.3"
    },
    "widgets": {
      "application/vnd.jupyter.widget-state+json": {
        "74a9d52bccae4b3e8103a94b554a0975": {
          "model_module": "@jupyter-widgets/controls",
          "model_name": "HBoxModel",
          "state": {
            "_view_name": "HBoxView",
            "_dom_classes": [],
            "_model_name": "HBoxModel",
            "_view_module": "@jupyter-widgets/controls",
            "_model_module_version": "1.5.0",
            "_view_count": null,
            "_view_module_version": "1.5.0",
            "box_style": "",
            "layout": "IPY_MODEL_38c668e389764f7f8e69b9e104dd03a5",
            "_model_module": "@jupyter-widgets/controls",
            "children": [
              "IPY_MODEL_67d1cf43fe6f41f9872e589e4947eda5",
              "IPY_MODEL_0852438d9c344fa4b9e37983b679714a"
            ]
          }
        },
        "38c668e389764f7f8e69b9e104dd03a5": {
          "model_module": "@jupyter-widgets/base",
          "model_name": "LayoutModel",
          "state": {
            "_view_name": "LayoutView",
            "grid_template_rows": null,
            "right": null,
            "justify_content": null,
            "_view_module": "@jupyter-widgets/base",
            "overflow": null,
            "_model_module_version": "1.2.0",
            "_view_count": null,
            "flex_flow": null,
            "width": null,
            "min_width": null,
            "border": null,
            "align_items": null,
            "bottom": null,
            "_model_module": "@jupyter-widgets/base",
            "top": null,
            "grid_column": null,
            "overflow_y": null,
            "overflow_x": null,
            "grid_auto_flow": null,
            "grid_area": null,
            "grid_template_columns": null,
            "flex": null,
            "_model_name": "LayoutModel",
            "justify_items": null,
            "grid_row": null,
            "max_height": null,
            "align_content": null,
            "visibility": null,
            "align_self": null,
            "height": null,
            "min_height": null,
            "padding": null,
            "grid_auto_rows": null,
            "grid_gap": null,
            "max_width": null,
            "order": null,
            "_view_module_version": "1.2.0",
            "grid_template_areas": null,
            "object_position": null,
            "object_fit": null,
            "grid_auto_columns": null,
            "margin": null,
            "display": null,
            "left": null
          }
        },
        "67d1cf43fe6f41f9872e589e4947eda5": {
          "model_module": "@jupyter-widgets/controls",
          "model_name": "FloatProgressModel",
          "state": {
            "_view_name": "ProgressView",
            "style": "IPY_MODEL_caacd97ba087425d8277886127986d42",
            "_dom_classes": [],
            "description": "Dl Completed...: 100%",
            "_model_name": "FloatProgressModel",
            "bar_style": "success",
            "max": 4,
            "_view_module": "@jupyter-widgets/controls",
            "_model_module_version": "1.5.0",
            "value": 4,
            "_view_count": null,
            "_view_module_version": "1.5.0",
            "orientation": "horizontal",
            "min": 0,
            "description_tooltip": null,
            "_model_module": "@jupyter-widgets/controls",
            "layout": "IPY_MODEL_f7d5fe86dd12468592b55a06f266d403"
          }
        },
        "0852438d9c344fa4b9e37983b679714a": {
          "model_module": "@jupyter-widgets/controls",
          "model_name": "HTMLModel",
          "state": {
            "_view_name": "HTMLView",
            "style": "IPY_MODEL_178d5a8e870341989e0b0953e5f00879",
            "_dom_classes": [],
            "description": "",
            "_model_name": "HTMLModel",
            "placeholder": "​",
            "_view_module": "@jupyter-widgets/controls",
            "_model_module_version": "1.5.0",
            "value": " 4/4 [00:00&lt;00:00,  9.54 file/s]",
            "_view_count": null,
            "_view_module_version": "1.5.0",
            "description_tooltip": null,
            "_model_module": "@jupyter-widgets/controls",
            "layout": "IPY_MODEL_72a8321c23df4fcb948087aa37514ddf"
          }
        },
        "caacd97ba087425d8277886127986d42": {
          "model_module": "@jupyter-widgets/controls",
          "model_name": "ProgressStyleModel",
          "state": {
            "_view_name": "StyleView",
            "_model_name": "ProgressStyleModel",
            "description_width": "initial",
            "_view_module": "@jupyter-widgets/base",
            "_model_module_version": "1.5.0",
            "_view_count": null,
            "_view_module_version": "1.2.0",
            "bar_color": null,
            "_model_module": "@jupyter-widgets/controls"
          }
        },
        "f7d5fe86dd12468592b55a06f266d403": {
          "model_module": "@jupyter-widgets/base",
          "model_name": "LayoutModel",
          "state": {
            "_view_name": "LayoutView",
            "grid_template_rows": null,
            "right": null,
            "justify_content": null,
            "_view_module": "@jupyter-widgets/base",
            "overflow": null,
            "_model_module_version": "1.2.0",
            "_view_count": null,
            "flex_flow": null,
            "width": null,
            "min_width": null,
            "border": null,
            "align_items": null,
            "bottom": null,
            "_model_module": "@jupyter-widgets/base",
            "top": null,
            "grid_column": null,
            "overflow_y": null,
            "overflow_x": null,
            "grid_auto_flow": null,
            "grid_area": null,
            "grid_template_columns": null,
            "flex": null,
            "_model_name": "LayoutModel",
            "justify_items": null,
            "grid_row": null,
            "max_height": null,
            "align_content": null,
            "visibility": null,
            "align_self": null,
            "height": null,
            "min_height": null,
            "padding": null,
            "grid_auto_rows": null,
            "grid_gap": null,
            "max_width": null,
            "order": null,
            "_view_module_version": "1.2.0",
            "grid_template_areas": null,
            "object_position": null,
            "object_fit": null,
            "grid_auto_columns": null,
            "margin": null,
            "display": null,
            "left": null
          }
        },
        "178d5a8e870341989e0b0953e5f00879": {
          "model_module": "@jupyter-widgets/controls",
          "model_name": "DescriptionStyleModel",
          "state": {
            "_view_name": "StyleView",
            "_model_name": "DescriptionStyleModel",
            "description_width": "",
            "_view_module": "@jupyter-widgets/base",
            "_model_module_version": "1.5.0",
            "_view_count": null,
            "_view_module_version": "1.2.0",
            "_model_module": "@jupyter-widgets/controls"
          }
        },
        "72a8321c23df4fcb948087aa37514ddf": {
          "model_module": "@jupyter-widgets/base",
          "model_name": "LayoutModel",
          "state": {
            "_view_name": "LayoutView",
            "grid_template_rows": null,
            "right": null,
            "justify_content": null,
            "_view_module": "@jupyter-widgets/base",
            "overflow": null,
            "_model_module_version": "1.2.0",
            "_view_count": null,
            "flex_flow": null,
            "width": null,
            "min_width": null,
            "border": null,
            "align_items": null,
            "bottom": null,
            "_model_module": "@jupyter-widgets/base",
            "top": null,
            "grid_column": null,
            "overflow_y": null,
            "overflow_x": null,
            "grid_auto_flow": null,
            "grid_area": null,
            "grid_template_columns": null,
            "flex": null,
            "_model_name": "LayoutModel",
            "justify_items": null,
            "grid_row": null,
            "max_height": null,
            "align_content": null,
            "visibility": null,
            "align_self": null,
            "height": null,
            "min_height": null,
            "padding": null,
            "grid_auto_rows": null,
            "grid_gap": null,
            "max_width": null,
            "order": null,
            "_view_module_version": "1.2.0",
            "grid_template_areas": null,
            "object_position": null,
            "object_fit": null,
            "grid_auto_columns": null,
            "margin": null,
            "display": null,
            "left": null
          }
        },
        "a624fc2f5b8344819d6f7398071b3ef3": {
          "model_module": "@jupyter-widgets/controls",
          "model_name": "HBoxModel",
          "state": {
            "_view_name": "HBoxView",
            "_dom_classes": [],
            "_model_name": "HBoxModel",
            "_view_module": "@jupyter-widgets/controls",
            "_model_module_version": "1.5.0",
            "_view_count": null,
            "_view_module_version": "1.5.0",
            "box_style": "",
            "layout": "IPY_MODEL_3cb292dee7d44cf1a3e80b4b25ea0a35",
            "_model_module": "@jupyter-widgets/controls",
            "children": [
              "IPY_MODEL_d8975c471c3a4b129c1b29d55703c33b",
              "IPY_MODEL_57310d2954924607805019b2ace3c71f"
            ]
          }
        },
        "3cb292dee7d44cf1a3e80b4b25ea0a35": {
          "model_module": "@jupyter-widgets/base",
          "model_name": "LayoutModel",
          "state": {
            "_view_name": "LayoutView",
            "grid_template_rows": null,
            "right": null,
            "justify_content": null,
            "_view_module": "@jupyter-widgets/base",
            "overflow": null,
            "_model_module_version": "1.2.0",
            "_view_count": null,
            "flex_flow": null,
            "width": null,
            "min_width": null,
            "border": null,
            "align_items": null,
            "bottom": null,
            "_model_module": "@jupyter-widgets/base",
            "top": null,
            "grid_column": null,
            "overflow_y": null,
            "overflow_x": null,
            "grid_auto_flow": null,
            "grid_area": null,
            "grid_template_columns": null,
            "flex": null,
            "_model_name": "LayoutModel",
            "justify_items": null,
            "grid_row": null,
            "max_height": null,
            "align_content": null,
            "visibility": null,
            "align_self": null,
            "height": null,
            "min_height": null,
            "padding": null,
            "grid_auto_rows": null,
            "grid_gap": null,
            "max_width": null,
            "order": null,
            "_view_module_version": "1.2.0",
            "grid_template_areas": null,
            "object_position": null,
            "object_fit": null,
            "grid_auto_columns": null,
            "margin": null,
            "display": null,
            "left": null
          }
        },
        "d8975c471c3a4b129c1b29d55703c33b": {
          "model_module": "@jupyter-widgets/controls",
          "model_name": "FloatProgressModel",
          "state": {
            "_view_name": "ProgressView",
            "style": "IPY_MODEL_64c3a756d71d415f8c155015dda0ce58",
            "_dom_classes": [],
            "description": "Dl Completed...: 100%",
            "_model_name": "FloatProgressModel",
            "bar_style": "success",
            "max": 1,
            "_view_module": "@jupyter-widgets/controls",
            "_model_module_version": "1.5.0",
            "value": 1,
            "_view_count": null,
            "_view_module_version": "1.5.0",
            "orientation": "horizontal",
            "min": 0,
            "description_tooltip": null,
            "_model_module": "@jupyter-widgets/controls",
            "layout": "IPY_MODEL_bc2fb79afcc0494fbc748995320e5e06"
          }
        },
        "57310d2954924607805019b2ace3c71f": {
          "model_module": "@jupyter-widgets/controls",
          "model_name": "HTMLModel",
          "state": {
            "_view_name": "HTMLView",
            "style": "IPY_MODEL_9ddbf2006ab4478787a0c6e10eee9bd4",
            "_dom_classes": [],
            "description": "",
            "_model_name": "HTMLModel",
            "placeholder": "​",
            "_view_module": "@jupyter-widgets/controls",
            "_model_module_version": "1.5.0",
            "value": " 1/1 [00:05&lt;00:00,  5.81s/ url]",
            "_view_count": null,
            "_view_module_version": "1.5.0",
            "description_tooltip": null,
            "_model_module": "@jupyter-widgets/controls",
            "layout": "IPY_MODEL_4f2a229ab4494ecb86423e89edb08c7d"
          }
        },
        "64c3a756d71d415f8c155015dda0ce58": {
          "model_module": "@jupyter-widgets/controls",
          "model_name": "ProgressStyleModel",
          "state": {
            "_view_name": "StyleView",
            "_model_name": "ProgressStyleModel",
            "description_width": "initial",
            "_view_module": "@jupyter-widgets/base",
            "_model_module_version": "1.5.0",
            "_view_count": null,
            "_view_module_version": "1.2.0",
            "bar_color": null,
            "_model_module": "@jupyter-widgets/controls"
          }
        },
        "bc2fb79afcc0494fbc748995320e5e06": {
          "model_module": "@jupyter-widgets/base",
          "model_name": "LayoutModel",
          "state": {
            "_view_name": "LayoutView",
            "grid_template_rows": null,
            "right": null,
            "justify_content": null,
            "_view_module": "@jupyter-widgets/base",
            "overflow": null,
            "_model_module_version": "1.2.0",
            "_view_count": null,
            "flex_flow": null,
            "width": null,
            "min_width": null,
            "border": null,
            "align_items": null,
            "bottom": null,
            "_model_module": "@jupyter-widgets/base",
            "top": null,
            "grid_column": null,
            "overflow_y": null,
            "overflow_x": null,
            "grid_auto_flow": null,
            "grid_area": null,
            "grid_template_columns": null,
            "flex": null,
            "_model_name": "LayoutModel",
            "justify_items": null,
            "grid_row": null,
            "max_height": null,
            "align_content": null,
            "visibility": null,
            "align_self": null,
            "height": null,
            "min_height": null,
            "padding": null,
            "grid_auto_rows": null,
            "grid_gap": null,
            "max_width": null,
            "order": null,
            "_view_module_version": "1.2.0",
            "grid_template_areas": null,
            "object_position": null,
            "object_fit": null,
            "grid_auto_columns": null,
            "margin": null,
            "display": null,
            "left": null
          }
        },
        "9ddbf2006ab4478787a0c6e10eee9bd4": {
          "model_module": "@jupyter-widgets/controls",
          "model_name": "DescriptionStyleModel",
          "state": {
            "_view_name": "StyleView",
            "_model_name": "DescriptionStyleModel",
            "description_width": "",
            "_view_module": "@jupyter-widgets/base",
            "_model_module_version": "1.5.0",
            "_view_count": null,
            "_view_module_version": "1.2.0",
            "_model_module": "@jupyter-widgets/controls"
          }
        },
        "4f2a229ab4494ecb86423e89edb08c7d": {
          "model_module": "@jupyter-widgets/base",
          "model_name": "LayoutModel",
          "state": {
            "_view_name": "LayoutView",
            "grid_template_rows": null,
            "right": null,
            "justify_content": null,
            "_view_module": "@jupyter-widgets/base",
            "overflow": null,
            "_model_module_version": "1.2.0",
            "_view_count": null,
            "flex_flow": null,
            "width": null,
            "min_width": null,
            "border": null,
            "align_items": null,
            "bottom": null,
            "_model_module": "@jupyter-widgets/base",
            "top": null,
            "grid_column": null,
            "overflow_y": null,
            "overflow_x": null,
            "grid_auto_flow": null,
            "grid_area": null,
            "grid_template_columns": null,
            "flex": null,
            "_model_name": "LayoutModel",
            "justify_items": null,
            "grid_row": null,
            "max_height": null,
            "align_content": null,
            "visibility": null,
            "align_self": null,
            "height": null,
            "min_height": null,
            "padding": null,
            "grid_auto_rows": null,
            "grid_gap": null,
            "max_width": null,
            "order": null,
            "_view_module_version": "1.2.0",
            "grid_template_areas": null,
            "object_position": null,
            "object_fit": null,
            "grid_auto_columns": null,
            "margin": null,
            "display": null,
            "left": null
          }
        },
        "73367c1813114db49df508d93996b177": {
          "model_module": "@jupyter-widgets/controls",
          "model_name": "HBoxModel",
          "state": {
            "_view_name": "HBoxView",
            "_dom_classes": [],
            "_model_name": "HBoxModel",
            "_view_module": "@jupyter-widgets/controls",
            "_model_module_version": "1.5.0",
            "_view_count": null,
            "_view_module_version": "1.5.0",
            "box_style": "",
            "layout": "IPY_MODEL_e5c84caa41d04a12ac9ba7bcfd6e3d62",
            "_model_module": "@jupyter-widgets/controls",
            "children": [
              "IPY_MODEL_3de3034cfb7943b684430befdaf46b00",
              "IPY_MODEL_d3651f11a6a1425fa6dba5863ea38e57"
            ]
          }
        },
        "e5c84caa41d04a12ac9ba7bcfd6e3d62": {
          "model_module": "@jupyter-widgets/base",
          "model_name": "LayoutModel",
          "state": {
            "_view_name": "LayoutView",
            "grid_template_rows": null,
            "right": null,
            "justify_content": null,
            "_view_module": "@jupyter-widgets/base",
            "overflow": null,
            "_model_module_version": "1.2.0",
            "_view_count": null,
            "flex_flow": null,
            "width": null,
            "min_width": null,
            "border": null,
            "align_items": null,
            "bottom": null,
            "_model_module": "@jupyter-widgets/base",
            "top": null,
            "grid_column": null,
            "overflow_y": null,
            "overflow_x": null,
            "grid_auto_flow": null,
            "grid_area": null,
            "grid_template_columns": null,
            "flex": null,
            "_model_name": "LayoutModel",
            "justify_items": null,
            "grid_row": null,
            "max_height": null,
            "align_content": null,
            "visibility": null,
            "align_self": null,
            "height": null,
            "min_height": null,
            "padding": null,
            "grid_auto_rows": null,
            "grid_gap": null,
            "max_width": null,
            "order": null,
            "_view_module_version": "1.2.0",
            "grid_template_areas": null,
            "object_position": null,
            "object_fit": null,
            "grid_auto_columns": null,
            "margin": null,
            "display": null,
            "left": null
          }
        },
        "3de3034cfb7943b684430befdaf46b00": {
          "model_module": "@jupyter-widgets/controls",
          "model_name": "FloatProgressModel",
          "state": {
            "_view_name": "ProgressView",
            "style": "IPY_MODEL_f12562efff264a05be6ef5a82d88d27b",
            "_dom_classes": [],
            "description": "Dl Size...: 100%",
            "_model_name": "FloatProgressModel",
            "bar_style": "success",
            "max": 1,
            "_view_module": "@jupyter-widgets/controls",
            "_model_module_version": "1.5.0",
            "value": 1,
            "_view_count": null,
            "_view_module_version": "1.5.0",
            "orientation": "horizontal",
            "min": 0,
            "description_tooltip": null,
            "_model_module": "@jupyter-widgets/controls",
            "layout": "IPY_MODEL_03de0050215a4aaa85a9c106e4cf4a69"
          }
        },
        "d3651f11a6a1425fa6dba5863ea38e57": {
          "model_module": "@jupyter-widgets/controls",
          "model_name": "HTMLModel",
          "state": {
            "_view_name": "HTMLView",
            "style": "IPY_MODEL_b8b6d8b9457b4d1096aa3e3aee3ed6dd",
            "_dom_classes": [],
            "description": "",
            "_model_name": "HTMLModel",
            "placeholder": "​",
            "_view_module": "@jupyter-widgets/controls",
            "_model_module_version": "1.5.0",
            "value": " 162/162 [00:05&lt;00:00, 28.06 MiB/s]",
            "_view_count": null,
            "_view_module_version": "1.5.0",
            "description_tooltip": null,
            "_model_module": "@jupyter-widgets/controls",
            "layout": "IPY_MODEL_b5ef90ddb0db40a58069e50d635cd690"
          }
        },
        "f12562efff264a05be6ef5a82d88d27b": {
          "model_module": "@jupyter-widgets/controls",
          "model_name": "ProgressStyleModel",
          "state": {
            "_view_name": "StyleView",
            "_model_name": "ProgressStyleModel",
            "description_width": "initial",
            "_view_module": "@jupyter-widgets/base",
            "_model_module_version": "1.5.0",
            "_view_count": null,
            "_view_module_version": "1.2.0",
            "bar_color": null,
            "_model_module": "@jupyter-widgets/controls"
          }
        },
        "03de0050215a4aaa85a9c106e4cf4a69": {
          "model_module": "@jupyter-widgets/base",
          "model_name": "LayoutModel",
          "state": {
            "_view_name": "LayoutView",
            "grid_template_rows": null,
            "right": null,
            "justify_content": null,
            "_view_module": "@jupyter-widgets/base",
            "overflow": null,
            "_model_module_version": "1.2.0",
            "_view_count": null,
            "flex_flow": null,
            "width": null,
            "min_width": null,
            "border": null,
            "align_items": null,
            "bottom": null,
            "_model_module": "@jupyter-widgets/base",
            "top": null,
            "grid_column": null,
            "overflow_y": null,
            "overflow_x": null,
            "grid_auto_flow": null,
            "grid_area": null,
            "grid_template_columns": null,
            "flex": null,
            "_model_name": "LayoutModel",
            "justify_items": null,
            "grid_row": null,
            "max_height": null,
            "align_content": null,
            "visibility": null,
            "align_self": null,
            "height": null,
            "min_height": null,
            "padding": null,
            "grid_auto_rows": null,
            "grid_gap": null,
            "max_width": null,
            "order": null,
            "_view_module_version": "1.2.0",
            "grid_template_areas": null,
            "object_position": null,
            "object_fit": null,
            "grid_auto_columns": null,
            "margin": null,
            "display": null,
            "left": null
          }
        },
        "b8b6d8b9457b4d1096aa3e3aee3ed6dd": {
          "model_module": "@jupyter-widgets/controls",
          "model_name": "DescriptionStyleModel",
          "state": {
            "_view_name": "StyleView",
            "_model_name": "DescriptionStyleModel",
            "description_width": "",
            "_view_module": "@jupyter-widgets/base",
            "_model_module_version": "1.5.0",
            "_view_count": null,
            "_view_module_version": "1.2.0",
            "_model_module": "@jupyter-widgets/controls"
          }
        },
        "b5ef90ddb0db40a58069e50d635cd690": {
          "model_module": "@jupyter-widgets/base",
          "model_name": "LayoutModel",
          "state": {
            "_view_name": "LayoutView",
            "grid_template_rows": null,
            "right": null,
            "justify_content": null,
            "_view_module": "@jupyter-widgets/base",
            "overflow": null,
            "_model_module_version": "1.2.0",
            "_view_count": null,
            "flex_flow": null,
            "width": null,
            "min_width": null,
            "border": null,
            "align_items": null,
            "bottom": null,
            "_model_module": "@jupyter-widgets/base",
            "top": null,
            "grid_column": null,
            "overflow_y": null,
            "overflow_x": null,
            "grid_auto_flow": null,
            "grid_area": null,
            "grid_template_columns": null,
            "flex": null,
            "_model_name": "LayoutModel",
            "justify_items": null,
            "grid_row": null,
            "max_height": null,
            "align_content": null,
            "visibility": null,
            "align_self": null,
            "height": null,
            "min_height": null,
            "padding": null,
            "grid_auto_rows": null,
            "grid_gap": null,
            "max_width": null,
            "order": null,
            "_view_module_version": "1.2.0",
            "grid_template_areas": null,
            "object_position": null,
            "object_fit": null,
            "grid_auto_columns": null,
            "margin": null,
            "display": null,
            "left": null
          }
        },
        "cef08995ffcf4a2baefbce30f53c96ff": {
          "model_module": "@jupyter-widgets/controls",
          "model_name": "HBoxModel",
          "state": {
            "_view_name": "HBoxView",
            "_dom_classes": [],
            "_model_name": "HBoxModel",
            "_view_module": "@jupyter-widgets/controls",
            "_model_module_version": "1.5.0",
            "_view_count": null,
            "_view_module_version": "1.5.0",
            "box_style": "",
            "layout": "IPY_MODEL_d77517c16f9d42749934c5c1ad779436",
            "_model_module": "@jupyter-widgets/controls",
            "children": [
              "IPY_MODEL_af4e71db5cc44b63aefa16f19e2cd8eb",
              "IPY_MODEL_0f50987fe510495e915c90a7d86ecd9d"
            ]
          }
        },
        "d77517c16f9d42749934c5c1ad779436": {
          "model_module": "@jupyter-widgets/base",
          "model_name": "LayoutModel",
          "state": {
            "_view_name": "LayoutView",
            "grid_template_rows": null,
            "right": null,
            "justify_content": null,
            "_view_module": "@jupyter-widgets/base",
            "overflow": null,
            "_model_module_version": "1.2.0",
            "_view_count": null,
            "flex_flow": null,
            "width": null,
            "min_width": null,
            "border": null,
            "align_items": null,
            "bottom": null,
            "_model_module": "@jupyter-widgets/base",
            "top": null,
            "grid_column": null,
            "overflow_y": null,
            "overflow_x": null,
            "grid_auto_flow": null,
            "grid_area": null,
            "grid_template_columns": null,
            "flex": null,
            "_model_name": "LayoutModel",
            "justify_items": null,
            "grid_row": null,
            "max_height": null,
            "align_content": null,
            "visibility": null,
            "align_self": null,
            "height": null,
            "min_height": null,
            "padding": null,
            "grid_auto_rows": null,
            "grid_gap": null,
            "max_width": null,
            "order": null,
            "_view_module_version": "1.2.0",
            "grid_template_areas": null,
            "object_position": null,
            "object_fit": null,
            "grid_auto_columns": null,
            "margin": null,
            "display": null,
            "left": null
          }
        },
        "af4e71db5cc44b63aefa16f19e2cd8eb": {
          "model_module": "@jupyter-widgets/controls",
          "model_name": "FloatProgressModel",
          "state": {
            "_view_name": "ProgressView",
            "style": "IPY_MODEL_5c0aaa91efc8484f9b35a90dfba0f86b",
            "_dom_classes": [],
            "description": "Extraction completed...: 100%",
            "_model_name": "FloatProgressModel",
            "bar_style": "success",
            "max": 1,
            "_view_module": "@jupyter-widgets/controls",
            "_model_module_version": "1.5.0",
            "value": 1,
            "_view_count": null,
            "_view_module_version": "1.5.0",
            "orientation": "horizontal",
            "min": 0,
            "description_tooltip": null,
            "_model_module": "@jupyter-widgets/controls",
            "layout": "IPY_MODEL_753d2efc85614df78affaab4b017765e"
          }
        },
        "0f50987fe510495e915c90a7d86ecd9d": {
          "model_module": "@jupyter-widgets/controls",
          "model_name": "HTMLModel",
          "state": {
            "_view_name": "HTMLView",
            "style": "IPY_MODEL_4a1965036ea04002b734e6824c8a3f20",
            "_dom_classes": [],
            "description": "",
            "_model_name": "HTMLModel",
            "placeholder": "​",
            "_view_module": "@jupyter-widgets/controls",
            "_model_module_version": "1.5.0",
            "value": " 1/1 [00:05&lt;00:00,  5.74s/ file]",
            "_view_count": null,
            "_view_module_version": "1.5.0",
            "description_tooltip": null,
            "_model_module": "@jupyter-widgets/controls",
            "layout": "IPY_MODEL_6c0867234f22470e95d35b88d73e6d74"
          }
        },
        "5c0aaa91efc8484f9b35a90dfba0f86b": {
          "model_module": "@jupyter-widgets/controls",
          "model_name": "ProgressStyleModel",
          "state": {
            "_view_name": "StyleView",
            "_model_name": "ProgressStyleModel",
            "description_width": "initial",
            "_view_module": "@jupyter-widgets/base",
            "_model_module_version": "1.5.0",
            "_view_count": null,
            "_view_module_version": "1.2.0",
            "bar_color": null,
            "_model_module": "@jupyter-widgets/controls"
          }
        },
        "753d2efc85614df78affaab4b017765e": {
          "model_module": "@jupyter-widgets/base",
          "model_name": "LayoutModel",
          "state": {
            "_view_name": "LayoutView",
            "grid_template_rows": null,
            "right": null,
            "justify_content": null,
            "_view_module": "@jupyter-widgets/base",
            "overflow": null,
            "_model_module_version": "1.2.0",
            "_view_count": null,
            "flex_flow": null,
            "width": null,
            "min_width": null,
            "border": null,
            "align_items": null,
            "bottom": null,
            "_model_module": "@jupyter-widgets/base",
            "top": null,
            "grid_column": null,
            "overflow_y": null,
            "overflow_x": null,
            "grid_auto_flow": null,
            "grid_area": null,
            "grid_template_columns": null,
            "flex": null,
            "_model_name": "LayoutModel",
            "justify_items": null,
            "grid_row": null,
            "max_height": null,
            "align_content": null,
            "visibility": null,
            "align_self": null,
            "height": null,
            "min_height": null,
            "padding": null,
            "grid_auto_rows": null,
            "grid_gap": null,
            "max_width": null,
            "order": null,
            "_view_module_version": "1.2.0",
            "grid_template_areas": null,
            "object_position": null,
            "object_fit": null,
            "grid_auto_columns": null,
            "margin": null,
            "display": null,
            "left": null
          }
        },
        "4a1965036ea04002b734e6824c8a3f20": {
          "model_module": "@jupyter-widgets/controls",
          "model_name": "DescriptionStyleModel",
          "state": {
            "_view_name": "StyleView",
            "_model_name": "DescriptionStyleModel",
            "description_width": "",
            "_view_module": "@jupyter-widgets/base",
            "_model_module_version": "1.5.0",
            "_view_count": null,
            "_view_module_version": "1.2.0",
            "_model_module": "@jupyter-widgets/controls"
          }
        },
        "6c0867234f22470e95d35b88d73e6d74": {
          "model_module": "@jupyter-widgets/base",
          "model_name": "LayoutModel",
          "state": {
            "_view_name": "LayoutView",
            "grid_template_rows": null,
            "right": null,
            "justify_content": null,
            "_view_module": "@jupyter-widgets/base",
            "overflow": null,
            "_model_module_version": "1.2.0",
            "_view_count": null,
            "flex_flow": null,
            "width": null,
            "min_width": null,
            "border": null,
            "align_items": null,
            "bottom": null,
            "_model_module": "@jupyter-widgets/base",
            "top": null,
            "grid_column": null,
            "overflow_y": null,
            "overflow_x": null,
            "grid_auto_flow": null,
            "grid_area": null,
            "grid_template_columns": null,
            "flex": null,
            "_model_name": "LayoutModel",
            "justify_items": null,
            "grid_row": null,
            "max_height": null,
            "align_content": null,
            "visibility": null,
            "align_self": null,
            "height": null,
            "min_height": null,
            "padding": null,
            "grid_auto_rows": null,
            "grid_gap": null,
            "max_width": null,
            "order": null,
            "_view_module_version": "1.2.0",
            "grid_template_areas": null,
            "object_position": null,
            "object_fit": null,
            "grid_auto_columns": null,
            "margin": null,
            "display": null,
            "left": null
          }
        },
        "0f5c1da857ab41ee9c13122ddfb5c41b": {
          "model_module": "@jupyter-widgets/controls",
          "model_name": "HBoxModel",
          "state": {
            "_view_name": "HBoxView",
            "_dom_classes": [],
            "_model_name": "HBoxModel",
            "_view_module": "@jupyter-widgets/controls",
            "_model_module_version": "1.5.0",
            "_view_count": null,
            "_view_module_version": "1.5.0",
            "box_style": "",
            "layout": "IPY_MODEL_281a63577bee4198b96fc05d98fef74e",
            "_model_module": "@jupyter-widgets/controls",
            "children": [
              "IPY_MODEL_e41ee2ad92f4411fba23bee4dc4f1340",
              "IPY_MODEL_dc42f4c03723481f8e333e696447ed85"
            ]
          }
        },
        "281a63577bee4198b96fc05d98fef74e": {
          "model_module": "@jupyter-widgets/base",
          "model_name": "LayoutModel",
          "state": {
            "_view_name": "LayoutView",
            "grid_template_rows": null,
            "right": null,
            "justify_content": null,
            "_view_module": "@jupyter-widgets/base",
            "overflow": null,
            "_model_module_version": "1.2.0",
            "_view_count": null,
            "flex_flow": null,
            "width": null,
            "min_width": null,
            "border": null,
            "align_items": null,
            "bottom": null,
            "_model_module": "@jupyter-widgets/base",
            "top": null,
            "grid_column": null,
            "overflow_y": null,
            "overflow_x": null,
            "grid_auto_flow": null,
            "grid_area": null,
            "grid_template_columns": null,
            "flex": null,
            "_model_name": "LayoutModel",
            "justify_items": null,
            "grid_row": null,
            "max_height": null,
            "align_content": null,
            "visibility": null,
            "align_self": null,
            "height": null,
            "min_height": null,
            "padding": null,
            "grid_auto_rows": null,
            "grid_gap": null,
            "max_width": null,
            "order": null,
            "_view_module_version": "1.2.0",
            "grid_template_areas": null,
            "object_position": null,
            "object_fit": null,
            "grid_auto_columns": null,
            "margin": null,
            "display": null,
            "left": null
          }
        },
        "e41ee2ad92f4411fba23bee4dc4f1340": {
          "model_module": "@jupyter-widgets/controls",
          "model_name": "FloatProgressModel",
          "state": {
            "_view_name": "ProgressView",
            "style": "IPY_MODEL_b3493693333b4f0e81fcefd70c18c62d",
            "_dom_classes": [],
            "description": "",
            "_model_name": "FloatProgressModel",
            "bar_style": "info",
            "max": 1,
            "_view_module": "@jupyter-widgets/controls",
            "_model_module_version": "1.5.0",
            "value": 1,
            "_view_count": null,
            "_view_module_version": "1.5.0",
            "orientation": "horizontal",
            "min": 0,
            "description_tooltip": null,
            "_model_module": "@jupyter-widgets/controls",
            "layout": "IPY_MODEL_c55a673a586f49528c72bf1a39aee976"
          }
        },
        "dc42f4c03723481f8e333e696447ed85": {
          "model_module": "@jupyter-widgets/controls",
          "model_name": "HTMLModel",
          "state": {
            "_view_name": "HTMLView",
            "style": "IPY_MODEL_2a9e1fdfb21a41aa9d570434429453e9",
            "_dom_classes": [],
            "description": "",
            "_model_name": "HTMLModel",
            "placeholder": "​",
            "_view_module": "@jupyter-widgets/controls",
            "_model_module_version": "1.5.0",
            "value": " 50000/0 [00:26&lt;00:00, 1929.30 examples/s]",
            "_view_count": null,
            "_view_module_version": "1.5.0",
            "description_tooltip": null,
            "_model_module": "@jupyter-widgets/controls",
            "layout": "IPY_MODEL_de2bf1dc0dcd42b6982eec88be569a03"
          }
        },
        "b3493693333b4f0e81fcefd70c18c62d": {
          "model_module": "@jupyter-widgets/controls",
          "model_name": "ProgressStyleModel",
          "state": {
            "_view_name": "StyleView",
            "_model_name": "ProgressStyleModel",
            "description_width": "initial",
            "_view_module": "@jupyter-widgets/base",
            "_model_module_version": "1.5.0",
            "_view_count": null,
            "_view_module_version": "1.2.0",
            "bar_color": null,
            "_model_module": "@jupyter-widgets/controls"
          }
        },
        "c55a673a586f49528c72bf1a39aee976": {
          "model_module": "@jupyter-widgets/base",
          "model_name": "LayoutModel",
          "state": {
            "_view_name": "LayoutView",
            "grid_template_rows": null,
            "right": null,
            "justify_content": null,
            "_view_module": "@jupyter-widgets/base",
            "overflow": null,
            "_model_module_version": "1.2.0",
            "_view_count": null,
            "flex_flow": null,
            "width": null,
            "min_width": null,
            "border": null,
            "align_items": null,
            "bottom": null,
            "_model_module": "@jupyter-widgets/base",
            "top": null,
            "grid_column": null,
            "overflow_y": null,
            "overflow_x": null,
            "grid_auto_flow": null,
            "grid_area": null,
            "grid_template_columns": null,
            "flex": null,
            "_model_name": "LayoutModel",
            "justify_items": null,
            "grid_row": null,
            "max_height": null,
            "align_content": null,
            "visibility": null,
            "align_self": null,
            "height": null,
            "min_height": null,
            "padding": null,
            "grid_auto_rows": null,
            "grid_gap": null,
            "max_width": null,
            "order": null,
            "_view_module_version": "1.2.0",
            "grid_template_areas": null,
            "object_position": null,
            "object_fit": null,
            "grid_auto_columns": null,
            "margin": null,
            "display": null,
            "left": null
          }
        },
        "2a9e1fdfb21a41aa9d570434429453e9": {
          "model_module": "@jupyter-widgets/controls",
          "model_name": "DescriptionStyleModel",
          "state": {
            "_view_name": "StyleView",
            "_model_name": "DescriptionStyleModel",
            "description_width": "",
            "_view_module": "@jupyter-widgets/base",
            "_model_module_version": "1.5.0",
            "_view_count": null,
            "_view_module_version": "1.2.0",
            "_model_module": "@jupyter-widgets/controls"
          }
        },
        "de2bf1dc0dcd42b6982eec88be569a03": {
          "model_module": "@jupyter-widgets/base",
          "model_name": "LayoutModel",
          "state": {
            "_view_name": "LayoutView",
            "grid_template_rows": null,
            "right": null,
            "justify_content": null,
            "_view_module": "@jupyter-widgets/base",
            "overflow": null,
            "_model_module_version": "1.2.0",
            "_view_count": null,
            "flex_flow": null,
            "width": null,
            "min_width": null,
            "border": null,
            "align_items": null,
            "bottom": null,
            "_model_module": "@jupyter-widgets/base",
            "top": null,
            "grid_column": null,
            "overflow_y": null,
            "overflow_x": null,
            "grid_auto_flow": null,
            "grid_area": null,
            "grid_template_columns": null,
            "flex": null,
            "_model_name": "LayoutModel",
            "justify_items": null,
            "grid_row": null,
            "max_height": null,
            "align_content": null,
            "visibility": null,
            "align_self": null,
            "height": null,
            "min_height": null,
            "padding": null,
            "grid_auto_rows": null,
            "grid_gap": null,
            "max_width": null,
            "order": null,
            "_view_module_version": "1.2.0",
            "grid_template_areas": null,
            "object_position": null,
            "object_fit": null,
            "grid_auto_columns": null,
            "margin": null,
            "display": null,
            "left": null
          }
        },
        "da3a03c066814b7c89f7a06efa1274d3": {
          "model_module": "@jupyter-widgets/controls",
          "model_name": "HBoxModel",
          "state": {
            "_view_name": "HBoxView",
            "_dom_classes": [],
            "_model_name": "HBoxModel",
            "_view_module": "@jupyter-widgets/controls",
            "_model_module_version": "1.5.0",
            "_view_count": null,
            "_view_module_version": "1.5.0",
            "box_style": "",
            "layout": "IPY_MODEL_75415546b1e04b73886884f690ba304c",
            "_model_module": "@jupyter-widgets/controls",
            "children": [
              "IPY_MODEL_a3fb3cd77be34b27956101c568e9f600",
              "IPY_MODEL_ae894eb7f7e54d1ca21c4f68be3271a6"
            ]
          }
        },
        "75415546b1e04b73886884f690ba304c": {
          "model_module": "@jupyter-widgets/base",
          "model_name": "LayoutModel",
          "state": {
            "_view_name": "LayoutView",
            "grid_template_rows": null,
            "right": null,
            "justify_content": null,
            "_view_module": "@jupyter-widgets/base",
            "overflow": null,
            "_model_module_version": "1.2.0",
            "_view_count": null,
            "flex_flow": null,
            "width": null,
            "min_width": null,
            "border": null,
            "align_items": null,
            "bottom": null,
            "_model_module": "@jupyter-widgets/base",
            "top": null,
            "grid_column": null,
            "overflow_y": null,
            "overflow_x": null,
            "grid_auto_flow": null,
            "grid_area": null,
            "grid_template_columns": null,
            "flex": null,
            "_model_name": "LayoutModel",
            "justify_items": null,
            "grid_row": null,
            "max_height": null,
            "align_content": null,
            "visibility": null,
            "align_self": null,
            "height": null,
            "min_height": null,
            "padding": null,
            "grid_auto_rows": null,
            "grid_gap": null,
            "max_width": null,
            "order": null,
            "_view_module_version": "1.2.0",
            "grid_template_areas": null,
            "object_position": null,
            "object_fit": null,
            "grid_auto_columns": null,
            "margin": null,
            "display": null,
            "left": null
          }
        },
        "a3fb3cd77be34b27956101c568e9f600": {
          "model_module": "@jupyter-widgets/controls",
          "model_name": "FloatProgressModel",
          "state": {
            "_view_name": "ProgressView",
            "style": "IPY_MODEL_926f8e84c4464acfbf4e674623e72ef3",
            "_dom_classes": [],
            "description": " 98%",
            "_model_name": "FloatProgressModel",
            "bar_style": "danger",
            "max": 50000,
            "_view_module": "@jupyter-widgets/controls",
            "_model_module_version": "1.5.0",
            "value": 48801,
            "_view_count": null,
            "_view_module_version": "1.5.0",
            "orientation": "horizontal",
            "min": 0,
            "description_tooltip": null,
            "_model_module": "@jupyter-widgets/controls",
            "layout": "IPY_MODEL_7f21cd84d03749f183f2f24e96ec4105"
          }
        },
        "ae894eb7f7e54d1ca21c4f68be3271a6": {
          "model_module": "@jupyter-widgets/controls",
          "model_name": "HTMLModel",
          "state": {
            "_view_name": "HTMLView",
            "style": "IPY_MODEL_d67c103bcd62486db5011c2711b19f9f",
            "_dom_classes": [],
            "description": "",
            "_model_name": "HTMLModel",
            "placeholder": "​",
            "_view_module": "@jupyter-widgets/controls",
            "_model_module_version": "1.5.0",
            "value": " 48801/50000 [00:00&lt;00:00, 86883.03 examples/s]",
            "_view_count": null,
            "_view_module_version": "1.5.0",
            "description_tooltip": null,
            "_model_module": "@jupyter-widgets/controls",
            "layout": "IPY_MODEL_5f81941c6ba1493bbb489c77c3fe9f93"
          }
        },
        "926f8e84c4464acfbf4e674623e72ef3": {
          "model_module": "@jupyter-widgets/controls",
          "model_name": "ProgressStyleModel",
          "state": {
            "_view_name": "StyleView",
            "_model_name": "ProgressStyleModel",
            "description_width": "initial",
            "_view_module": "@jupyter-widgets/base",
            "_model_module_version": "1.5.0",
            "_view_count": null,
            "_view_module_version": "1.2.0",
            "bar_color": null,
            "_model_module": "@jupyter-widgets/controls"
          }
        },
        "7f21cd84d03749f183f2f24e96ec4105": {
          "model_module": "@jupyter-widgets/base",
          "model_name": "LayoutModel",
          "state": {
            "_view_name": "LayoutView",
            "grid_template_rows": null,
            "right": null,
            "justify_content": null,
            "_view_module": "@jupyter-widgets/base",
            "overflow": null,
            "_model_module_version": "1.2.0",
            "_view_count": null,
            "flex_flow": null,
            "width": null,
            "min_width": null,
            "border": null,
            "align_items": null,
            "bottom": null,
            "_model_module": "@jupyter-widgets/base",
            "top": null,
            "grid_column": null,
            "overflow_y": null,
            "overflow_x": null,
            "grid_auto_flow": null,
            "grid_area": null,
            "grid_template_columns": null,
            "flex": null,
            "_model_name": "LayoutModel",
            "justify_items": null,
            "grid_row": null,
            "max_height": null,
            "align_content": null,
            "visibility": null,
            "align_self": null,
            "height": null,
            "min_height": null,
            "padding": null,
            "grid_auto_rows": null,
            "grid_gap": null,
            "max_width": null,
            "order": null,
            "_view_module_version": "1.2.0",
            "grid_template_areas": null,
            "object_position": null,
            "object_fit": null,
            "grid_auto_columns": null,
            "margin": null,
            "display": null,
            "left": null
          }
        },
        "d67c103bcd62486db5011c2711b19f9f": {
          "model_module": "@jupyter-widgets/controls",
          "model_name": "DescriptionStyleModel",
          "state": {
            "_view_name": "StyleView",
            "_model_name": "DescriptionStyleModel",
            "description_width": "",
            "_view_module": "@jupyter-widgets/base",
            "_model_module_version": "1.5.0",
            "_view_count": null,
            "_view_module_version": "1.2.0",
            "_model_module": "@jupyter-widgets/controls"
          }
        },
        "5f81941c6ba1493bbb489c77c3fe9f93": {
          "model_module": "@jupyter-widgets/base",
          "model_name": "LayoutModel",
          "state": {
            "_view_name": "LayoutView",
            "grid_template_rows": null,
            "right": null,
            "justify_content": null,
            "_view_module": "@jupyter-widgets/base",
            "overflow": null,
            "_model_module_version": "1.2.0",
            "_view_count": null,
            "flex_flow": null,
            "width": null,
            "min_width": null,
            "border": null,
            "align_items": null,
            "bottom": null,
            "_model_module": "@jupyter-widgets/base",
            "top": null,
            "grid_column": null,
            "overflow_y": null,
            "overflow_x": null,
            "grid_auto_flow": null,
            "grid_area": null,
            "grid_template_columns": null,
            "flex": null,
            "_model_name": "LayoutModel",
            "justify_items": null,
            "grid_row": null,
            "max_height": null,
            "align_content": null,
            "visibility": null,
            "align_self": null,
            "height": null,
            "min_height": null,
            "padding": null,
            "grid_auto_rows": null,
            "grid_gap": null,
            "max_width": null,
            "order": null,
            "_view_module_version": "1.2.0",
            "grid_template_areas": null,
            "object_position": null,
            "object_fit": null,
            "grid_auto_columns": null,
            "margin": null,
            "display": null,
            "left": null
          }
        },
        "f0d67df381404251ba8668041a00749b": {
          "model_module": "@jupyter-widgets/controls",
          "model_name": "HBoxModel",
          "state": {
            "_view_name": "HBoxView",
            "_dom_classes": [],
            "_model_name": "HBoxModel",
            "_view_module": "@jupyter-widgets/controls",
            "_model_module_version": "1.5.0",
            "_view_count": null,
            "_view_module_version": "1.5.0",
            "box_style": "",
            "layout": "IPY_MODEL_19b496f9a99b4945bb344a13152b7a90",
            "_model_module": "@jupyter-widgets/controls",
            "children": [
              "IPY_MODEL_0e9aa3c9f41c464f88d8a2f75ebd579d",
              "IPY_MODEL_7ed8ca1cf0234fb8ab759ed45d6a3018"
            ]
          }
        },
        "19b496f9a99b4945bb344a13152b7a90": {
          "model_module": "@jupyter-widgets/base",
          "model_name": "LayoutModel",
          "state": {
            "_view_name": "LayoutView",
            "grid_template_rows": null,
            "right": null,
            "justify_content": null,
            "_view_module": "@jupyter-widgets/base",
            "overflow": null,
            "_model_module_version": "1.2.0",
            "_view_count": null,
            "flex_flow": null,
            "width": null,
            "min_width": null,
            "border": null,
            "align_items": null,
            "bottom": null,
            "_model_module": "@jupyter-widgets/base",
            "top": null,
            "grid_column": null,
            "overflow_y": null,
            "overflow_x": null,
            "grid_auto_flow": null,
            "grid_area": null,
            "grid_template_columns": null,
            "flex": null,
            "_model_name": "LayoutModel",
            "justify_items": null,
            "grid_row": null,
            "max_height": null,
            "align_content": null,
            "visibility": null,
            "align_self": null,
            "height": null,
            "min_height": null,
            "padding": null,
            "grid_auto_rows": null,
            "grid_gap": null,
            "max_width": null,
            "order": null,
            "_view_module_version": "1.2.0",
            "grid_template_areas": null,
            "object_position": null,
            "object_fit": null,
            "grid_auto_columns": null,
            "margin": null,
            "display": null,
            "left": null
          }
        },
        "0e9aa3c9f41c464f88d8a2f75ebd579d": {
          "model_module": "@jupyter-widgets/controls",
          "model_name": "FloatProgressModel",
          "state": {
            "_view_name": "ProgressView",
            "style": "IPY_MODEL_3abf29419e764d19b25aa89e8736015c",
            "_dom_classes": [],
            "description": "",
            "_model_name": "FloatProgressModel",
            "bar_style": "info",
            "max": 1,
            "_view_module": "@jupyter-widgets/controls",
            "_model_module_version": "1.5.0",
            "value": 1,
            "_view_count": null,
            "_view_module_version": "1.5.0",
            "orientation": "horizontal",
            "min": 0,
            "description_tooltip": null,
            "_model_module": "@jupyter-widgets/controls",
            "layout": "IPY_MODEL_c9633b58cf6d4d0288b98992add87766"
          }
        },
        "7ed8ca1cf0234fb8ab759ed45d6a3018": {
          "model_module": "@jupyter-widgets/controls",
          "model_name": "HTMLModel",
          "state": {
            "_view_name": "HTMLView",
            "style": "IPY_MODEL_0cda9b844dfa4088911b46fc04dfc08e",
            "_dom_classes": [],
            "description": "",
            "_model_name": "HTMLModel",
            "placeholder": "​",
            "_view_module": "@jupyter-widgets/controls",
            "_model_module_version": "1.5.0",
            "value": " 10000/0 [00:05&lt;00:00, 1904.65 examples/s]",
            "_view_count": null,
            "_view_module_version": "1.5.0",
            "description_tooltip": null,
            "_model_module": "@jupyter-widgets/controls",
            "layout": "IPY_MODEL_b7dd71fba4c7499da3c5ca7d6ce511da"
          }
        },
        "3abf29419e764d19b25aa89e8736015c": {
          "model_module": "@jupyter-widgets/controls",
          "model_name": "ProgressStyleModel",
          "state": {
            "_view_name": "StyleView",
            "_model_name": "ProgressStyleModel",
            "description_width": "initial",
            "_view_module": "@jupyter-widgets/base",
            "_model_module_version": "1.5.0",
            "_view_count": null,
            "_view_module_version": "1.2.0",
            "bar_color": null,
            "_model_module": "@jupyter-widgets/controls"
          }
        },
        "c9633b58cf6d4d0288b98992add87766": {
          "model_module": "@jupyter-widgets/base",
          "model_name": "LayoutModel",
          "state": {
            "_view_name": "LayoutView",
            "grid_template_rows": null,
            "right": null,
            "justify_content": null,
            "_view_module": "@jupyter-widgets/base",
            "overflow": null,
            "_model_module_version": "1.2.0",
            "_view_count": null,
            "flex_flow": null,
            "width": null,
            "min_width": null,
            "border": null,
            "align_items": null,
            "bottom": null,
            "_model_module": "@jupyter-widgets/base",
            "top": null,
            "grid_column": null,
            "overflow_y": null,
            "overflow_x": null,
            "grid_auto_flow": null,
            "grid_area": null,
            "grid_template_columns": null,
            "flex": null,
            "_model_name": "LayoutModel",
            "justify_items": null,
            "grid_row": null,
            "max_height": null,
            "align_content": null,
            "visibility": null,
            "align_self": null,
            "height": null,
            "min_height": null,
            "padding": null,
            "grid_auto_rows": null,
            "grid_gap": null,
            "max_width": null,
            "order": null,
            "_view_module_version": "1.2.0",
            "grid_template_areas": null,
            "object_position": null,
            "object_fit": null,
            "grid_auto_columns": null,
            "margin": null,
            "display": null,
            "left": null
          }
        },
        "0cda9b844dfa4088911b46fc04dfc08e": {
          "model_module": "@jupyter-widgets/controls",
          "model_name": "DescriptionStyleModel",
          "state": {
            "_view_name": "StyleView",
            "_model_name": "DescriptionStyleModel",
            "description_width": "",
            "_view_module": "@jupyter-widgets/base",
            "_model_module_version": "1.5.0",
            "_view_count": null,
            "_view_module_version": "1.2.0",
            "_model_module": "@jupyter-widgets/controls"
          }
        },
        "b7dd71fba4c7499da3c5ca7d6ce511da": {
          "model_module": "@jupyter-widgets/base",
          "model_name": "LayoutModel",
          "state": {
            "_view_name": "LayoutView",
            "grid_template_rows": null,
            "right": null,
            "justify_content": null,
            "_view_module": "@jupyter-widgets/base",
            "overflow": null,
            "_model_module_version": "1.2.0",
            "_view_count": null,
            "flex_flow": null,
            "width": null,
            "min_width": null,
            "border": null,
            "align_items": null,
            "bottom": null,
            "_model_module": "@jupyter-widgets/base",
            "top": null,
            "grid_column": null,
            "overflow_y": null,
            "overflow_x": null,
            "grid_auto_flow": null,
            "grid_area": null,
            "grid_template_columns": null,
            "flex": null,
            "_model_name": "LayoutModel",
            "justify_items": null,
            "grid_row": null,
            "max_height": null,
            "align_content": null,
            "visibility": null,
            "align_self": null,
            "height": null,
            "min_height": null,
            "padding": null,
            "grid_auto_rows": null,
            "grid_gap": null,
            "max_width": null,
            "order": null,
            "_view_module_version": "1.2.0",
            "grid_template_areas": null,
            "object_position": null,
            "object_fit": null,
            "grid_auto_columns": null,
            "margin": null,
            "display": null,
            "left": null
          }
        },
        "45dc9fdc1c674a73be378df77ed5e9c9": {
          "model_module": "@jupyter-widgets/controls",
          "model_name": "HBoxModel",
          "state": {
            "_view_name": "HBoxView",
            "_dom_classes": [],
            "_model_name": "HBoxModel",
            "_view_module": "@jupyter-widgets/controls",
            "_model_module_version": "1.5.0",
            "_view_count": null,
            "_view_module_version": "1.5.0",
            "box_style": "",
            "layout": "IPY_MODEL_a190bed04096480eb17f4f26b34a0f69",
            "_model_module": "@jupyter-widgets/controls",
            "children": [
              "IPY_MODEL_9eddf39145d7433ba4dc013e7f0a6e78",
              "IPY_MODEL_41a8c0699e7841d2987c1a1cadecd0ae"
            ]
          }
        },
        "a190bed04096480eb17f4f26b34a0f69": {
          "model_module": "@jupyter-widgets/base",
          "model_name": "LayoutModel",
          "state": {
            "_view_name": "LayoutView",
            "grid_template_rows": null,
            "right": null,
            "justify_content": null,
            "_view_module": "@jupyter-widgets/base",
            "overflow": null,
            "_model_module_version": "1.2.0",
            "_view_count": null,
            "flex_flow": null,
            "width": null,
            "min_width": null,
            "border": null,
            "align_items": null,
            "bottom": null,
            "_model_module": "@jupyter-widgets/base",
            "top": null,
            "grid_column": null,
            "overflow_y": null,
            "overflow_x": null,
            "grid_auto_flow": null,
            "grid_area": null,
            "grid_template_columns": null,
            "flex": null,
            "_model_name": "LayoutModel",
            "justify_items": null,
            "grid_row": null,
            "max_height": null,
            "align_content": null,
            "visibility": null,
            "align_self": null,
            "height": null,
            "min_height": null,
            "padding": null,
            "grid_auto_rows": null,
            "grid_gap": null,
            "max_width": null,
            "order": null,
            "_view_module_version": "1.2.0",
            "grid_template_areas": null,
            "object_position": null,
            "object_fit": null,
            "grid_auto_columns": null,
            "margin": null,
            "display": null,
            "left": null
          }
        },
        "9eddf39145d7433ba4dc013e7f0a6e78": {
          "model_module": "@jupyter-widgets/controls",
          "model_name": "FloatProgressModel",
          "state": {
            "_view_name": "ProgressView",
            "style": "IPY_MODEL_c803540323fe48f89c7e9c4dc9298b8b",
            "_dom_classes": [],
            "description": " 91%",
            "_model_name": "FloatProgressModel",
            "bar_style": "danger",
            "max": 10000,
            "_view_module": "@jupyter-widgets/controls",
            "_model_module_version": "1.5.0",
            "value": 9081,
            "_view_count": null,
            "_view_module_version": "1.5.0",
            "orientation": "horizontal",
            "min": 0,
            "description_tooltip": null,
            "_model_module": "@jupyter-widgets/controls",
            "layout": "IPY_MODEL_f7acfba07c73427b9b4565cc2930bcab"
          }
        },
        "41a8c0699e7841d2987c1a1cadecd0ae": {
          "model_module": "@jupyter-widgets/controls",
          "model_name": "HTMLModel",
          "state": {
            "_view_name": "HTMLView",
            "style": "IPY_MODEL_5eb30c88db5c49e891e430047707b971",
            "_dom_classes": [],
            "description": "",
            "_model_name": "HTMLModel",
            "placeholder": "​",
            "_view_module": "@jupyter-widgets/controls",
            "_model_module_version": "1.5.0",
            "value": " 9081/10000 [00:00&lt;00:00, 90806.62 examples/s]",
            "_view_count": null,
            "_view_module_version": "1.5.0",
            "description_tooltip": null,
            "_model_module": "@jupyter-widgets/controls",
            "layout": "IPY_MODEL_b10b37f95a904e20868f8cea38e98d4d"
          }
        },
        "c803540323fe48f89c7e9c4dc9298b8b": {
          "model_module": "@jupyter-widgets/controls",
          "model_name": "ProgressStyleModel",
          "state": {
            "_view_name": "StyleView",
            "_model_name": "ProgressStyleModel",
            "description_width": "initial",
            "_view_module": "@jupyter-widgets/base",
            "_model_module_version": "1.5.0",
            "_view_count": null,
            "_view_module_version": "1.2.0",
            "bar_color": null,
            "_model_module": "@jupyter-widgets/controls"
          }
        },
        "f7acfba07c73427b9b4565cc2930bcab": {
          "model_module": "@jupyter-widgets/base",
          "model_name": "LayoutModel",
          "state": {
            "_view_name": "LayoutView",
            "grid_template_rows": null,
            "right": null,
            "justify_content": null,
            "_view_module": "@jupyter-widgets/base",
            "overflow": null,
            "_model_module_version": "1.2.0",
            "_view_count": null,
            "flex_flow": null,
            "width": null,
            "min_width": null,
            "border": null,
            "align_items": null,
            "bottom": null,
            "_model_module": "@jupyter-widgets/base",
            "top": null,
            "grid_column": null,
            "overflow_y": null,
            "overflow_x": null,
            "grid_auto_flow": null,
            "grid_area": null,
            "grid_template_columns": null,
            "flex": null,
            "_model_name": "LayoutModel",
            "justify_items": null,
            "grid_row": null,
            "max_height": null,
            "align_content": null,
            "visibility": null,
            "align_self": null,
            "height": null,
            "min_height": null,
            "padding": null,
            "grid_auto_rows": null,
            "grid_gap": null,
            "max_width": null,
            "order": null,
            "_view_module_version": "1.2.0",
            "grid_template_areas": null,
            "object_position": null,
            "object_fit": null,
            "grid_auto_columns": null,
            "margin": null,
            "display": null,
            "left": null
          }
        },
        "5eb30c88db5c49e891e430047707b971": {
          "model_module": "@jupyter-widgets/controls",
          "model_name": "DescriptionStyleModel",
          "state": {
            "_view_name": "StyleView",
            "_model_name": "DescriptionStyleModel",
            "description_width": "",
            "_view_module": "@jupyter-widgets/base",
            "_model_module_version": "1.5.0",
            "_view_count": null,
            "_view_module_version": "1.2.0",
            "_model_module": "@jupyter-widgets/controls"
          }
        },
        "b10b37f95a904e20868f8cea38e98d4d": {
          "model_module": "@jupyter-widgets/base",
          "model_name": "LayoutModel",
          "state": {
            "_view_name": "LayoutView",
            "grid_template_rows": null,
            "right": null,
            "justify_content": null,
            "_view_module": "@jupyter-widgets/base",
            "overflow": null,
            "_model_module_version": "1.2.0",
            "_view_count": null,
            "flex_flow": null,
            "width": null,
            "min_width": null,
            "border": null,
            "align_items": null,
            "bottom": null,
            "_model_module": "@jupyter-widgets/base",
            "top": null,
            "grid_column": null,
            "overflow_y": null,
            "overflow_x": null,
            "grid_auto_flow": null,
            "grid_area": null,
            "grid_template_columns": null,
            "flex": null,
            "_model_name": "LayoutModel",
            "justify_items": null,
            "grid_row": null,
            "max_height": null,
            "align_content": null,
            "visibility": null,
            "align_self": null,
            "height": null,
            "min_height": null,
            "padding": null,
            "grid_auto_rows": null,
            "grid_gap": null,
            "max_width": null,
            "order": null,
            "_view_module_version": "1.2.0",
            "grid_template_areas": null,
            "object_position": null,
            "object_fit": null,
            "grid_auto_columns": null,
            "margin": null,
            "display": null,
            "left": null
          }
        }
      }
    }
  },
  "cells": [
    {
      "cell_type": "markdown",
      "metadata": {
        "colab_type": "text",
        "id": "MmHHkv6nyW_d"
      },
      "source": [
        "# Working with TensorFlow Data\n",
        "\n",
        "We can't build neural nets without data. So, we are going to show you how to work with a collection of datasets built into the Tensorflow environment. The creators of TensorFlow aptly named this collection TensorFlow Datasets.\n",
        "\n",
        "**TensorFlow Datasets** (TFDS) is a collection of datasets ready to use with TensorFlow. All datasets are exposed as **tf.data.Datasets**, which provides us easy-to-use and high-performance input pipelines."
      ]
    },
    {
      "cell_type": "markdown",
      "metadata": {
        "id": "pSk2UAIX4vag",
        "colab_type": "text"
      },
      "source": [
        "Enable the GPU (if not already enabled):\n",
        "1.\tclick **Runtime** in the top left menu\n",
        "2.\tclick **Change runtime type** from the drop-down menu\n",
        "3.\tchoose **GPU** from the *Hardware accelerator* drop-down menu\n",
        "4.\tclick **SAVE**"
      ]
    },
    {
      "cell_type": "markdown",
      "metadata": {
        "colab_type": "text",
        "id": "9N9TDGiFvMxI"
      },
      "source": [
        "Let’s begin by displaying the current version of TensorFlow and enabling the GPU in Google Colab:"
      ]
    },
    {
      "cell_type": "code",
      "metadata": {
        "colab_type": "code",
        "id": "zfs8Nc0wu1SJ",
        "colab": {
          "base_uri": "https://localhost:8080/",
          "height": 34
        },
        "outputId": "1cf24777-fe42-410d-8219-5f88075a90c6"
      },
      "source": [
        "import tensorflow as tf\n",
        "\n",
        "# display tf version and test if GPU is active\n",
        "\n",
        "tf.__version__, tf.test.gpu_device_name()"
      ],
      "execution_count": 1,
      "outputs": [
        {
          "output_type": "execute_result",
          "data": {
            "text/plain": [
              "('2.3.0', '/device:GPU:0')"
            ]
          },
          "metadata": {
            "tags": []
          },
          "execution_count": 1
        }
      ]
    },
    {
      "cell_type": "markdown",
      "metadata": {
        "colab_type": "text",
        "id": "I6DCwPCqw7k2"
      },
      "source": [
        "# TensorFlow Datasets (TFDS)\n",
        "\n",
        "We **recommend** perusing the following URLs to find out more about TensorFlow Datasets:\n",
        "\n",
        "1. https://www.tensorflow.org/datasets\n",
        "\n",
        "2. https://www.tensorflow.org/datasets/overview\n",
        "\n",
        "3. https://www.tensorflow.org/datasets/catalog/overview\n",
        "\n",
        "The first URL is the place to start. It introduces TensorFlow Datasets, which are technically represented as tf.data.Datasets (TFDS). It also provides some simple code to help us get started working with TFDS. Finally, it provides links to other TFDS resources including the second and third URL listed here.\n",
        "\n",
        "The second URL introduces eager execution, which is enabled automatically in TensorFlow 2.0. It also shows us how to dislay a list of available TFDS datasets and how to load a dataset with one line using **tfds.load**. Additionally, it introduces and applies feature dictionaries, **DatasetBuilder**, pipelines, and **DatasetInfo**. Finally, it shows us how to visualize some examples from a TFDS dataset with one line.\n",
        "\n",
        "The third URL shows a list of all TFDS datasets and how they are categorized. TFDS datasets are categorized as audio, image, object_detection, structured, summarization, text, translate, and video. Our examles in this chapter will be image datasets MNIST and CIFAR10.\n",
        "\n",
        "Of course, we cover TFDS well in this chapter. So, you don't have to try and learn from the recommended websites. We just offer them for future reference."
      ]
    },
    {
      "cell_type": "markdown",
      "metadata": {
        "colab_type": "text",
        "id": "KF3-4rrTa5yV"
      },
      "source": [
        "# Colab Abends\n",
        "\n",
        "As noted in chapter 1, we've noticed that when we run Google Colab for a long time (several hours) without pause or load large datasets into memory and process said data, it has the tendency to crash (or abend). When this happens, you have two choices that we know of:\n",
        "\n",
        "1. Restart all runtimes.\n",
        "\n",
        "2. Close the program and restart it from scratch.\n",
        "\n",
        "To restart all runtimes, click the **Runtime** on the top menu, click **Restart all runtimes...**, and click **Yes** when prompted. Google Colab recommends this option. If we are going to restart from scratch, we clear browser history first and then start Google Colab from scratch."
      ]
    },
    {
      "cell_type": "markdown",
      "metadata": {
        "colab_type": "text",
        "id": "2rlBeF6kulv4"
      },
      "source": [
        "# Available TFDS\n",
        "\n",
        "Let's begin by seeing the list of datasets available to us."
      ]
    },
    {
      "cell_type": "code",
      "metadata": {
        "colab_type": "code",
        "id": "a27HcC6ysOPW",
        "colab": {
          "base_uri": "https://localhost:8080/",
          "height": 1000
        },
        "outputId": "92fe31d6-8ee6-4202-82a5-e7de69ae70f6"
      },
      "source": [
        "import tensorflow_datasets as tfds\n",
        "\n",
        "# See available datasets\n",
        "\n",
        "tfds.list_builders()"
      ],
      "execution_count": 3,
      "outputs": [
        {
          "output_type": "execute_result",
          "data": {
            "text/plain": [
              "['abstract_reasoning',\n",
              " 'aeslc',\n",
              " 'aflw2k3d',\n",
              " 'amazon_us_reviews',\n",
              " 'arc',\n",
              " 'bair_robot_pushing_small',\n",
              " 'beans',\n",
              " 'big_patent',\n",
              " 'bigearthnet',\n",
              " 'billsum',\n",
              " 'binarized_mnist',\n",
              " 'binary_alpha_digits',\n",
              " 'c4',\n",
              " 'caltech101',\n",
              " 'caltech_birds2010',\n",
              " 'caltech_birds2011',\n",
              " 'cars196',\n",
              " 'cassava',\n",
              " 'cats_vs_dogs',\n",
              " 'celeb_a',\n",
              " 'celeb_a_hq',\n",
              " 'cfq',\n",
              " 'chexpert',\n",
              " 'cifar10',\n",
              " 'cifar100',\n",
              " 'cifar10_1',\n",
              " 'cifar10_corrupted',\n",
              " 'citrus_leaves',\n",
              " 'cityscapes',\n",
              " 'civil_comments',\n",
              " 'clevr',\n",
              " 'cmaterdb',\n",
              " 'cnn_dailymail',\n",
              " 'coco',\n",
              " 'coil100',\n",
              " 'colorectal_histology',\n",
              " 'colorectal_histology_large',\n",
              " 'cos_e',\n",
              " 'curated_breast_imaging_ddsm',\n",
              " 'cycle_gan',\n",
              " 'deep_weeds',\n",
              " 'definite_pronoun_resolution',\n",
              " 'diabetic_retinopathy_detection',\n",
              " 'div2k',\n",
              " 'dmlab',\n",
              " 'downsampled_imagenet',\n",
              " 'dsprites',\n",
              " 'dtd',\n",
              " 'duke_ultrasound',\n",
              " 'dummy_dataset_shared_generator',\n",
              " 'dummy_mnist',\n",
              " 'emnist',\n",
              " 'eraser_multi_rc',\n",
              " 'esnli',\n",
              " 'eurosat',\n",
              " 'fashion_mnist',\n",
              " 'flic',\n",
              " 'flores',\n",
              " 'food101',\n",
              " 'gap',\n",
              " 'gigaword',\n",
              " 'glue',\n",
              " 'groove',\n",
              " 'higgs',\n",
              " 'horses_or_humans',\n",
              " 'i_naturalist2017',\n",
              " 'image_label_folder',\n",
              " 'imagenet2012',\n",
              " 'imagenet2012_corrupted',\n",
              " 'imagenet_resized',\n",
              " 'imagenette',\n",
              " 'imagewang',\n",
              " 'imdb_reviews',\n",
              " 'iris',\n",
              " 'kitti',\n",
              " 'kmnist',\n",
              " 'lfw',\n",
              " 'librispeech',\n",
              " 'librispeech_lm',\n",
              " 'libritts',\n",
              " 'lm1b',\n",
              " 'lost_and_found',\n",
              " 'lsun',\n",
              " 'malaria',\n",
              " 'math_dataset',\n",
              " 'mnist',\n",
              " 'mnist_corrupted',\n",
              " 'movie_rationales',\n",
              " 'moving_mnist',\n",
              " 'multi_news',\n",
              " 'multi_nli',\n",
              " 'multi_nli_mismatch',\n",
              " 'natural_questions',\n",
              " 'newsroom',\n",
              " 'nsynth',\n",
              " 'omniglot',\n",
              " 'open_images_v4',\n",
              " 'opinosis',\n",
              " 'oxford_flowers102',\n",
              " 'oxford_iiit_pet',\n",
              " 'para_crawl',\n",
              " 'patch_camelyon',\n",
              " 'pet_finder',\n",
              " 'places365_small',\n",
              " 'plant_leaves',\n",
              " 'plant_village',\n",
              " 'plantae_k',\n",
              " 'qa4mre',\n",
              " 'quickdraw_bitmap',\n",
              " 'reddit_tifu',\n",
              " 'resisc45',\n",
              " 'rock_paper_scissors',\n",
              " 'rock_you',\n",
              " 'scan',\n",
              " 'scene_parse150',\n",
              " 'scicite',\n",
              " 'scientific_papers',\n",
              " 'shapes3d',\n",
              " 'smallnorb',\n",
              " 'snli',\n",
              " 'so2sat',\n",
              " 'speech_commands',\n",
              " 'squad',\n",
              " 'stanford_dogs',\n",
              " 'stanford_online_products',\n",
              " 'starcraft_video',\n",
              " 'sun397',\n",
              " 'super_glue',\n",
              " 'svhn_cropped',\n",
              " 'ted_hrlr_translate',\n",
              " 'ted_multi_translate',\n",
              " 'tf_flowers',\n",
              " 'the300w_lp',\n",
              " 'tiny_shakespeare',\n",
              " 'titanic',\n",
              " 'trivia_qa',\n",
              " 'uc_merced',\n",
              " 'ucf101',\n",
              " 'vgg_face2',\n",
              " 'visual_domain_decathlon',\n",
              " 'voc',\n",
              " 'wider_face',\n",
              " 'wikihow',\n",
              " 'wikipedia',\n",
              " 'wmt14_translate',\n",
              " 'wmt15_translate',\n",
              " 'wmt16_translate',\n",
              " 'wmt17_translate',\n",
              " 'wmt18_translate',\n",
              " 'wmt19_translate',\n",
              " 'wmt_t2t_translate',\n",
              " 'wmt_translate',\n",
              " 'xnli',\n",
              " 'xsum',\n",
              " 'yelp_polarity_reviews']"
            ]
          },
          "metadata": {
            "tags": []
          },
          "execution_count": 3
        }
      ]
    },
    {
      "cell_type": "markdown",
      "metadata": {
        "id": "WcF0pcN0Fxkl",
        "colab_type": "text"
      },
      "source": [
        "Find out how many TFDS are in the tensorflow_datasets container:"
      ]
    },
    {
      "cell_type": "code",
      "metadata": {
        "id": "aWVJAhswFxud",
        "colab_type": "code",
        "colab": {
          "base_uri": "https://localhost:8080/",
          "height": 34
        },
        "outputId": "647c561b-0742-4cee-be82-534c2f52d286"
      },
      "source": [
        "print (str(len(tfds.list_builders())) + ' datasets')"
      ],
      "execution_count": 4,
      "outputs": [
        {
          "output_type": "stream",
          "text": [
            "155 datasets\n"
          ],
          "name": "stdout"
        }
      ]
    },
    {
      "cell_type": "markdown",
      "metadata": {
        "id": "MjRFmWuWGXXP",
        "colab_type": "text"
      },
      "source": [
        "Wow! That's quite a few datasets we can use to practice TensorFlow."
      ]
    },
    {
      "cell_type": "markdown",
      "metadata": {
        "colab_type": "text",
        "id": "MEkPpJEOwWZ9"
      },
      "source": [
        "# Load a TFDS\n",
        "\n",
        "Let's continue by loading a dataset into memory and doing some processing. Luckily, TensorFlow provides a convenient method to load a dataset in one line. The **tfds.load** method is the simplest way to build and load a tf.data.Dataset because it automatically fetches the DatasetBuilder by name, calls download_and_prepare(), and calls as_dataset().\n",
        "\n",
        "We need the tfds module:"
      ]
    },
    {
      "cell_type": "code",
      "metadata": {
        "id": "flK9IdQWIaWC",
        "colab_type": "code",
        "colab": {}
      },
      "source": [
        "import tensorflow_datasets as tfds"
      ],
      "execution_count": 5,
      "outputs": []
    },
    {
      "cell_type": "markdown",
      "metadata": {
        "colab_type": "text",
        "id": "Au1L5aIobXfI"
      },
      "source": [
        "# Building an Input Pipeline\n",
        "\n",
        " **tf.data.Dataset** is the standard TensorFlow API to build input pipelines. So, let's begin by building an input pipeline for the MNIST dataset using the tfds.load() method. The **MNIST** database (Modified National Institute of Standards and Technology database) is a large database of handwritten digits that is *commonly* used for training various image processing systems. The database is also *widely* used for training and testing in the field of machine learning. The database consists of a set of 60,000 training examples, and 10,000 test examples.\n",
        "\n",
        "Although feed-forward neural nets don't tend to perform well on images, MNIST is an exception because it is heavily preprocessed. That is, MNIST images are roughly of the same size, centered in the middle of the image space, and vertically oriented. In chapter 6, we'll introduce a another class of neural nets that works well with all types of images."
      ]
    },
    {
      "cell_type": "markdown",
      "metadata": {
        "colab_type": "text",
        "id": "MuND7w4OXWsn"
      },
      "source": [
        "# Load the TFDS into Memory"
      ]
    },
    {
      "cell_type": "code",
      "metadata": {
        "id": "H3tp7dc_RRGT",
        "colab_type": "code",
        "colab": {
          "base_uri": "https://localhost:8080/",
          "height": 635,
          "referenced_widgets": [
            "74a9d52bccae4b3e8103a94b554a0975",
            "38c668e389764f7f8e69b9e104dd03a5",
            "67d1cf43fe6f41f9872e589e4947eda5",
            "0852438d9c344fa4b9e37983b679714a",
            "caacd97ba087425d8277886127986d42",
            "f7d5fe86dd12468592b55a06f266d403",
            "178d5a8e870341989e0b0953e5f00879",
            "72a8321c23df4fcb948087aa37514ddf"
          ]
        },
        "outputId": "be7b7d1a-e955-47f0-8751-dbfb7d46d9ef"
      },
      "source": [
        "# load train set\n",
        "\n",
        "train, info = tfds.load('mnist', split='train', with_info=True)\n",
        "info"
      ],
      "execution_count": 6,
      "outputs": [
        {
          "output_type": "stream",
          "text": [
            "WARNING:absl:Dataset mnist is hosted on GCS. It will automatically be downloaded to your\n",
            "local data directory. If you'd instead prefer to read directly from our public\n",
            "GCS bucket (recommended if you're running on GCP), you can instead set\n",
            "data_dir=gs://tfds-data/datasets.\n",
            "\n"
          ],
          "name": "stderr"
        },
        {
          "output_type": "stream",
          "text": [
            "\u001b[1mDownloading and preparing dataset mnist/3.0.0 (download: 11.06 MiB, generated: Unknown size, total: 11.06 MiB) to /root/tensorflow_datasets/mnist/3.0.0...\u001b[0m\n"
          ],
          "name": "stdout"
        },
        {
          "output_type": "display_data",
          "data": {
            "application/vnd.jupyter.widget-view+json": {
              "model_id": "74a9d52bccae4b3e8103a94b554a0975",
              "version_minor": 0,
              "version_major": 2
            },
            "text/plain": [
              "HBox(children=(FloatProgress(value=0.0, description='Dl Completed...', max=4.0, style=ProgressStyle(descriptio…"
            ]
          },
          "metadata": {
            "tags": []
          }
        },
        {
          "output_type": "stream",
          "text": [
            "\n",
            "\n",
            "\u001b[1mDataset mnist downloaded and prepared to /root/tensorflow_datasets/mnist/3.0.0. Subsequent calls will reuse this data.\u001b[0m\n"
          ],
          "name": "stdout"
        },
        {
          "output_type": "execute_result",
          "data": {
            "text/plain": [
              "tfds.core.DatasetInfo(\n",
              "    name='mnist',\n",
              "    version=3.0.0,\n",
              "    description='The MNIST database of handwritten digits.',\n",
              "    homepage='http://yann.lecun.com/exdb/mnist/',\n",
              "    features=FeaturesDict({\n",
              "        'image': Image(shape=(28, 28, 1), dtype=tf.uint8),\n",
              "        'label': ClassLabel(shape=(), dtype=tf.int64, num_classes=10),\n",
              "    }),\n",
              "    total_num_examples=70000,\n",
              "    splits={\n",
              "        'test': 10000,\n",
              "        'train': 60000,\n",
              "    },\n",
              "    supervised_keys=('image', 'label'),\n",
              "    citation=\"\"\"@article{lecun2010mnist,\n",
              "      title={MNIST handwritten digit database},\n",
              "      author={LeCun, Yann and Cortes, Corinna and Burges, CJ},\n",
              "      journal={ATT Labs [Online]. Available: http://yann. lecun. com/exdb/mnist},\n",
              "      volume={2},\n",
              "      year={2010}\n",
              "    }\"\"\",\n",
              "    redistribution_info=,\n",
              ")"
            ]
          },
          "metadata": {
            "tags": []
          },
          "execution_count": 6
        }
      ]
    },
    {
      "cell_type": "code",
      "metadata": {
        "id": "5OS3uzPnTvkp",
        "colab_type": "code",
        "colab": {
          "base_uri": "https://localhost:8080/",
          "height": 443
        },
        "outputId": "0a3af51d-9862-47dc-f0d7-011fc38bd717"
      },
      "source": [
        "# load test data\n",
        "\n",
        "test, info = tfds.load('mnist', split='test', with_info=True)\n",
        "info"
      ],
      "execution_count": 7,
      "outputs": [
        {
          "output_type": "execute_result",
          "data": {
            "text/plain": [
              "tfds.core.DatasetInfo(\n",
              "    name='mnist',\n",
              "    version=3.0.0,\n",
              "    description='The MNIST database of handwritten digits.',\n",
              "    homepage='http://yann.lecun.com/exdb/mnist/',\n",
              "    features=FeaturesDict({\n",
              "        'image': Image(shape=(28, 28, 1), dtype=tf.uint8),\n",
              "        'label': ClassLabel(shape=(), dtype=tf.int64, num_classes=10),\n",
              "    }),\n",
              "    total_num_examples=70000,\n",
              "    splits={\n",
              "        'test': 10000,\n",
              "        'train': 60000,\n",
              "    },\n",
              "    supervised_keys=('image', 'label'),\n",
              "    citation=\"\"\"@article{lecun2010mnist,\n",
              "      title={MNIST handwritten digit database},\n",
              "      author={LeCun, Yann and Cortes, Corinna and Burges, CJ},\n",
              "      journal={ATT Labs [Online]. Available: http://yann. lecun. com/exdb/mnist},\n",
              "      volume={2},\n",
              "      year={2010}\n",
              "    }\"\"\",\n",
              "    redistribution_info=,\n",
              ")"
            ]
          },
          "metadata": {
            "tags": []
          },
          "execution_count": 7
        }
      ]
    },
    {
      "cell_type": "markdown",
      "metadata": {
        "id": "4s3rGhLCjYMZ",
        "colab_type": "text"
      },
      "source": [
        "# Extract Useful Information\n",
        "\n",
        "The *info* element enables extraction of even deeper information. Let's extract information about the classes:"
      ]
    },
    {
      "cell_type": "code",
      "metadata": {
        "id": "5F1Z54p4jYT-",
        "colab_type": "code",
        "colab": {
          "base_uri": "https://localhost:8080/",
          "height": 52
        },
        "outputId": "e5f8c4f1-814a-4fc9-c9e9-810e4607f91f"
      },
      "source": [
        "# create a variable to hold a return symbol\n",
        "\n",
        "br = '\\n'\n",
        "\n",
        "# display number of classes \n",
        "num_classes = info.features['label'].num_classes\n",
        "class_labels = info.features['label'].names\n",
        "\n",
        "# display class labels\n",
        "print ('number of classes:', num_classes)\n",
        "print ('class labels:', class_labels)"
      ],
      "execution_count": 8,
      "outputs": [
        {
          "output_type": "stream",
          "text": [
            "number of classes: 10\n",
            "class labels: ['0', '1', '2', '3', '4', '5', '6', '7', '8', '9']\n"
          ],
          "name": "stdout"
        }
      ]
    },
    {
      "cell_type": "markdown",
      "metadata": {
        "colab_type": "text",
        "id": "N8ezvDq9WbL3"
      },
      "source": [
        "# Inspect the TFDS\n",
        "\n",
        "The **Dataset.element_spec** property allows you to inspect the type of each element component. Let's compare what is displayed by just printing the training set and using the element_spec method. Both ways are fine, but using the *element_spec* method is the formal approach."
      ]
    },
    {
      "cell_type": "code",
      "metadata": {
        "colab_type": "code",
        "id": "nkZJZaS2WcPT",
        "colab": {
          "base_uri": "https://localhost:8080/",
          "height": 52
        },
        "outputId": "4ad49d36-4c53-48b0-c157-6bafc126428d"
      },
      "source": [
        "# display training and test set\n",
        "\n",
        "print (train)\n",
        "print (test)"
      ],
      "execution_count": 9,
      "outputs": [
        {
          "output_type": "stream",
          "text": [
            "<DatasetV1Adapter shapes: {image: (28, 28, 1), label: ()}, types: {image: tf.uint8, label: tf.int64}>\n",
            "<DatasetV1Adapter shapes: {image: (28, 28, 1), label: ()}, types: {image: tf.uint8, label: tf.int64}>\n"
          ],
          "name": "stdout"
        }
      ]
    },
    {
      "cell_type": "code",
      "metadata": {
        "id": "_VQmjS3FOJ_I",
        "colab_type": "code",
        "colab": {
          "base_uri": "https://localhost:8080/",
          "height": 52
        },
        "outputId": "76119da4-0568-4fb4-aac7-729ef000ebf4"
      },
      "source": [
        "# display with element_spec method\n",
        "\n",
        "print (train.element_spec)\n",
        "print (test.element_spec)"
      ],
      "execution_count": 10,
      "outputs": [
        {
          "output_type": "stream",
          "text": [
            "{'image': TensorSpec(shape=(28, 28, 1), dtype=tf.uint8, name=None), 'label': TensorSpec(shape=(), dtype=tf.int64, name=None)}\n",
            "{'image': TensorSpec(shape=(28, 28, 1), dtype=tf.uint8, name=None), 'label': TensorSpec(shape=(), dtype=tf.int64, name=None)}\n"
          ],
          "name": "stdout"
        }
      ]
    },
    {
      "cell_type": "markdown",
      "metadata": {
        "colab_type": "text",
        "id": "vquITf9oycFK"
      },
      "source": [
        "As you can see, the output from both is very similar. Both show the tensor shape as (28, 28, 1). So, the training set tensor consists of 28x28 images. The **1** value means that images are displayed in grayscale.\n",
        "\n",
        "A **grayscale** image is one where the value of each pixel is a single sample representing only an amount of light. That is, it carries only intensity information. Grayscale images are composed exclusively of shades of gray. The contrast of an image ranges from black at the weakest intensity to white at the strongest.\n",
        "\n",
        "Both also show that image data (the feature set) is composed of tf.uint8 data and label (or target) data is composed of tf.int64 data. Albeit, they show this information in different ways."
      ]
    },
    {
      "cell_type": "code",
      "metadata": {
        "id": "N_mXWXv2UrM8",
        "colab_type": "code",
        "colab": {
          "base_uri": "https://localhost:8080/",
          "height": 534
        },
        "outputId": "30661962-ae49-4ce5-cba5-bef609cc6dee"
      },
      "source": [
        "# Show train feature image examples\n",
        "\n",
        "fig = tfds.show_examples(info, train)"
      ],
      "execution_count": 11,
      "outputs": [
        {
          "output_type": "display_data",
          "data": {
            "image/png": "[encoded data removed]",
            "text/plain": [
              "<Figure size 648x648 with 9 Axes>"
            ]
          },
          "metadata": {
            "tags": []
          }
        }
      ]
    },
    {
      "cell_type": "markdown",
      "metadata": {
        "colab_type": "text",
        "id": "yOfZpqkn2IB5"
      },
      "source": [
        "# Feature Dictionaries\n",
        "\n",
        "All tfds datasets contain **feature dictionaries** mapping feature names to Tensor values. By default, the tf.data.Dataset object contains a dictionary of tf.Tensors. A **tf.Tensor** represents a rectangular array of data.\n",
        "\n",
        "A typical dataset, like MNIST, has 2 keys: *image* and *label*. Now, let's inspect one example with **take(1)**. The number we feed into the *take()* function renders the number of examples we receive from the dataset."
      ]
    },
    {
      "cell_type": "markdown",
      "metadata": {
        "id": "UadRg704J60D",
        "colab_type": "text"
      },
      "source": [
        "Take one sample from the train dataset and display its keys:"
      ]
    },
    {
      "cell_type": "code",
      "metadata": {
        "id": "9En28iwQJ68K",
        "colab_type": "code",
        "colab": {
          "base_uri": "https://localhost:8080/",
          "height": 34
        },
        "outputId": "ec8dd369-9df6-4fc9-aa52-ce8240961bfc"
      },
      "source": [
        "for sample in train.take(1):\n",
        "  print(list(sample.keys()))"
      ],
      "execution_count": 12,
      "outputs": [
        {
          "output_type": "stream",
          "text": [
            "['image', 'label']\n"
          ],
          "name": "stdout"
        }
      ]
    },
    {
      "cell_type": "markdown",
      "metadata": {
        "id": "OLCXyFkYRKoM",
        "colab_type": "text"
      },
      "source": [
        "Display the feature shape and target value from the first train sample:"
      ]
    },
    {
      "cell_type": "code",
      "metadata": {
        "id": "UuaYzWS5Vvr0",
        "colab_type": "code",
        "colab": {
          "base_uri": "https://localhost:8080/",
          "height": 52
        },
        "outputId": "88602acb-e236-461d-b006-fb999b0900c8"
      },
      "source": [
        "for sample in train.take(1):\n",
        "  print ('feature shape:', sample['image'].shape)\n",
        "  print ('target value: ', sample['label'].numpy())"
      ],
      "execution_count": 13,
      "outputs": [
        {
          "output_type": "stream",
          "text": [
            "feature shape: (28, 28, 1)\n",
            "target value:  4\n"
          ],
          "name": "stdout"
        }
      ]
    },
    {
      "cell_type": "markdown",
      "metadata": {
        "id": "q29T6nC8HVkF",
        "colab_type": "text"
      },
      "source": [
        "Any dataset consumed by a machine learning algorithm **must** have the same shape. So, we can get the shape of a dataset from a single sample."
      ]
    },
    {
      "cell_type": "markdown",
      "metadata": {
        "id": "ZPIxCDG7Y0zD",
        "colab_type": "text"
      },
      "source": [
        "Let's get nine examples from the train set:"
      ]
    },
    {
      "cell_type": "code",
      "metadata": {
        "id": "2OwZcTsuY08o",
        "colab_type": "code",
        "colab": {
          "base_uri": "https://localhost:8080/",
          "height": 34
        },
        "outputId": "9e42d68a-9059-4a40-ecfe-9d6c98e90792"
      },
      "source": [
        "n, ls = 9, []\n",
        "for sample in train.take(n):\n",
        "  ls.append(sample['label'].numpy())\n",
        "ls"
      ],
      "execution_count": 14,
      "outputs": [
        {
          "output_type": "execute_result",
          "data": {
            "text/plain": [
              "[4, 1, 0, 7, 8, 1, 2, 7, 1]"
            ]
          },
          "metadata": {
            "tags": []
          },
          "execution_count": 14
        }
      ]
    },
    {
      "cell_type": "markdown",
      "metadata": {
        "id": "8G-IkG_5QOaa",
        "colab_type": "text"
      },
      "source": [
        "By using the **as_supervised=True** parameter, we get a tuple of (features, label) instead of a dictionary."
      ]
    },
    {
      "cell_type": "code",
      "metadata": {
        "id": "EsSGw90rQOh0",
        "colab_type": "code",
        "colab": {
          "base_uri": "https://localhost:8080/",
          "height": 52
        },
        "outputId": "bd14571f-b9b5-4073-faae-6974795a459e"
      },
      "source": [
        "ds = tfds.load('mnist', split='train', as_supervised=True)\n",
        "ds = ds.take(1)\n",
        "\n",
        "for image, label in ds:\n",
        "  print(image.shape, br, label)"
      ],
      "execution_count": 15,
      "outputs": [
        {
          "output_type": "stream",
          "text": [
            "(28, 28, 1) \n",
            " tf.Tensor(4, shape=(), dtype=int64)\n"
          ],
          "name": "stdout"
        }
      ]
    },
    {
      "cell_type": "markdown",
      "metadata": {
        "id": "Jw8zm7uLFhFY",
        "colab_type": "text"
      },
      "source": [
        "We can also get a **numpy** tuple of (features, label):"
      ]
    },
    {
      "cell_type": "code",
      "metadata": {
        "id": "TDpdf8UbFhM-",
        "colab_type": "code",
        "colab": {
          "base_uri": "https://localhost:8080/",
          "height": 34
        },
        "outputId": "7d780d0e-b186-4175-b4a7-101ba362e4df"
      },
      "source": [
        "ds = tfds.load('mnist', split='train', as_supervised=True)\n",
        "ds = ds.take(1)\n",
        "\n",
        "for image, label in tfds.as_numpy(ds):\n",
        "  print(type(image), type(label), label)"
      ],
      "execution_count": 16,
      "outputs": [
        {
          "output_type": "stream",
          "text": [
            "<class 'numpy.ndarray'> <class 'numpy.int64'> 4\n"
          ],
          "name": "stdout"
        }
      ]
    },
    {
      "cell_type": "markdown",
      "metadata": {
        "id": "IzU42k0hWCFd",
        "colab_type": "text"
      },
      "source": [
        "Finally, we can get a **batched** tf.Tensor:"
      ]
    },
    {
      "cell_type": "code",
      "metadata": {
        "id": "3s8ON4yvWCMX",
        "colab_type": "code",
        "colab": {
          "base_uri": "https://localhost:8080/",
          "height": 34
        },
        "outputId": "83fa1ee0-11b4-4561-d580-059af1ae1e15"
      },
      "source": [
        "image, label = tfds.as_numpy(tfds.load(\n",
        "    'mnist',\n",
        "    split='train', \n",
        "    batch_size=-1, \n",
        "    as_supervised=True,\n",
        "))\n",
        "\n",
        "type(image), image.shape"
      ],
      "execution_count": 17,
      "outputs": [
        {
          "output_type": "execute_result",
          "data": {
            "text/plain": [
              "(numpy.ndarray, (60000, 28, 28, 1))"
            ]
          },
          "metadata": {
            "tags": []
          },
          "execution_count": 17
        }
      ]
    },
    {
      "cell_type": "markdown",
      "metadata": {
        "id": "Fodw4Nw1Wife",
        "colab_type": "text"
      },
      "source": [
        "By using *batch_size=-1*, we load the full dataset in a single batch. *tfds.load* returns a dictionary by default, a tuple with *as_supervised=True* of *tf.Tensor* or a *np.array* with *tfds.as_numpy*.\n",
        "\n",
        "Be careful that your dataset can fit in memory, and that all examples have the same shape."
      ]
    },
    {
      "cell_type": "markdown",
      "metadata": {
        "id": "uefHLsAxZflC",
        "colab_type": "text"
      },
      "source": [
        "# Construct the Input Pipeline"
      ]
    },
    {
      "cell_type": "markdown",
      "metadata": {
        "id": "VbiKvJE85qYR",
        "colab_type": "text"
      },
      "source": [
        "Scale, shuffle, batch, and prefetch train data:"
      ]
    },
    {
      "cell_type": "code",
      "metadata": {
        "id": "KcaTXkHR5ng7",
        "colab_type": "code",
        "colab": {}
      },
      "source": [
        "train_sc = train.map(lambda items:\\\n",
        "                     (tf.cast(items['image'],\\\n",
        "                              tf.float32) / 255.,\\\n",
        "                      items['label']))\n",
        "\n",
        "train_ds = train_sc.shuffle(10000).batch(32).prefetch(1)"
      ],
      "execution_count": 18,
      "outputs": []
    },
    {
      "cell_type": "markdown",
      "metadata": {
        "id": "tKtAbvCm5t5Z",
        "colab_type": "text"
      },
      "source": [
        "Scale, batch, and prefetch test data:"
      ]
    },
    {
      "cell_type": "code",
      "metadata": {
        "id": "HQiBbTRYZ4IR",
        "colab_type": "code",
        "colab": {}
      },
      "source": [
        "test_sc = test.map(lambda items:\\\n",
        "                   (tf.cast(items['image'],\\\n",
        "                            tf.float32) / 255.,\\\n",
        "                    items['label']))\n",
        "\n",
        "test_ds = test_sc.batch(10000).prefetch(1)"
      ],
      "execution_count": 19,
      "outputs": []
    },
    {
      "cell_type": "markdown",
      "metadata": {
        "id": "lyeyziVdaTVG",
        "colab_type": "text"
      },
      "source": [
        "Inspect tensors:"
      ]
    },
    {
      "cell_type": "code",
      "metadata": {
        "id": "mAJ4s2McZ-aS",
        "colab_type": "code",
        "colab": {
          "base_uri": "https://localhost:8080/",
          "height": 52
        },
        "outputId": "725a8454-d6da-4b88-856c-ddf8e5545d00"
      },
      "source": [
        "train_ds, test_ds"
      ],
      "execution_count": 20,
      "outputs": [
        {
          "output_type": "execute_result",
          "data": {
            "text/plain": [
              "(<DatasetV1Adapter shapes: ((None, 28, 28, 1), (None,)), types: (tf.float32, tf.int64)>,\n",
              " <DatasetV1Adapter shapes: ((None, 28, 28, 1), (None,)), types: (tf.float32, tf.int64)>)"
            ]
          },
          "metadata": {
            "tags": []
          },
          "execution_count": 20
        }
      ]
    },
    {
      "cell_type": "markdown",
      "metadata": {
        "id": "F8EeuyiBa-nD",
        "colab_type": "text"
      },
      "source": [
        "# Build the Model"
      ]
    },
    {
      "cell_type": "markdown",
      "metadata": {
        "id": "_zO2n-QMbOz8",
        "colab_type": "text"
      },
      "source": [
        "Import libraries:"
      ]
    },
    {
      "cell_type": "code",
      "metadata": {
        "id": "42E0kb70a5kI",
        "colab_type": "code",
        "colab": {}
      },
      "source": [
        "import tensorflow as tf\n",
        "from tensorflow.keras.models import Sequential\n",
        "from tensorflow.keras.layers import Dense, Flatten, Dropout"
      ],
      "execution_count": 21,
      "outputs": []
    },
    {
      "cell_type": "markdown",
      "metadata": {
        "id": "ot0tYGukbSfQ",
        "colab_type": "text"
      },
      "source": [
        "Create the model:"
      ]
    },
    {
      "cell_type": "code",
      "metadata": {
        "id": "q0i95kt4a5qu",
        "colab_type": "code",
        "colab": {}
      },
      "source": [
        "# clear previous model\n",
        "tf.keras.backend.clear_session()\n",
        "\n",
        "model = Sequential([\n",
        "  Flatten(input_shape=[28, 28, 1]),\n",
        "  Dense(512, activation='relu'),\n",
        "  Dense(10, activation='softmax')\n",
        "])"
      ],
      "execution_count": 22,
      "outputs": []
    },
    {
      "cell_type": "markdown",
      "metadata": {
        "id": "4iPT05K1d-nv",
        "colab_type": "text"
      },
      "source": [
        "# Model Summary"
      ]
    },
    {
      "cell_type": "code",
      "metadata": {
        "id": "1FxKGPfQeBFm",
        "colab_type": "code",
        "colab": {
          "base_uri": "https://localhost:8080/",
          "height": 265
        },
        "outputId": "bc676e5d-7fda-46a9-a667-44960854046b"
      },
      "source": [
        "model.summary()"
      ],
      "execution_count": 23,
      "outputs": [
        {
          "output_type": "stream",
          "text": [
            "Model: \"sequential\"\n",
            "_________________________________________________________________\n",
            "Layer (type)                 Output Shape              Param #   \n",
            "=================================================================\n",
            "flatten (Flatten)            (None, 784)               0         \n",
            "_________________________________________________________________\n",
            "dense (Dense)                (None, 512)               401920    \n",
            "_________________________________________________________________\n",
            "dense_1 (Dense)              (None, 10)                5130      \n",
            "=================================================================\n",
            "Total params: 407,050\n",
            "Trainable params: 407,050\n",
            "Non-trainable params: 0\n",
            "_________________________________________________________________\n"
          ],
          "name": "stdout"
        }
      ]
    },
    {
      "cell_type": "markdown",
      "metadata": {
        "id": "OywYmxHvbYHq",
        "colab_type": "text"
      },
      "source": [
        "# Compile the Model"
      ]
    },
    {
      "cell_type": "code",
      "metadata": {
        "id": "WUKVN0-Ra5t6",
        "colab_type": "code",
        "colab": {}
      },
      "source": [
        "model.compile(optimizer='adam',\n",
        "              loss='sparse_categorical_crossentropy',\n",
        "              metrics=['accuracy'])"
      ],
      "execution_count": 24,
      "outputs": []
    },
    {
      "cell_type": "markdown",
      "metadata": {
        "id": "-W6w77dIbgiS",
        "colab_type": "text"
      },
      "source": [
        "# Train the Model"
      ]
    },
    {
      "cell_type": "code",
      "metadata": {
        "id": "7NHxl1vza5xD",
        "colab_type": "code",
        "colab": {
          "base_uri": "https://localhost:8080/",
          "height": 123
        },
        "outputId": "4b8a39a2-db24-4b10-ba84-93af65e13ca2"
      },
      "source": [
        "epochs = 3\n",
        "history = model.fit(train_ds, epochs=epochs, verbose=1,\n",
        "                     validation_data=test_ds)"
      ],
      "execution_count": 25,
      "outputs": [
        {
          "output_type": "stream",
          "text": [
            "Epoch 1/3\n",
            "1875/1875 [==============================] - 12s 6ms/step - loss: 0.2028 - accuracy: 0.9402 - val_loss: 0.0903 - val_accuracy: 0.9732\n",
            "Epoch 2/3\n",
            "1875/1875 [==============================] - 12s 6ms/step - loss: 0.0806 - accuracy: 0.9753 - val_loss: 0.1090 - val_accuracy: 0.9650\n",
            "Epoch 3/3\n",
            "1875/1875 [==============================] - 11s 6ms/step - loss: 0.0548 - accuracy: 0.9831 - val_loss: 0.0839 - val_accuracy: 0.9748\n"
          ],
          "name": "stdout"
        }
      ]
    },
    {
      "cell_type": "markdown",
      "metadata": {
        "id": "COsY7srrgcE5",
        "colab_type": "text"
      },
      "source": [
        "# Generalize on Test Data"
      ]
    },
    {
      "cell_type": "code",
      "metadata": {
        "id": "dOoALQwqa50G",
        "colab_type": "code",
        "colab": {
          "base_uri": "https://localhost:8080/",
          "height": 52
        },
        "outputId": "5ce40155-5837-43ea-93ea-8d6a78bd5673"
      },
      "source": [
        "model.evaluate(test_ds)"
      ],
      "execution_count": 26,
      "outputs": [
        {
          "output_type": "stream",
          "text": [
            "1/1 [==============================] - 0s 10ms/step - loss: 0.0839 - accuracy: 0.9748\n"
          ],
          "name": "stdout"
        },
        {
          "output_type": "execute_result",
          "data": {
            "text/plain": [
              "[0.08393966406583786, 0.9747999906539917]"
            ]
          },
          "metadata": {
            "tags": []
          },
          "execution_count": 26
        }
      ]
    },
    {
      "cell_type": "markdown",
      "metadata": {
        "id": "G1WJLgpQgoMf",
        "colab_type": "text"
      },
      "source": [
        "# Visualize Performance"
      ]
    },
    {
      "cell_type": "code",
      "metadata": {
        "id": "pNV0qUS8fHkg",
        "colab_type": "code",
        "colab": {}
      },
      "source": [
        "# get training record into a variable\n",
        "\n",
        "history_dict = history.history"
      ],
      "execution_count": 27,
      "outputs": []
    },
    {
      "cell_type": "code",
      "metadata": {
        "id": "7qGRBb82fHnm",
        "colab_type": "code",
        "colab": {
          "base_uri": "https://localhost:8080/",
          "height": 1000
        },
        "outputId": "e4842f51-f398-4bdc-945c-af3fb60bf000"
      },
      "source": [
        "import matplotlib.pyplot as plt\n",
        "\n",
        "acc = history_dict['accuracy']\n",
        "val_acc = history_dict['val_accuracy']\n",
        "loss = history_dict['loss']\n",
        "val_loss = history_dict['val_loss']\n",
        "\n",
        "epochs = range(1, len(acc) + 1)\n",
        "\n",
        "plt.figure(figsize=(12,9))\n",
        "plt.plot(epochs, acc, 'bo', label='Training acc')\n",
        "plt.plot(epochs, val_acc, 'b', label='Validation acc')\n",
        "plt.title('Training and validation accuracy')\n",
        "plt.xlabel('Epochs')\n",
        "plt.ylabel('Accuracy')\n",
        "plt.legend(loc='lower right')\n",
        "plt.ylim((0.5,1))\n",
        "plt.show()\n",
        "\n",
        "# clear previous figure\n",
        "\n",
        "plt.clf()\n",
        "\n",
        "plt.figure(figsize=(12,9))\n",
        "plt.plot(epochs, loss, 'bo', label='Training loss')\n",
        "plt.plot(epochs, val_loss, 'b', label='Validation loss')\n",
        "plt.title('Training and validation loss')\n",
        "plt.xlabel('Epochs')\n",
        "plt.ylabel('Loss')\n",
        "plt.legend()\n",
        "plt.show()"
      ],
      "execution_count": 28,
      "outputs": [
        {
          "output_type": "display_data",
          "data": {
            "image/png": "[encoded data removed]",
            "text/plain": [
              "<Figure size 864x648 with 1 Axes>"
            ]
          },
          "metadata": {
            "tags": [],
            "needs_background": "light"
          }
        },
        {
          "output_type": "display_data",
          "data": {
            "text/plain": [
              "<Figure size 432x288 with 0 Axes>"
            ]
          },
          "metadata": {
            "tags": []
          }
        },
        {
          "output_type": "display_data",
          "data": {
            "image/png": "[encoded data removed]",
            "text/plain": [
              "<Figure size 864x648 with 1 Axes>"
            ]
          },
          "metadata": {
            "tags": [],
            "needs_background": "light"
          }
        }
      ]
    },
    {
      "cell_type": "markdown",
      "metadata": {
        "colab_type": "text",
        "id": "amM0ipQpBQef"
      },
      "source": [
        "# DatasetBuilder (tfds.builder)\n",
        "\n",
        "Since tfds.load is really just a thin conveninence wrapper around DatasetBuilder, we can build an input pipeline with the MNIST dataset directly with **tfds.builder**. Unlike tfds.load, however, we have to manually fetch the DatasetBuilder by name, call download_and_prepare(), and call as_dataset(). The advantage of tfds.builder is that it allows more control over the loading process should we need it."
      ]
    },
    {
      "cell_type": "code",
      "metadata": {
        "colab_type": "code",
        "id": "fuDb-uMHB6_Z",
        "colab": {}
      },
      "source": [
        "mnist_builder = tfds.builder('mnist')\n",
        "mnist_info = mnist_builder.info\n",
        "mnist_builder.download_and_prepare()\n",
        "datasets = mnist_builder.as_dataset()"
      ],
      "execution_count": 31,
      "outputs": []
    },
    {
      "cell_type": "markdown",
      "metadata": {
        "colab_type": "text",
        "id": "OmB-9_8ZdmKk"
      },
      "source": [
        "Build the training and test set:"
      ]
    },
    {
      "cell_type": "code",
      "metadata": {
        "colab_type": "code",
        "id": "Aq00rFXhdmUL",
        "colab": {}
      },
      "source": [
        "mnist_train, mnist_test = datasets['train'], datasets['test']"
      ],
      "execution_count": 32,
      "outputs": []
    },
    {
      "cell_type": "markdown",
      "metadata": {
        "colab_type": "text",
        "id": "0qpUNxokCQKn"
      },
      "source": [
        "We can also use the feature dictionary just as before:"
      ]
    },
    {
      "cell_type": "code",
      "metadata": {
        "colab_type": "code",
        "id": "cN_p15vI2gH6",
        "colab": {
          "base_uri": "https://localhost:8080/",
          "height": 52
        },
        "outputId": "7a4c736f-e3a3-4e0d-d964-8eb994233124"
      },
      "source": [
        "for sample in mnist_train.take(1):\n",
        "  print ('feature shape:', sample['image'].shape)\n",
        "  print ('target value: ', sample['label'].numpy())"
      ],
      "execution_count": 33,
      "outputs": [
        {
          "output_type": "stream",
          "text": [
            "feature shape: (28, 28, 1)\n",
            "target value:  4\n"
          ],
          "name": "stdout"
        }
      ]
    },
    {
      "cell_type": "markdown",
      "metadata": {
        "colab_type": "text",
        "id": "Z_1mDN3mCfc3"
      },
      "source": [
        "# MNIST Metadata\n",
        "\n",
        "After generation, the builder contains useful information on the dataset with the **info** method:"
      ]
    },
    {
      "cell_type": "code",
      "metadata": {
        "colab_type": "code",
        "id": "IBJ6U3JHCi75",
        "colab": {
          "base_uri": "https://localhost:8080/",
          "height": 443
        },
        "outputId": "4ea6c645-35c2-4e29-ac74-85edef9a25c2"
      },
      "source": [
        "mnist_info"
      ],
      "execution_count": 34,
      "outputs": [
        {
          "output_type": "execute_result",
          "data": {
            "text/plain": [
              "tfds.core.DatasetInfo(\n",
              "    name='mnist',\n",
              "    version=3.0.0,\n",
              "    description='The MNIST database of handwritten digits.',\n",
              "    homepage='http://yann.lecun.com/exdb/mnist/',\n",
              "    features=FeaturesDict({\n",
              "        'image': Image(shape=(28, 28, 1), dtype=tf.uint8),\n",
              "        'label': ClassLabel(shape=(), dtype=tf.int64, num_classes=10),\n",
              "    }),\n",
              "    total_num_examples=70000,\n",
              "    splits={\n",
              "        'test': 10000,\n",
              "        'train': 60000,\n",
              "    },\n",
              "    supervised_keys=('image', 'label'),\n",
              "    citation=\"\"\"@article{lecun2010mnist,\n",
              "      title={MNIST handwritten digit database},\n",
              "      author={LeCun, Yann and Cortes, Corinna and Burges, CJ},\n",
              "      journal={ATT Labs [Online]. Available: http://yann. lecun. com/exdb/mnist},\n",
              "      volume={2},\n",
              "      year={2010}\n",
              "    }\"\"\",\n",
              "    redistribution_info=,\n",
              ")"
            ]
          },
          "metadata": {
            "tags": []
          },
          "execution_count": 34
        }
      ]
    },
    {
      "cell_type": "markdown",
      "metadata": {
        "colab_type": "text",
        "id": "8jolLEjQ8VsW"
      },
      "source": [
        "Wow! The **info** method gives us a lot of information! We get the name of the dataset, version, description, URL where its stored, image and label tensor information, number of examples in the dataset, number of test and train examples, keys, and citation information.\n",
        "\n",
        "Since we already knew the tensor shape, the key information for our purposes is total_num_examples and splits. So, MNIST contains 70000 examples with test split of 10000 and train split of 60000 examples."
      ]
    },
    {
      "cell_type": "markdown",
      "metadata": {
        "id": "nP6CDyNghAV2",
        "colab_type": "text"
      },
      "source": [
        "Access features:"
      ]
    },
    {
      "cell_type": "code",
      "metadata": {
        "id": "npAIJqsThAc1",
        "colab_type": "code",
        "colab": {
          "base_uri": "https://localhost:8080/",
          "height": 87
        },
        "outputId": "64ab575c-5fbf-4642-bf0a-c6fd98a9a3a8"
      },
      "source": [
        "mnist_info.features"
      ],
      "execution_count": 35,
      "outputs": [
        {
          "output_type": "execute_result",
          "data": {
            "text/plain": [
              "FeaturesDict({\n",
              "    'image': Image(shape=(28, 28, 1), dtype=tf.uint8),\n",
              "    'label': ClassLabel(shape=(), dtype=tf.int64, num_classes=10),\n",
              "})"
            ]
          },
          "metadata": {
            "tags": []
          },
          "execution_count": 35
        }
      ]
    },
    {
      "cell_type": "markdown",
      "metadata": {
        "id": "1YeyuAclf9ae",
        "colab_type": "text"
      },
      "source": [
        "Get the number of classes and class labels:"
      ]
    },
    {
      "cell_type": "code",
      "metadata": {
        "id": "xpKZMRMpf9fk",
        "colab_type": "code",
        "colab": {
          "base_uri": "https://localhost:8080/",
          "height": 52
        },
        "outputId": "bbb909cb-99af-4b49-ae7a-1ea9f2eb9ed4"
      },
      "source": [
        "# create a variable to hold a return symbol\n",
        "\n",
        "br = '\\n'\n",
        "\n",
        "# display number of classes \n",
        "num_classes = mnist_info.features['label'].num_classes\n",
        "class_labels = mnist_info.features['label'].names\n",
        "\n",
        "# display class labels\n",
        "print ('number of classes:', num_classes)\n",
        "print ('class labels:', class_labels)"
      ],
      "execution_count": 36,
      "outputs": [
        {
          "output_type": "stream",
          "text": [
            "number of classes: 10\n",
            "class labels: ['0', '1', '2', '3', '4', '5', '6', '7', '8', '9']\n"
          ],
          "name": "stdout"
        }
      ]
    },
    {
      "cell_type": "markdown",
      "metadata": {
        "id": "XUKXchSOhVcw",
        "colab_type": "text"
      },
      "source": [
        "Shapes and datatypes:"
      ]
    },
    {
      "cell_type": "code",
      "metadata": {
        "id": "Lbr3W0_3hViK",
        "colab_type": "code",
        "colab": {
          "base_uri": "https://localhost:8080/",
          "height": 52
        },
        "outputId": "7f204fc3-4f44-475d-b5bf-4aafb3c3531c"
      },
      "source": [
        "print (mnist_info.features.shape)\n",
        "print (mnist_info.features.dtype)"
      ],
      "execution_count": 37,
      "outputs": [
        {
          "output_type": "stream",
          "text": [
            "{'image': (28, 28, 1), 'label': ()}\n",
            "{'image': tf.uint8, 'label': tf.int64}\n"
          ],
          "name": "stdout"
        }
      ]
    },
    {
      "cell_type": "markdown",
      "metadata": {
        "id": "-_reTOeAiBby",
        "colab_type": "text"
      },
      "source": [
        "Image information:"
      ]
    },
    {
      "cell_type": "code",
      "metadata": {
        "id": "YnuStLYTiBiH",
        "colab_type": "code",
        "colab": {
          "base_uri": "https://localhost:8080/",
          "height": 52
        },
        "outputId": "2c078040-1a43-422c-a684-03e4048c98e4"
      },
      "source": [
        "print (mnist_info.features['image'].shape)\n",
        "print (mnist_info.features['image'].dtype)"
      ],
      "execution_count": 38,
      "outputs": [
        {
          "output_type": "stream",
          "text": [
            "(28, 28, 1)\n",
            "<dtype: 'uint8'>\n"
          ],
          "name": "stdout"
        }
      ]
    },
    {
      "cell_type": "markdown",
      "metadata": {
        "id": "jmHtY6PfiZrr",
        "colab_type": "text"
      },
      "source": [
        "Label information:"
      ]
    },
    {
      "cell_type": "code",
      "metadata": {
        "id": "su7XKliiiZyU",
        "colab_type": "code",
        "colab": {
          "base_uri": "https://localhost:8080/",
          "height": 52
        },
        "outputId": "e5f955ed-b097-4a8c-8ac5-69adf5f25e1a"
      },
      "source": [
        "print (mnist_info.features['label'].shape)\n",
        "print (mnist_info.features['label'].dtype)"
      ],
      "execution_count": 39,
      "outputs": [
        {
          "output_type": "stream",
          "text": [
            "()\n",
            "<dtype: 'int64'>\n"
          ],
          "name": "stdout"
        }
      ]
    },
    {
      "cell_type": "markdown",
      "metadata": {
        "id": "54JBo366i--e",
        "colab_type": "text"
      },
      "source": [
        "Show train and test splits:"
      ]
    },
    {
      "cell_type": "code",
      "metadata": {
        "id": "3PQJpogMi_FF",
        "colab_type": "code",
        "colab": {
          "base_uri": "https://localhost:8080/",
          "height": 34
        },
        "outputId": "31f1d608-ae86-4e18-87bf-65a96470c9fc"
      },
      "source": [
        "print (mnist_info.splits)"
      ],
      "execution_count": 40,
      "outputs": [
        {
          "output_type": "stream",
          "text": [
            "{'test': <tfds.core.SplitInfo num_examples=10000>, 'train': <tfds.core.SplitInfo num_examples=60000>}\n"
          ],
          "name": "stdout"
        }
      ]
    },
    {
      "cell_type": "markdown",
      "metadata": {
        "id": "lVptpGe9jfMv",
        "colab_type": "text"
      },
      "source": [
        "Show available split keys:"
      ]
    },
    {
      "cell_type": "code",
      "metadata": {
        "id": "uVpD-rvTjfT2",
        "colab_type": "code",
        "colab": {
          "base_uri": "https://localhost:8080/",
          "height": 34
        },
        "outputId": "ff1d44a4-9cd7-4445-a744-2c21f9731ff5"
      },
      "source": [
        "print (list(mnist_info.splits.keys()))"
      ],
      "execution_count": 41,
      "outputs": [
        {
          "output_type": "stream",
          "text": [
            "['test', 'train']\n"
          ],
          "name": "stdout"
        }
      ]
    },
    {
      "cell_type": "markdown",
      "metadata": {
        "id": "5K4naMxajurG",
        "colab_type": "text"
      },
      "source": [
        "Number of train and test examples:"
      ]
    },
    {
      "cell_type": "code",
      "metadata": {
        "id": "q8Wlk-3Djuw7",
        "colab_type": "code",
        "colab": {
          "base_uri": "https://localhost:8080/",
          "height": 52
        },
        "outputId": "f64b2db8-2888-4f18-c06a-af14d9778bba"
      },
      "source": [
        "print (mnist_info.splits['train'].num_examples)\n",
        "print (mnist_info.splits['test'].num_examples)"
      ],
      "execution_count": 42,
      "outputs": [
        {
          "output_type": "stream",
          "text": [
            "60000\n",
            "10000\n"
          ],
          "name": "stdout"
        }
      ]
    },
    {
      "cell_type": "markdown",
      "metadata": {
        "colab_type": "text",
        "id": "G-7fhpwt22mc"
      },
      "source": [
        "# tfds.show_examples\n",
        "\n",
        "**tfds.show_examples()** allows us to conveniently visualize images (and labels) from an image classification dataset. To use this method, we need the dataset and information about the dataset. Since we just created variable *info* with method **info** from tfds.builder, we can show some examples."
      ]
    },
    {
      "cell_type": "code",
      "metadata": {
        "colab_type": "code",
        "id": "wduqFxi5DKjW",
        "colab": {
          "base_uri": "https://localhost:8080/",
          "height": 534
        },
        "outputId": "9b04af7c-8d0c-4dc2-b004-9c8a3842603e"
      },
      "source": [
        "fig = tfds.show_examples(info, mnist_test)"
      ],
      "execution_count": 43,
      "outputs": [
        {
          "output_type": "display_data",
          "data": {
            "image/png": "[encoded data removed]",
            "text/plain": [
              "<Figure size 648x648 with 9 Axes>"
            ]
          },
          "metadata": {
            "tags": []
          }
        }
      ]
    },
    {
      "cell_type": "markdown",
      "metadata": {
        "colab_type": "text",
        "id": "Rsn1ZA5saAGl"
      },
      "source": [
        "# Model DatasetBuilder Data\n",
        "\n",
        "Now that we have explored the DatasetBuilder dataset, we can model it.\n",
        "\n",
        "## Prepare the Input Pipeline"
      ]
    },
    {
      "cell_type": "markdown",
      "metadata": {
        "id": "IOVzZLBxoLpP",
        "colab_type": "text"
      },
      "source": [
        "Scale, shuffle, batch, prefetch train data:"
      ]
    },
    {
      "cell_type": "code",
      "metadata": {
        "id": "tztg5je2mqFC",
        "colab_type": "code",
        "colab": {}
      },
      "source": [
        "train_sc = mnist_train.map(lambda items:\\\n",
        "                           (tf.cast(items['image'],\\\n",
        "                                    tf.float32) / 255.,\\\n",
        "                            items['label']))\n",
        "\n",
        "train_build = train_sc.shuffle(1024).batch(128).prefetch(1)"
      ],
      "execution_count": 44,
      "outputs": []
    },
    {
      "cell_type": "markdown",
      "metadata": {
        "id": "vT5XrPsJoQ_w",
        "colab_type": "text"
      },
      "source": [
        "Scale, batch, and prefetch test data:"
      ]
    },
    {
      "cell_type": "code",
      "metadata": {
        "id": "8a4Lm3BGmqH3",
        "colab_type": "code",
        "colab": {}
      },
      "source": [
        "test_sc = mnist_test.map(lambda items:\\\n",
        "                         (tf.cast(items['image'],\\\n",
        "                                  tf.float32) / 255.,\\\n",
        "                          items['label']))\n",
        "\n",
        "test_build = test_sc.batch(128).prefetch(1)"
      ],
      "execution_count": 45,
      "outputs": []
    },
    {
      "cell_type": "markdown",
      "metadata": {
        "id": "fqAMru_poRxl",
        "colab_type": "text"
      },
      "source": [
        "Inspect tensors:"
      ]
    },
    {
      "cell_type": "code",
      "metadata": {
        "id": "53u2XDDWmqLB",
        "colab_type": "code",
        "colab": {
          "base_uri": "https://localhost:8080/",
          "height": 52
        },
        "outputId": "7137d60a-3b4f-445f-c36a-9884ffc8312f"
      },
      "source": [
        "train_build, test_build"
      ],
      "execution_count": 46,
      "outputs": [
        {
          "output_type": "execute_result",
          "data": {
            "text/plain": [
              "(<DatasetV1Adapter shapes: ((None, 28, 28, 1), (None,)), types: (tf.float32, tf.int64)>,\n",
              " <DatasetV1Adapter shapes: ((None, 28, 28, 1), (None,)), types: (tf.float32, tf.int64)>)"
            ]
          },
          "metadata": {
            "tags": []
          },
          "execution_count": 46
        }
      ]
    },
    {
      "cell_type": "markdown",
      "metadata": {
        "colab_type": "text",
        "id": "xyfU9xjRd2lD"
      },
      "source": [
        "## Build the Model"
      ]
    },
    {
      "cell_type": "code",
      "metadata": {
        "colab_type": "code",
        "id": "d3RU0479d4eJ",
        "colab": {}
      },
      "source": [
        "tf.keras.backend.clear_session()\n",
        "\n",
        "model = Sequential([\n",
        "  Flatten(input_shape=[28, 28, 1]),\n",
        "  Dense(512, activation='relu'),\n",
        "  Dense(10, activation='softmax')\n",
        "])"
      ],
      "execution_count": 47,
      "outputs": []
    },
    {
      "cell_type": "markdown",
      "metadata": {
        "colab_type": "text",
        "id": "5ZjerzizeL_t"
      },
      "source": [
        "## Compile the Model"
      ]
    },
    {
      "cell_type": "code",
      "metadata": {
        "colab_type": "code",
        "id": "huExEqOeeMJ6",
        "colab": {}
      },
      "source": [
        "model.compile(loss='sparse_categorical_crossentropy',\n",
        "              optimizer='adam',\n",
        "              metrics=['accuracy'])"
      ],
      "execution_count": 48,
      "outputs": []
    },
    {
      "cell_type": "markdown",
      "metadata": {
        "colab_type": "text",
        "id": "zwQDXpeTeTbC"
      },
      "source": [
        "## Train the Model"
      ]
    },
    {
      "cell_type": "code",
      "metadata": {
        "colab_type": "code",
        "id": "9ZYUhTAEeTjU",
        "colab": {
          "base_uri": "https://localhost:8080/",
          "height": 141
        },
        "outputId": "0535639f-fa9a-421a-9738-f3c4e7bbb5b6"
      },
      "source": [
        "model.fit(train_build, epochs=3, validation_data=test_build)"
      ],
      "execution_count": 49,
      "outputs": [
        {
          "output_type": "stream",
          "text": [
            "Epoch 1/3\n",
            "469/469 [==============================] - 11s 23ms/step - loss: 0.2688 - accuracy: 0.9229 - val_loss: 0.1326 - val_accuracy: 0.9620\n",
            "Epoch 2/3\n",
            "469/469 [==============================] - 10s 22ms/step - loss: 0.1091 - accuracy: 0.9684 - val_loss: 0.0898 - val_accuracy: 0.9726\n",
            "Epoch 3/3\n",
            "469/469 [==============================] - 10s 22ms/step - loss: 0.0705 - accuracy: 0.9797 - val_loss: 0.0779 - val_accuracy: 0.9751\n"
          ],
          "name": "stdout"
        },
        {
          "output_type": "execute_result",
          "data": {
            "text/plain": [
              "<tensorflow.python.keras.callbacks.History at 0x7f46ce48b668>"
            ]
          },
          "metadata": {
            "tags": []
          },
          "execution_count": 49
        }
      ]
    },
    {
      "cell_type": "markdown",
      "metadata": {
        "id": "LPZJpBgX7J3U",
        "colab_type": "text"
      },
      "source": [
        "Evaluate the model:"
      ]
    },
    {
      "cell_type": "code",
      "metadata": {
        "id": "spbt4upM7J8t",
        "colab_type": "code",
        "colab": {
          "base_uri": "https://localhost:8080/",
          "height": 52
        },
        "outputId": "88c958b5-d553-431e-d1d3-ca270d31d704"
      },
      "source": [
        "model.evaluate(test_build)"
      ],
      "execution_count": 50,
      "outputs": [
        {
          "output_type": "stream",
          "text": [
            "79/79 [==============================] - 1s 19ms/step - loss: 0.0779 - accuracy: 0.9751\n"
          ],
          "name": "stdout"
        },
        {
          "output_type": "execute_result",
          "data": {
            "text/plain": [
              "[0.07786193490028381, 0.9750999808311462]"
            ]
          },
          "metadata": {
            "tags": []
          },
          "execution_count": 50
        }
      ]
    },
    {
      "cell_type": "markdown",
      "metadata": {
        "colab_type": "text",
        "id": "s0bWPuPR8NQk"
      },
      "source": [
        "# Load a different TFDS\n",
        "\n",
        "Let's use DatasetBuilder (tfds.builder) to manipulate another dataset and show some examples. The **CIFAR-10 dataset** consists of 60000 32x32 colour images in 10 classes, with 6000 images per class. There are 50000 training images and 10000 test images.\n",
        "\n",
        "The ten classes are:\n",
        "\n",
        "**[airplane, automobile, bird, cat, deer, dog, frog, horse, ship, truck]**\n",
        "\n",
        "The classes are completely mutually exclusive. There is no overlap between automobiles and trucks. 'Automobile' includes sedans, SUVs, things of that sort. 'Truck' includes only big trucks. Neither includes pickup trucks.\n",
        "\n",
        "The dataset is divided into five training batches and one test batch, each with 10000 images. The test batch contains exactly 1000 randomly-selected images from each class. The training batches contain the remaining images in random order, but some training batches may contain more images from one class than another. Between them, the training batches contain exactly 5000 images from each class. Since CIFAR10 is preprocessed with batches, we can use this information to better batch data for the training model."
      ]
    },
    {
      "cell_type": "code",
      "metadata": {
        "colab_type": "code",
        "id": "WtTciqLSEYhh",
        "colab": {
          "base_uri": "https://localhost:8080/",
          "height": 410,
          "referenced_widgets": [
            "a624fc2f5b8344819d6f7398071b3ef3",
            "3cb292dee7d44cf1a3e80b4b25ea0a35",
            "d8975c471c3a4b129c1b29d55703c33b",
            "57310d2954924607805019b2ace3c71f",
            "64c3a756d71d415f8c155015dda0ce58",
            "bc2fb79afcc0494fbc748995320e5e06",
            "9ddbf2006ab4478787a0c6e10eee9bd4",
            "4f2a229ab4494ecb86423e89edb08c7d",
            "73367c1813114db49df508d93996b177",
            "e5c84caa41d04a12ac9ba7bcfd6e3d62",
            "3de3034cfb7943b684430befdaf46b00",
            "d3651f11a6a1425fa6dba5863ea38e57",
            "f12562efff264a05be6ef5a82d88d27b",
            "03de0050215a4aaa85a9c106e4cf4a69",
            "b8b6d8b9457b4d1096aa3e3aee3ed6dd",
            "b5ef90ddb0db40a58069e50d635cd690",
            "cef08995ffcf4a2baefbce30f53c96ff",
            "d77517c16f9d42749934c5c1ad779436",
            "af4e71db5cc44b63aefa16f19e2cd8eb",
            "0f50987fe510495e915c90a7d86ecd9d",
            "5c0aaa91efc8484f9b35a90dfba0f86b",
            "753d2efc85614df78affaab4b017765e",
            "4a1965036ea04002b734e6824c8a3f20",
            "6c0867234f22470e95d35b88d73e6d74",
            "0f5c1da857ab41ee9c13122ddfb5c41b",
            "281a63577bee4198b96fc05d98fef74e",
            "e41ee2ad92f4411fba23bee4dc4f1340",
            "dc42f4c03723481f8e333e696447ed85",
            "b3493693333b4f0e81fcefd70c18c62d",
            "c55a673a586f49528c72bf1a39aee976",
            "2a9e1fdfb21a41aa9d570434429453e9",
            "de2bf1dc0dcd42b6982eec88be569a03",
            "da3a03c066814b7c89f7a06efa1274d3",
            "75415546b1e04b73886884f690ba304c",
            "a3fb3cd77be34b27956101c568e9f600",
            "ae894eb7f7e54d1ca21c4f68be3271a6",
            "926f8e84c4464acfbf4e674623e72ef3",
            "7f21cd84d03749f183f2f24e96ec4105",
            "d67c103bcd62486db5011c2711b19f9f",
            "5f81941c6ba1493bbb489c77c3fe9f93",
            "f0d67df381404251ba8668041a00749b",
            "19b496f9a99b4945bb344a13152b7a90",
            "0e9aa3c9f41c464f88d8a2f75ebd579d",
            "7ed8ca1cf0234fb8ab759ed45d6a3018",
            "3abf29419e764d19b25aa89e8736015c",
            "c9633b58cf6d4d0288b98992add87766",
            "0cda9b844dfa4088911b46fc04dfc08e",
            "b7dd71fba4c7499da3c5ca7d6ce511da",
            "45dc9fdc1c674a73be378df77ed5e9c9",
            "a190bed04096480eb17f4f26b34a0f69",
            "9eddf39145d7433ba4dc013e7f0a6e78",
            "41a8c0699e7841d2987c1a1cadecd0ae",
            "c803540323fe48f89c7e9c4dc9298b8b",
            "f7acfba07c73427b9b4565cc2930bcab",
            "5eb30c88db5c49e891e430047707b971",
            "b10b37f95a904e20868f8cea38e98d4d"
          ]
        },
        "outputId": "34277bb7-6f2d-43b7-802e-f69e75f1532a"
      },
      "source": [
        "cifar10_builder = tfds.builder('cifar10')\n",
        "cifar10_info = cifar10_builder.info\n",
        "cifar10_builder.download_and_prepare()\n",
        "cifar10_train = cifar10_builder.as_dataset(split='train')\n",
        "cifar10_test = cifar10_builder.as_dataset(split='test')"
      ],
      "execution_count": 51,
      "outputs": [
        {
          "output_type": "stream",
          "text": [
            "\u001b[1mDownloading and preparing dataset cifar10/3.0.0 (download: 162.17 MiB, generated: Unknown size, total: 162.17 MiB) to /root/tensorflow_datasets/cifar10/3.0.0...\u001b[0m\n"
          ],
          "name": "stdout"
        },
        {
          "output_type": "display_data",
          "data": {
            "application/vnd.jupyter.widget-view+json": {
              "model_id": "a624fc2f5b8344819d6f7398071b3ef3",
              "version_minor": 0,
              "version_major": 2
            },
            "text/plain": [
              "HBox(children=(FloatProgress(value=1.0, bar_style='info', description='Dl Completed...', max=1.0, style=Progre…"
            ]
          },
          "metadata": {
            "tags": []
          }
        },
        {
          "output_type": "display_data",
          "data": {
            "application/vnd.jupyter.widget-view+json": {
              "model_id": "73367c1813114db49df508d93996b177",
              "version_minor": 0,
              "version_major": 2
            },
            "text/plain": [
              "HBox(children=(FloatProgress(value=1.0, bar_style='info', description='Dl Size...', max=1.0, style=ProgressSty…"
            ]
          },
          "metadata": {
            "tags": []
          }
        },
        {
          "output_type": "display_data",
          "data": {
            "application/vnd.jupyter.widget-view+json": {
              "model_id": "cef08995ffcf4a2baefbce30f53c96ff",
              "version_minor": 0,
              "version_major": 2
            },
            "text/plain": [
              "HBox(children=(FloatProgress(value=1.0, bar_style='info', description='Extraction completed...', max=1.0, styl…"
            ]
          },
          "metadata": {
            "tags": []
          }
        },
        {
          "output_type": "stream",
          "text": [
            "/usr/local/lib/python3.6/dist-packages/urllib3/connectionpool.py:847: InsecureRequestWarning: Unverified HTTPS request is being made. Adding certificate verification is strongly advised. See: https://urllib3.readthedocs.io/en/latest/advanced-usage.html#ssl-warnings\n",
            "  InsecureRequestWarning)\n"
          ],
          "name": "stderr"
        },
        {
          "output_type": "stream",
          "text": [
            "\n",
            "\n",
            "\n",
            "\n",
            "\n",
            "\n"
          ],
          "name": "stdout"
        },
        {
          "output_type": "display_data",
          "data": {
            "application/vnd.jupyter.widget-view+json": {
              "model_id": "0f5c1da857ab41ee9c13122ddfb5c41b",
              "version_minor": 0,
              "version_major": 2
            },
            "text/plain": [
              "HBox(children=(FloatProgress(value=1.0, bar_style='info', max=1.0), HTML(value='')))"
            ]
          },
          "metadata": {
            "tags": []
          }
        },
        {
          "output_type": "stream",
          "text": [
            "\rShuffling and writing examples to /root/tensorflow_datasets/cifar10/3.0.0.incomplete0TYX71/cifar10-train.tfrecord\n"
          ],
          "name": "stdout"
        },
        {
          "output_type": "display_data",
          "data": {
            "application/vnd.jupyter.widget-view+json": {
              "model_id": "da3a03c066814b7c89f7a06efa1274d3",
              "version_minor": 0,
              "version_major": 2
            },
            "text/plain": [
              "HBox(children=(FloatProgress(value=0.0, max=50000.0), HTML(value='')))"
            ]
          },
          "metadata": {
            "tags": []
          }
        },
        {
          "output_type": "stream",
          "text": [
            "\r"
          ],
          "name": "stdout"
        },
        {
          "output_type": "display_data",
          "data": {
            "application/vnd.jupyter.widget-view+json": {
              "model_id": "f0d67df381404251ba8668041a00749b",
              "version_minor": 0,
              "version_major": 2
            },
            "text/plain": [
              "HBox(children=(FloatProgress(value=1.0, bar_style='info', max=1.0), HTML(value='')))"
            ]
          },
          "metadata": {
            "tags": []
          }
        },
        {
          "output_type": "stream",
          "text": [
            "\rShuffling and writing examples to /root/tensorflow_datasets/cifar10/3.0.0.incomplete0TYX71/cifar10-test.tfrecord\n"
          ],
          "name": "stdout"
        },
        {
          "output_type": "display_data",
          "data": {
            "application/vnd.jupyter.widget-view+json": {
              "model_id": "45dc9fdc1c674a73be378df77ed5e9c9",
              "version_minor": 0,
              "version_major": 2
            },
            "text/plain": [
              "HBox(children=(FloatProgress(value=0.0, max=10000.0), HTML(value='')))"
            ]
          },
          "metadata": {
            "tags": []
          }
        },
        {
          "output_type": "stream",
          "text": [
            "\u001b[1mDataset cifar10 downloaded and prepared to /root/tensorflow_datasets/cifar10/3.0.0. Subsequent calls will reuse this data.\u001b[0m\n",
            "\r"
          ],
          "name": "stdout"
        }
      ]
    },
    {
      "cell_type": "markdown",
      "metadata": {
        "colab_type": "text",
        "id": "u8YmkozI5iVx"
      },
      "source": [
        "Let's see what the tensors look like:"
      ]
    },
    {
      "cell_type": "code",
      "metadata": {
        "colab_type": "code",
        "id": "v_jMgHUX5i4Y",
        "colab": {
          "base_uri": "https://localhost:8080/",
          "height": 34
        },
        "outputId": "51aa3ed2-2b5d-4147-c39d-3bb6bb361a4d"
      },
      "source": [
        "cifar10_train"
      ],
      "execution_count": 52,
      "outputs": [
        {
          "output_type": "execute_result",
          "data": {
            "text/plain": [
              "<DatasetV1Adapter shapes: {image: (32, 32, 3), label: ()}, types: {image: tf.uint8, label: tf.int64}>"
            ]
          },
          "metadata": {
            "tags": []
          },
          "execution_count": 52
        }
      ]
    },
    {
      "cell_type": "markdown",
      "metadata": {
        "colab_type": "text",
        "id": "-oOiyy2F5oqK"
      },
      "source": [
        "We can see that the training set tensor consists of 32x32 images. The **3** value means that images are displayed in color.\n",
        "\n",
        "The RGB color model is an additive color model where red, green, and blue light are added together in various ways to reproduce a broad array of colors. The name of the model comes from the initials of the three additive primary colors, namely, red, green, and blue. Since color images are created with three colors, the **3** value is used as the third parameter for the tensor!    \n",
        "\n",
        "From the tensor displays, we can see that image data (the feature set) is composed of tf.uint8 data and label (or target) data is composed of tf.int64 data."
      ]
    },
    {
      "cell_type": "markdown",
      "metadata": {
        "colab_type": "text",
        "id": "-b78WPKm7zMY"
      },
      "source": [
        "## View Information about the Data\n",
        "\n",
        "We can also use **DatasetBuilder** to display information about CIFAR10 with the **info** method:"
      ]
    },
    {
      "cell_type": "code",
      "metadata": {
        "colab_type": "code",
        "id": "1uUThtIIEyPr",
        "colab": {
          "base_uri": "https://localhost:8080/",
          "height": 425
        },
        "outputId": "bc3126d3-d6f3-4afe-975d-6097f2626206"
      },
      "source": [
        "cifar10_info"
      ],
      "execution_count": 53,
      "outputs": [
        {
          "output_type": "execute_result",
          "data": {
            "text/plain": [
              "tfds.core.DatasetInfo(\n",
              "    name='cifar10',\n",
              "    version=3.0.0,\n",
              "    description='The CIFAR-10 dataset consists of 60000 32x32 colour images in 10 classes, with 6000 images per class. There are 50000 training images and 10000 test images.',\n",
              "    homepage='https://www.cs.toronto.edu/~kriz/cifar.html',\n",
              "    features=FeaturesDict({\n",
              "        'image': Image(shape=(32, 32, 3), dtype=tf.uint8),\n",
              "        'label': ClassLabel(shape=(), dtype=tf.int64, num_classes=10),\n",
              "    }),\n",
              "    total_num_examples=60000,\n",
              "    splits={\n",
              "        'test': 10000,\n",
              "        'train': 50000,\n",
              "    },\n",
              "    supervised_keys=('image', 'label'),\n",
              "    citation=\"\"\"@TECHREPORT{Krizhevsky09learningmultiple,\n",
              "        author = {Alex Krizhevsky},\n",
              "        title = {Learning multiple layers of features from tiny images},\n",
              "        institution = {},\n",
              "        year = {2009}\n",
              "    }\"\"\",\n",
              "    redistribution_info=,\n",
              ")"
            ]
          },
          "metadata": {
            "tags": []
          },
          "execution_count": 53
        }
      ]
    },
    {
      "cell_type": "markdown",
      "metadata": {
        "colab_type": "text",
        "id": "0kGkPs9x94nt"
      },
      "source": [
        "The description in this case is very informative because it tells us that CIFAR10 contains 60000 32x32 color images in 10 classes. It also tells us that there are 6000 images per class and 50000 training images and 10000 test images. But, we can't always count on the description being so informative because the MNIST description didn't tell us any information about what the dataset contained."
      ]
    },
    {
      "cell_type": "markdown",
      "metadata": {
        "id": "A27Oc6j9b9qo",
        "colab_type": "text"
      },
      "source": [
        "Display the classes:"
      ]
    },
    {
      "cell_type": "code",
      "metadata": {
        "id": "OuXc66Jab9wq",
        "colab_type": "code",
        "colab": {
          "base_uri": "https://localhost:8080/",
          "height": 194
        },
        "outputId": "8acabcc6-863f-4d03-cf5d-39549aa88288"
      },
      "source": [
        "cifar10_info.features['label'].names"
      ],
      "execution_count": 54,
      "outputs": [
        {
          "output_type": "execute_result",
          "data": {
            "text/plain": [
              "['airplane',\n",
              " 'automobile',\n",
              " 'bird',\n",
              " 'cat',\n",
              " 'deer',\n",
              " 'dog',\n",
              " 'frog',\n",
              " 'horse',\n",
              " 'ship',\n",
              " 'truck']"
            ]
          },
          "metadata": {
            "tags": []
          },
          "execution_count": 54
        }
      ]
    },
    {
      "cell_type": "markdown",
      "metadata": {
        "colab_type": "text",
        "id": "GTJfgYQx-pCX"
      },
      "source": [
        "## Show Some Examples from the Train Data"
      ]
    },
    {
      "cell_type": "code",
      "metadata": {
        "colab_type": "code",
        "id": "dKLOP4-YE6vJ",
        "colab": {
          "base_uri": "https://localhost:8080/",
          "height": 534
        },
        "outputId": "faa7547a-a68e-4bf5-d5a3-93d93265f5df"
      },
      "source": [
        "fig = tfds.show_examples(info, cifar10_train)"
      ],
      "execution_count": 55,
      "outputs": [
        {
          "output_type": "display_data",
          "data": {
            "image/png": "[encoded data removed]",
            "text/plain": [
              "<Figure size 648x648 with 9 Axes>"
            ]
          },
          "metadata": {
            "tags": []
          }
        }
      ]
    },
    {
      "cell_type": "markdown",
      "metadata": {
        "id": "TfY2OGmGciix",
        "colab_type": "text"
      },
      "source": [
        "Use the feature dictionary to display train labels:"
      ]
    },
    {
      "cell_type": "code",
      "metadata": {
        "id": "Nv4pNcnMb6Qj",
        "colab_type": "code",
        "colab": {
          "base_uri": "https://localhost:8080/",
          "height": 34
        },
        "outputId": "ad2c133c-c745-4d76-be82-f8b6311a3c76"
      },
      "source": [
        "[sample['label'].numpy() for sample in cifar10_train.take(9)]"
      ],
      "execution_count": 56,
      "outputs": [
        {
          "output_type": "execute_result",
          "data": {
            "text/plain": [
              "[7, 8, 4, 4, 6, 5, 2, 9, 6]"
            ]
          },
          "metadata": {
            "tags": []
          },
          "execution_count": 56
        }
      ]
    },
    {
      "cell_type": "markdown",
      "metadata": {
        "id": "RyxZNCzjeFNS",
        "colab_type": "text"
      },
      "source": [
        "Display test samples:"
      ]
    },
    {
      "cell_type": "code",
      "metadata": {
        "id": "djMRhPc9b6e3",
        "colab_type": "code",
        "colab": {
          "base_uri": "https://localhost:8080/",
          "height": 534
        },
        "outputId": "bb77893a-5694-489e-9481-d8d7d1d98201"
      },
      "source": [
        "fig = tfds.show_examples(info, cifar10_test)"
      ],
      "execution_count": 57,
      "outputs": [
        {
          "output_type": "display_data",
          "data": {
            "image/png": "[encoded data removed]",
            "text/plain": [
              "<Figure size 648x648 with 9 Axes>"
            ]
          },
          "metadata": {
            "tags": []
          }
        }
      ]
    },
    {
      "cell_type": "markdown",
      "metadata": {
        "id": "ZJbCAaIPelwE",
        "colab_type": "text"
      },
      "source": [
        "# Prepare the Input Pipeline"
      ]
    },
    {
      "cell_type": "markdown",
      "metadata": {
        "id": "H2nwYj5Eep29",
        "colab_type": "text"
      },
      "source": [
        "Scale, shuffle, batch, and prefetch train data:"
      ]
    },
    {
      "cell_type": "code",
      "metadata": {
        "id": "dQ6kmSszb6hP",
        "colab_type": "code",
        "colab": {}
      },
      "source": [
        "train_sc = cifar10_train.map(lambda items:\\\n",
        "                             (tf.cast(items['image'],\\\n",
        "                                      tf.float32) / 255.,\\\n",
        "                              items['label']))\n",
        "\n",
        "train_cd = train_sc.shuffle(1024).batch(128).prefetch(1)"
      ],
      "execution_count": 58,
      "outputs": []
    },
    {
      "cell_type": "markdown",
      "metadata": {
        "id": "dXicfUs5fJpG",
        "colab_type": "text"
      },
      "source": [
        "Scale, batch, and prefetch test data:"
      ]
    },
    {
      "cell_type": "code",
      "metadata": {
        "id": "yT6PltWFegJd",
        "colab_type": "code",
        "colab": {}
      },
      "source": [
        "test_sc = cifar10_test.map(lambda items:\\\n",
        "                           (tf.cast(items['image'],\\\n",
        "                                    tf.float32) / 255.,\\\n",
        "                            items['label']))\n",
        "\n",
        "test_cd = test_sc.batch(128).prefetch(1)"
      ],
      "execution_count": 59,
      "outputs": []
    },
    {
      "cell_type": "markdown",
      "metadata": {
        "id": "6X5CuKdrfiQO",
        "colab_type": "text"
      },
      "source": [
        "Inspect tensors:"
      ]
    },
    {
      "cell_type": "code",
      "metadata": {
        "id": "i3XKSV6YegL8",
        "colab_type": "code",
        "colab": {
          "base_uri": "https://localhost:8080/",
          "height": 52
        },
        "outputId": "44704e18-0068-4dc5-ed10-f5c795bef37b"
      },
      "source": [
        "train_cd, test_cd"
      ],
      "execution_count": 60,
      "outputs": [
        {
          "output_type": "execute_result",
          "data": {
            "text/plain": [
              "(<DatasetV1Adapter shapes: ((None, 32, 32, 3), (None,)), types: (tf.float32, tf.int64)>,\n",
              " <DatasetV1Adapter shapes: ((None, 32, 32, 3), (None,)), types: (tf.float32, tf.int64)>)"
            ]
          },
          "metadata": {
            "tags": []
          },
          "execution_count": 60
        }
      ]
    },
    {
      "cell_type": "markdown",
      "metadata": {
        "id": "AURVPXoUftxA",
        "colab_type": "text"
      },
      "source": [
        "# Build the Model"
      ]
    },
    {
      "cell_type": "code",
      "metadata": {
        "id": "hb_he3aZft2v",
        "colab_type": "code",
        "colab": {}
      },
      "source": [
        "# clear previous model\n",
        "tf.keras.backend.clear_session()\n",
        "\n",
        "model = Sequential([\n",
        "  Flatten(input_shape=[32, 32, 3]),\n",
        "  Dense(512, activation='relu'),\n",
        "  Dense(10, activation='softmax')\n",
        "])"
      ],
      "execution_count": 61,
      "outputs": []
    },
    {
      "cell_type": "markdown",
      "metadata": {
        "id": "w5LRc_Y2gemy",
        "colab_type": "text"
      },
      "source": [
        "We **must** get the input shape correct. For CIFAR10, the input shape is (32, 32, 3)."
      ]
    },
    {
      "cell_type": "markdown",
      "metadata": {
        "id": "Biqb2lYFjKI_",
        "colab_type": "text"
      },
      "source": [
        "# Model Summary"
      ]
    },
    {
      "cell_type": "code",
      "metadata": {
        "id": "y6pDZJqojKOl",
        "colab_type": "code",
        "colab": {
          "base_uri": "https://localhost:8080/",
          "height": 265
        },
        "outputId": "78b2f131-bd11-4b06-bbb1-b16d5598d2c0"
      },
      "source": [
        "model.summary()"
      ],
      "execution_count": 62,
      "outputs": [
        {
          "output_type": "stream",
          "text": [
            "Model: \"sequential\"\n",
            "_________________________________________________________________\n",
            "Layer (type)                 Output Shape              Param #   \n",
            "=================================================================\n",
            "flatten (Flatten)            (None, 3072)              0         \n",
            "_________________________________________________________________\n",
            "dense (Dense)                (None, 512)               1573376   \n",
            "_________________________________________________________________\n",
            "dense_1 (Dense)              (None, 10)                5130      \n",
            "=================================================================\n",
            "Total params: 1,578,506\n",
            "Trainable params: 1,578,506\n",
            "Non-trainable params: 0\n",
            "_________________________________________________________________\n"
          ],
          "name": "stdout"
        }
      ]
    },
    {
      "cell_type": "markdown",
      "metadata": {
        "id": "VGwxrrL1hrnh",
        "colab_type": "text"
      },
      "source": [
        "# Compile the Model"
      ]
    },
    {
      "cell_type": "code",
      "metadata": {
        "id": "fWtPLjuDhruj",
        "colab_type": "code",
        "colab": {}
      },
      "source": [
        "model.compile(optimizer='adam',\n",
        "              loss='sparse_categorical_crossentropy',\n",
        "              metrics=['accuracy'])"
      ],
      "execution_count": 63,
      "outputs": []
    },
    {
      "cell_type": "markdown",
      "metadata": {
        "id": "XTPfAOQDhrz-",
        "colab_type": "text"
      },
      "source": [
        "# Train the Model"
      ]
    },
    {
      "cell_type": "code",
      "metadata": {
        "id": "EfuLTYvbhr5n",
        "colab_type": "code",
        "colab": {
          "base_uri": "https://localhost:8080/",
          "height": 123
        },
        "outputId": "7db44fff-3e76-47af-fd90-02a632995664"
      },
      "source": [
        "epochs = 3\n",
        "history = model.fit(train_cd, epochs=epochs, verbose=1,\n",
        "                    validation_data=test_cd)"
      ],
      "execution_count": 64,
      "outputs": [
        {
          "output_type": "stream",
          "text": [
            "Epoch 1/3\n",
            "391/391 [==============================] - 12s 32ms/step - loss: 1.9800 - accuracy: 0.3135 - val_loss: 1.7689 - val_accuracy: 0.3792\n",
            "Epoch 2/3\n",
            "391/391 [==============================] - 13s 33ms/step - loss: 1.7419 - accuracy: 0.3820 - val_loss: 1.6868 - val_accuracy: 0.4052\n",
            "Epoch 3/3\n",
            "391/391 [==============================] - 12s 31ms/step - loss: 1.6538 - accuracy: 0.4143 - val_loss: 1.6221 - val_accuracy: 0.4304\n"
          ],
          "name": "stdout"
        }
      ]
    }
  ]
}