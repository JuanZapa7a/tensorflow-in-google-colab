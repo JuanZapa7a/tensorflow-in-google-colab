{
  "nbformat": 4,
  "nbformat_minor": 0,
  "metadata": {
    "accelerator": "GPU",
    "colab": {
      "name": "ch9.ipynb",
      "provenance": [],
      "collapsed_sections": []
    },
    "kernelspec": {
      "display_name": "Python 3",
      "language": "python",
      "name": "python3"
    },
    "language_info": {
      "codemirror_mode": {
        "name": "ipython",
        "version": 3
      },
      "file_extension": ".py",
      "mimetype": "text/x-python",
      "name": "python",
      "nbconvert_exporter": "python",
      "pygments_lexer": "ipython3",
      "version": "3.7.3"
    },
    "widgets": {
      "application/vnd.jupyter.widget-state+json": {
        "44a12c009df744acb80359ada2068d6d": {
          "model_module": "@jupyter-widgets/controls",
          "model_name": "HBoxModel",
          "state": {
            "_view_name": "HBoxView",
            "_dom_classes": [],
            "_model_name": "HBoxModel",
            "_view_module": "@jupyter-widgets/controls",
            "_model_module_version": "1.5.0",
            "_view_count": null,
            "_view_module_version": "1.5.0",
            "box_style": "",
            "layout": "IPY_MODEL_c0b3825a747442df861d040b81ded4ad",
            "_model_module": "@jupyter-widgets/controls",
            "children": [
              "IPY_MODEL_958874ec1cb7439ba2491c9abf54d258",
              "IPY_MODEL_828d3cc14d4940b992c3560dcdb26c41"
            ]
          }
        },
        "c0b3825a747442df861d040b81ded4ad": {
          "model_module": "@jupyter-widgets/base",
          "model_name": "LayoutModel",
          "state": {
            "_view_name": "LayoutView",
            "grid_template_rows": null,
            "right": null,
            "justify_content": null,
            "_view_module": "@jupyter-widgets/base",
            "overflow": null,
            "_model_module_version": "1.2.0",
            "_view_count": null,
            "flex_flow": null,
            "width": null,
            "min_width": null,
            "border": null,
            "align_items": null,
            "bottom": null,
            "_model_module": "@jupyter-widgets/base",
            "top": null,
            "grid_column": null,
            "overflow_y": null,
            "overflow_x": null,
            "grid_auto_flow": null,
            "grid_area": null,
            "grid_template_columns": null,
            "flex": null,
            "_model_name": "LayoutModel",
            "justify_items": null,
            "grid_row": null,
            "max_height": null,
            "align_content": null,
            "visibility": null,
            "align_self": null,
            "height": null,
            "min_height": null,
            "padding": null,
            "grid_auto_rows": null,
            "grid_gap": null,
            "max_width": null,
            "order": null,
            "_view_module_version": "1.2.0",
            "grid_template_areas": null,
            "object_position": null,
            "object_fit": null,
            "grid_auto_columns": null,
            "margin": null,
            "display": null,
            "left": null
          }
        },
        "958874ec1cb7439ba2491c9abf54d258": {
          "model_module": "@jupyter-widgets/controls",
          "model_name": "FloatProgressModel",
          "state": {
            "_view_name": "ProgressView",
            "style": "IPY_MODEL_2cab9d9ab501422dbc1ed764e93c7979",
            "_dom_classes": [],
            "description": "Dl Completed...: ",
            "_model_name": "FloatProgressModel",
            "bar_style": "success",
            "max": 1,
            "_view_module": "@jupyter-widgets/controls",
            "_model_module_version": "1.5.0",
            "value": 0,
            "_view_count": null,
            "_view_module_version": "1.5.0",
            "orientation": "horizontal",
            "min": 0,
            "description_tooltip": null,
            "_model_module": "@jupyter-widgets/controls",
            "layout": "IPY_MODEL_afd93a49e0504524b8574760eff83fa6"
          }
        },
        "828d3cc14d4940b992c3560dcdb26c41": {
          "model_module": "@jupyter-widgets/controls",
          "model_name": "HTMLModel",
          "state": {
            "_view_name": "HTMLView",
            "style": "IPY_MODEL_f30c93a95cdb4f7e97f1bf7fa2979c13",
            "_dom_classes": [],
            "description": "",
            "_model_name": "HTMLModel",
            "placeholder": "​",
            "_view_module": "@jupyter-widgets/controls",
            "_model_module_version": "1.5.0",
            "value": " 0/0 [00:00&lt;?, ? url/s]",
            "_view_count": null,
            "_view_module_version": "1.5.0",
            "description_tooltip": null,
            "_model_module": "@jupyter-widgets/controls",
            "layout": "IPY_MODEL_7e99b14a3edf4bf9aea51686f8230504"
          }
        },
        "2cab9d9ab501422dbc1ed764e93c7979": {
          "model_module": "@jupyter-widgets/controls",
          "model_name": "ProgressStyleModel",
          "state": {
            "_view_name": "StyleView",
            "_model_name": "ProgressStyleModel",
            "description_width": "initial",
            "_view_module": "@jupyter-widgets/base",
            "_model_module_version": "1.5.0",
            "_view_count": null,
            "_view_module_version": "1.2.0",
            "bar_color": null,
            "_model_module": "@jupyter-widgets/controls"
          }
        },
        "afd93a49e0504524b8574760eff83fa6": {
          "model_module": "@jupyter-widgets/base",
          "model_name": "LayoutModel",
          "state": {
            "_view_name": "LayoutView",
            "grid_template_rows": null,
            "right": null,
            "justify_content": null,
            "_view_module": "@jupyter-widgets/base",
            "overflow": null,
            "_model_module_version": "1.2.0",
            "_view_count": null,
            "flex_flow": null,
            "width": null,
            "min_width": null,
            "border": null,
            "align_items": null,
            "bottom": null,
            "_model_module": "@jupyter-widgets/base",
            "top": null,
            "grid_column": null,
            "overflow_y": null,
            "overflow_x": null,
            "grid_auto_flow": null,
            "grid_area": null,
            "grid_template_columns": null,
            "flex": null,
            "_model_name": "LayoutModel",
            "justify_items": null,
            "grid_row": null,
            "max_height": null,
            "align_content": null,
            "visibility": null,
            "align_self": null,
            "height": null,
            "min_height": null,
            "padding": null,
            "grid_auto_rows": null,
            "grid_gap": null,
            "max_width": null,
            "order": null,
            "_view_module_version": "1.2.0",
            "grid_template_areas": null,
            "object_position": null,
            "object_fit": null,
            "grid_auto_columns": null,
            "margin": null,
            "display": null,
            "left": null
          }
        },
        "f30c93a95cdb4f7e97f1bf7fa2979c13": {
          "model_module": "@jupyter-widgets/controls",
          "model_name": "DescriptionStyleModel",
          "state": {
            "_view_name": "StyleView",
            "_model_name": "DescriptionStyleModel",
            "description_width": "",
            "_view_module": "@jupyter-widgets/base",
            "_model_module_version": "1.5.0",
            "_view_count": null,
            "_view_module_version": "1.2.0",
            "_model_module": "@jupyter-widgets/controls"
          }
        },
        "7e99b14a3edf4bf9aea51686f8230504": {
          "model_module": "@jupyter-widgets/base",
          "model_name": "LayoutModel",
          "state": {
            "_view_name": "LayoutView",
            "grid_template_rows": null,
            "right": null,
            "justify_content": null,
            "_view_module": "@jupyter-widgets/base",
            "overflow": null,
            "_model_module_version": "1.2.0",
            "_view_count": null,
            "flex_flow": null,
            "width": null,
            "min_width": null,
            "border": null,
            "align_items": null,
            "bottom": null,
            "_model_module": "@jupyter-widgets/base",
            "top": null,
            "grid_column": null,
            "overflow_y": null,
            "overflow_x": null,
            "grid_auto_flow": null,
            "grid_area": null,
            "grid_template_columns": null,
            "flex": null,
            "_model_name": "LayoutModel",
            "justify_items": null,
            "grid_row": null,
            "max_height": null,
            "align_content": null,
            "visibility": null,
            "align_self": null,
            "height": null,
            "min_height": null,
            "padding": null,
            "grid_auto_rows": null,
            "grid_gap": null,
            "max_width": null,
            "order": null,
            "_view_module_version": "1.2.0",
            "grid_template_areas": null,
            "object_position": null,
            "object_fit": null,
            "grid_auto_columns": null,
            "margin": null,
            "display": null,
            "left": null
          }
        },
        "29cd991eb6da445d99729cde6691705b": {
          "model_module": "@jupyter-widgets/controls",
          "model_name": "HBoxModel",
          "state": {
            "_view_name": "HBoxView",
            "_dom_classes": [],
            "_model_name": "HBoxModel",
            "_view_module": "@jupyter-widgets/controls",
            "_model_module_version": "1.5.0",
            "_view_count": null,
            "_view_module_version": "1.5.0",
            "box_style": "",
            "layout": "IPY_MODEL_a21438fbca7c4170996a25e8ff753249",
            "_model_module": "@jupyter-widgets/controls",
            "children": [
              "IPY_MODEL_99fdb2acc78d43648b44bdc9cb12a47c",
              "IPY_MODEL_4df192dd356846b9bbf87df4a3f2021c"
            ]
          }
        },
        "a21438fbca7c4170996a25e8ff753249": {
          "model_module": "@jupyter-widgets/base",
          "model_name": "LayoutModel",
          "state": {
            "_view_name": "LayoutView",
            "grid_template_rows": null,
            "right": null,
            "justify_content": null,
            "_view_module": "@jupyter-widgets/base",
            "overflow": null,
            "_model_module_version": "1.2.0",
            "_view_count": null,
            "flex_flow": null,
            "width": null,
            "min_width": null,
            "border": null,
            "align_items": null,
            "bottom": null,
            "_model_module": "@jupyter-widgets/base",
            "top": null,
            "grid_column": null,
            "overflow_y": null,
            "overflow_x": null,
            "grid_auto_flow": null,
            "grid_area": null,
            "grid_template_columns": null,
            "flex": null,
            "_model_name": "LayoutModel",
            "justify_items": null,
            "grid_row": null,
            "max_height": null,
            "align_content": null,
            "visibility": null,
            "align_self": null,
            "height": null,
            "min_height": null,
            "padding": null,
            "grid_auto_rows": null,
            "grid_gap": null,
            "max_width": null,
            "order": null,
            "_view_module_version": "1.2.0",
            "grid_template_areas": null,
            "object_position": null,
            "object_fit": null,
            "grid_auto_columns": null,
            "margin": null,
            "display": null,
            "left": null
          }
        },
        "99fdb2acc78d43648b44bdc9cb12a47c": {
          "model_module": "@jupyter-widgets/controls",
          "model_name": "FloatProgressModel",
          "state": {
            "_view_name": "ProgressView",
            "style": "IPY_MODEL_01f68c2ac7984d2caf614e9d682757a5",
            "_dom_classes": [],
            "description": "Dl Size...: ",
            "_model_name": "FloatProgressModel",
            "bar_style": "success",
            "max": 1,
            "_view_module": "@jupyter-widgets/controls",
            "_model_module_version": "1.5.0",
            "value": 0,
            "_view_count": null,
            "_view_module_version": "1.5.0",
            "orientation": "horizontal",
            "min": 0,
            "description_tooltip": null,
            "_model_module": "@jupyter-widgets/controls",
            "layout": "IPY_MODEL_ea56e5fdc84048abb8a76e1a0c04e6e0"
          }
        },
        "4df192dd356846b9bbf87df4a3f2021c": {
          "model_module": "@jupyter-widgets/controls",
          "model_name": "HTMLModel",
          "state": {
            "_view_name": "HTMLView",
            "style": "IPY_MODEL_5f29ef8bd0c24e7f9d93de7166264652",
            "_dom_classes": [],
            "description": "",
            "_model_name": "HTMLModel",
            "placeholder": "​",
            "_view_module": "@jupyter-widgets/controls",
            "_model_module_version": "1.5.0",
            "value": " 0/0 [00:00&lt;?, ? MiB/s]",
            "_view_count": null,
            "_view_module_version": "1.5.0",
            "description_tooltip": null,
            "_model_module": "@jupyter-widgets/controls",
            "layout": "IPY_MODEL_a95ff94ac23b45e6ae24917778d2c13f"
          }
        },
        "01f68c2ac7984d2caf614e9d682757a5": {
          "model_module": "@jupyter-widgets/controls",
          "model_name": "ProgressStyleModel",
          "state": {
            "_view_name": "StyleView",
            "_model_name": "ProgressStyleModel",
            "description_width": "initial",
            "_view_module": "@jupyter-widgets/base",
            "_model_module_version": "1.5.0",
            "_view_count": null,
            "_view_module_version": "1.2.0",
            "bar_color": null,
            "_model_module": "@jupyter-widgets/controls"
          }
        },
        "ea56e5fdc84048abb8a76e1a0c04e6e0": {
          "model_module": "@jupyter-widgets/base",
          "model_name": "LayoutModel",
          "state": {
            "_view_name": "LayoutView",
            "grid_template_rows": null,
            "right": null,
            "justify_content": null,
            "_view_module": "@jupyter-widgets/base",
            "overflow": null,
            "_model_module_version": "1.2.0",
            "_view_count": null,
            "flex_flow": null,
            "width": null,
            "min_width": null,
            "border": null,
            "align_items": null,
            "bottom": null,
            "_model_module": "@jupyter-widgets/base",
            "top": null,
            "grid_column": null,
            "overflow_y": null,
            "overflow_x": null,
            "grid_auto_flow": null,
            "grid_area": null,
            "grid_template_columns": null,
            "flex": null,
            "_model_name": "LayoutModel",
            "justify_items": null,
            "grid_row": null,
            "max_height": null,
            "align_content": null,
            "visibility": null,
            "align_self": null,
            "height": null,
            "min_height": null,
            "padding": null,
            "grid_auto_rows": null,
            "grid_gap": null,
            "max_width": null,
            "order": null,
            "_view_module_version": "1.2.0",
            "grid_template_areas": null,
            "object_position": null,
            "object_fit": null,
            "grid_auto_columns": null,
            "margin": null,
            "display": null,
            "left": null
          }
        },
        "5f29ef8bd0c24e7f9d93de7166264652": {
          "model_module": "@jupyter-widgets/controls",
          "model_name": "DescriptionStyleModel",
          "state": {
            "_view_name": "StyleView",
            "_model_name": "DescriptionStyleModel",
            "description_width": "",
            "_view_module": "@jupyter-widgets/base",
            "_model_module_version": "1.5.0",
            "_view_count": null,
            "_view_module_version": "1.2.0",
            "_model_module": "@jupyter-widgets/controls"
          }
        },
        "a95ff94ac23b45e6ae24917778d2c13f": {
          "model_module": "@jupyter-widgets/base",
          "model_name": "LayoutModel",
          "state": {
            "_view_name": "LayoutView",
            "grid_template_rows": null,
            "right": null,
            "justify_content": null,
            "_view_module": "@jupyter-widgets/base",
            "overflow": null,
            "_model_module_version": "1.2.0",
            "_view_count": null,
            "flex_flow": null,
            "width": null,
            "min_width": null,
            "border": null,
            "align_items": null,
            "bottom": null,
            "_model_module": "@jupyter-widgets/base",
            "top": null,
            "grid_column": null,
            "overflow_y": null,
            "overflow_x": null,
            "grid_auto_flow": null,
            "grid_area": null,
            "grid_template_columns": null,
            "flex": null,
            "_model_name": "LayoutModel",
            "justify_items": null,
            "grid_row": null,
            "max_height": null,
            "align_content": null,
            "visibility": null,
            "align_self": null,
            "height": null,
            "min_height": null,
            "padding": null,
            "grid_auto_rows": null,
            "grid_gap": null,
            "max_width": null,
            "order": null,
            "_view_module_version": "1.2.0",
            "grid_template_areas": null,
            "object_position": null,
            "object_fit": null,
            "grid_auto_columns": null,
            "margin": null,
            "display": null,
            "left": null
          }
        },
        "d5702b3f962f4948a29205a93946c2a2": {
          "model_module": "@jupyter-widgets/controls",
          "model_name": "HBoxModel",
          "state": {
            "_view_name": "HBoxView",
            "_dom_classes": [],
            "_model_name": "HBoxModel",
            "_view_module": "@jupyter-widgets/controls",
            "_model_module_version": "1.5.0",
            "_view_count": null,
            "_view_module_version": "1.5.0",
            "box_style": "",
            "layout": "IPY_MODEL_73a33515e74a4632823cc5b9b951fafd",
            "_model_module": "@jupyter-widgets/controls",
            "children": [
              "IPY_MODEL_92d9d612310e426ab493aecf05de74dd",
              "IPY_MODEL_aefa938a2e804a3cad89deb5c8e9e780"
            ]
          }
        },
        "73a33515e74a4632823cc5b9b951fafd": {
          "model_module": "@jupyter-widgets/base",
          "model_name": "LayoutModel",
          "state": {
            "_view_name": "LayoutView",
            "grid_template_rows": null,
            "right": null,
            "justify_content": null,
            "_view_module": "@jupyter-widgets/base",
            "overflow": null,
            "_model_module_version": "1.2.0",
            "_view_count": null,
            "flex_flow": null,
            "width": null,
            "min_width": null,
            "border": null,
            "align_items": null,
            "bottom": null,
            "_model_module": "@jupyter-widgets/base",
            "top": null,
            "grid_column": null,
            "overflow_y": null,
            "overflow_x": null,
            "grid_auto_flow": null,
            "grid_area": null,
            "grid_template_columns": null,
            "flex": null,
            "_model_name": "LayoutModel",
            "justify_items": null,
            "grid_row": null,
            "max_height": null,
            "align_content": null,
            "visibility": null,
            "align_self": null,
            "height": null,
            "min_height": null,
            "padding": null,
            "grid_auto_rows": null,
            "grid_gap": null,
            "max_width": null,
            "order": null,
            "_view_module_version": "1.2.0",
            "grid_template_areas": null,
            "object_position": null,
            "object_fit": null,
            "grid_auto_columns": null,
            "margin": null,
            "display": null,
            "left": null
          }
        },
        "92d9d612310e426ab493aecf05de74dd": {
          "model_module": "@jupyter-widgets/controls",
          "model_name": "FloatProgressModel",
          "state": {
            "_view_name": "ProgressView",
            "style": "IPY_MODEL_eaeea242aa8e4028810025100d183d12",
            "_dom_classes": [],
            "description": "",
            "_model_name": "FloatProgressModel",
            "bar_style": "info",
            "max": 1,
            "_view_module": "@jupyter-widgets/controls",
            "_model_module_version": "1.5.0",
            "value": 1,
            "_view_count": null,
            "_view_module_version": "1.5.0",
            "orientation": "horizontal",
            "min": 0,
            "description_tooltip": null,
            "_model_module": "@jupyter-widgets/controls",
            "layout": "IPY_MODEL_fd80f6c5bfbc4e94aeecf3388c4e28c9"
          }
        },
        "aefa938a2e804a3cad89deb5c8e9e780": {
          "model_module": "@jupyter-widgets/controls",
          "model_name": "HTMLModel",
          "state": {
            "_view_name": "HTMLView",
            "style": "IPY_MODEL_bb49106d84b4409d87dd84ad49db1fa3",
            "_dom_classes": [],
            "description": "",
            "_model_name": "HTMLModel",
            "placeholder": "​",
            "_view_module": "@jupyter-widgets/controls",
            "_model_module_version": "1.5.0",
            "value": " 25000/0 [00:12&lt;00:00, 3188.29 examples/s]",
            "_view_count": null,
            "_view_module_version": "1.5.0",
            "description_tooltip": null,
            "_model_module": "@jupyter-widgets/controls",
            "layout": "IPY_MODEL_aec81f2c599d41aba42031d3df65e7c6"
          }
        },
        "eaeea242aa8e4028810025100d183d12": {
          "model_module": "@jupyter-widgets/controls",
          "model_name": "ProgressStyleModel",
          "state": {
            "_view_name": "StyleView",
            "_model_name": "ProgressStyleModel",
            "description_width": "initial",
            "_view_module": "@jupyter-widgets/base",
            "_model_module_version": "1.5.0",
            "_view_count": null,
            "_view_module_version": "1.2.0",
            "bar_color": null,
            "_model_module": "@jupyter-widgets/controls"
          }
        },
        "fd80f6c5bfbc4e94aeecf3388c4e28c9": {
          "model_module": "@jupyter-widgets/base",
          "model_name": "LayoutModel",
          "state": {
            "_view_name": "LayoutView",
            "grid_template_rows": null,
            "right": null,
            "justify_content": null,
            "_view_module": "@jupyter-widgets/base",
            "overflow": null,
            "_model_module_version": "1.2.0",
            "_view_count": null,
            "flex_flow": null,
            "width": null,
            "min_width": null,
            "border": null,
            "align_items": null,
            "bottom": null,
            "_model_module": "@jupyter-widgets/base",
            "top": null,
            "grid_column": null,
            "overflow_y": null,
            "overflow_x": null,
            "grid_auto_flow": null,
            "grid_area": null,
            "grid_template_columns": null,
            "flex": null,
            "_model_name": "LayoutModel",
            "justify_items": null,
            "grid_row": null,
            "max_height": null,
            "align_content": null,
            "visibility": null,
            "align_self": null,
            "height": null,
            "min_height": null,
            "padding": null,
            "grid_auto_rows": null,
            "grid_gap": null,
            "max_width": null,
            "order": null,
            "_view_module_version": "1.2.0",
            "grid_template_areas": null,
            "object_position": null,
            "object_fit": null,
            "grid_auto_columns": null,
            "margin": null,
            "display": null,
            "left": null
          }
        },
        "bb49106d84b4409d87dd84ad49db1fa3": {
          "model_module": "@jupyter-widgets/controls",
          "model_name": "DescriptionStyleModel",
          "state": {
            "_view_name": "StyleView",
            "_model_name": "DescriptionStyleModel",
            "description_width": "",
            "_view_module": "@jupyter-widgets/base",
            "_model_module_version": "1.5.0",
            "_view_count": null,
            "_view_module_version": "1.2.0",
            "_model_module": "@jupyter-widgets/controls"
          }
        },
        "aec81f2c599d41aba42031d3df65e7c6": {
          "model_module": "@jupyter-widgets/base",
          "model_name": "LayoutModel",
          "state": {
            "_view_name": "LayoutView",
            "grid_template_rows": null,
            "right": null,
            "justify_content": null,
            "_view_module": "@jupyter-widgets/base",
            "overflow": null,
            "_model_module_version": "1.2.0",
            "_view_count": null,
            "flex_flow": null,
            "width": null,
            "min_width": null,
            "border": null,
            "align_items": null,
            "bottom": null,
            "_model_module": "@jupyter-widgets/base",
            "top": null,
            "grid_column": null,
            "overflow_y": null,
            "overflow_x": null,
            "grid_auto_flow": null,
            "grid_area": null,
            "grid_template_columns": null,
            "flex": null,
            "_model_name": "LayoutModel",
            "justify_items": null,
            "grid_row": null,
            "max_height": null,
            "align_content": null,
            "visibility": null,
            "align_self": null,
            "height": null,
            "min_height": null,
            "padding": null,
            "grid_auto_rows": null,
            "grid_gap": null,
            "max_width": null,
            "order": null,
            "_view_module_version": "1.2.0",
            "grid_template_areas": null,
            "object_position": null,
            "object_fit": null,
            "grid_auto_columns": null,
            "margin": null,
            "display": null,
            "left": null
          }
        },
        "ab010f964fc54f44997ba2f3e27e0e8d": {
          "model_module": "@jupyter-widgets/controls",
          "model_name": "HBoxModel",
          "state": {
            "_view_name": "HBoxView",
            "_dom_classes": [],
            "_model_name": "HBoxModel",
            "_view_module": "@jupyter-widgets/controls",
            "_model_module_version": "1.5.0",
            "_view_count": null,
            "_view_module_version": "1.5.0",
            "box_style": "",
            "layout": "IPY_MODEL_06bb24e8fc9743ab8369bad2e044f6c4",
            "_model_module": "@jupyter-widgets/controls",
            "children": [
              "IPY_MODEL_4e48ea333ba5418db9d7fe5c6ac4bb88",
              "IPY_MODEL_32277ebb0fe84977bda97840c38e4609"
            ]
          }
        },
        "06bb24e8fc9743ab8369bad2e044f6c4": {
          "model_module": "@jupyter-widgets/base",
          "model_name": "LayoutModel",
          "state": {
            "_view_name": "LayoutView",
            "grid_template_rows": null,
            "right": null,
            "justify_content": null,
            "_view_module": "@jupyter-widgets/base",
            "overflow": null,
            "_model_module_version": "1.2.0",
            "_view_count": null,
            "flex_flow": null,
            "width": null,
            "min_width": null,
            "border": null,
            "align_items": null,
            "bottom": null,
            "_model_module": "@jupyter-widgets/base",
            "top": null,
            "grid_column": null,
            "overflow_y": null,
            "overflow_x": null,
            "grid_auto_flow": null,
            "grid_area": null,
            "grid_template_columns": null,
            "flex": null,
            "_model_name": "LayoutModel",
            "justify_items": null,
            "grid_row": null,
            "max_height": null,
            "align_content": null,
            "visibility": null,
            "align_self": null,
            "height": null,
            "min_height": null,
            "padding": null,
            "grid_auto_rows": null,
            "grid_gap": null,
            "max_width": null,
            "order": null,
            "_view_module_version": "1.2.0",
            "grid_template_areas": null,
            "object_position": null,
            "object_fit": null,
            "grid_auto_columns": null,
            "margin": null,
            "display": null,
            "left": null
          }
        },
        "4e48ea333ba5418db9d7fe5c6ac4bb88": {
          "model_module": "@jupyter-widgets/controls",
          "model_name": "FloatProgressModel",
          "state": {
            "_view_name": "ProgressView",
            "style": "IPY_MODEL_9a46cc21e70f47ce8c29f913fbc7f29b",
            "_dom_classes": [],
            "description": " 65%",
            "_model_name": "FloatProgressModel",
            "bar_style": "danger",
            "max": 25000,
            "_view_module": "@jupyter-widgets/controls",
            "_model_module_version": "1.5.0",
            "value": 16176,
            "_view_count": null,
            "_view_module_version": "1.5.0",
            "orientation": "horizontal",
            "min": 0,
            "description_tooltip": null,
            "_model_module": "@jupyter-widgets/controls",
            "layout": "IPY_MODEL_75a7366791804491853c75791003d007"
          }
        },
        "32277ebb0fe84977bda97840c38e4609": {
          "model_module": "@jupyter-widgets/controls",
          "model_name": "HTMLModel",
          "state": {
            "_view_name": "HTMLView",
            "style": "IPY_MODEL_f15690da2bfd405dac81097ba6569604",
            "_dom_classes": [],
            "description": "",
            "_model_name": "HTMLModel",
            "placeholder": "​",
            "_view_module": "@jupyter-widgets/controls",
            "_model_module_version": "1.5.0",
            "value": " 16176/25000 [00:00&lt;00:00, 161750.90 examples/s]",
            "_view_count": null,
            "_view_module_version": "1.5.0",
            "description_tooltip": null,
            "_model_module": "@jupyter-widgets/controls",
            "layout": "IPY_MODEL_ab2960d36f614a3a8802cc1739e5d863"
          }
        },
        "9a46cc21e70f47ce8c29f913fbc7f29b": {
          "model_module": "@jupyter-widgets/controls",
          "model_name": "ProgressStyleModel",
          "state": {
            "_view_name": "StyleView",
            "_model_name": "ProgressStyleModel",
            "description_width": "initial",
            "_view_module": "@jupyter-widgets/base",
            "_model_module_version": "1.5.0",
            "_view_count": null,
            "_view_module_version": "1.2.0",
            "bar_color": null,
            "_model_module": "@jupyter-widgets/controls"
          }
        },
        "75a7366791804491853c75791003d007": {
          "model_module": "@jupyter-widgets/base",
          "model_name": "LayoutModel",
          "state": {
            "_view_name": "LayoutView",
            "grid_template_rows": null,
            "right": null,
            "justify_content": null,
            "_view_module": "@jupyter-widgets/base",
            "overflow": null,
            "_model_module_version": "1.2.0",
            "_view_count": null,
            "flex_flow": null,
            "width": null,
            "min_width": null,
            "border": null,
            "align_items": null,
            "bottom": null,
            "_model_module": "@jupyter-widgets/base",
            "top": null,
            "grid_column": null,
            "overflow_y": null,
            "overflow_x": null,
            "grid_auto_flow": null,
            "grid_area": null,
            "grid_template_columns": null,
            "flex": null,
            "_model_name": "LayoutModel",
            "justify_items": null,
            "grid_row": null,
            "max_height": null,
            "align_content": null,
            "visibility": null,
            "align_self": null,
            "height": null,
            "min_height": null,
            "padding": null,
            "grid_auto_rows": null,
            "grid_gap": null,
            "max_width": null,
            "order": null,
            "_view_module_version": "1.2.0",
            "grid_template_areas": null,
            "object_position": null,
            "object_fit": null,
            "grid_auto_columns": null,
            "margin": null,
            "display": null,
            "left": null
          }
        },
        "f15690da2bfd405dac81097ba6569604": {
          "model_module": "@jupyter-widgets/controls",
          "model_name": "DescriptionStyleModel",
          "state": {
            "_view_name": "StyleView",
            "_model_name": "DescriptionStyleModel",
            "description_width": "",
            "_view_module": "@jupyter-widgets/base",
            "_model_module_version": "1.5.0",
            "_view_count": null,
            "_view_module_version": "1.2.0",
            "_model_module": "@jupyter-widgets/controls"
          }
        },
        "ab2960d36f614a3a8802cc1739e5d863": {
          "model_module": "@jupyter-widgets/base",
          "model_name": "LayoutModel",
          "state": {
            "_view_name": "LayoutView",
            "grid_template_rows": null,
            "right": null,
            "justify_content": null,
            "_view_module": "@jupyter-widgets/base",
            "overflow": null,
            "_model_module_version": "1.2.0",
            "_view_count": null,
            "flex_flow": null,
            "width": null,
            "min_width": null,
            "border": null,
            "align_items": null,
            "bottom": null,
            "_model_module": "@jupyter-widgets/base",
            "top": null,
            "grid_column": null,
            "overflow_y": null,
            "overflow_x": null,
            "grid_auto_flow": null,
            "grid_area": null,
            "grid_template_columns": null,
            "flex": null,
            "_model_name": "LayoutModel",
            "justify_items": null,
            "grid_row": null,
            "max_height": null,
            "align_content": null,
            "visibility": null,
            "align_self": null,
            "height": null,
            "min_height": null,
            "padding": null,
            "grid_auto_rows": null,
            "grid_gap": null,
            "max_width": null,
            "order": null,
            "_view_module_version": "1.2.0",
            "grid_template_areas": null,
            "object_position": null,
            "object_fit": null,
            "grid_auto_columns": null,
            "margin": null,
            "display": null,
            "left": null
          }
        },
        "7e34fde5f2b245be9fec33bd16d29455": {
          "model_module": "@jupyter-widgets/controls",
          "model_name": "HBoxModel",
          "state": {
            "_view_name": "HBoxView",
            "_dom_classes": [],
            "_model_name": "HBoxModel",
            "_view_module": "@jupyter-widgets/controls",
            "_model_module_version": "1.5.0",
            "_view_count": null,
            "_view_module_version": "1.5.0",
            "box_style": "",
            "layout": "IPY_MODEL_bcb0997107fc49c7b47a5e7fa7d0f677",
            "_model_module": "@jupyter-widgets/controls",
            "children": [
              "IPY_MODEL_7c1fd01d9f794a1fb9f7248da488a43a",
              "IPY_MODEL_0ea7302c7151462d8d6215d5ccc1d30c"
            ]
          }
        },
        "bcb0997107fc49c7b47a5e7fa7d0f677": {
          "model_module": "@jupyter-widgets/base",
          "model_name": "LayoutModel",
          "state": {
            "_view_name": "LayoutView",
            "grid_template_rows": null,
            "right": null,
            "justify_content": null,
            "_view_module": "@jupyter-widgets/base",
            "overflow": null,
            "_model_module_version": "1.2.0",
            "_view_count": null,
            "flex_flow": null,
            "width": null,
            "min_width": null,
            "border": null,
            "align_items": null,
            "bottom": null,
            "_model_module": "@jupyter-widgets/base",
            "top": null,
            "grid_column": null,
            "overflow_y": null,
            "overflow_x": null,
            "grid_auto_flow": null,
            "grid_area": null,
            "grid_template_columns": null,
            "flex": null,
            "_model_name": "LayoutModel",
            "justify_items": null,
            "grid_row": null,
            "max_height": null,
            "align_content": null,
            "visibility": null,
            "align_self": null,
            "height": null,
            "min_height": null,
            "padding": null,
            "grid_auto_rows": null,
            "grid_gap": null,
            "max_width": null,
            "order": null,
            "_view_module_version": "1.2.0",
            "grid_template_areas": null,
            "object_position": null,
            "object_fit": null,
            "grid_auto_columns": null,
            "margin": null,
            "display": null,
            "left": null
          }
        },
        "7c1fd01d9f794a1fb9f7248da488a43a": {
          "model_module": "@jupyter-widgets/controls",
          "model_name": "FloatProgressModel",
          "state": {
            "_view_name": "ProgressView",
            "style": "IPY_MODEL_cbc0b0c03cfa4c948b8b1d219aa7c11f",
            "_dom_classes": [],
            "description": "",
            "_model_name": "FloatProgressModel",
            "bar_style": "info",
            "max": 1,
            "_view_module": "@jupyter-widgets/controls",
            "_model_module_version": "1.5.0",
            "value": 1,
            "_view_count": null,
            "_view_module_version": "1.5.0",
            "orientation": "horizontal",
            "min": 0,
            "description_tooltip": null,
            "_model_module": "@jupyter-widgets/controls",
            "layout": "IPY_MODEL_48c6496c55a4410e9c493fcb8a9d9e1d"
          }
        },
        "0ea7302c7151462d8d6215d5ccc1d30c": {
          "model_module": "@jupyter-widgets/controls",
          "model_name": "HTMLModel",
          "state": {
            "_view_name": "HTMLView",
            "style": "IPY_MODEL_8d62819371cd4229a456da6528e0bd82",
            "_dom_classes": [],
            "description": "",
            "_model_name": "HTMLModel",
            "placeholder": "​",
            "_view_module": "@jupyter-widgets/controls",
            "_model_module_version": "1.5.0",
            "value": " 25000/0 [00:12&lt;00:00, 3423.46 examples/s]",
            "_view_count": null,
            "_view_module_version": "1.5.0",
            "description_tooltip": null,
            "_model_module": "@jupyter-widgets/controls",
            "layout": "IPY_MODEL_79e8823f91b94e47a8089a23d813c7d1"
          }
        },
        "cbc0b0c03cfa4c948b8b1d219aa7c11f": {
          "model_module": "@jupyter-widgets/controls",
          "model_name": "ProgressStyleModel",
          "state": {
            "_view_name": "StyleView",
            "_model_name": "ProgressStyleModel",
            "description_width": "initial",
            "_view_module": "@jupyter-widgets/base",
            "_model_module_version": "1.5.0",
            "_view_count": null,
            "_view_module_version": "1.2.0",
            "bar_color": null,
            "_model_module": "@jupyter-widgets/controls"
          }
        },
        "48c6496c55a4410e9c493fcb8a9d9e1d": {
          "model_module": "@jupyter-widgets/base",
          "model_name": "LayoutModel",
          "state": {
            "_view_name": "LayoutView",
            "grid_template_rows": null,
            "right": null,
            "justify_content": null,
            "_view_module": "@jupyter-widgets/base",
            "overflow": null,
            "_model_module_version": "1.2.0",
            "_view_count": null,
            "flex_flow": null,
            "width": null,
            "min_width": null,
            "border": null,
            "align_items": null,
            "bottom": null,
            "_model_module": "@jupyter-widgets/base",
            "top": null,
            "grid_column": null,
            "overflow_y": null,
            "overflow_x": null,
            "grid_auto_flow": null,
            "grid_area": null,
            "grid_template_columns": null,
            "flex": null,
            "_model_name": "LayoutModel",
            "justify_items": null,
            "grid_row": null,
            "max_height": null,
            "align_content": null,
            "visibility": null,
            "align_self": null,
            "height": null,
            "min_height": null,
            "padding": null,
            "grid_auto_rows": null,
            "grid_gap": null,
            "max_width": null,
            "order": null,
            "_view_module_version": "1.2.0",
            "grid_template_areas": null,
            "object_position": null,
            "object_fit": null,
            "grid_auto_columns": null,
            "margin": null,
            "display": null,
            "left": null
          }
        },
        "8d62819371cd4229a456da6528e0bd82": {
          "model_module": "@jupyter-widgets/controls",
          "model_name": "DescriptionStyleModel",
          "state": {
            "_view_name": "StyleView",
            "_model_name": "DescriptionStyleModel",
            "description_width": "",
            "_view_module": "@jupyter-widgets/base",
            "_model_module_version": "1.5.0",
            "_view_count": null,
            "_view_module_version": "1.2.0",
            "_model_module": "@jupyter-widgets/controls"
          }
        },
        "79e8823f91b94e47a8089a23d813c7d1": {
          "model_module": "@jupyter-widgets/base",
          "model_name": "LayoutModel",
          "state": {
            "_view_name": "LayoutView",
            "grid_template_rows": null,
            "right": null,
            "justify_content": null,
            "_view_module": "@jupyter-widgets/base",
            "overflow": null,
            "_model_module_version": "1.2.0",
            "_view_count": null,
            "flex_flow": null,
            "width": null,
            "min_width": null,
            "border": null,
            "align_items": null,
            "bottom": null,
            "_model_module": "@jupyter-widgets/base",
            "top": null,
            "grid_column": null,
            "overflow_y": null,
            "overflow_x": null,
            "grid_auto_flow": null,
            "grid_area": null,
            "grid_template_columns": null,
            "flex": null,
            "_model_name": "LayoutModel",
            "justify_items": null,
            "grid_row": null,
            "max_height": null,
            "align_content": null,
            "visibility": null,
            "align_self": null,
            "height": null,
            "min_height": null,
            "padding": null,
            "grid_auto_rows": null,
            "grid_gap": null,
            "max_width": null,
            "order": null,
            "_view_module_version": "1.2.0",
            "grid_template_areas": null,
            "object_position": null,
            "object_fit": null,
            "grid_auto_columns": null,
            "margin": null,
            "display": null,
            "left": null
          }
        },
        "a5f33c54693e4dc99be7502e7b9d9eae": {
          "model_module": "@jupyter-widgets/controls",
          "model_name": "HBoxModel",
          "state": {
            "_view_name": "HBoxView",
            "_dom_classes": [],
            "_model_name": "HBoxModel",
            "_view_module": "@jupyter-widgets/controls",
            "_model_module_version": "1.5.0",
            "_view_count": null,
            "_view_module_version": "1.5.0",
            "box_style": "",
            "layout": "IPY_MODEL_f170d8eb0fa84d2792b8c5e55e20b57f",
            "_model_module": "@jupyter-widgets/controls",
            "children": [
              "IPY_MODEL_b5f7120edf5649d8ad3ba92aa73c16bb",
              "IPY_MODEL_838d4a8d919f4574becc19a2f0598554"
            ]
          }
        },
        "f170d8eb0fa84d2792b8c5e55e20b57f": {
          "model_module": "@jupyter-widgets/base",
          "model_name": "LayoutModel",
          "state": {
            "_view_name": "LayoutView",
            "grid_template_rows": null,
            "right": null,
            "justify_content": null,
            "_view_module": "@jupyter-widgets/base",
            "overflow": null,
            "_model_module_version": "1.2.0",
            "_view_count": null,
            "flex_flow": null,
            "width": null,
            "min_width": null,
            "border": null,
            "align_items": null,
            "bottom": null,
            "_model_module": "@jupyter-widgets/base",
            "top": null,
            "grid_column": null,
            "overflow_y": null,
            "overflow_x": null,
            "grid_auto_flow": null,
            "grid_area": null,
            "grid_template_columns": null,
            "flex": null,
            "_model_name": "LayoutModel",
            "justify_items": null,
            "grid_row": null,
            "max_height": null,
            "align_content": null,
            "visibility": null,
            "align_self": null,
            "height": null,
            "min_height": null,
            "padding": null,
            "grid_auto_rows": null,
            "grid_gap": null,
            "max_width": null,
            "order": null,
            "_view_module_version": "1.2.0",
            "grid_template_areas": null,
            "object_position": null,
            "object_fit": null,
            "grid_auto_columns": null,
            "margin": null,
            "display": null,
            "left": null
          }
        },
        "b5f7120edf5649d8ad3ba92aa73c16bb": {
          "model_module": "@jupyter-widgets/controls",
          "model_name": "FloatProgressModel",
          "state": {
            "_view_name": "ProgressView",
            "style": "IPY_MODEL_bd073d1723b748dbbac890f8499039d4",
            "_dom_classes": [],
            "description": " 54%",
            "_model_name": "FloatProgressModel",
            "bar_style": "danger",
            "max": 25000,
            "_view_module": "@jupyter-widgets/controls",
            "_model_module_version": "1.5.0",
            "value": 13526,
            "_view_count": null,
            "_view_module_version": "1.5.0",
            "orientation": "horizontal",
            "min": 0,
            "description_tooltip": null,
            "_model_module": "@jupyter-widgets/controls",
            "layout": "IPY_MODEL_3b12f5e455ea4602adc384159ba08658"
          }
        },
        "838d4a8d919f4574becc19a2f0598554": {
          "model_module": "@jupyter-widgets/controls",
          "model_name": "HTMLModel",
          "state": {
            "_view_name": "HTMLView",
            "style": "IPY_MODEL_abbe99b63bf04cf9abef1d83f35bb131",
            "_dom_classes": [],
            "description": "",
            "_model_name": "HTMLModel",
            "placeholder": "​",
            "_view_module": "@jupyter-widgets/controls",
            "_model_module_version": "1.5.0",
            "value": " 13526/25000 [00:00&lt;00:00, 135259.81 examples/s]",
            "_view_count": null,
            "_view_module_version": "1.5.0",
            "description_tooltip": null,
            "_model_module": "@jupyter-widgets/controls",
            "layout": "IPY_MODEL_b01d6886fbd445a9b24caa509ced9ce6"
          }
        },
        "bd073d1723b748dbbac890f8499039d4": {
          "model_module": "@jupyter-widgets/controls",
          "model_name": "ProgressStyleModel",
          "state": {
            "_view_name": "StyleView",
            "_model_name": "ProgressStyleModel",
            "description_width": "initial",
            "_view_module": "@jupyter-widgets/base",
            "_model_module_version": "1.5.0",
            "_view_count": null,
            "_view_module_version": "1.2.0",
            "bar_color": null,
            "_model_module": "@jupyter-widgets/controls"
          }
        },
        "3b12f5e455ea4602adc384159ba08658": {
          "model_module": "@jupyter-widgets/base",
          "model_name": "LayoutModel",
          "state": {
            "_view_name": "LayoutView",
            "grid_template_rows": null,
            "right": null,
            "justify_content": null,
            "_view_module": "@jupyter-widgets/base",
            "overflow": null,
            "_model_module_version": "1.2.0",
            "_view_count": null,
            "flex_flow": null,
            "width": null,
            "min_width": null,
            "border": null,
            "align_items": null,
            "bottom": null,
            "_model_module": "@jupyter-widgets/base",
            "top": null,
            "grid_column": null,
            "overflow_y": null,
            "overflow_x": null,
            "grid_auto_flow": null,
            "grid_area": null,
            "grid_template_columns": null,
            "flex": null,
            "_model_name": "LayoutModel",
            "justify_items": null,
            "grid_row": null,
            "max_height": null,
            "align_content": null,
            "visibility": null,
            "align_self": null,
            "height": null,
            "min_height": null,
            "padding": null,
            "grid_auto_rows": null,
            "grid_gap": null,
            "max_width": null,
            "order": null,
            "_view_module_version": "1.2.0",
            "grid_template_areas": null,
            "object_position": null,
            "object_fit": null,
            "grid_auto_columns": null,
            "margin": null,
            "display": null,
            "left": null
          }
        },
        "abbe99b63bf04cf9abef1d83f35bb131": {
          "model_module": "@jupyter-widgets/controls",
          "model_name": "DescriptionStyleModel",
          "state": {
            "_view_name": "StyleView",
            "_model_name": "DescriptionStyleModel",
            "description_width": "",
            "_view_module": "@jupyter-widgets/base",
            "_model_module_version": "1.5.0",
            "_view_count": null,
            "_view_module_version": "1.2.0",
            "_model_module": "@jupyter-widgets/controls"
          }
        },
        "b01d6886fbd445a9b24caa509ced9ce6": {
          "model_module": "@jupyter-widgets/base",
          "model_name": "LayoutModel",
          "state": {
            "_view_name": "LayoutView",
            "grid_template_rows": null,
            "right": null,
            "justify_content": null,
            "_view_module": "@jupyter-widgets/base",
            "overflow": null,
            "_model_module_version": "1.2.0",
            "_view_count": null,
            "flex_flow": null,
            "width": null,
            "min_width": null,
            "border": null,
            "align_items": null,
            "bottom": null,
            "_model_module": "@jupyter-widgets/base",
            "top": null,
            "grid_column": null,
            "overflow_y": null,
            "overflow_x": null,
            "grid_auto_flow": null,
            "grid_area": null,
            "grid_template_columns": null,
            "flex": null,
            "_model_name": "LayoutModel",
            "justify_items": null,
            "grid_row": null,
            "max_height": null,
            "align_content": null,
            "visibility": null,
            "align_self": null,
            "height": null,
            "min_height": null,
            "padding": null,
            "grid_auto_rows": null,
            "grid_gap": null,
            "max_width": null,
            "order": null,
            "_view_module_version": "1.2.0",
            "grid_template_areas": null,
            "object_position": null,
            "object_fit": null,
            "grid_auto_columns": null,
            "margin": null,
            "display": null,
            "left": null
          }
        },
        "8b558c78b3d54ddcbd12bc21f621498e": {
          "model_module": "@jupyter-widgets/controls",
          "model_name": "HBoxModel",
          "state": {
            "_view_name": "HBoxView",
            "_dom_classes": [],
            "_model_name": "HBoxModel",
            "_view_module": "@jupyter-widgets/controls",
            "_model_module_version": "1.5.0",
            "_view_count": null,
            "_view_module_version": "1.5.0",
            "box_style": "",
            "layout": "IPY_MODEL_183b8920ea444100b434788b93617b8e",
            "_model_module": "@jupyter-widgets/controls",
            "children": [
              "IPY_MODEL_b3f8fea76abf40b3bed9a61fcc4a613e",
              "IPY_MODEL_20a2eee526e6460aa9d2ac9370d78a36"
            ]
          }
        },
        "183b8920ea444100b434788b93617b8e": {
          "model_module": "@jupyter-widgets/base",
          "model_name": "LayoutModel",
          "state": {
            "_view_name": "LayoutView",
            "grid_template_rows": null,
            "right": null,
            "justify_content": null,
            "_view_module": "@jupyter-widgets/base",
            "overflow": null,
            "_model_module_version": "1.2.0",
            "_view_count": null,
            "flex_flow": null,
            "width": null,
            "min_width": null,
            "border": null,
            "align_items": null,
            "bottom": null,
            "_model_module": "@jupyter-widgets/base",
            "top": null,
            "grid_column": null,
            "overflow_y": null,
            "overflow_x": null,
            "grid_auto_flow": null,
            "grid_area": null,
            "grid_template_columns": null,
            "flex": null,
            "_model_name": "LayoutModel",
            "justify_items": null,
            "grid_row": null,
            "max_height": null,
            "align_content": null,
            "visibility": null,
            "align_self": null,
            "height": null,
            "min_height": null,
            "padding": null,
            "grid_auto_rows": null,
            "grid_gap": null,
            "max_width": null,
            "order": null,
            "_view_module_version": "1.2.0",
            "grid_template_areas": null,
            "object_position": null,
            "object_fit": null,
            "grid_auto_columns": null,
            "margin": null,
            "display": null,
            "left": null
          }
        },
        "b3f8fea76abf40b3bed9a61fcc4a613e": {
          "model_module": "@jupyter-widgets/controls",
          "model_name": "FloatProgressModel",
          "state": {
            "_view_name": "ProgressView",
            "style": "IPY_MODEL_125409bd2a684181983a819e65eeeec0",
            "_dom_classes": [],
            "description": "",
            "_model_name": "FloatProgressModel",
            "bar_style": "info",
            "max": 1,
            "_view_module": "@jupyter-widgets/controls",
            "_model_module_version": "1.5.0",
            "value": 1,
            "_view_count": null,
            "_view_module_version": "1.5.0",
            "orientation": "horizontal",
            "min": 0,
            "description_tooltip": null,
            "_model_module": "@jupyter-widgets/controls",
            "layout": "IPY_MODEL_9def5949762a45a3bea9dbeae700a45a"
          }
        },
        "20a2eee526e6460aa9d2ac9370d78a36": {
          "model_module": "@jupyter-widgets/controls",
          "model_name": "HTMLModel",
          "state": {
            "_view_name": "HTMLView",
            "style": "IPY_MODEL_3269c682f67848989a2302b589cd06c8",
            "_dom_classes": [],
            "description": "",
            "_model_name": "HTMLModel",
            "placeholder": "​",
            "_view_module": "@jupyter-widgets/controls",
            "_model_module_version": "1.5.0",
            "value": " 50000/0 [00:18&lt;00:00, 3382.38 examples/s]",
            "_view_count": null,
            "_view_module_version": "1.5.0",
            "description_tooltip": null,
            "_model_module": "@jupyter-widgets/controls",
            "layout": "IPY_MODEL_ba1de671735c4421b129f034b4482126"
          }
        },
        "125409bd2a684181983a819e65eeeec0": {
          "model_module": "@jupyter-widgets/controls",
          "model_name": "ProgressStyleModel",
          "state": {
            "_view_name": "StyleView",
            "_model_name": "ProgressStyleModel",
            "description_width": "initial",
            "_view_module": "@jupyter-widgets/base",
            "_model_module_version": "1.5.0",
            "_view_count": null,
            "_view_module_version": "1.2.0",
            "bar_color": null,
            "_model_module": "@jupyter-widgets/controls"
          }
        },
        "9def5949762a45a3bea9dbeae700a45a": {
          "model_module": "@jupyter-widgets/base",
          "model_name": "LayoutModel",
          "state": {
            "_view_name": "LayoutView",
            "grid_template_rows": null,
            "right": null,
            "justify_content": null,
            "_view_module": "@jupyter-widgets/base",
            "overflow": null,
            "_model_module_version": "1.2.0",
            "_view_count": null,
            "flex_flow": null,
            "width": null,
            "min_width": null,
            "border": null,
            "align_items": null,
            "bottom": null,
            "_model_module": "@jupyter-widgets/base",
            "top": null,
            "grid_column": null,
            "overflow_y": null,
            "overflow_x": null,
            "grid_auto_flow": null,
            "grid_area": null,
            "grid_template_columns": null,
            "flex": null,
            "_model_name": "LayoutModel",
            "justify_items": null,
            "grid_row": null,
            "max_height": null,
            "align_content": null,
            "visibility": null,
            "align_self": null,
            "height": null,
            "min_height": null,
            "padding": null,
            "grid_auto_rows": null,
            "grid_gap": null,
            "max_width": null,
            "order": null,
            "_view_module_version": "1.2.0",
            "grid_template_areas": null,
            "object_position": null,
            "object_fit": null,
            "grid_auto_columns": null,
            "margin": null,
            "display": null,
            "left": null
          }
        },
        "3269c682f67848989a2302b589cd06c8": {
          "model_module": "@jupyter-widgets/controls",
          "model_name": "DescriptionStyleModel",
          "state": {
            "_view_name": "StyleView",
            "_model_name": "DescriptionStyleModel",
            "description_width": "",
            "_view_module": "@jupyter-widgets/base",
            "_model_module_version": "1.5.0",
            "_view_count": null,
            "_view_module_version": "1.2.0",
            "_model_module": "@jupyter-widgets/controls"
          }
        },
        "ba1de671735c4421b129f034b4482126": {
          "model_module": "@jupyter-widgets/base",
          "model_name": "LayoutModel",
          "state": {
            "_view_name": "LayoutView",
            "grid_template_rows": null,
            "right": null,
            "justify_content": null,
            "_view_module": "@jupyter-widgets/base",
            "overflow": null,
            "_model_module_version": "1.2.0",
            "_view_count": null,
            "flex_flow": null,
            "width": null,
            "min_width": null,
            "border": null,
            "align_items": null,
            "bottom": null,
            "_model_module": "@jupyter-widgets/base",
            "top": null,
            "grid_column": null,
            "overflow_y": null,
            "overflow_x": null,
            "grid_auto_flow": null,
            "grid_area": null,
            "grid_template_columns": null,
            "flex": null,
            "_model_name": "LayoutModel",
            "justify_items": null,
            "grid_row": null,
            "max_height": null,
            "align_content": null,
            "visibility": null,
            "align_self": null,
            "height": null,
            "min_height": null,
            "padding": null,
            "grid_auto_rows": null,
            "grid_gap": null,
            "max_width": null,
            "order": null,
            "_view_module_version": "1.2.0",
            "grid_template_areas": null,
            "object_position": null,
            "object_fit": null,
            "grid_auto_columns": null,
            "margin": null,
            "display": null,
            "left": null
          }
        },
        "4b7f6b6430334e25858b0b4c83fefbd2": {
          "model_module": "@jupyter-widgets/controls",
          "model_name": "HBoxModel",
          "state": {
            "_view_name": "HBoxView",
            "_dom_classes": [],
            "_model_name": "HBoxModel",
            "_view_module": "@jupyter-widgets/controls",
            "_model_module_version": "1.5.0",
            "_view_count": null,
            "_view_module_version": "1.5.0",
            "box_style": "",
            "layout": "IPY_MODEL_ce11db09c48d428f898b1f6042a2cc97",
            "_model_module": "@jupyter-widgets/controls",
            "children": [
              "IPY_MODEL_f8af74010ccb4eaf9798f06dc8c6ac88",
              "IPY_MODEL_32566efddd044d6d8699d4385f31c7ec"
            ]
          }
        },
        "ce11db09c48d428f898b1f6042a2cc97": {
          "model_module": "@jupyter-widgets/base",
          "model_name": "LayoutModel",
          "state": {
            "_view_name": "LayoutView",
            "grid_template_rows": null,
            "right": null,
            "justify_content": null,
            "_view_module": "@jupyter-widgets/base",
            "overflow": null,
            "_model_module_version": "1.2.0",
            "_view_count": null,
            "flex_flow": null,
            "width": null,
            "min_width": null,
            "border": null,
            "align_items": null,
            "bottom": null,
            "_model_module": "@jupyter-widgets/base",
            "top": null,
            "grid_column": null,
            "overflow_y": null,
            "overflow_x": null,
            "grid_auto_flow": null,
            "grid_area": null,
            "grid_template_columns": null,
            "flex": null,
            "_model_name": "LayoutModel",
            "justify_items": null,
            "grid_row": null,
            "max_height": null,
            "align_content": null,
            "visibility": null,
            "align_self": null,
            "height": null,
            "min_height": null,
            "padding": null,
            "grid_auto_rows": null,
            "grid_gap": null,
            "max_width": null,
            "order": null,
            "_view_module_version": "1.2.0",
            "grid_template_areas": null,
            "object_position": null,
            "object_fit": null,
            "grid_auto_columns": null,
            "margin": null,
            "display": null,
            "left": null
          }
        },
        "f8af74010ccb4eaf9798f06dc8c6ac88": {
          "model_module": "@jupyter-widgets/controls",
          "model_name": "FloatProgressModel",
          "state": {
            "_view_name": "ProgressView",
            "style": "IPY_MODEL_6ec556a0a2a74cc5a01ca4ab3a40bd51",
            "_dom_classes": [],
            "description": " 73%",
            "_model_name": "FloatProgressModel",
            "bar_style": "danger",
            "max": 50000,
            "_view_module": "@jupyter-widgets/controls",
            "_model_module_version": "1.5.0",
            "value": 36551,
            "_view_count": null,
            "_view_module_version": "1.5.0",
            "orientation": "horizontal",
            "min": 0,
            "description_tooltip": null,
            "_model_module": "@jupyter-widgets/controls",
            "layout": "IPY_MODEL_934c926ee1aa4675adb0f5a80ac926aa"
          }
        },
        "32566efddd044d6d8699d4385f31c7ec": {
          "model_module": "@jupyter-widgets/controls",
          "model_name": "HTMLModel",
          "state": {
            "_view_name": "HTMLView",
            "style": "IPY_MODEL_5d7e38c23a9242c3be3abe61765530cc",
            "_dom_classes": [],
            "description": "",
            "_model_name": "HTMLModel",
            "placeholder": "​",
            "_view_module": "@jupyter-widgets/controls",
            "_model_module_version": "1.5.0",
            "value": " 36551/50000 [00:00&lt;00:00, 107275.63 examples/s]",
            "_view_count": null,
            "_view_module_version": "1.5.0",
            "description_tooltip": null,
            "_model_module": "@jupyter-widgets/controls",
            "layout": "IPY_MODEL_e872de102a6e4928a5de791fcdc7f824"
          }
        },
        "6ec556a0a2a74cc5a01ca4ab3a40bd51": {
          "model_module": "@jupyter-widgets/controls",
          "model_name": "ProgressStyleModel",
          "state": {
            "_view_name": "StyleView",
            "_model_name": "ProgressStyleModel",
            "description_width": "initial",
            "_view_module": "@jupyter-widgets/base",
            "_model_module_version": "1.5.0",
            "_view_count": null,
            "_view_module_version": "1.2.0",
            "bar_color": null,
            "_model_module": "@jupyter-widgets/controls"
          }
        },
        "934c926ee1aa4675adb0f5a80ac926aa": {
          "model_module": "@jupyter-widgets/base",
          "model_name": "LayoutModel",
          "state": {
            "_view_name": "LayoutView",
            "grid_template_rows": null,
            "right": null,
            "justify_content": null,
            "_view_module": "@jupyter-widgets/base",
            "overflow": null,
            "_model_module_version": "1.2.0",
            "_view_count": null,
            "flex_flow": null,
            "width": null,
            "min_width": null,
            "border": null,
            "align_items": null,
            "bottom": null,
            "_model_module": "@jupyter-widgets/base",
            "top": null,
            "grid_column": null,
            "overflow_y": null,
            "overflow_x": null,
            "grid_auto_flow": null,
            "grid_area": null,
            "grid_template_columns": null,
            "flex": null,
            "_model_name": "LayoutModel",
            "justify_items": null,
            "grid_row": null,
            "max_height": null,
            "align_content": null,
            "visibility": null,
            "align_self": null,
            "height": null,
            "min_height": null,
            "padding": null,
            "grid_auto_rows": null,
            "grid_gap": null,
            "max_width": null,
            "order": null,
            "_view_module_version": "1.2.0",
            "grid_template_areas": null,
            "object_position": null,
            "object_fit": null,
            "grid_auto_columns": null,
            "margin": null,
            "display": null,
            "left": null
          }
        },
        "5d7e38c23a9242c3be3abe61765530cc": {
          "model_module": "@jupyter-widgets/controls",
          "model_name": "DescriptionStyleModel",
          "state": {
            "_view_name": "StyleView",
            "_model_name": "DescriptionStyleModel",
            "description_width": "",
            "_view_module": "@jupyter-widgets/base",
            "_model_module_version": "1.5.0",
            "_view_count": null,
            "_view_module_version": "1.2.0",
            "_model_module": "@jupyter-widgets/controls"
          }
        },
        "e872de102a6e4928a5de791fcdc7f824": {
          "model_module": "@jupyter-widgets/base",
          "model_name": "LayoutModel",
          "state": {
            "_view_name": "LayoutView",
            "grid_template_rows": null,
            "right": null,
            "justify_content": null,
            "_view_module": "@jupyter-widgets/base",
            "overflow": null,
            "_model_module_version": "1.2.0",
            "_view_count": null,
            "flex_flow": null,
            "width": null,
            "min_width": null,
            "border": null,
            "align_items": null,
            "bottom": null,
            "_model_module": "@jupyter-widgets/base",
            "top": null,
            "grid_column": null,
            "overflow_y": null,
            "overflow_x": null,
            "grid_auto_flow": null,
            "grid_area": null,
            "grid_template_columns": null,
            "flex": null,
            "_model_name": "LayoutModel",
            "justify_items": null,
            "grid_row": null,
            "max_height": null,
            "align_content": null,
            "visibility": null,
            "align_self": null,
            "height": null,
            "min_height": null,
            "padding": null,
            "grid_auto_rows": null,
            "grid_gap": null,
            "max_width": null,
            "order": null,
            "_view_module_version": "1.2.0",
            "grid_template_areas": null,
            "object_position": null,
            "object_fit": null,
            "grid_auto_columns": null,
            "margin": null,
            "display": null,
            "left": null
          }
        }
      }
    }
  },
  "cells": [
    {
      "cell_type": "markdown",
      "metadata": {
        "colab_type": "text",
        "id": "vk-ckxJ9EMMg"
      },
      "source": [
        "# Sentiment Analysis\n",
        "\n",
        "We've already demonstrated how to train a character-level RNN to create original text. In this chapter, we create a **word-level** to analyze sentiment.\n",
        "\n",
        "Sentiment analysis is a common NLP task. **Sentiment analysis** computationally identifies and categorizes opinions expressed in a text corpus to determine attitude or sentiment. Typically, sentiment analysis is used to determine a positive, negative or neutral opinion towards a particular topic or product. This technique is widely applied to reviews, surveys, and documents."
      ]
    },
    {
      "cell_type": "markdown",
      "metadata": {
        "colab_type": "text",
        "id": "dpZnSxa4Mz0f"
      },
      "source": [
        "# IMDb Dataset\n",
        "\n",
        "A popular dataset used to practice NLP is the IMDb reviews dataset. **IMDb** is a benchmark dataset for binary sentiment classification. The dataset contains 50,000 movie reviews labeled as either positive (1) or negative (0). Reviews are preprocessed with each encoded as a sequence of word indexes in the form of integers. Words within the reviews are indexed by their overall frequency within the dataset. The 50,000 reviews are split into 25,000 for training and 25,000 for testing. So, we can predict the number of positive and negative reviews using either classification or other deep learning algorithms.\n",
        "\n",
        "IMDb is popular because it is simple to use, relative easy to process, and challenging enough for machine learning aficionados. We enjoy working with IMDb because it's just fun to work with movie data."
      ]
    },
    {
      "cell_type": "markdown",
      "metadata": {
        "id": "czUM6uWXNuqh",
        "colab_type": "text"
      },
      "source": [
        "As usual, we need to set up the GPU for each notebook. So, click the **Runtime** tab, click **Change runtime type** from the drop-down menu, choose **GPU** from the Hardware Accelerator drop-down menu, and click **Save**."
      ]
    },
    {
      "cell_type": "code",
      "metadata": {
        "id": "jd501k9RNwpG",
        "colab_type": "code",
        "colab": {
          "base_uri": "https://localhost:8080/",
          "height": 34
        },
        "outputId": "ea218419-e185-4b7c-bbe8-0fd33f1d9876"
      },
      "source": [
        "import tensorflow as tf\n",
        "\n",
        "# display tf version and test if GPU is active\n",
        "\n",
        "tf.__version__, tf.test.gpu_device_name()"
      ],
      "execution_count": null,
      "outputs": [
        {
          "output_type": "execute_result",
          "data": {
            "text/plain": [
              "('2.3.0', '/device:GPU:0')"
            ]
          },
          "metadata": {
            "tags": []
          },
          "execution_count": 1
        }
      ]
    },
    {
      "cell_type": "markdown",
      "metadata": {
        "id": "emeoNGQWzawu",
        "colab_type": "text"
      },
      "source": [
        "# Load IMDb as a TFDS\n",
        "\n",
        "The recommended way to load IMDb is as a TFDS:"
      ]
    },
    {
      "cell_type": "code",
      "metadata": {
        "id": "x_-HinwizvTX",
        "colab_type": "code",
        "colab": {}
      },
      "source": [
        "import tensorflow_datasets as tfds\n",
        "\n",
        "imdb, info = tfds.load(\n",
        "    'imdb_reviews/subwords8k', with_info=True,\n",
        "    as_supervised=True, shuffle_files=True)"
      ],
      "execution_count": null,
      "outputs": []
    },
    {
      "cell_type": "markdown",
      "metadata": {
        "id": "gxzTRhfM0Hum",
        "colab_type": "text"
      },
      "source": [
        "We use the **imdb_reviews/subwords8k** TFDS so we don't have to train on the entire IMDb datast. The *subwords8k* subset has a vocabulary size of 8,000, which means that we are training the model on the 8,000 most commonly used words in the reviews. It also means that we don't have to build our own vocabulary dictionary. We can get good performance with this subset and substantially reduce training time. Loading the TFDS also gives us access to the **tfds.features.text.SubwordTextEncoder**, which is the TFDS text encoder.\n",
        "\n",
        "We set **with_info=True** to enable access to information about the dataset and the encoder. We set **as_supervised=True** so the returned TFDS has a 2-tuple structure (input, label) in accordance to builder.info.supervised_keys. If set to *False* (the default), the returned TFDS will have a dictionary with all features included. We set **shuffle_files=True** because shuffling typically improves performance.\n",
        "\n",
        "For more information about all features of a TFDS, peruse the following URL:\n",
        "\n",
        "https://www.tensorflow.org/datasets/api_docs/python/tfds/load\n",
        "\n",
        "For more infor about 'imdb_reviews', peruse the following URL:\n",
        "\n",
        "https://www.tensorflow.org/datasets/catalog/imdb_reviews"
      ]
    },
    {
      "cell_type": "markdown",
      "metadata": {
        "id": "qKMe0Om70H4B",
        "colab_type": "text"
      },
      "source": [
        "## Display the Keys"
      ]
    },
    {
      "cell_type": "code",
      "metadata": {
        "id": "LjZGCK5I0jKW",
        "colab_type": "code",
        "colab": {
          "base_uri": "https://localhost:8080/",
          "height": 34
        },
        "outputId": "b12eb3d1-d23a-4e0b-da70-43f28cbe45eb"
      },
      "source": [
        "imdb.keys()"
      ],
      "execution_count": null,
      "outputs": [
        {
          "output_type": "execute_result",
          "data": {
            "text/plain": [
              "dict_keys(['test', 'train', 'unsupervised'])"
            ]
          },
          "metadata": {
            "tags": []
          },
          "execution_count": 4
        }
      ]
    },
    {
      "cell_type": "markdown",
      "metadata": {
        "id": "4ofszLi00umk",
        "colab_type": "text"
      },
      "source": [
        "By displaying the keys, we know that the dataset is split into test, train, and unsupervised samples."
      ]
    },
    {
      "cell_type": "markdown",
      "metadata": {
        "id": "7iuAUc6c02IS",
        "colab_type": "text"
      },
      "source": [
        "## Split into Train and Test Sets\n",
        "\n",
        "Since we are building a supervised model, we are only interested in the train and test samples."
      ]
    },
    {
      "cell_type": "code",
      "metadata": {
        "id": "HrmXlhlg1Gop",
        "colab_type": "code",
        "colab": {}
      },
      "source": [
        "train, test = imdb['train'], imdb['test']"
      ],
      "execution_count": null,
      "outputs": []
    },
    {
      "cell_type": "markdown",
      "metadata": {
        "id": "RqCU3L591VaL",
        "colab_type": "text"
      },
      "source": [
        "## Display the First Sample\n",
        "\n",
        "Display the first review and its label from the training sample."
      ]
    },
    {
      "cell_type": "code",
      "metadata": {
        "id": "gsv9Vk6s1cvv",
        "colab_type": "code",
        "colab": {
          "base_uri": "https://localhost:8080/",
          "height": 289
        },
        "outputId": "fab66b4d-5e02-4877-db31-a20a5a42e3f2"
      },
      "source": [
        "br ='\\n'\n",
        "\n",
        "for sample, target in train.take(1):\n",
        "  print ('encoded review:')\n",
        "  print (sample, br)\n",
        "  print ('target:', target.numpy())"
      ],
      "execution_count": null,
      "outputs": [
        {
          "output_type": "stream",
          "text": [
            "encoded review:\n",
            "tf.Tensor(\n",
            "[  62   18   41  604  927   65    3  644 7968   21   35 5096   36   11\n",
            "   43 2948 5240  102   50  681 7862 1244    3 3266   29  122  640    2\n",
            "   26   14  279  438   35   79  349  384   11 1991    3  492   79  122\n",
            "  188  117   33 4047 4531   14   65 7968    8 1819 3947    3   62   27\n",
            "    9   41  577 5044 2629 2552 7193 7961 3642    3   19  107 3903  225\n",
            "   85  198   72    1 1512  738 2347  102 6245    8   85  308   79 6936\n",
            " 7961   23 4981 8044    3 6429 7961 1141 1335 1848 4848   55 3601 4217\n",
            " 8050    2    5   59 3831 1484 8040 7974  174 5773   22 5240  102   18\n",
            "  247   26    4 3903 1612 3902  291   11    4   27   13   18 4092 4008\n",
            " 7961    6  119  213 2774    3   12  258 2306   13   91   29  171   52\n",
            "  229    2 1245 5790  995 7968    8   52 2948 5240 8039 7968    8   74\n",
            " 1249    3   12  117 2438 1369  192   39 7975], shape=(163,), dtype=int64) \n",
            "\n",
            "target: 0\n"
          ],
          "name": "stdout"
        }
      ]
    },
    {
      "cell_type": "markdown",
      "metadata": {
        "id": "G_ZtrZOr1oOO",
        "colab_type": "text"
      },
      "source": [
        "Each example in both train and test sets contain contain a review tensor and a label tensor. Reviews are already encoded as integers with datatype 'int64'. Labels are either 0 (negative) or 1 (positive) with datatype 'int64'.\n",
        "\n",
        "We know the number of words in the sample review by looking at its shape. We also display the target. Notice, that we convert the target tensor to values with the **numpy()** method."
      ]
    },
    {
      "cell_type": "markdown",
      "metadata": {
        "id": "8DxbzYHX1sCF",
        "colab_type": "text"
      },
      "source": [
        "## Display Information about the TFDS"
      ]
    },
    {
      "cell_type": "code",
      "metadata": {
        "id": "Ruh5gTNi1toG",
        "colab_type": "code",
        "colab": {
          "base_uri": "https://localhost:8080/",
          "height": 547
        },
        "outputId": "31497659-1ae4-4406-aecd-4f73773ed118"
      },
      "source": [
        "# see all of the information!\n",
        "\n",
        "info"
      ],
      "execution_count": null,
      "outputs": [
        {
          "output_type": "execute_result",
          "data": {
            "text/plain": [
              "tfds.core.DatasetInfo(\n",
              "    name='imdb_reviews',\n",
              "    version=1.0.0,\n",
              "    description='Large Movie Review Dataset.\n",
              "This is a dataset for binary sentiment classification containing substantially more data than previous benchmark datasets. We provide a set of 25,000 highly polar movie reviews for training, and 25,000 for testing. There is additional unlabeled data for use as well.',\n",
              "    homepage='http://ai.stanford.edu/~amaas/data/sentiment/',\n",
              "    features=FeaturesDict({\n",
              "        'label': ClassLabel(shape=(), dtype=tf.int64, num_classes=2),\n",
              "        'text': Text(shape=(None,), dtype=tf.int64, encoder=<SubwordTextEncoder vocab_size=8185>),\n",
              "    }),\n",
              "    total_num_examples=100000,\n",
              "    splits={\n",
              "        'test': 25000,\n",
              "        'train': 25000,\n",
              "        'unsupervised': 50000,\n",
              "    },\n",
              "    supervised_keys=('text', 'label'),\n",
              "    citation=\"\"\"@InProceedings{maas-EtAl:2011:ACL-HLT2011,\n",
              "      author    = {Maas, Andrew L.  and  Daly, Raymond E.  and  Pham, Peter T.  and  Huang, Dan  and  Ng, Andrew Y.  and  Potts, Christopher},\n",
              "      title     = {Learning Word Vectors for Sentiment Analysis},\n",
              "      booktitle = {Proceedings of the 49th Annual Meeting of the Association for Computational Linguistics: Human Language Technologies},\n",
              "      month     = {June},\n",
              "      year      = {2011},\n",
              "      address   = {Portland, Oregon, USA},\n",
              "      publisher = {Association for Computational Linguistics},\n",
              "      pages     = {142--150},\n",
              "      url       = {http://www.aclweb.org/anthology/P11-1015}\n",
              "    }\"\"\",\n",
              "    redistribution_info=,\n",
              ")"
            ]
          },
          "metadata": {
            "tags": []
          },
          "execution_count": 7
        }
      ]
    },
    {
      "cell_type": "markdown",
      "metadata": {
        "id": "K2cug_wR25tU",
        "colab_type": "text"
      },
      "source": [
        "## Peruse Metadata"
      ]
    },
    {
      "cell_type": "markdown",
      "metadata": {
        "id": "LLNMmIuY3BNT",
        "colab_type": "text"
      },
      "source": [
        "See train and test sample splits:"
      ]
    },
    {
      "cell_type": "code",
      "metadata": {
        "id": "hnrvTNAG1sLw",
        "colab_type": "code",
        "colab": {
          "base_uri": "https://localhost:8080/",
          "height": 34
        },
        "outputId": "885cfaa0-8939-460f-f1de-68d970d57eb0"
      },
      "source": [
        "# see the train and test sample splits\n",
        "\n",
        "train_size = info.splits['train'].num_examples\n",
        "test_size = info.splits['test'].num_examples\n",
        "\n",
        "train_size, test_size"
      ],
      "execution_count": null,
      "outputs": [
        {
          "output_type": "execute_result",
          "data": {
            "text/plain": [
              "(25000, 25000)"
            ]
          },
          "metadata": {
            "tags": []
          },
          "execution_count": 8
        }
      ]
    },
    {
      "cell_type": "markdown",
      "metadata": {
        "id": "61WZ3q7L3E-K",
        "colab_type": "text"
      },
      "source": [
        "See supervised keys:"
      ]
    },
    {
      "cell_type": "code",
      "metadata": {
        "id": "uoW30lng3NP4",
        "colab_type": "code",
        "colab": {
          "base_uri": "https://localhost:8080/",
          "height": 34
        },
        "outputId": "ea454950-7e8a-47f2-e885-4588725840ff"
      },
      "source": [
        "info.supervised_keys"
      ],
      "execution_count": null,
      "outputs": [
        {
          "output_type": "execute_result",
          "data": {
            "text/plain": [
              "('text', 'label')"
            ]
          },
          "metadata": {
            "tags": []
          },
          "execution_count": 9
        }
      ]
    },
    {
      "cell_type": "markdown",
      "metadata": {
        "id": "XDce3wFT3RMc",
        "colab_type": "text"
      },
      "source": [
        "See feature information:"
      ]
    },
    {
      "cell_type": "code",
      "metadata": {
        "id": "PVck43sF3FHw",
        "colab_type": "code",
        "colab": {
          "base_uri": "https://localhost:8080/",
          "height": 85
        },
        "outputId": "fd73906f-4c13-49f6-ccf3-e6009f9b786c"
      },
      "source": [
        "info.features"
      ],
      "execution_count": null,
      "outputs": [
        {
          "output_type": "execute_result",
          "data": {
            "text/plain": [
              "FeaturesDict({\n",
              "    'label': ClassLabel(shape=(), dtype=tf.int64, num_classes=2),\n",
              "    'text': Text(shape=(None,), dtype=tf.int64, encoder=<SubwordTextEncoder vocab_size=8185>),\n",
              "})"
            ]
          },
          "metadata": {
            "tags": []
          },
          "execution_count": 10
        }
      ]
    },
    {
      "cell_type": "markdown",
      "metadata": {
        "id": "RTyerupq3eNR",
        "colab_type": "text"
      },
      "source": [
        "See TFDS name and a slice of its description:"
      ]
    },
    {
      "cell_type": "code",
      "metadata": {
        "id": "JZOBqjPn3eWl",
        "colab_type": "code",
        "colab": {
          "base_uri": "https://localhost:8080/",
          "height": 34
        },
        "outputId": "d11cb915-a329-4c6c-faa1-97f3cf3adb2f"
      },
      "source": [
        "info.name, info.description[0:25]"
      ],
      "execution_count": null,
      "outputs": [
        {
          "output_type": "execute_result",
          "data": {
            "text/plain": [
              "('imdb_reviews', 'Large Movie Review Datase')"
            ]
          },
          "metadata": {
            "tags": []
          },
          "execution_count": 11
        }
      ]
    },
    {
      "cell_type": "markdown",
      "metadata": {
        "id": "fkzBRFLE3qgp",
        "colab_type": "text"
      },
      "source": [
        "We can even slice the citation string to get the title:"
      ]
    },
    {
      "cell_type": "code",
      "metadata": {
        "id": "32uoSyHZ3qoL",
        "colab_type": "code",
        "colab": {
          "base_uri": "https://localhost:8080/",
          "height": 35
        },
        "outputId": "e8e81b44-56a8-46ff-82c9-221520fb7feb"
      },
      "source": [
        "info.citation[184:242]"
      ],
      "execution_count": null,
      "outputs": [
        {
          "output_type": "execute_result",
          "data": {
            "application/vnd.google.colaboratory.intrinsic+json": {
              "type": "string"
            },
            "text/plain": [
              "'title     = {Learning Word Vectors for Sentiment Analysis}'"
            ]
          },
          "metadata": {
            "tags": []
          },
          "execution_count": 12
        }
      ]
    },
    {
      "cell_type": "markdown",
      "metadata": {
        "id": "hzabBRKZ4LsL",
        "colab_type": "text"
      },
      "source": [
        "## Create the Encoder\n",
        "\n",
        "An encoder is built-into the TFDS *SubwordTextEncoder*. With the encoder, we can easily decode (integer to text) and encode (text to integer). We access the encoder from dataset **info**."
      ]
    },
    {
      "cell_type": "markdown",
      "metadata": {
        "id": "XmUCdTlT4ded",
        "colab_type": "text"
      },
      "source": [
        " Create an encoder based on the IMDb dataset we loaded into memory."
      ]
    },
    {
      "cell_type": "code",
      "metadata": {
        "id": "LrSrIvV04iaD",
        "colab_type": "code",
        "colab": {}
      },
      "source": [
        "encoder = info.features['text'].encoder"
      ],
      "execution_count": null,
      "outputs": []
    },
    {
      "cell_type": "markdown",
      "metadata": {
        "id": "ajk9B33T4rOa",
        "colab_type": "text"
      },
      "source": [
        "## Test the Encoder"
      ]
    },
    {
      "cell_type": "code",
      "metadata": {
        "id": "B_9pNjK14rXK",
        "colab_type": "code",
        "colab": {
          "base_uri": "https://localhost:8080/",
          "height": 51
        },
        "outputId": "e42e63d5-6496-4d2e-ed7c-46304cb18b45"
      },
      "source": [
        "sample_string = 'What a Beautiful Day!'\n",
        "\n",
        "encoded_string = encoder.encode(sample_string)\n",
        "print ('Encoded string:', encoded_string)\n",
        "\n",
        "original_string = encoder.decode(encoded_string)\n",
        "print ('Original string:', original_string)"
      ],
      "execution_count": null,
      "outputs": [
        {
          "output_type": "stream",
          "text": [
            "Encoded string: [274, 4, 6555, 5392, 7961, 2431, 7962]\n",
            "Original string: What a Beautiful Day!\n"
          ],
          "name": "stdout"
        }
      ]
    },
    {
      "cell_type": "markdown",
      "metadata": {
        "id": "PZq177jv4-Fn",
        "colab_type": "text"
      },
      "source": [
        "## Use the Encoder\n",
        "\n",
        "Create a function that returns the label rating:"
      ]
    },
    {
      "cell_type": "code",
      "metadata": {
        "id": "C2_hNlwA4-Q9",
        "colab_type": "code",
        "colab": {}
      },
      "source": [
        "def rev(d):\n",
        "  if tf.math.equal(d, 0): return 'negative review'\n",
        "  elif tf.math.equal(d, 1): return 'positive review'"
      ],
      "execution_count": null,
      "outputs": []
    },
    {
      "cell_type": "markdown",
      "metadata": {
        "id": "NKG3NrGT5es7",
        "colab_type": "text"
      },
      "source": [
        "Display the first review:"
      ]
    },
    {
      "cell_type": "code",
      "metadata": {
        "id": "pk75-jhj5e1W",
        "colab_type": "code",
        "colab": {
          "base_uri": "https://localhost:8080/",
          "height": 51
        },
        "outputId": "21b6a768-a1dc-4114-921a-3018330e260c"
      },
      "source": [
        "for sample, target in train.take(1):\n",
        "  print ('review:', end=' ')\n",
        "  text = encoder.decode(sample)\n",
        "  print (text[0:100])\n",
        "  print ('opinion:', end=' ')\n",
        "  print ('\\'' + rev(target) + '\\'')"
      ],
      "execution_count": null,
      "outputs": [
        {
          "output_type": "stream",
          "text": [
            "review: This was an absolutely terrible movie. Don't be lured in by Christopher Walken or Michael Ironside. \n",
            "opinion: 'negative review'\n"
          ],
          "name": "stdout"
        }
      ]
    },
    {
      "cell_type": "markdown",
      "metadata": {
        "id": "eTiPqjx05q7D",
        "colab_type": "text"
      },
      "source": [
        "Display multiple reviews:"
      ]
    },
    {
      "cell_type": "code",
      "metadata": {
        "id": "Re1gvdBO5rEc",
        "colab_type": "code",
        "colab": {
          "base_uri": "https://localhost:8080/",
          "height": 255
        },
        "outputId": "f665ac01-f818-47bc-84e2-14b8bc4f905f"
      },
      "source": [
        "n = 6\n",
        "\n",
        "for i, sample in enumerate(train.take(n)):\n",
        "  if i > 0:\n",
        "    print ('review', str(i+1) +':', end=' ')\n",
        "    text = encoder.decode(sample[0])\n",
        "    print (text[0:100])\n",
        "    print ('opinion:', end=' ')\n",
        "    print ('\\'' + rev(sample[1]) + '\\'')\n",
        "    if i < n-1:\n",
        "      print ()"
      ],
      "execution_count": null,
      "outputs": [
        {
          "output_type": "stream",
          "text": [
            "review 2: I have been known to fall asleep during films, but this is usually due to a combination of things in\n",
            "opinion: 'negative review'\n",
            "\n",
            "review 3: Mann photographs the Alberta Rocky Mountains in a superb fashion, and Jimmy Stewart and Walter Brenn\n",
            "opinion: 'negative review'\n",
            "\n",
            "review 4: This is the kind of film for a snowy Sunday afternoon when the rest of the world can go ahead with i\n",
            "opinion: 'positive review'\n",
            "\n",
            "review 5: As others have mentioned, all the women that go nude in this film are mostly absolutely gorgeous. Th\n",
            "opinion: 'positive review'\n",
            "\n",
            "review 6: This is a film which should be seen by anybody interested in, effected by, or suffering from an eati\n",
            "opinion: 'positive review'\n"
          ],
          "name": "stdout"
        }
      ]
    },
    {
      "cell_type": "markdown",
      "metadata": {
        "id": "cixf9xqw6AMC",
        "colab_type": "text"
      },
      "source": [
        "We skip the first review because we've already seen it."
      ]
    },
    {
      "cell_type": "markdown",
      "metadata": {
        "id": "Iv71FW-X4Pl-",
        "colab_type": "text"
      },
      "source": [
        "Display vocabulary size:"
      ]
    },
    {
      "cell_type": "code",
      "metadata": {
        "id": "UjBDK_JY02QD",
        "colab_type": "code",
        "colab": {
          "base_uri": "https://localhost:8080/",
          "height": 34
        },
        "outputId": "66d79c76-2d7d-4a58-e52c-10c4bdd8fb6b"
      },
      "source": [
        "print('Vocabulary size: {}'.format(encoder.vocab_size))"
      ],
      "execution_count": null,
      "outputs": [
        {
          "output_type": "stream",
          "text": [
            "Vocabulary size: 8185\n"
          ],
          "name": "stdout"
        }
      ]
    },
    {
      "cell_type": "markdown",
      "metadata": {
        "id": "6_6OhSZg0H0b",
        "colab_type": "text"
      },
      "source": [
        "## Finish the Input Pipeline\n",
        "\n",
        "Create batches of the encoded strings (or reviews) to greatly enhance performance. Since machine learning algorithms expect batches of the same size, use the **padded_batch** method to zero-pad the sequences so that each review is the same length as the longest string in the batch."
      ]
    },
    {
      "cell_type": "markdown",
      "metadata": {
        "id": "sKvuGt88yO79",
        "colab_type": "text"
      },
      "source": [
        "Initialize variables:"
      ]
    },
    {
      "cell_type": "code",
      "metadata": {
        "id": "6rM2eo-SyK9J",
        "colab_type": "code",
        "colab": {}
      },
      "source": [
        "# initialize variables\n",
        "\n",
        "BUFFER_SIZE = 10000\n",
        "BATCH_SIZE = 64"
      ],
      "execution_count": null,
      "outputs": []
    },
    {
      "cell_type": "markdown",
      "metadata": {
        "id": "pNPpr7dr0Hrn",
        "colab_type": "text"
      },
      "source": [
        "Shuffle (where appropriate) and batch train and test sets:"
      ]
    },
    {
      "cell_type": "code",
      "metadata": {
        "id": "OcAdunJIXI3T",
        "colab_type": "code",
        "colab": {}
      },
      "source": [
        "train_ds = (train\n",
        "            .shuffle(BUFFER_SIZE)\n",
        "            .padded_batch(BATCH_SIZE)\n",
        "            .cache().prefetch(1))\n",
        "\n",
        "test_ds = (test\n",
        "           .padded_batch(BATCH_SIZE)\n",
        "           .cache().prefetch(1))"
      ],
      "execution_count": null,
      "outputs": []
    },
    {
      "cell_type": "markdown",
      "metadata": {
        "id": "uNvJGVXCySVh",
        "colab_type": "text"
      },
      "source": [
        "Consult the following URL for updates on padding character tensors:\n",
        "\n",
        "https://www.tensorflow.org/tutorials/text/text_classification_rnn"
      ]
    },
    {
      "cell_type": "markdown",
      "metadata": {
        "id": "axwMltIZytax",
        "colab_type": "text"
      },
      "source": [
        "## Create the Model"
      ]
    },
    {
      "cell_type": "code",
      "metadata": {
        "id": "1LKDbNiJySgC",
        "colab_type": "code",
        "colab": {}
      },
      "source": [
        "import numpy as np\n",
        "\n",
        "# plant random seed for reproducibility\n",
        "tf.random.set_seed(0)\n",
        "np.random.seed(0)\n",
        "\n",
        "# import libraries\n",
        "from tensorflow.keras.models import Sequential\n",
        "from tensorflow.keras.layers import GRU, Dense,\\\n",
        "Embedding\n",
        "\n",
        "# clear any previous models\n",
        "tf.keras.backend.clear_session()\n",
        "\n",
        "# build the model\n",
        "embed_size = 128\n",
        "model = Sequential([\n",
        "  Embedding(encoder.vocab_size, embed_size, mask_zero=True,\n",
        "            input_shape=[None]),\n",
        "  GRU(128, return_sequences=True),\n",
        "  GRU(128),\n",
        "  Dense(1, activation=\"sigmoid\")\n",
        "])"
      ],
      "execution_count": null,
      "outputs": []
    },
    {
      "cell_type": "markdown",
      "metadata": {
        "id": "3ZPtxjsOy4P0",
        "colab_type": "text"
      },
      "source": [
        "The first layer is an *Embedding* layer. The **Embedding** layer is used to create word vectors for incoming words. During training, representations of word categories (or word vectors) are learned in a way where similar categories are closer to one another. So, word vectors can store relationships between words like *good* and *great*. Word vectors are dense because our model learns word relationships. As a result, word vectors aren't padded with a huge number of zeros like what we do with one-hot encodings.\n",
        "\n",
        "The Embedding layer accepts the vocabulary size, embedding size, and input shape. We set **mask_zero=True** to inform the model to ignore padding tokens by all downstream layers. Ignoring padding tokens improves performance.\n",
        "\n",
        "The next two layers are GRU layers and the final layer is a single neuron output layer. The output layer uses sigmoid activation to output the estimated probability that the review expresses a positive or negative sentiment regarding the movie."
      ]
    },
    {
      "cell_type": "markdown",
      "metadata": {
        "id": "-Rs-Q6yGxo5r",
        "colab_type": "text"
      },
      "source": [
        "## Model Summary"
      ]
    },
    {
      "cell_type": "code",
      "metadata": {
        "id": "Rq1hdaF3xpAb",
        "colab_type": "code",
        "colab": {
          "base_uri": "https://localhost:8080/",
          "height": 289
        },
        "outputId": "d35fdd24-e4b9-470c-d761-3240dbe4dd4e"
      },
      "source": [
        "model.summary()"
      ],
      "execution_count": null,
      "outputs": [
        {
          "output_type": "stream",
          "text": [
            "Model: \"sequential\"\n",
            "_________________________________________________________________\n",
            "Layer (type)                 Output Shape              Param #   \n",
            "=================================================================\n",
            "embedding (Embedding)        (None, None, 128)         1047680   \n",
            "_________________________________________________________________\n",
            "gru (GRU)                    (None, None, 128)         99072     \n",
            "_________________________________________________________________\n",
            "gru_1 (GRU)                  (None, 128)               99072     \n",
            "_________________________________________________________________\n",
            "dense (Dense)                (None, 1)                 129       \n",
            "=================================================================\n",
            "Total params: 1,245,953\n",
            "Trainable params: 1,245,953\n",
            "Non-trainable params: 0\n",
            "_________________________________________________________________\n"
          ],
          "name": "stdout"
        }
      ]
    },
    {
      "cell_type": "markdown",
      "metadata": {
        "id": "RBdes-vy0Buv",
        "colab_type": "text"
      },
      "source": [
        "## Compile the Model"
      ]
    },
    {
      "cell_type": "code",
      "metadata": {
        "id": "TXTXK5Me0B0V",
        "colab_type": "code",
        "colab": {}
      },
      "source": [
        "model.compile(loss='binary_crossentropy', optimizer='adam',\n",
        "              metrics=['accuracy'])"
      ],
      "execution_count": null,
      "outputs": []
    },
    {
      "cell_type": "markdown",
      "metadata": {
        "id": "-hVVbXG20B61",
        "colab_type": "text"
      },
      "source": [
        "## Train the Model\n",
        "\n",
        "From multiple experiments, we found that 2 epochs provide good accuracy without tuning. As we increased the number of epochs, we noticed overfitting. Of course, you can experiment to your heart's content. As a caveat, training text models requires a lot of training time!"
      ]
    },
    {
      "cell_type": "code",
      "metadata": {
        "id": "gHnNemIb0B_Y",
        "colab_type": "code",
        "colab": {
          "base_uri": "https://localhost:8080/",
          "height": 85
        },
        "outputId": "5ae266a5-1740-44e4-b4f0-77573fabf91f"
      },
      "source": [
        "# to suppress unuseful error messages\n",
        "\n",
        "tf.compat.v1.logging.set_verbosity(tf.compat.v1.logging.ERROR)\n",
        "\n",
        "history = model.fit(train_ds, epochs=2,\n",
        "                    validation_data=test_ds)"
      ],
      "execution_count": null,
      "outputs": [
        {
          "output_type": "stream",
          "text": [
            "Epoch 1/2\n",
            "391/391 [==============================] - 72s 185ms/step - loss: 0.5722 - accuracy: 0.6950 - val_loss: 0.5885 - val_accuracy: 0.7079\n",
            "Epoch 2/2\n",
            "391/391 [==============================] - 69s 176ms/step - loss: 0.3082 - accuracy: 0.8694 - val_loss: 0.3192 - val_accuracy: 0.8636\n"
          ],
          "name": "stdout"
        }
      ]
    },
    {
      "cell_type": "markdown",
      "metadata": {
        "id": "ULnM3f1I0CGA",
        "colab_type": "text"
      },
      "source": [
        "## Generalize on Test Data\n",
        "\n",
        "Although model fit information provides validation loss and accuracy values during training, it is always a good idea to explictly evaluate the model on test data because accuracy and loss values can differ."
      ]
    },
    {
      "cell_type": "code",
      "metadata": {
        "id": "EUWuBjL50CMA",
        "colab_type": "code",
        "colab": {
          "base_uri": "https://localhost:8080/",
          "height": 34
        },
        "outputId": "95dab46a-2942-4f79-9d73-20a850ccf8d4"
      },
      "source": [
        "test_loss, test_acc = model.evaluate(test_ds)"
      ],
      "execution_count": null,
      "outputs": [
        {
          "output_type": "stream",
          "text": [
            "391/391 [==============================] - 21s 54ms/step - loss: 0.3192 - accuracy: 0.8636\n"
          ],
          "name": "stdout"
        }
      ]
    },
    {
      "cell_type": "markdown",
      "metadata": {
        "id": "S6ICurBY0CRj",
        "colab_type": "text"
      },
      "source": [
        "## Visualize\n",
        "\n",
        "Visualize training performance:"
      ]
    },
    {
      "cell_type": "code",
      "metadata": {
        "id": "xxiTBB8c0CWh",
        "colab_type": "code",
        "colab": {
          "base_uri": "https://localhost:8080/",
          "height": 1000
        },
        "outputId": "9dc3930f-24de-4219-9c3c-e9485787c0f9"
      },
      "source": [
        "import matplotlib.pyplot as plt\n",
        "\n",
        "# history.history contains the training record\n",
        "\n",
        "history_dict = history.history\n",
        "\n",
        "acc = history_dict['accuracy']\n",
        "val_acc = history_dict['val_accuracy']\n",
        "loss = history_dict['loss']\n",
        "val_loss = history_dict['val_loss']\n",
        "\n",
        "epochs = range(1, len(acc) + 1)\n",
        "\n",
        "plt.figure(figsize=(12,9))\n",
        "plt.plot(epochs, acc, 'bo', label='Training acc')\n",
        "plt.plot(epochs, val_acc, 'b', label='Validation acc')\n",
        "plt.title('Training and validation accuracy')\n",
        "plt.xlabel('Epochs')\n",
        "plt.ylabel('Accuracy')\n",
        "plt.legend(loc='lower right')\n",
        "plt.ylim((0.5,1))\n",
        "plt.show()\n",
        "\n",
        "# clear previous figure\n",
        "\n",
        "plt.clf()\n",
        "\n",
        "plt.figure(figsize=(12,9))\n",
        "plt.plot(epochs, loss, 'bo', label='Training loss')\n",
        "plt.plot(epochs, val_loss, 'b', label='Validation loss')\n",
        "plt.title('Training and validation loss')\n",
        "plt.xlabel('Epochs')\n",
        "plt.ylabel('Loss')\n",
        "plt.legend()\n",
        "plt.show()"
      ],
      "execution_count": null,
      "outputs": [
        {
          "output_type": "display_data",
          "data": {
            "image/png": "[encoded data removed]",
            "text/plain": [
              "<Figure size 864x648 with 1 Axes>"
            ]
          },
          "metadata": {
            "tags": [],
            "needs_background": "light"
          }
        },
        {
          "output_type": "display_data",
          "data": {
            "text/plain": [
              "<Figure size 432x288 with 0 Axes>"
            ]
          },
          "metadata": {
            "tags": []
          }
        },
        {
          "output_type": "display_data",
          "data": {
            "image/png": "[encoded data removed]",
            "text/plain": [
              "<Figure size 864x648 with 1 Axes>"
            ]
          },
          "metadata": {
            "tags": [],
            "needs_background": "light"
          }
        }
      ]
    },
    {
      "cell_type": "markdown",
      "metadata": {
        "id": "MadBtoO6y4dz",
        "colab_type": "text"
      },
      "source": [
        "## Make Predictions from Fabricated Reviews\n",
        "\n",
        "Let's make predictions from reviews that we fabricate. Begin by creating a function that returns the predictions. Since we create our own reviews, the function must convert the text review for TensorFlow consumption."
      ]
    },
    {
      "cell_type": "code",
      "metadata": {
        "id": "-QGV1N-9y4je",
        "colab_type": "code",
        "colab": {}
      },
      "source": [
        "def predict_review(text):\n",
        "  encoded_text = encoder.encode(text)\n",
        "  encoded_text = tf.cast(encoded_text, tf.float32)\n",
        "  prediction = model.predict(tf.expand_dims(encoded_text, 0))\n",
        "  return prediction"
      ],
      "execution_count": null,
      "outputs": []
    },
    {
      "cell_type": "markdown",
      "metadata": {
        "id": "Uzy0JyFq2FG5",
        "colab_type": "text"
      },
      "source": [
        "The function accepts a text review. It begins by encoding the review. Next, it converts the encoded review to float32. The function then makes the prediction. We add the '1' dimension to the encoded text so it can be consumed by the model."
      ]
    },
    {
      "cell_type": "markdown",
      "metadata": {
        "id": "wZzQWekmy4oQ",
        "colab_type": "text"
      },
      "source": [
        "Test the function with a fabricated review:"
      ]
    },
    {
      "cell_type": "code",
      "metadata": {
        "id": "4O1Fb9vVy4uS",
        "colab_type": "code",
        "colab": {
          "base_uri": "https://localhost:8080/",
          "height": 34
        },
        "outputId": "56a3e6e4-51bd-4506-a80d-aecd1cadb960"
      },
      "source": [
        "review = ('Just loved it. My kids thought the movie was cool. '\n",
        "         'Even my wife liked it.')\n",
        "\n",
        "pred = predict_review(review)\n",
        "pred, pred.shape"
      ],
      "execution_count": null,
      "outputs": [
        {
          "output_type": "execute_result",
          "data": {
            "text/plain": [
              "(array([[0.96746963]], dtype=float32), (1, 1))"
            ]
          },
          "metadata": {
            "tags": []
          },
          "execution_count": 31
        }
      ]
    },
    {
      "cell_type": "markdown",
      "metadata": {
        "id": "xukZXAeZ2obZ",
        "colab_type": "text"
      },
      "source": [
        "We have a prediction. Predictions greater than 0.5 mean that the review is positive. Otherwise, the review is negative."
      ]
    },
    {
      "cell_type": "markdown",
      "metadata": {
        "id": "sAGN3yXFy4zg",
        "colab_type": "text"
      },
      "source": [
        " Make the prediction more palatable by creating another function:"
      ]
    },
    {
      "cell_type": "code",
      "metadata": {
        "id": "lCIqDlIV2vHQ",
        "colab_type": "code",
        "colab": {}
      },
      "source": [
        "def palatable(pred):\n",
        "  score = tf.squeeze(pred, 0).numpy()\n",
        "  return score[0]"
      ],
      "execution_count": null,
      "outputs": []
    },
    {
      "cell_type": "markdown",
      "metadata": {
        "id": "i0cusIQE3f7l",
        "colab_type": "text"
      },
      "source": [
        "Invoke the function:"
      ]
    },
    {
      "cell_type": "code",
      "metadata": {
        "id": "coJXru9p3gD9",
        "colab_type": "code",
        "colab": {
          "base_uri": "https://localhost:8080/",
          "height": 34
        },
        "outputId": "7ac588e2-3cb5-42f8-a87f-75322ef591c6"
      },
      "source": [
        "score = palatable(pred)\n",
        "score, score.shape"
      ],
      "execution_count": null,
      "outputs": [
        {
          "output_type": "execute_result",
          "data": {
            "text/plain": [
              "(0.96746963, ())"
            ]
          },
          "metadata": {
            "tags": []
          },
          "execution_count": 33
        }
      ]
    },
    {
      "cell_type": "markdown",
      "metadata": {
        "id": "hNJeqtaA28xq",
        "colab_type": "text"
      },
      "source": [
        "The function removes the *1* dimension from the prediction. Notice that the new shape is a scalar."
      ]
    },
    {
      "cell_type": "markdown",
      "metadata": {
        "id": "S1-1OZaG3B6d",
        "colab_type": "text"
      },
      "source": [
        "Let's go function crazy by creating one that returns whether the review is positive or negative."
      ]
    },
    {
      "cell_type": "code",
      "metadata": {
        "id": "L7q7AnCN3CCQ",
        "colab_type": "code",
        "colab": {}
      },
      "source": [
        "def impression(score):\n",
        "  if score >= 0.5:\n",
        "    return 'positive impression'\n",
        "  else:\n",
        "    return 'negative impression'"
      ],
      "execution_count": null,
      "outputs": []
    },
    {
      "cell_type": "markdown",
      "metadata": {
        "id": "oAyyfbkE3QMs",
        "colab_type": "text"
      },
      "source": [
        "Invoke the function:"
      ]
    },
    {
      "cell_type": "code",
      "metadata": {
        "id": "FmZkeFP73QSW",
        "colab_type": "code",
        "colab": {
          "base_uri": "https://localhost:8080/",
          "height": 35
        },
        "outputId": "7e1e814b-d1fd-4070-d800-4ed1fd3831a7"
      },
      "source": [
        "impression(score)"
      ],
      "execution_count": null,
      "outputs": [
        {
          "output_type": "execute_result",
          "data": {
            "application/vnd.google.colaboratory.intrinsic+json": {
              "type": "string"
            },
            "text/plain": [
              "'positive impression'"
            ]
          },
          "metadata": {
            "tags": []
          },
          "execution_count": 35
        }
      ]
    },
    {
      "cell_type": "markdown",
      "metadata": {
        "id": "zqlXl0RH3QZE",
        "colab_type": "text"
      },
      "source": [
        "As expected, the review is positive."
      ]
    },
    {
      "cell_type": "markdown",
      "metadata": {
        "id": "d-25exeW3v0_",
        "colab_type": "text"
      },
      "source": [
        "Let's try another one:"
      ]
    },
    {
      "cell_type": "code",
      "metadata": {
        "id": "wuFcPA3f3QeU",
        "colab_type": "code",
        "colab": {
          "base_uri": "https://localhost:8080/",
          "height": 34
        },
        "outputId": "8ec81acd-9f6d-4437-df93-9ed037c0bd02"
      },
      "source": [
        "review = ('The movie absolutely sucked. '\n",
        "          'No character development. '\n",
        "          'Dialogue just blows.')\n",
        "\n",
        "pred = predict_review(review)\n",
        "score = palatable(pred)\n",
        "print (impression(score))"
      ],
      "execution_count": null,
      "outputs": [
        {
          "output_type": "stream",
          "text": [
            "negative impression\n"
          ],
          "name": "stdout"
        }
      ]
    },
    {
      "cell_type": "markdown",
      "metadata": {
        "id": "rE2X9O6m30IK",
        "colab_type": "text"
      },
      "source": [
        "As expected, the review is negative."
      ]
    },
    {
      "cell_type": "markdown",
      "metadata": {
        "id": "__IcSv193QnJ",
        "colab_type": "text"
      },
      "source": [
        "## Make Predictions on a Test Data Batch\n",
        "\n",
        "We can also predict from the test set. Let's make predictions on the first test batch with the *predict* method. Since test data is already in tensor form, we don't need to encode."
      ]
    },
    {
      "cell_type": "code",
      "metadata": {
        "id": "SVUtmqtw3Quu",
        "colab_type": "code",
        "colab": {
          "base_uri": "https://localhost:8080/",
          "height": 85
        },
        "outputId": "64511991-df98-4966-f6ad-0bdebc7b9e13"
      },
      "source": [
        "# get predictions from 1st test batch\n",
        "for sample, target in test_ds.take(1):\n",
        "  y_pred_64 = model.predict(sample)\n",
        "\n",
        "# display first review from this batch\n",
        "print ('review:', end=' ')\n",
        "print (encoder.decode(sample[0])[177:307])\n",
        "\n",
        "# display first label from this batch\n",
        "print ('label:', end=' ')\n",
        "print (target[0].numpy(), br)\n",
        "\n",
        "# display number of examples in the batch\n",
        "print ('samples and target in first batch:', end=' ')\n",
        "len(sample), len(target)"
      ],
      "execution_count": null,
      "outputs": [
        {
          "output_type": "stream",
          "text": [
            "review: absolutely amazing DING-A-LING-LESS. Flawless film-making, and as assured and as professional as any of the aforementioned movies.\n",
            "label: 1 \n",
            "\n",
            "samples and target in first batch: "
          ],
          "name": "stdout"
        },
        {
          "output_type": "execute_result",
          "data": {
            "text/plain": [
              "(64, 64)"
            ]
          },
          "metadata": {
            "tags": []
          },
          "execution_count": 37
        }
      ]
    },
    {
      "cell_type": "markdown",
      "metadata": {
        "id": "1hhn41_f3CI2",
        "colab_type": "text"
      },
      "source": [
        "Variable **y_pred_64** holds 64 predictions because we take the first batch of 64 from the TensorFlow consumable **test_ds**. We then display the first review and its associated label from this batch. Remember that label *1* means the review was positive and label *0* means it was negative. We end by displaying the size of the sample and target to verify that we have 64 examples in our first batch."
      ]
    },
    {
      "cell_type": "markdown",
      "metadata": {
        "id": "qEjiypQT4hxr",
        "colab_type": "text"
      },
      "source": [
        "Get the first prediction:"
      ]
    },
    {
      "cell_type": "code",
      "metadata": {
        "id": "7gva6ywA4gbP",
        "colab_type": "code",
        "colab": {
          "base_uri": "https://localhost:8080/",
          "height": 34
        },
        "outputId": "37d05c71-5be7-4fb2-fa52-5d0e199a2da3"
      },
      "source": [
        "print (y_pred_64[0])"
      ],
      "execution_count": null,
      "outputs": [
        {
          "output_type": "stream",
          "text": [
            "[0.8641619]\n"
          ],
          "name": "stdout"
        }
      ]
    },
    {
      "cell_type": "markdown",
      "metadata": {
        "id": "NJzW8_P14ghW",
        "colab_type": "text"
      },
      "source": [
        "Make it palatable:"
      ]
    },
    {
      "cell_type": "code",
      "metadata": {
        "id": "CmdtSf3u4goV",
        "colab_type": "code",
        "colab": {
          "base_uri": "https://localhost:8080/",
          "height": 35
        },
        "outputId": "2c428023-95db-46a6-f2a6-c3ab8ca0b280"
      },
      "source": [
        "impression(y_pred_64[0])"
      ],
      "execution_count": null,
      "outputs": [
        {
          "output_type": "execute_result",
          "data": {
            "application/vnd.google.colaboratory.intrinsic+json": {
              "type": "string"
            },
            "text/plain": [
              "'positive impression'"
            ]
          },
          "metadata": {
            "tags": []
          },
          "execution_count": 39
        }
      ]
    },
    {
      "cell_type": "markdown",
      "metadata": {
        "id": "wEhV3_vH4g76",
        "colab_type": "text"
      },
      "source": [
        "Compare prediction to actual label:"
      ]
    },
    {
      "cell_type": "code",
      "metadata": {
        "id": "0ByJiV4i4g1r",
        "colab_type": "code",
        "colab": {
          "base_uri": "https://localhost:8080/",
          "height": 34
        },
        "outputId": "6d21b25a-fd60-4c04-c292-587b767bcfd1"
      },
      "source": [
        "impression(y_pred_64[0]), target[0].numpy()"
      ],
      "execution_count": null,
      "outputs": [
        {
          "output_type": "execute_result",
          "data": {
            "text/plain": [
              "('positive impression', 1)"
            ]
          },
          "metadata": {
            "tags": []
          },
          "execution_count": 40
        }
      ]
    },
    {
      "cell_type": "markdown",
      "metadata": {
        "id": "4DKDP9s_58Rz",
        "colab_type": "text"
      },
      "source": [
        "If the prediction matches the actual label, it was correct. Remember that an actual label of *1* is positive and an actual label of *0* is negative."
      ]
    },
    {
      "cell_type": "markdown",
      "metadata": {
        "id": "-DTIianH6NhU",
        "colab_type": "text"
      },
      "source": [
        "## Prediction Accuracy for the First Batch\n",
        "\n",
        "Create a function to convert an impression back to a label of either 1 or 0:"
      ]
    },
    {
      "cell_type": "code",
      "metadata": {
        "id": "Fw4MGtuu6Np4",
        "colab_type": "code",
        "colab": {}
      },
      "source": [
        "def convert_label(feeling):\n",
        "  if feeling == 'positive impression':\n",
        "    return 1\n",
        "  else: return 0"
      ],
      "execution_count": null,
      "outputs": []
    },
    {
      "cell_type": "markdown",
      "metadata": {
        "id": "ZiOhicAY61NJ",
        "colab_type": "text"
      },
      "source": [
        "Return prediction accuracy for the entire first batch:"
      ]
    },
    {
      "cell_type": "code",
      "metadata": {
        "id": "tcd8-qfe63bG",
        "colab_type": "code",
        "colab": {
          "base_uri": "https://localhost:8080/",
          "height": 34
        },
        "outputId": "5d0e21b1-ff94-488f-8206-5f55aa233ae9"
      },
      "source": [
        "ls = []\n",
        "n = len(target)\n",
        "for i, _ in enumerate(range(n)):\n",
        "  t = target[i].numpy() # labels\n",
        "  p = convert_label(impression(y_pred_64[i])) # predictions\n",
        "  if t == p: ls.append(True)\n",
        "correct = ls.count(True)\n",
        "acc = correct / n\n",
        "batch_accuracy = str(int(np.round(acc, 2) * 100)) + '%'\n",
        "print ('accuracy for the first batch:', batch_accuracy)"
      ],
      "execution_count": null,
      "outputs": [
        {
          "output_type": "stream",
          "text": [
            "accuracy for the first batch: 83%\n"
          ],
          "name": "stdout"
        }
      ]
    },
    {
      "cell_type": "markdown",
      "metadata": {
        "id": "R1CrZFMh6NxP",
        "colab_type": "text"
      },
      "source": [
        "We begin by traversing the first batch and comparing labels to predictions. If a prediction is correct, we add this information to a list. We continue by counting the number of correct predictions. We end by dividing correct predictions by the batch size to get overall prediction accuracy."
      ]
    },
    {
      "cell_type": "markdown",
      "metadata": {
        "id": "YPe-t7d07g55",
        "colab_type": "text"
      },
      "source": [
        "# Leverage Pretrained Embeddings\n",
        "\n",
        "Amazingly, we can reuse modules from pretrained models on the IMDb dataset. The TensorFlow Hub project is a library with hundreds of reusable machine learning modules. A **module** is a self-contained piece of a TensorFlow graph, along with its weights and assets, that can be reused across different tasks in a process known as transfer learning. **Transfer learning** is a machine learning method where a model developed for a task is reused as the starting point for a model on a different task.\n",
        "\n",
        "You can browse the library by perusing the following URL:\n",
        "\n",
        "http://tfhub.dev\n",
        "\n",
        "Once you locate a module, copy the URL into your model. The module is automatically dowloaded along with its pretrained weights. A huge advantage of using pretrained models is that we don't have to create and train our own models from scratch!"
      ]
    },
    {
      "cell_type": "markdown",
      "metadata": {
        "id": "UQnOUrmS7xl1",
        "colab_type": "text"
      },
      "source": [
        "## Load IMDb Data\n",
        "\n",
        "Since we are using a pretrained model, we can load the *entire* IMDb data:"
      ]
    },
    {
      "cell_type": "code",
      "metadata": {
        "id": "z6WwQacU6N24",
        "colab_type": "code",
        "colab": {
          "base_uri": "https://localhost:8080/",
          "height": 330,
          "referenced_widgets": [
            "44a12c009df744acb80359ada2068d6d",
            "c0b3825a747442df861d040b81ded4ad",
            "958874ec1cb7439ba2491c9abf54d258",
            "828d3cc14d4940b992c3560dcdb26c41",
            "2cab9d9ab501422dbc1ed764e93c7979",
            "afd93a49e0504524b8574760eff83fa6",
            "f30c93a95cdb4f7e97f1bf7fa2979c13",
            "7e99b14a3edf4bf9aea51686f8230504",
            "29cd991eb6da445d99729cde6691705b",
            "a21438fbca7c4170996a25e8ff753249",
            "99fdb2acc78d43648b44bdc9cb12a47c",
            "4df192dd356846b9bbf87df4a3f2021c",
            "01f68c2ac7984d2caf614e9d682757a5",
            "ea56e5fdc84048abb8a76e1a0c04e6e0",
            "5f29ef8bd0c24e7f9d93de7166264652",
            "a95ff94ac23b45e6ae24917778d2c13f",
            "d5702b3f962f4948a29205a93946c2a2",
            "73a33515e74a4632823cc5b9b951fafd",
            "92d9d612310e426ab493aecf05de74dd",
            "aefa938a2e804a3cad89deb5c8e9e780",
            "eaeea242aa8e4028810025100d183d12",
            "fd80f6c5bfbc4e94aeecf3388c4e28c9",
            "bb49106d84b4409d87dd84ad49db1fa3",
            "aec81f2c599d41aba42031d3df65e7c6",
            "ab010f964fc54f44997ba2f3e27e0e8d",
            "06bb24e8fc9743ab8369bad2e044f6c4",
            "4e48ea333ba5418db9d7fe5c6ac4bb88",
            "32277ebb0fe84977bda97840c38e4609",
            "9a46cc21e70f47ce8c29f913fbc7f29b",
            "75a7366791804491853c75791003d007",
            "f15690da2bfd405dac81097ba6569604",
            "ab2960d36f614a3a8802cc1739e5d863",
            "7e34fde5f2b245be9fec33bd16d29455",
            "bcb0997107fc49c7b47a5e7fa7d0f677",
            "7c1fd01d9f794a1fb9f7248da488a43a",
            "0ea7302c7151462d8d6215d5ccc1d30c",
            "cbc0b0c03cfa4c948b8b1d219aa7c11f",
            "48c6496c55a4410e9c493fcb8a9d9e1d",
            "8d62819371cd4229a456da6528e0bd82",
            "79e8823f91b94e47a8089a23d813c7d1",
            "a5f33c54693e4dc99be7502e7b9d9eae",
            "f170d8eb0fa84d2792b8c5e55e20b57f",
            "b5f7120edf5649d8ad3ba92aa73c16bb",
            "838d4a8d919f4574becc19a2f0598554",
            "bd073d1723b748dbbac890f8499039d4",
            "3b12f5e455ea4602adc384159ba08658",
            "abbe99b63bf04cf9abef1d83f35bb131",
            "b01d6886fbd445a9b24caa509ced9ce6",
            "8b558c78b3d54ddcbd12bc21f621498e",
            "183b8920ea444100b434788b93617b8e",
            "b3f8fea76abf40b3bed9a61fcc4a613e",
            "20a2eee526e6460aa9d2ac9370d78a36",
            "125409bd2a684181983a819e65eeeec0",
            "9def5949762a45a3bea9dbeae700a45a",
            "3269c682f67848989a2302b589cd06c8",
            "ba1de671735c4421b129f034b4482126",
            "4b7f6b6430334e25858b0b4c83fefbd2",
            "ce11db09c48d428f898b1f6042a2cc97",
            "f8af74010ccb4eaf9798f06dc8c6ac88",
            "32566efddd044d6d8699d4385f31c7ec",
            "6ec556a0a2a74cc5a01ca4ab3a40bd51",
            "934c926ee1aa4675adb0f5a80ac926aa",
            "5d7e38c23a9242c3be3abe61765530cc",
            "e872de102a6e4928a5de791fcdc7f824"
          ]
        },
        "outputId": "797a415f-5426-49ca-f259-c83ad545fc81"
      },
      "source": [
        "data, info = tfds.load('imdb_reviews', as_supervised=True,\n",
        "                       with_info=True, shuffle_files=True)"
      ],
      "execution_count": null,
      "outputs": [
        {
          "output_type": "stream",
          "text": [
            "\u001b[1mDownloading and preparing dataset imdb_reviews/plain_text/1.0.0 (download: 80.23 MiB, generated: Unknown size, total: 80.23 MiB) to /root/tensorflow_datasets/imdb_reviews/plain_text/1.0.0...\u001b[0m\n"
          ],
          "name": "stdout"
        },
        {
          "output_type": "display_data",
          "data": {
            "application/vnd.jupyter.widget-view+json": {
              "model_id": "44a12c009df744acb80359ada2068d6d",
              "version_minor": 0,
              "version_major": 2
            },
            "text/plain": [
              "HBox(children=(FloatProgress(value=1.0, bar_style='info', description='Dl Completed...', max=1.0, style=Progre…"
            ]
          },
          "metadata": {
            "tags": []
          }
        },
        {
          "output_type": "display_data",
          "data": {
            "application/vnd.jupyter.widget-view+json": {
              "model_id": "29cd991eb6da445d99729cde6691705b",
              "version_minor": 0,
              "version_major": 2
            },
            "text/plain": [
              "HBox(children=(FloatProgress(value=1.0, bar_style='info', description='Dl Size...', max=1.0, style=ProgressSty…"
            ]
          },
          "metadata": {
            "tags": []
          }
        },
        {
          "output_type": "stream",
          "text": [
            "\n",
            "\n",
            "\n",
            "\n"
          ],
          "name": "stdout"
        },
        {
          "output_type": "display_data",
          "data": {
            "application/vnd.jupyter.widget-view+json": {
              "model_id": "d5702b3f962f4948a29205a93946c2a2",
              "version_minor": 0,
              "version_major": 2
            },
            "text/plain": [
              "HBox(children=(FloatProgress(value=1.0, bar_style='info', max=1.0), HTML(value='')))"
            ]
          },
          "metadata": {
            "tags": []
          }
        },
        {
          "output_type": "stream",
          "text": [
            "\rShuffling and writing examples to /root/tensorflow_datasets/imdb_reviews/plain_text/1.0.0.incomplete1E7TDM/imdb_reviews-train.tfrecord\n"
          ],
          "name": "stdout"
        },
        {
          "output_type": "display_data",
          "data": {
            "application/vnd.jupyter.widget-view+json": {
              "model_id": "ab010f964fc54f44997ba2f3e27e0e8d",
              "version_minor": 0,
              "version_major": 2
            },
            "text/plain": [
              "HBox(children=(FloatProgress(value=0.0, max=25000.0), HTML(value='')))"
            ]
          },
          "metadata": {
            "tags": []
          }
        },
        {
          "output_type": "stream",
          "text": [
            "\r"
          ],
          "name": "stdout"
        },
        {
          "output_type": "display_data",
          "data": {
            "application/vnd.jupyter.widget-view+json": {
              "model_id": "7e34fde5f2b245be9fec33bd16d29455",
              "version_minor": 0,
              "version_major": 2
            },
            "text/plain": [
              "HBox(children=(FloatProgress(value=1.0, bar_style='info', max=1.0), HTML(value='')))"
            ]
          },
          "metadata": {
            "tags": []
          }
        },
        {
          "output_type": "stream",
          "text": [
            "\rShuffling and writing examples to /root/tensorflow_datasets/imdb_reviews/plain_text/1.0.0.incomplete1E7TDM/imdb_reviews-test.tfrecord\n"
          ],
          "name": "stdout"
        },
        {
          "output_type": "display_data",
          "data": {
            "application/vnd.jupyter.widget-view+json": {
              "model_id": "a5f33c54693e4dc99be7502e7b9d9eae",
              "version_minor": 0,
              "version_major": 2
            },
            "text/plain": [
              "HBox(children=(FloatProgress(value=0.0, max=25000.0), HTML(value='')))"
            ]
          },
          "metadata": {
            "tags": []
          }
        },
        {
          "output_type": "stream",
          "text": [
            "\r"
          ],
          "name": "stdout"
        },
        {
          "output_type": "display_data",
          "data": {
            "application/vnd.jupyter.widget-view+json": {
              "model_id": "8b558c78b3d54ddcbd12bc21f621498e",
              "version_minor": 0,
              "version_major": 2
            },
            "text/plain": [
              "HBox(children=(FloatProgress(value=1.0, bar_style='info', max=1.0), HTML(value='')))"
            ]
          },
          "metadata": {
            "tags": []
          }
        },
        {
          "output_type": "stream",
          "text": [
            "\rShuffling and writing examples to /root/tensorflow_datasets/imdb_reviews/plain_text/1.0.0.incomplete1E7TDM/imdb_reviews-unsupervised.tfrecord\n"
          ],
          "name": "stdout"
        },
        {
          "output_type": "display_data",
          "data": {
            "application/vnd.jupyter.widget-view+json": {
              "model_id": "4b7f6b6430334e25858b0b4c83fefbd2",
              "version_minor": 0,
              "version_major": 2
            },
            "text/plain": [
              "HBox(children=(FloatProgress(value=0.0, max=50000.0), HTML(value='')))"
            ]
          },
          "metadata": {
            "tags": []
          }
        },
        {
          "output_type": "stream",
          "text": [
            "\u001b[1mDataset imdb_reviews downloaded and prepared to /root/tensorflow_datasets/imdb_reviews/plain_text/1.0.0. Subsequent calls will reuse this data.\u001b[0m\n",
            "\r"
          ],
          "name": "stdout"
        }
      ]
    },
    {
      "cell_type": "markdown",
      "metadata": {
        "id": "FtaohKw76N9_",
        "colab_type": "text"
      },
      "source": [
        "## Build the Input Pipeline"
      ]
    },
    {
      "cell_type": "markdown",
      "metadata": {
        "id": "rMWjF7lw8Mmq",
        "colab_type": "text"
      },
      "source": [
        "Create train and test sets:"
      ]
    },
    {
      "cell_type": "code",
      "metadata": {
        "id": "6AFrEtH56OEJ",
        "colab_type": "code",
        "colab": {}
      },
      "source": [
        "train, test = data['train'], data['test']"
      ],
      "execution_count": null,
      "outputs": []
    },
    {
      "cell_type": "markdown",
      "metadata": {
        "id": "D2Vtr6Kr8P3x",
        "colab_type": "text"
      },
      "source": [
        "Batch and prefetch:"
      ]
    },
    {
      "cell_type": "code",
      "metadata": {
        "id": "MOSD1Jkp8QBk",
        "colab_type": "code",
        "colab": {}
      },
      "source": [
        "# finalize the input pipeline\n",
        "\n",
        "batch_size = 32\n",
        "train_set = train.repeat().batch(batch_size).prefetch(1)\n",
        "test_set = test.batch(batch_size).prefetch(1)"
      ],
      "execution_count": null,
      "outputs": []
    },
    {
      "cell_type": "markdown",
      "metadata": {
        "id": "PaQ93Q6m8QHS",
        "colab_type": "text"
      },
      "source": [
        "## Create the Pretrained Model\n",
        "\n",
        "Import the TF Hub library and create a skeleton model to house the pretrained module."
      ]
    },
    {
      "cell_type": "code",
      "metadata": {
        "id": "TxJdxFXN8QNJ",
        "colab_type": "code",
        "colab": {}
      },
      "source": [
        "import tensorflow_hub as hub\n",
        "\n",
        "# clear any previous models\n",
        "tf.keras.backend.clear_session()\n",
        "\n",
        "model = tf.keras.Sequential([\n",
        "  hub.KerasLayer(\n",
        "      'https://tfhub.dev/google/tf2-preview/nnlm-en-dim50/1',\n",
        "      dtype=tf.string, input_shape=[], output_shape=[50]),\n",
        "  Dense(128, activation='relu'),\n",
        "  Dense(1, activation='sigmoid')\n",
        "])"
      ],
      "execution_count": null,
      "outputs": []
    },
    {
      "cell_type": "markdown",
      "metadata": {
        "id": "Wx7p7Dt-8QTX",
        "colab_type": "text"
      },
      "source": [
        "The **hub.KerasLayer** downloads the sentence encoder module. Each string input into this layer is automatically encoded as a 50D vector. So, each vector represents 50 words. Each word is embedded based on an embedding matrix pretrained on the 7 billion word Google News corpus. The next two dense layers are added to provide a basic model for sentiment analysis. Using TF Hub is convenient and efficient because we can use what was already learned from the pretrained model."
      ]
    },
    {
      "cell_type": "markdown",
      "metadata": {
        "id": "3LDcKYs59Kq3",
        "colab_type": "text"
      },
      "source": [
        "## Compile"
      ]
    },
    {
      "cell_type": "code",
      "metadata": {
        "id": "pvgs_vuN8Qdd",
        "colab_type": "code",
        "colab": {}
      },
      "source": [
        "model.compile(loss='binary_crossentropy',\n",
        "              optimizer='adam',\n",
        "              metrics=['accuracy'])"
      ],
      "execution_count": null,
      "outputs": []
    },
    {
      "cell_type": "markdown",
      "metadata": {
        "id": "EInEUQen9QGC",
        "colab_type": "text"
      },
      "source": [
        "## Train"
      ]
    },
    {
      "cell_type": "code",
      "metadata": {
        "id": "T2xs823j3COB",
        "colab_type": "code",
        "colab": {
          "base_uri": "https://localhost:8080/",
          "height": 187
        },
        "outputId": "64a39610-1f20-4150-ce8b-1864f43b9e23"
      },
      "source": [
        "history = model.fit(train_set,\n",
        "                    steps_per_epoch=train_size // batch_size,\n",
        "                    epochs=5, validation_data=test_set)"
      ],
      "execution_count": null,
      "outputs": [
        {
          "output_type": "stream",
          "text": [
            "Epoch 1/5\n",
            "781/781 [==============================] - 10s 12ms/step - loss: 0.5437 - accuracy: 0.7290 - val_loss: 0.5269 - val_accuracy: 0.7364\n",
            "Epoch 2/5\n",
            "781/781 [==============================] - 9s 12ms/step - loss: 0.5140 - accuracy: 0.7476 - val_loss: 0.5191 - val_accuracy: 0.7424\n",
            "Epoch 3/5\n",
            "781/781 [==============================] - 9s 12ms/step - loss: 0.5093 - accuracy: 0.7512 - val_loss: 0.5155 - val_accuracy: 0.7445\n",
            "Epoch 4/5\n",
            "781/781 [==============================] - 9s 12ms/step - loss: 0.5056 - accuracy: 0.7524 - val_loss: 0.5131 - val_accuracy: 0.7473\n",
            "Epoch 5/5\n",
            "781/781 [==============================] - 9s 11ms/step - loss: 0.5023 - accuracy: 0.7550 - val_loss: 0.5118 - val_accuracy: 0.7482\n"
          ],
          "name": "stdout"
        }
      ]
    },
    {
      "cell_type": "markdown",
      "metadata": {
        "id": "9y7L-Yvb1Emz",
        "colab_type": "text"
      },
      "source": [
        "As expected, training time is much reduced!"
      ]
    },
    {
      "cell_type": "markdown",
      "metadata": {
        "id": "eJofmh-03CT1",
        "colab_type": "text"
      },
      "source": [
        "## Predict\n",
        "\n",
        "Let's make predictions on the first batch. Since our batch size is 32, we have 32 predictions in each batch."
      ]
    },
    {
      "cell_type": "code",
      "metadata": {
        "id": "h-hQFxc43Cd1",
        "colab_type": "code",
        "colab": {}
      },
      "source": [
        "for sample, target in test_set.take(1):\n",
        "  y_pred_32 = model.predict(sample)"
      ],
      "execution_count": null,
      "outputs": []
    },
    {
      "cell_type": "markdown",
      "metadata": {
        "id": "CaMV0A3Y-Nj-",
        "colab_type": "text"
      },
      "source": [
        "Display misclassifications:"
      ]
    },
    {
      "cell_type": "code",
      "metadata": {
        "id": "8vrLvuJOy45e",
        "colab_type": "code",
        "colab": {
          "base_uri": "https://localhost:8080/",
          "height": 136
        },
        "outputId": "61251a5b-45a1-4989-acdc-53f39d2beaac"
      },
      "source": [
        "for i in range(batch_size):\n",
        "  p = convert_label(impression(y_pred_32[i]))\n",
        "  l = target[i].numpy()\n",
        "  if p != l:\n",
        "    print ('pred:', p, 'actual:', l, 'indx:', i)"
      ],
      "execution_count": null,
      "outputs": [
        {
          "output_type": "stream",
          "text": [
            "pred: 0 actual: 1 indx: 9\n",
            "pred: 1 actual: 0 indx: 13\n",
            "pred: 1 actual: 0 indx: 15\n",
            "pred: 1 actual: 0 indx: 17\n",
            "pred: 0 actual: 1 indx: 21\n",
            "pred: 1 actual: 0 indx: 23\n",
            "pred: 0 actual: 1 indx: 25\n"
          ],
          "name": "stdout"
        }
      ]
    },
    {
      "cell_type": "markdown",
      "metadata": {
        "id": "9HRP9eezAL3p",
        "colab_type": "text"
      },
      "source": [
        "## Prediction Accuracy for First Batch"
      ]
    },
    {
      "cell_type": "code",
      "metadata": {
        "id": "QJk7B6fSAL-l",
        "colab_type": "code",
        "colab": {
          "base_uri": "https://localhost:8080/",
          "height": 34
        },
        "outputId": "714fadaf-ca84-4900-956a-6ed763ddcc25"
      },
      "source": [
        "ls = []\n",
        "n = len(target)\n",
        "for i, _ in enumerate(range(n)):\n",
        "  t = target[i].numpy() # labels\n",
        "  p = convert_label(impression(y_pred_32[i])) # predictions\n",
        "  if t == p: ls.append(True)\n",
        "correct = ls.count(True)\n",
        "acc = correct / n\n",
        "batch_accuracy = str(int(np.round(acc, 2) * 100)) + '%'\n",
        "print ('accuracy for the first batch:', batch_accuracy)"
      ],
      "execution_count": null,
      "outputs": [
        {
          "output_type": "stream",
          "text": [
            "accuracy for the first batch: 78%\n"
          ],
          "name": "stdout"
        }
      ]
    },
    {
      "cell_type": "markdown",
      "metadata": {
        "colab_type": "text",
        "id": "snnMZBzIwwqJ"
      },
      "source": [
        "# Exploring IMDb with Keras \n",
        "\n",
        "Since **Keras** is very popular in industry, we demonstrate how to train IMDb with *keras.datasets*. Use the **keras.datasets.imdb.load_data()** function to load the dataset in a format ready fashion for use in neural network and deep learning models.\n",
        "\n",
        "Loading Keras IMDb has some advantages. First, words have already been encoded with integers. Second, encoded words are arranged by their absolute popularity in the dataset. So, sentences in each review are comprised of a sequence of integers. Third, calling *imdb.load_data* the first time downloads IMDb to your computer and stores it in your home directory under ~/.keras/datasets/imdb.pkl as a 32 megabyte file. The imdb.load_data function also provides additional arguments including number of top words to load (where words with a lower integer are marked as zero in the returned data), number of top words to skip (to avoid words like *the*), and the maximum length of reviews to support."
      ]
    },
    {
      "cell_type": "markdown",
      "metadata": {
        "id": "mJlAYem0CRXT",
        "colab_type": "text"
      },
      "source": [
        "Load IMDb:"
      ]
    },
    {
      "cell_type": "code",
      "metadata": {
        "colab_type": "code",
        "id": "xeLoF7I5PIZv",
        "colab": {}
      },
      "source": [
        "train, test = tf.keras.datasets.imdb.load_data()"
      ],
      "execution_count": null,
      "outputs": []
    },
    {
      "cell_type": "markdown",
      "metadata": {
        "colab_type": "text",
        "id": "3tP4oykwPgKC"
      },
      "source": [
        "This method loads data into train and test tuples. So, **train[0]** contains training reviews and **train[1]** contains training labels. And, **test[0]** contains test reviews and **test[1]** contains test labels. Each review is represented as a numpy array of integers with each integer representing a word. The labels contain lists of integer labels (0 is negative and 1 is positive)."
      ]
    },
    {
      "cell_type": "markdown",
      "metadata": {
        "colab_type": "text",
        "id": "nC-ErC7CpNEP"
      },
      "source": [
        "For readability, we create variables to represent reviews and labels:"
      ]
    },
    {
      "cell_type": "code",
      "metadata": {
        "colab_type": "code",
        "id": "JbYvA63YpfsL",
        "colab": {}
      },
      "source": [
        "train_reviews, train_labels = train[0], train[1]\n",
        "test_reviews, test_labels = test[0], test[1]"
      ],
      "execution_count": null,
      "outputs": []
    },
    {
      "cell_type": "markdown",
      "metadata": {
        "colab_type": "text",
        "id": "_giFzRcfiLWg"
      },
      "source": [
        "Let's see the shape of train and test review samples:"
      ]
    },
    {
      "cell_type": "code",
      "metadata": {
        "colab_type": "code",
        "id": "j4cVDLyAh-A-",
        "colab": {
          "base_uri": "https://localhost:8080/",
          "height": 34
        },
        "outputId": "2ce19be4-bae3-4939-bcf6-c2602e48619d"
      },
      "source": [
        "train_reviews.shape, test_reviews.shape"
      ],
      "execution_count": null,
      "outputs": [
        {
          "output_type": "execute_result",
          "data": {
            "text/plain": [
              "((25000,), (25000,))"
            ]
          },
          "metadata": {
            "tags": []
          },
          "execution_count": 63
        }
      ]
    },
    {
      "cell_type": "markdown",
      "metadata": {
        "colab_type": "text",
        "id": "fSaETl6V6F5e"
      },
      "source": [
        "As expected, we have 25,000 training and 25,000 test reviews."
      ]
    },
    {
      "cell_type": "markdown",
      "metadata": {
        "id": "tVtS12s7Cqka",
        "colab_type": "text"
      },
      "source": [
        " Now, let's see the shape of train and test labels:"
      ]
    },
    {
      "cell_type": "code",
      "metadata": {
        "colab_type": "code",
        "id": "edgC5Erx9o53",
        "colab": {
          "base_uri": "https://localhost:8080/",
          "height": 34
        },
        "outputId": "9d4c5fb1-d53f-4624-bdb2-828391c16b02"
      },
      "source": [
        "train_labels.shape, test_labels.shape"
      ],
      "execution_count": null,
      "outputs": [
        {
          "output_type": "execute_result",
          "data": {
            "text/plain": [
              "((25000,), (25000,))"
            ]
          },
          "metadata": {
            "tags": []
          },
          "execution_count": 66
        }
      ]
    },
    {
      "cell_type": "markdown",
      "metadata": {
        "colab_type": "text",
        "id": "k9JvZ9BNiR7_"
      },
      "source": [
        "As expected, we have 25,000 training and 25,000 test labels."
      ]
    },
    {
      "cell_type": "markdown",
      "metadata": {
        "colab_type": "text",
        "id": "SyEydrXQsT7_"
      },
      "source": [
        "## Explore the Train Sample\n",
        "\n",
        "Display label categories and number of unique words."
      ]
    },
    {
      "cell_type": "code",
      "metadata": {
        "colab_type": "code",
        "id": "4Nbd_rcdsVp-",
        "colab": {
          "base_uri": "https://localhost:8080/",
          "height": 51
        },
        "outputId": "6a8d7011-1e45-4c9f-b996-3ec9611d129f"
      },
      "source": [
        "print ('categories:', np.unique(train_labels))\n",
        "print('number of unique words:',\n",
        "      len(np.unique(np.hstack(train_reviews))))"
      ],
      "execution_count": null,
      "outputs": [
        {
          "output_type": "stream",
          "text": [
            "categories: [0 1]\n",
            "number of unique words: 88585\n"
          ],
          "name": "stdout"
        }
      ]
    },
    {
      "cell_type": "markdown",
      "metadata": {
        "colab_type": "text",
        "id": "j_WXHNyhtuNx"
      },
      "source": [
        "We see that the dataset is labeled by two categories that represent the sentiment of each review. And, the train sample contains 88,585 unique words."
      ]
    },
    {
      "cell_type": "markdown",
      "metadata": {
        "colab_type": "text",
        "id": "a_pmtPLZhhM0"
      },
      "source": [
        "Let's see how many words are in the longest training review."
      ]
    },
    {
      "cell_type": "code",
      "metadata": {
        "colab_type": "code",
        "id": "_8GSC9-ihU6S",
        "colab": {
          "base_uri": "https://localhost:8080/",
          "height": 34
        },
        "outputId": "4f4232e6-0f46-4049-f0eb-6822ea069a30"
      },
      "source": [
        "longest = np.amax([len(i) for i in train_reviews])\n",
        "\n",
        "print ('longest review:', longest)"
      ],
      "execution_count": null,
      "outputs": [
        {
          "output_type": "stream",
          "text": [
            "longest review: 2494\n"
          ],
          "name": "stdout"
        }
      ]
    },
    {
      "cell_type": "markdown",
      "metadata": {
        "colab_type": "text",
        "id": "fcOco6oZ_jyH"
      },
      "source": [
        "We created a list containing the number of words in each review and then found the maximum number of words in the list."
      ]
    },
    {
      "cell_type": "markdown",
      "metadata": {
        "colab_type": "text",
        "id": "j4i8-GLuCcIf"
      },
      "source": [
        "Now, let's get the index of the longest review:"
      ]
    },
    {
      "cell_type": "code",
      "metadata": {
        "colab_type": "code",
        "id": "2iVtBFkz-2WJ",
        "colab": {
          "base_uri": "https://localhost:8080/",
          "height": 34
        },
        "outputId": "1a986eda-8cb9-4782-c4d3-e4a0a7c01ab2"
      },
      "source": [
        "mid_result = np.where([len(i) for i in train_reviews] == longest)\n",
        "longest_index = mid_result[0][0]\n",
        "longest_index"
      ],
      "execution_count": null,
      "outputs": [
        {
          "output_type": "execute_result",
          "data": {
            "text/plain": [
              "17934"
            ]
          },
          "metadata": {
            "tags": []
          },
          "execution_count": 69
        }
      ]
    },
    {
      "cell_type": "markdown",
      "metadata": {
        "colab_type": "text",
        "id": "5LM5g6FvDLzg"
      },
      "source": [
        "We use the **np.where** function to find the index. We used double indexing because the function returns a tuple containing a list that holds the index we desire."
      ]
    },
    {
      "cell_type": "markdown",
      "metadata": {
        "colab_type": "text",
        "id": "CduKLaWcBO5S"
      },
      "source": [
        "## Create a Decoding Function\n",
        "\n",
        "Let's create a function that decodes the review into readable form."
      ]
    },
    {
      "cell_type": "code",
      "metadata": {
        "colab_type": "code",
        "id": "U0FR4OL5BPB4",
        "colab": {}
      },
      "source": [
        "def readable(review):\n",
        "  index = tf.keras.datasets.imdb.get_word_index()\n",
        "  reverse_index = dict([(value, key)\\\n",
        "                        for (key, value) in index.items()])\n",
        "  return ' '.join( [reverse_index.get(i - 3, '?')\\\n",
        "                    for i in review])"
      ],
      "execution_count": null,
      "outputs": []
    },
    {
      "cell_type": "markdown",
      "metadata": {
        "colab_type": "text",
        "id": "dmw__IIzD4NU"
      },
      "source": [
        "The function uses the **get_word_index** function to obtain the dictionary of words and their uniquely assigned integers. It then creates another dictionary containing key, value groupings as value, and key groupings from the first dictionary. Finally, it returns the words based on their IDs (or keys). The indices are offset by 3 because 0, 1 and 2 are reserved indices for *padding*, *start of sequence* and *unknown*."
      ]
    },
    {
      "cell_type": "markdown",
      "metadata": {
        "colab_type": "text",
        "id": "D38ZcioVfB79"
      },
      "source": [
        "## Create a Label Function"
      ]
    },
    {
      "cell_type": "code",
      "metadata": {
        "colab_type": "code",
        "id": "cfdUcZb3fCG1",
        "colab": {}
      },
      "source": [
        "def opinion(label):\n",
        "  if label == 1:\n",
        "    return 'positive review'\n",
        "  elif label == 0:\n",
        "    return 'negative review'\n",
        "  else: return 'neutral review'"
      ],
      "execution_count": null,
      "outputs": []
    },
    {
      "cell_type": "markdown",
      "metadata": {
        "colab_type": "text",
        "id": "I2jmn6-fCzYf"
      },
      "source": [
        "## Invoke the Decoding Function\n",
        "\n",
        "Let's see what the longest review looks like. We just slice off a piece of it because it is pretty long."
      ]
    },
    {
      "cell_type": "code",
      "metadata": {
        "colab_type": "code",
        "id": "OCJmsFwoCziI",
        "colab": {
          "base_uri": "https://localhost:8080/",
          "height": 153
        },
        "outputId": "9fec570b-1b08-441e-ad2e-fd7d7a376eba"
      },
      "source": [
        "review = readable(train_reviews[longest_index])\n",
        "print ()\n",
        "print ('review:', end=' ')\n",
        "\n",
        "# just display a slice of the full review\n",
        "print (review[:50] + ' ...', br)\n",
        "\n",
        "label = train_labels[longest_index]\n",
        "idea = opinion(label)\n",
        "print (idea, br)\n",
        "\n",
        "# verify length of review\n",
        "print (len(train_reviews[longest_index]))"
      ],
      "execution_count": null,
      "outputs": [
        {
          "output_type": "stream",
          "text": [
            "Downloading data from https://storage.googleapis.com/tensorflow/tf-keras-datasets/imdb_word_index.json\n",
            "1646592/1641221 [==============================] - 0s 0us/step\n",
            "\n",
            "review: ? match 1 tag team table match bubba ray and spike ... \n",
            "\n",
            "positive review \n",
            "\n",
            "2494\n"
          ],
          "name": "stdout"
        }
      ]
    },
    {
      "cell_type": "markdown",
      "metadata": {
        "colab_type": "text",
        "id": "lHEadDx-lCmz"
      },
      "source": [
        "So, the longest review has a label of '1', which means the review is positive."
      ]
    },
    {
      "cell_type": "markdown",
      "metadata": {
        "colab_type": "text",
        "id": "laXHwWIXjkBH"
      },
      "source": [
        "## Find the Shortest Training Review\n",
        "\n",
        "Now, let's use similar logic to see how many words are in the shortest review."
      ]
    },
    {
      "cell_type": "code",
      "metadata": {
        "colab_type": "code",
        "id": "yNkRCkD9jrtm",
        "colab": {
          "base_uri": "https://localhost:8080/",
          "height": 34
        },
        "outputId": "3ca2f194-0654-4e4b-9539-988bff70fc16"
      },
      "source": [
        "shortest = np.amin([len(i) for i in train_reviews])\n",
        "print ('shortest review:', shortest)"
      ],
      "execution_count": null,
      "outputs": [
        {
          "output_type": "stream",
          "text": [
            "shortest review: 11\n"
          ],
          "name": "stdout"
        }
      ]
    },
    {
      "cell_type": "markdown",
      "metadata": {
        "colab_type": "text",
        "id": "gKnEKMaWGsM9"
      },
      "source": [
        "Get the index of the shortest review in the train sample."
      ]
    },
    {
      "cell_type": "code",
      "metadata": {
        "colab_type": "code",
        "id": "v1RZ0BtMGsWL",
        "colab": {
          "base_uri": "https://localhost:8080/",
          "height": 34
        },
        "outputId": "520a072e-213a-48a8-8320-0dd45a30b781"
      },
      "source": [
        "result = np.where([len(i) for i in train_reviews] == shortest)\n",
        "shortest_index = result[0][0]\n",
        "shortest_index"
      ],
      "execution_count": null,
      "outputs": [
        {
          "output_type": "execute_result",
          "data": {
            "text/plain": [
              "6719"
            ]
          },
          "metadata": {
            "tags": []
          },
          "execution_count": 74
        }
      ]
    },
    {
      "cell_type": "markdown",
      "metadata": {
        "colab_type": "text",
        "id": "omu1DbFTG9Rc"
      },
      "source": [
        "Let's see what the review looks like."
      ]
    },
    {
      "cell_type": "code",
      "metadata": {
        "colab_type": "code",
        "id": "_y7087gEG9bL",
        "colab": {
          "base_uri": "https://localhost:8080/",
          "height": 102
        },
        "outputId": "87e4740e-98e4-464a-ddc8-d40e14ac1406"
      },
      "source": [
        "review = readable(train_reviews[shortest_index])\n",
        "print (review[2:], br)\n",
        "\n",
        "label = train_labels[shortest_index]\n",
        "idea = opinion(label)\n",
        "print (idea, br)\n",
        "\n",
        "# verify length of review\n",
        "print (len(train_reviews[shortest_index]))"
      ],
      "execution_count": null,
      "outputs": [
        {
          "output_type": "stream",
          "text": [
            "i wouldn't rent this one even on dollar rental night \n",
            "\n",
            "negative review \n",
            "\n",
            "11\n"
          ],
          "name": "stdout"
        }
      ]
    },
    {
      "cell_type": "markdown",
      "metadata": {
        "colab_type": "text",
        "id": "oPSFYBhbwvV9"
      },
      "source": [
        "## Continue Exploring the Training Sample\n",
        "\n",
        "We continue with the average review length."
      ]
    },
    {
      "cell_type": "code",
      "metadata": {
        "colab_type": "code",
        "id": "E1E2Cgo-uH2C",
        "colab": {
          "base_uri": "https://localhost:8080/",
          "height": 34
        },
        "outputId": "0582244e-1b69-495c-c3ef-77db9dfc7596"
      },
      "source": [
        "length = [len(i) for i in train_reviews]\n",
        "\n",
        "print ('average review length:', np.mean(length))"
      ],
      "execution_count": null,
      "outputs": [
        {
          "output_type": "stream",
          "text": [
            "average review length: 238.71364\n"
          ],
          "name": "stdout"
        }
      ]
    },
    {
      "cell_type": "markdown",
      "metadata": {
        "colab_type": "text",
        "id": "BwOdVt29uf1C"
      },
      "source": [
        "The average length of a review is around 238 words."
      ]
    },
    {
      "cell_type": "markdown",
      "metadata": {
        "colab_type": "text",
        "id": "tUu9j6Nnw1mb"
      },
      "source": [
        " Next, we display the first label and review (encoded as integers)."
      ]
    },
    {
      "cell_type": "code",
      "metadata": {
        "colab_type": "code",
        "id": "z1FLuS6GugE6",
        "colab": {
          "base_uri": "https://localhost:8080/",
          "height": 68
        },
        "outputId": "cb23bcfb-d673-4b1f-ecbe-eb524b1d402b"
      },
      "source": [
        "first_label = train_labels[0]\n",
        "\n",
        "print('label:', first_label, end=' ')\n",
        "\n",
        "idea = opinion(first_label)\n",
        "print ('(' + idea + ')', br)\n",
        "\n",
        "# display slice of first review\n",
        "print (train_reviews[0][:20])"
      ],
      "execution_count": null,
      "outputs": [
        {
          "output_type": "stream",
          "text": [
            "label: 1 (positive review) \n",
            "\n",
            "[1, 14, 22, 16, 43, 530, 973, 1622, 1385, 65, 458, 4468, 66, 3941, 4, 173, 36, 256, 5, 25]\n"
          ],
          "name": "stdout"
        }
      ]
    },
    {
      "cell_type": "markdown",
      "metadata": {
        "colab_type": "text",
        "id": "56c0P8RVvvLa"
      },
      "source": [
        "The first review is positive. The review itself is encoded as a set of integers where each integer represents a word."
      ]
    },
    {
      "cell_type": "markdown",
      "metadata": {
        "colab_type": "text",
        "id": "3OcNkBnAw7L7"
      },
      "source": [
        "We can display the first review in a readable format by decoding the integer IDs back into words."
      ]
    },
    {
      "cell_type": "code",
      "metadata": {
        "colab_type": "code",
        "id": "g3X2lGXgv-d4",
        "colab": {
          "base_uri": "https://localhost:8080/",
          "height": 34
        },
        "outputId": "13a1944b-b907-49ef-c867-9fba609e1974"
      },
      "source": [
        "review = readable(train_reviews[0])\n",
        "print (review[2:105] + ' ...')"
      ],
      "execution_count": null,
      "outputs": [
        {
          "output_type": "stream",
          "text": [
            "this film was just brilliant casting location scenery story direction everyone's really suited the part ...\n"
          ],
          "name": "stdout"
        }
      ]
    },
    {
      "cell_type": "markdown",
      "metadata": {
        "colab_type": "text",
        "id": "INDhRYM-zaj7"
      },
      "source": [
        "We printed only the first part of the review. To display the full review, just print *review*."
      ]
    },
    {
      "cell_type": "markdown",
      "metadata": {
        "colab_type": "text",
        "id": "4A_XDCSWLFdN"
      },
      "source": [
        "## Train Keras IMDb Data\n",
        "\n",
        "\n",
        "\n",
        "Let's just build the input pipeline, compile, and train in one code snippet:"
      ]
    },
    {
      "cell_type": "code",
      "metadata": {
        "colab_type": "code",
        "id": "_G7x2FLFL28A",
        "colab": {
          "base_uri": "https://localhost:8080/",
          "height": 494
        },
        "outputId": "38d5b8bb-aa23-4226-ec18-9fbdcb997370"
      },
      "source": [
        "from tensorflow.keras.preprocessing.sequence import pad_sequences\n",
        "\n",
        "# limit vocabulary to 8000 most commonly used words in reviews\n",
        "vocab_size = 8000\n",
        "\n",
        "# cut text 80 words that correspond to the vocabulary\n",
        "maxlen = 80\n",
        "\n",
        "print('load data...', br)\n",
        "\n",
        "(x_train, y_train), (x_test, y_test) =\\\n",
        "tf.keras.datasets.imdb.load_data(num_words=vocab_size)\n",
        "\n",
        "print ('train and test features:')\n",
        "print (len(x_train), 'train sequences')\n",
        "print (len(x_test), 'test sequences', br)\n",
        "\n",
        "print ('sequence shape before padding:')\n",
        "print ('x_train shape:', x_train.shape)\n",
        "print ('x_test shape:', x_test.shape, br)\n",
        "\n",
        "x_train = np.asarray(x_train)\n",
        "x_test = np.asarray(x_test)\n",
        "\n",
        "# ensure that all samples are the same size for training\n",
        "print('padded sequences (samples, maxlen):')\n",
        "x_train = pad_sequences(x_train, maxlen=maxlen)\n",
        "x_test = pad_sequences(x_test, maxlen=maxlen)\n",
        "print('x_train shape:', x_train.shape)\n",
        "print('x_test shape:', x_test.shape, br)\n",
        "\n",
        "# initialize pipeline variables\n",
        "buffer_size = 10000\n",
        "batch_size = 512\n",
        "\n",
        "# prepare train data for TensforFlow consumption\n",
        "train_ks = tf.data.Dataset.from_tensor_slices(\n",
        "    (x_train, y_train))\n",
        "train_ks = train_ks.shuffle(\n",
        "    buffer_size).batch(batch_size).prefetch(1)\n",
        "\n",
        "# prepare test data for TensforFlow consumption\n",
        "test_ks = tf.data.Dataset.from_tensor_slices(\n",
        "    (x_test, y_test))\n",
        "test_ks = test_ks.batch(batch_size).prefetch(1)\n",
        "\n",
        "print('build model...', br)\n",
        "\n",
        "# clear any previous models\n",
        "tf.keras.backend.clear_session()\n",
        "\n",
        "# create the model\n",
        "embed_size = 128\n",
        "model = Sequential([\n",
        "  Embedding(vocab_size, embed_size, mask_zero=True,\n",
        "            input_shape=[None]),\n",
        "  GRU(128, return_sequences=True),\n",
        "  GRU(128),\n",
        "  Dense(1, activation=\"sigmoid\")\n",
        "])\n",
        "\n",
        "print('compile model...', br)\n",
        "\n",
        "# compile\n",
        "model.compile(loss='binary_crossentropy',\n",
        "              optimizer='adam',\n",
        "              metrics=['accuracy'])\n",
        "\n",
        "# to suppress unuseful error messages\n",
        "tf.compat.v1.logging.set_verbosity(tf.compat.v1.logging.ERROR)\n",
        "\n",
        "epochs = 2\n",
        "\n",
        "print('train...', br)\n",
        "\n",
        "# train\n",
        "model.fit(train_ks, batch_size=BATCH_SIZE,\n",
        "          epochs=epochs, validation_data=(test_ks))\n",
        "\n",
        "print ()\n",
        "print('predict first test review ...', br)\n",
        "\n",
        "# predict\n",
        "k_pred = model.predict(test_ks)\n",
        "\n",
        "# create function\n",
        "def view(score):\n",
        "  if score >= 0.5:\n",
        "    return 'positive impression'\n",
        "  else:\n",
        "    return 'negative impression'\n",
        "\n",
        "# display first prediction\n",
        "view(k_pred[0][0])"
      ],
      "execution_count": null,
      "outputs": [
        {
          "output_type": "stream",
          "text": [
            "load data... \n",
            "\n",
            "train and test features:\n",
            "25000 train sequences\n",
            "25000 test sequences \n",
            "\n",
            "sequence shape before padding:\n",
            "x_train shape: (25000,)\n",
            "x_test shape: (25000,) \n",
            "\n",
            "padded sequences (samples, maxlen):\n",
            "x_train shape: (25000, 80)\n",
            "x_test shape: (25000, 80) \n",
            "\n",
            "build model... \n",
            "\n",
            "compile model... \n",
            "\n",
            "train... \n",
            "\n",
            "Epoch 1/2\n",
            "49/49 [==============================] - 23s 466ms/step - loss: 0.5435 - accuracy: 0.7055 - val_loss: 0.3897 - val_accuracy: 0.8234\n",
            "Epoch 2/2\n",
            "49/49 [==============================] - 21s 424ms/step - loss: 0.3152 - accuracy: 0.8670 - val_loss: 0.3709 - val_accuracy: 0.8338\n",
            "\n",
            "predict first test review ... \n",
            "\n"
          ],
          "name": "stdout"
        },
        {
          "output_type": "execute_result",
          "data": {
            "application/vnd.google.colaboratory.intrinsic+json": {
              "type": "string"
            },
            "text/plain": [
              "'negative impression'"
            ]
          },
          "metadata": {
            "tags": []
          },
          "execution_count": 78
        }
      ]
    },
    {
      "cell_type": "code",
      "metadata": {
        "id": "86w3cV8ekTNY",
        "colab_type": "code",
        "colab": {
          "base_uri": "https://localhost:8080/",
          "height": 35
        },
        "outputId": "4cefc4da-1a2d-41dd-d9b8-7bedec4630a3"
      },
      "source": [
        "pred_first = readable(x_test[0])\n",
        "pred_first[26:53]"
      ],
      "execution_count": null,
      "outputs": [
        {
          "output_type": "execute_result",
          "data": {
            "application/vnd.google.colaboratory.intrinsic+json": {
              "type": "string"
            },
            "text/plain": [
              "'please give this one a miss'"
            ]
          },
          "metadata": {
            "tags": []
          },
          "execution_count": 79
        }
      ]
    },
    {
      "cell_type": "code",
      "metadata": {
        "id": "zHFs7uTBk6gC",
        "colab_type": "code",
        "colab": {
          "base_uri": "https://localhost:8080/",
          "height": 35
        },
        "outputId": "1fcaadad-1c41-4ca6-f8a1-f4f1a8d97509"
      },
      "source": [
        "view(y_test[0])"
      ],
      "execution_count": null,
      "outputs": [
        {
          "output_type": "execute_result",
          "data": {
            "application/vnd.google.colaboratory.intrinsic+json": {
              "type": "string"
            },
            "text/plain": [
              "'negative impression'"
            ]
          },
          "metadata": {
            "tags": []
          },
          "execution_count": 80
        }
      ]
    }
  ]
}