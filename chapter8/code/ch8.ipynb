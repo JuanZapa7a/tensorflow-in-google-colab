{
  "nbformat": 4,
  "nbformat_minor": 0,
  "metadata": {
    "accelerator": "GPU",
    "colab": {
      "name": "ch8.ipynb",
      "provenance": [],
      "collapsed_sections": []
    },
    "kernelspec": {
      "display_name": "Python 3",
      "language": "python",
      "name": "python3"
    },
    "language_info": {
      "codemirror_mode": {
        "name": "ipython",
        "version": 3
      },
      "file_extension": ".py",
      "mimetype": "text/x-python",
      "name": "python",
      "nbconvert_exporter": "python",
      "pygments_lexer": "ipython3",
      "version": "3.7.3"
    },
    "widgets": {
      "application/vnd.jupyter.widget-state+json": {
        "9ddb1549edbe4dc2a047716edf6616c7": {
          "model_module": "@jupyter-widgets/controls",
          "model_name": "HBoxModel",
          "state": {
            "_view_name": "HBoxView",
            "_dom_classes": [],
            "_model_name": "HBoxModel",
            "_view_module": "@jupyter-widgets/controls",
            "_model_module_version": "1.5.0",
            "_view_count": null,
            "_view_module_version": "1.5.0",
            "box_style": "",
            "layout": "IPY_MODEL_5f34ef75f30e4c1d8f97ad7c641101ca",
            "_model_module": "@jupyter-widgets/controls",
            "children": [
              "IPY_MODEL_1d19494e48004b9290ecf48694d9ec8a",
              "IPY_MODEL_d33b3f233c94475cbf157bf175647f39"
            ]
          }
        },
        "5f34ef75f30e4c1d8f97ad7c641101ca": {
          "model_module": "@jupyter-widgets/base",
          "model_name": "LayoutModel",
          "state": {
            "_view_name": "LayoutView",
            "grid_template_rows": null,
            "right": null,
            "justify_content": null,
            "_view_module": "@jupyter-widgets/base",
            "overflow": null,
            "_model_module_version": "1.2.0",
            "_view_count": null,
            "flex_flow": null,
            "width": null,
            "min_width": null,
            "border": null,
            "align_items": null,
            "bottom": null,
            "_model_module": "@jupyter-widgets/base",
            "top": null,
            "grid_column": null,
            "overflow_y": null,
            "overflow_x": null,
            "grid_auto_flow": null,
            "grid_area": null,
            "grid_template_columns": null,
            "flex": null,
            "_model_name": "LayoutModel",
            "justify_items": null,
            "grid_row": null,
            "max_height": null,
            "align_content": null,
            "visibility": null,
            "align_self": null,
            "height": null,
            "min_height": null,
            "padding": null,
            "grid_auto_rows": null,
            "grid_gap": null,
            "max_width": null,
            "order": null,
            "_view_module_version": "1.2.0",
            "grid_template_areas": null,
            "object_position": null,
            "object_fit": null,
            "grid_auto_columns": null,
            "margin": null,
            "display": null,
            "left": null
          }
        },
        "1d19494e48004b9290ecf48694d9ec8a": {
          "model_module": "@jupyter-widgets/controls",
          "model_name": "IntProgressModel",
          "state": {
            "_view_name": "ProgressView",
            "style": "IPY_MODEL_24fd8b4baadd4ae59d31c7f72f833560",
            "_dom_classes": [],
            "description": "Dl Completed...: 100%",
            "_model_name": "IntProgressModel",
            "bar_style": "success",
            "max": 1,
            "_view_module": "@jupyter-widgets/controls",
            "_model_module_version": "1.5.0",
            "value": 1,
            "_view_count": null,
            "_view_module_version": "1.5.0",
            "orientation": "horizontal",
            "min": 0,
            "description_tooltip": null,
            "_model_module": "@jupyter-widgets/controls",
            "layout": "IPY_MODEL_a32479f67f264827a33998910ac1e4bd"
          }
        },
        "d33b3f233c94475cbf157bf175647f39": {
          "model_module": "@jupyter-widgets/controls",
          "model_name": "HTMLModel",
          "state": {
            "_view_name": "HTMLView",
            "style": "IPY_MODEL_a8ec81aca70243f5a9a81d168522b869",
            "_dom_classes": [],
            "description": "",
            "_model_name": "HTMLModel",
            "placeholder": "​",
            "_view_module": "@jupyter-widgets/controls",
            "_model_module_version": "1.5.0",
            "value": " 1/1 [08:57&lt;00:00, 537.95s/ url]",
            "_view_count": null,
            "_view_module_version": "1.5.0",
            "description_tooltip": null,
            "_model_module": "@jupyter-widgets/controls",
            "layout": "IPY_MODEL_1b255d0822114672b8918af9fdfebc9f"
          }
        },
        "24fd8b4baadd4ae59d31c7f72f833560": {
          "model_module": "@jupyter-widgets/controls",
          "model_name": "ProgressStyleModel",
          "state": {
            "_view_name": "StyleView",
            "_model_name": "ProgressStyleModel",
            "description_width": "initial",
            "_view_module": "@jupyter-widgets/base",
            "_model_module_version": "1.5.0",
            "_view_count": null,
            "_view_module_version": "1.2.0",
            "bar_color": null,
            "_model_module": "@jupyter-widgets/controls"
          }
        },
        "a32479f67f264827a33998910ac1e4bd": {
          "model_module": "@jupyter-widgets/base",
          "model_name": "LayoutModel",
          "state": {
            "_view_name": "LayoutView",
            "grid_template_rows": null,
            "right": null,
            "justify_content": null,
            "_view_module": "@jupyter-widgets/base",
            "overflow": null,
            "_model_module_version": "1.2.0",
            "_view_count": null,
            "flex_flow": null,
            "width": null,
            "min_width": null,
            "border": null,
            "align_items": null,
            "bottom": null,
            "_model_module": "@jupyter-widgets/base",
            "top": null,
            "grid_column": null,
            "overflow_y": null,
            "overflow_x": null,
            "grid_auto_flow": null,
            "grid_area": null,
            "grid_template_columns": null,
            "flex": null,
            "_model_name": "LayoutModel",
            "justify_items": null,
            "grid_row": null,
            "max_height": null,
            "align_content": null,
            "visibility": null,
            "align_self": null,
            "height": null,
            "min_height": null,
            "padding": null,
            "grid_auto_rows": null,
            "grid_gap": null,
            "max_width": null,
            "order": null,
            "_view_module_version": "1.2.0",
            "grid_template_areas": null,
            "object_position": null,
            "object_fit": null,
            "grid_auto_columns": null,
            "margin": null,
            "display": null,
            "left": null
          }
        },
        "a8ec81aca70243f5a9a81d168522b869": {
          "model_module": "@jupyter-widgets/controls",
          "model_name": "DescriptionStyleModel",
          "state": {
            "_view_name": "StyleView",
            "_model_name": "DescriptionStyleModel",
            "description_width": "",
            "_view_module": "@jupyter-widgets/base",
            "_model_module_version": "1.5.0",
            "_view_count": null,
            "_view_module_version": "1.2.0",
            "_model_module": "@jupyter-widgets/controls"
          }
        },
        "1b255d0822114672b8918af9fdfebc9f": {
          "model_module": "@jupyter-widgets/base",
          "model_name": "LayoutModel",
          "state": {
            "_view_name": "LayoutView",
            "grid_template_rows": null,
            "right": null,
            "justify_content": null,
            "_view_module": "@jupyter-widgets/base",
            "overflow": null,
            "_model_module_version": "1.2.0",
            "_view_count": null,
            "flex_flow": null,
            "width": null,
            "min_width": null,
            "border": null,
            "align_items": null,
            "bottom": null,
            "_model_module": "@jupyter-widgets/base",
            "top": null,
            "grid_column": null,
            "overflow_y": null,
            "overflow_x": null,
            "grid_auto_flow": null,
            "grid_area": null,
            "grid_template_columns": null,
            "flex": null,
            "_model_name": "LayoutModel",
            "justify_items": null,
            "grid_row": null,
            "max_height": null,
            "align_content": null,
            "visibility": null,
            "align_self": null,
            "height": null,
            "min_height": null,
            "padding": null,
            "grid_auto_rows": null,
            "grid_gap": null,
            "max_width": null,
            "order": null,
            "_view_module_version": "1.2.0",
            "grid_template_areas": null,
            "object_position": null,
            "object_fit": null,
            "grid_auto_columns": null,
            "margin": null,
            "display": null,
            "left": null
          }
        },
        "7fe1ad25e4f4499db9fe0f365067c173": {
          "model_module": "@jupyter-widgets/controls",
          "model_name": "HBoxModel",
          "state": {
            "_view_name": "HBoxView",
            "_dom_classes": [],
            "_model_name": "HBoxModel",
            "_view_module": "@jupyter-widgets/controls",
            "_model_module_version": "1.5.0",
            "_view_count": null,
            "_view_module_version": "1.5.0",
            "box_style": "",
            "layout": "IPY_MODEL_f5558e8d246e43a5abf3b95a8ad6b15b",
            "_model_module": "@jupyter-widgets/controls",
            "children": [
              "IPY_MODEL_a5a7a30daa6c4ccbb6295f2c4094e63d",
              "IPY_MODEL_b43966da61704b4eb7190feaba68e7a2"
            ]
          }
        },
        "f5558e8d246e43a5abf3b95a8ad6b15b": {
          "model_module": "@jupyter-widgets/base",
          "model_name": "LayoutModel",
          "state": {
            "_view_name": "LayoutView",
            "grid_template_rows": null,
            "right": null,
            "justify_content": null,
            "_view_module": "@jupyter-widgets/base",
            "overflow": null,
            "_model_module_version": "1.2.0",
            "_view_count": null,
            "flex_flow": null,
            "width": null,
            "min_width": null,
            "border": null,
            "align_items": null,
            "bottom": null,
            "_model_module": "@jupyter-widgets/base",
            "top": null,
            "grid_column": null,
            "overflow_y": null,
            "overflow_x": null,
            "grid_auto_flow": null,
            "grid_area": null,
            "grid_template_columns": null,
            "flex": null,
            "_model_name": "LayoutModel",
            "justify_items": null,
            "grid_row": null,
            "max_height": null,
            "align_content": null,
            "visibility": null,
            "align_self": null,
            "height": null,
            "min_height": null,
            "padding": null,
            "grid_auto_rows": null,
            "grid_gap": null,
            "max_width": null,
            "order": null,
            "_view_module_version": "1.2.0",
            "grid_template_areas": null,
            "object_position": null,
            "object_fit": null,
            "grid_auto_columns": null,
            "margin": null,
            "display": null,
            "left": null
          }
        },
        "a5a7a30daa6c4ccbb6295f2c4094e63d": {
          "model_module": "@jupyter-widgets/controls",
          "model_name": "IntProgressModel",
          "state": {
            "_view_name": "ProgressView",
            "style": "IPY_MODEL_728a98219b2f4a8da2dc32fa646983b4",
            "_dom_classes": [],
            "description": "Dl Size...: 100%",
            "_model_name": "IntProgressModel",
            "bar_style": "success",
            "max": 1,
            "_view_module": "@jupyter-widgets/controls",
            "_model_module_version": "1.5.0",
            "value": 1,
            "_view_count": null,
            "_view_module_version": "1.5.0",
            "orientation": "horizontal",
            "min": 0,
            "description_tooltip": null,
            "_model_module": "@jupyter-widgets/controls",
            "layout": "IPY_MODEL_b657f0fab36543179a15e886e4655dc2"
          }
        },
        "b43966da61704b4eb7190feaba68e7a2": {
          "model_module": "@jupyter-widgets/controls",
          "model_name": "HTMLModel",
          "state": {
            "_view_name": "HTMLView",
            "style": "IPY_MODEL_0851a5ec3ee94f69b87c6852a22798ff",
            "_dom_classes": [],
            "description": "",
            "_model_name": "HTMLModel",
            "placeholder": "​",
            "_view_module": "@jupyter-widgets/controls",
            "_model_module_version": "1.5.0",
            "value": " 80/80 [08:57&lt;00:00,  6.72s/ MiB]",
            "_view_count": null,
            "_view_module_version": "1.5.0",
            "description_tooltip": null,
            "_model_module": "@jupyter-widgets/controls",
            "layout": "IPY_MODEL_65caa0200b5541eb93eeeff6240890aa"
          }
        },
        "728a98219b2f4a8da2dc32fa646983b4": {
          "model_module": "@jupyter-widgets/controls",
          "model_name": "ProgressStyleModel",
          "state": {
            "_view_name": "StyleView",
            "_model_name": "ProgressStyleModel",
            "description_width": "initial",
            "_view_module": "@jupyter-widgets/base",
            "_model_module_version": "1.5.0",
            "_view_count": null,
            "_view_module_version": "1.2.0",
            "bar_color": null,
            "_model_module": "@jupyter-widgets/controls"
          }
        },
        "b657f0fab36543179a15e886e4655dc2": {
          "model_module": "@jupyter-widgets/base",
          "model_name": "LayoutModel",
          "state": {
            "_view_name": "LayoutView",
            "grid_template_rows": null,
            "right": null,
            "justify_content": null,
            "_view_module": "@jupyter-widgets/base",
            "overflow": null,
            "_model_module_version": "1.2.0",
            "_view_count": null,
            "flex_flow": null,
            "width": null,
            "min_width": null,
            "border": null,
            "align_items": null,
            "bottom": null,
            "_model_module": "@jupyter-widgets/base",
            "top": null,
            "grid_column": null,
            "overflow_y": null,
            "overflow_x": null,
            "grid_auto_flow": null,
            "grid_area": null,
            "grid_template_columns": null,
            "flex": null,
            "_model_name": "LayoutModel",
            "justify_items": null,
            "grid_row": null,
            "max_height": null,
            "align_content": null,
            "visibility": null,
            "align_self": null,
            "height": null,
            "min_height": null,
            "padding": null,
            "grid_auto_rows": null,
            "grid_gap": null,
            "max_width": null,
            "order": null,
            "_view_module_version": "1.2.0",
            "grid_template_areas": null,
            "object_position": null,
            "object_fit": null,
            "grid_auto_columns": null,
            "margin": null,
            "display": null,
            "left": null
          }
        },
        "0851a5ec3ee94f69b87c6852a22798ff": {
          "model_module": "@jupyter-widgets/controls",
          "model_name": "DescriptionStyleModel",
          "state": {
            "_view_name": "StyleView",
            "_model_name": "DescriptionStyleModel",
            "description_width": "",
            "_view_module": "@jupyter-widgets/base",
            "_model_module_version": "1.5.0",
            "_view_count": null,
            "_view_module_version": "1.2.0",
            "_model_module": "@jupyter-widgets/controls"
          }
        },
        "65caa0200b5541eb93eeeff6240890aa": {
          "model_module": "@jupyter-widgets/base",
          "model_name": "LayoutModel",
          "state": {
            "_view_name": "LayoutView",
            "grid_template_rows": null,
            "right": null,
            "justify_content": null,
            "_view_module": "@jupyter-widgets/base",
            "overflow": null,
            "_model_module_version": "1.2.0",
            "_view_count": null,
            "flex_flow": null,
            "width": null,
            "min_width": null,
            "border": null,
            "align_items": null,
            "bottom": null,
            "_model_module": "@jupyter-widgets/base",
            "top": null,
            "grid_column": null,
            "overflow_y": null,
            "overflow_x": null,
            "grid_auto_flow": null,
            "grid_area": null,
            "grid_template_columns": null,
            "flex": null,
            "_model_name": "LayoutModel",
            "justify_items": null,
            "grid_row": null,
            "max_height": null,
            "align_content": null,
            "visibility": null,
            "align_self": null,
            "height": null,
            "min_height": null,
            "padding": null,
            "grid_auto_rows": null,
            "grid_gap": null,
            "max_width": null,
            "order": null,
            "_view_module_version": "1.2.0",
            "grid_template_areas": null,
            "object_position": null,
            "object_fit": null,
            "grid_auto_columns": null,
            "margin": null,
            "display": null,
            "left": null
          }
        },
        "f7189aaf2a9d44758b24c0c085628b92": {
          "model_module": "@jupyter-widgets/controls",
          "model_name": "HBoxModel",
          "state": {
            "_view_name": "HBoxView",
            "_dom_classes": [],
            "_model_name": "HBoxModel",
            "_view_module": "@jupyter-widgets/controls",
            "_model_module_version": "1.5.0",
            "_view_count": null,
            "_view_module_version": "1.5.0",
            "box_style": "",
            "layout": "IPY_MODEL_767e7be5e4284a26a6005bd103870c43",
            "_model_module": "@jupyter-widgets/controls",
            "children": [
              "IPY_MODEL_d01c032042cc4675918e2a12f6963e9f",
              "IPY_MODEL_a8747e07987940bdbc5551782179c4d8"
            ]
          }
        },
        "767e7be5e4284a26a6005bd103870c43": {
          "model_module": "@jupyter-widgets/base",
          "model_name": "LayoutModel",
          "state": {
            "_view_name": "LayoutView",
            "grid_template_rows": null,
            "right": null,
            "justify_content": null,
            "_view_module": "@jupyter-widgets/base",
            "overflow": null,
            "_model_module_version": "1.2.0",
            "_view_count": null,
            "flex_flow": null,
            "width": null,
            "min_width": null,
            "border": null,
            "align_items": null,
            "bottom": null,
            "_model_module": "@jupyter-widgets/base",
            "top": null,
            "grid_column": null,
            "overflow_y": null,
            "overflow_x": null,
            "grid_auto_flow": null,
            "grid_area": null,
            "grid_template_columns": null,
            "flex": null,
            "_model_name": "LayoutModel",
            "justify_items": null,
            "grid_row": null,
            "max_height": null,
            "align_content": null,
            "visibility": null,
            "align_self": null,
            "height": null,
            "min_height": null,
            "padding": null,
            "grid_auto_rows": null,
            "grid_gap": null,
            "max_width": null,
            "order": null,
            "_view_module_version": "1.2.0",
            "grid_template_areas": null,
            "object_position": null,
            "object_fit": null,
            "grid_auto_columns": null,
            "margin": null,
            "display": null,
            "left": null
          }
        },
        "d01c032042cc4675918e2a12f6963e9f": {
          "model_module": "@jupyter-widgets/controls",
          "model_name": "IntProgressModel",
          "state": {
            "_view_name": "ProgressView",
            "style": "IPY_MODEL_d6573fbb1b6e4fd6b4942a58627daba5",
            "_dom_classes": [],
            "description": "",
            "_model_name": "IntProgressModel",
            "bar_style": "info",
            "max": 1,
            "_view_module": "@jupyter-widgets/controls",
            "_model_module_version": "1.5.0",
            "value": 1,
            "_view_count": null,
            "_view_module_version": "1.5.0",
            "orientation": "horizontal",
            "min": 0,
            "description_tooltip": null,
            "_model_module": "@jupyter-widgets/controls",
            "layout": "IPY_MODEL_00bc2d346c5242d6a4e10f7ec9611189"
          }
        },
        "a8747e07987940bdbc5551782179c4d8": {
          "model_module": "@jupyter-widgets/controls",
          "model_name": "HTMLModel",
          "state": {
            "_view_name": "HTMLView",
            "style": "IPY_MODEL_f5024929f1c245dbb335a4e95c39232c",
            "_dom_classes": [],
            "description": "",
            "_model_name": "HTMLModel",
            "placeholder": "​",
            "_view_module": "@jupyter-widgets/controls",
            "_model_module_version": "1.5.0",
            "value": " 25000/0 [00:37&lt;00:00, 793.43 examples/s]",
            "_view_count": null,
            "_view_module_version": "1.5.0",
            "description_tooltip": null,
            "_model_module": "@jupyter-widgets/controls",
            "layout": "IPY_MODEL_71dc643a237c4be7a692a9ca5b8a8601"
          }
        },
        "d6573fbb1b6e4fd6b4942a58627daba5": {
          "model_module": "@jupyter-widgets/controls",
          "model_name": "ProgressStyleModel",
          "state": {
            "_view_name": "StyleView",
            "_model_name": "ProgressStyleModel",
            "description_width": "initial",
            "_view_module": "@jupyter-widgets/base",
            "_model_module_version": "1.5.0",
            "_view_count": null,
            "_view_module_version": "1.2.0",
            "bar_color": null,
            "_model_module": "@jupyter-widgets/controls"
          }
        },
        "00bc2d346c5242d6a4e10f7ec9611189": {
          "model_module": "@jupyter-widgets/base",
          "model_name": "LayoutModel",
          "state": {
            "_view_name": "LayoutView",
            "grid_template_rows": null,
            "right": null,
            "justify_content": null,
            "_view_module": "@jupyter-widgets/base",
            "overflow": null,
            "_model_module_version": "1.2.0",
            "_view_count": null,
            "flex_flow": null,
            "width": null,
            "min_width": null,
            "border": null,
            "align_items": null,
            "bottom": null,
            "_model_module": "@jupyter-widgets/base",
            "top": null,
            "grid_column": null,
            "overflow_y": null,
            "overflow_x": null,
            "grid_auto_flow": null,
            "grid_area": null,
            "grid_template_columns": null,
            "flex": null,
            "_model_name": "LayoutModel",
            "justify_items": null,
            "grid_row": null,
            "max_height": null,
            "align_content": null,
            "visibility": null,
            "align_self": null,
            "height": null,
            "min_height": null,
            "padding": null,
            "grid_auto_rows": null,
            "grid_gap": null,
            "max_width": null,
            "order": null,
            "_view_module_version": "1.2.0",
            "grid_template_areas": null,
            "object_position": null,
            "object_fit": null,
            "grid_auto_columns": null,
            "margin": null,
            "display": null,
            "left": null
          }
        },
        "f5024929f1c245dbb335a4e95c39232c": {
          "model_module": "@jupyter-widgets/controls",
          "model_name": "DescriptionStyleModel",
          "state": {
            "_view_name": "StyleView",
            "_model_name": "DescriptionStyleModel",
            "description_width": "",
            "_view_module": "@jupyter-widgets/base",
            "_model_module_version": "1.5.0",
            "_view_count": null,
            "_view_module_version": "1.2.0",
            "_model_module": "@jupyter-widgets/controls"
          }
        },
        "71dc643a237c4be7a692a9ca5b8a8601": {
          "model_module": "@jupyter-widgets/base",
          "model_name": "LayoutModel",
          "state": {
            "_view_name": "LayoutView",
            "grid_template_rows": null,
            "right": null,
            "justify_content": null,
            "_view_module": "@jupyter-widgets/base",
            "overflow": null,
            "_model_module_version": "1.2.0",
            "_view_count": null,
            "flex_flow": null,
            "width": null,
            "min_width": null,
            "border": null,
            "align_items": null,
            "bottom": null,
            "_model_module": "@jupyter-widgets/base",
            "top": null,
            "grid_column": null,
            "overflow_y": null,
            "overflow_x": null,
            "grid_auto_flow": null,
            "grid_area": null,
            "grid_template_columns": null,
            "flex": null,
            "_model_name": "LayoutModel",
            "justify_items": null,
            "grid_row": null,
            "max_height": null,
            "align_content": null,
            "visibility": null,
            "align_self": null,
            "height": null,
            "min_height": null,
            "padding": null,
            "grid_auto_rows": null,
            "grid_gap": null,
            "max_width": null,
            "order": null,
            "_view_module_version": "1.2.0",
            "grid_template_areas": null,
            "object_position": null,
            "object_fit": null,
            "grid_auto_columns": null,
            "margin": null,
            "display": null,
            "left": null
          }
        },
        "5d031e7b5e6a42afb65c2d637e24732d": {
          "model_module": "@jupyter-widgets/controls",
          "model_name": "HBoxModel",
          "state": {
            "_view_name": "HBoxView",
            "_dom_classes": [],
            "_model_name": "HBoxModel",
            "_view_module": "@jupyter-widgets/controls",
            "_model_module_version": "1.5.0",
            "_view_count": null,
            "_view_module_version": "1.5.0",
            "box_style": "",
            "layout": "IPY_MODEL_bf306e0590414837b7cb962dddb045c5",
            "_model_module": "@jupyter-widgets/controls",
            "children": [
              "IPY_MODEL_89b8c0e69dec4d2f9bd40cb702715606",
              "IPY_MODEL_19a96ae7be77418cbf2afdd2376aeab4"
            ]
          }
        },
        "bf306e0590414837b7cb962dddb045c5": {
          "model_module": "@jupyter-widgets/base",
          "model_name": "LayoutModel",
          "state": {
            "_view_name": "LayoutView",
            "grid_template_rows": null,
            "right": null,
            "justify_content": null,
            "_view_module": "@jupyter-widgets/base",
            "overflow": null,
            "_model_module_version": "1.2.0",
            "_view_count": null,
            "flex_flow": null,
            "width": null,
            "min_width": null,
            "border": null,
            "align_items": null,
            "bottom": null,
            "_model_module": "@jupyter-widgets/base",
            "top": null,
            "grid_column": null,
            "overflow_y": null,
            "overflow_x": null,
            "grid_auto_flow": null,
            "grid_area": null,
            "grid_template_columns": null,
            "flex": null,
            "_model_name": "LayoutModel",
            "justify_items": null,
            "grid_row": null,
            "max_height": null,
            "align_content": null,
            "visibility": null,
            "align_self": null,
            "height": null,
            "min_height": null,
            "padding": null,
            "grid_auto_rows": null,
            "grid_gap": null,
            "max_width": null,
            "order": null,
            "_view_module_version": "1.2.0",
            "grid_template_areas": null,
            "object_position": null,
            "object_fit": null,
            "grid_auto_columns": null,
            "margin": null,
            "display": null,
            "left": null
          }
        },
        "89b8c0e69dec4d2f9bd40cb702715606": {
          "model_module": "@jupyter-widgets/controls",
          "model_name": "IntProgressModel",
          "state": {
            "_view_name": "ProgressView",
            "style": "IPY_MODEL_6908fc52ae39416ca3842016036fc7c3",
            "_dom_classes": [],
            "description": " 51%",
            "_model_name": "IntProgressModel",
            "bar_style": "danger",
            "max": 25000,
            "_view_module": "@jupyter-widgets/controls",
            "_model_module_version": "1.5.0",
            "value": 12805,
            "_view_count": null,
            "_view_module_version": "1.5.0",
            "orientation": "horizontal",
            "min": 0,
            "description_tooltip": null,
            "_model_module": "@jupyter-widgets/controls",
            "layout": "IPY_MODEL_2ce23c0409aa4015bf4d3c99bee0e1d4"
          }
        },
        "19a96ae7be77418cbf2afdd2376aeab4": {
          "model_module": "@jupyter-widgets/controls",
          "model_name": "HTMLModel",
          "state": {
            "_view_name": "HTMLView",
            "style": "IPY_MODEL_ea9d755ea2df4f979bce13ed8236aa05",
            "_dom_classes": [],
            "description": "",
            "_model_name": "HTMLModel",
            "placeholder": "​",
            "_view_module": "@jupyter-widgets/controls",
            "_model_module_version": "1.5.0",
            "value": " 12805/25000 [00:00&lt;00:00, 128043.71 examples/s]",
            "_view_count": null,
            "_view_module_version": "1.5.0",
            "description_tooltip": null,
            "_model_module": "@jupyter-widgets/controls",
            "layout": "IPY_MODEL_bcc2d9de9ffb4e5e8769600ca4831660"
          }
        },
        "6908fc52ae39416ca3842016036fc7c3": {
          "model_module": "@jupyter-widgets/controls",
          "model_name": "ProgressStyleModel",
          "state": {
            "_view_name": "StyleView",
            "_model_name": "ProgressStyleModel",
            "description_width": "initial",
            "_view_module": "@jupyter-widgets/base",
            "_model_module_version": "1.5.0",
            "_view_count": null,
            "_view_module_version": "1.2.0",
            "bar_color": null,
            "_model_module": "@jupyter-widgets/controls"
          }
        },
        "2ce23c0409aa4015bf4d3c99bee0e1d4": {
          "model_module": "@jupyter-widgets/base",
          "model_name": "LayoutModel",
          "state": {
            "_view_name": "LayoutView",
            "grid_template_rows": null,
            "right": null,
            "justify_content": null,
            "_view_module": "@jupyter-widgets/base",
            "overflow": null,
            "_model_module_version": "1.2.0",
            "_view_count": null,
            "flex_flow": null,
            "width": null,
            "min_width": null,
            "border": null,
            "align_items": null,
            "bottom": null,
            "_model_module": "@jupyter-widgets/base",
            "top": null,
            "grid_column": null,
            "overflow_y": null,
            "overflow_x": null,
            "grid_auto_flow": null,
            "grid_area": null,
            "grid_template_columns": null,
            "flex": null,
            "_model_name": "LayoutModel",
            "justify_items": null,
            "grid_row": null,
            "max_height": null,
            "align_content": null,
            "visibility": null,
            "align_self": null,
            "height": null,
            "min_height": null,
            "padding": null,
            "grid_auto_rows": null,
            "grid_gap": null,
            "max_width": null,
            "order": null,
            "_view_module_version": "1.2.0",
            "grid_template_areas": null,
            "object_position": null,
            "object_fit": null,
            "grid_auto_columns": null,
            "margin": null,
            "display": null,
            "left": null
          }
        },
        "ea9d755ea2df4f979bce13ed8236aa05": {
          "model_module": "@jupyter-widgets/controls",
          "model_name": "DescriptionStyleModel",
          "state": {
            "_view_name": "StyleView",
            "_model_name": "DescriptionStyleModel",
            "description_width": "",
            "_view_module": "@jupyter-widgets/base",
            "_model_module_version": "1.5.0",
            "_view_count": null,
            "_view_module_version": "1.2.0",
            "_model_module": "@jupyter-widgets/controls"
          }
        },
        "bcc2d9de9ffb4e5e8769600ca4831660": {
          "model_module": "@jupyter-widgets/base",
          "model_name": "LayoutModel",
          "state": {
            "_view_name": "LayoutView",
            "grid_template_rows": null,
            "right": null,
            "justify_content": null,
            "_view_module": "@jupyter-widgets/base",
            "overflow": null,
            "_model_module_version": "1.2.0",
            "_view_count": null,
            "flex_flow": null,
            "width": null,
            "min_width": null,
            "border": null,
            "align_items": null,
            "bottom": null,
            "_model_module": "@jupyter-widgets/base",
            "top": null,
            "grid_column": null,
            "overflow_y": null,
            "overflow_x": null,
            "grid_auto_flow": null,
            "grid_area": null,
            "grid_template_columns": null,
            "flex": null,
            "_model_name": "LayoutModel",
            "justify_items": null,
            "grid_row": null,
            "max_height": null,
            "align_content": null,
            "visibility": null,
            "align_self": null,
            "height": null,
            "min_height": null,
            "padding": null,
            "grid_auto_rows": null,
            "grid_gap": null,
            "max_width": null,
            "order": null,
            "_view_module_version": "1.2.0",
            "grid_template_areas": null,
            "object_position": null,
            "object_fit": null,
            "grid_auto_columns": null,
            "margin": null,
            "display": null,
            "left": null
          }
        },
        "9237e1508c4a441083bafb1b0ae84693": {
          "model_module": "@jupyter-widgets/controls",
          "model_name": "HBoxModel",
          "state": {
            "_view_name": "HBoxView",
            "_dom_classes": [],
            "_model_name": "HBoxModel",
            "_view_module": "@jupyter-widgets/controls",
            "_model_module_version": "1.5.0",
            "_view_count": null,
            "_view_module_version": "1.5.0",
            "box_style": "",
            "layout": "IPY_MODEL_972d7ab791fc4d8b90a68deec4a38c5c",
            "_model_module": "@jupyter-widgets/controls",
            "children": [
              "IPY_MODEL_77aa7cc52ce24e3c8988841dda0f1d7d",
              "IPY_MODEL_97484895adec452eb6f4ccc86260461d"
            ]
          }
        },
        "972d7ab791fc4d8b90a68deec4a38c5c": {
          "model_module": "@jupyter-widgets/base",
          "model_name": "LayoutModel",
          "state": {
            "_view_name": "LayoutView",
            "grid_template_rows": null,
            "right": null,
            "justify_content": null,
            "_view_module": "@jupyter-widgets/base",
            "overflow": null,
            "_model_module_version": "1.2.0",
            "_view_count": null,
            "flex_flow": null,
            "width": null,
            "min_width": null,
            "border": null,
            "align_items": null,
            "bottom": null,
            "_model_module": "@jupyter-widgets/base",
            "top": null,
            "grid_column": null,
            "overflow_y": null,
            "overflow_x": null,
            "grid_auto_flow": null,
            "grid_area": null,
            "grid_template_columns": null,
            "flex": null,
            "_model_name": "LayoutModel",
            "justify_items": null,
            "grid_row": null,
            "max_height": null,
            "align_content": null,
            "visibility": null,
            "align_self": null,
            "height": null,
            "min_height": null,
            "padding": null,
            "grid_auto_rows": null,
            "grid_gap": null,
            "max_width": null,
            "order": null,
            "_view_module_version": "1.2.0",
            "grid_template_areas": null,
            "object_position": null,
            "object_fit": null,
            "grid_auto_columns": null,
            "margin": null,
            "display": null,
            "left": null
          }
        },
        "77aa7cc52ce24e3c8988841dda0f1d7d": {
          "model_module": "@jupyter-widgets/controls",
          "model_name": "IntProgressModel",
          "state": {
            "_view_name": "ProgressView",
            "style": "IPY_MODEL_e37e92c0d0bb4aca9fa6bf3efb618e92",
            "_dom_classes": [],
            "description": "",
            "_model_name": "IntProgressModel",
            "bar_style": "info",
            "max": 1,
            "_view_module": "@jupyter-widgets/controls",
            "_model_module_version": "1.5.0",
            "value": 1,
            "_view_count": null,
            "_view_module_version": "1.5.0",
            "orientation": "horizontal",
            "min": 0,
            "description_tooltip": null,
            "_model_module": "@jupyter-widgets/controls",
            "layout": "IPY_MODEL_ed4eb837a54544c0813c030246f21349"
          }
        },
        "97484895adec452eb6f4ccc86260461d": {
          "model_module": "@jupyter-widgets/controls",
          "model_name": "HTMLModel",
          "state": {
            "_view_name": "HTMLView",
            "style": "IPY_MODEL_8b5134b67d9a4169bb8d0c362e52f053",
            "_dom_classes": [],
            "description": "",
            "_model_name": "HTMLModel",
            "placeholder": "​",
            "_view_module": "@jupyter-widgets/controls",
            "_model_module_version": "1.5.0",
            "value": " 25000/0 [00:36&lt;00:00, 808.51 examples/s]",
            "_view_count": null,
            "_view_module_version": "1.5.0",
            "description_tooltip": null,
            "_model_module": "@jupyter-widgets/controls",
            "layout": "IPY_MODEL_5d799f356d8a46ec89a8da3d775bb17f"
          }
        },
        "e37e92c0d0bb4aca9fa6bf3efb618e92": {
          "model_module": "@jupyter-widgets/controls",
          "model_name": "ProgressStyleModel",
          "state": {
            "_view_name": "StyleView",
            "_model_name": "ProgressStyleModel",
            "description_width": "initial",
            "_view_module": "@jupyter-widgets/base",
            "_model_module_version": "1.5.0",
            "_view_count": null,
            "_view_module_version": "1.2.0",
            "bar_color": null,
            "_model_module": "@jupyter-widgets/controls"
          }
        },
        "ed4eb837a54544c0813c030246f21349": {
          "model_module": "@jupyter-widgets/base",
          "model_name": "LayoutModel",
          "state": {
            "_view_name": "LayoutView",
            "grid_template_rows": null,
            "right": null,
            "justify_content": null,
            "_view_module": "@jupyter-widgets/base",
            "overflow": null,
            "_model_module_version": "1.2.0",
            "_view_count": null,
            "flex_flow": null,
            "width": null,
            "min_width": null,
            "border": null,
            "align_items": null,
            "bottom": null,
            "_model_module": "@jupyter-widgets/base",
            "top": null,
            "grid_column": null,
            "overflow_y": null,
            "overflow_x": null,
            "grid_auto_flow": null,
            "grid_area": null,
            "grid_template_columns": null,
            "flex": null,
            "_model_name": "LayoutModel",
            "justify_items": null,
            "grid_row": null,
            "max_height": null,
            "align_content": null,
            "visibility": null,
            "align_self": null,
            "height": null,
            "min_height": null,
            "padding": null,
            "grid_auto_rows": null,
            "grid_gap": null,
            "max_width": null,
            "order": null,
            "_view_module_version": "1.2.0",
            "grid_template_areas": null,
            "object_position": null,
            "object_fit": null,
            "grid_auto_columns": null,
            "margin": null,
            "display": null,
            "left": null
          }
        },
        "8b5134b67d9a4169bb8d0c362e52f053": {
          "model_module": "@jupyter-widgets/controls",
          "model_name": "DescriptionStyleModel",
          "state": {
            "_view_name": "StyleView",
            "_model_name": "DescriptionStyleModel",
            "description_width": "",
            "_view_module": "@jupyter-widgets/base",
            "_model_module_version": "1.5.0",
            "_view_count": null,
            "_view_module_version": "1.2.0",
            "_model_module": "@jupyter-widgets/controls"
          }
        },
        "5d799f356d8a46ec89a8da3d775bb17f": {
          "model_module": "@jupyter-widgets/base",
          "model_name": "LayoutModel",
          "state": {
            "_view_name": "LayoutView",
            "grid_template_rows": null,
            "right": null,
            "justify_content": null,
            "_view_module": "@jupyter-widgets/base",
            "overflow": null,
            "_model_module_version": "1.2.0",
            "_view_count": null,
            "flex_flow": null,
            "width": null,
            "min_width": null,
            "border": null,
            "align_items": null,
            "bottom": null,
            "_model_module": "@jupyter-widgets/base",
            "top": null,
            "grid_column": null,
            "overflow_y": null,
            "overflow_x": null,
            "grid_auto_flow": null,
            "grid_area": null,
            "grid_template_columns": null,
            "flex": null,
            "_model_name": "LayoutModel",
            "justify_items": null,
            "grid_row": null,
            "max_height": null,
            "align_content": null,
            "visibility": null,
            "align_self": null,
            "height": null,
            "min_height": null,
            "padding": null,
            "grid_auto_rows": null,
            "grid_gap": null,
            "max_width": null,
            "order": null,
            "_view_module_version": "1.2.0",
            "grid_template_areas": null,
            "object_position": null,
            "object_fit": null,
            "grid_auto_columns": null,
            "margin": null,
            "display": null,
            "left": null
          }
        },
        "e0e9f24f22624cbd94a5d2e0a0fbaef2": {
          "model_module": "@jupyter-widgets/controls",
          "model_name": "HBoxModel",
          "state": {
            "_view_name": "HBoxView",
            "_dom_classes": [],
            "_model_name": "HBoxModel",
            "_view_module": "@jupyter-widgets/controls",
            "_model_module_version": "1.5.0",
            "_view_count": null,
            "_view_module_version": "1.5.0",
            "box_style": "",
            "layout": "IPY_MODEL_4f616ef2235b49e5a49dde88a4c3c04b",
            "_model_module": "@jupyter-widgets/controls",
            "children": [
              "IPY_MODEL_d34710e208e44fca8d6adb2bc49bd96d",
              "IPY_MODEL_e7d113ffb2884989afec2027ee89c868"
            ]
          }
        },
        "4f616ef2235b49e5a49dde88a4c3c04b": {
          "model_module": "@jupyter-widgets/base",
          "model_name": "LayoutModel",
          "state": {
            "_view_name": "LayoutView",
            "grid_template_rows": null,
            "right": null,
            "justify_content": null,
            "_view_module": "@jupyter-widgets/base",
            "overflow": null,
            "_model_module_version": "1.2.0",
            "_view_count": null,
            "flex_flow": null,
            "width": null,
            "min_width": null,
            "border": null,
            "align_items": null,
            "bottom": null,
            "_model_module": "@jupyter-widgets/base",
            "top": null,
            "grid_column": null,
            "overflow_y": null,
            "overflow_x": null,
            "grid_auto_flow": null,
            "grid_area": null,
            "grid_template_columns": null,
            "flex": null,
            "_model_name": "LayoutModel",
            "justify_items": null,
            "grid_row": null,
            "max_height": null,
            "align_content": null,
            "visibility": null,
            "align_self": null,
            "height": null,
            "min_height": null,
            "padding": null,
            "grid_auto_rows": null,
            "grid_gap": null,
            "max_width": null,
            "order": null,
            "_view_module_version": "1.2.0",
            "grid_template_areas": null,
            "object_position": null,
            "object_fit": null,
            "grid_auto_columns": null,
            "margin": null,
            "display": null,
            "left": null
          }
        },
        "d34710e208e44fca8d6adb2bc49bd96d": {
          "model_module": "@jupyter-widgets/controls",
          "model_name": "IntProgressModel",
          "state": {
            "_view_name": "ProgressView",
            "style": "IPY_MODEL_3207f0d7183544ab911a2617f0165970",
            "_dom_classes": [],
            "description": " 57%",
            "_model_name": "IntProgressModel",
            "bar_style": "danger",
            "max": 25000,
            "_view_module": "@jupyter-widgets/controls",
            "_model_module_version": "1.5.0",
            "value": 14275,
            "_view_count": null,
            "_view_module_version": "1.5.0",
            "orientation": "horizontal",
            "min": 0,
            "description_tooltip": null,
            "_model_module": "@jupyter-widgets/controls",
            "layout": "IPY_MODEL_e4fd8849cfcf4b8a83d4c857025fc6fd"
          }
        },
        "e7d113ffb2884989afec2027ee89c868": {
          "model_module": "@jupyter-widgets/controls",
          "model_name": "HTMLModel",
          "state": {
            "_view_name": "HTMLView",
            "style": "IPY_MODEL_1146d0231dba4bbab0aea2eac4a8bdf9",
            "_dom_classes": [],
            "description": "",
            "_model_name": "HTMLModel",
            "placeholder": "​",
            "_view_module": "@jupyter-widgets/controls",
            "_model_module_version": "1.5.0",
            "value": " 14275/25000 [00:00&lt;00:00, 142749.46 examples/s]",
            "_view_count": null,
            "_view_module_version": "1.5.0",
            "description_tooltip": null,
            "_model_module": "@jupyter-widgets/controls",
            "layout": "IPY_MODEL_df43b16c57a14dcd9fc250c58df4456f"
          }
        },
        "3207f0d7183544ab911a2617f0165970": {
          "model_module": "@jupyter-widgets/controls",
          "model_name": "ProgressStyleModel",
          "state": {
            "_view_name": "StyleView",
            "_model_name": "ProgressStyleModel",
            "description_width": "initial",
            "_view_module": "@jupyter-widgets/base",
            "_model_module_version": "1.5.0",
            "_view_count": null,
            "_view_module_version": "1.2.0",
            "bar_color": null,
            "_model_module": "@jupyter-widgets/controls"
          }
        },
        "e4fd8849cfcf4b8a83d4c857025fc6fd": {
          "model_module": "@jupyter-widgets/base",
          "model_name": "LayoutModel",
          "state": {
            "_view_name": "LayoutView",
            "grid_template_rows": null,
            "right": null,
            "justify_content": null,
            "_view_module": "@jupyter-widgets/base",
            "overflow": null,
            "_model_module_version": "1.2.0",
            "_view_count": null,
            "flex_flow": null,
            "width": null,
            "min_width": null,
            "border": null,
            "align_items": null,
            "bottom": null,
            "_model_module": "@jupyter-widgets/base",
            "top": null,
            "grid_column": null,
            "overflow_y": null,
            "overflow_x": null,
            "grid_auto_flow": null,
            "grid_area": null,
            "grid_template_columns": null,
            "flex": null,
            "_model_name": "LayoutModel",
            "justify_items": null,
            "grid_row": null,
            "max_height": null,
            "align_content": null,
            "visibility": null,
            "align_self": null,
            "height": null,
            "min_height": null,
            "padding": null,
            "grid_auto_rows": null,
            "grid_gap": null,
            "max_width": null,
            "order": null,
            "_view_module_version": "1.2.0",
            "grid_template_areas": null,
            "object_position": null,
            "object_fit": null,
            "grid_auto_columns": null,
            "margin": null,
            "display": null,
            "left": null
          }
        },
        "1146d0231dba4bbab0aea2eac4a8bdf9": {
          "model_module": "@jupyter-widgets/controls",
          "model_name": "DescriptionStyleModel",
          "state": {
            "_view_name": "StyleView",
            "_model_name": "DescriptionStyleModel",
            "description_width": "",
            "_view_module": "@jupyter-widgets/base",
            "_model_module_version": "1.5.0",
            "_view_count": null,
            "_view_module_version": "1.2.0",
            "_model_module": "@jupyter-widgets/controls"
          }
        },
        "df43b16c57a14dcd9fc250c58df4456f": {
          "model_module": "@jupyter-widgets/base",
          "model_name": "LayoutModel",
          "state": {
            "_view_name": "LayoutView",
            "grid_template_rows": null,
            "right": null,
            "justify_content": null,
            "_view_module": "@jupyter-widgets/base",
            "overflow": null,
            "_model_module_version": "1.2.0",
            "_view_count": null,
            "flex_flow": null,
            "width": null,
            "min_width": null,
            "border": null,
            "align_items": null,
            "bottom": null,
            "_model_module": "@jupyter-widgets/base",
            "top": null,
            "grid_column": null,
            "overflow_y": null,
            "overflow_x": null,
            "grid_auto_flow": null,
            "grid_area": null,
            "grid_template_columns": null,
            "flex": null,
            "_model_name": "LayoutModel",
            "justify_items": null,
            "grid_row": null,
            "max_height": null,
            "align_content": null,
            "visibility": null,
            "align_self": null,
            "height": null,
            "min_height": null,
            "padding": null,
            "grid_auto_rows": null,
            "grid_gap": null,
            "max_width": null,
            "order": null,
            "_view_module_version": "1.2.0",
            "grid_template_areas": null,
            "object_position": null,
            "object_fit": null,
            "grid_auto_columns": null,
            "margin": null,
            "display": null,
            "left": null
          }
        },
        "f5a279833bb94c48bcee2bdde4ca4b26": {
          "model_module": "@jupyter-widgets/controls",
          "model_name": "HBoxModel",
          "state": {
            "_view_name": "HBoxView",
            "_dom_classes": [],
            "_model_name": "HBoxModel",
            "_view_module": "@jupyter-widgets/controls",
            "_model_module_version": "1.5.0",
            "_view_count": null,
            "_view_module_version": "1.5.0",
            "box_style": "",
            "layout": "IPY_MODEL_480351bd087d4611a325bc75cb2498da",
            "_model_module": "@jupyter-widgets/controls",
            "children": [
              "IPY_MODEL_c06bcc9228e140f8a5fab242e5cfbf2a",
              "IPY_MODEL_3d65121a856d445f8bf5788c42d21696"
            ]
          }
        },
        "480351bd087d4611a325bc75cb2498da": {
          "model_module": "@jupyter-widgets/base",
          "model_name": "LayoutModel",
          "state": {
            "_view_name": "LayoutView",
            "grid_template_rows": null,
            "right": null,
            "justify_content": null,
            "_view_module": "@jupyter-widgets/base",
            "overflow": null,
            "_model_module_version": "1.2.0",
            "_view_count": null,
            "flex_flow": null,
            "width": null,
            "min_width": null,
            "border": null,
            "align_items": null,
            "bottom": null,
            "_model_module": "@jupyter-widgets/base",
            "top": null,
            "grid_column": null,
            "overflow_y": null,
            "overflow_x": null,
            "grid_auto_flow": null,
            "grid_area": null,
            "grid_template_columns": null,
            "flex": null,
            "_model_name": "LayoutModel",
            "justify_items": null,
            "grid_row": null,
            "max_height": null,
            "align_content": null,
            "visibility": null,
            "align_self": null,
            "height": null,
            "min_height": null,
            "padding": null,
            "grid_auto_rows": null,
            "grid_gap": null,
            "max_width": null,
            "order": null,
            "_view_module_version": "1.2.0",
            "grid_template_areas": null,
            "object_position": null,
            "object_fit": null,
            "grid_auto_columns": null,
            "margin": null,
            "display": null,
            "left": null
          }
        },
        "c06bcc9228e140f8a5fab242e5cfbf2a": {
          "model_module": "@jupyter-widgets/controls",
          "model_name": "IntProgressModel",
          "state": {
            "_view_name": "ProgressView",
            "style": "IPY_MODEL_b6195225283941abbe1fd7d8fd1cbd6f",
            "_dom_classes": [],
            "description": "",
            "_model_name": "IntProgressModel",
            "bar_style": "info",
            "max": 1,
            "_view_module": "@jupyter-widgets/controls",
            "_model_module_version": "1.5.0",
            "value": 1,
            "_view_count": null,
            "_view_module_version": "1.5.0",
            "orientation": "horizontal",
            "min": 0,
            "description_tooltip": null,
            "_model_module": "@jupyter-widgets/controls",
            "layout": "IPY_MODEL_7e4854cdd0af4b9a871689164b87b891"
          }
        },
        "3d65121a856d445f8bf5788c42d21696": {
          "model_module": "@jupyter-widgets/controls",
          "model_name": "HTMLModel",
          "state": {
            "_view_name": "HTMLView",
            "style": "IPY_MODEL_c96fbe42386048b88402a87b555e750a",
            "_dom_classes": [],
            "description": "",
            "_model_name": "HTMLModel",
            "placeholder": "​",
            "_view_module": "@jupyter-widgets/controls",
            "_model_module_version": "1.5.0",
            "value": " 50000/0 [01:05&lt;00:00, 845.79 examples/s]",
            "_view_count": null,
            "_view_module_version": "1.5.0",
            "description_tooltip": null,
            "_model_module": "@jupyter-widgets/controls",
            "layout": "IPY_MODEL_e8aa0375818f4972acedaf3a647a6397"
          }
        },
        "b6195225283941abbe1fd7d8fd1cbd6f": {
          "model_module": "@jupyter-widgets/controls",
          "model_name": "ProgressStyleModel",
          "state": {
            "_view_name": "StyleView",
            "_model_name": "ProgressStyleModel",
            "description_width": "initial",
            "_view_module": "@jupyter-widgets/base",
            "_model_module_version": "1.5.0",
            "_view_count": null,
            "_view_module_version": "1.2.0",
            "bar_color": null,
            "_model_module": "@jupyter-widgets/controls"
          }
        },
        "7e4854cdd0af4b9a871689164b87b891": {
          "model_module": "@jupyter-widgets/base",
          "model_name": "LayoutModel",
          "state": {
            "_view_name": "LayoutView",
            "grid_template_rows": null,
            "right": null,
            "justify_content": null,
            "_view_module": "@jupyter-widgets/base",
            "overflow": null,
            "_model_module_version": "1.2.0",
            "_view_count": null,
            "flex_flow": null,
            "width": null,
            "min_width": null,
            "border": null,
            "align_items": null,
            "bottom": null,
            "_model_module": "@jupyter-widgets/base",
            "top": null,
            "grid_column": null,
            "overflow_y": null,
            "overflow_x": null,
            "grid_auto_flow": null,
            "grid_area": null,
            "grid_template_columns": null,
            "flex": null,
            "_model_name": "LayoutModel",
            "justify_items": null,
            "grid_row": null,
            "max_height": null,
            "align_content": null,
            "visibility": null,
            "align_self": null,
            "height": null,
            "min_height": null,
            "padding": null,
            "grid_auto_rows": null,
            "grid_gap": null,
            "max_width": null,
            "order": null,
            "_view_module_version": "1.2.0",
            "grid_template_areas": null,
            "object_position": null,
            "object_fit": null,
            "grid_auto_columns": null,
            "margin": null,
            "display": null,
            "left": null
          }
        },
        "c96fbe42386048b88402a87b555e750a": {
          "model_module": "@jupyter-widgets/controls",
          "model_name": "DescriptionStyleModel",
          "state": {
            "_view_name": "StyleView",
            "_model_name": "DescriptionStyleModel",
            "description_width": "",
            "_view_module": "@jupyter-widgets/base",
            "_model_module_version": "1.5.0",
            "_view_count": null,
            "_view_module_version": "1.2.0",
            "_model_module": "@jupyter-widgets/controls"
          }
        },
        "e8aa0375818f4972acedaf3a647a6397": {
          "model_module": "@jupyter-widgets/base",
          "model_name": "LayoutModel",
          "state": {
            "_view_name": "LayoutView",
            "grid_template_rows": null,
            "right": null,
            "justify_content": null,
            "_view_module": "@jupyter-widgets/base",
            "overflow": null,
            "_model_module_version": "1.2.0",
            "_view_count": null,
            "flex_flow": null,
            "width": null,
            "min_width": null,
            "border": null,
            "align_items": null,
            "bottom": null,
            "_model_module": "@jupyter-widgets/base",
            "top": null,
            "grid_column": null,
            "overflow_y": null,
            "overflow_x": null,
            "grid_auto_flow": null,
            "grid_area": null,
            "grid_template_columns": null,
            "flex": null,
            "_model_name": "LayoutModel",
            "justify_items": null,
            "grid_row": null,
            "max_height": null,
            "align_content": null,
            "visibility": null,
            "align_self": null,
            "height": null,
            "min_height": null,
            "padding": null,
            "grid_auto_rows": null,
            "grid_gap": null,
            "max_width": null,
            "order": null,
            "_view_module_version": "1.2.0",
            "grid_template_areas": null,
            "object_position": null,
            "object_fit": null,
            "grid_auto_columns": null,
            "margin": null,
            "display": null,
            "left": null
          }
        },
        "02a39a7056f24a12b7183bb5bfc14978": {
          "model_module": "@jupyter-widgets/controls",
          "model_name": "HBoxModel",
          "state": {
            "_view_name": "HBoxView",
            "_dom_classes": [],
            "_model_name": "HBoxModel",
            "_view_module": "@jupyter-widgets/controls",
            "_model_module_version": "1.5.0",
            "_view_count": null,
            "_view_module_version": "1.5.0",
            "box_style": "",
            "layout": "IPY_MODEL_26ea6b2f296f4fbc91502f472e5c4ce8",
            "_model_module": "@jupyter-widgets/controls",
            "children": [
              "IPY_MODEL_989df9c9d05f4ca8be759b686826c901",
              "IPY_MODEL_7a2bb49cf304474d9453e3807c072d9c"
            ]
          }
        },
        "26ea6b2f296f4fbc91502f472e5c4ce8": {
          "model_module": "@jupyter-widgets/base",
          "model_name": "LayoutModel",
          "state": {
            "_view_name": "LayoutView",
            "grid_template_rows": null,
            "right": null,
            "justify_content": null,
            "_view_module": "@jupyter-widgets/base",
            "overflow": null,
            "_model_module_version": "1.2.0",
            "_view_count": null,
            "flex_flow": null,
            "width": null,
            "min_width": null,
            "border": null,
            "align_items": null,
            "bottom": null,
            "_model_module": "@jupyter-widgets/base",
            "top": null,
            "grid_column": null,
            "overflow_y": null,
            "overflow_x": null,
            "grid_auto_flow": null,
            "grid_area": null,
            "grid_template_columns": null,
            "flex": null,
            "_model_name": "LayoutModel",
            "justify_items": null,
            "grid_row": null,
            "max_height": null,
            "align_content": null,
            "visibility": null,
            "align_self": null,
            "height": null,
            "min_height": null,
            "padding": null,
            "grid_auto_rows": null,
            "grid_gap": null,
            "max_width": null,
            "order": null,
            "_view_module_version": "1.2.0",
            "grid_template_areas": null,
            "object_position": null,
            "object_fit": null,
            "grid_auto_columns": null,
            "margin": null,
            "display": null,
            "left": null
          }
        },
        "989df9c9d05f4ca8be759b686826c901": {
          "model_module": "@jupyter-widgets/controls",
          "model_name": "IntProgressModel",
          "state": {
            "_view_name": "ProgressView",
            "style": "IPY_MODEL_d3322082ac7e40c9a0d0180a35306503",
            "_dom_classes": [],
            "description": " 54%",
            "_model_name": "IntProgressModel",
            "bar_style": "danger",
            "max": 50000,
            "_view_module": "@jupyter-widgets/controls",
            "_model_module_version": "1.5.0",
            "value": 26929,
            "_view_count": null,
            "_view_module_version": "1.5.0",
            "orientation": "horizontal",
            "min": 0,
            "description_tooltip": null,
            "_model_module": "@jupyter-widgets/controls",
            "layout": "IPY_MODEL_e15c0a5784b648e4960ab2ce9521e468"
          }
        },
        "7a2bb49cf304474d9453e3807c072d9c": {
          "model_module": "@jupyter-widgets/controls",
          "model_name": "HTMLModel",
          "state": {
            "_view_name": "HTMLView",
            "style": "IPY_MODEL_ffbf6488cb814fdc97ec0c499c7f6249",
            "_dom_classes": [],
            "description": "",
            "_model_name": "HTMLModel",
            "placeholder": "​",
            "_view_module": "@jupyter-widgets/controls",
            "_model_module_version": "1.5.0",
            "value": " 26929/50000 [00:00&lt;00:00, 29056.32 examples/s]",
            "_view_count": null,
            "_view_module_version": "1.5.0",
            "description_tooltip": null,
            "_model_module": "@jupyter-widgets/controls",
            "layout": "IPY_MODEL_9a93d34756914c7782c222d792355f75"
          }
        },
        "d3322082ac7e40c9a0d0180a35306503": {
          "model_module": "@jupyter-widgets/controls",
          "model_name": "ProgressStyleModel",
          "state": {
            "_view_name": "StyleView",
            "_model_name": "ProgressStyleModel",
            "description_width": "initial",
            "_view_module": "@jupyter-widgets/base",
            "_model_module_version": "1.5.0",
            "_view_count": null,
            "_view_module_version": "1.2.0",
            "bar_color": null,
            "_model_module": "@jupyter-widgets/controls"
          }
        },
        "e15c0a5784b648e4960ab2ce9521e468": {
          "model_module": "@jupyter-widgets/base",
          "model_name": "LayoutModel",
          "state": {
            "_view_name": "LayoutView",
            "grid_template_rows": null,
            "right": null,
            "justify_content": null,
            "_view_module": "@jupyter-widgets/base",
            "overflow": null,
            "_model_module_version": "1.2.0",
            "_view_count": null,
            "flex_flow": null,
            "width": null,
            "min_width": null,
            "border": null,
            "align_items": null,
            "bottom": null,
            "_model_module": "@jupyter-widgets/base",
            "top": null,
            "grid_column": null,
            "overflow_y": null,
            "overflow_x": null,
            "grid_auto_flow": null,
            "grid_area": null,
            "grid_template_columns": null,
            "flex": null,
            "_model_name": "LayoutModel",
            "justify_items": null,
            "grid_row": null,
            "max_height": null,
            "align_content": null,
            "visibility": null,
            "align_self": null,
            "height": null,
            "min_height": null,
            "padding": null,
            "grid_auto_rows": null,
            "grid_gap": null,
            "max_width": null,
            "order": null,
            "_view_module_version": "1.2.0",
            "grid_template_areas": null,
            "object_position": null,
            "object_fit": null,
            "grid_auto_columns": null,
            "margin": null,
            "display": null,
            "left": null
          }
        },
        "ffbf6488cb814fdc97ec0c499c7f6249": {
          "model_module": "@jupyter-widgets/controls",
          "model_name": "DescriptionStyleModel",
          "state": {
            "_view_name": "StyleView",
            "_model_name": "DescriptionStyleModel",
            "description_width": "",
            "_view_module": "@jupyter-widgets/base",
            "_model_module_version": "1.5.0",
            "_view_count": null,
            "_view_module_version": "1.2.0",
            "_model_module": "@jupyter-widgets/controls"
          }
        },
        "9a93d34756914c7782c222d792355f75": {
          "model_module": "@jupyter-widgets/base",
          "model_name": "LayoutModel",
          "state": {
            "_view_name": "LayoutView",
            "grid_template_rows": null,
            "right": null,
            "justify_content": null,
            "_view_module": "@jupyter-widgets/base",
            "overflow": null,
            "_model_module_version": "1.2.0",
            "_view_count": null,
            "flex_flow": null,
            "width": null,
            "min_width": null,
            "border": null,
            "align_items": null,
            "bottom": null,
            "_model_module": "@jupyter-widgets/base",
            "top": null,
            "grid_column": null,
            "overflow_y": null,
            "overflow_x": null,
            "grid_auto_flow": null,
            "grid_area": null,
            "grid_template_columns": null,
            "flex": null,
            "_model_name": "LayoutModel",
            "justify_items": null,
            "grid_row": null,
            "max_height": null,
            "align_content": null,
            "visibility": null,
            "align_self": null,
            "height": null,
            "min_height": null,
            "padding": null,
            "grid_auto_rows": null,
            "grid_gap": null,
            "max_width": null,
            "order": null,
            "_view_module_version": "1.2.0",
            "grid_template_areas": null,
            "object_position": null,
            "object_fit": null,
            "grid_auto_columns": null,
            "margin": null,
            "display": null,
            "left": null
          }
        },
        "553118ee05a44077ba085a735e2b2f7b": {
          "model_module": "@jupyter-widgets/controls",
          "model_name": "HBoxModel",
          "state": {
            "_view_name": "HBoxView",
            "_dom_classes": [],
            "_model_name": "HBoxModel",
            "_view_module": "@jupyter-widgets/controls",
            "_model_module_version": "1.5.0",
            "_view_count": null,
            "_view_module_version": "1.5.0",
            "box_style": "",
            "layout": "IPY_MODEL_b8b020fce98340fba5db6547e265be1e",
            "_model_module": "@jupyter-widgets/controls",
            "children": [
              "IPY_MODEL_f58571c91e364aeca5017685c836a313",
              "IPY_MODEL_c18e56b27cef4526822997625c9bcc05"
            ]
          }
        },
        "b8b020fce98340fba5db6547e265be1e": {
          "model_module": "@jupyter-widgets/base",
          "model_name": "LayoutModel",
          "state": {
            "_view_name": "LayoutView",
            "grid_template_rows": null,
            "right": null,
            "justify_content": null,
            "_view_module": "@jupyter-widgets/base",
            "overflow": null,
            "_model_module_version": "1.2.0",
            "_view_count": null,
            "flex_flow": null,
            "width": null,
            "min_width": null,
            "border": null,
            "align_items": null,
            "bottom": null,
            "_model_module": "@jupyter-widgets/base",
            "top": null,
            "grid_column": null,
            "overflow_y": null,
            "overflow_x": null,
            "grid_auto_flow": null,
            "grid_area": null,
            "grid_template_columns": null,
            "flex": null,
            "_model_name": "LayoutModel",
            "justify_items": null,
            "grid_row": null,
            "max_height": null,
            "align_content": null,
            "visibility": null,
            "align_self": null,
            "height": null,
            "min_height": null,
            "padding": null,
            "grid_auto_rows": null,
            "grid_gap": null,
            "max_width": null,
            "order": null,
            "_view_module_version": "1.2.0",
            "grid_template_areas": null,
            "object_position": null,
            "object_fit": null,
            "grid_auto_columns": null,
            "margin": null,
            "display": null,
            "left": null
          }
        },
        "f58571c91e364aeca5017685c836a313": {
          "model_module": "@jupyter-widgets/controls",
          "model_name": "IntProgressModel",
          "state": {
            "_view_name": "ProgressView",
            "style": "IPY_MODEL_5015c0b68daf44229e178fffc8aaf806",
            "_dom_classes": [],
            "description": "Dl Completed...: ",
            "_model_name": "IntProgressModel",
            "bar_style": "success",
            "max": 1,
            "_view_module": "@jupyter-widgets/controls",
            "_model_module_version": "1.5.0",
            "value": 0,
            "_view_count": null,
            "_view_module_version": "1.5.0",
            "orientation": "horizontal",
            "min": 0,
            "description_tooltip": null,
            "_model_module": "@jupyter-widgets/controls",
            "layout": "IPY_MODEL_e0856b3865f74be79d3ec1d7935d4e52"
          }
        },
        "c18e56b27cef4526822997625c9bcc05": {
          "model_module": "@jupyter-widgets/controls",
          "model_name": "HTMLModel",
          "state": {
            "_view_name": "HTMLView",
            "style": "IPY_MODEL_fd5818111eff48e296f896d88c8a8c08",
            "_dom_classes": [],
            "description": "",
            "_model_name": "HTMLModel",
            "placeholder": "​",
            "_view_module": "@jupyter-widgets/controls",
            "_model_module_version": "1.5.0",
            "value": " 0/0 [00:00&lt;?, ? url/s]",
            "_view_count": null,
            "_view_module_version": "1.5.0",
            "description_tooltip": null,
            "_model_module": "@jupyter-widgets/controls",
            "layout": "IPY_MODEL_0993f203c8bb46a788360cdc48bbc56b"
          }
        },
        "5015c0b68daf44229e178fffc8aaf806": {
          "model_module": "@jupyter-widgets/controls",
          "model_name": "ProgressStyleModel",
          "state": {
            "_view_name": "StyleView",
            "_model_name": "ProgressStyleModel",
            "description_width": "initial",
            "_view_module": "@jupyter-widgets/base",
            "_model_module_version": "1.5.0",
            "_view_count": null,
            "_view_module_version": "1.2.0",
            "bar_color": null,
            "_model_module": "@jupyter-widgets/controls"
          }
        },
        "e0856b3865f74be79d3ec1d7935d4e52": {
          "model_module": "@jupyter-widgets/base",
          "model_name": "LayoutModel",
          "state": {
            "_view_name": "LayoutView",
            "grid_template_rows": null,
            "right": null,
            "justify_content": null,
            "_view_module": "@jupyter-widgets/base",
            "overflow": null,
            "_model_module_version": "1.2.0",
            "_view_count": null,
            "flex_flow": null,
            "width": null,
            "min_width": null,
            "border": null,
            "align_items": null,
            "bottom": null,
            "_model_module": "@jupyter-widgets/base",
            "top": null,
            "grid_column": null,
            "overflow_y": null,
            "overflow_x": null,
            "grid_auto_flow": null,
            "grid_area": null,
            "grid_template_columns": null,
            "flex": null,
            "_model_name": "LayoutModel",
            "justify_items": null,
            "grid_row": null,
            "max_height": null,
            "align_content": null,
            "visibility": null,
            "align_self": null,
            "height": null,
            "min_height": null,
            "padding": null,
            "grid_auto_rows": null,
            "grid_gap": null,
            "max_width": null,
            "order": null,
            "_view_module_version": "1.2.0",
            "grid_template_areas": null,
            "object_position": null,
            "object_fit": null,
            "grid_auto_columns": null,
            "margin": null,
            "display": null,
            "left": null
          }
        },
        "fd5818111eff48e296f896d88c8a8c08": {
          "model_module": "@jupyter-widgets/controls",
          "model_name": "DescriptionStyleModel",
          "state": {
            "_view_name": "StyleView",
            "_model_name": "DescriptionStyleModel",
            "description_width": "",
            "_view_module": "@jupyter-widgets/base",
            "_model_module_version": "1.5.0",
            "_view_count": null,
            "_view_module_version": "1.2.0",
            "_model_module": "@jupyter-widgets/controls"
          }
        },
        "0993f203c8bb46a788360cdc48bbc56b": {
          "model_module": "@jupyter-widgets/base",
          "model_name": "LayoutModel",
          "state": {
            "_view_name": "LayoutView",
            "grid_template_rows": null,
            "right": null,
            "justify_content": null,
            "_view_module": "@jupyter-widgets/base",
            "overflow": null,
            "_model_module_version": "1.2.0",
            "_view_count": null,
            "flex_flow": null,
            "width": null,
            "min_width": null,
            "border": null,
            "align_items": null,
            "bottom": null,
            "_model_module": "@jupyter-widgets/base",
            "top": null,
            "grid_column": null,
            "overflow_y": null,
            "overflow_x": null,
            "grid_auto_flow": null,
            "grid_area": null,
            "grid_template_columns": null,
            "flex": null,
            "_model_name": "LayoutModel",
            "justify_items": null,
            "grid_row": null,
            "max_height": null,
            "align_content": null,
            "visibility": null,
            "align_self": null,
            "height": null,
            "min_height": null,
            "padding": null,
            "grid_auto_rows": null,
            "grid_gap": null,
            "max_width": null,
            "order": null,
            "_view_module_version": "1.2.0",
            "grid_template_areas": null,
            "object_position": null,
            "object_fit": null,
            "grid_auto_columns": null,
            "margin": null,
            "display": null,
            "left": null
          }
        },
        "5b70edef0a17462e87b789b20076d42b": {
          "model_module": "@jupyter-widgets/controls",
          "model_name": "HBoxModel",
          "state": {
            "_view_name": "HBoxView",
            "_dom_classes": [],
            "_model_name": "HBoxModel",
            "_view_module": "@jupyter-widgets/controls",
            "_model_module_version": "1.5.0",
            "_view_count": null,
            "_view_module_version": "1.5.0",
            "box_style": "",
            "layout": "IPY_MODEL_5d9ff174093b4c569e5942dbeefa7735",
            "_model_module": "@jupyter-widgets/controls",
            "children": [
              "IPY_MODEL_f90d8028a71f442ea46bb0219d136edb",
              "IPY_MODEL_6a5de975794a4dc0afd0f03f54ba1ad6"
            ]
          }
        },
        "5d9ff174093b4c569e5942dbeefa7735": {
          "model_module": "@jupyter-widgets/base",
          "model_name": "LayoutModel",
          "state": {
            "_view_name": "LayoutView",
            "grid_template_rows": null,
            "right": null,
            "justify_content": null,
            "_view_module": "@jupyter-widgets/base",
            "overflow": null,
            "_model_module_version": "1.2.0",
            "_view_count": null,
            "flex_flow": null,
            "width": null,
            "min_width": null,
            "border": null,
            "align_items": null,
            "bottom": null,
            "_model_module": "@jupyter-widgets/base",
            "top": null,
            "grid_column": null,
            "overflow_y": null,
            "overflow_x": null,
            "grid_auto_flow": null,
            "grid_area": null,
            "grid_template_columns": null,
            "flex": null,
            "_model_name": "LayoutModel",
            "justify_items": null,
            "grid_row": null,
            "max_height": null,
            "align_content": null,
            "visibility": null,
            "align_self": null,
            "height": null,
            "min_height": null,
            "padding": null,
            "grid_auto_rows": null,
            "grid_gap": null,
            "max_width": null,
            "order": null,
            "_view_module_version": "1.2.0",
            "grid_template_areas": null,
            "object_position": null,
            "object_fit": null,
            "grid_auto_columns": null,
            "margin": null,
            "display": null,
            "left": null
          }
        },
        "f90d8028a71f442ea46bb0219d136edb": {
          "model_module": "@jupyter-widgets/controls",
          "model_name": "IntProgressModel",
          "state": {
            "_view_name": "ProgressView",
            "style": "IPY_MODEL_15e1b51352984eedbaca39993aa465a4",
            "_dom_classes": [],
            "description": "Dl Size...: ",
            "_model_name": "IntProgressModel",
            "bar_style": "success",
            "max": 1,
            "_view_module": "@jupyter-widgets/controls",
            "_model_module_version": "1.5.0",
            "value": 0,
            "_view_count": null,
            "_view_module_version": "1.5.0",
            "orientation": "horizontal",
            "min": 0,
            "description_tooltip": null,
            "_model_module": "@jupyter-widgets/controls",
            "layout": "IPY_MODEL_74d66fbc1d0a4eb5a20d4fee94234893"
          }
        },
        "6a5de975794a4dc0afd0f03f54ba1ad6": {
          "model_module": "@jupyter-widgets/controls",
          "model_name": "HTMLModel",
          "state": {
            "_view_name": "HTMLView",
            "style": "IPY_MODEL_1e79459efebd454f90e7482f1b36aef6",
            "_dom_classes": [],
            "description": "",
            "_model_name": "HTMLModel",
            "placeholder": "​",
            "_view_module": "@jupyter-widgets/controls",
            "_model_module_version": "1.5.0",
            "value": " 0/0 [00:00&lt;?, ? MiB/s]",
            "_view_count": null,
            "_view_module_version": "1.5.0",
            "description_tooltip": null,
            "_model_module": "@jupyter-widgets/controls",
            "layout": "IPY_MODEL_6743fb5d713a44eab38e7df9f67d76af"
          }
        },
        "15e1b51352984eedbaca39993aa465a4": {
          "model_module": "@jupyter-widgets/controls",
          "model_name": "ProgressStyleModel",
          "state": {
            "_view_name": "StyleView",
            "_model_name": "ProgressStyleModel",
            "description_width": "initial",
            "_view_module": "@jupyter-widgets/base",
            "_model_module_version": "1.5.0",
            "_view_count": null,
            "_view_module_version": "1.2.0",
            "bar_color": null,
            "_model_module": "@jupyter-widgets/controls"
          }
        },
        "74d66fbc1d0a4eb5a20d4fee94234893": {
          "model_module": "@jupyter-widgets/base",
          "model_name": "LayoutModel",
          "state": {
            "_view_name": "LayoutView",
            "grid_template_rows": null,
            "right": null,
            "justify_content": null,
            "_view_module": "@jupyter-widgets/base",
            "overflow": null,
            "_model_module_version": "1.2.0",
            "_view_count": null,
            "flex_flow": null,
            "width": null,
            "min_width": null,
            "border": null,
            "align_items": null,
            "bottom": null,
            "_model_module": "@jupyter-widgets/base",
            "top": null,
            "grid_column": null,
            "overflow_y": null,
            "overflow_x": null,
            "grid_auto_flow": null,
            "grid_area": null,
            "grid_template_columns": null,
            "flex": null,
            "_model_name": "LayoutModel",
            "justify_items": null,
            "grid_row": null,
            "max_height": null,
            "align_content": null,
            "visibility": null,
            "align_self": null,
            "height": null,
            "min_height": null,
            "padding": null,
            "grid_auto_rows": null,
            "grid_gap": null,
            "max_width": null,
            "order": null,
            "_view_module_version": "1.2.0",
            "grid_template_areas": null,
            "object_position": null,
            "object_fit": null,
            "grid_auto_columns": null,
            "margin": null,
            "display": null,
            "left": null
          }
        },
        "1e79459efebd454f90e7482f1b36aef6": {
          "model_module": "@jupyter-widgets/controls",
          "model_name": "DescriptionStyleModel",
          "state": {
            "_view_name": "StyleView",
            "_model_name": "DescriptionStyleModel",
            "description_width": "",
            "_view_module": "@jupyter-widgets/base",
            "_model_module_version": "1.5.0",
            "_view_count": null,
            "_view_module_version": "1.2.0",
            "_model_module": "@jupyter-widgets/controls"
          }
        },
        "6743fb5d713a44eab38e7df9f67d76af": {
          "model_module": "@jupyter-widgets/base",
          "model_name": "LayoutModel",
          "state": {
            "_view_name": "LayoutView",
            "grid_template_rows": null,
            "right": null,
            "justify_content": null,
            "_view_module": "@jupyter-widgets/base",
            "overflow": null,
            "_model_module_version": "1.2.0",
            "_view_count": null,
            "flex_flow": null,
            "width": null,
            "min_width": null,
            "border": null,
            "align_items": null,
            "bottom": null,
            "_model_module": "@jupyter-widgets/base",
            "top": null,
            "grid_column": null,
            "overflow_y": null,
            "overflow_x": null,
            "grid_auto_flow": null,
            "grid_area": null,
            "grid_template_columns": null,
            "flex": null,
            "_model_name": "LayoutModel",
            "justify_items": null,
            "grid_row": null,
            "max_height": null,
            "align_content": null,
            "visibility": null,
            "align_self": null,
            "height": null,
            "min_height": null,
            "padding": null,
            "grid_auto_rows": null,
            "grid_gap": null,
            "max_width": null,
            "order": null,
            "_view_module_version": "1.2.0",
            "grid_template_areas": null,
            "object_position": null,
            "object_fit": null,
            "grid_auto_columns": null,
            "margin": null,
            "display": null,
            "left": null
          }
        },
        "d4680df232be4e8faaf1ae47b0ac87bd": {
          "model_module": "@jupyter-widgets/controls",
          "model_name": "HBoxModel",
          "state": {
            "_view_name": "HBoxView",
            "_dom_classes": [],
            "_model_name": "HBoxModel",
            "_view_module": "@jupyter-widgets/controls",
            "_model_module_version": "1.5.0",
            "_view_count": null,
            "_view_module_version": "1.5.0",
            "box_style": "",
            "layout": "IPY_MODEL_86f4a77133bd43bfbe801d0a0f1370b1",
            "_model_module": "@jupyter-widgets/controls",
            "children": [
              "IPY_MODEL_0c4a9fe4bd75478a8f87d66b9edaec0d",
              "IPY_MODEL_78600b7cc9064d239b972ec4f5ccb93d"
            ]
          }
        },
        "86f4a77133bd43bfbe801d0a0f1370b1": {
          "model_module": "@jupyter-widgets/base",
          "model_name": "LayoutModel",
          "state": {
            "_view_name": "LayoutView",
            "grid_template_rows": null,
            "right": null,
            "justify_content": null,
            "_view_module": "@jupyter-widgets/base",
            "overflow": null,
            "_model_module_version": "1.2.0",
            "_view_count": null,
            "flex_flow": null,
            "width": null,
            "min_width": null,
            "border": null,
            "align_items": null,
            "bottom": null,
            "_model_module": "@jupyter-widgets/base",
            "top": null,
            "grid_column": null,
            "overflow_y": null,
            "overflow_x": null,
            "grid_auto_flow": null,
            "grid_area": null,
            "grid_template_columns": null,
            "flex": null,
            "_model_name": "LayoutModel",
            "justify_items": null,
            "grid_row": null,
            "max_height": null,
            "align_content": null,
            "visibility": null,
            "align_self": null,
            "height": null,
            "min_height": null,
            "padding": null,
            "grid_auto_rows": null,
            "grid_gap": null,
            "max_width": null,
            "order": null,
            "_view_module_version": "1.2.0",
            "grid_template_areas": null,
            "object_position": null,
            "object_fit": null,
            "grid_auto_columns": null,
            "margin": null,
            "display": null,
            "left": null
          }
        },
        "0c4a9fe4bd75478a8f87d66b9edaec0d": {
          "model_module": "@jupyter-widgets/controls",
          "model_name": "IntProgressModel",
          "state": {
            "_view_name": "ProgressView",
            "style": "IPY_MODEL_4aa2e2624cf7481d9c422e870e0be404",
            "_dom_classes": [],
            "description": "",
            "_model_name": "IntProgressModel",
            "bar_style": "info",
            "max": 1,
            "_view_module": "@jupyter-widgets/controls",
            "_model_module_version": "1.5.0",
            "value": 1,
            "_view_count": null,
            "_view_module_version": "1.5.0",
            "orientation": "horizontal",
            "min": 0,
            "description_tooltip": null,
            "_model_module": "@jupyter-widgets/controls",
            "layout": "IPY_MODEL_56807e6412dc4005af205c757522af61"
          }
        },
        "78600b7cc9064d239b972ec4f5ccb93d": {
          "model_module": "@jupyter-widgets/controls",
          "model_name": "HTMLModel",
          "state": {
            "_view_name": "HTMLView",
            "style": "IPY_MODEL_2ff38c4b72234a588a570bed2365167d",
            "_dom_classes": [],
            "description": "",
            "_model_name": "HTMLModel",
            "placeholder": "​",
            "_view_module": "@jupyter-widgets/controls",
            "_model_module_version": "1.5.0",
            "value": " 25000/0 [00:17&lt;00:00, 2248.89 examples/s]",
            "_view_count": null,
            "_view_module_version": "1.5.0",
            "description_tooltip": null,
            "_model_module": "@jupyter-widgets/controls",
            "layout": "IPY_MODEL_78743b462cd7482ea2abeaddc646e5d2"
          }
        },
        "4aa2e2624cf7481d9c422e870e0be404": {
          "model_module": "@jupyter-widgets/controls",
          "model_name": "ProgressStyleModel",
          "state": {
            "_view_name": "StyleView",
            "_model_name": "ProgressStyleModel",
            "description_width": "initial",
            "_view_module": "@jupyter-widgets/base",
            "_model_module_version": "1.5.0",
            "_view_count": null,
            "_view_module_version": "1.2.0",
            "bar_color": null,
            "_model_module": "@jupyter-widgets/controls"
          }
        },
        "56807e6412dc4005af205c757522af61": {
          "model_module": "@jupyter-widgets/base",
          "model_name": "LayoutModel",
          "state": {
            "_view_name": "LayoutView",
            "grid_template_rows": null,
            "right": null,
            "justify_content": null,
            "_view_module": "@jupyter-widgets/base",
            "overflow": null,
            "_model_module_version": "1.2.0",
            "_view_count": null,
            "flex_flow": null,
            "width": null,
            "min_width": null,
            "border": null,
            "align_items": null,
            "bottom": null,
            "_model_module": "@jupyter-widgets/base",
            "top": null,
            "grid_column": null,
            "overflow_y": null,
            "overflow_x": null,
            "grid_auto_flow": null,
            "grid_area": null,
            "grid_template_columns": null,
            "flex": null,
            "_model_name": "LayoutModel",
            "justify_items": null,
            "grid_row": null,
            "max_height": null,
            "align_content": null,
            "visibility": null,
            "align_self": null,
            "height": null,
            "min_height": null,
            "padding": null,
            "grid_auto_rows": null,
            "grid_gap": null,
            "max_width": null,
            "order": null,
            "_view_module_version": "1.2.0",
            "grid_template_areas": null,
            "object_position": null,
            "object_fit": null,
            "grid_auto_columns": null,
            "margin": null,
            "display": null,
            "left": null
          }
        },
        "2ff38c4b72234a588a570bed2365167d": {
          "model_module": "@jupyter-widgets/controls",
          "model_name": "DescriptionStyleModel",
          "state": {
            "_view_name": "StyleView",
            "_model_name": "DescriptionStyleModel",
            "description_width": "",
            "_view_module": "@jupyter-widgets/base",
            "_model_module_version": "1.5.0",
            "_view_count": null,
            "_view_module_version": "1.2.0",
            "_model_module": "@jupyter-widgets/controls"
          }
        },
        "78743b462cd7482ea2abeaddc646e5d2": {
          "model_module": "@jupyter-widgets/base",
          "model_name": "LayoutModel",
          "state": {
            "_view_name": "LayoutView",
            "grid_template_rows": null,
            "right": null,
            "justify_content": null,
            "_view_module": "@jupyter-widgets/base",
            "overflow": null,
            "_model_module_version": "1.2.0",
            "_view_count": null,
            "flex_flow": null,
            "width": null,
            "min_width": null,
            "border": null,
            "align_items": null,
            "bottom": null,
            "_model_module": "@jupyter-widgets/base",
            "top": null,
            "grid_column": null,
            "overflow_y": null,
            "overflow_x": null,
            "grid_auto_flow": null,
            "grid_area": null,
            "grid_template_columns": null,
            "flex": null,
            "_model_name": "LayoutModel",
            "justify_items": null,
            "grid_row": null,
            "max_height": null,
            "align_content": null,
            "visibility": null,
            "align_self": null,
            "height": null,
            "min_height": null,
            "padding": null,
            "grid_auto_rows": null,
            "grid_gap": null,
            "max_width": null,
            "order": null,
            "_view_module_version": "1.2.0",
            "grid_template_areas": null,
            "object_position": null,
            "object_fit": null,
            "grid_auto_columns": null,
            "margin": null,
            "display": null,
            "left": null
          }
        },
        "e1f16886b64740d1a34047d984300fcb": {
          "model_module": "@jupyter-widgets/controls",
          "model_name": "HBoxModel",
          "state": {
            "_view_name": "HBoxView",
            "_dom_classes": [],
            "_model_name": "HBoxModel",
            "_view_module": "@jupyter-widgets/controls",
            "_model_module_version": "1.5.0",
            "_view_count": null,
            "_view_module_version": "1.5.0",
            "box_style": "",
            "layout": "IPY_MODEL_5bb15999915d4999b7a823c75072f7b6",
            "_model_module": "@jupyter-widgets/controls",
            "children": [
              "IPY_MODEL_d490c4ca5fc24e798c405d457d781703",
              "IPY_MODEL_5ecb039821684d54ad93a06d2362199c"
            ]
          }
        },
        "5bb15999915d4999b7a823c75072f7b6": {
          "model_module": "@jupyter-widgets/base",
          "model_name": "LayoutModel",
          "state": {
            "_view_name": "LayoutView",
            "grid_template_rows": null,
            "right": null,
            "justify_content": null,
            "_view_module": "@jupyter-widgets/base",
            "overflow": null,
            "_model_module_version": "1.2.0",
            "_view_count": null,
            "flex_flow": null,
            "width": null,
            "min_width": null,
            "border": null,
            "align_items": null,
            "bottom": null,
            "_model_module": "@jupyter-widgets/base",
            "top": null,
            "grid_column": null,
            "overflow_y": null,
            "overflow_x": null,
            "grid_auto_flow": null,
            "grid_area": null,
            "grid_template_columns": null,
            "flex": null,
            "_model_name": "LayoutModel",
            "justify_items": null,
            "grid_row": null,
            "max_height": null,
            "align_content": null,
            "visibility": null,
            "align_self": null,
            "height": null,
            "min_height": null,
            "padding": null,
            "grid_auto_rows": null,
            "grid_gap": null,
            "max_width": null,
            "order": null,
            "_view_module_version": "1.2.0",
            "grid_template_areas": null,
            "object_position": null,
            "object_fit": null,
            "grid_auto_columns": null,
            "margin": null,
            "display": null,
            "left": null
          }
        },
        "d490c4ca5fc24e798c405d457d781703": {
          "model_module": "@jupyter-widgets/controls",
          "model_name": "IntProgressModel",
          "state": {
            "_view_name": "ProgressView",
            "style": "IPY_MODEL_08ae7bc8f0b546b299fbf4d728e051ae",
            "_dom_classes": [],
            "description": " 35%",
            "_model_name": "IntProgressModel",
            "bar_style": "danger",
            "max": 25000,
            "_view_module": "@jupyter-widgets/controls",
            "_model_module_version": "1.5.0",
            "value": 8690,
            "_view_count": null,
            "_view_module_version": "1.5.0",
            "orientation": "horizontal",
            "min": 0,
            "description_tooltip": null,
            "_model_module": "@jupyter-widgets/controls",
            "layout": "IPY_MODEL_b4cc3f0897424ef097c37768b6d779a3"
          }
        },
        "5ecb039821684d54ad93a06d2362199c": {
          "model_module": "@jupyter-widgets/controls",
          "model_name": "HTMLModel",
          "state": {
            "_view_name": "HTMLView",
            "style": "IPY_MODEL_c8b986786aa74235a89f3b228bd8126b",
            "_dom_classes": [],
            "description": "",
            "_model_name": "HTMLModel",
            "placeholder": "​",
            "_view_module": "@jupyter-widgets/controls",
            "_model_module_version": "1.5.0",
            "value": " 8690/25000 [00:00&lt;00:00, 86893.25 examples/s]",
            "_view_count": null,
            "_view_module_version": "1.5.0",
            "description_tooltip": null,
            "_model_module": "@jupyter-widgets/controls",
            "layout": "IPY_MODEL_c535c00d3b82415ba33a392a6416f99f"
          }
        },
        "08ae7bc8f0b546b299fbf4d728e051ae": {
          "model_module": "@jupyter-widgets/controls",
          "model_name": "ProgressStyleModel",
          "state": {
            "_view_name": "StyleView",
            "_model_name": "ProgressStyleModel",
            "description_width": "initial",
            "_view_module": "@jupyter-widgets/base",
            "_model_module_version": "1.5.0",
            "_view_count": null,
            "_view_module_version": "1.2.0",
            "bar_color": null,
            "_model_module": "@jupyter-widgets/controls"
          }
        },
        "b4cc3f0897424ef097c37768b6d779a3": {
          "model_module": "@jupyter-widgets/base",
          "model_name": "LayoutModel",
          "state": {
            "_view_name": "LayoutView",
            "grid_template_rows": null,
            "right": null,
            "justify_content": null,
            "_view_module": "@jupyter-widgets/base",
            "overflow": null,
            "_model_module_version": "1.2.0",
            "_view_count": null,
            "flex_flow": null,
            "width": null,
            "min_width": null,
            "border": null,
            "align_items": null,
            "bottom": null,
            "_model_module": "@jupyter-widgets/base",
            "top": null,
            "grid_column": null,
            "overflow_y": null,
            "overflow_x": null,
            "grid_auto_flow": null,
            "grid_area": null,
            "grid_template_columns": null,
            "flex": null,
            "_model_name": "LayoutModel",
            "justify_items": null,
            "grid_row": null,
            "max_height": null,
            "align_content": null,
            "visibility": null,
            "align_self": null,
            "height": null,
            "min_height": null,
            "padding": null,
            "grid_auto_rows": null,
            "grid_gap": null,
            "max_width": null,
            "order": null,
            "_view_module_version": "1.2.0",
            "grid_template_areas": null,
            "object_position": null,
            "object_fit": null,
            "grid_auto_columns": null,
            "margin": null,
            "display": null,
            "left": null
          }
        },
        "c8b986786aa74235a89f3b228bd8126b": {
          "model_module": "@jupyter-widgets/controls",
          "model_name": "DescriptionStyleModel",
          "state": {
            "_view_name": "StyleView",
            "_model_name": "DescriptionStyleModel",
            "description_width": "",
            "_view_module": "@jupyter-widgets/base",
            "_model_module_version": "1.5.0",
            "_view_count": null,
            "_view_module_version": "1.2.0",
            "_model_module": "@jupyter-widgets/controls"
          }
        },
        "c535c00d3b82415ba33a392a6416f99f": {
          "model_module": "@jupyter-widgets/base",
          "model_name": "LayoutModel",
          "state": {
            "_view_name": "LayoutView",
            "grid_template_rows": null,
            "right": null,
            "justify_content": null,
            "_view_module": "@jupyter-widgets/base",
            "overflow": null,
            "_model_module_version": "1.2.0",
            "_view_count": null,
            "flex_flow": null,
            "width": null,
            "min_width": null,
            "border": null,
            "align_items": null,
            "bottom": null,
            "_model_module": "@jupyter-widgets/base",
            "top": null,
            "grid_column": null,
            "overflow_y": null,
            "overflow_x": null,
            "grid_auto_flow": null,
            "grid_area": null,
            "grid_template_columns": null,
            "flex": null,
            "_model_name": "LayoutModel",
            "justify_items": null,
            "grid_row": null,
            "max_height": null,
            "align_content": null,
            "visibility": null,
            "align_self": null,
            "height": null,
            "min_height": null,
            "padding": null,
            "grid_auto_rows": null,
            "grid_gap": null,
            "max_width": null,
            "order": null,
            "_view_module_version": "1.2.0",
            "grid_template_areas": null,
            "object_position": null,
            "object_fit": null,
            "grid_auto_columns": null,
            "margin": null,
            "display": null,
            "left": null
          }
        },
        "6db12e93908e44fd9e11f0273801c905": {
          "model_module": "@jupyter-widgets/controls",
          "model_name": "HBoxModel",
          "state": {
            "_view_name": "HBoxView",
            "_dom_classes": [],
            "_model_name": "HBoxModel",
            "_view_module": "@jupyter-widgets/controls",
            "_model_module_version": "1.5.0",
            "_view_count": null,
            "_view_module_version": "1.5.0",
            "box_style": "",
            "layout": "IPY_MODEL_ef5c5bd6821046ffbddf266a82d83f5d",
            "_model_module": "@jupyter-widgets/controls",
            "children": [
              "IPY_MODEL_5b13b63077a2439896187b3d6cd49e09",
              "IPY_MODEL_860350c40f174fb2944d42bb6649f24a"
            ]
          }
        },
        "ef5c5bd6821046ffbddf266a82d83f5d": {
          "model_module": "@jupyter-widgets/base",
          "model_name": "LayoutModel",
          "state": {
            "_view_name": "LayoutView",
            "grid_template_rows": null,
            "right": null,
            "justify_content": null,
            "_view_module": "@jupyter-widgets/base",
            "overflow": null,
            "_model_module_version": "1.2.0",
            "_view_count": null,
            "flex_flow": null,
            "width": null,
            "min_width": null,
            "border": null,
            "align_items": null,
            "bottom": null,
            "_model_module": "@jupyter-widgets/base",
            "top": null,
            "grid_column": null,
            "overflow_y": null,
            "overflow_x": null,
            "grid_auto_flow": null,
            "grid_area": null,
            "grid_template_columns": null,
            "flex": null,
            "_model_name": "LayoutModel",
            "justify_items": null,
            "grid_row": null,
            "max_height": null,
            "align_content": null,
            "visibility": null,
            "align_self": null,
            "height": null,
            "min_height": null,
            "padding": null,
            "grid_auto_rows": null,
            "grid_gap": null,
            "max_width": null,
            "order": null,
            "_view_module_version": "1.2.0",
            "grid_template_areas": null,
            "object_position": null,
            "object_fit": null,
            "grid_auto_columns": null,
            "margin": null,
            "display": null,
            "left": null
          }
        },
        "5b13b63077a2439896187b3d6cd49e09": {
          "model_module": "@jupyter-widgets/controls",
          "model_name": "IntProgressModel",
          "state": {
            "_view_name": "ProgressView",
            "style": "IPY_MODEL_d1a5deb1e3b242d182690abcec1644c9",
            "_dom_classes": [],
            "description": "",
            "_model_name": "IntProgressModel",
            "bar_style": "info",
            "max": 1,
            "_view_module": "@jupyter-widgets/controls",
            "_model_module_version": "1.5.0",
            "value": 1,
            "_view_count": null,
            "_view_module_version": "1.5.0",
            "orientation": "horizontal",
            "min": 0,
            "description_tooltip": null,
            "_model_module": "@jupyter-widgets/controls",
            "layout": "IPY_MODEL_d8f4901f848c403abc16e6368220da61"
          }
        },
        "860350c40f174fb2944d42bb6649f24a": {
          "model_module": "@jupyter-widgets/controls",
          "model_name": "HTMLModel",
          "state": {
            "_view_name": "HTMLView",
            "style": "IPY_MODEL_389d7415a20e49fbb1bbe706ad9df390",
            "_dom_classes": [],
            "description": "",
            "_model_name": "HTMLModel",
            "placeholder": "​",
            "_view_module": "@jupyter-widgets/controls",
            "_model_module_version": "1.5.0",
            "value": " 25000/0 [00:17&lt;00:00, 2246.95 examples/s]",
            "_view_count": null,
            "_view_module_version": "1.5.0",
            "description_tooltip": null,
            "_model_module": "@jupyter-widgets/controls",
            "layout": "IPY_MODEL_67d13aef6dd44a98bf70b162de666b79"
          }
        },
        "d1a5deb1e3b242d182690abcec1644c9": {
          "model_module": "@jupyter-widgets/controls",
          "model_name": "ProgressStyleModel",
          "state": {
            "_view_name": "StyleView",
            "_model_name": "ProgressStyleModel",
            "description_width": "initial",
            "_view_module": "@jupyter-widgets/base",
            "_model_module_version": "1.5.0",
            "_view_count": null,
            "_view_module_version": "1.2.0",
            "bar_color": null,
            "_model_module": "@jupyter-widgets/controls"
          }
        },
        "d8f4901f848c403abc16e6368220da61": {
          "model_module": "@jupyter-widgets/base",
          "model_name": "LayoutModel",
          "state": {
            "_view_name": "LayoutView",
            "grid_template_rows": null,
            "right": null,
            "justify_content": null,
            "_view_module": "@jupyter-widgets/base",
            "overflow": null,
            "_model_module_version": "1.2.0",
            "_view_count": null,
            "flex_flow": null,
            "width": null,
            "min_width": null,
            "border": null,
            "align_items": null,
            "bottom": null,
            "_model_module": "@jupyter-widgets/base",
            "top": null,
            "grid_column": null,
            "overflow_y": null,
            "overflow_x": null,
            "grid_auto_flow": null,
            "grid_area": null,
            "grid_template_columns": null,
            "flex": null,
            "_model_name": "LayoutModel",
            "justify_items": null,
            "grid_row": null,
            "max_height": null,
            "align_content": null,
            "visibility": null,
            "align_self": null,
            "height": null,
            "min_height": null,
            "padding": null,
            "grid_auto_rows": null,
            "grid_gap": null,
            "max_width": null,
            "order": null,
            "_view_module_version": "1.2.0",
            "grid_template_areas": null,
            "object_position": null,
            "object_fit": null,
            "grid_auto_columns": null,
            "margin": null,
            "display": null,
            "left": null
          }
        },
        "389d7415a20e49fbb1bbe706ad9df390": {
          "model_module": "@jupyter-widgets/controls",
          "model_name": "DescriptionStyleModel",
          "state": {
            "_view_name": "StyleView",
            "_model_name": "DescriptionStyleModel",
            "description_width": "",
            "_view_module": "@jupyter-widgets/base",
            "_model_module_version": "1.5.0",
            "_view_count": null,
            "_view_module_version": "1.2.0",
            "_model_module": "@jupyter-widgets/controls"
          }
        },
        "67d13aef6dd44a98bf70b162de666b79": {
          "model_module": "@jupyter-widgets/base",
          "model_name": "LayoutModel",
          "state": {
            "_view_name": "LayoutView",
            "grid_template_rows": null,
            "right": null,
            "justify_content": null,
            "_view_module": "@jupyter-widgets/base",
            "overflow": null,
            "_model_module_version": "1.2.0",
            "_view_count": null,
            "flex_flow": null,
            "width": null,
            "min_width": null,
            "border": null,
            "align_items": null,
            "bottom": null,
            "_model_module": "@jupyter-widgets/base",
            "top": null,
            "grid_column": null,
            "overflow_y": null,
            "overflow_x": null,
            "grid_auto_flow": null,
            "grid_area": null,
            "grid_template_columns": null,
            "flex": null,
            "_model_name": "LayoutModel",
            "justify_items": null,
            "grid_row": null,
            "max_height": null,
            "align_content": null,
            "visibility": null,
            "align_self": null,
            "height": null,
            "min_height": null,
            "padding": null,
            "grid_auto_rows": null,
            "grid_gap": null,
            "max_width": null,
            "order": null,
            "_view_module_version": "1.2.0",
            "grid_template_areas": null,
            "object_position": null,
            "object_fit": null,
            "grid_auto_columns": null,
            "margin": null,
            "display": null,
            "left": null
          }
        },
        "d75762f0eb144ed0aa090766e7eb0c62": {
          "model_module": "@jupyter-widgets/controls",
          "model_name": "HBoxModel",
          "state": {
            "_view_name": "HBoxView",
            "_dom_classes": [],
            "_model_name": "HBoxModel",
            "_view_module": "@jupyter-widgets/controls",
            "_model_module_version": "1.5.0",
            "_view_count": null,
            "_view_module_version": "1.5.0",
            "box_style": "",
            "layout": "IPY_MODEL_82b5b856dd144ff3afd2e538466ebeca",
            "_model_module": "@jupyter-widgets/controls",
            "children": [
              "IPY_MODEL_641e99d401cb40b8b682ec727c8a4eae",
              "IPY_MODEL_afb2150bbdc3421ca72ab203c31ed78c"
            ]
          }
        },
        "82b5b856dd144ff3afd2e538466ebeca": {
          "model_module": "@jupyter-widgets/base",
          "model_name": "LayoutModel",
          "state": {
            "_view_name": "LayoutView",
            "grid_template_rows": null,
            "right": null,
            "justify_content": null,
            "_view_module": "@jupyter-widgets/base",
            "overflow": null,
            "_model_module_version": "1.2.0",
            "_view_count": null,
            "flex_flow": null,
            "width": null,
            "min_width": null,
            "border": null,
            "align_items": null,
            "bottom": null,
            "_model_module": "@jupyter-widgets/base",
            "top": null,
            "grid_column": null,
            "overflow_y": null,
            "overflow_x": null,
            "grid_auto_flow": null,
            "grid_area": null,
            "grid_template_columns": null,
            "flex": null,
            "_model_name": "LayoutModel",
            "justify_items": null,
            "grid_row": null,
            "max_height": null,
            "align_content": null,
            "visibility": null,
            "align_self": null,
            "height": null,
            "min_height": null,
            "padding": null,
            "grid_auto_rows": null,
            "grid_gap": null,
            "max_width": null,
            "order": null,
            "_view_module_version": "1.2.0",
            "grid_template_areas": null,
            "object_position": null,
            "object_fit": null,
            "grid_auto_columns": null,
            "margin": null,
            "display": null,
            "left": null
          }
        },
        "641e99d401cb40b8b682ec727c8a4eae": {
          "model_module": "@jupyter-widgets/controls",
          "model_name": "IntProgressModel",
          "state": {
            "_view_name": "ProgressView",
            "style": "IPY_MODEL_72365ea4dbc34c4e8346e1416480cad3",
            "_dom_classes": [],
            "description": " 95%",
            "_model_name": "IntProgressModel",
            "bar_style": "danger",
            "max": 25000,
            "_view_module": "@jupyter-widgets/controls",
            "_model_module_version": "1.5.0",
            "value": 23661,
            "_view_count": null,
            "_view_module_version": "1.5.0",
            "orientation": "horizontal",
            "min": 0,
            "description_tooltip": null,
            "_model_module": "@jupyter-widgets/controls",
            "layout": "IPY_MODEL_8048e2395d804848962f2c9918ca1865"
          }
        },
        "afb2150bbdc3421ca72ab203c31ed78c": {
          "model_module": "@jupyter-widgets/controls",
          "model_name": "HTMLModel",
          "state": {
            "_view_name": "HTMLView",
            "style": "IPY_MODEL_9ea2ba28ef90476bb1688bfb336715f9",
            "_dom_classes": [],
            "description": "",
            "_model_name": "HTMLModel",
            "placeholder": "​",
            "_view_module": "@jupyter-widgets/controls",
            "_model_module_version": "1.5.0",
            "value": " 23661/25000 [00:00&lt;00:00, 85736.14 examples/s]",
            "_view_count": null,
            "_view_module_version": "1.5.0",
            "description_tooltip": null,
            "_model_module": "@jupyter-widgets/controls",
            "layout": "IPY_MODEL_426d81b334154cefb611e9fb3aac8a15"
          }
        },
        "72365ea4dbc34c4e8346e1416480cad3": {
          "model_module": "@jupyter-widgets/controls",
          "model_name": "ProgressStyleModel",
          "state": {
            "_view_name": "StyleView",
            "_model_name": "ProgressStyleModel",
            "description_width": "initial",
            "_view_module": "@jupyter-widgets/base",
            "_model_module_version": "1.5.0",
            "_view_count": null,
            "_view_module_version": "1.2.0",
            "bar_color": null,
            "_model_module": "@jupyter-widgets/controls"
          }
        },
        "8048e2395d804848962f2c9918ca1865": {
          "model_module": "@jupyter-widgets/base",
          "model_name": "LayoutModel",
          "state": {
            "_view_name": "LayoutView",
            "grid_template_rows": null,
            "right": null,
            "justify_content": null,
            "_view_module": "@jupyter-widgets/base",
            "overflow": null,
            "_model_module_version": "1.2.0",
            "_view_count": null,
            "flex_flow": null,
            "width": null,
            "min_width": null,
            "border": null,
            "align_items": null,
            "bottom": null,
            "_model_module": "@jupyter-widgets/base",
            "top": null,
            "grid_column": null,
            "overflow_y": null,
            "overflow_x": null,
            "grid_auto_flow": null,
            "grid_area": null,
            "grid_template_columns": null,
            "flex": null,
            "_model_name": "LayoutModel",
            "justify_items": null,
            "grid_row": null,
            "max_height": null,
            "align_content": null,
            "visibility": null,
            "align_self": null,
            "height": null,
            "min_height": null,
            "padding": null,
            "grid_auto_rows": null,
            "grid_gap": null,
            "max_width": null,
            "order": null,
            "_view_module_version": "1.2.0",
            "grid_template_areas": null,
            "object_position": null,
            "object_fit": null,
            "grid_auto_columns": null,
            "margin": null,
            "display": null,
            "left": null
          }
        },
        "9ea2ba28ef90476bb1688bfb336715f9": {
          "model_module": "@jupyter-widgets/controls",
          "model_name": "DescriptionStyleModel",
          "state": {
            "_view_name": "StyleView",
            "_model_name": "DescriptionStyleModel",
            "description_width": "",
            "_view_module": "@jupyter-widgets/base",
            "_model_module_version": "1.5.0",
            "_view_count": null,
            "_view_module_version": "1.2.0",
            "_model_module": "@jupyter-widgets/controls"
          }
        },
        "426d81b334154cefb611e9fb3aac8a15": {
          "model_module": "@jupyter-widgets/base",
          "model_name": "LayoutModel",
          "state": {
            "_view_name": "LayoutView",
            "grid_template_rows": null,
            "right": null,
            "justify_content": null,
            "_view_module": "@jupyter-widgets/base",
            "overflow": null,
            "_model_module_version": "1.2.0",
            "_view_count": null,
            "flex_flow": null,
            "width": null,
            "min_width": null,
            "border": null,
            "align_items": null,
            "bottom": null,
            "_model_module": "@jupyter-widgets/base",
            "top": null,
            "grid_column": null,
            "overflow_y": null,
            "overflow_x": null,
            "grid_auto_flow": null,
            "grid_area": null,
            "grid_template_columns": null,
            "flex": null,
            "_model_name": "LayoutModel",
            "justify_items": null,
            "grid_row": null,
            "max_height": null,
            "align_content": null,
            "visibility": null,
            "align_self": null,
            "height": null,
            "min_height": null,
            "padding": null,
            "grid_auto_rows": null,
            "grid_gap": null,
            "max_width": null,
            "order": null,
            "_view_module_version": "1.2.0",
            "grid_template_areas": null,
            "object_position": null,
            "object_fit": null,
            "grid_auto_columns": null,
            "margin": null,
            "display": null,
            "left": null
          }
        },
        "b2c19ab714374c628108180824a0c497": {
          "model_module": "@jupyter-widgets/controls",
          "model_name": "HBoxModel",
          "state": {
            "_view_name": "HBoxView",
            "_dom_classes": [],
            "_model_name": "HBoxModel",
            "_view_module": "@jupyter-widgets/controls",
            "_model_module_version": "1.5.0",
            "_view_count": null,
            "_view_module_version": "1.5.0",
            "box_style": "",
            "layout": "IPY_MODEL_bd8c2ec80f18499f8b5dbf121012f555",
            "_model_module": "@jupyter-widgets/controls",
            "children": [
              "IPY_MODEL_556930a68a194178bc2f0596eb175214",
              "IPY_MODEL_24677e48ff63431c8d0d628d2d9c0355"
            ]
          }
        },
        "bd8c2ec80f18499f8b5dbf121012f555": {
          "model_module": "@jupyter-widgets/base",
          "model_name": "LayoutModel",
          "state": {
            "_view_name": "LayoutView",
            "grid_template_rows": null,
            "right": null,
            "justify_content": null,
            "_view_module": "@jupyter-widgets/base",
            "overflow": null,
            "_model_module_version": "1.2.0",
            "_view_count": null,
            "flex_flow": null,
            "width": null,
            "min_width": null,
            "border": null,
            "align_items": null,
            "bottom": null,
            "_model_module": "@jupyter-widgets/base",
            "top": null,
            "grid_column": null,
            "overflow_y": null,
            "overflow_x": null,
            "grid_auto_flow": null,
            "grid_area": null,
            "grid_template_columns": null,
            "flex": null,
            "_model_name": "LayoutModel",
            "justify_items": null,
            "grid_row": null,
            "max_height": null,
            "align_content": null,
            "visibility": null,
            "align_self": null,
            "height": null,
            "min_height": null,
            "padding": null,
            "grid_auto_rows": null,
            "grid_gap": null,
            "max_width": null,
            "order": null,
            "_view_module_version": "1.2.0",
            "grid_template_areas": null,
            "object_position": null,
            "object_fit": null,
            "grid_auto_columns": null,
            "margin": null,
            "display": null,
            "left": null
          }
        },
        "556930a68a194178bc2f0596eb175214": {
          "model_module": "@jupyter-widgets/controls",
          "model_name": "IntProgressModel",
          "state": {
            "_view_name": "ProgressView",
            "style": "IPY_MODEL_d7c190cee7d148dc9565381714d077d9",
            "_dom_classes": [],
            "description": "",
            "_model_name": "IntProgressModel",
            "bar_style": "info",
            "max": 1,
            "_view_module": "@jupyter-widgets/controls",
            "_model_module_version": "1.5.0",
            "value": 1,
            "_view_count": null,
            "_view_module_version": "1.5.0",
            "orientation": "horizontal",
            "min": 0,
            "description_tooltip": null,
            "_model_module": "@jupyter-widgets/controls",
            "layout": "IPY_MODEL_a8c4151f62134295b9f6d69b604f1789"
          }
        },
        "24677e48ff63431c8d0d628d2d9c0355": {
          "model_module": "@jupyter-widgets/controls",
          "model_name": "HTMLModel",
          "state": {
            "_view_name": "HTMLView",
            "style": "IPY_MODEL_da99d2755fb34265994ff66df17d4d70",
            "_dom_classes": [],
            "description": "",
            "_model_name": "HTMLModel",
            "placeholder": "​",
            "_view_module": "@jupyter-widgets/controls",
            "_model_module_version": "1.5.0",
            "value": " 50000/0 [00:27&lt;00:00, 2313.83 examples/s]",
            "_view_count": null,
            "_view_module_version": "1.5.0",
            "description_tooltip": null,
            "_model_module": "@jupyter-widgets/controls",
            "layout": "IPY_MODEL_2811efbe635348278fd356717108ba16"
          }
        },
        "d7c190cee7d148dc9565381714d077d9": {
          "model_module": "@jupyter-widgets/controls",
          "model_name": "ProgressStyleModel",
          "state": {
            "_view_name": "StyleView",
            "_model_name": "ProgressStyleModel",
            "description_width": "initial",
            "_view_module": "@jupyter-widgets/base",
            "_model_module_version": "1.5.0",
            "_view_count": null,
            "_view_module_version": "1.2.0",
            "bar_color": null,
            "_model_module": "@jupyter-widgets/controls"
          }
        },
        "a8c4151f62134295b9f6d69b604f1789": {
          "model_module": "@jupyter-widgets/base",
          "model_name": "LayoutModel",
          "state": {
            "_view_name": "LayoutView",
            "grid_template_rows": null,
            "right": null,
            "justify_content": null,
            "_view_module": "@jupyter-widgets/base",
            "overflow": null,
            "_model_module_version": "1.2.0",
            "_view_count": null,
            "flex_flow": null,
            "width": null,
            "min_width": null,
            "border": null,
            "align_items": null,
            "bottom": null,
            "_model_module": "@jupyter-widgets/base",
            "top": null,
            "grid_column": null,
            "overflow_y": null,
            "overflow_x": null,
            "grid_auto_flow": null,
            "grid_area": null,
            "grid_template_columns": null,
            "flex": null,
            "_model_name": "LayoutModel",
            "justify_items": null,
            "grid_row": null,
            "max_height": null,
            "align_content": null,
            "visibility": null,
            "align_self": null,
            "height": null,
            "min_height": null,
            "padding": null,
            "grid_auto_rows": null,
            "grid_gap": null,
            "max_width": null,
            "order": null,
            "_view_module_version": "1.2.0",
            "grid_template_areas": null,
            "object_position": null,
            "object_fit": null,
            "grid_auto_columns": null,
            "margin": null,
            "display": null,
            "left": null
          }
        },
        "da99d2755fb34265994ff66df17d4d70": {
          "model_module": "@jupyter-widgets/controls",
          "model_name": "DescriptionStyleModel",
          "state": {
            "_view_name": "StyleView",
            "_model_name": "DescriptionStyleModel",
            "description_width": "",
            "_view_module": "@jupyter-widgets/base",
            "_model_module_version": "1.5.0",
            "_view_count": null,
            "_view_module_version": "1.2.0",
            "_model_module": "@jupyter-widgets/controls"
          }
        },
        "2811efbe635348278fd356717108ba16": {
          "model_module": "@jupyter-widgets/base",
          "model_name": "LayoutModel",
          "state": {
            "_view_name": "LayoutView",
            "grid_template_rows": null,
            "right": null,
            "justify_content": null,
            "_view_module": "@jupyter-widgets/base",
            "overflow": null,
            "_model_module_version": "1.2.0",
            "_view_count": null,
            "flex_flow": null,
            "width": null,
            "min_width": null,
            "border": null,
            "align_items": null,
            "bottom": null,
            "_model_module": "@jupyter-widgets/base",
            "top": null,
            "grid_column": null,
            "overflow_y": null,
            "overflow_x": null,
            "grid_auto_flow": null,
            "grid_area": null,
            "grid_template_columns": null,
            "flex": null,
            "_model_name": "LayoutModel",
            "justify_items": null,
            "grid_row": null,
            "max_height": null,
            "align_content": null,
            "visibility": null,
            "align_self": null,
            "height": null,
            "min_height": null,
            "padding": null,
            "grid_auto_rows": null,
            "grid_gap": null,
            "max_width": null,
            "order": null,
            "_view_module_version": "1.2.0",
            "grid_template_areas": null,
            "object_position": null,
            "object_fit": null,
            "grid_auto_columns": null,
            "margin": null,
            "display": null,
            "left": null
          }
        },
        "27faf52557e843fd9dfcb4bf078a00f1": {
          "model_module": "@jupyter-widgets/controls",
          "model_name": "HBoxModel",
          "state": {
            "_view_name": "HBoxView",
            "_dom_classes": [],
            "_model_name": "HBoxModel",
            "_view_module": "@jupyter-widgets/controls",
            "_model_module_version": "1.5.0",
            "_view_count": null,
            "_view_module_version": "1.5.0",
            "box_style": "",
            "layout": "IPY_MODEL_e2c2a81a01d14a8b9b35c391781e4ab8",
            "_model_module": "@jupyter-widgets/controls",
            "children": [
              "IPY_MODEL_c2e1c82b94ea453689f1e2080960c204",
              "IPY_MODEL_e2dd8080bca7414b9ce6c63cb361a460"
            ]
          }
        },
        "e2c2a81a01d14a8b9b35c391781e4ab8": {
          "model_module": "@jupyter-widgets/base",
          "model_name": "LayoutModel",
          "state": {
            "_view_name": "LayoutView",
            "grid_template_rows": null,
            "right": null,
            "justify_content": null,
            "_view_module": "@jupyter-widgets/base",
            "overflow": null,
            "_model_module_version": "1.2.0",
            "_view_count": null,
            "flex_flow": null,
            "width": null,
            "min_width": null,
            "border": null,
            "align_items": null,
            "bottom": null,
            "_model_module": "@jupyter-widgets/base",
            "top": null,
            "grid_column": null,
            "overflow_y": null,
            "overflow_x": null,
            "grid_auto_flow": null,
            "grid_area": null,
            "grid_template_columns": null,
            "flex": null,
            "_model_name": "LayoutModel",
            "justify_items": null,
            "grid_row": null,
            "max_height": null,
            "align_content": null,
            "visibility": null,
            "align_self": null,
            "height": null,
            "min_height": null,
            "padding": null,
            "grid_auto_rows": null,
            "grid_gap": null,
            "max_width": null,
            "order": null,
            "_view_module_version": "1.2.0",
            "grid_template_areas": null,
            "object_position": null,
            "object_fit": null,
            "grid_auto_columns": null,
            "margin": null,
            "display": null,
            "left": null
          }
        },
        "c2e1c82b94ea453689f1e2080960c204": {
          "model_module": "@jupyter-widgets/controls",
          "model_name": "IntProgressModel",
          "state": {
            "_view_name": "ProgressView",
            "style": "IPY_MODEL_1b11692028b7491da1423d238f731ace",
            "_dom_classes": [],
            "description": " 89%",
            "_model_name": "IntProgressModel",
            "bar_style": "danger",
            "max": 50000,
            "_view_module": "@jupyter-widgets/controls",
            "_model_module_version": "1.5.0",
            "value": 44565,
            "_view_count": null,
            "_view_module_version": "1.5.0",
            "orientation": "horizontal",
            "min": 0,
            "description_tooltip": null,
            "_model_module": "@jupyter-widgets/controls",
            "layout": "IPY_MODEL_62ebe16fb20947f0b9ee8183066846d0"
          }
        },
        "e2dd8080bca7414b9ce6c63cb361a460": {
          "model_module": "@jupyter-widgets/controls",
          "model_name": "HTMLModel",
          "state": {
            "_view_name": "HTMLView",
            "style": "IPY_MODEL_501e8515723643da9da3ef43efeeeef1",
            "_dom_classes": [],
            "description": "",
            "_model_name": "HTMLModel",
            "placeholder": "​",
            "_view_module": "@jupyter-widgets/controls",
            "_model_module_version": "1.5.0",
            "value": " 44565/50000 [00:00&lt;00:00, 85490.99 examples/s]",
            "_view_count": null,
            "_view_module_version": "1.5.0",
            "description_tooltip": null,
            "_model_module": "@jupyter-widgets/controls",
            "layout": "IPY_MODEL_b3c8470a035c4f939e3c56639a0dafd4"
          }
        },
        "1b11692028b7491da1423d238f731ace": {
          "model_module": "@jupyter-widgets/controls",
          "model_name": "ProgressStyleModel",
          "state": {
            "_view_name": "StyleView",
            "_model_name": "ProgressStyleModel",
            "description_width": "initial",
            "_view_module": "@jupyter-widgets/base",
            "_model_module_version": "1.5.0",
            "_view_count": null,
            "_view_module_version": "1.2.0",
            "bar_color": null,
            "_model_module": "@jupyter-widgets/controls"
          }
        },
        "62ebe16fb20947f0b9ee8183066846d0": {
          "model_module": "@jupyter-widgets/base",
          "model_name": "LayoutModel",
          "state": {
            "_view_name": "LayoutView",
            "grid_template_rows": null,
            "right": null,
            "justify_content": null,
            "_view_module": "@jupyter-widgets/base",
            "overflow": null,
            "_model_module_version": "1.2.0",
            "_view_count": null,
            "flex_flow": null,
            "width": null,
            "min_width": null,
            "border": null,
            "align_items": null,
            "bottom": null,
            "_model_module": "@jupyter-widgets/base",
            "top": null,
            "grid_column": null,
            "overflow_y": null,
            "overflow_x": null,
            "grid_auto_flow": null,
            "grid_area": null,
            "grid_template_columns": null,
            "flex": null,
            "_model_name": "LayoutModel",
            "justify_items": null,
            "grid_row": null,
            "max_height": null,
            "align_content": null,
            "visibility": null,
            "align_self": null,
            "height": null,
            "min_height": null,
            "padding": null,
            "grid_auto_rows": null,
            "grid_gap": null,
            "max_width": null,
            "order": null,
            "_view_module_version": "1.2.0",
            "grid_template_areas": null,
            "object_position": null,
            "object_fit": null,
            "grid_auto_columns": null,
            "margin": null,
            "display": null,
            "left": null
          }
        },
        "501e8515723643da9da3ef43efeeeef1": {
          "model_module": "@jupyter-widgets/controls",
          "model_name": "DescriptionStyleModel",
          "state": {
            "_view_name": "StyleView",
            "_model_name": "DescriptionStyleModel",
            "description_width": "",
            "_view_module": "@jupyter-widgets/base",
            "_model_module_version": "1.5.0",
            "_view_count": null,
            "_view_module_version": "1.2.0",
            "_model_module": "@jupyter-widgets/controls"
          }
        },
        "b3c8470a035c4f939e3c56639a0dafd4": {
          "model_module": "@jupyter-widgets/base",
          "model_name": "LayoutModel",
          "state": {
            "_view_name": "LayoutView",
            "grid_template_rows": null,
            "right": null,
            "justify_content": null,
            "_view_module": "@jupyter-widgets/base",
            "overflow": null,
            "_model_module_version": "1.2.0",
            "_view_count": null,
            "flex_flow": null,
            "width": null,
            "min_width": null,
            "border": null,
            "align_items": null,
            "bottom": null,
            "_model_module": "@jupyter-widgets/base",
            "top": null,
            "grid_column": null,
            "overflow_y": null,
            "overflow_x": null,
            "grid_auto_flow": null,
            "grid_area": null,
            "grid_template_columns": null,
            "flex": null,
            "_model_name": "LayoutModel",
            "justify_items": null,
            "grid_row": null,
            "max_height": null,
            "align_content": null,
            "visibility": null,
            "align_self": null,
            "height": null,
            "min_height": null,
            "padding": null,
            "grid_auto_rows": null,
            "grid_gap": null,
            "max_width": null,
            "order": null,
            "_view_module_version": "1.2.0",
            "grid_template_areas": null,
            "object_position": null,
            "object_fit": null,
            "grid_auto_columns": null,
            "margin": null,
            "display": null,
            "left": null
          }
        }
      }
    }
  },
  "cells": [
    {
      "cell_type": "markdown",
      "metadata": {
        "colab_type": "text",
        "id": "ceXcxnFyONlJ"
      },
      "source": [
        "# Recurrent Neural Network\n",
        "\n",
        "Feedforward neural nets are generally great for classification and regression problems. CNNs are great for complex image classification. But, activations for feedforward and CNNs flow only in one direction, from the input layers to the output layer. Since signals flow in only one direction, feedforward and convolutional nets are not ideal if patterns in data change over time. So, we need a different network architecture to work with data impacted by time.\n",
        "\n",
        "A **recurrent neural network** (RNN) looks a lot like a feedforward neural network, but it also has connections pointing backward. That is, output from one layer can act as input back into another layer earlier in the network. The capability of one layer to inform another layer earlier in the network means that a RNN has a built-in feedback loop mechanism that allows it to act as a forecasting engine. So, RNNs are great as forecasters because they naturally work well as data changes with time.\n",
        "\n",
        "A RNN remembers the past and its decisions are influenced by what it has learned from the past. Feedforward and convolutional networks only remember what they learn during training. For example, a feedforward image classifier learns what an image looks like during training and then uses that knowledge to classify other images in production. While RNNs learn similarly during training, they also remember what they learned so they can make good decisions as data changes."
      ]
    },
    {
      "cell_type": "markdown",
      "metadata": {
        "colab_type": "text",
        "id": "XrE3vQtJaXho"
      },
      "source": [
        "# Natural Language Processing\n",
        "\n",
        "A fascinating advancement in maching learning is the ability to teach a machine how to understand human communication. The area of machine learning that concentrates on understanding how humans communicate is natural language processing. Formally, **natural language processing** (NLP) is a field in machine learning concentrating on the ability of a computer to understand, analyze, manipulate, and potentially generate human language. RNNs are a very important variant of neural networks used heavily for NLP.\n",
        "\n",
        "RNNs are great for NLP because their standard input is a word instead of the entire sample taken as standard input by sequential nets like feedforward and convolutional networks. So, RNNs have the flexibility to work with varying lengths of sentences, which cannot be achieved by sequential neural networks because of thier fixed structure. RNNs can also share features learned across different positions of text because of their flexible structure.\n",
        "\n",
        "The feedback loop ability of a RNN allows it to parse each word of a sentence and run an activation on it. The activation value from the word can then be fed back to the layer that is parsing the sentence. So, the activation value informs the sentence of what was learned from each word! And, the cycle continues for each word until the network understands the sentence. In machine learning speak, a RNN treats each word of a sentence as a separate input occurring at a particular time 't' and uses the activation value for this input 't-1' as feedback to the orignal sentence."
      ]
    },
    {
      "cell_type": "markdown",
      "metadata": {
        "id": "czUM6uWXNuqh",
        "colab_type": "text"
      },
      "source": [
        "As usual, we need to set up the GPU for each notebook. So, click the **Runtime** tab, click **Change runtime type** from the drop-down menu, choose **GPU** from the Hardware Accelerator drop-down menu, and click **Save**."
      ]
    },
    {
      "cell_type": "code",
      "metadata": {
        "id": "jd501k9RNwpG",
        "colab_type": "code",
        "colab": {
          "base_uri": "https://localhost:8080/",
          "height": 35
        },
        "outputId": "4eff4bf4-cbcc-46a5-fbed-19f8963ad58e"
      },
      "source": [
        "import tensorflow as tf\n",
        "\n",
        "# display tf version and test if GPU is active\n",
        "\n",
        "tf.__version__, tf.test.gpu_device_name()"
      ],
      "execution_count": 2,
      "outputs": [
        {
          "output_type": "execute_result",
          "data": {
            "text/plain": [
              "('2.2.0', '/device:GPU:0')"
            ]
          },
          "metadata": {
            "tags": []
          },
          "execution_count": 2
        }
      ]
    },
    {
      "cell_type": "markdown",
      "metadata": {
        "colab_type": "text",
        "id": "dHQz25F3SIDt"
      },
      "source": [
        "# Generating Text with a Character-Level RNN Model\n",
        "\n",
        "As noted, RNNs are commonly used for natural language tasks. Typically, we can model natural language tasks by character or word. We begin by building a **character-level** model that generates text. Later, we build a word-level model that predicts sentiment."
      ]
    },
    {
      "cell_type": "markdown",
      "metadata": {
        "colab_type": "text",
        "id": "wYl0uth1Y6HE"
      },
      "source": [
        "## Get Some Data\n",
        "\n",
        "Let's get text from **The Adventures of Huckleberry Finn** by Mark Twain. We use the handy Keras **get_file()** function to get the data into memory."
      ]
    },
    {
      "cell_type": "code",
      "metadata": {
        "colab_type": "code",
        "id": "hTKdUJsOX3Cl",
        "colab": {
          "base_uri": "https://localhost:8080/",
          "height": 67
        },
        "outputId": "5d3de995-36b5-45e7-b997-8b823113c79c"
      },
      "source": [
        "from tensorflow import keras\n",
        "\n",
        "huck_finn = keras.utils.get_file('76-0.txt', 'https://www.gutenberg.org/files/76/76-0.txt')\n",
        "huck_finn"
      ],
      "execution_count": null,
      "outputs": [
        {
          "output_type": "stream",
          "text": [
            "Downloading data from https://www.gutenberg.org/files/76/76-0.txt\n",
            "622592/616320 [==============================] - 3s 5us/step\n"
          ],
          "name": "stdout"
        },
        {
          "output_type": "execute_result",
          "data": {
            "text/plain": [
              "'/root/.keras/datasets/76-0.txt'"
            ]
          },
          "metadata": {
            "tags": []
          },
          "execution_count": 3
        }
      ]
    },
    {
      "cell_type": "markdown",
      "metadata": {
        "colab_type": "text",
        "id": "nFsmQ2gkL_bW"
      },
      "source": [
        "If you want to explore other online books for NLP, a great place to start is **Project Gutenberg** at the following URL:\n",
        "\n",
        "https://www.gutenberg.org/"
      ]
    },
    {
      "cell_type": "markdown",
      "metadata": {
        "colab_type": "text",
        "id": "-LToNeM9ZyUE"
      },
      "source": [
        "# Read Data\n",
        "\n",
        "In NLP, a text document is often referred to as a corpus. A **corpus** is a collection of written texts, especially the entire works of a particular author or a body of writing on a particular subject."
      ]
    },
    {
      "cell_type": "code",
      "metadata": {
        "colab_type": "code",
        "id": "48JJ1O_iZ8Qq",
        "colab": {}
      },
      "source": [
        "# read corpus into memory\n",
        "\n",
        "with open(huck_finn) as f:\n",
        "  data = f.read()"
      ],
      "execution_count": null,
      "outputs": []
    },
    {
      "cell_type": "code",
      "metadata": {
        "colab_type": "code",
        "id": "lF5HDbeqal21",
        "colab": {
          "base_uri": "https://localhost:8080/",
          "height": 67
        },
        "outputId": "28ecf996-7adf-498c-de1b-bb117d118bc7"
      },
      "source": [
        "# display some text\n",
        "\n",
        "print (data[:104])"
      ],
      "execution_count": null,
      "outputs": [
        {
          "output_type": "stream",
          "text": [
            "﻿\n",
            "The Project Gutenberg EBook of Adventures of Huckleberry Finn, Complete\n",
            "by Mark Twain (Samuel Clemens)\n"
          ],
          "name": "stdout"
        }
      ]
    },
    {
      "cell_type": "markdown",
      "metadata": {
        "colab_type": "text",
        "id": "MC2N6OV8a4kL"
      },
      "source": [
        "# Clean the Data\n",
        "\n",
        "We want our model to learn based on the 'Huckleberry Finn' corpus. So, we must remove any information that is not part of the actual corpus content."
      ]
    },
    {
      "cell_type": "code",
      "metadata": {
        "colab_type": "code",
        "id": "fl-af9fCc4xn",
        "colab": {
          "base_uri": "https://localhost:8080/",
          "height": 34
        },
        "outputId": "37312179-2779-49f1-aaf0-c7b024bff32d"
      },
      "source": [
        "# get the length of the dataset\n",
        "\n",
        "len(data)"
      ],
      "execution_count": null,
      "outputs": [
        {
          "output_type": "execute_result",
          "data": {
            "text/plain": [
              "593960"
            ]
          },
          "metadata": {
            "tags": []
          },
          "execution_count": 6
        }
      ]
    },
    {
      "cell_type": "markdown",
      "metadata": {
        "colab_type": "text",
        "id": "GvgEf9XscUq3"
      },
      "source": [
        "We need the length of the dataset to know where to begin shaving off unecessary information from the end. At the end of this dataset there is information added that has nothing to do with the corpus."
      ]
    },
    {
      "cell_type": "markdown",
      "metadata": {
        "colab_type": "text",
        "id": "wgZp2P1-nA5e"
      },
      "source": [
        "## Slice Off Unecessary Beginning Text\n",
        "\n",
        "By looking at the data, we notice that there is unecessary information added before the text of the corpus actually begins. We want to remove it so our model can train solely on the corpus text."
      ]
    },
    {
      "cell_type": "code",
      "metadata": {
        "colab_type": "code",
        "id": "m8DnWJpna4r7",
        "colab": {}
      },
      "source": [
        "# slice off beginning text that we don't need\n",
        "\n",
        "data = data[8179:]"
      ],
      "execution_count": null,
      "outputs": []
    },
    {
      "cell_type": "markdown",
      "metadata": {
        "colab_type": "text",
        "id": "aDTe-uAAgqdZ"
      },
      "source": [
        "Keep in mind that it took us a lot of trial and error experimentation to find the correct place to slice off the unneeded text. So, you need a lot of patience for this task."
      ]
    },
    {
      "cell_type": "code",
      "metadata": {
        "colab_type": "code",
        "id": "4Zi_aI0ZeFCw",
        "colab": {
          "base_uri": "https://localhost:8080/",
          "height": 84
        },
        "outputId": "7d7ad993-cd25-4914-f127-ff2e9fb9e1d1"
      },
      "source": [
        "# show actual beginning of book\n",
        "\n",
        "print (data[:150])"
      ],
      "execution_count": null,
      "outputs": [
        {
          "output_type": "stream",
          "text": [
            "EXPLANATORY\n",
            "\n",
            "IN this book a number of dialects are used, to wit:  the Missouri negro\n",
            "dialect; the extremest form of the backwoods Southwestern dialect\n"
          ],
          "name": "stdout"
        }
      ]
    },
    {
      "cell_type": "code",
      "metadata": {
        "colab_type": "code",
        "id": "kthnEPqxgY7A",
        "colab": {
          "base_uri": "https://localhost:8080/",
          "height": 34
        },
        "outputId": "10413b80-5fc6-4469-98ed-bc531e7dd979"
      },
      "source": [
        "# get length of new dataset\n",
        "\n",
        "size = len(data)\n",
        "size"
      ],
      "execution_count": null,
      "outputs": [
        {
          "output_type": "execute_result",
          "data": {
            "text/plain": [
              "585781"
            ]
          },
          "metadata": {
            "tags": []
          },
          "execution_count": 9
        }
      ]
    },
    {
      "cell_type": "markdown",
      "metadata": {
        "colab_type": "text",
        "id": "lz3h77FbnLb8"
      },
      "source": [
        "## Find Unecessary Ending Text\n",
        "\n",
        "By looking at the end of the dataset, we notice that there is unecessary information added. We want to remove it so our model can train solely on the corpus text."
      ]
    },
    {
      "cell_type": "code",
      "metadata": {
        "colab_type": "code",
        "id": "lSeqB1WEeaz5",
        "colab": {
          "base_uri": "https://localhost:8080/",
          "height": 54
        },
        "outputId": "fb68b0c3-2f0e-4e04-da84-99b32c2ec318"
      },
      "source": [
        "# find ending text that we don't need \n",
        "\n",
        "end = data[567127:]\n",
        "end"
      ],
      "execution_count": null,
      "outputs": [
        {
          "output_type": "execute_result",
          "data": {
            "text/plain": [
              "\"\\n\\n\\n\\n\\n\\nEnd of the Project Gutenberg EBook of Adventures of Huckleberry Finn,\\nComplete, by Mark Twain (Samuel Clemens)\\n\\n*** END OF THIS PROJECT GUTENBERG EBOOK HUCKLEBERRY FINN ***\\n\\n***** This file should be named 76-0.htm or 76-0.zip ***** This and\\nall associated files of various formats will be found in:\\nhttp://www.gutenberg.net/7/76/\\n\\nProduced by David Widger. Previous editions produced by Ron Burkey and\\nInternet Wiretap\\n\\nUpdated editions will replace the previous one--the old editions will be\\nrenamed.\\n\\nCreating the works from public domain print editions means that no one\\nowns a United States copyright in these works, so the Foundation (and\\nyou!) can copy and distribute it in the United States without permission\\nand without paying copyright royalties. Special rules, set forth in\\nthe General Terms of Use part of this license, apply to copying and\\ndistributing Project Gutenberg-tm electronic works to protect the\\nPROJECT GUTENBERG-tm concept and trademark. Project Gutenberg is a\\nregistered trademark, and may not be used if you charge for the eBooks,\\nunless you receive specific permission. If you do not charge anything\\nfor copies of this eBook, complying with the rules is very easy. You\\nmay use this eBook for nearly any purpose such as creation of derivative\\nworks, reports, performances and research. They may be modified and\\nprinted and given away--you may do practically ANYTHING with public\\ndomain eBooks. Redistribution is subject to the trademark license,\\nespecially commercial redistribution.\\n\\n*** START: FULL LICENSE ***\\n\\nTHE FULL PROJECT GUTENBERG LICENSE PLEASE READ THIS BEFORE YOU\\nDISTRIBUTE OR USE THIS WORK\\n\\nTo protect the Project Gutenberg-tm mission of promoting the free\\ndistribution of electronic works, by using or distributing this work\\n(or any other work associated in any way with the phrase “Project\\nGutenberg”), you agree to comply with all the terms of the Full\\nProject Gutenberg-tm License (available with this file or online at\\nhttp://gutenberg.net/license).\\n\\nSection 1. General Terms of Use and Redistributing Project Gutenberg-tm\\nelectronic works\\n\\n1.A. By reading or using any part of this Project Gutenberg-tm\\nelectronic work, you indicate that you have read, understand, agree\\nto and accept all the terms of this license and intellectual property\\n(trademark/copyright) agreement. If you do not agree to abide by all the\\nterms of this agreement, you must cease using and return or destroy all\\ncopies of Project Gutenberg-tm electronic works in your possession.\\nIf you paid a fee for obtaining a copy of or access to a Project\\nGutenberg-tm electronic work and you do not agree to be bound by the\\nterms of this agreement, you may obtain a refund from the person or\\nentity to whom you paid the fee as set forth in paragraph 1.E.8.\\n\\n1.B. “Project Gutenberg” is a registered trademark. It may only be used\\non or associated in any way with an electronic work by people who agree\\nto be bound by the terms of this agreement. There are a few things that\\nyou can do with most Project Gutenberg-tm electronic works even without\\ncomplying with the full terms of this agreement. See paragraph 1.C\\nbelow. There are a lot of things you can do with Project Gutenberg-tm\\nelectronic works if you follow the terms of this agreement and help\\npreserve free future access to Project Gutenberg-tm electronic works.\\nSee paragraph 1.E below.\\n\\n1.C. The Project Gutenberg Literary Archive Foundation (“the Foundation”\\n or PGLAF), owns a compilation copyright in the collection of Project\\nGutenberg-tm electronic works. Nearly all the individual works in\\nthe collection are in the public domain in the United States. If an\\nindividual work is in the public domain in the United States and you\\nare located in the United States, we do not claim a right to prevent\\nyou from copying, distributing, performing, displaying or creating\\nderivative works based on the work as long as all references to Project\\nGutenberg are removed. Of course, we hope that you will support the\\nProject Gutenberg-tm mission of promoting free access to electronic\\nworks by freely sharing Project Gutenberg-tm works in compliance with\\nthe terms of this agreement for keeping the Project Gutenberg-tm name\\nassociated with the work. You can easily comply with the terms of this\\nagreement by keeping this work in the same format with its attached\\nfull Project Gutenberg-tm License when you share it without charge with\\nothers.\\n\\n1.D. The copyright laws of the place where you are located also govern\\nwhat you can do with this work. Copyright laws in most countries are in\\na constant state of change. If you are outside the United States, check\\nthe laws of your country in addition to the terms of this agreement\\nbefore downloading, copying, displaying, performing, distributing\\nor creating derivative works based on this work or any other Project\\nGutenberg-tm work. The Foundation makes no representations concerning\\nthe copyright status of any work in any country outside the United\\nStates.\\n\\n1.E. Unless you have removed all references to Project Gutenberg:\\n\\n1.E.1. The following sentence, with active links to, or other immediate\\naccess to, the full Project Gutenberg-tm License must appear prominently\\nwhenever any copy of a Project Gutenberg-tm work (any work on which the\\nphrase “Project Gutenberg” appears, or with which the phrase “Project\\nGutenberg” is associated) is accessed, displayed, performed, viewed,\\ncopied or distributed:\\n\\nThis eBook is for the use of anyone anywhere at no cost and with almost\\nno restrictions whatsoever. You may copy it, give it away or re-use\\nit under the terms of the Project Gutenberg License included with this\\neBook or online at www.gutenberg.net\\n\\n1.E.2. If an individual Project Gutenberg-tm electronic work is derived\\nfrom the public domain (does not contain a notice indicating that it is\\nposted with permission of the copyright holder), the work can be copied\\nand distributed to anyone in the United States without paying any fees\\nor charges. If you are redistributing or providing access to a work with\\nthe phrase “Project Gutenberg” associated with or appearing on the work,\\nyou must comply either with the requirements of paragraphs 1.E.1 through\\n1.E.7 or obtain permission for the use of the work and the Project\\nGutenberg-tm trademark as set forth in paragraphs 1.E.8 or 1.E.9.\\n\\n1.E.3. If an individual Project Gutenberg-tm electronic work is posted\\nwith the permission of the copyright holder, your use and distribution\\nmust comply with both paragraphs 1.E.1 through 1.E.7 and any additional\\nterms imposed by the copyright holder. Additional terms will be linked\\nto the Project Gutenberg-tm License for all works posted with the\\npermission of the copyright holder found at the beginning of this work.\\n\\n1.E.4. Do not unlink or detach or remove the full Project Gutenberg-tm\\nLicense terms from this work, or any files containing a part of this\\nwork or any other work associated with Project Gutenberg-tm.\\n\\n1.E.5. Do not copy, display, perform, distribute or redistribute\\nthis electronic work, or any part of this electronic work, without\\nprominently displaying the sentence set forth in paragraph 1.E.1 with\\nactive links or immediate access to the full terms of the Project\\nGutenberg-tm License.\\n\\n1.E.6. You may convert to and distribute this work in any binary,\\ncompressed, marked up, nonproprietary or proprietary form, including any\\nword processing or hypertext form. However, if you provide access to or\\ndistribute copies of a Project Gutenberg-tm work in a format other\\nthan “Plain Vanilla ASCII” or other format used in the official\\nversion posted on the official Project Gutenberg-tm web site\\n(www.gutenberg.net), you must, at no additional cost, fee or expense\\nto the user, provide a copy, a means of exporting a copy, or a means\\nof obtaining a copy upon request, of the work in its original “Plain\\nVanilla ASCII” or other form. Any alternate format must include the full\\nProject Gutenberg-tm License as specified in paragraph 1.E.1.\\n\\n1.E.7. Do not charge a fee for access to, viewing, displaying,\\nperforming, copying or distributing any Project Gutenberg-tm works\\nunless you comply with paragraph 1.E.8 or 1.E.9.\\n\\n1.E.8. You may charge a reasonable fee for copies of or providing access\\nto or distributing Project Gutenberg-tm electronic works provided that\\n\\n- You pay a royalty fee of 20% of the gross profits you derive from\\nthe use of Project Gutenberg-tm works calculated using the method you\\nalready use to calculate your applicable taxes. The fee is owed to the\\nowner of the Project Gutenberg-tm trademark, but he has agreed to donate\\nroyalties under this paragraph to the Project Gutenberg Literary Archive\\nFoundation. Royalty payments must be paid within 60 days following each\\ndate on which you prepare (or are legally required to prepare) your\\nperiodic tax returns. Royalty payments should be clearly marked as such\\nand sent to the Project Gutenberg Literary Archive Foundation at the\\naddress specified in Section 4, “Information about donations to the\\nProject Gutenberg Literary Archive Foundation.”\\n\\n- You provide a full refund of any money paid by a user who notifies you\\nin writing (or by e-mail) within 30 days of receipt that s/he does not\\nagree to the terms of the full Project Gutenberg-tm License. You\\nmust require such a user to return or destroy all copies of the works\\npossessed in a physical medium and discontinue all use of and all access\\nto other copies of Project Gutenberg-tm works.\\n\\n- You provide, in accordance with paragraph 1.F.3, a full refund of\\nany money paid for a work or a replacement copy, if a defect in the\\nelectronic work is discovered and reported to you within 90 days of\\nreceipt of the work.\\n\\n- You comply with all other terms of this agreement for free\\ndistribution of Project Gutenberg-tm works.\\n\\n1.E.9. If you wish to charge a fee or distribute a Project Gutenberg-tm\\nelectronic work or group of works on different terms than are set forth\\nin this agreement, you must obtain permission in writing from both the\\nProject Gutenberg Literary Archive Foundation and Michael Hart, the\\nowner of the Project Gutenberg-tm trademark. Contact the Foundation as\\nset forth in Section 3 below.\\n\\n1.F.\\n\\n1.F.1. Project Gutenberg volunteers and employees expend considerable\\neffort to identify, do copyright research on, transcribe and proofread\\npublic domain works in creating the Project Gutenberg-tm collection.\\nDespite these efforts, Project Gutenberg-tm electronic works, and the\\nmedium on which they may be stored, may contain “Defects,” such as, but\\nnot limited to, incomplete, inaccurate or corrupt data, transcription\\nerrors, a copyright or other intellectual property infringement, a\\ndefective or damaged disk or other medium, a computer virus, or computer\\ncodes that damage or cannot be read by your equipment.\\n\\n1.F.2. LIMITED WARRANTY, DISCLAIMER OF DAMAGES - Except for the “Right\\nof Replacement or Refund” described in paragraph 1.F.3, the Project\\nGutenberg Literary Archive Foundation, the owner of the Project\\nGutenberg-tm trademark, and any other party distributing a Project\\nGutenberg-tm electronic work under this agreement, disclaim all\\nliability to you for damages, costs and expenses, including legal fees.\\nYOU AGREE THAT YOU HAVE NO REMEDIES FOR NEGLIGENCE, STRICT LIABILITY,\\nBREACH OF WARRANTY OR BREACH OF CONTRACT EXCEPT THOSE PROVIDED IN\\nPARAGRAPH F3. YOU AGREE THAT THE FOUNDATION, THE TRADEMARK OWNER, AND\\nANY DISTRIBUTOR UNDER THIS AGREEMENT WILL NOT BE LIABLE TO YOU FOR\\nACTUAL, DIRECT, INDIRECT, CONSEQUENTIAL, PUNITIVE OR INCIDENTAL DAMAGES\\nEVEN IF YOU GIVE NOTICE OF THE POSSIBILITY OF SUCH DAMAGE.\\n\\n1.F.3. LIMITED RIGHT OF REPLACEMENT OR REFUND - If you discover a defect\\nin this electronic work within 90 days of receiving it, you can receive\\na refund of the money (if any) you paid for it by sending a written\\nexplanation to the person you received the work from. If you received\\nthe work on a physical medium, you must return the medium with your\\nwritten explanation. The person or entity that provided you with the\\ndefective work may elect to provide a replacement copy in lieu of a\\nrefund. If you received the work electronically, the person or entity\\nproviding it to you may choose to give you a second opportunity to\\nreceive the work electronically in lieu of a refund. If the second copy\\nis also defective, you may demand a refund in writing without further\\nopportunities to fix the problem.\\n\\n1.F.4. Except for the limited right of replacement or refund set forth\\nin paragraph 1.F.3, this work is provided to you 'AS-IS' WITH NO OTHER\\nWARRANTIES OF ANY KIND, EXPRESS OR IMPLIED, INCLUDING BUT NOT LIMITED TO\\nWARRANTIES OF MERCHANTIBILITY OR FITNESS FOR ANY PURPOSE.\\n\\n1.F.5. Some states do not allow disclaimers of certain implied\\nwarranties or the exclusion or limitation of certain types of damages.\\nIf any disclaimer or limitation set forth in this agreement violates the\\nlaw of the state applicable to this agreement, the agreement shall be\\ninterpreted to make the maximum disclaimer or limitation permitted by\\nthe applicable state law. The invalidity or unenforceability of any\\nprovision of this agreement shall not void the remaining provisions.\\n\\n1.F.6. INDEMNITY - You agree to indemnify and hold the Foundation,\\nthe trademark owner, any agent or employee of the Foundation, anyone\\nproviding copies of Project Gutenberg-tm electronic works in accordance\\nwith this agreement, and any volunteers associated with the production,\\npromotion and distribution of Project Gutenberg-tm electronic works,\\nharmless from all liability, costs and expenses, including legal fees,\\nthat arise directly or indirectly from any of the following which you do\\nor cause to occur: (a) distribution of this or any Project Gutenberg-tm\\nwork, (b) alteration, modification, or additions or deletions to any\\nProject Gutenberg-tm work, and (c) any Defect you cause.\\n\\nSection 2. Information about the Mission of Project Gutenberg-tm\\n\\nProject Gutenberg-tm is synonymous with the free distribution of\\nelectronic works in formats readable by the widest variety of computers\\nincluding obsolete, old, middle-aged and new computers. It exists\\nbecause of the efforts of hundreds of volunteers and donations from\\npeople in all walks of life.\\n\\nVolunteers and financial support to provide volunteers with the\\nassistance they need, is critical to reaching Project Gutenberg-tm's\\ngoals and ensuring that the Project Gutenberg-tm collection will remain\\nfreely available for generations to come. In 2001, the Project Gutenberg\\nLiterary Archive Foundation was created to provide a secure and\\npermanent future for Project Gutenberg-tm and future generations. To\\nlearn more about the Project Gutenberg Literary Archive Foundation and\\nhow your efforts and donations can help, see Sections 3 and 4 and the\\nFoundation web page at http://www.pglaf.org.\\n\\nSection 3. Information about the Project Gutenberg Literary Archive\\nFoundation\\n\\nThe Project Gutenberg Literary Archive Foundation is a non profit\\n501(c)(3) educational corporation organized under the laws of the state\\nof Mississippi and granted tax exempt status by the Internal Revenue\\nService. The Foundation's EIN or federal tax identification number\\nis 64-6221541. Its 501(c)(3) letter is posted at\\nhttp://pglaf.org/fundraising. Contributions to the Project Gutenberg\\nLiterary Archive Foundation are tax deductible to the full extent\\npermitted by U.S. federal laws and your state's laws.\\n\\nThe Foundation's principal office is located at 4557 Melan Dr. S.\\nFairbanks, AK, 99712., but its volunteers and employees are scattered\\nthroughout numerous locations. Its business office is located at\\n809 North 1500 West, Salt Lake City, UT 84116, (801) 596-1887,\\nemail business@pglaf.org. Email contact links and up to date contact\\ninformation can be found at the Foundation's web site and official page\\nat http://pglaf.org\\n\\nFor additional contact information: Dr. Gregory B. Newby Chief Executive\\nand Director gbnewby@pglaf.org\\n\\nSection 4. Information about Donations to the Project Gutenberg Literary\\nArchive Foundation\\n\\nProject Gutenberg-tm depends upon and cannot survive without wide spread\\npublic support and donations to carry out its mission of increasing\\nthe number of public domain and licensed works that can be freely\\ndistributed in machine readable form accessible by the widest array\\nof equipment including outdated equipment. Many small donations ($1 to\\n$5,000) are particularly important to maintaining tax exempt status with\\nthe IRS.\\n\\nThe Foundation is committed to complying with the laws regulating\\ncharities and charitable donations in all 50 states of the United\\nStates. Compliance requirements are not uniform and it takes a\\nconsiderable effort, much paperwork and many fees to meet and keep up\\nwith these requirements. We do not solicit donations in locations\\nwhere we have not received written confirmation of compliance. To SEND\\nDONATIONS or determine the status of compliance for any particular state\\nvisit http://pglaf.org\\n\\nWhile we cannot and do not solicit contributions from states where we\\nhave not met the solicitation requirements, we know of no prohibition\\nagainst accepting unsolicited donations from donors in such states who\\napproach us with offers to donate.\\n\\nInternational donations are gratefully accepted, but we cannot make any\\nstatements concerning tax treatment of donations received from outside\\nthe United States. U.S. laws alone swamp our small staff.\\n\\nPlease check the Project Gutenberg Web pages for current donation\\nmethods and addresses. Donations are accepted in a number of other ways\\nincluding including checks, online payments and credit card donations.\\nTo donate, please visit: http://pglaf.org/donate\\n\\nSection 5. General Information About Project Gutenberg-tm electronic\\nworks.\\n\\nProfessor Michael S. Hart is the originator of the Project Gutenberg-tm\\nconcept of a library of electronic works that could be freely shared\\nwith anyone. For thirty years, he produced and distributed Project\\nGutenberg-tm eBooks with only a loose network of volunteer support.\\n\\nProject Gutenberg-tm eBooks are often created from several printed\\neditions, all of which are confirmed as Public Domain in the U.S. unless\\na copyright notice is included. Thus, we do not necessarily keep eBooks\\nin compliance with any particular paper edition.\\n\\nMost people start at our Web site which has the main PG search facility:\\n\\nhttp://www.gutenberg.net\\n\\nThis Web site includes information about Project Gutenberg-tm, including\\nhow to make donations to the Project Gutenberg Literary Archive\\nFoundation, how to help produce our new eBooks, and how to subscribe to\\nour email newsletter to hear about new eBooks.\\n\\n\\n\""
            ]
          },
          "metadata": {
            "tags": []
          },
          "execution_count": 10
        }
      ]
    },
    {
      "cell_type": "markdown",
      "metadata": {
        "colab_type": "text",
        "id": "vodwJEfAne9t"
      },
      "source": [
        "## Slice Off Unecessary Ending Text"
      ]
    },
    {
      "cell_type": "code",
      "metadata": {
        "colab_type": "code",
        "id": "yNrRfI_IejAp",
        "colab": {}
      },
      "source": [
        "# slice off ending text that we don't need\n",
        "\n",
        "corpus = data[0:567127]"
      ],
      "execution_count": null,
      "outputs": []
    },
    {
      "cell_type": "markdown",
      "metadata": {
        "colab_type": "text",
        "id": "tRh5hmD8hDjO"
      },
      "source": [
        "This task took even more trial and error experimentation to find the correct place to slice off the unneeded text. Just keep this in mind when working with text documents."
      ]
    },
    {
      "cell_type": "code",
      "metadata": {
        "colab_type": "code",
        "id": "49jnfuOUnwnt",
        "colab": {
          "base_uri": "https://localhost:8080/",
          "height": 84
        },
        "outputId": "bb2b8837-7022-4108-c3bf-dabbdd1f847b"
      },
      "source": [
        "# show beginning of dataset\n",
        "\n",
        "print (corpus[:150])"
      ],
      "execution_count": null,
      "outputs": [
        {
          "output_type": "stream",
          "text": [
            "EXPLANATORY\n",
            "\n",
            "IN this book a number of dialects are used, to wit:  the Missouri negro\n",
            "dialect; the extremest form of the backwoods Southwestern dialect\n"
          ],
          "name": "stdout"
        }
      ]
    },
    {
      "cell_type": "code",
      "metadata": {
        "colab_type": "code",
        "id": "B1rLjyCYn2r-",
        "colab": {
          "base_uri": "https://localhost:8080/",
          "height": 84
        },
        "outputId": "29fceacc-ea6a-426b-b8cd-6e0136a5872d"
      },
      "source": [
        "# show end of dataset\n",
        "\n",
        "print (corpus[567000:])"
      ],
      "execution_count": null,
      "outputs": [
        {
          "output_type": "stream",
          "text": [
            " Sally she's going to adopt me\n",
            "and sivilize me, and I can't stand it.  I been there before.\n",
            "\n",
            "THE END. YOURS TRULY, _HUCK FINN_.\n"
          ],
          "name": "stdout"
        }
      ]
    },
    {
      "cell_type": "code",
      "metadata": {
        "colab_type": "code",
        "id": "_QszYOWw-CU4",
        "colab": {
          "base_uri": "https://localhost:8080/",
          "height": 34
        },
        "outputId": "eace7d96-de4f-4ade-bce7-f7fc79058d4a"
      },
      "source": [
        "final_size = len(corpus)\n",
        "final_size"
      ],
      "execution_count": null,
      "outputs": [
        {
          "output_type": "execute_result",
          "data": {
            "text/plain": [
              "567127"
            ]
          },
          "metadata": {
            "tags": []
          },
          "execution_count": 14
        }
      ]
    },
    {
      "cell_type": "markdown",
      "metadata": {
        "colab_type": "text",
        "id": "R32LWCdJBBx9"
      },
      "source": [
        "Whew! With quite a bit of trail and error meanderings, we are able to get just the text of the book. To keep the narrative in tact, we must keep Mr. Twain's punctuation. So, we won't clean that out of the corpus. However, we do have a nasty character to deal with! "
      ]
    },
    {
      "cell_type": "markdown",
      "metadata": {
        "colab_type": "text",
        "id": "Rg0q25Z7codI"
      },
      "source": [
        "## Remove the Nasty 'A0' Character\n",
        "\n",
        "Even if we don't see it, we have to fix non-breaking space characters that tend to end up in Python reStructuredText .txt files. **reStructuredText** is a file format for textual data used primarily in the Python programming language community for technical documentation. The troublesome non-breaking space character is the Unicode character code **A0**. We typically see it as '\\xa0'. This character is definitely not part of Mark Twain's book!\n",
        "\n",
        "Luckily, it is easy to remove it, so let's do it now:"
      ]
    },
    {
      "cell_type": "code",
      "metadata": {
        "colab_type": "code",
        "id": "MCgWRuH09Waa",
        "colab": {}
      },
      "source": [
        "corpus = corpus.replace(u'\\xa0', u' ')"
      ],
      "execution_count": null,
      "outputs": []
    },
    {
      "cell_type": "markdown",
      "metadata": {
        "colab_type": "text",
        "id": "o396xt7BdYAP"
      },
      "source": [
        "# Save the Data\n",
        "\n",
        "Let's save the cleansed data in case we want to explore it in some other notebook in the future. We must first mount the drive."
      ]
    },
    {
      "cell_type": "code",
      "metadata": {
        "colab_type": "code",
        "id": "vrXeUUZQdfol",
        "colab": {
          "base_uri": "https://localhost:8080/",
          "height": 121
        },
        "outputId": "a85a6d74-3e69-4e3b-afc7-8171e5b04c47"
      },
      "source": [
        "from google.colab import drive\n",
        "drive.mount('/content/drive')"
      ],
      "execution_count": null,
      "outputs": [
        {
          "output_type": "stream",
          "text": [
            "Go to this URL in a browser: https://accounts.google.com/o/oauth2/auth?client_id=947318989803-6bn6qk8qdgf4n4g3pfee6491hc0brc4i.apps.googleusercontent.com&redirect_uri=urn%3aietf%3awg%3aoauth%3a2.0%3aoob&response_type=code&scope=email%20https%3a%2f%2fwww.googleapis.com%2fauth%2fdocs.test%20https%3a%2f%2fwww.googleapis.com%2fauth%2fdrive%20https%3a%2f%2fwww.googleapis.com%2fauth%2fdrive.photos.readonly%20https%3a%2f%2fwww.googleapis.com%2fauth%2fpeopleapi.readonly\n",
            "\n",
            "Enter your authorization code:\n",
            "··········\n",
            "Mounted at /content/drive\n"
          ],
          "name": "stdout"
        }
      ]
    },
    {
      "cell_type": "markdown",
      "metadata": {
        "colab_type": "text",
        "id": "5x0x6R3gny9h"
      },
      "source": [
        "Write the full text of the corpus to Google Drive: "
      ]
    },
    {
      "cell_type": "code",
      "metadata": {
        "colab_type": "code",
        "id": "DyzlmpWyi0lv",
        "colab": {}
      },
      "source": [
        "with open('/content/drive/My Drive/huck_finn.txt', 'w') as f:\n",
        "  f.write(corpus)"
      ],
      "execution_count": null,
      "outputs": []
    },
    {
      "cell_type": "markdown",
      "metadata": {
        "colab_type": "text",
        "id": "RmhpCF2hn-1o"
      },
      "source": [
        "Let's verify that the corpus was saved properly. First, open the file from Google Drive and assign it to a variable. Next, display some text."
      ]
    },
    {
      "cell_type": "code",
      "metadata": {
        "colab_type": "code",
        "id": "KRMxqDNndltV",
        "colab": {}
      },
      "source": [
        "with open('/content/drive/My Drive/huck_finn.txt', 'r') as f:\n",
        "  a = f.read()"
      ],
      "execution_count": null,
      "outputs": []
    },
    {
      "cell_type": "code",
      "metadata": {
        "colab_type": "code",
        "id": "5Of9TZ4r6FdN",
        "colab": {
          "base_uri": "https://localhost:8080/",
          "height": 202
        },
        "outputId": "4538c848-c3ba-494f-9242-38a8c0df6bb3"
      },
      "source": [
        "br = '\\n'\n",
        "\n",
        "print (a[:104], br)\n",
        "print (corpus[567000:], br)\n",
        "print (len(a))"
      ],
      "execution_count": null,
      "outputs": [
        {
          "output_type": "stream",
          "text": [
            "EXPLANATORY\n",
            "\n",
            "IN this book a number of dialects are used, to wit:  the Missouri negro\n",
            "dialect; the extrem \n",
            "\n",
            " Sally she's going to adopt me\n",
            "and sivilize me, and I can't stand it.  I been there before.\n",
            "\n",
            "THE END. YOURS TRULY, _HUCK FINN_. \n",
            "\n",
            "567127\n"
          ],
          "name": "stdout"
        }
      ]
    },
    {
      "cell_type": "markdown",
      "metadata": {
        "colab_type": "text",
        "id": "tQG2hwaCXd4o"
      },
      "source": [
        "Now, the cleansed book is saved!"
      ]
    },
    {
      "cell_type": "markdown",
      "metadata": {
        "colab_type": "text",
        "id": "w4bD7B8_9y5T"
      },
      "source": [
        "# Create Vocabulary\n",
        "\n",
        "Since our goal is to generate text with a character-level model, we must train the model to predict the next character in a sequence. We can then repeatedly call the model to generate longer sequences of text. The first step is to build a vocabulary of unique characters contained in the corpus.    "
      ]
    },
    {
      "cell_type": "code",
      "metadata": {
        "colab_type": "code",
        "id": "pd_iAwaH9t_9",
        "colab": {
          "base_uri": "https://localhost:8080/",
          "height": 34
        },
        "outputId": "4ee4ea14-8e03-4121-aad0-ddca6d2ed8ca"
      },
      "source": [
        "# unique characters in the corpus\n",
        "\n",
        "vocab = sorted(set(corpus))\n",
        "print ('{} unique characters'.format(len(vocab)))"
      ],
      "execution_count": null,
      "outputs": [
        {
          "output_type": "stream",
          "text": [
            "74 unique characters\n"
          ],
          "name": "stdout"
        }
      ]
    },
    {
      "cell_type": "markdown",
      "metadata": {
        "colab_type": "text",
        "id": "g2HR7xnnAp38"
      },
      "source": [
        "So, we have a vocabulary of 74 unique characters in our corpus."
      ]
    },
    {
      "cell_type": "markdown",
      "metadata": {
        "colab_type": "text",
        "id": "FrgQx0575IcQ"
      },
      "source": [
        "# Vectorize the Text\n",
        "\n",
        "Algorithms process numbers, not text. So, we must devise a numerical representation of the corpus. An easy solution is to map strings to integers. Let's start by creating a dictionary to hold integer mappings of unique characters. Next, create a numpy array to hold character mappings of each integer representation. The numpy array allows us to translate encoded integer mappings back into their character representations. Now that we have the tools to vectorize the corpus, we can begin building the input pipeline for TensorFlow consumption."
      ]
    },
    {
      "cell_type": "markdown",
      "metadata": {
        "colab_type": "text",
        "id": "wQ5BNJqICJRN"
      },
      "source": [
        "## Create Integer Mappings \n",
        "\n",
        "We use dictionary comprehension to create our integer mappings. **Dictionary comprehension** is a method for creating dictionaries using simple expressions. A dictionary comprehension takes the form **{key: value for (key, value) in iterable}**. In our case, the key is a unique character in the corpus and the value is the integer mapping of the unique character."
      ]
    },
    {
      "cell_type": "code",
      "metadata": {
        "colab_type": "code",
        "id": "3AaXYnGzDsQf",
        "colab": {
          "base_uri": "https://localhost:8080/",
          "height": 34
        },
        "outputId": "0f38e8ad-c5e0-41c2-d5d8-b0c4ea02fb4b"
      },
      "source": [
        "# creating a dictionary with integer representations of characters\n",
        "\n",
        "int_map = {key : value for value, key in enumerate(vocab)}\n",
        "int_map['a']"
      ],
      "execution_count": null,
      "outputs": [
        {
          "output_type": "execute_result",
          "data": {
            "text/plain": [
              "46"
            ]
          },
          "metadata": {
            "tags": []
          },
          "execution_count": 21
        }
      ]
    },
    {
      "cell_type": "markdown",
      "metadata": {
        "colab_type": "text",
        "id": "E-hLIALFFhva"
      },
      "source": [
        "So, integer '46' represents the letter 'a'. Let's validate that this is the case as so:"
      ]
    },
    {
      "cell_type": "code",
      "metadata": {
        "colab_type": "code",
        "id": "p2XVypFd5Iuw",
        "colab": {
          "base_uri": "https://localhost:8080/",
          "height": 34
        },
        "outputId": "d84d9b35-43e2-4974-8348-90fbf8f48a64"
      },
      "source": [
        "# create numpy array to hold character mappings of integers\n",
        "\n",
        "import numpy as np\n",
        "\n",
        "char_map = np.array(vocab)\n",
        "char_map[46]"
      ],
      "execution_count": null,
      "outputs": [
        {
          "output_type": "execute_result",
          "data": {
            "text/plain": [
              "'a'"
            ]
          },
          "metadata": {
            "tags": []
          },
          "execution_count": 22
        }
      ]
    },
    {
      "cell_type": "markdown",
      "metadata": {
        "colab_type": "text",
        "id": "cDRN0c0yGkjb"
      },
      "source": [
        "It looks like our mappings work. Let's try it on a sequence."
      ]
    },
    {
      "cell_type": "code",
      "metadata": {
        "colab_type": "code",
        "id": "7AT9VGQgCNOG",
        "colab": {
          "base_uri": "https://localhost:8080/",
          "height": 67
        },
        "outputId": "0bd43ddd-743c-4601-8a6c-0c8b76fcbbb4"
      },
      "source": [
        "# simple sequence\n",
        "sequence = 'hello world'\n",
        "\n",
        "# map to integer representations\n",
        "\n",
        "maps = np.array([int_map[c] for c in sequence])\n",
        "print ('integer mappings:', maps, br)\n",
        "\n",
        "# map integer representations back into characters\n",
        "\n",
        "s = [char_map[i] for i in maps]\n",
        "\n",
        "# create string from list of characters\n",
        "\n",
        "s = ''.join(s)\n",
        "print ('translation:', s)"
      ],
      "execution_count": null,
      "outputs": [
        {
          "output_type": "stream",
          "text": [
            "integer mappings: [53 50 57 57 60  1 68 60 63 57 49] \n",
            "\n",
            "translation: hello world\n"
          ],
          "name": "stdout"
        }
      ]
    },
    {
      "cell_type": "markdown",
      "metadata": {
        "colab_type": "text",
        "id": "iIzbf0AjB_Km"
      },
      "source": [
        "## Vectorize the Corpus\n",
        "\n",
        "Now, we are ready to vectorize the corpus."
      ]
    },
    {
      "cell_type": "code",
      "metadata": {
        "colab_type": "code",
        "id": "FjFyt3TeLcGA",
        "colab": {
          "base_uri": "https://localhost:8080/",
          "height": 50
        },
        "outputId": "1feee67c-5b84-404f-8450-d75a3efe731d"
      },
      "source": [
        "# vectorize the corpus\n",
        "\n",
        "encoded = np.array([int_map[c] for c in corpus])\n",
        "encoded[:11], char_map[encoded[:11]]"
      ],
      "execution_count": null,
      "outputs": [
        {
          "output_type": "execute_result",
          "data": {
            "text/plain": [
              "(array([24, 43, 35, 31, 20, 33, 20, 39, 34, 37, 44]),\n",
              " array(['E', 'X', 'P', 'L', 'A', 'N', 'A', 'T', 'O', 'R', 'Y'], dtype='<U1'))"
            ]
          },
          "metadata": {
            "tags": []
          },
          "execution_count": 24
        }
      ]
    },
    {
      "cell_type": "markdown",
      "metadata": {
        "colab_type": "text",
        "id": "vEbDpFBIJgdU"
      },
      "source": [
        "# Predict the Next Character\n",
        "\n",
        "At each time step during training, our goal is to predict the next probable character given a character or a sequence of characters. So, input to the model must be a sequence of characters. To reach our goal, we must feed the model proper training data."
      ]
    },
    {
      "cell_type": "markdown",
      "metadata": {
        "colab_type": "text",
        "id": "-DnrAZWQKy3y"
      },
      "source": [
        "# Create Training Input Sequences\n",
        "\n",
        "To create training intances, we divide the corpus into input sequences. Each input sequence contains 'seq_length' characters from the corpus. The 'seq_length' is the maximum length sentence we want for a single input sequence in characters. We break the corpus into equal length sequences to promote better performance.\n",
        "\n",
        "For each input sequence, the sample contains the text and the corresponding target contains the text shifted one character to the right. So, we break the text into chunks of 'seq_length + 1'.\n",
        "\n",
        "Let's look at a very simple example. Given 'seq_length=10' and input sequence of 'yardsticks', the training sample would be 'yardstick' and the target sequence would be 'ardsticks'.\n",
        "\n",
        "Now, let's convert the encoded corpus to tensors."
      ]
    },
    {
      "cell_type": "code",
      "metadata": {
        "colab_type": "code",
        "id": "P_QyVmfpC7jf",
        "colab": {
          "base_uri": "https://localhost:8080/",
          "height": 34
        },
        "outputId": "29887c72-8376-4591-876c-5a1c50c271cd"
      },
      "source": [
        "# intialize maximum length sequence for a single input in characters\n",
        "\n",
        "seq_length = 100\n",
        "\n",
        "# create training dataset\n",
        "\n",
        "dataset = tf.data.Dataset.from_tensor_slices(encoded)\n",
        "dataset"
      ],
      "execution_count": null,
      "outputs": [
        {
          "output_type": "execute_result",
          "data": {
            "text/plain": [
              "<TensorSliceDataset shapes: (), types: tf.int64>"
            ]
          },
          "metadata": {
            "tags": []
          },
          "execution_count": 25
        }
      ]
    },
    {
      "cell_type": "markdown",
      "metadata": {
        "colab_type": "text",
        "id": "5E3gGioYnv8C"
      },
      "source": [
        "Let's display some samples from the TensorFlow dataset. Notice that we convert the integer representations of each character back to character state with the char_map() function."
      ]
    },
    {
      "cell_type": "code",
      "metadata": {
        "colab_type": "code",
        "id": "7dtCQPbbTEgA",
        "colab": {
          "base_uri": "https://localhost:8080/",
          "height": 118
        },
        "outputId": "8bc331cb-6adb-4685-946e-1549a3ac854b"
      },
      "source": [
        "for i in dataset.take(6):\n",
        "  print (char_map[i])"
      ],
      "execution_count": null,
      "outputs": [
        {
          "output_type": "stream",
          "text": [
            "E\n",
            "X\n",
            "P\n",
            "L\n",
            "A\n",
            "N\n"
          ],
          "name": "stdout"
        }
      ]
    },
    {
      "cell_type": "markdown",
      "metadata": {
        "colab_type": "text",
        "id": "Z-eQasP9VRv-"
      },
      "source": [
        "# Batch Sequences\n",
        "\n",
        "The batch method lets us easily convert individual characters to sequences of the desired size."
      ]
    },
    {
      "cell_type": "code",
      "metadata": {
        "colab_type": "code",
        "id": "nAiGP8ffDS1F",
        "colab": {
          "base_uri": "https://localhost:8080/",
          "height": 151
        },
        "outputId": "be4f994e-fed1-4f8f-c106-be49e60a3c1e"
      },
      "source": [
        "sequences = dataset.batch(seq_length + 1, drop_remainder=True)\n",
        "\n",
        "for i in sequences.take(1):\n",
        "  print (char_map[i], br)\n",
        "  print ('batch size:', len(i))"
      ],
      "execution_count": null,
      "outputs": [
        {
          "output_type": "stream",
          "text": [
            "['E' 'X' 'P' 'L' 'A' 'N' 'A' 'T' 'O' 'R' 'Y' '\\n' '\\n' 'I' 'N' ' ' 't' 'h'\n",
            " 'i' 's' ' ' 'b' 'o' 'o' 'k' ' ' 'a' ' ' 'n' 'u' 'm' 'b' 'e' 'r' ' ' 'o'\n",
            " 'f' ' ' 'd' 'i' 'a' 'l' 'e' 'c' 't' 's' ' ' 'a' 'r' 'e' ' ' 'u' 's' 'e'\n",
            " 'd' ',' ' ' 't' 'o' ' ' 'w' 'i' 't' ':' ' ' ' ' 't' 'h' 'e' ' ' 'M' 'i'\n",
            " 's' 's' 'o' 'u' 'r' 'i' ' ' 'n' 'e' 'g' 'r' 'o' '\\n' 'd' 'i' 'a' 'l' 'e'\n",
            " 'c' 't' ';' ' ' 't' 'h' 'e' ' ' 'e' 'x' 't'] \n",
            "\n",
            "batch size: 101\n"
          ],
          "name": "stdout"
        }
      ]
    },
    {
      "cell_type": "markdown",
      "metadata": {
        "colab_type": "text",
        "id": "Z4lHWmjqWHGH"
      },
      "source": [
        "# Create Samples and Targets\n",
        "\n",
        "For each input sequence, use the map method to apply the **create_sample_target** function. This function shifts an input sequence by '1' to form the sample and target texts for each batch."
      ]
    },
    {
      "cell_type": "code",
      "metadata": {
        "colab_type": "code",
        "id": "yIJYdHNQWHPV",
        "colab": {}
      },
      "source": [
        "def create_sample_target(piece):\n",
        "  sample = piece[:-1]\n",
        "  target = piece[1:]\n",
        "  return sample, target\n",
        "\n",
        "dataset = sequences.map(create_sample_target)"
      ],
      "execution_count": null,
      "outputs": []
    },
    {
      "cell_type": "markdown",
      "metadata": {
        "colab_type": "text",
        "id": "8xVgM-hzYdxg"
      },
      "source": [
        "Display the first split input sequence."
      ]
    },
    {
      "cell_type": "code",
      "metadata": {
        "colab_type": "code",
        "id": "kfznKHH8Yd7w",
        "colab": {
          "base_uri": "https://localhost:8080/",
          "height": 235
        },
        "outputId": "cd6a86fe-7cca-4ce9-d453-e581fd583fc6"
      },
      "source": [
        "for sample, target in  dataset.take(1):\n",
        "  print ('sample:', char_map[sample], br)\n",
        "  print ('target:', char_map[target])"
      ],
      "execution_count": null,
      "outputs": [
        {
          "output_type": "stream",
          "text": [
            "sample: ['E' 'X' 'P' 'L' 'A' 'N' 'A' 'T' 'O' 'R' 'Y' '\\n' '\\n' 'I' 'N' ' ' 't' 'h'\n",
            " 'i' 's' ' ' 'b' 'o' 'o' 'k' ' ' 'a' ' ' 'n' 'u' 'm' 'b' 'e' 'r' ' ' 'o'\n",
            " 'f' ' ' 'd' 'i' 'a' 'l' 'e' 'c' 't' 's' ' ' 'a' 'r' 'e' ' ' 'u' 's' 'e'\n",
            " 'd' ',' ' ' 't' 'o' ' ' 'w' 'i' 't' ':' ' ' ' ' 't' 'h' 'e' ' ' 'M' 'i'\n",
            " 's' 's' 'o' 'u' 'r' 'i' ' ' 'n' 'e' 'g' 'r' 'o' '\\n' 'd' 'i' 'a' 'l' 'e'\n",
            " 'c' 't' ';' ' ' 't' 'h' 'e' ' ' 'e' 'x'] \n",
            "\n",
            "target: ['X' 'P' 'L' 'A' 'N' 'A' 'T' 'O' 'R' 'Y' '\\n' '\\n' 'I' 'N' ' ' 't' 'h' 'i'\n",
            " 's' ' ' 'b' 'o' 'o' 'k' ' ' 'a' ' ' 'n' 'u' 'm' 'b' 'e' 'r' ' ' 'o' 'f'\n",
            " ' ' 'd' 'i' 'a' 'l' 'e' 'c' 't' 's' ' ' 'a' 'r' 'e' ' ' 'u' 's' 'e' 'd'\n",
            " ',' ' ' 't' 'o' ' ' 'w' 'i' 't' ':' ' ' ' ' 't' 'h' 'e' ' ' 'M' 'i' 's'\n",
            " 's' 'o' 'u' 'r' 'i' ' ' 'n' 'e' 'g' 'r' 'o' '\\n' 'd' 'i' 'a' 'l' 'e' 'c'\n",
            " 't' ';' ' ' 't' 'h' 'e' ' ' 'e' 'x' 't']\n"
          ],
          "name": "stdout"
        }
      ]
    },
    {
      "cell_type": "markdown",
      "metadata": {
        "colab_type": "text",
        "id": "J6cWtgAP2wr9"
      },
      "source": [
        "Notice that the target is one character ahead of the sample. We do this so the algorithm can learn from the target how to predict the next character."
      ]
    },
    {
      "cell_type": "markdown",
      "metadata": {
        "colab_type": "text",
        "id": "5gwG-zRWZShI"
      },
      "source": [
        "# Timestep Prediction\n",
        "\n",
        "Each index of these vectors is processed as one time step. So, for the input at time step 0, the model receives the index (input_idx) for 'E' and tries to predict the index for 'X' as the next character. At the next timestep, the model repeats the same process. But, the RNN model considers the context of the previous step in addition to the current input character. Let't look at the first 5 timesteps."
      ]
    },
    {
      "cell_type": "code",
      "metadata": {
        "colab_type": "code",
        "id": "kgrEdFFbZSqf",
        "colab": {
          "base_uri": "https://localhost:8080/",
          "height": 336
        },
        "outputId": "d67368f2-57de-4937-f90e-6ae5ff2b383e"
      },
      "source": [
        "for i, (input_idx, target_idx) in enumerate(zip(sample[:5], target[:5])):\n",
        "  print('Step:', i)\n",
        "  print(' input:', input_idx.numpy(), char_map[input_idx])\n",
        "  print(' expected output:', target_idx.numpy(), char_map[target_idx])\n",
        "  if i < 4: print()"
      ],
      "execution_count": null,
      "outputs": [
        {
          "output_type": "stream",
          "text": [
            "Step: 0\n",
            " input: 24 E\n",
            " expected output: 43 X\n",
            "\n",
            "Step: 1\n",
            " input: 43 X\n",
            " expected output: 35 P\n",
            "\n",
            "Step: 2\n",
            " input: 35 P\n",
            " expected output: 31 L\n",
            "\n",
            "Step: 3\n",
            " input: 31 L\n",
            " expected output: 20 A\n",
            "\n",
            "Step: 4\n",
            " input: 20 A\n",
            " expected output: 33 N\n"
          ],
          "name": "stdout"
        }
      ]
    },
    {
      "cell_type": "markdown",
      "metadata": {
        "colab_type": "text",
        "id": "Tf0eg1C3V7HU"
      },
      "source": [
        "As we can see, the sample and target data were created properly."
      ]
    },
    {
      "cell_type": "markdown",
      "metadata": {
        "colab_type": "text",
        "id": "r2zQ0xH9cjOx"
      },
      "source": [
        "# Create Training Batches\n",
        "\n",
        "We already split the text into manageable sequences. But, before feeding the data into the model we need to shuffle it and pack it into batches."
      ]
    },
    {
      "cell_type": "code",
      "metadata": {
        "colab_type": "code",
        "id": "bti5JINtcjYD",
        "colab": {
          "base_uri": "https://localhost:8080/",
          "height": 34
        },
        "outputId": "2daf3504-11d3-48f8-f9e2-2778cbd4a73e"
      },
      "source": [
        "# batch size\n",
        "\n",
        "BATCH_SIZE = 64\n",
        "\n",
        "# buffer size\n",
        "\n",
        "BUFFER_SIZE = 10000\n",
        "\n",
        "dataset = dataset.shuffle(BUFFER_SIZE).batch(BATCH_SIZE, drop_remainder=True)\n",
        "dataset"
      ],
      "execution_count": null,
      "outputs": [
        {
          "output_type": "execute_result",
          "data": {
            "text/plain": [
              "<BatchDataset shapes: ((64, 100), (64, 100)), types: (tf.int64, tf.int64)>"
            ]
          },
          "metadata": {
            "tags": []
          },
          "execution_count": 31
        }
      ]
    },
    {
      "cell_type": "markdown",
      "metadata": {
        "colab_type": "text",
        "id": "gmx87oI3dCKE"
      },
      "source": [
        "TensorFlow data is designed to work with infinite sequences. So, it doesn't attempt to shuffle the entire sequence in memory. Instead, it maintains a buffer where it shuffles elements. We set 'BUFFER_SIZE=10000' to give TensorFlow a fairly large buffer size, but not too big that we cause memory issues. We can see that our dataset contains training samples and targets with batch sizes of 64 and sequence lengths of 100."
      ]
    },
    {
      "cell_type": "markdown",
      "metadata": {
        "colab_type": "text",
        "id": "TTO-XRmZfdz8"
      },
      "source": [
        "# Build the Model\n",
        "\n",
        "Begin by initializing some important variables. We set **vocab_size** to the number of unique characters in the corpus. We set **embedding dimension** to 256. **Word embedding** is a learning techniques in NLP where words or phrases from the vocabulary are mapped to vectors of real numbers. In practice, we use word embedding vectors with dimensions between 50 and 500. We use **256**, which is we believe is a nice compromise between processing time and performance. The higher the number of word embeddings, the more performance we can squeeze out of our model. But, higher embedding dimensions are computationally expensive. We set **rnn_units** to 1024, which represents the number of neurons output from a layer."
      ]
    },
    {
      "cell_type": "code",
      "metadata": {
        "colab_type": "code",
        "id": "M_DvCzfKd5JW",
        "colab": {}
      },
      "source": [
        "# length of the vocabulary in chars\n",
        "vocab_size = len(vocab)\n",
        "\n",
        "# the embedding dimension\n",
        "embedding_dim = 256\n",
        "\n",
        "# number of RNN units\n",
        "rnn_units = 1024"
      ],
      "execution_count": null,
      "outputs": []
    },
    {
      "cell_type": "markdown",
      "metadata": {
        "colab_type": "text",
        "id": "3oh7DoXAHV_J"
      },
      "source": [
        "## Set Random Seed and Import Libraries"
      ]
    },
    {
      "cell_type": "code",
      "metadata": {
        "colab_type": "code",
        "id": "qzQk21-DHnAk",
        "colab": {}
      },
      "source": [
        "# plant random seed for reproducibility\n",
        "\n",
        "tf.random.set_seed(0)\n",
        "np.random.seed(0)\n",
        "\n",
        "# clear any previous models\n",
        "\n",
        "keras.backend.clear_session()\n",
        "\n",
        "from tensorflow.keras.models import Sequential\n",
        "from tensorflow.keras.layers import GRU, Dense,\\\n",
        "Embedding\n",
        "from tensorflow.keras import losses"
      ],
      "execution_count": null,
      "outputs": []
    },
    {
      "cell_type": "markdown",
      "metadata": {
        "colab_type": "text",
        "id": "p7Umiu46H1GH"
      },
      "source": [
        "## Create Layers\n",
        "\n",
        "The first layer is an embedding layer with the vocabulary size, embedding dimensions, and the input shape of the batch as inputs. The output from the embedding layer feeds into the second layer, which is a GRU layer with 1024 neurons (identified by the rnn_units variable). To retain what was learned at this layer, we set **return_sequences=True** and **stateful=True**. We also want to tell the GRU layer to draw samples from a uniform distribution so we set **recurrent_initializer='glorot_uniform'**. The output from the GRU layer feeds into the final Dense layer with vocabulary size as input."
      ]
    },
    {
      "cell_type": "code",
      "metadata": {
        "colab_type": "code",
        "id": "mG8FNlMhH0fv",
        "colab": {}
      },
      "source": [
        "model = Sequential([\n",
        "  Embedding(vocab_size, embedding_dim,\n",
        "            batch_input_shape=[BATCH_SIZE, None]),\n",
        "  GRU(rnn_units, return_sequences=True,\n",
        "      stateful=True, recurrent_initializer='glorot_uniform'),\n",
        "  Dense(vocab_size)\n",
        "])"
      ],
      "execution_count": null,
      "outputs": []
    },
    {
      "cell_type": "markdown",
      "metadata": {
        "colab_type": "text",
        "id": "_ALtMqMCIZPX"
      },
      "source": [
        "## Display Model Summary"
      ]
    },
    {
      "cell_type": "code",
      "metadata": {
        "colab_type": "code",
        "id": "KPIuc_4jIZaY",
        "colab": {
          "base_uri": "https://localhost:8080/",
          "height": 252
        },
        "outputId": "c812d1d2-322d-4153-a263-feb2b95a958c"
      },
      "source": [
        "model.summary()"
      ],
      "execution_count": null,
      "outputs": [
        {
          "output_type": "stream",
          "text": [
            "Model: \"sequential\"\n",
            "_________________________________________________________________\n",
            "Layer (type)                 Output Shape              Param #   \n",
            "=================================================================\n",
            "embedding (Embedding)        (64, None, 256)           18944     \n",
            "_________________________________________________________________\n",
            "gru (GRU)                    (64, None, 1024)          3938304   \n",
            "_________________________________________________________________\n",
            "dense (Dense)                (64, None, 74)            75850     \n",
            "=================================================================\n",
            "Total params: 4,033,098\n",
            "Trainable params: 4,033,098\n",
            "Non-trainable params: 0\n",
            "_________________________________________________________________\n"
          ],
          "name": "stdout"
        }
      ]
    },
    {
      "cell_type": "markdown",
      "metadata": {
        "colab_type": "text",
        "id": "2hN_Ou0ZtkEA"
      },
      "source": [
        "Good! The shape is as expected. The second dimension is 'None' because the model can accept any sequence length."
      ]
    },
    {
      "cell_type": "markdown",
      "metadata": {
        "colab_type": "text",
        "id": "HxUKfCsvI4VK"
      },
      "source": [
        "## Check Output Shape\n",
        "\n",
        "Display the shape of the first batch in the dataset."
      ]
    },
    {
      "cell_type": "code",
      "metadata": {
        "colab_type": "code",
        "id": "8JaFEmIUd6RO",
        "colab": {
          "base_uri": "https://localhost:8080/",
          "height": 34
        },
        "outputId": "7a0d3ee1-00ed-46d6-9144-03af671da586"
      },
      "source": [
        "for sample, target in dataset.take(1):\n",
        "  example_batch_predictions = model(sample)\n",
        "  \n",
        "example_batch_predictions.shape"
      ],
      "execution_count": null,
      "outputs": [
        {
          "output_type": "execute_result",
          "data": {
            "text/plain": [
              "TensorShape([64, 100, 74])"
            ]
          },
          "metadata": {
            "tags": []
          },
          "execution_count": 38
        }
      ]
    },
    {
      "cell_type": "markdown",
      "metadata": {
        "colab_type": "text",
        "id": "lOISokd0JYs2"
      },
      "source": [
        "So, the first batch has 'batch_size' of 64, 'sequence_length' of 100, and 'vocab_size' of 74 as expected. Notice that the output shape from displaying model.summary() is (64, None, 74). The sequence length is not included because the model can be run on inputs of any length."
      ]
    },
    {
      "cell_type": "markdown",
      "metadata": {
        "colab_type": "text",
        "id": "olv8Y_ncT3g7"
      },
      "source": [
        "# Calculate Loss\n",
        "\n",
        "We sample from the output distribution to predict character indices. The output distribution is defined by the logits over our character vocabulary. A **logit** is a probability value between 0 and 1, and negative infinity to infinity derived from a logit function. Simply, a logit is a prediction. The logit function is an inverse to the sigmoid function as it limits values between 0 and 1 across the Y-axis rather than the X-axis. Since our model returns logits, we need to set the **from_logits** flag to calculate loss."
      ]
    },
    {
      "cell_type": "code",
      "metadata": {
        "colab_type": "code",
        "id": "nuHnIw7LUHP7",
        "colab": {}
      },
      "source": [
        "def loss(labels, logits):\n",
        "  return losses.sparse_categorical_crossentropy(labels, logits,\n",
        "                                                from_logits=True)"
      ],
      "execution_count": null,
      "outputs": []
    },
    {
      "cell_type": "markdown",
      "metadata": {
        "colab_type": "text",
        "id": "eEUe_f3bjFkY"
      },
      "source": [
        "The model expects a 3D tensor consisting of batch size, sequence length, and vocabulary size. So, let's test our loss function that it is working as expected."
      ]
    },
    {
      "cell_type": "code",
      "metadata": {
        "colab_type": "code",
        "id": "bnRPA1ZvjNOb",
        "colab": {
          "base_uri": "https://localhost:8080/",
          "height": 50
        },
        "outputId": "cb0f3842-351f-472c-8639-9f45ac8da387"
      },
      "source": [
        "pre_trained_loss = loss(target, example_batch_predictions)\n",
        "\n",
        "print('pred shape: ', example_batch_predictions.shape)\n",
        "print('scalar_loss: ', pre_trained_loss.numpy().mean())"
      ],
      "execution_count": null,
      "outputs": [
        {
          "output_type": "stream",
          "text": [
            "pred shape:  (64, 100, 74)\n",
            "scalar_loss:  4.303187\n"
          ],
          "name": "stdout"
        }
      ]
    },
    {
      "cell_type": "markdown",
      "metadata": {
        "colab_type": "text",
        "id": "oddRB8HAXf6_"
      },
      "source": [
        "Great! We can see that the prediction shape has batch size of 64, sequence length of 100, and vocabulary size of 74. We also display the average loss from the pretrained model."
      ]
    },
    {
      "cell_type": "markdown",
      "metadata": {
        "colab_type": "text",
        "id": "2ThTMfeAMALm"
      },
      "source": [
        "# Compile the Model"
      ]
    },
    {
      "cell_type": "code",
      "metadata": {
        "colab_type": "code",
        "id": "45zULFR9JqY9",
        "colab": {}
      },
      "source": [
        "model.compile(loss=loss,\n",
        "              optimizer='adam')"
      ],
      "execution_count": null,
      "outputs": []
    },
    {
      "cell_type": "markdown",
      "metadata": {
        "colab_type": "text",
        "id": "VxkjDFVXQCMf"
      },
      "source": [
        "# Configure Checkpoints\n",
        "\n",
        "With a RNN, we want to save what the model learned at each timestep. One way to do this is to save the checkpoints that hold this information with a callback method. **Checkpoints** capture the exact value of all TensorFlow parameters used by a model."
      ]
    },
    {
      "cell_type": "code",
      "metadata": {
        "colab_type": "code",
        "id": "VfyuuU6WP_13",
        "colab": {}
      },
      "source": [
        "import os\n",
        "\n",
        "# directory where the checkpoints will be saved\n",
        "checkpoint_dir = './training_checkpoints'\n",
        "\n",
        "# name of the checkpoint files\n",
        "checkpoint_files = os.path.join(checkpoint_dir, 'ckpt_{epoch}')\n",
        "\n",
        "# callback method\n",
        "checkpoint_callback=tf.keras.callbacks.ModelCheckpoint(\n",
        "    filepath=checkpoint_files,\n",
        "    save_weights_only=True)"
      ],
      "execution_count": null,
      "outputs": []
    },
    {
      "cell_type": "markdown",
      "metadata": {
        "colab_type": "text",
        "id": "eSTOYZKVLB3E"
      },
      "source": [
        "# Train the Model\n",
        "\n",
        "Let's train the model on 10 epochs. You can add epochs to improve performance. We tell the model to use the callback function we created with the callback parameter."
      ]
    },
    {
      "cell_type": "code",
      "metadata": {
        "colab_type": "code",
        "id": "qhml623-K_vy",
        "colab": {
          "base_uri": "https://localhost:8080/",
          "height": 353
        },
        "outputId": "bb0ec5e5-2167-4971-d58e-accf2b59668e"
      },
      "source": [
        "EPOCHS = 10\n",
        "\n",
        "history = model.fit(dataset, epochs=EPOCHS,\n",
        "                    callbacks=[checkpoint_callback])"
      ],
      "execution_count": null,
      "outputs": [
        {
          "output_type": "stream",
          "text": [
            "Epoch 1/10\n",
            "87/87 [==============================] - 4s 43ms/step - loss: 2.9960\n",
            "Epoch 2/10\n",
            "87/87 [==============================] - 4s 43ms/step - loss: 2.1643\n",
            "Epoch 3/10\n",
            "87/87 [==============================] - 4s 43ms/step - loss: 1.9277\n",
            "Epoch 4/10\n",
            "87/87 [==============================] - 4s 43ms/step - loss: 1.7492\n",
            "Epoch 5/10\n",
            "87/87 [==============================] - 4s 43ms/step - loss: 1.6126\n",
            "Epoch 6/10\n",
            "87/87 [==============================] - 4s 43ms/step - loss: 1.5114\n",
            "Epoch 7/10\n",
            "87/87 [==============================] - 4s 43ms/step - loss: 1.4312\n",
            "Epoch 8/10\n",
            "87/87 [==============================] - 4s 43ms/step - loss: 1.3700\n",
            "Epoch 9/10\n",
            "87/87 [==============================] - 4s 43ms/step - loss: 1.3193\n",
            "Epoch 10/10\n",
            "87/87 [==============================] - 4s 43ms/step - loss: 1.2754\n"
          ],
          "name": "stdout"
        }
      ]
    },
    {
      "cell_type": "markdown",
      "metadata": {
        "colab_type": "text",
        "id": "0w554-QKNCCm"
      },
      "source": [
        "# Rebuild Model for Text Creation"
      ]
    },
    {
      "cell_type": "markdown",
      "metadata": {
        "colab_type": "text",
        "id": "UKEIyMl5NCjG"
      },
      "source": [
        "## Restore Weights from Checkpoints\n",
        "\n",
        "First, restore the weights from the checkpoints we established during training. We need to restore the checkpoints to obtain what the RNN learned at each timestep."
      ]
    },
    {
      "cell_type": "code",
      "metadata": {
        "colab_type": "code",
        "id": "Lkm1AyznRTWu",
        "colab": {
          "base_uri": "https://localhost:8080/",
          "height": 34
        },
        "outputId": "0b5b7eeb-4d92-48e3-8bbc-a64598b90571"
      },
      "source": [
        "tf.train.latest_checkpoint(checkpoint_dir)"
      ],
      "execution_count": null,
      "outputs": [
        {
          "output_type": "execute_result",
          "data": {
            "text/plain": [
              "'./training_checkpoints/ckpt_10'"
            ]
          },
          "metadata": {
            "tags": []
          },
          "execution_count": 45
        }
      ]
    },
    {
      "cell_type": "markdown",
      "metadata": {
        "colab_type": "text",
        "id": "qr19ouNYbQGS"
      },
      "source": [
        "## Rebuild with Batch Size of 1\n",
        "\n",
        "Second, to keep prediction simple we use a batch size of 1. Because of the way the RNN state is passed from timestep to timestep, the model only accepts a fixed batch size once built. So, let's rebuild it with batch size of 1 (instead of 64)."
      ]
    },
    {
      "cell_type": "code",
      "metadata": {
        "colab_type": "code",
        "id": "YDFwokBYM46n",
        "colab": {}
      },
      "source": [
        "# plant random seed for reproducibility\n",
        "\n",
        "tf.random.set_seed(0)\n",
        "np.random.seed(0)\n",
        "\n",
        "# clear any previous models\n",
        "\n",
        "keras.backend.clear_session()\n",
        "\n",
        "BATCH_SIZE = 1\n",
        "\n",
        "model = Sequential([\n",
        "  Embedding(vocab_size, embedding_dim,\n",
        "            batch_input_shape=[BATCH_SIZE, None]),\n",
        "  GRU(rnn_units, return_sequences=True,\n",
        "      stateful=True, recurrent_initializer='glorot_uniform'),\n",
        "  Dense(vocab_size)\n",
        "])"
      ],
      "execution_count": null,
      "outputs": []
    },
    {
      "cell_type": "markdown",
      "metadata": {
        "colab_type": "text",
        "id": "zrfLet5ibW3Y"
      },
      "source": [
        "## Load Weights and Reshape\n",
        "\n",
        "Third, load the weights and reshape the model to ensure that tensors have batch size of 1."
      ]
    },
    {
      "cell_type": "code",
      "metadata": {
        "colab_type": "code",
        "id": "xcrKAmJhRjvA",
        "colab": {}
      },
      "source": [
        "model.load_weights(tf.train.latest_checkpoint(checkpoint_dir))\n",
        "model.build(tf.TensorShape([1, None]))"
      ],
      "execution_count": null,
      "outputs": []
    },
    {
      "cell_type": "code",
      "metadata": {
        "colab_type": "code",
        "id": "8kSKyElNRr8n",
        "colab": {
          "base_uri": "https://localhost:8080/",
          "height": 252
        },
        "outputId": "88f163f8-0e28-4327-e3f0-f79b3df8c666"
      },
      "source": [
        "# good idea to view model at this point\n",
        "\n",
        "model.summary()"
      ],
      "execution_count": null,
      "outputs": [
        {
          "output_type": "stream",
          "text": [
            "Model: \"sequential\"\n",
            "_________________________________________________________________\n",
            "Layer (type)                 Output Shape              Param #   \n",
            "=================================================================\n",
            "embedding (Embedding)        (1, None, 256)            18944     \n",
            "_________________________________________________________________\n",
            "gru (GRU)                    (1, None, 1024)           3938304   \n",
            "_________________________________________________________________\n",
            "dense (Dense)                (1, None, 74)             75850     \n",
            "=================================================================\n",
            "Total params: 4,033,098\n",
            "Trainable params: 4,033,098\n",
            "Non-trainable params: 0\n",
            "_________________________________________________________________\n"
          ],
          "name": "stdout"
        }
      ]
    },
    {
      "cell_type": "markdown",
      "metadata": {
        "colab_type": "text",
        "id": "Sahcc-BKN9cF"
      },
      "source": [
        "All is well! Notice that the second parameter is 'None'. Again, the reason is that the model can accept any sequence length."
      ]
    },
    {
      "cell_type": "markdown",
      "metadata": {
        "colab_type": "text",
        "id": "8UF6rwabbjUQ"
      },
      "source": [
        "# Create New Text\n",
        "\n",
        "To create new text, we create a function and initialize a set of variables to feed to the function. To prepare the starting string for TensorFlow consumption, we vectorize and reshape before passing it to the function. Let's begin with the function."
      ]
    },
    {
      "cell_type": "markdown",
      "metadata": {
        "colab_type": "text",
        "id": "iqCgvXf2use5"
      },
      "source": [
        "## Create the Function\n",
        "\n",
        "The function accepts the model, vectorized starting string, temperature, and the original starting string. It begins by intializing a list to hold the new text created and resetting the states of the model. The function continues by iterating **n** times (the number of characters we wish to create).\n",
        "\n",
        "During iteration, the function models the encoded starting string and places the result in **predictions**. It then removes the extra '1' dimension so it can divide the contents of 'predictions' by the temperature. The next task of the function is to use a categorical distribution to predict the next character returned by the model. The function needs to add the '1' dimension back so that it can pass the predicted character as the next input to model along with the previous hidden state. The process repeats until the loop is extinghuised."
      ]
    },
    {
      "cell_type": "code",
      "metadata": {
        "colab_type": "code",
        "id": "LNdsqkRvoG2D",
        "colab": {}
      },
      "source": [
        "def create_text(model, input_eval, temperature, start_string):\n",
        "\n",
        "  # Empty string to store our results\n",
        "  new_text = []\n",
        "\n",
        "  # Here batch size == 1\n",
        "  model.reset_states()\n",
        "\n",
        "  for i in range(n):\n",
        "    # model encoded input\n",
        "    predictions = model(input_eval)\n",
        "\n",
        "    # remove batch dimension so we can manipulate predictions\n",
        "    predictions = tf.squeeze(predictions, 0)\n",
        "\n",
        "    # divide predictions by temperature\n",
        "    predictions = predictions / temperature\n",
        "\n",
        "    # use a categorical distribution to predict character returned by model\n",
        "    predicted_id = tf.random.categorical(predictions, num_samples=1)[-1,0].numpy()\n",
        "\n",
        "    # pass predicted character as next input to model with previous hidden state\n",
        "    input_eval = tf.expand_dims([predicted_id], 0)\n",
        "\n",
        "    # append generated characters to text\n",
        "    new_text.append(char_map[predicted_id])\n",
        "\n",
        "  return (start_string + ''.join(new_text))"
      ],
      "execution_count": null,
      "outputs": []
    },
    {
      "cell_type": "markdown",
      "metadata": {
        "colab_type": "text",
        "id": "qmPCepgvPHkn"
      },
      "source": [
        "## Initialize Variables\n",
        "\n",
        "Now that we have the function, let's initialize. We begin by setting n to the number of characters we wish to create. We continue by setting the temperature and the starting string. Low temperatures result in more predictable text, while higher temperatures result in more surprising text. You can experiment to find the best setting."
      ]
    },
    {
      "cell_type": "code",
      "metadata": {
        "colab_type": "code",
        "id": "ZZvxbhyponH2",
        "colab": {}
      },
      "source": [
        "n = 500\n",
        "temp = 0.3\n",
        "start_string = 'Tom'"
      ],
      "execution_count": null,
      "outputs": []
    },
    {
      "cell_type": "markdown",
      "metadata": {
        "colab_type": "text",
        "id": "PjWUY5CYkkPR"
      },
      "source": [
        "We can try different start strings, but we chose 'Tom' because we know that the corpus contains this name."
      ]
    },
    {
      "cell_type": "markdown",
      "metadata": {
        "colab_type": "text",
        "id": "aZIr1hkeSiCb"
      },
      "source": [
        "## Vectorize and Reshape Starting String\n",
        "\n",
        "We need to vectorize the starting string because the model only recognizes numbers. We need to reshape the vectorized starting string it so the model can We display the shapes to verify that all is well."
      ]
    },
    {
      "cell_type": "code",
      "metadata": {
        "colab_type": "code",
        "id": "MGsgR3cSShah",
        "colab": {
          "base_uri": "https://localhost:8080/",
          "height": 67
        },
        "outputId": "c901a863-cc35-48d0-9654-e7a32cd989ec"
      },
      "source": [
        "# vectorize starting string\n",
        "\n",
        "input_vectorized = [int_map[s] for s in start_string]\n",
        "print ('original shape:', end=' ')\n",
        "print (str(np.array(input_vectorized).ndim) + 'D', br)\n",
        "\n",
        "input_vectorized = tf.expand_dims(input_vectorized, 0)\n",
        "print ('new shape:', input_vectorized.shape)"
      ],
      "execution_count": null,
      "outputs": [
        {
          "output_type": "stream",
          "text": [
            "original shape: 1D \n",
            "\n",
            "new shape: (1, 3)\n"
          ],
          "name": "stdout"
        }
      ]
    },
    {
      "cell_type": "markdown",
      "metadata": {
        "colab_type": "text",
        "id": "kWEIqdleSeTC"
      },
      "source": [
        "## Create New Text with Function Invocation\n",
        "\n",
        "We are now ready to create new text. Plant random seeds for reproducibility. Next, call the function."
      ]
    },
    {
      "cell_type": "code",
      "metadata": {
        "colab_type": "code",
        "id": "dzeO_iql0Hgp",
        "colab": {
          "base_uri": "https://localhost:8080/",
          "height": 84
        },
        "outputId": "e2b25e66-4d84-4b89-86a0-6bf3dfbeea13"
      },
      "source": [
        "tf.random.set_seed(0)\n",
        "np.random.seed(0)\n",
        "\n",
        "print (create_text(model, input_vectorized, temp, start_string))"
      ],
      "execution_count": null,
      "outputs": [
        {
          "output_type": "stream",
          "text": [
            "Tom Sawyer could see them to the raft and the duke said it was all right along, and I was going to be a\n",
            "couple of solid that was the best things and started the raft, and they was sorry they was all right and got to the books and the duke said it was a steamboat\n",
            "could a ten well and struck a body to steal him all the trees of the raft and the steamboat\n",
            "clothes and clear out of the raft and down the river, and then he took it all the time I started to the steamboat was all the time, and I said it wa\n"
          ],
          "name": "stdout"
        }
      ]
    },
    {
      "cell_type": "markdown",
      "metadata": {
        "colab_type": "text",
        "id": "u3OB9JMiWf7Q"
      },
      "source": [
        "Wow! Although the sentences are nonsensical, the model created actual sentences."
      ]
    },
    {
      "cell_type": "markdown",
      "metadata": {
        "colab_type": "text",
        "id": "vk-ckxJ9EMMg"
      },
      "source": [
        "# Sentiment Analysis\n",
        "\n",
        "We just demonstrated how to train a character-level RNN that enables us to create original text. We now move to a **word-level** RNN to address a common NLP task, namely, sentiment analysis.\n",
        "\n",
        "**Sentiment analysis** computationally identifies and categorizes opinions expressed in a text corpus to determine attitude or sentiment. Typically, sentiment analysis is used to determine a positive, negative or neutral opinion towards a particular topic or product. This technique is widely applied to reviews, surveys, and documents."
      ]
    },
    {
      "cell_type": "markdown",
      "metadata": {
        "colab_type": "text",
        "id": "dpZnSxa4Mz0f"
      },
      "source": [
        "# IMDb Dataset\n",
        "\n",
        "A popular dataset used to practice NLP is the IMDb reviews dataset. **IMDb** is a benchmark dataset for binary sentiment classification. The dataset contains 50,000 movie reviews labeled as either positive (1) or negative (0). Reviews are preprocessed with each encoded as a sequence of word indexes in the form of integers. Words within the reviews are indexed by their overall frequency within the dataset. The 50,000 reviews are split into 25,000 for training and 25,000 for testing. So, we can predict the number of positive and negative reviews using either classification or other deep learning algorithms.\n",
        "\n",
        "IMDb is popular because it is simple to use, relative easy to process, and challenging enough for machine learning aficionados. "
      ]
    },
    {
      "cell_type": "markdown",
      "metadata": {
        "colab_type": "text",
        "id": "snnMZBzIwwqJ"
      },
      "source": [
        "# Load IMDb with Keras \n",
        "\n",
        "A quick and easy way to explore IMDb is to load the data as a **Keras** dataset. However, we <strong><font color=red>don't</font></strong> recommend training with this dataset because there is a much better way! However, we show you how to train with this dataset at the end of this section for completeness.\n",
        "\n",
        "The **keras.datasets.imdb.load_data()** function allows us to load the dataset in a format ready for use in neural network and deep learning models. First, words have already been encoded with integers. Second, encoded words are arranged by their absolute popularity in the dataset. So, sentences in each review are comprised of a sequence of integers. Third, calling imdb.load_data() the first time downloads IMDb to your computer and stores it in your home directory under ~/.keras/datasets/imdb.pkl as a 32 megabyte file. The imdb.load_data() function also provides additional arguments including number of top words to load (where words with a lower integer are marked as zero in the returned data), number of top words to skip (to avoid the “the”‘s), and the maximum length of reviews to support."
      ]
    },
    {
      "cell_type": "code",
      "metadata": {
        "colab_type": "code",
        "id": "xeLoF7I5PIZv",
        "colab": {
          "base_uri": "https://localhost:8080/",
          "height": 67
        },
        "outputId": "f2a6241e-c95c-4623-ca88-8da5bd1b34c0"
      },
      "source": [
        "# set a random seed for reproducibility\n",
        "\n",
        "tf.random.set_seed(0)\n",
        "\n",
        "from keras.datasets import imdb\n",
        "\n",
        "train, test = imdb.load_data()"
      ],
      "execution_count": null,
      "outputs": [
        {
          "output_type": "stream",
          "text": [
            "Using TensorFlow backend.\n"
          ],
          "name": "stderr"
        },
        {
          "output_type": "stream",
          "text": [
            "Downloading data from https://s3.amazonaws.com/text-datasets/imdb.npz\n",
            "17465344/17464789 [==============================] - 2s 0us/step\n"
          ],
          "name": "stdout"
        }
      ]
    },
    {
      "cell_type": "markdown",
      "metadata": {
        "colab_type": "text",
        "id": "3tP4oykwPgKC"
      },
      "source": [
        "We begin by loading data into train and test tuples. So, **train[0]** contains training reviews and **train[1]** contains training labels. And, **test[0]** contains test reviews and **test[1]** contains test labels. Each review is represented as a NumPy array of integers with each integer representing a word. The labels contain lists of integer labels (0 is negative and 1 is positive)."
      ]
    },
    {
      "cell_type": "markdown",
      "metadata": {
        "colab_type": "text",
        "id": "nC-ErC7CpNEP"
      },
      "source": [
        "For readability, we can create variables to represent reviews and labels. Of course, this step is optional."
      ]
    },
    {
      "cell_type": "code",
      "metadata": {
        "colab_type": "code",
        "id": "JbYvA63YpfsL",
        "colab": {}
      },
      "source": [
        "train_reviews, train_labels = train[0], train[1]\n",
        "test_reviews, test_labels = test[0], test[1]"
      ],
      "execution_count": null,
      "outputs": []
    },
    {
      "cell_type": "markdown",
      "metadata": {
        "colab_type": "text",
        "id": "_giFzRcfiLWg"
      },
      "source": [
        "Let's see the shape of train and test review samples."
      ]
    },
    {
      "cell_type": "code",
      "metadata": {
        "colab_type": "code",
        "id": "j4cVDLyAh-A-",
        "colab": {
          "base_uri": "https://localhost:8080/",
          "height": 34
        },
        "outputId": "f97e761c-52d8-4ef0-adf1-36ce248720a3"
      },
      "source": [
        "# train and test reviews shape\n",
        "\n",
        "train_reviews.shape, test_reviews.shape"
      ],
      "execution_count": null,
      "outputs": [
        {
          "output_type": "execute_result",
          "data": {
            "text/plain": [
              "((25000,), (25000,))"
            ]
          },
          "metadata": {
            "tags": []
          },
          "execution_count": 55
        }
      ]
    },
    {
      "cell_type": "markdown",
      "metadata": {
        "colab_type": "text",
        "id": "fSaETl6V6F5e"
      },
      "source": [
        "As expected, we have 25,000 training and 25,000 test reviews. Now, let's see the shape of train and test labels."
      ]
    },
    {
      "cell_type": "code",
      "metadata": {
        "colab_type": "code",
        "id": "edgC5Erx9o53",
        "colab": {
          "base_uri": "https://localhost:8080/",
          "height": 34
        },
        "outputId": "19497395-00c4-4aa6-ab6e-b2e93dbacc3c"
      },
      "source": [
        "# train and test labels shape\n",
        "\n",
        "train_labels.shape, test_labels.shape"
      ],
      "execution_count": null,
      "outputs": [
        {
          "output_type": "execute_result",
          "data": {
            "text/plain": [
              "((25000,), (25000,))"
            ]
          },
          "metadata": {
            "tags": []
          },
          "execution_count": 56
        }
      ]
    },
    {
      "cell_type": "markdown",
      "metadata": {
        "colab_type": "text",
        "id": "k9JvZ9BNiR7_"
      },
      "source": [
        "As expected, we have 25,000 training and 25,000 test labels."
      ]
    },
    {
      "cell_type": "markdown",
      "metadata": {
        "colab_type": "text",
        "id": "SyEydrXQsT7_"
      },
      "source": [
        "# Explore the Train Sample\n",
        "\n",
        "We begin by displaying label categories and number of unique words."
      ]
    },
    {
      "cell_type": "code",
      "metadata": {
        "colab_type": "code",
        "id": "4Nbd_rcdsVp-",
        "colab": {
          "base_uri": "https://localhost:8080/",
          "height": 50
        },
        "outputId": "1ab2f7fa-f629-42bf-8415-1d8da772e29a"
      },
      "source": [
        "print ('categories:', np.unique(train_labels))\n",
        "print('number of unique words:', len(np.unique(np.hstack(train_reviews))))"
      ],
      "execution_count": null,
      "outputs": [
        {
          "output_type": "stream",
          "text": [
            "categories: [0 1]\n",
            "number of unique words: 88585\n"
          ],
          "name": "stdout"
        }
      ]
    },
    {
      "cell_type": "markdown",
      "metadata": {
        "colab_type": "text",
        "id": "j_WXHNyhtuNx"
      },
      "source": [
        "We see that the dataset is labeled by two categories that represent the sentiment of each review. And, the train sample contains 88,585 unique words."
      ]
    },
    {
      "cell_type": "markdown",
      "metadata": {
        "colab_type": "text",
        "id": "a_pmtPLZhhM0"
      },
      "source": [
        "## Find the Longest Traning Review\n",
        "\n",
        "Let's see how many words are in the longest training review."
      ]
    },
    {
      "cell_type": "code",
      "metadata": {
        "colab_type": "code",
        "id": "_8GSC9-ihU6S",
        "colab": {
          "base_uri": "https://localhost:8080/",
          "height": 34
        },
        "outputId": "00a82ce4-b4d5-4332-f584-c5f15fd41bb1"
      },
      "source": [
        "longest = np.amax([len(i) for i in train_reviews])\n",
        "\n",
        "print ('longest review:', longest)"
      ],
      "execution_count": null,
      "outputs": [
        {
          "output_type": "stream",
          "text": [
            "longest review: 2494\n"
          ],
          "name": "stdout"
        }
      ]
    },
    {
      "cell_type": "markdown",
      "metadata": {
        "colab_type": "text",
        "id": "fcOco6oZ_jyH"
      },
      "source": [
        "We created a list containing the number of words in each review and then found the maximum number of words in the list."
      ]
    },
    {
      "cell_type": "markdown",
      "metadata": {
        "colab_type": "text",
        "id": "j4i8-GLuCcIf"
      },
      "source": [
        "Now, let's get the index of the longest review."
      ]
    },
    {
      "cell_type": "code",
      "metadata": {
        "colab_type": "code",
        "id": "2iVtBFkz-2WJ",
        "colab": {
          "base_uri": "https://localhost:8080/",
          "height": 34
        },
        "outputId": "dc24a878-0181-40f0-9d71-2924fb7b2301"
      },
      "source": [
        "mid_result = np.where([len(i) for i in train_reviews] == longest)\n",
        "longest_index = mid_result[0][0]\n",
        "longest_index"
      ],
      "execution_count": null,
      "outputs": [
        {
          "output_type": "execute_result",
          "data": {
            "text/plain": [
              "17934"
            ]
          },
          "metadata": {
            "tags": []
          },
          "execution_count": 59
        }
      ]
    },
    {
      "cell_type": "markdown",
      "metadata": {
        "colab_type": "text",
        "id": "5LM5g6FvDLzg"
      },
      "source": [
        "We use the **np.where** function to find the index. We used double indexing because the function returns a tuple containing a list that holds the index we desire."
      ]
    },
    {
      "cell_type": "markdown",
      "metadata": {
        "colab_type": "text",
        "id": "CduKLaWcBO5S"
      },
      "source": [
        "## Create a Decoding Function\n",
        "\n",
        "Let's create a function that decodes the review into readable form."
      ]
    },
    {
      "cell_type": "code",
      "metadata": {
        "colab_type": "code",
        "id": "U0FR4OL5BPB4",
        "colab": {}
      },
      "source": [
        "def readable(review):\n",
        "  index = imdb.get_word_index()\n",
        "  reverse_index = dict([(value, key) for (key, value) in index.items()])\n",
        "  return ' '.join( [reverse_index.get(i - 3, '?') for i in review])"
      ],
      "execution_count": null,
      "outputs": []
    },
    {
      "cell_type": "markdown",
      "metadata": {
        "colab_type": "text",
        "id": "dmw__IIzD4NU"
      },
      "source": [
        "The function uses the **word_index()** function to obtain the dictionary of words and their uniquely assigned integers. It then creates another dictionary containing key, value groupings as value, key groupings from the first dictionary. Finally, it returns the words based on their IDs (keys). The indices are offset by 3 because 0, 1 and 2 are reserved indices for *padding*, *start of sequence* and *unknown*."
      ]
    },
    {
      "cell_type": "markdown",
      "metadata": {
        "colab_type": "text",
        "id": "D38ZcioVfB79"
      },
      "source": [
        "## Create a Label Function"
      ]
    },
    {
      "cell_type": "code",
      "metadata": {
        "colab_type": "code",
        "id": "cfdUcZb3fCG1",
        "colab": {}
      },
      "source": [
        "def opinion(label):\n",
        "  if label == 1:\n",
        "    return 'positive review'\n",
        "  elif label == 0:\n",
        "    return 'negative review'\n",
        "  else: return 'neutral review'   "
      ],
      "execution_count": null,
      "outputs": []
    },
    {
      "cell_type": "markdown",
      "metadata": {
        "colab_type": "text",
        "id": "I2jmn6-fCzYf"
      },
      "source": [
        "## Invoke the Decoding Function\n",
        "\n",
        "Let's see what the longest review looks like. We just slice off a piece of it because it is pretty long."
      ]
    },
    {
      "cell_type": "code",
      "metadata": {
        "colab_type": "code",
        "id": "OCJmsFwoCziI",
        "colab": {
          "base_uri": "https://localhost:8080/",
          "height": 134
        },
        "outputId": "a9e7f426-a07d-464b-e955-d9b0dabc5884"
      },
      "source": [
        "review = readable(train_reviews[longest_index])\n",
        "print ('review:', end=' ')\n",
        "\n",
        "# just display a slice of the full review\n",
        "print (review[:50] + ' ...', br)\n",
        "\n",
        "label = train_labels[longest_index]\n",
        "idea = opinion(label)\n",
        "print (idea, br)\n",
        "\n",
        "# verify length of review\n",
        "\n",
        "print (len(train_reviews[longest_index]))"
      ],
      "execution_count": null,
      "outputs": [
        {
          "output_type": "stream",
          "text": [
            "Downloading data from https://s3.amazonaws.com/text-datasets/imdb_word_index.json\n",
            "1646592/1641221 [==============================] - 1s 1us/step\n",
            "review: ? match 1 tag team table match bubba ray and spike ... \n",
            "\n",
            "positive review \n",
            "\n",
            "2494\n"
          ],
          "name": "stdout"
        }
      ]
    },
    {
      "cell_type": "markdown",
      "metadata": {
        "colab_type": "text",
        "id": "lHEadDx-lCmz"
      },
      "source": [
        "So, the longest review has a label of '1', which means the review is positive."
      ]
    },
    {
      "cell_type": "markdown",
      "metadata": {
        "colab_type": "text",
        "id": "laXHwWIXjkBH"
      },
      "source": [
        "## Find the Shortest Training Review\n",
        "\n",
        "Now, let's use similar logic to see how many words are in the shortest review."
      ]
    },
    {
      "cell_type": "code",
      "metadata": {
        "colab_type": "code",
        "id": "yNkRCkD9jrtm",
        "colab": {
          "base_uri": "https://localhost:8080/",
          "height": 34
        },
        "outputId": "4d23f31a-6e07-4ebd-fbf8-f83844bf3c57"
      },
      "source": [
        "shortest = np.amin([len(i) for i in train_reviews])\n",
        "print ('shortest review:', shortest)"
      ],
      "execution_count": null,
      "outputs": [
        {
          "output_type": "stream",
          "text": [
            "shortest review: 11\n"
          ],
          "name": "stdout"
        }
      ]
    },
    {
      "cell_type": "markdown",
      "metadata": {
        "colab_type": "text",
        "id": "gKnEKMaWGsM9"
      },
      "source": [
        "Get the index of the shortest review in the train sample."
      ]
    },
    {
      "cell_type": "code",
      "metadata": {
        "colab_type": "code",
        "id": "v1RZ0BtMGsWL",
        "colab": {
          "base_uri": "https://localhost:8080/",
          "height": 34
        },
        "outputId": "e8aa3c4f-499d-4e26-8b7a-2356d788eac7"
      },
      "source": [
        "result = np.where([len(i) for i in train_reviews] == shortest)\n",
        "shortest_index = result[0][0]\n",
        "shortest_index"
      ],
      "execution_count": null,
      "outputs": [
        {
          "output_type": "execute_result",
          "data": {
            "text/plain": [
              "6719"
            ]
          },
          "metadata": {
            "tags": []
          },
          "execution_count": 64
        }
      ]
    },
    {
      "cell_type": "markdown",
      "metadata": {
        "colab_type": "text",
        "id": "omu1DbFTG9Rc"
      },
      "source": [
        "Let's see what the review looks like."
      ]
    },
    {
      "cell_type": "code",
      "metadata": {
        "colab_type": "code",
        "id": "_y7087gEG9bL",
        "colab": {
          "base_uri": "https://localhost:8080/",
          "height": 101
        },
        "outputId": "5f638c04-13dd-4d41-e438-07389f26a23c"
      },
      "source": [
        "review = readable(train_reviews[shortest_index])\n",
        "print (review[2:], br)\n",
        "\n",
        "label = train_labels[shortest_index]\n",
        "idea = opinion(label)\n",
        "print (idea, br)\n",
        "\n",
        "# verify length of review\n",
        "\n",
        "print (len(train_reviews[shortest_index]))"
      ],
      "execution_count": null,
      "outputs": [
        {
          "output_type": "stream",
          "text": [
            "i wouldn't rent this one even on dollar rental night \n",
            "\n",
            "negative review \n",
            "\n",
            "11\n"
          ],
          "name": "stdout"
        }
      ]
    },
    {
      "cell_type": "markdown",
      "metadata": {
        "colab_type": "text",
        "id": "0Ah5fgKnlPym"
      },
      "source": [
        "The shortest review has a label of '0', which means the review is negative."
      ]
    },
    {
      "cell_type": "markdown",
      "metadata": {
        "colab_type": "text",
        "id": "oPSFYBhbwvV9"
      },
      "source": [
        "## Continue Exploring the Training Sample\n",
        "\n",
        "We continue with the average review length."
      ]
    },
    {
      "cell_type": "code",
      "metadata": {
        "colab_type": "code",
        "id": "E1E2Cgo-uH2C",
        "colab": {
          "base_uri": "https://localhost:8080/",
          "height": 34
        },
        "outputId": "a9130370-ae18-49ca-8eea-bbcc7b68c82c"
      },
      "source": [
        "length = [len(i) for i in train_reviews]\n",
        "\n",
        "print ('average review length:', np.mean(length))"
      ],
      "execution_count": null,
      "outputs": [
        {
          "output_type": "stream",
          "text": [
            "average review length: 238.71364\n"
          ],
          "name": "stdout"
        }
      ]
    },
    {
      "cell_type": "markdown",
      "metadata": {
        "colab_type": "text",
        "id": "BwOdVt29uf1C"
      },
      "source": [
        "The average length of a review is around 238 words."
      ]
    },
    {
      "cell_type": "markdown",
      "metadata": {
        "colab_type": "text",
        "id": "tUu9j6Nnw1mb"
      },
      "source": [
        " Next, we display the first label and review (encoded as integers)."
      ]
    },
    {
      "cell_type": "code",
      "metadata": {
        "colab_type": "code",
        "id": "z1FLuS6GugE6",
        "colab": {
          "base_uri": "https://localhost:8080/",
          "height": 67
        },
        "outputId": "59b535fc-296d-4332-d9a3-e80b68e69be0"
      },
      "source": [
        "first_label = train_labels[0]\n",
        "\n",
        "print('label:', first_label, end=' ')\n",
        "\n",
        "idea = opinion(first_label)\n",
        "print ('(' + idea + ')', br)\n",
        "\n",
        "# display slice of first review\n",
        "print (train_reviews[0][:20])"
      ],
      "execution_count": null,
      "outputs": [
        {
          "output_type": "stream",
          "text": [
            "label: 1 (positive review) \n",
            "\n",
            "[1, 14, 22, 16, 43, 530, 973, 1622, 1385, 65, 458, 4468, 66, 3941, 4, 173, 36, 256, 5, 25]\n"
          ],
          "name": "stdout"
        }
      ]
    },
    {
      "cell_type": "markdown",
      "metadata": {
        "colab_type": "text",
        "id": "56c0P8RVvvLa"
      },
      "source": [
        "The first review is positive. The review itself is encoded as a set of integers where each integer represents a word."
      ]
    },
    {
      "cell_type": "markdown",
      "metadata": {
        "colab_type": "text",
        "id": "3OcNkBnAw7L7"
      },
      "source": [
        "We can display the first review in a readable format by decoding the integer IDs back into words."
      ]
    },
    {
      "cell_type": "code",
      "metadata": {
        "colab_type": "code",
        "id": "g3X2lGXgv-d4",
        "colab": {
          "base_uri": "https://localhost:8080/",
          "height": 34
        },
        "outputId": "7e75d54d-b0bd-42fc-ed2d-1c829861e329"
      },
      "source": [
        "review = readable(train_reviews[0])\n",
        "print (review[2:105] + ' ...')"
      ],
      "execution_count": null,
      "outputs": [
        {
          "output_type": "stream",
          "text": [
            "this film was just brilliant casting location scenery story direction everyone's really suited the part ...\n"
          ],
          "name": "stdout"
        }
      ]
    },
    {
      "cell_type": "markdown",
      "metadata": {
        "colab_type": "text",
        "id": "INDhRYM-zaj7"
      },
      "source": [
        "We printed only the first part of the review. To display the full review, just print 'review'."
      ]
    },
    {
      "cell_type": "markdown",
      "metadata": {
        "colab_type": "text",
        "id": "4A_XDCSWLFdN"
      },
      "source": [
        "# Train Keras Data\n",
        "\n",
        "As mentioned earlier, it is <strong><font color=red>not</font></strong> ideal to train IMDb with Keras data. But, we show you how for completeness. So, we won't time explaining the code. We only train the model for one epoch to verify that everything works as expected.\n",
        "\n",
        "We also show you this model because Keras is very popular in industry. You may encounter situations where Keras is the sofware of choice. As such, you may not be able to model with TensorFlow 2.x. In the next section, we carefully explain how to train IMDb the recommended way."
      ]
    },
    {
      "cell_type": "code",
      "metadata": {
        "colab_type": "code",
        "id": "_G7x2FLFL28A",
        "colab": {
          "base_uri": "https://localhost:8080/",
          "height": 386
        },
        "outputId": "a7022cf5-508c-431b-af24-e287b9ef4816"
      },
      "source": [
        "from tensorflow.keras.preprocessing.sequence import pad_sequences\n",
        "from tensorflow.keras.layers import Embedding, LSTM\n",
        "\n",
        "# limit vocabulary to 8000 most commonly used words in reviews\n",
        "vocab_size = 8000\n",
        "\n",
        "# cut text 80 words that correspond to the vocabulary\n",
        "maxlen = 80\n",
        "\n",
        "print('load data...', br)\n",
        "(x_train, y_train), (x_test, y_test) = imdb.load_data(num_words=vocab_size)\n",
        "\n",
        "print ('train and test features:')\n",
        "print (len(x_train), 'train sequences')\n",
        "print (len(x_test), 'test sequences', br)\n",
        "\n",
        "print ('sequence shape before padding:')\n",
        "print ('x_train shape:', x_train.shape)\n",
        "print ('x_test shape:', x_test.shape, br)\n",
        "\n",
        "x_train = np.asarray(x_train)\n",
        "x_test = np.asarray(x_test)\n",
        "\n",
        "# ensure that all samples are the same size for training\n",
        "print('padded sequences (samples, maxlen):')\n",
        "x_train = pad_sequences(x_train, maxlen=maxlen)\n",
        "x_test = pad_sequences(x_test, maxlen=maxlen)\n",
        "print('x_train shape:', x_train.shape)\n",
        "print('x_test shape:', x_test.shape, br)\n",
        "\n",
        "# prepare data for TensforFlow consumption\n",
        "\n",
        "buffer_size = 10000\n",
        "batch_size = 512\n",
        "\n",
        "train_ds = tf.data.Dataset.from_tensor_slices((x_train, y_train))\n",
        "train_ds = train_ds.shuffle(buffer_size).batch(batch_size).prefetch(1)\n",
        "\n",
        "test_ds = tf.data.Dataset.from_tensor_slices((x_test, y_test))\n",
        "test_ds = test_ds.batch(batch_size).prefetch(1)\n",
        "\n",
        "print('build model...', br)\n",
        "\n",
        "# clear any previous models\n",
        "\n",
        "keras.backend.clear_session()\n",
        "\n",
        "embed_size = 128\n",
        "model = Sequential([\n",
        "  Embedding(vocab_size, embed_size, mask_zero=True,\n",
        "            input_shape=[None]),\n",
        "  GRU(128, return_sequences=True),\n",
        "  GRU(128),\n",
        "  Dense(1, activation=\"sigmoid\")\n",
        "])\n",
        "\n",
        "print('compile model...', br)\n",
        "\n",
        "model.compile(loss='binary_crossentropy',\n",
        "              optimizer='adam',\n",
        "              metrics=['accuracy'])\n",
        "\n",
        "print('train...', br)\n",
        "\n",
        "# to suppress unuseful error messages\n",
        "\n",
        "tf.compat.v1.logging.set_verbosity(tf.compat.v1.logging.ERROR)\n",
        "\n",
        "epochs = 1 # limit to one epoch to verify that everything works ...\n",
        "model.fit(train_ds, batch_size=BATCH_SIZE,\n",
        "          epochs=epochs, validation_data=(test_ds))"
      ],
      "execution_count": null,
      "outputs": [
        {
          "output_type": "stream",
          "text": [
            "load data... \n",
            "\n",
            "train and test features:\n",
            "25000 train sequences\n",
            "25000 test sequences \n",
            "\n",
            "sequence shape before padding:\n",
            "x_train shape: (25000,)\n",
            "x_test shape: (25000,) \n",
            "\n",
            "padded sequences (samples, maxlen):\n",
            "x_train shape: (25000, 80)\n",
            "x_test shape: (25000, 80) \n",
            "\n",
            "build model... \n",
            "\n",
            "compile model... \n",
            "\n",
            "train... \n",
            "\n",
            "49/49 [==============================] - 33s 679ms/step - loss: 0.5682 - accuracy: 0.6898 - val_loss: 0.3960 - val_accuracy: 0.8182\n"
          ],
          "name": "stdout"
        },
        {
          "output_type": "execute_result",
          "data": {
            "text/plain": [
              "<tensorflow.python.keras.callbacks.History at 0x7f93b622d710>"
            ]
          },
          "metadata": {
            "tags": []
          },
          "execution_count": 69
        }
      ]
    },
    {
      "cell_type": "markdown",
      "metadata": {
        "colab_type": "text",
        "id": "43k9UKppQVDM"
      },
      "source": [
        "# Load IMDb as a TFDS\n",
        "\n",
        "The <strong><font color=blue>best</font></strong> way to model IMDb data is to load it as a TFDS (TensorFlow Dataset)."
      ]
    },
    {
      "cell_type": "code",
      "metadata": {
        "colab_type": "code",
        "id": "CL54xA_q261g",
        "colab": {
          "base_uri": "https://localhost:8080/",
          "height": 348,
          "referenced_widgets": [
            "9ddb1549edbe4dc2a047716edf6616c7",
            "5f34ef75f30e4c1d8f97ad7c641101ca",
            "1d19494e48004b9290ecf48694d9ec8a",
            "d33b3f233c94475cbf157bf175647f39",
            "24fd8b4baadd4ae59d31c7f72f833560",
            "a32479f67f264827a33998910ac1e4bd",
            "a8ec81aca70243f5a9a81d168522b869",
            "1b255d0822114672b8918af9fdfebc9f",
            "7fe1ad25e4f4499db9fe0f365067c173",
            "f5558e8d246e43a5abf3b95a8ad6b15b",
            "a5a7a30daa6c4ccbb6295f2c4094e63d",
            "b43966da61704b4eb7190feaba68e7a2",
            "728a98219b2f4a8da2dc32fa646983b4",
            "b657f0fab36543179a15e886e4655dc2",
            "0851a5ec3ee94f69b87c6852a22798ff",
            "65caa0200b5541eb93eeeff6240890aa",
            "f7189aaf2a9d44758b24c0c085628b92",
            "767e7be5e4284a26a6005bd103870c43",
            "d01c032042cc4675918e2a12f6963e9f",
            "a8747e07987940bdbc5551782179c4d8",
            "d6573fbb1b6e4fd6b4942a58627daba5",
            "00bc2d346c5242d6a4e10f7ec9611189",
            "f5024929f1c245dbb335a4e95c39232c",
            "71dc643a237c4be7a692a9ca5b8a8601",
            "5d031e7b5e6a42afb65c2d637e24732d",
            "bf306e0590414837b7cb962dddb045c5",
            "89b8c0e69dec4d2f9bd40cb702715606",
            "19a96ae7be77418cbf2afdd2376aeab4",
            "6908fc52ae39416ca3842016036fc7c3",
            "2ce23c0409aa4015bf4d3c99bee0e1d4",
            "ea9d755ea2df4f979bce13ed8236aa05",
            "bcc2d9de9ffb4e5e8769600ca4831660",
            "9237e1508c4a441083bafb1b0ae84693",
            "972d7ab791fc4d8b90a68deec4a38c5c",
            "77aa7cc52ce24e3c8988841dda0f1d7d",
            "97484895adec452eb6f4ccc86260461d",
            "e37e92c0d0bb4aca9fa6bf3efb618e92",
            "ed4eb837a54544c0813c030246f21349",
            "8b5134b67d9a4169bb8d0c362e52f053",
            "5d799f356d8a46ec89a8da3d775bb17f",
            "e0e9f24f22624cbd94a5d2e0a0fbaef2",
            "4f616ef2235b49e5a49dde88a4c3c04b",
            "d34710e208e44fca8d6adb2bc49bd96d",
            "e7d113ffb2884989afec2027ee89c868",
            "3207f0d7183544ab911a2617f0165970",
            "e4fd8849cfcf4b8a83d4c857025fc6fd",
            "1146d0231dba4bbab0aea2eac4a8bdf9",
            "df43b16c57a14dcd9fc250c58df4456f",
            "f5a279833bb94c48bcee2bdde4ca4b26",
            "480351bd087d4611a325bc75cb2498da",
            "c06bcc9228e140f8a5fab242e5cfbf2a",
            "3d65121a856d445f8bf5788c42d21696",
            "b6195225283941abbe1fd7d8fd1cbd6f",
            "7e4854cdd0af4b9a871689164b87b891",
            "c96fbe42386048b88402a87b555e750a",
            "e8aa0375818f4972acedaf3a647a6397",
            "02a39a7056f24a12b7183bb5bfc14978",
            "26ea6b2f296f4fbc91502f472e5c4ce8",
            "989df9c9d05f4ca8be759b686826c901",
            "7a2bb49cf304474d9453e3807c072d9c",
            "d3322082ac7e40c9a0d0180a35306503",
            "e15c0a5784b648e4960ab2ce9521e468",
            "ffbf6488cb814fdc97ec0c499c7f6249",
            "9a93d34756914c7782c222d792355f75"
          ]
        },
        "outputId": "9cad4a09-dd55-4a15-b906-4a95d112ae23"
      },
      "source": [
        "import tensorflow_datasets as tfds\n",
        "\n",
        "data, info = tfds.load('imdb_reviews/subwords8k', with_info=True,\n",
        "                       as_supervised=True, shuffle_files=True)"
      ],
      "execution_count": null,
      "outputs": [
        {
          "output_type": "stream",
          "text": [
            "\u001b[1mDownloading and preparing dataset imdb_reviews/subwords8k/1.0.0 (download: 80.23 MiB, generated: Unknown size, total: 80.23 MiB) to /root/tensorflow_datasets/imdb_reviews/subwords8k/1.0.0...\u001b[0m\n"
          ],
          "name": "stdout"
        },
        {
          "output_type": "display_data",
          "data": {
            "application/vnd.jupyter.widget-view+json": {
              "model_id": "9ddb1549edbe4dc2a047716edf6616c7",
              "version_minor": 0,
              "version_major": 2
            },
            "text/plain": [
              "HBox(children=(IntProgress(value=1, bar_style='info', description='Dl Completed...', max=1, style=ProgressStyl…"
            ]
          },
          "metadata": {
            "tags": []
          }
        },
        {
          "output_type": "display_data",
          "data": {
            "application/vnd.jupyter.widget-view+json": {
              "model_id": "7fe1ad25e4f4499db9fe0f365067c173",
              "version_minor": 0,
              "version_major": 2
            },
            "text/plain": [
              "HBox(children=(IntProgress(value=1, bar_style='info', description='Dl Size...', max=1, style=ProgressStyle(des…"
            ]
          },
          "metadata": {
            "tags": []
          }
        },
        {
          "output_type": "stream",
          "text": [
            "\n",
            "\n",
            "\n",
            "\n"
          ],
          "name": "stdout"
        },
        {
          "output_type": "display_data",
          "data": {
            "application/vnd.jupyter.widget-view+json": {
              "model_id": "f7189aaf2a9d44758b24c0c085628b92",
              "version_minor": 0,
              "version_major": 2
            },
            "text/plain": [
              "HBox(children=(IntProgress(value=1, bar_style='info', max=1), HTML(value='')))"
            ]
          },
          "metadata": {
            "tags": []
          }
        },
        {
          "output_type": "stream",
          "text": [
            "\rShuffling and writing examples to /root/tensorflow_datasets/imdb_reviews/subwords8k/1.0.0.incompleteNXWIRP/imdb_reviews-train.tfrecord\n"
          ],
          "name": "stdout"
        },
        {
          "output_type": "display_data",
          "data": {
            "application/vnd.jupyter.widget-view+json": {
              "model_id": "5d031e7b5e6a42afb65c2d637e24732d",
              "version_minor": 0,
              "version_major": 2
            },
            "text/plain": [
              "HBox(children=(IntProgress(value=0, max=25000), HTML(value='')))"
            ]
          },
          "metadata": {
            "tags": []
          }
        },
        {
          "output_type": "stream",
          "text": [
            "\r"
          ],
          "name": "stdout"
        },
        {
          "output_type": "display_data",
          "data": {
            "application/vnd.jupyter.widget-view+json": {
              "model_id": "9237e1508c4a441083bafb1b0ae84693",
              "version_minor": 0,
              "version_major": 2
            },
            "text/plain": [
              "HBox(children=(IntProgress(value=1, bar_style='info', max=1), HTML(value='')))"
            ]
          },
          "metadata": {
            "tags": []
          }
        },
        {
          "output_type": "stream",
          "text": [
            "\rShuffling and writing examples to /root/tensorflow_datasets/imdb_reviews/subwords8k/1.0.0.incompleteNXWIRP/imdb_reviews-test.tfrecord\n"
          ],
          "name": "stdout"
        },
        {
          "output_type": "display_data",
          "data": {
            "application/vnd.jupyter.widget-view+json": {
              "model_id": "e0e9f24f22624cbd94a5d2e0a0fbaef2",
              "version_minor": 0,
              "version_major": 2
            },
            "text/plain": [
              "HBox(children=(IntProgress(value=0, max=25000), HTML(value='')))"
            ]
          },
          "metadata": {
            "tags": []
          }
        },
        {
          "output_type": "stream",
          "text": [
            "\r"
          ],
          "name": "stdout"
        },
        {
          "output_type": "display_data",
          "data": {
            "application/vnd.jupyter.widget-view+json": {
              "model_id": "f5a279833bb94c48bcee2bdde4ca4b26",
              "version_minor": 0,
              "version_major": 2
            },
            "text/plain": [
              "HBox(children=(IntProgress(value=1, bar_style='info', max=1), HTML(value='')))"
            ]
          },
          "metadata": {
            "tags": []
          }
        },
        {
          "output_type": "stream",
          "text": [
            "\rShuffling and writing examples to /root/tensorflow_datasets/imdb_reviews/subwords8k/1.0.0.incompleteNXWIRP/imdb_reviews-unsupervised.tfrecord\n"
          ],
          "name": "stdout"
        },
        {
          "output_type": "display_data",
          "data": {
            "application/vnd.jupyter.widget-view+json": {
              "model_id": "02a39a7056f24a12b7183bb5bfc14978",
              "version_minor": 0,
              "version_major": 2
            },
            "text/plain": [
              "HBox(children=(IntProgress(value=0, max=50000), HTML(value='')))"
            ]
          },
          "metadata": {
            "tags": []
          }
        },
        {
          "output_type": "stream",
          "text": [
            "\u001b[1mDataset imdb_reviews downloaded and prepared to /root/tensorflow_datasets/imdb_reviews/subwords8k/1.0.0. Subsequent calls will reuse this data.\u001b[0m\n",
            "\r"
          ],
          "name": "stdout"
        }
      ]
    },
    {
      "cell_type": "markdown",
      "metadata": {
        "colab_type": "text",
        "id": "P_sDV-grL5AC"
      },
      "source": [
        "We use the **imdb_reviews/subwords8k** TFDS so we don't have to train on the entire IMDb datast. The *subwords8k* subset has a vocabulary size of 8,000, which means that we are training the model on the 8,000 most commonly used words in the reviews. It also means that we don't have to build our own vocabulary dictionary. We can get good performance with this subset and substantially reduce training time. Loading the TFDS also gives us access to the **tfds.features.text.SubwordTextEncoder**, which is the TFDS text encoder.\n",
        "\n",
        "We set **with_info=True** to enable access to information about the dataset and the encoder. We set **as_supervised=True** so the returned TFDS has a 2-tuple structure (input, label) in accordance to builder.info.supervised_keys. If set to *False* (the default), the returned TFDS will have a dictionary with all features included. We set **shuffle_files=True** because shuffling typically improves performance.\n",
        "\n",
        "For more information about all features of a TFDS, peruse the following URL:\n",
        "\n",
        "https://www.tensorflow.org/datasets/api_docs/python/tfds/load\n",
        "\n",
        "For more infor about 'imdb_reviews', peruse the following URL:\n",
        "\n",
        "https://www.tensorflow.org/datasets/catalog/imdb_reviews"
      ]
    },
    {
      "cell_type": "markdown",
      "metadata": {
        "colab_type": "text",
        "id": "yTVT5DPiW8Qd"
      },
      "source": [
        "# Display the Keys"
      ]
    },
    {
      "cell_type": "code",
      "metadata": {
        "colab_type": "code",
        "id": "FfL3whPRW2CP",
        "colab": {
          "base_uri": "https://localhost:8080/",
          "height": 34
        },
        "outputId": "cc53efbd-36d6-424f-b1b9-6ed772a2ea4d"
      },
      "source": [
        "data.keys()"
      ],
      "execution_count": null,
      "outputs": [
        {
          "output_type": "execute_result",
          "data": {
            "text/plain": [
              "dict_keys(['test', 'train', 'unsupervised'])"
            ]
          },
          "metadata": {
            "tags": []
          },
          "execution_count": 71
        }
      ]
    },
    {
      "cell_type": "markdown",
      "metadata": {
        "colab_type": "text",
        "id": "TJnHpocc64Y_"
      },
      "source": [
        "By displaying the keys, we know that the dataset is split test, train, and unsupervised samples."
      ]
    },
    {
      "cell_type": "markdown",
      "metadata": {
        "colab_type": "text",
        "id": "DBauS_r3PHpk"
      },
      "source": [
        "# Split Data into Train and Test Samples\n",
        "\n",
        "Since we are building a supervised model, we are only interested in the train and test samples."
      ]
    },
    {
      "cell_type": "code",
      "metadata": {
        "colab_type": "code",
        "id": "DQ0-7xL2L5H5",
        "colab": {}
      },
      "source": [
        "train, test = data['train'], data['test']"
      ],
      "execution_count": null,
      "outputs": []
    },
    {
      "cell_type": "markdown",
      "metadata": {
        "colab_type": "text",
        "id": "8Wapo4f6QRgE"
      },
      "source": [
        "# Display the First Sample\n",
        "\n",
        "Display the first review and its label from the training sample."
      ]
    },
    {
      "cell_type": "code",
      "metadata": {
        "colab_type": "code",
        "id": "JoCUaHKTQRrb",
        "colab": {
          "base_uri": "https://localhost:8080/",
          "height": 269
        },
        "outputId": "4c699785-5a77-431d-e26a-72d19499f039"
      },
      "source": [
        "for sample, target in train.take(1):\n",
        "  print ('encoded review:')\n",
        "  print (sample, br)\n",
        "  print ('target:', target.numpy())"
      ],
      "execution_count": null,
      "outputs": [
        {
          "output_type": "stream",
          "text": [
            "encoded review:\n",
            "tf.Tensor(\n",
            "[  12   31   93  867    7 1256 6585 7961  421  365    2   26   14    9\n",
            "  988 1089    7    4 6728    6  276 5760 2587    2   81 6118 8029    2\n",
            "  139 1892 7961    5 5402  246   25    1 1771  350    5  369   56 5397\n",
            "  102    4 2547    3 4001   25   14 7822  209   12 3531 6585 7961   99\n",
            "    1   32   18 4762    3   19  184 3223   18 5855 1045    3 4232 3337\n",
            "   64 1347    5 1190    3 4459    8  614    7 3129    2   26   22   84\n",
            " 7020    6   71   18 4924 1160  161   50 2265    3   12 3983    2   12\n",
            "  264   31 2545  261    6    1   66    2   26  131  393    1 5846    6\n",
            "   15    5  473   56  614    7 1470    6  116  285 4755 2088 7961  273\n",
            "  119  213 3414 7961   23  332 1019    3   12 7667  505   14   32   44\n",
            "  208 7975], shape=(142,), dtype=int64) \n",
            "\n",
            "target: 0\n"
          ],
          "name": "stdout"
        }
      ]
    },
    {
      "cell_type": "markdown",
      "metadata": {
        "colab_type": "text",
        "id": "5W-57xRARZAY"
      },
      "source": [
        "Each example in both train and test sets contain contain a review tensor and a label tensor. Reviews are already encoded as integers with datatype 'int64'. Labels are either 0 (negative) or 1 (positive) with datatype 'int64'.\n",
        "\n",
        "We know that the first sample review contains 163 words indicated by **shape=(163,)**. The label is **0**, which means that the review is negative. Notice, that we can convert tensors to values with the **numpy()** method. We didn't convert the review because we wanted to display its shape."
      ]
    },
    {
      "cell_type": "markdown",
      "metadata": {
        "colab_type": "text",
        "id": "o4NDj4wXSho0"
      },
      "source": [
        "# Display the overall characteristics of the TFDS.\n",
        "\n",
        "From the 'info' dataset, we can get all kinds of information."
      ]
    },
    {
      "cell_type": "code",
      "metadata": {
        "colab_type": "code",
        "id": "h0s5uKqE7L8Z",
        "colab": {
          "base_uri": "https://localhost:8080/",
          "height": 541
        },
        "outputId": "400f0181-6d2f-4bee-f560-a08fcc047710"
      },
      "source": [
        "# see all of the information!\n",
        "\n",
        "info"
      ],
      "execution_count": null,
      "outputs": [
        {
          "output_type": "execute_result",
          "data": {
            "text/plain": [
              "tfds.core.DatasetInfo(\n",
              "    name='imdb_reviews',\n",
              "    version=1.0.0,\n",
              "    description='Large Movie Review Dataset.\n",
              "This is a dataset for binary sentiment classification containing substantially more data than previous benchmark datasets. We provide a set of 25,000 highly polar movie reviews for training, and 25,000 for testing. There is additional unlabeled data for use as well.',\n",
              "    homepage='http://ai.stanford.edu/~amaas/data/sentiment/',\n",
              "    features=FeaturesDict({\n",
              "        'label': ClassLabel(shape=(), dtype=tf.int64, num_classes=2),\n",
              "        'text': Text(shape=(None,), dtype=tf.int64, encoder=<SubwordTextEncoder vocab_size=8185>),\n",
              "    }),\n",
              "    total_num_examples=100000,\n",
              "    splits={\n",
              "        'test': 25000,\n",
              "        'train': 25000,\n",
              "        'unsupervised': 50000,\n",
              "    },\n",
              "    supervised_keys=('text', 'label'),\n",
              "    citation=\"\"\"@InProceedings{maas-EtAl:2011:ACL-HLT2011,\n",
              "      author    = {Maas, Andrew L.  and  Daly, Raymond E.  and  Pham, Peter T.  and  Huang, Dan  and  Ng, Andrew Y.  and  Potts, Christopher},\n",
              "      title     = {Learning Word Vectors for Sentiment Analysis},\n",
              "      booktitle = {Proceedings of the 49th Annual Meeting of the Association for Computational Linguistics: Human Language Technologies},\n",
              "      month     = {June},\n",
              "      year      = {2011},\n",
              "      address   = {Portland, Oregon, USA},\n",
              "      publisher = {Association for Computational Linguistics},\n",
              "      pages     = {142--150},\n",
              "      url       = {http://www.aclweb.org/anthology/P11-1015}\n",
              "    }\"\"\",\n",
              "    redistribution_info=,\n",
              ")"
            ]
          },
          "metadata": {
            "tags": []
          },
          "execution_count": 74
        }
      ]
    },
    {
      "cell_type": "code",
      "metadata": {
        "colab_type": "code",
        "id": "iCUKCZjNXWYG",
        "colab": {
          "base_uri": "https://localhost:8080/",
          "height": 34
        },
        "outputId": "bf2745c0-6712-4f8e-eb74-5fab047c3d2f"
      },
      "source": [
        "# see the train and test sample splits\n",
        "\n",
        "train_size = info.splits['train'].num_examples\n",
        "test_size = info.splits['test'].num_examples\n",
        "\n",
        "train_size, test_size"
      ],
      "execution_count": null,
      "outputs": [
        {
          "output_type": "execute_result",
          "data": {
            "text/plain": [
              "(25000, 25000)"
            ]
          },
          "metadata": {
            "tags": []
          },
          "execution_count": 75
        }
      ]
    },
    {
      "cell_type": "markdown",
      "metadata": {
        "colab_type": "text",
        "id": "3RtHrROl7CME"
      },
      "source": [
        "By perusing the information from 'info', we are able to return the train and test splits with 'info.splits' using the appropriate keys."
      ]
    },
    {
      "cell_type": "code",
      "metadata": {
        "colab_type": "code",
        "id": "XW9sp-euXqGG",
        "colab": {
          "base_uri": "https://localhost:8080/",
          "height": 34
        },
        "outputId": "6a03932a-6dec-4113-9801-ef2aba7c616e"
      },
      "source": [
        "# see the supervised keys\n",
        "\n",
        "info.supervised_keys"
      ],
      "execution_count": null,
      "outputs": [
        {
          "output_type": "execute_result",
          "data": {
            "text/plain": [
              "('text', 'label')"
            ]
          },
          "metadata": {
            "tags": []
          },
          "execution_count": 76
        }
      ]
    },
    {
      "cell_type": "code",
      "metadata": {
        "colab_type": "code",
        "id": "7umzkQQsYF2I",
        "colab": {
          "base_uri": "https://localhost:8080/",
          "height": 84
        },
        "outputId": "a2fa75d7-7b96-410e-ca6c-72c130010a56"
      },
      "source": [
        "# see feature information\n",
        "\n",
        "info.features"
      ],
      "execution_count": null,
      "outputs": [
        {
          "output_type": "execute_result",
          "data": {
            "text/plain": [
              "FeaturesDict({\n",
              "    'label': ClassLabel(shape=(), dtype=tf.int64, num_classes=2),\n",
              "    'text': Text(shape=(None,), dtype=tf.int64, encoder=<SubwordTextEncoder vocab_size=8185>),\n",
              "})"
            ]
          },
          "metadata": {
            "tags": []
          },
          "execution_count": 77
        }
      ]
    },
    {
      "cell_type": "code",
      "metadata": {
        "colab_type": "code",
        "id": "058T3zHZYzdi",
        "colab": {
          "base_uri": "https://localhost:8080/",
          "height": 34
        },
        "outputId": "914c7329-e916-4c1b-dcd8-4c9916ac567b"
      },
      "source": [
        "# see the name of the TFDS and a slice of its description\n",
        "\n",
        "info.name, info.description[0:25]"
      ],
      "execution_count": null,
      "outputs": [
        {
          "output_type": "execute_result",
          "data": {
            "text/plain": [
              "('imdb_reviews', 'Large Movie Review Datase')"
            ]
          },
          "metadata": {
            "tags": []
          },
          "execution_count": 78
        }
      ]
    },
    {
      "cell_type": "code",
      "metadata": {
        "colab_type": "code",
        "id": "zLiGEE7k8Gjg",
        "colab": {
          "base_uri": "https://localhost:8080/",
          "height": 34
        },
        "outputId": "0e0c11d9-a36e-4d8a-8650-acdead8df6ea"
      },
      "source": [
        "# we can even get the title from citation string!\n",
        "\n",
        "info.citation[184:242]"
      ],
      "execution_count": null,
      "outputs": [
        {
          "output_type": "execute_result",
          "data": {
            "text/plain": [
              "'title     = {Learning Word Vectors for Sentiment Analysis}'"
            ]
          },
          "metadata": {
            "tags": []
          },
          "execution_count": 79
        }
      ]
    },
    {
      "cell_type": "markdown",
      "metadata": {
        "colab_type": "text",
        "id": "sy-XW-vXZlPF"
      },
      "source": [
        "To get any piece from the info dataset, just type 'info.' in a code snippet and a drop-down helper pops up."
      ]
    },
    {
      "cell_type": "markdown",
      "metadata": {
        "colab_type": "text",
        "id": "xJKwqZM9SzaX"
      },
      "source": [
        "# Create the Encoder\n",
        "\n",
        "An encoder is built-into the TFDS *SubwordTextEncoder*. With the encoder, we can easily decode (integer to text) and encode (text to integer). We access the encoder from dataset **info**. Let's create an encoder based on the IMDb dataset we loaded into memory."
      ]
    },
    {
      "cell_type": "code",
      "metadata": {
        "colab_type": "code",
        "id": "VCIB0PWpTFP-",
        "colab": {}
      },
      "source": [
        "# create an encoder\n",
        "\n",
        "encoder = info.features['text'].encoder"
      ],
      "execution_count": null,
      "outputs": []
    },
    {
      "cell_type": "markdown",
      "metadata": {
        "colab_type": "text",
        "id": "Ic-s289NJR0E"
      },
      "source": [
        "# Test the Encoder"
      ]
    },
    {
      "cell_type": "code",
      "metadata": {
        "colab_type": "code",
        "id": "iRb85GseJR8D",
        "colab": {
          "base_uri": "https://localhost:8080/",
          "height": 50
        },
        "outputId": "a9df5ddd-576b-4e9f-a5a5-c150f9e2aa54"
      },
      "source": [
        "sample_string = 'What a Beautiful Day!'\n",
        "\n",
        "encoded_string = encoder.encode(sample_string)\n",
        "print ('Encoded string:', encoded_string)\n",
        "\n",
        "original_string = encoder.decode(encoded_string)\n",
        "print ('Original string:', original_string)"
      ],
      "execution_count": null,
      "outputs": [
        {
          "output_type": "stream",
          "text": [
            "Encoded string: [274, 4, 6555, 5392, 7961, 2431, 7962]\n",
            "Original string: What a Beautiful Day!\n"
          ],
          "name": "stdout"
        }
      ]
    },
    {
      "cell_type": "markdown",
      "metadata": {
        "colab_type": "text",
        "id": "o_RzqbBnIzhc"
      },
      "source": [
        "# Use the Encoder"
      ]
    },
    {
      "cell_type": "markdown",
      "metadata": {
        "colab_type": "text",
        "id": "GkkujYR4Gvqx"
      },
      "source": [
        "Create a function that returns the label rating."
      ]
    },
    {
      "cell_type": "code",
      "metadata": {
        "colab_type": "code",
        "id": "RcLVrY1LGv3x",
        "colab": {}
      },
      "source": [
        "def rev(d):\n",
        "  if tf.math.equal(d, 0):\n",
        "    return 'negative review'\n",
        "  elif tf.math.equal(d, 1):\n",
        "    return 'positive review'"
      ],
      "execution_count": null,
      "outputs": []
    },
    {
      "cell_type": "markdown",
      "metadata": {
        "colab_type": "text",
        "id": "JlIQzh34VURu"
      },
      "source": [
        "## Display the First Review\n",
        "\n",
        "Display the decoded review and its label rating. We only display a part of the review. But, you can display the full review by printing 'text' instead of printing 'text[0:100]' as we did in the example code."
      ]
    },
    {
      "cell_type": "code",
      "metadata": {
        "colab_type": "code",
        "id": "FX-sSfVsTfAw",
        "colab": {
          "base_uri": "https://localhost:8080/",
          "height": 50
        },
        "outputId": "dcac5c16-a213-44ee-f93a-40698f732bd0"
      },
      "source": [
        "for sample, target in train.take(1):\n",
        "  print ('review:', end=' ')\n",
        "  text = encoder.decode(sample)\n",
        "  print (text[0:100])\n",
        "  print ('opinion:', end=' ')\n",
        "  print ('\\'' + rev(target) + '\\'')"
      ],
      "execution_count": null,
      "outputs": [
        {
          "output_type": "stream",
          "text": [
            "review: This was an absolutely terrible movie. Don't be lured in by Christopher Walken or Michael Ironside. \n",
            "opinion: 'negative review'\n"
          ],
          "name": "stdout"
        }
      ]
    },
    {
      "cell_type": "markdown",
      "metadata": {
        "colab_type": "text",
        "id": "lFCqcYIiHph0"
      },
      "source": [
        "## Display Multiple Reviews\n",
        "\n",
        "We can also view multiple reviews. Let's skip the first review since we've already seen it."
      ]
    },
    {
      "cell_type": "code",
      "metadata": {
        "colab_type": "code",
        "id": "8aBa0F2lHud2",
        "colab": {
          "base_uri": "https://localhost:8080/",
          "height": 252
        },
        "outputId": "826548fe-86b3-42aa-fb1f-686c739bd6a8"
      },
      "source": [
        "n = 6\n",
        "\n",
        "for i, sample in enumerate(train.take(n)):\n",
        "  if i > 0:\n",
        "    print ('review:', end=' ')\n",
        "    text = encoder.decode(sample[0])\n",
        "    print (text[0:100])\n",
        "    print ('opinion:', end=' ')\n",
        "    print ('\\'' + rev(sample[1]) + '\\'')\n",
        "    if i < n-1:\n",
        "      print ()"
      ],
      "execution_count": null,
      "outputs": [
        {
          "output_type": "stream",
          "text": [
            "review: I have been known to fall asleep during films, but this is usually due to a combination of things in\n",
            "opinion: 'negative review'\n",
            "\n",
            "review: Mann photographs the Alberta Rocky Mountains in a superb fashion, and Jimmy Stewart and Walter Brenn\n",
            "opinion: 'negative review'\n",
            "\n",
            "review: This is the kind of film for a snowy Sunday afternoon when the rest of the world can go ahead with i\n",
            "opinion: 'positive review'\n",
            "\n",
            "review: As others have mentioned, all the women that go nude in this film are mostly absolutely gorgeous. Th\n",
            "opinion: 'positive review'\n",
            "\n",
            "review: This is a film which should be seen by anybody interested in, effected by, or suffering from an eati\n",
            "opinion: 'positive review'\n"
          ],
          "name": "stdout"
        }
      ]
    },
    {
      "cell_type": "markdown",
      "metadata": {
        "colab_type": "text",
        "id": "SwrrZEWDVoit"
      },
      "source": [
        "# Display Vocabulary Size"
      ]
    },
    {
      "cell_type": "code",
      "metadata": {
        "colab_type": "code",
        "id": "WLii-yzfVorH",
        "colab": {
          "base_uri": "https://localhost:8080/",
          "height": 34
        },
        "outputId": "eb91a1c3-36b6-428b-9517-a8d3777398d2"
      },
      "source": [
        "print('Vocabulary size: {}'.format(encoder.vocab_size))"
      ],
      "execution_count": null,
      "outputs": [
        {
          "output_type": "stream",
          "text": [
            "Vocabulary size: 8185\n"
          ],
          "name": "stdout"
        }
      ]
    },
    {
      "cell_type": "markdown",
      "metadata": {
        "colab_type": "text",
        "id": "EG9IseKKVxJs"
      },
      "source": [
        "# Finalize the Input Pipeline\n",
        "\n",
        "Begin by creating batches of the encoded strings (reviews) to greatly enhance performance. Since machine learning algorithms expect batches of the same size, we use the **padded_batch** method to zero-pad the sequences so that each review is the same length as the longest string in the batch."
      ]
    },
    {
      "cell_type": "code",
      "metadata": {
        "colab_type": "code",
        "id": "fQQ_8MxILTM-",
        "colab": {}
      },
      "source": [
        "# initialize variables\n",
        "\n",
        "BUFFER_SIZE = 10000\n",
        "BATCH_SIZE = 64"
      ],
      "execution_count": null,
      "outputs": []
    },
    {
      "cell_type": "markdown",
      "metadata": {
        "colab_type": "text",
        "id": "dOdrfedGMGJ6"
      },
      "source": [
        "Create train and test samples for TensorFlow consumption. "
      ]
    },
    {
      "cell_type": "code",
      "metadata": {
        "colab_type": "code",
        "id": "57sk0JZXLT6U",
        "colab": {}
      },
      "source": [
        "train_ds = (train\n",
        "            .shuffle(BUFFER_SIZE)\n",
        "            .padded_batch(BATCH_SIZE, padded_shapes=([None],[])))\n",
        "\n",
        "test_ds = (test\n",
        "           .padded_batch(BATCH_SIZE,  padded_shapes=([None],[])))"
      ],
      "execution_count": null,
      "outputs": []
    },
    {
      "cell_type": "markdown",
      "metadata": {
        "colab_type": "text",
        "id": "Gj7MDR2OLlyN"
      },
      "source": [
        "Consult the following URL for updates on padding character tensors:\n",
        "\n",
        "https://www.tensorflow.org/tutorials/text/text_classification_rnn"
      ]
    },
    {
      "cell_type": "markdown",
      "metadata": {
        "colab_type": "text",
        "id": "9R-HZ2QPMVPC"
      },
      "source": [
        "# Create the Model"
      ]
    },
    {
      "cell_type": "code",
      "metadata": {
        "colab_type": "code",
        "id": "Uu1NrgOBObi1",
        "colab": {}
      },
      "source": [
        "# plant random seed for reproducibility\n",
        "\n",
        "tf.random.set_seed(0)\n",
        "np.random.seed(0)\n",
        "\n",
        "# clear any previous models\n",
        "\n",
        "keras.backend.clear_session()\n",
        "\n",
        "from tensorflow.keras.layers import Embedding\n",
        "\n",
        "embed_size = 128\n",
        "model = Sequential([\n",
        "  Embedding(encoder.vocab_size, embed_size, mask_zero=True,\n",
        "            input_shape=[None]),\n",
        "  GRU(128, return_sequences=True),\n",
        "  GRU(128),\n",
        "  Dense(1, activation=\"sigmoid\")\n",
        "])"
      ],
      "execution_count": null,
      "outputs": []
    },
    {
      "cell_type": "markdown",
      "metadata": {
        "colab_type": "text",
        "id": "0iyPioZNcyT1"
      },
      "source": [
        "The first layer is an *Embedding* layer. The **Embedding** layer is used to create word vectors for incoming words. During training, representations of word categories (or word vectors) are learned in a way where similar categories are closer to one another. So, word vectors can store relationships between words like 'good' and 'great'. Word vectors are dense because our model learns word relationships. As a result, word vectors aren't padded with a huge number of zeros like what we do with one-hot encodings. Since we don't train one-hot encoding, we can't learn we encode words before training. Since we don't train one-hot encodings, we can't reduce vector size like with embedding.\n",
        "\n",
        "The Embedding layer accepts the vocabulary size, embedding size, and input shape. We set **mask_zero=True** to inform the model to ignore padding tokens by all downstream layers. Ignoring padding tokens improves performance.\n",
        "\n",
        "The next two layers are GRU layers and the final layer is a single neuron output layer. The output layer uses sigmoid activation to output the estimated probability that the review expresses a positive sentiment regarding the movie."
      ]
    },
    {
      "cell_type": "markdown",
      "metadata": {
        "colab_type": "text",
        "id": "9KOGo-pvoTEF"
      },
      "source": [
        "# Compile the Model"
      ]
    },
    {
      "cell_type": "code",
      "metadata": {
        "colab_type": "code",
        "id": "-3KFl55USbXc",
        "colab": {}
      },
      "source": [
        "model.compile(loss='binary_crossentropy', optimizer='adam',\n",
        "              metrics=['accuracy'])"
      ],
      "execution_count": null,
      "outputs": []
    },
    {
      "cell_type": "markdown",
      "metadata": {
        "colab_type": "text",
        "id": "_RJI0fUloWfX"
      },
      "source": [
        "# Train the Model\n",
        "\n",
        "From multiple experiments, we found that 3 epochs maximized validation accuracy without tuning. Of course, your experiments may differ. As a caveat, tuning text models greatly increases the training time required!"
      ]
    },
    {
      "cell_type": "code",
      "metadata": {
        "colab_type": "code",
        "id": "bXwxK2RsSbaO",
        "colab": {
          "base_uri": "https://localhost:8080/",
          "height": 118
        },
        "outputId": "26cf58f5-8140-4f36-d224-817403666eaf"
      },
      "source": [
        "# to suppress unuseful error messages\n",
        "\n",
        "tf.compat.v1.logging.set_verbosity(tf.compat.v1.logging.ERROR)\n",
        "\n",
        "history = model.fit(train_ds, epochs=3,\n",
        "                    validation_data=test_ds)"
      ],
      "execution_count": null,
      "outputs": [
        {
          "output_type": "stream",
          "text": [
            "Epoch 1/3\n",
            "391/391 [==============================] - 86s 220ms/step - loss: 0.5050 - accuracy: 0.7446 - val_loss: 0.3866 - val_accuracy: 0.8321\n",
            "Epoch 2/3\n",
            "391/391 [==============================] - 84s 214ms/step - loss: 0.3304 - accuracy: 0.8626 - val_loss: 0.3442 - val_accuracy: 0.8540\n",
            "Epoch 3/3\n",
            "391/391 [==============================] - 83s 213ms/step - loss: 0.2338 - accuracy: 0.9074 - val_loss: 0.3297 - val_accuracy: 0.8750\n"
          ],
          "name": "stdout"
        }
      ]
    },
    {
      "cell_type": "markdown",
      "metadata": {
        "colab_type": "text",
        "id": "MJH3XW8xdeW7"
      },
      "source": [
        "# Generalize on Test Data\n",
        "\n",
        "Although model fit information provides validation loss and accuracy values during training, it is always a good idea to explictly evaluate the model on test data because accuracy and loss values can differ."
      ]
    },
    {
      "cell_type": "code",
      "metadata": {
        "colab_type": "code",
        "id": "qm2KVqrvck9K",
        "colab": {
          "base_uri": "https://localhost:8080/",
          "height": 34
        },
        "outputId": "7b5d4a3e-cd94-40a0-d968-c3385dd1562e"
      },
      "source": [
        "test_loss, test_acc = model.evaluate(test_ds)"
      ],
      "execution_count": null,
      "outputs": [
        {
          "output_type": "stream",
          "text": [
            "391/391 [==============================] - 26s 67ms/step - loss: 0.3297 - accuracy: 0.8750\n"
          ],
          "name": "stdout"
        }
      ]
    },
    {
      "cell_type": "markdown",
      "metadata": {
        "colab_type": "text",
        "id": "JQQQTc_0eJos"
      },
      "source": [
        "# Visualize\n",
        "\n",
        "Let's visualize the results."
      ]
    },
    {
      "cell_type": "code",
      "metadata": {
        "colab_type": "code",
        "id": "SFymXqNXpOWN",
        "colab": {
          "base_uri": "https://localhost:8080/",
          "height": 1000
        },
        "outputId": "7fdc5161-19df-41e9-b1bb-a3fa11515974"
      },
      "source": [
        "import matplotlib.pyplot as plt\n",
        "\n",
        "# history.history contains the training record\n",
        "\n",
        "history_dict = history.history\n",
        "\n",
        "acc = history_dict['accuracy']\n",
        "val_acc = history_dict['val_accuracy']\n",
        "loss = history_dict['loss']\n",
        "val_loss = history_dict['val_loss']\n",
        "\n",
        "epochs = range(1, len(acc) + 1)\n",
        "\n",
        "plt.figure(figsize=(12,9))\n",
        "plt.plot(epochs, acc, 'bo', label='Training acc')\n",
        "plt.plot(epochs, val_acc, 'b', label='Validation acc')\n",
        "plt.title('Training and validation accuracy')\n",
        "plt.xlabel('Epochs')\n",
        "plt.ylabel('Accuracy')\n",
        "plt.legend(loc='lower right')\n",
        "plt.ylim((0.5,1))\n",
        "plt.show()\n",
        "\n",
        "# clear previous figure\n",
        "\n",
        "plt.clf()\n",
        "\n",
        "plt.figure(figsize=(12,9))\n",
        "plt.plot(epochs, loss, 'bo', label='Training loss')\n",
        "plt.plot(epochs, val_loss, 'b', label='Validation loss')\n",
        "plt.title('Training and validation loss')\n",
        "plt.xlabel('Epochs')\n",
        "plt.ylabel('Loss')\n",
        "plt.legend()\n",
        "plt.show()"
      ],
      "execution_count": null,
      "outputs": [
        {
          "output_type": "display_data",
          "data": {
            "image/png": "[encoded data removed]",
            "text/plain": [
              "<Figure size 864x648 with 1 Axes>"
            ]
          },
          "metadata": {
            "tags": [],
            "needs_background": "light"
          }
        },
        {
          "output_type": "display_data",
          "data": {
            "text/plain": [
              "<Figure size 432x288 with 0 Axes>"
            ]
          },
          "metadata": {
            "tags": []
          }
        },
        {
          "output_type": "display_data",
          "data": {
            "image/png": "[encoded data removed]",
            "text/plain": [
              "<Figure size 864x648 with 1 Axes>"
            ]
          },
          "metadata": {
            "tags": [],
            "needs_background": "light"
          }
        }
      ]
    },
    {
      "cell_type": "markdown",
      "metadata": {
        "colab_type": "text",
        "id": "LZh3IZnDbRSZ"
      },
      "source": [
        "# Make Predictions from Fabricated Reviews\n",
        "\n",
        "Let's make predictions from reviews that we fabricate. Begin by creating a function that returns the predictions. Since we create our own reviews, the function must convert the text review for TensorFlow consumption."
      ]
    },
    {
      "cell_type": "code",
      "metadata": {
        "colab_type": "code",
        "id": "I_SkkgyorGpA",
        "colab": {}
      },
      "source": [
        "def predict_review(text):\n",
        "  encoded_text = encoder.encode(text)\n",
        "  encoded_text = tf.cast(encoded_text, tf.float32)\n",
        "  prediction = model.predict(tf.expand_dims(encoded_text, 0))\n",
        "  return prediction"
      ],
      "execution_count": null,
      "outputs": []
    },
    {
      "cell_type": "markdown",
      "metadata": {
        "colab_type": "text",
        "id": "3JEkkzi_1x13"
      },
      "source": [
        "The function accepts a text review. It begins by encoding the review. Next, it converts the encoded review to float32. The function then makes the prediction. But, we have to add the '1' dimension to the encoded text so it can be consumed by the model."
      ]
    },
    {
      "cell_type": "markdown",
      "metadata": {
        "colab_type": "text",
        "id": "hECGTFaBGJAg"
      },
      "source": [
        "Let's test the function."
      ]
    },
    {
      "cell_type": "code",
      "metadata": {
        "colab_type": "code",
        "id": "ni4_JxQ1GJKt",
        "colab": {
          "base_uri": "https://localhost:8080/",
          "height": 34
        },
        "outputId": "879795eb-6866-4ff5-c491-1b184ccc2cd9"
      },
      "source": [
        "review = ('Just loved it. My kids thought the movie was cool. '\n",
        "         'Even my wife liked it.')\n",
        "\n",
        "pred = predict_review(review)\n",
        "pred, pred.shape"
      ],
      "execution_count": null,
      "outputs": [
        {
          "output_type": "execute_result",
          "data": {
            "text/plain": [
              "(array([[0.9891733]], dtype=float32), (1, 1))"
            ]
          },
          "metadata": {
            "tags": []
          },
          "execution_count": 94
        }
      ]
    },
    {
      "cell_type": "markdown",
      "metadata": {
        "colab_type": "text",
        "id": "_hn64cSMqfcp"
      },
      "source": [
        "We have a prediction. Predictions greater than 0.5 mean that the review is positive. Otherwise, the review is negative. Let's make the prediction more palatable by creating another function."
      ]
    },
    {
      "cell_type": "code",
      "metadata": {
        "colab_type": "code",
        "id": "cGgL6gRGqEZF",
        "colab": {
          "base_uri": "https://localhost:8080/",
          "height": 34
        },
        "outputId": "e8f584ce-d6be-42fc-d47f-f6efedacd972"
      },
      "source": [
        "def palatable(pred):\n",
        "  score = tf.squeeze(pred, 0).numpy()\n",
        "  return score[0]\n",
        "\n",
        "score = palatable(pred)\n",
        "score, score.shape"
      ],
      "execution_count": null,
      "outputs": [
        {
          "output_type": "execute_result",
          "data": {
            "text/plain": [
              "(0.9891733, ())"
            ]
          },
          "metadata": {
            "tags": []
          },
          "execution_count": 95
        }
      ]
    },
    {
      "cell_type": "markdown",
      "metadata": {
        "colab_type": "text",
        "id": "lVa-CmBFrSDw"
      },
      "source": [
        "The function removes the '1' dimension from the prediction. Notice that the new shape is that of a scalar."
      ]
    },
    {
      "cell_type": "markdown",
      "metadata": {
        "colab_type": "text",
        "id": "fOYvm0TG2VNK"
      },
      "source": [
        "Let's go function crazy by creating one that returns whether the review is positive or negative."
      ]
    },
    {
      "cell_type": "code",
      "metadata": {
        "colab_type": "code",
        "id": "1zggRN8F2bS6",
        "colab": {}
      },
      "source": [
        "def impression(score):\n",
        "  if score >= 0.5:\n",
        "    return 'positive impression'\n",
        "  else:\n",
        "    return 'negative impression'"
      ],
      "execution_count": null,
      "outputs": []
    },
    {
      "cell_type": "markdown",
      "metadata": {
        "colab_type": "text",
        "id": "t_U6tBXU3UVn"
      },
      "source": [
        "Let's see if the function works."
      ]
    },
    {
      "cell_type": "code",
      "metadata": {
        "colab_type": "code",
        "id": "VoCZzqzbNIdD",
        "colab": {
          "base_uri": "https://localhost:8080/",
          "height": 34
        },
        "outputId": "28b621f2-d87f-45d8-8653-594aebbc5c1e"
      },
      "source": [
        "impression(score)"
      ],
      "execution_count": null,
      "outputs": [
        {
          "output_type": "execute_result",
          "data": {
            "text/plain": [
              "'positive impression'"
            ]
          },
          "metadata": {
            "tags": []
          },
          "execution_count": 97
        }
      ]
    },
    {
      "cell_type": "markdown",
      "metadata": {
        "colab_type": "text",
        "id": "sgA0jiFnUuOR"
      },
      "source": [
        "As expected, the review is positive. Let's try again with another review."
      ]
    },
    {
      "cell_type": "code",
      "metadata": {
        "colab_type": "code",
        "id": "5Js4nVBB307k",
        "colab": {
          "base_uri": "https://localhost:8080/",
          "height": 34
        },
        "outputId": "03ff8a54-17bc-414b-d3dd-939ea0936141"
      },
      "source": [
        "review = ('The movie absolutely sucked. No character development. '\n",
        "         'Dialogue just blows.')\n",
        "\n",
        "pred = predict_review(review)\n",
        "score = palatable(pred)\n",
        "print (impression(score))"
      ],
      "execution_count": null,
      "outputs": [
        {
          "output_type": "stream",
          "text": [
            "negative impression\n"
          ],
          "name": "stdout"
        }
      ]
    },
    {
      "cell_type": "markdown",
      "metadata": {
        "colab_type": "text",
        "id": "V0BH4ELwIxgB"
      },
      "source": [
        "# Make Predictions on a Test Data Batch\n",
        "\n",
        "We can also predict from the test set. Let's make predictions on the first test batch with the 'predict' method. Since test data is already in tensor form, we don't need to encode."
      ]
    },
    {
      "cell_type": "code",
      "metadata": {
        "colab_type": "code",
        "id": "HrEwtA9V-czv",
        "colab": {
          "base_uri": "https://localhost:8080/",
          "height": 84
        },
        "outputId": "f4bbfb2f-c229-41c9-c30a-3198542cd381"
      },
      "source": [
        "# get predictions from 1st test batch\n",
        "\n",
        "for sample, target in test_ds.take(1):\n",
        "  y_pred_64 = model.predict(sample)\n",
        "\n",
        "# display first review from this batch\n",
        "print ('review:', end=' ')\n",
        "print (encoder.decode(sample[0])[177:307])\n",
        "\n",
        "# display first label from this batch\n",
        "print ('label:', end=' ')\n",
        "print (target[0].numpy(), br)\n",
        "\n",
        "# display number of examples in the batch\n",
        "print ('samples and target in first batch:', end=' ')\n",
        "len(sample), len(target)"
      ],
      "execution_count": null,
      "outputs": [
        {
          "output_type": "stream",
          "text": [
            "review: absolutely amazing DING-A-LING-LESS. Flawless film-making, and as assured and as professional as any of the aforementioned movies.\n",
            "label: 1 \n",
            "\n",
            "samples and target in first batch: "
          ],
          "name": "stdout"
        },
        {
          "output_type": "execute_result",
          "data": {
            "text/plain": [
              "(64, 64)"
            ]
          },
          "metadata": {
            "tags": []
          },
          "execution_count": 99
        }
      ]
    },
    {
      "cell_type": "markdown",
      "metadata": {
        "colab_type": "text",
        "id": "7fgeQsVMNLHc"
      },
      "source": [
        "Variable **y_pred_64** holds 64 predictions because we take the first batch of 64 from the TensorFlow consumable **test_ds**. We then display the first review and its associated label from this batch. Remember that label '1' means the review was positive and label '0' means it was negative. So, the first movie had a positive review. We end by displaying the size of the sample and target to verify that we have 64 examples in our first batch."
      ]
    },
    {
      "cell_type": "markdown",
      "metadata": {
        "colab_type": "text",
        "id": "A7VU7yYuNU0R"
      },
      "source": [
        "# First Prediction\n",
        "\n",
        "Let's look at the first prediction."
      ]
    },
    {
      "cell_type": "code",
      "metadata": {
        "colab_type": "code",
        "id": "38ZOsWkM-1aN",
        "colab": {
          "base_uri": "https://localhost:8080/",
          "height": 34
        },
        "outputId": "663271fe-4f7f-45c1-9f8a-e39273ef69c8"
      },
      "source": [
        "print (y_pred_64[0])"
      ],
      "execution_count": null,
      "outputs": [
        {
          "output_type": "stream",
          "text": [
            "[0.97662985]\n"
          ],
          "name": "stdout"
        }
      ]
    },
    {
      "cell_type": "markdown",
      "metadata": {
        "colab_type": "text",
        "id": "7HBfEZWCNaQT"
      },
      "source": [
        "Let's make it palatable."
      ]
    },
    {
      "cell_type": "code",
      "metadata": {
        "colab_type": "code",
        "id": "TcYOXhZANejK",
        "colab": {
          "base_uri": "https://localhost:8080/",
          "height": 34
        },
        "outputId": "9e8b384e-b6c9-4f72-eebd-e276c76a3b6d"
      },
      "source": [
        "impression(y_pred_64[0])"
      ],
      "execution_count": null,
      "outputs": [
        {
          "output_type": "execute_result",
          "data": {
            "text/plain": [
              "'positive impression'"
            ]
          },
          "metadata": {
            "tags": []
          },
          "execution_count": 101
        }
      ]
    },
    {
      "cell_type": "markdown",
      "metadata": {
        "colab_type": "text",
        "id": "IXvLFAVtd5eq"
      },
      "source": [
        "So, the actual label from the first test batch example is positive and our predition is positive. So, our prediction was correct."
      ]
    },
    {
      "cell_type": "markdown",
      "metadata": {
        "colab_type": "text",
        "id": "v_NB5fAFo80_"
      },
      "source": [
        "# Prediction Accuracy for the First Batch\n",
        "\n",
        "Let's see how well we did with predictions for the entire first batch. First, traverse the first batch and compare labels to predictions. If a prediction is correct, add this information to a list. Second, count the number of correct predictions and divide by the batch size to get prediction accuracy."
      ]
    },
    {
      "cell_type": "code",
      "metadata": {
        "colab_type": "code",
        "id": "kQ3vbIg9IA6e",
        "colab": {
          "base_uri": "https://localhost:8080/",
          "height": 34
        },
        "outputId": "559e68ce-a49f-4440-bd87-222682bc3f19"
      },
      "source": [
        "def convert_label(feeling):\n",
        "  if feeling == 'positive impression':\n",
        "    return 1\n",
        "  else: return 0\n",
        "\n",
        "ls = []\n",
        "n = len(target)\n",
        "for i, _ in enumerate(range(n)):\n",
        "  t = target[i].numpy() # labels\n",
        "  p = convert_label(impression(y_pred_64[i])) # predictions\n",
        "  if t == p: ls.append(True)\n",
        "correct = ls.count(True)\n",
        "acc = correct / n\n",
        "batch_accuracy = str(int(np.round(acc, 2) * 100)) + '%'\n",
        "print ('accuracy for the first batch:', batch_accuracy)"
      ],
      "execution_count": null,
      "outputs": [
        {
          "output_type": "stream",
          "text": [
            "accuracy for the first batch: 84%\n"
          ],
          "name": "stdout"
        }
      ]
    },
    {
      "cell_type": "markdown",
      "metadata": {
        "colab_type": "text",
        "id": "JxDv94wXqh9S"
      },
      "source": [
        "# Leverage Pretrained Embeddings\n",
        "\n",
        "Amazingly, we can reuse modules from pretrained models on the IMDb dataset. The TensorFlow Hub project is a library with hundreds of reusable machine learning modules. A **module** is a self-contained piece of a TensorFlow graph, along with its weights and assets, that can be reused across different tasks in a process known as transfer learning. **Transfer learning** is a machine learning method where a model developed for a task is reused as the starting point for a model on a different task.\n",
        "\n",
        "You can browse the library by perusing the following URL:\n",
        "\n",
        "http://tfhub.dev\n",
        "\n",
        "Once you locate a module, copy the URL into your model. The module is automatically dowloaded along with its pretrained weights. A huge advantage of using pretrained models is that we don't have to create and train our own models from scratch!  "
      ]
    },
    {
      "cell_type": "markdown",
      "metadata": {
        "colab_type": "text",
        "id": "9woOVAJSKyBT"
      },
      "source": [
        "# Load IMDb Data\n",
        "\n",
        "Since we are using a pretrained model, we can load the entire IMDb data."
      ]
    },
    {
      "cell_type": "code",
      "metadata": {
        "colab_type": "code",
        "id": "SSmhYqYzLEr6",
        "colab": {
          "base_uri": "https://localhost:8080/",
          "height": 348,
          "referenced_widgets": [
            "553118ee05a44077ba085a735e2b2f7b",
            "b8b020fce98340fba5db6547e265be1e",
            "f58571c91e364aeca5017685c836a313",
            "c18e56b27cef4526822997625c9bcc05",
            "5015c0b68daf44229e178fffc8aaf806",
            "e0856b3865f74be79d3ec1d7935d4e52",
            "fd5818111eff48e296f896d88c8a8c08",
            "0993f203c8bb46a788360cdc48bbc56b",
            "5b70edef0a17462e87b789b20076d42b",
            "5d9ff174093b4c569e5942dbeefa7735",
            "f90d8028a71f442ea46bb0219d136edb",
            "6a5de975794a4dc0afd0f03f54ba1ad6",
            "15e1b51352984eedbaca39993aa465a4",
            "74d66fbc1d0a4eb5a20d4fee94234893",
            "1e79459efebd454f90e7482f1b36aef6",
            "6743fb5d713a44eab38e7df9f67d76af",
            "d4680df232be4e8faaf1ae47b0ac87bd",
            "86f4a77133bd43bfbe801d0a0f1370b1",
            "0c4a9fe4bd75478a8f87d66b9edaec0d",
            "78600b7cc9064d239b972ec4f5ccb93d",
            "4aa2e2624cf7481d9c422e870e0be404",
            "56807e6412dc4005af205c757522af61",
            "2ff38c4b72234a588a570bed2365167d",
            "78743b462cd7482ea2abeaddc646e5d2",
            "e1f16886b64740d1a34047d984300fcb",
            "5bb15999915d4999b7a823c75072f7b6",
            "d490c4ca5fc24e798c405d457d781703",
            "5ecb039821684d54ad93a06d2362199c",
            "08ae7bc8f0b546b299fbf4d728e051ae",
            "b4cc3f0897424ef097c37768b6d779a3",
            "c8b986786aa74235a89f3b228bd8126b",
            "c535c00d3b82415ba33a392a6416f99f",
            "6db12e93908e44fd9e11f0273801c905",
            "ef5c5bd6821046ffbddf266a82d83f5d",
            "5b13b63077a2439896187b3d6cd49e09",
            "860350c40f174fb2944d42bb6649f24a",
            "d1a5deb1e3b242d182690abcec1644c9",
            "d8f4901f848c403abc16e6368220da61",
            "389d7415a20e49fbb1bbe706ad9df390",
            "67d13aef6dd44a98bf70b162de666b79",
            "d75762f0eb144ed0aa090766e7eb0c62",
            "82b5b856dd144ff3afd2e538466ebeca",
            "641e99d401cb40b8b682ec727c8a4eae",
            "afb2150bbdc3421ca72ab203c31ed78c",
            "72365ea4dbc34c4e8346e1416480cad3",
            "8048e2395d804848962f2c9918ca1865",
            "9ea2ba28ef90476bb1688bfb336715f9",
            "426d81b334154cefb611e9fb3aac8a15",
            "b2c19ab714374c628108180824a0c497",
            "bd8c2ec80f18499f8b5dbf121012f555",
            "556930a68a194178bc2f0596eb175214",
            "24677e48ff63431c8d0d628d2d9c0355",
            "d7c190cee7d148dc9565381714d077d9",
            "a8c4151f62134295b9f6d69b604f1789",
            "da99d2755fb34265994ff66df17d4d70",
            "2811efbe635348278fd356717108ba16",
            "27faf52557e843fd9dfcb4bf078a00f1",
            "e2c2a81a01d14a8b9b35c391781e4ab8",
            "c2e1c82b94ea453689f1e2080960c204",
            "e2dd8080bca7414b9ce6c63cb361a460",
            "1b11692028b7491da1423d238f731ace",
            "62ebe16fb20947f0b9ee8183066846d0",
            "501e8515723643da9da3ef43efeeeef1",
            "b3c8470a035c4f939e3c56639a0dafd4"
          ]
        },
        "outputId": "1788083a-3f2d-4231-d285-5efe44607003"
      },
      "source": [
        "data, info = tfds.load('imdb_reviews', as_supervised=True,\n",
        "                       with_info=True, shuffle_files=True)"
      ],
      "execution_count": null,
      "outputs": [
        {
          "output_type": "stream",
          "text": [
            "\u001b[1mDownloading and preparing dataset imdb_reviews/plain_text/1.0.0 (download: 80.23 MiB, generated: Unknown size, total: 80.23 MiB) to /root/tensorflow_datasets/imdb_reviews/plain_text/1.0.0...\u001b[0m\n"
          ],
          "name": "stdout"
        },
        {
          "output_type": "display_data",
          "data": {
            "application/vnd.jupyter.widget-view+json": {
              "model_id": "553118ee05a44077ba085a735e2b2f7b",
              "version_minor": 0,
              "version_major": 2
            },
            "text/plain": [
              "HBox(children=(IntProgress(value=1, bar_style='info', description='Dl Completed...', max=1, style=ProgressStyl…"
            ]
          },
          "metadata": {
            "tags": []
          }
        },
        {
          "output_type": "display_data",
          "data": {
            "application/vnd.jupyter.widget-view+json": {
              "model_id": "5b70edef0a17462e87b789b20076d42b",
              "version_minor": 0,
              "version_major": 2
            },
            "text/plain": [
              "HBox(children=(IntProgress(value=1, bar_style='info', description='Dl Size...', max=1, style=ProgressStyle(des…"
            ]
          },
          "metadata": {
            "tags": []
          }
        },
        {
          "output_type": "stream",
          "text": [
            "\n",
            "\n",
            "\n",
            "\n"
          ],
          "name": "stdout"
        },
        {
          "output_type": "display_data",
          "data": {
            "application/vnd.jupyter.widget-view+json": {
              "model_id": "d4680df232be4e8faaf1ae47b0ac87bd",
              "version_minor": 0,
              "version_major": 2
            },
            "text/plain": [
              "HBox(children=(IntProgress(value=1, bar_style='info', max=1), HTML(value='')))"
            ]
          },
          "metadata": {
            "tags": []
          }
        },
        {
          "output_type": "stream",
          "text": [
            "\rShuffling and writing examples to /root/tensorflow_datasets/imdb_reviews/plain_text/1.0.0.incompleteS0V38Y/imdb_reviews-train.tfrecord\n"
          ],
          "name": "stdout"
        },
        {
          "output_type": "display_data",
          "data": {
            "application/vnd.jupyter.widget-view+json": {
              "model_id": "e1f16886b64740d1a34047d984300fcb",
              "version_minor": 0,
              "version_major": 2
            },
            "text/plain": [
              "HBox(children=(IntProgress(value=0, max=25000), HTML(value='')))"
            ]
          },
          "metadata": {
            "tags": []
          }
        },
        {
          "output_type": "stream",
          "text": [
            "\r"
          ],
          "name": "stdout"
        },
        {
          "output_type": "display_data",
          "data": {
            "application/vnd.jupyter.widget-view+json": {
              "model_id": "6db12e93908e44fd9e11f0273801c905",
              "version_minor": 0,
              "version_major": 2
            },
            "text/plain": [
              "HBox(children=(IntProgress(value=1, bar_style='info', max=1), HTML(value='')))"
            ]
          },
          "metadata": {
            "tags": []
          }
        },
        {
          "output_type": "stream",
          "text": [
            "\rShuffling and writing examples to /root/tensorflow_datasets/imdb_reviews/plain_text/1.0.0.incompleteS0V38Y/imdb_reviews-test.tfrecord\n"
          ],
          "name": "stdout"
        },
        {
          "output_type": "display_data",
          "data": {
            "application/vnd.jupyter.widget-view+json": {
              "model_id": "d75762f0eb144ed0aa090766e7eb0c62",
              "version_minor": 0,
              "version_major": 2
            },
            "text/plain": [
              "HBox(children=(IntProgress(value=0, max=25000), HTML(value='')))"
            ]
          },
          "metadata": {
            "tags": []
          }
        },
        {
          "output_type": "stream",
          "text": [
            "\r"
          ],
          "name": "stdout"
        },
        {
          "output_type": "display_data",
          "data": {
            "application/vnd.jupyter.widget-view+json": {
              "model_id": "b2c19ab714374c628108180824a0c497",
              "version_minor": 0,
              "version_major": 2
            },
            "text/plain": [
              "HBox(children=(IntProgress(value=1, bar_style='info', max=1), HTML(value='')))"
            ]
          },
          "metadata": {
            "tags": []
          }
        },
        {
          "output_type": "stream",
          "text": [
            "\rShuffling and writing examples to /root/tensorflow_datasets/imdb_reviews/plain_text/1.0.0.incompleteS0V38Y/imdb_reviews-unsupervised.tfrecord\n"
          ],
          "name": "stdout"
        },
        {
          "output_type": "display_data",
          "data": {
            "application/vnd.jupyter.widget-view+json": {
              "model_id": "27faf52557e843fd9dfcb4bf078a00f1",
              "version_minor": 0,
              "version_major": 2
            },
            "text/plain": [
              "HBox(children=(IntProgress(value=0, max=50000), HTML(value='')))"
            ]
          },
          "metadata": {
            "tags": []
          }
        },
        {
          "output_type": "stream",
          "text": [
            "\u001b[1mDataset imdb_reviews downloaded and prepared to /root/tensorflow_datasets/imdb_reviews/plain_text/1.0.0. Subsequent calls will reuse this data.\u001b[0m\n",
            "\r"
          ],
          "name": "stdout"
        }
      ]
    },
    {
      "cell_type": "markdown",
      "metadata": {
        "colab_type": "text",
        "id": "Pb4rmnlQM_7s"
      },
      "source": [
        "# Prepare the Input Pipeline"
      ]
    },
    {
      "cell_type": "code",
      "metadata": {
        "colab_type": "code",
        "id": "TvJtNMgxNGJd",
        "colab": {}
      },
      "source": [
        "# create train and test sets\n",
        "\n",
        "train, test = data['train'], data['test']"
      ],
      "execution_count": null,
      "outputs": []
    },
    {
      "cell_type": "code",
      "metadata": {
        "colab_type": "code",
        "id": "KsgSu_ZENcAU",
        "colab": {}
      },
      "source": [
        "# finalize the input pipeline\n",
        "\n",
        "batch_size = 32\n",
        "train_set = train.repeat().batch(batch_size).prefetch(1)\n",
        "test_set = test.batch(batch_size).prefetch(1)"
      ],
      "execution_count": null,
      "outputs": []
    },
    {
      "cell_type": "markdown",
      "metadata": {
        "colab_type": "text",
        "id": "-tK8RbFz8rp4"
      },
      "source": [
        "# Create the Pretrained Model\n",
        "\n",
        "Import the TF Hub library and create a skeleton model to house the pretrained module."
      ]
    },
    {
      "cell_type": "code",
      "metadata": {
        "colab_type": "code",
        "id": "32Hm7aNeJw2e",
        "colab": {}
      },
      "source": [
        "import tensorflow_hub as hub\n",
        "\n",
        "model = keras.Sequential([\n",
        "  hub.KerasLayer('https://tfhub.dev/google/tf2-preview/nnlm-en-dim50/1',\n",
        "                 dtype=tf.string, input_shape=[], output_shape=[50]),\n",
        "  Dense(128, activation='relu'),\n",
        "  Dense(1, activation='sigmoid')\n",
        "])"
      ],
      "execution_count": null,
      "outputs": []
    },
    {
      "cell_type": "markdown",
      "metadata": {
        "colab_type": "text",
        "id": "CD6Pn9X_owO-"
      },
      "source": [
        "The **hub.KerasLayer** downloads the sentence encoder module. Each string input into this layer is automatically encoded as a 50D vector. So, each vector represents 50 words. Each word is embedded based on an embedding matrix pretrained on the 7 billion word Google News corpus. The next two dense layers are added to provide a basic model for sentiment analysis. Using TF Hub is convenient and efficient because we can use what was already learned from the pretrained model."
      ]
    },
    {
      "cell_type": "markdown",
      "metadata": {
        "colab_type": "text",
        "id": "wrzCCij_OLf0"
      },
      "source": [
        "# Compile"
      ]
    },
    {
      "cell_type": "code",
      "metadata": {
        "colab_type": "code",
        "id": "gfUF4KpFOLpz",
        "colab": {}
      },
      "source": [
        "model.compile(loss='binary_crossentropy',\n",
        "              optimizer='adam',\n",
        "              metrics=['accuracy'])"
      ],
      "execution_count": null,
      "outputs": []
    },
    {
      "cell_type": "markdown",
      "metadata": {
        "colab_type": "text",
        "id": "NIEzImypOWGr"
      },
      "source": [
        "# Train"
      ]
    },
    {
      "cell_type": "code",
      "metadata": {
        "colab_type": "code",
        "id": "NaVyuOdFJ1wF",
        "colab": {
          "base_uri": "https://localhost:8080/",
          "height": 185
        },
        "outputId": "fa567a42-393f-4870-e8b8-e925339de62e"
      },
      "source": [
        "history = model.fit(train_set, steps_per_epoch=train_size // batch_size, epochs=5,\n",
        "                    validation_data=test_set)"
      ],
      "execution_count": null,
      "outputs": [
        {
          "output_type": "stream",
          "text": [
            "Epoch 1/5\n",
            "781/781 [==============================] - 13s 17ms/step - loss: 0.5436 - accuracy: 0.7284 - val_loss: 0.5269 - val_accuracy: 0.7361\n",
            "Epoch 2/5\n",
            "781/781 [==============================] - 12s 16ms/step - loss: 0.5139 - accuracy: 0.7474 - val_loss: 0.5189 - val_accuracy: 0.7422\n",
            "Epoch 3/5\n",
            "781/781 [==============================] - 12s 15ms/step - loss: 0.5092 - accuracy: 0.7505 - val_loss: 0.5154 - val_accuracy: 0.7448\n",
            "Epoch 4/5\n",
            "781/781 [==============================] - 13s 16ms/step - loss: 0.5054 - accuracy: 0.7520 - val_loss: 0.5131 - val_accuracy: 0.7470\n",
            "Epoch 5/5\n",
            "781/781 [==============================] - 12s 16ms/step - loss: 0.5023 - accuracy: 0.7554 - val_loss: 0.5117 - val_accuracy: 0.7483\n"
          ],
          "name": "stdout"
        }
      ]
    },
    {
      "cell_type": "markdown",
      "metadata": {
        "colab_type": "text",
        "id": "VYE71zGTOjBM"
      },
      "source": [
        "# Predict\n",
        "\n",
        "Let's make predictions on the first batch, Since our batch size is 32, we have 32 predictions."
      ]
    },
    {
      "cell_type": "code",
      "metadata": {
        "colab_type": "code",
        "id": "LA5vgCY_OkSG",
        "colab": {}
      },
      "source": [
        "for sample, target in test_set.take(1):\n",
        "  y_pred_32 = model.predict(sample)"
      ],
      "execution_count": null,
      "outputs": []
    },
    {
      "cell_type": "markdown",
      "metadata": {
        "colab_type": "text",
        "id": "TQBOBnUjP2Oe"
      },
      "source": [
        "# Our First Prediction"
      ]
    },
    {
      "cell_type": "code",
      "metadata": {
        "colab_type": "code",
        "id": "JSRCPxAzO1QL",
        "colab": {
          "base_uri": "https://localhost:8080/",
          "height": 34
        },
        "outputId": "335a2ae3-b781-4af9-fb2f-e2b3696e524b"
      },
      "source": [
        "impression(y_pred_32[0])"
      ],
      "execution_count": null,
      "outputs": [
        {
          "output_type": "execute_result",
          "data": {
            "text/plain": [
              "'positive impression'"
            ]
          },
          "metadata": {
            "tags": []
          },
          "execution_count": 110
        }
      ]
    },
    {
      "cell_type": "markdown",
      "metadata": {
        "colab_type": "text",
        "id": "5lhnfyG4QCFg"
      },
      "source": [
        "# Actual Label"
      ]
    },
    {
      "cell_type": "code",
      "metadata": {
        "colab_type": "code",
        "id": "RdGq0dmqPTaz",
        "colab": {
          "base_uri": "https://localhost:8080/",
          "height": 34
        },
        "outputId": "1014fbac-dd33-4e77-8cf5-078b1f42fd67"
      },
      "source": [
        "target[0].numpy()"
      ],
      "execution_count": null,
      "outputs": [
        {
          "output_type": "execute_result",
          "data": {
            "text/plain": [
              "1"
            ]
          },
          "metadata": {
            "tags": []
          },
          "execution_count": 111
        }
      ]
    },
    {
      "cell_type": "markdown",
      "metadata": {
        "colab_type": "text",
        "id": "bNmUvEIBQdCQ"
      },
      "source": [
        "# Prediction Accurary for First Batch\n",
        "\n",
        "Just like we did with our model, let's get the accuracy for the first batch of 32."
      ]
    },
    {
      "cell_type": "code",
      "metadata": {
        "colab_type": "code",
        "id": "bgv_V8pnPYU9",
        "colab": {
          "base_uri": "https://localhost:8080/",
          "height": 34
        },
        "outputId": "be123e67-7e13-40f9-e8a6-816d84816c92"
      },
      "source": [
        "ls = []\n",
        "n = len(target)\n",
        "for i, _ in enumerate(range(n)):\n",
        "  t = target[i].numpy() # labels\n",
        "  p = convert_label(impression(y_pred_32[i])) # predictions\n",
        "  if t == p: ls.append(True)\n",
        "correct = ls.count(True)\n",
        "acc = correct / n\n",
        "batch_accuracy = str(int(np.round(acc, 2) * 100)) + '%'\n",
        "print ('accuracy for the first batch:', batch_accuracy)"
      ],
      "execution_count": null,
      "outputs": [
        {
          "output_type": "stream",
          "text": [
            "accuracy for the first batch: 75%\n"
          ],
          "name": "stdout"
        }
      ]
    }
  ]
}