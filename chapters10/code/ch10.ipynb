{
  "nbformat": 4,
  "nbformat_minor": 0,
  "metadata": {
    "colab": {
      "name": "ch10.ipynb",
      "provenance": [],
      "collapsed_sections": [],
      "machine_shape": "hm"
    },
    "kernelspec": {
      "name": "python3",
      "display_name": "Python 3"
    },
    "accelerator": "GPU"
  },
  "cells": [
    {
      "cell_type": "markdown",
      "metadata": {
        "id": "ceXcxnFyONlJ",
        "colab_type": "text"
      },
      "source": [
        "# Times Series Forecasting with RNNs\n",
        "\n",
        "A RNN is well suited for times series forecasting because it remembers the past and its decisions are influenced by what it has learned from the past. So, it makes good decisions as data changes. **Time series forecasting** is deploying a model to predict future values based on previously observed values.\n",
        "\n",
        "Times series data is different than what we have worked with so far because it is a sequence of observations taken sequentially in time. Time series data includes a time dimension, which is an explicit order dependence between observations."
      ]
    },
    {
      "cell_type": "markdown",
      "metadata": {
        "id": "XrE3vQtJaXho",
        "colab_type": "text"
      },
      "source": [
        "# Components of Time Series\n",
        "\n",
        "Times series forecasting is predicated upon four 4 constituent parts:\n",
        "\n",
        "* level - baseline value for the series if it were a straight line\n",
        "* trend - increasing or decreasing behavior over time\n",
        "* seasonality - repeating patterns or cycles of behavior over time\n",
        "* noise - variability in the observations not explained by the model\n",
        "\n",
        "All time series have a level and most have noise. But, trend and seasonality are optional."
      ]
    },
    {
      "cell_type": "markdown",
      "metadata": {
        "id": "P_INW1MFojGD",
        "colab_type": "text"
      },
      "source": [
        "# Weather Forecasting\n",
        "\n",
        "Forecasting the weather is a difficult and complex endeavor. But, leading edge companies like Google, IBM, Monsanto, and Facebook are leveraging AI technology to realize accurate and timely weather forecasts. Given the introductory nature or our lessons, we cannot hope to demonstrate such complex AI experiments. But, we can show you how to build a simple time series forecasting model using weather data.   "
      ]
    },
    {
      "cell_type": "markdown",
      "metadata": {
        "id": "S2S6yy-suUut",
        "colab_type": "text"
      },
      "source": [
        "As usual, we need to set up the GPU for each notebook. So, click the **Runtime** tab, click **Change runtime type** from the drop-down menu, choose **GPU** from the Hardware Accelerator drop-down menu, and click **Save**."
      ]
    },
    {
      "cell_type": "code",
      "metadata": {
        "id": "LRLvQJxzuiph",
        "colab_type": "code",
        "colab": {
          "base_uri": "https://localhost:8080/",
          "height": 34
        },
        "outputId": "b359786b-cb0f-4150-cc7c-4d9d3b1b18e4"
      },
      "source": [
        "import tensorflow as tf\n",
        "\n",
        "# display tf version and test if GPU is active\n",
        "tf.__version__, tf.test.gpu_device_name()"
      ],
      "execution_count": 1,
      "outputs": [
        {
          "output_type": "execute_result",
          "data": {
            "text/plain": [
              "('2.3.0', '/device:GPU:0')"
            ]
          },
          "metadata": {
            "tags": []
          },
          "execution_count": 1
        }
      ]
    },
    {
      "cell_type": "markdown",
      "metadata": {
        "id": "mFZvf4Oyriws",
        "colab_type": "text"
      },
      "source": [
        "# The Weather Dataset\n",
        "\n",
        "We introduce times series forecasting with RNNs for a univariate problem. We then forecast a multivariate time series. We use weather time series data to train our models. The data is recorded by the Max Planck Institute for Biogeochemistry. Find our more about the institute by perusing the following URL:\n",
        "\n",
        "https://www.bgc-jena.mpg.de/index.php/Main/HomePage"
      ]
    },
    {
      "cell_type": "markdown",
      "metadata": {
        "id": "a3AhAH9Stn_N",
        "colab_type": "text"
      },
      "source": [
        "Let's get the dataset."
      ]
    },
    {
      "cell_type": "code",
      "metadata": {
        "id": "QP4SKmO-ojuo",
        "colab_type": "code",
        "colab": {
          "base_uri": "https://localhost:8080/",
          "height": 52
        },
        "outputId": "65556e9e-c9f1-4c2e-b22d-4d1418215a05"
      },
      "source": [
        "import os\n",
        "\n",
        "p1 = 'https://storage.googleapis.com/tensorflow/'\n",
        "p2 = 'tf-keras-datasets/jena_climate_2009_2016.csv.zip'\n",
        "url = p1 + p2\n",
        "\n",
        "zip_path = tf.keras.utils.get_file(\n",
        "    origin = url,\n",
        "    fname='jena_climate_2009_2016.csv.zip',\n",
        "    extract=True)\n",
        "csv_path, _ = os.path.splitext(zip_path)"
      ],
      "execution_count": 2,
      "outputs": [
        {
          "output_type": "stream",
          "text": [
            "Downloading data from https://storage.googleapis.com/tensorflow/tf-keras-datasets/jena_climate_2009_2016.csv.zip\n",
            "13574144/13568290 [==============================] - 0s 0us/step\n"
          ],
          "name": "stdout"
        }
      ]
    },
    {
      "cell_type": "markdown",
      "metadata": {
        "id": "8Hb93GFXulgU",
        "colab_type": "text"
      },
      "source": [
        "We use the **splitext()** method to properly extract the CSV file from the URL. We then create an appropriate path for easy loading into Pandas."
      ]
    },
    {
      "cell_type": "markdown",
      "metadata": {
        "id": "VjPUtbtpx4Ch",
        "colab_type": "text"
      },
      "source": [
        "Now, we can easily read the CSV file into a Pandas dataframe. "
      ]
    },
    {
      "cell_type": "code",
      "metadata": {
        "id": "-rzYIXfLvOGu",
        "colab_type": "code",
        "colab": {}
      },
      "source": [
        "import pandas as pd\n",
        "\n",
        "df = pd.read_csv(csv_path)"
      ],
      "execution_count": 3,
      "outputs": []
    },
    {
      "cell_type": "markdown",
      "metadata": {
        "id": "nL2Pa9Xzxbhy",
        "colab_type": "text"
      },
      "source": [
        "# Explore the Data\n"
      ]
    },
    {
      "cell_type": "markdown",
      "metadata": {
        "id": "W7nJ_wkcwKP6",
        "colab_type": "text"
      },
      "source": [
        "Display the features of the dataframe:"
      ]
    },
    {
      "cell_type": "code",
      "metadata": {
        "id": "KNhwpviOwPdV",
        "colab_type": "code",
        "colab": {
          "base_uri": "https://localhost:8080/",
          "height": 283
        },
        "outputId": "88c83f13-476e-430c-da0c-6ef9759b8b33"
      },
      "source": [
        "list(df)"
      ],
      "execution_count": 4,
      "outputs": [
        {
          "output_type": "execute_result",
          "data": {
            "text/plain": [
              "['Date Time',\n",
              " 'p (mbar)',\n",
              " 'T (degC)',\n",
              " 'Tpot (K)',\n",
              " 'Tdew (degC)',\n",
              " 'rh (%)',\n",
              " 'VPmax (mbar)',\n",
              " 'VPact (mbar)',\n",
              " 'VPdef (mbar)',\n",
              " 'sh (g/kg)',\n",
              " 'H2OC (mmol/mol)',\n",
              " 'rho (g/m**3)',\n",
              " 'wv (m/s)',\n",
              " 'max. wv (m/s)',\n",
              " 'wd (deg)']"
            ]
          },
          "metadata": {
            "tags": []
          },
          "execution_count": 4
        }
      ]
    },
    {
      "cell_type": "markdown",
      "metadata": {
        "id": "7c4jL_G-xGXW",
        "colab_type": "text"
      },
      "source": [
        "Display the first few records:"
      ]
    },
    {
      "cell_type": "code",
      "metadata": {
        "id": "x0pVFP_Wxb3J",
        "colab_type": "code",
        "colab": {
          "base_uri": "https://localhost:8080/",
          "height": 137
        },
        "outputId": "d827e7fe-e7c2-4eea-ee4b-6d8a36a1fdc4"
      },
      "source": [
        "df.head(3)"
      ],
      "execution_count": 5,
      "outputs": [
        {
          "output_type": "execute_result",
          "data": {
            "text/html": [
              "<div>\n",
              "<style scoped>\n",
              "    .dataframe tbody tr th:only-of-type {\n",
              "        vertical-align: middle;\n",
              "    }\n",
              "\n",
              "    .dataframe tbody tr th {\n",
              "        vertical-align: top;\n",
              "    }\n",
              "\n",
              "    .dataframe thead th {\n",
              "        text-align: right;\n",
              "    }\n",
              "</style>\n",
              "<table border=\"1\" class=\"dataframe\">\n",
              "  <thead>\n",
              "    <tr style=\"text-align: right;\">\n",
              "      <th></th>\n",
              "      <th>Date Time</th>\n",
              "      <th>p (mbar)</th>\n",
              "      <th>T (degC)</th>\n",
              "      <th>Tpot (K)</th>\n",
              "      <th>Tdew (degC)</th>\n",
              "      <th>rh (%)</th>\n",
              "      <th>VPmax (mbar)</th>\n",
              "      <th>VPact (mbar)</th>\n",
              "      <th>VPdef (mbar)</th>\n",
              "      <th>sh (g/kg)</th>\n",
              "      <th>H2OC (mmol/mol)</th>\n",
              "      <th>rho (g/m**3)</th>\n",
              "      <th>wv (m/s)</th>\n",
              "      <th>max. wv (m/s)</th>\n",
              "      <th>wd (deg)</th>\n",
              "    </tr>\n",
              "  </thead>\n",
              "  <tbody>\n",
              "    <tr>\n",
              "      <th>0</th>\n",
              "      <td>01.01.2009 00:10:00</td>\n",
              "      <td>996.52</td>\n",
              "      <td>-8.02</td>\n",
              "      <td>265.40</td>\n",
              "      <td>-8.90</td>\n",
              "      <td>93.3</td>\n",
              "      <td>3.33</td>\n",
              "      <td>3.11</td>\n",
              "      <td>0.22</td>\n",
              "      <td>1.94</td>\n",
              "      <td>3.12</td>\n",
              "      <td>1307.75</td>\n",
              "      <td>1.03</td>\n",
              "      <td>1.75</td>\n",
              "      <td>152.3</td>\n",
              "    </tr>\n",
              "    <tr>\n",
              "      <th>1</th>\n",
              "      <td>01.01.2009 00:20:00</td>\n",
              "      <td>996.57</td>\n",
              "      <td>-8.41</td>\n",
              "      <td>265.01</td>\n",
              "      <td>-9.28</td>\n",
              "      <td>93.4</td>\n",
              "      <td>3.23</td>\n",
              "      <td>3.02</td>\n",
              "      <td>0.21</td>\n",
              "      <td>1.89</td>\n",
              "      <td>3.03</td>\n",
              "      <td>1309.80</td>\n",
              "      <td>0.72</td>\n",
              "      <td>1.50</td>\n",
              "      <td>136.1</td>\n",
              "    </tr>\n",
              "    <tr>\n",
              "      <th>2</th>\n",
              "      <td>01.01.2009 00:30:00</td>\n",
              "      <td>996.53</td>\n",
              "      <td>-8.51</td>\n",
              "      <td>264.91</td>\n",
              "      <td>-9.31</td>\n",
              "      <td>93.9</td>\n",
              "      <td>3.21</td>\n",
              "      <td>3.01</td>\n",
              "      <td>0.20</td>\n",
              "      <td>1.88</td>\n",
              "      <td>3.02</td>\n",
              "      <td>1310.24</td>\n",
              "      <td>0.19</td>\n",
              "      <td>0.63</td>\n",
              "      <td>171.6</td>\n",
              "    </tr>\n",
              "  </tbody>\n",
              "</table>\n",
              "</div>"
            ],
            "text/plain": [
              "             Date Time  p (mbar)  T (degC)  ...  wv (m/s)  max. wv (m/s)  wd (deg)\n",
              "0  01.01.2009 00:10:00    996.52     -8.02  ...      1.03           1.75     152.3\n",
              "1  01.01.2009 00:20:00    996.57     -8.41  ...      0.72           1.50     136.1\n",
              "2  01.01.2009 00:30:00    996.53     -8.51  ...      0.19           0.63     171.6\n",
              "\n",
              "[3 rows x 15 columns]"
            ]
          },
          "metadata": {
            "tags": []
          },
          "execution_count": 5
        }
      ]
    },
    {
      "cell_type": "markdown",
      "metadata": {
        "id": "L4RLkDLKu5xo",
        "colab_type": "text"
      },
      "source": [
        "Display the last few records."
      ]
    },
    {
      "cell_type": "code",
      "metadata": {
        "id": "qNvffjU-u2Bh",
        "colab_type": "code",
        "colab": {
          "base_uri": "https://localhost:8080/",
          "height": 137
        },
        "outputId": "e3a6bd2c-d149-440f-90ef-5d9864fe7062"
      },
      "source": [
        "df.tail(3)"
      ],
      "execution_count": 6,
      "outputs": [
        {
          "output_type": "execute_result",
          "data": {
            "text/html": [
              "<div>\n",
              "<style scoped>\n",
              "    .dataframe tbody tr th:only-of-type {\n",
              "        vertical-align: middle;\n",
              "    }\n",
              "\n",
              "    .dataframe tbody tr th {\n",
              "        vertical-align: top;\n",
              "    }\n",
              "\n",
              "    .dataframe thead th {\n",
              "        text-align: right;\n",
              "    }\n",
              "</style>\n",
              "<table border=\"1\" class=\"dataframe\">\n",
              "  <thead>\n",
              "    <tr style=\"text-align: right;\">\n",
              "      <th></th>\n",
              "      <th>Date Time</th>\n",
              "      <th>p (mbar)</th>\n",
              "      <th>T (degC)</th>\n",
              "      <th>Tpot (K)</th>\n",
              "      <th>Tdew (degC)</th>\n",
              "      <th>rh (%)</th>\n",
              "      <th>VPmax (mbar)</th>\n",
              "      <th>VPact (mbar)</th>\n",
              "      <th>VPdef (mbar)</th>\n",
              "      <th>sh (g/kg)</th>\n",
              "      <th>H2OC (mmol/mol)</th>\n",
              "      <th>rho (g/m**3)</th>\n",
              "      <th>wv (m/s)</th>\n",
              "      <th>max. wv (m/s)</th>\n",
              "      <th>wd (deg)</th>\n",
              "    </tr>\n",
              "  </thead>\n",
              "  <tbody>\n",
              "    <tr>\n",
              "      <th>420548</th>\n",
              "      <td>31.12.2016 23:40:00</td>\n",
              "      <td>999.82</td>\n",
              "      <td>-3.16</td>\n",
              "      <td>270.01</td>\n",
              "      <td>-8.21</td>\n",
              "      <td>67.91</td>\n",
              "      <td>4.84</td>\n",
              "      <td>3.28</td>\n",
              "      <td>1.55</td>\n",
              "      <td>2.05</td>\n",
              "      <td>3.28</td>\n",
              "      <td>1288.39</td>\n",
              "      <td>1.08</td>\n",
              "      <td>2.00</td>\n",
              "      <td>215.2</td>\n",
              "    </tr>\n",
              "    <tr>\n",
              "      <th>420549</th>\n",
              "      <td>31.12.2016 23:50:00</td>\n",
              "      <td>999.81</td>\n",
              "      <td>-4.23</td>\n",
              "      <td>268.94</td>\n",
              "      <td>-8.53</td>\n",
              "      <td>71.80</td>\n",
              "      <td>4.46</td>\n",
              "      <td>3.20</td>\n",
              "      <td>1.26</td>\n",
              "      <td>1.99</td>\n",
              "      <td>3.20</td>\n",
              "      <td>1293.56</td>\n",
              "      <td>1.49</td>\n",
              "      <td>2.16</td>\n",
              "      <td>225.8</td>\n",
              "    </tr>\n",
              "    <tr>\n",
              "      <th>420550</th>\n",
              "      <td>01.01.2017 00:00:00</td>\n",
              "      <td>999.82</td>\n",
              "      <td>-4.82</td>\n",
              "      <td>268.36</td>\n",
              "      <td>-8.42</td>\n",
              "      <td>75.70</td>\n",
              "      <td>4.27</td>\n",
              "      <td>3.23</td>\n",
              "      <td>1.04</td>\n",
              "      <td>2.01</td>\n",
              "      <td>3.23</td>\n",
              "      <td>1296.38</td>\n",
              "      <td>1.23</td>\n",
              "      <td>1.96</td>\n",
              "      <td>184.9</td>\n",
              "    </tr>\n",
              "  </tbody>\n",
              "</table>\n",
              "</div>"
            ],
            "text/plain": [
              "                  Date Time  p (mbar)  ...  max. wv (m/s)  wd (deg)\n",
              "420548  31.12.2016 23:40:00    999.82  ...           2.00     215.2\n",
              "420549  31.12.2016 23:50:00    999.81  ...           2.16     225.8\n",
              "420550  01.01.2017 00:00:00    999.82  ...           1.96     184.9\n",
              "\n",
              "[3 rows x 15 columns]"
            ]
          },
          "metadata": {
            "tags": []
          },
          "execution_count": 6
        }
      ]
    },
    {
      "cell_type": "markdown",
      "metadata": {
        "id": "xgw-MCltvFbL",
        "colab_type": "text"
      },
      "source": [
        "We can see that data collection began on January 1, 2009 and ended December 31, 2016. The last data recorded was on January 1, 2017, but it is irrelevant because it is the only recorded piece of data for that year. We can also see that data is recorded every 10 minutes. So, the time step for this experiment is 10 minutes. A **time step** is a single occurrence of an event. Generally, time series forecasting describes predicting the observation at the next time step."
      ]
    },
    {
      "cell_type": "markdown",
      "metadata": {
        "id": "pAkGV4tMunLb",
        "colab_type": "text"
      },
      "source": [
        " Continue with a concise summary of the dataframe."
      ]
    },
    {
      "cell_type": "code",
      "metadata": {
        "id": "mqmSEG8TxpS5",
        "colab_type": "code",
        "colab": {
          "base_uri": "https://localhost:8080/",
          "height": 407
        },
        "outputId": "95133811-160d-4db9-8c9c-77dbd138db55"
      },
      "source": [
        "df.info()"
      ],
      "execution_count": 7,
      "outputs": [
        {
          "output_type": "stream",
          "text": [
            "<class 'pandas.core.frame.DataFrame'>\n",
            "RangeIndex: 420551 entries, 0 to 420550\n",
            "Data columns (total 15 columns):\n",
            " #   Column           Non-Null Count   Dtype  \n",
            "---  ------           --------------   -----  \n",
            " 0   Date Time        420551 non-null  object \n",
            " 1   p (mbar)         420551 non-null  float64\n",
            " 2   T (degC)         420551 non-null  float64\n",
            " 3   Tpot (K)         420551 non-null  float64\n",
            " 4   Tdew (degC)      420551 non-null  float64\n",
            " 5   rh (%)           420551 non-null  float64\n",
            " 6   VPmax (mbar)     420551 non-null  float64\n",
            " 7   VPact (mbar)     420551 non-null  float64\n",
            " 8   VPdef (mbar)     420551 non-null  float64\n",
            " 9   sh (g/kg)        420551 non-null  float64\n",
            " 10  H2OC (mmol/mol)  420551 non-null  float64\n",
            " 11  rho (g/m**3)     420551 non-null  float64\n",
            " 12  wv (m/s)         420551 non-null  float64\n",
            " 13  max. wv (m/s)    420551 non-null  float64\n",
            " 14  wd (deg)         420551 non-null  float64\n",
            "dtypes: float64(14), object(1)\n",
            "memory usage: 48.1+ MB\n"
          ],
          "name": "stdout"
        }
      ]
    },
    {
      "cell_type": "markdown",
      "metadata": {
        "id": "iSJ9ipQlyt30",
        "colab_type": "text"
      },
      "source": [
        "The dataset contains 15 columns:\n",
        "\n",
        "* Date Time - date-time reference\n",
        "* p (mbar) - atmospheric pressure in millibars\n",
        "* T (degC) - temperature in Celsius\n",
        "* Tpot (K) - temperature in Kelvin\n",
        "* Tdew (degC) - temperature in Celsius relative to humidity\n",
        "* rh (%) - relative humidity\n",
        "* VPmax (mbar) - saturation vapor pressure in millibars\n",
        "* VPact (mbar) - vapor pressure in millibars\n",
        "* VPdef (mbar) - vapor pressure deficit in millibars\n",
        "* sh (g/kg) - specific humidity in grams per kilogram\n",
        "* H2OC (mmol/mol) - water vapor concentration in millimoles per mole\n",
        "* rho (g/m**3) - air density in grams per meter cubed\n",
        "* wv (m/s) - wind speed in meters per second\n",
        "* max. wv (m/s) - maximum wind speed in meters per second\n",
        "* wd (deg) - wind direction in degrees\n",
        "\n",
        "We have 14 features because *Date Time* is a reference column. We see that there is no missing data. All data is 'float64' except the 'Date Time' reference object. And, we see that the dataset contains 420,551 rows of data with indexes ranging from 0 to 420550."
      ]
    },
    {
      "cell_type": "markdown",
      "metadata": {
        "id": "3F7ngtq8yOTM",
        "colab_type": "text"
      },
      "source": [
        "Display statistical data for the 14 features:"
      ]
    },
    {
      "cell_type": "code",
      "metadata": {
        "id": "3szV_rjeyOM2",
        "colab_type": "code",
        "colab": {
          "base_uri": "https://localhost:8080/",
          "height": 467
        },
        "outputId": "33795293-2b18-4bd3-849f-95be5c6f726c"
      },
      "source": [
        "stats = df.describe()\n",
        "stats.transpose()"
      ],
      "execution_count": 8,
      "outputs": [
        {
          "output_type": "execute_result",
          "data": {
            "text/html": [
              "<div>\n",
              "<style scoped>\n",
              "    .dataframe tbody tr th:only-of-type {\n",
              "        vertical-align: middle;\n",
              "    }\n",
              "\n",
              "    .dataframe tbody tr th {\n",
              "        vertical-align: top;\n",
              "    }\n",
              "\n",
              "    .dataframe thead th {\n",
              "        text-align: right;\n",
              "    }\n",
              "</style>\n",
              "<table border=\"1\" class=\"dataframe\">\n",
              "  <thead>\n",
              "    <tr style=\"text-align: right;\">\n",
              "      <th></th>\n",
              "      <th>count</th>\n",
              "      <th>mean</th>\n",
              "      <th>std</th>\n",
              "      <th>min</th>\n",
              "      <th>25%</th>\n",
              "      <th>50%</th>\n",
              "      <th>75%</th>\n",
              "      <th>max</th>\n",
              "    </tr>\n",
              "  </thead>\n",
              "  <tbody>\n",
              "    <tr>\n",
              "      <th>p (mbar)</th>\n",
              "      <td>420551.0</td>\n",
              "      <td>989.212776</td>\n",
              "      <td>8.358481</td>\n",
              "      <td>913.60</td>\n",
              "      <td>984.20</td>\n",
              "      <td>989.58</td>\n",
              "      <td>994.72</td>\n",
              "      <td>1015.35</td>\n",
              "    </tr>\n",
              "    <tr>\n",
              "      <th>T (degC)</th>\n",
              "      <td>420551.0</td>\n",
              "      <td>9.450147</td>\n",
              "      <td>8.423365</td>\n",
              "      <td>-23.01</td>\n",
              "      <td>3.36</td>\n",
              "      <td>9.42</td>\n",
              "      <td>15.47</td>\n",
              "      <td>37.28</td>\n",
              "    </tr>\n",
              "    <tr>\n",
              "      <th>Tpot (K)</th>\n",
              "      <td>420551.0</td>\n",
              "      <td>283.492743</td>\n",
              "      <td>8.504471</td>\n",
              "      <td>250.60</td>\n",
              "      <td>277.43</td>\n",
              "      <td>283.47</td>\n",
              "      <td>289.53</td>\n",
              "      <td>311.34</td>\n",
              "    </tr>\n",
              "    <tr>\n",
              "      <th>Tdew (degC)</th>\n",
              "      <td>420551.0</td>\n",
              "      <td>4.955854</td>\n",
              "      <td>6.730674</td>\n",
              "      <td>-25.01</td>\n",
              "      <td>0.24</td>\n",
              "      <td>5.22</td>\n",
              "      <td>10.07</td>\n",
              "      <td>23.11</td>\n",
              "    </tr>\n",
              "    <tr>\n",
              "      <th>rh (%)</th>\n",
              "      <td>420551.0</td>\n",
              "      <td>76.008259</td>\n",
              "      <td>16.476175</td>\n",
              "      <td>12.95</td>\n",
              "      <td>65.21</td>\n",
              "      <td>79.30</td>\n",
              "      <td>89.40</td>\n",
              "      <td>100.00</td>\n",
              "    </tr>\n",
              "    <tr>\n",
              "      <th>VPmax (mbar)</th>\n",
              "      <td>420551.0</td>\n",
              "      <td>13.576251</td>\n",
              "      <td>7.739020</td>\n",
              "      <td>0.95</td>\n",
              "      <td>7.78</td>\n",
              "      <td>11.82</td>\n",
              "      <td>17.60</td>\n",
              "      <td>63.77</td>\n",
              "    </tr>\n",
              "    <tr>\n",
              "      <th>VPact (mbar)</th>\n",
              "      <td>420551.0</td>\n",
              "      <td>9.533756</td>\n",
              "      <td>4.184164</td>\n",
              "      <td>0.79</td>\n",
              "      <td>6.21</td>\n",
              "      <td>8.86</td>\n",
              "      <td>12.35</td>\n",
              "      <td>28.32</td>\n",
              "    </tr>\n",
              "    <tr>\n",
              "      <th>VPdef (mbar)</th>\n",
              "      <td>420551.0</td>\n",
              "      <td>4.042412</td>\n",
              "      <td>4.896851</td>\n",
              "      <td>0.00</td>\n",
              "      <td>0.87</td>\n",
              "      <td>2.19</td>\n",
              "      <td>5.30</td>\n",
              "      <td>46.01</td>\n",
              "    </tr>\n",
              "    <tr>\n",
              "      <th>sh (g/kg)</th>\n",
              "      <td>420551.0</td>\n",
              "      <td>6.022408</td>\n",
              "      <td>2.656139</td>\n",
              "      <td>0.50</td>\n",
              "      <td>3.92</td>\n",
              "      <td>5.59</td>\n",
              "      <td>7.80</td>\n",
              "      <td>18.13</td>\n",
              "    </tr>\n",
              "    <tr>\n",
              "      <th>H2OC (mmol/mol)</th>\n",
              "      <td>420551.0</td>\n",
              "      <td>9.640223</td>\n",
              "      <td>4.235395</td>\n",
              "      <td>0.80</td>\n",
              "      <td>6.29</td>\n",
              "      <td>8.96</td>\n",
              "      <td>12.49</td>\n",
              "      <td>28.82</td>\n",
              "    </tr>\n",
              "    <tr>\n",
              "      <th>rho (g/m**3)</th>\n",
              "      <td>420551.0</td>\n",
              "      <td>1216.062748</td>\n",
              "      <td>39.975208</td>\n",
              "      <td>1059.45</td>\n",
              "      <td>1187.49</td>\n",
              "      <td>1213.79</td>\n",
              "      <td>1242.77</td>\n",
              "      <td>1393.54</td>\n",
              "    </tr>\n",
              "    <tr>\n",
              "      <th>wv (m/s)</th>\n",
              "      <td>420551.0</td>\n",
              "      <td>1.702224</td>\n",
              "      <td>65.446714</td>\n",
              "      <td>-9999.00</td>\n",
              "      <td>0.99</td>\n",
              "      <td>1.76</td>\n",
              "      <td>2.86</td>\n",
              "      <td>28.49</td>\n",
              "    </tr>\n",
              "    <tr>\n",
              "      <th>max. wv (m/s)</th>\n",
              "      <td>420551.0</td>\n",
              "      <td>3.056555</td>\n",
              "      <td>69.016932</td>\n",
              "      <td>-9999.00</td>\n",
              "      <td>1.76</td>\n",
              "      <td>2.96</td>\n",
              "      <td>4.74</td>\n",
              "      <td>23.50</td>\n",
              "    </tr>\n",
              "    <tr>\n",
              "      <th>wd (deg)</th>\n",
              "      <td>420551.0</td>\n",
              "      <td>174.743738</td>\n",
              "      <td>86.681693</td>\n",
              "      <td>0.00</td>\n",
              "      <td>124.90</td>\n",
              "      <td>198.10</td>\n",
              "      <td>234.10</td>\n",
              "      <td>360.00</td>\n",
              "    </tr>\n",
              "  </tbody>\n",
              "</table>\n",
              "</div>"
            ],
            "text/plain": [
              "                    count         mean        std  ...      50%      75%      max\n",
              "p (mbar)         420551.0   989.212776   8.358481  ...   989.58   994.72  1015.35\n",
              "T (degC)         420551.0     9.450147   8.423365  ...     9.42    15.47    37.28\n",
              "Tpot (K)         420551.0   283.492743   8.504471  ...   283.47   289.53   311.34\n",
              "Tdew (degC)      420551.0     4.955854   6.730674  ...     5.22    10.07    23.11\n",
              "rh (%)           420551.0    76.008259  16.476175  ...    79.30    89.40   100.00\n",
              "VPmax (mbar)     420551.0    13.576251   7.739020  ...    11.82    17.60    63.77\n",
              "VPact (mbar)     420551.0     9.533756   4.184164  ...     8.86    12.35    28.32\n",
              "VPdef (mbar)     420551.0     4.042412   4.896851  ...     2.19     5.30    46.01\n",
              "sh (g/kg)        420551.0     6.022408   2.656139  ...     5.59     7.80    18.13\n",
              "H2OC (mmol/mol)  420551.0     9.640223   4.235395  ...     8.96    12.49    28.82\n",
              "rho (g/m**3)     420551.0  1216.062748  39.975208  ...  1213.79  1242.77  1393.54\n",
              "wv (m/s)         420551.0     1.702224  65.446714  ...     1.76     2.86    28.49\n",
              "max. wv (m/s)    420551.0     3.056555  69.016932  ...     2.96     4.74    23.50\n",
              "wd (deg)         420551.0   174.743738  86.681693  ...   198.10   234.10   360.00\n",
              "\n",
              "[14 rows x 8 columns]"
            ]
          },
          "metadata": {
            "tags": []
          },
          "execution_count": 8
        }
      ]
    },
    {
      "cell_type": "markdown",
      "metadata": {
        "id": "F7K5x1HCy6JV",
        "colab_type": "text"
      },
      "source": [
        "The **describe** method generates descriptive statistics. The **transpose** method transposes indexes and columns."
      ]
    },
    {
      "cell_type": "markdown",
      "metadata": {
        "id": "1L9EzTYi5FGW",
        "colab_type": "text"
      },
      "source": [
        "Display the shape of the dataframe:"
      ]
    },
    {
      "cell_type": "code",
      "metadata": {
        "id": "J-cQhnW95FNM",
        "colab_type": "code",
        "colab": {
          "base_uri": "https://localhost:8080/",
          "height": 34
        },
        "outputId": "499496f9-c843-4c1f-9d03-d827531d5e47"
      },
      "source": [
        "df.shape"
      ],
      "execution_count": 9,
      "outputs": [
        {
          "output_type": "execute_result",
          "data": {
            "text/plain": [
              "(420551, 15)"
            ]
          },
          "metadata": {
            "tags": []
          },
          "execution_count": 9
        }
      ]
    },
    {
      "cell_type": "markdown",
      "metadata": {
        "id": "KL7jBRuF5Z1c",
        "colab_type": "text"
      },
      "source": [
        "The dataframe contains 420,551 rows (or records) with 15 features included in each row."
      ]
    },
    {
      "cell_type": "markdown",
      "metadata": {
        "id": "KxUN03FSvKsk",
        "colab_type": "text"
      },
      "source": [
        "# Plot Relative Humidity Over Time\n",
        "\n",
        "Since we have the data in a Pandas dataframe, We can easily plot any of the 14 features against *Date Time* time steps. Let's try this with relative humidity represented as **rh (%)**."
      ]
    },
    {
      "cell_type": "code",
      "metadata": {
        "id": "3ObUzD2K8gUW",
        "colab_type": "code",
        "colab": {
          "base_uri": "https://localhost:8080/",
          "height": 282
        },
        "outputId": "848423b9-0a49-485c-f6e3-71298ed5cb60"
      },
      "source": [
        "import matplotlib.pyplot as plt\n",
        "\n",
        "# create new dataframe with just relative humidity column\n",
        "rh = df['rh (%)']\n",
        "\n",
        "# plot it!\n",
        "rh.plot()"
      ],
      "execution_count": 10,
      "outputs": [
        {
          "output_type": "execute_result",
          "data": {
            "text/plain": [
              "<matplotlib.axes._subplots.AxesSubplot at 0x7fa4be1bef60>"
            ]
          },
          "metadata": {
            "tags": []
          },
          "execution_count": 10
        },
        {
          "output_type": "display_data",
          "data": {
            "image/png": "[encoded data removed]",
            "text/plain": [
              "<Figure size 432x288 with 1 Axes>"
            ]
          },
          "metadata": {
            "tags": [],
            "needs_background": "light"
          }
        }
      ]
    },
    {
      "cell_type": "markdown",
      "metadata": {
        "id": "YVhuMlWF9sLe",
        "colab_type": "text"
      },
      "source": [
        "From the plot, we see yearly periodicity of relative humidity. Since we have an observation every 10 minutes, each hour has 6 observations. And, each day has 144 (6 observations x 24 hours) observations. "
      ]
    },
    {
      "cell_type": "markdown",
      "metadata": {
        "id": "Jgfv4f8B-gz7",
        "colab_type": "text"
      },
      "source": [
        "Let's plot a more narrow view by displaying the first 10 days. Since we have 144 observations per day, we plot a total of 1,440 (10 days x 144 observations/day) observations. Notice that indexing begins a *0*."
      ]
    },
    {
      "cell_type": "code",
      "metadata": {
        "id": "KnjEftTz8nR_",
        "colab_type": "code",
        "colab": {
          "base_uri": "https://localhost:8080/",
          "height": 282
        },
        "outputId": "6680a69a-79f0-4648-c486-ce436bddb3bd"
      },
      "source": [
        "rh10 = df['rh (%)'][0:1439]\n",
        "rh10.plot()"
      ],
      "execution_count": 11,
      "outputs": [
        {
          "output_type": "execute_result",
          "data": {
            "text/plain": [
              "<matplotlib.axes._subplots.AxesSubplot at 0x7fa4be10c198>"
            ]
          },
          "metadata": {
            "tags": []
          },
          "execution_count": 11
        },
        {
          "output_type": "display_data",
          "data": {
            "image/png": "[encoded data removed]",
            "text/plain": [
              "<Figure size 432x288 with 1 Axes>"
            ]
          },
          "metadata": {
            "tags": [],
            "needs_background": "light"
          }
        }
      ]
    },
    {
      "cell_type": "markdown",
      "metadata": {
        "id": "LahnMpBpAwRN",
        "colab_type": "text"
      },
      "source": [
        "With a more narrow view of the data, we can see daily periodicity. We also see that fluctuation is pretty chaotic. That is, we don't see a stable pattern."
      ]
    },
    {
      "cell_type": "markdown",
      "metadata": {
        "id": "vXlVRhIBG-kT",
        "colab_type": "text"
      },
      "source": [
        "Explore relative humidity by time step at a granular level:"
      ]
    },
    {
      "cell_type": "code",
      "metadata": {
        "id": "_t8XU6MNGOzR",
        "colab_type": "code",
        "colab": {
          "base_uri": "https://localhost:8080/",
          "height": 197
        },
        "outputId": "5bf3b1ee-7685-4123-b727-8fc92cbe739d"
      },
      "source": [
        "df[['Date Time','rh (%)']].head()"
      ],
      "execution_count": 12,
      "outputs": [
        {
          "output_type": "execute_result",
          "data": {
            "text/html": [
              "<div>\n",
              "<style scoped>\n",
              "    .dataframe tbody tr th:only-of-type {\n",
              "        vertical-align: middle;\n",
              "    }\n",
              "\n",
              "    .dataframe tbody tr th {\n",
              "        vertical-align: top;\n",
              "    }\n",
              "\n",
              "    .dataframe thead th {\n",
              "        text-align: right;\n",
              "    }\n",
              "</style>\n",
              "<table border=\"1\" class=\"dataframe\">\n",
              "  <thead>\n",
              "    <tr style=\"text-align: right;\">\n",
              "      <th></th>\n",
              "      <th>Date Time</th>\n",
              "      <th>rh (%)</th>\n",
              "    </tr>\n",
              "  </thead>\n",
              "  <tbody>\n",
              "    <tr>\n",
              "      <th>0</th>\n",
              "      <td>01.01.2009 00:10:00</td>\n",
              "      <td>93.3</td>\n",
              "    </tr>\n",
              "    <tr>\n",
              "      <th>1</th>\n",
              "      <td>01.01.2009 00:20:00</td>\n",
              "      <td>93.4</td>\n",
              "    </tr>\n",
              "    <tr>\n",
              "      <th>2</th>\n",
              "      <td>01.01.2009 00:30:00</td>\n",
              "      <td>93.9</td>\n",
              "    </tr>\n",
              "    <tr>\n",
              "      <th>3</th>\n",
              "      <td>01.01.2009 00:40:00</td>\n",
              "      <td>94.2</td>\n",
              "    </tr>\n",
              "    <tr>\n",
              "      <th>4</th>\n",
              "      <td>01.01.2009 00:50:00</td>\n",
              "      <td>94.1</td>\n",
              "    </tr>\n",
              "  </tbody>\n",
              "</table>\n",
              "</div>"
            ],
            "text/plain": [
              "             Date Time  rh (%)\n",
              "0  01.01.2009 00:10:00    93.3\n",
              "1  01.01.2009 00:20:00    93.4\n",
              "2  01.01.2009 00:30:00    93.9\n",
              "3  01.01.2009 00:40:00    94.2\n",
              "4  01.01.2009 00:50:00    94.1"
            ]
          },
          "metadata": {
            "tags": []
          },
          "execution_count": 12
        }
      ]
    },
    {
      "cell_type": "markdown",
      "metadata": {
        "id": "LLHmwHR3HxDv",
        "colab_type": "text"
      },
      "source": [
        "We can do the same exploration by setting an index:"
      ]
    },
    {
      "cell_type": "code",
      "metadata": {
        "id": "HIlD4PIOHxLd",
        "colab_type": "code",
        "colab": {
          "base_uri": "https://localhost:8080/",
          "height": 141
        },
        "outputId": "081731c7-efe4-4613-b7db-77c3bf721057"
      },
      "source": [
        "rh_dt = rh\n",
        "rh_dt.index = df['Date Time']\n",
        "rh_dt.head()"
      ],
      "execution_count": 13,
      "outputs": [
        {
          "output_type": "execute_result",
          "data": {
            "text/plain": [
              "Date Time\n",
              "01.01.2009 00:10:00    93.3\n",
              "01.01.2009 00:20:00    93.4\n",
              "01.01.2009 00:30:00    93.9\n",
              "01.01.2009 00:40:00    94.2\n",
              "01.01.2009 00:50:00    94.1\n",
              "Name: rh (%), dtype: float64"
            ]
          },
          "metadata": {
            "tags": []
          },
          "execution_count": 13
        }
      ]
    },
    {
      "cell_type": "markdown",
      "metadata": {
        "id": "9D6ccP4C2SEJ",
        "colab_type": "text"
      },
      "source": [
        "# Forecast a Univariate Time Series"
      ]
    },
    {
      "cell_type": "markdown",
      "metadata": {
        "id": "qlCTAqweBN8d",
        "colab_type": "text"
      },
      "source": [
        "## Scale Data"
      ]
    },
    {
      "cell_type": "markdown",
      "metadata": {
        "id": "b1S09E2H10M6",
        "colab_type": "text"
      },
      "source": [
        "\n",
        "Convert dataframe data into numpy arrays."
      ]
    },
    {
      "cell_type": "code",
      "metadata": {
        "id": "gDP6dzqJBfnd",
        "colab_type": "code",
        "colab": {}
      },
      "source": [
        "rh_np = rh.to_numpy()"
      ],
      "execution_count": 14,
      "outputs": []
    },
    {
      "cell_type": "markdown",
      "metadata": {
        "id": "NWW_Wym5y7W2",
        "colab_type": "text"
      },
      "source": [
        "Scale numpy data for efficient training. Scaling ensures small values on similar scales."
      ]
    },
    {
      "cell_type": "code",
      "metadata": {
        "id": "OF81tGSoCYo3",
        "colab_type": "code",
        "colab": {
          "base_uri": "https://localhost:8080/",
          "height": 123
        },
        "outputId": "a33ba22f-deee-46dc-b342-d422650cafb5"
      },
      "source": [
        "br ='\\n'\n",
        "\n",
        "# original data\n",
        "print ('first five unscaled observations:', rh_np, br)\n",
        "\n",
        "# scale relative humidity data\n",
        "rh_sc = tf.keras.utils.normalize(rh_np)\n",
        "print ('shape after tf function:', rh_sc.shape)\n",
        "\n",
        "# squeeze out '1' dimension\n",
        "rh_sq = tf.squeeze(rh_sc)\n",
        "print ('shape after squeeze:', rh_sq.shape, br)\n",
        "\n",
        "# convert to numpy\n",
        "rh_scaled = rh_sq.numpy()\n",
        "print ('first five scaled observations:', rh_scaled[:5])"
      ],
      "execution_count": 16,
      "outputs": [
        {
          "output_type": "stream",
          "text": [
            "first five unscaled observations: [93.3  93.4  93.9  ... 67.91 71.8  75.7 ] \n",
            "\n",
            "shape after tf function: (1, 420551)\n",
            "shape after squeeze: (420551,) \n",
            "\n",
            "first five scaled observations: [0.00184987 0.00185185 0.00186176 0.00186771 0.00186573]\n"
          ],
          "name": "stdout"
        }
      ]
    },
    {
      "cell_type": "markdown",
      "metadata": {
        "id": "PMDgH6s7MY6O",
        "colab_type": "text"
      },
      "source": [
        "Begin by scaling relative humidity data. Squeeze out the extra *1* dimension added by the TensorFlow function so we can convert the TensorFlow tensor into a numpy array for easier processing. Display the first five scaled observations to verify that scaling worked as planned."
      ]
    },
    {
      "cell_type": "markdown",
      "metadata": {
        "id": "seMG11Z7BhSs",
        "colab_type": "text"
      },
      "source": [
        "## Establish Training Data Split"
      ]
    },
    {
      "cell_type": "code",
      "metadata": {
        "id": "hZpc3H2GBhbu",
        "colab_type": "code",
        "colab": {
          "base_uri": "https://localhost:8080/",
          "height": 34
        },
        "outputId": "c8f128e3-9ec9-4234-8ff5-2f2438aac64b"
      },
      "source": [
        "import numpy as np\n",
        "\n",
        "# train split with 75% of data\n",
        "train_split = int(np.round(df.shape[0] * .75))\n",
        "train_split"
      ],
      "execution_count": 17,
      "outputs": [
        {
          "output_type": "execute_result",
          "data": {
            "text/plain": [
              "315413"
            ]
          },
          "metadata": {
            "tags": []
          },
          "execution_count": 17
        }
      ]
    },
    {
      "cell_type": "code",
      "metadata": {
        "id": "DPN9xTwRBs4r",
        "colab_type": "code",
        "colab": {
          "base_uri": "https://localhost:8080/",
          "height": 34
        },
        "outputId": "3525d1cf-a85b-4c5e-c03b-8c21163a2ce7"
      },
      "source": [
        "# test split with 25% of data\n",
        "# test split with 25% of data\n",
        "test_split = df.shape[0] - train_split\n",
        "test_split"
      ],
      "execution_count": 18,
      "outputs": [
        {
          "output_type": "execute_result",
          "data": {
            "text/plain": [
              "105138"
            ]
          },
          "metadata": {
            "tags": []
          },
          "execution_count": 18
        }
      ]
    },
    {
      "cell_type": "code",
      "metadata": {
        "id": "KGAN0Pl0By-i",
        "colab_type": "code",
        "colab": {
          "base_uri": "https://localhost:8080/",
          "height": 52
        },
        "outputId": "956a2d8b-6b24-4550-8b3a-fdcdbff84155"
      },
      "source": [
        "# calculate number of days of data\n",
        "print (np.round(train_split / 144, 2))\n",
        "print (np.round((df.shape[0] - train_split) / 144), 2)"
      ],
      "execution_count": 19,
      "outputs": [
        {
          "output_type": "stream",
          "text": [
            "2190.37\n",
            "730.0 2\n"
          ],
          "name": "stdout"
        }
      ]
    },
    {
      "cell_type": "markdown",
      "metadata": {
        "id": "zozuAyHWB3-4",
        "colab_type": "text"
      },
      "source": [
        "For this experiment, use the first 315,413 rows of the data for training and the remaining 105,138 (420,551 - 315,413) rows for the test set. So, training data accounts for about 2,190 (315, 413 / 144) days of data. And, test data accounts for about 730 days of data."
      ]
    },
    {
      "cell_type": "markdown",
      "metadata": {
        "id": "QqEkQarO_CZ9",
        "colab_type": "text"
      },
      "source": [
        "## Split Data into Features and Labels"
      ]
    },
    {
      "cell_type": "markdown",
      "metadata": {
        "id": "ktGm_zvP_SRC",
        "colab_type": "text"
      },
      "source": [
        "Create a function that splits the dataset into features and labels."
      ]
    },
    {
      "cell_type": "code",
      "metadata": {
        "id": "ZQNgd9Nq_CiJ",
        "colab_type": "code",
        "colab": {}
      },
      "source": [
        "def create_datasets(data, origin, end, window, target_size):\n",
        "\n",
        "  # list to hold feature set of windows\n",
        "  features = []\n",
        "\n",
        "  # lost to hold labels\n",
        "  labels = []\n",
        "\n",
        "  # establish starting point that reflects window size\n",
        "  origin = origin + window\n",
        "\n",
        "  # enable split for test data\n",
        "  if end is None:\n",
        "    end = len(data) - target_size\n",
        "\n",
        "  # create feature set of 'window-sized' elements\n",
        "  for i in range(origin, end):\n",
        "\n",
        "    # create index set to identify each window\n",
        "    indices = range(i-window, i)\n",
        "\n",
        "    # reshape data from (window,) to (window, 1)\n",
        "    features.append(np.reshape(data[indices], (window, 1)))\n",
        "\n",
        "    # create labels\n",
        "    labels.append(data[i+target_size])\n",
        "\n",
        "  return np.array(features), np.array(labels)"
      ],
      "execution_count": 20,
      "outputs": []
    },
    {
      "cell_type": "markdown",
      "metadata": {
        "id": "RhS35lOHCYQt",
        "colab_type": "text"
      },
      "source": [
        "The function accepts a dataset, an index where we want to start, an ending index, the size of each window, and target size. Parameter **window** is the size of the past window of information. The **target_size** is how far in the future we want our model to learn how to predict.\n",
        "\n",
        "The function continues by creating a list to hold the feature data and another to hold the labels. Next, it establishes the starting point that reflects the window size. To enable creating a test set, the function checks the 'end' value. If it is 'None', the function uses the length of the entire dataset as the ending value so the test set can start where the training set left off up to the ending value.\n",
        "\n",
        "Once training and test starting points are established, the function creates the feature windows and labels. The *indices* for each feature window is established as the window size. Each subsequent set of *indices* begins where the last set ended. Feature windows are reshaped for TensorFlow consumption and added to the *features* list. Labels are created as the last observation in the next window and then added to the *labels* list. Both features and labels are returned as numpy arrays.\n",
        "\n",
        "The function may seem confusing, but all it really does is create a dataset that holds relative humidities (for our experiment) and another that holds targets. Targets are based on the last relative humidity from the next window of data. This makes sense because the last relative humidity from the next window is a pretty good prediction of future relative humidity.\n",
        "\n",
        "So, the feature set becomes a set of windows that contain time step observations. And, the label set contains predictions for each window."
      ]
    },
    {
      "cell_type": "markdown",
      "metadata": {
        "id": "efXejRDLO4Qo",
        "colab_type": "text"
      },
      "source": [
        "## Create Train and Test Sets\n",
        "\n",
        "For the train set, we start at index 0 from the dataset and continue up to 315,412. For the test set, we take the remainder. We set the window size to 20 and target to 0."
      ]
    },
    {
      "cell_type": "markdown",
      "metadata": {
        "id": "HI65iUYRPR5O",
        "colab_type": "text"
      },
      "source": [
        "Invoke the function:"
      ]
    },
    {
      "cell_type": "code",
      "metadata": {
        "id": "zUOk18ASO4W8",
        "colab_type": "code",
        "colab": {}
      },
      "source": [
        "# create train and test sets\n",
        "\n",
        "import numpy as np\n",
        "\n",
        "window = 20\n",
        "target = 0\n",
        "\n",
        "x_train, y_train = create_datasets(rh_scaled, 0, train_split,\n",
        "                                   window, target)\n",
        "\n",
        "x_test, y_test = create_datasets(rh_scaled, train_split, None,\n",
        "                                 window, target)"
      ],
      "execution_count": 21,
      "outputs": []
    },
    {
      "cell_type": "markdown",
      "metadata": {
        "id": "TkR_ikc2O4em",
        "colab_type": "text"
      },
      "source": [
        "Inspect train and test data:"
      ]
    },
    {
      "cell_type": "code",
      "metadata": {
        "id": "E_ctNJrKO4lb",
        "colab_type": "code",
        "colab": {
          "base_uri": "https://localhost:8080/",
          "height": 52
        },
        "outputId": "a1864606-6067-4daf-97e7-32004b6ec0ee"
      },
      "source": [
        "print ('train:', end=' ')\n",
        "print (x_train.shape, y_train.shape)\n",
        "\n",
        "print ('test:', end=' ')\n",
        "print (x_test.shape, y_test.shape)"
      ],
      "execution_count": 22,
      "outputs": [
        {
          "output_type": "stream",
          "text": [
            "train: (315393, 20, 1) (315393,)\n",
            "test: (105118, 20, 1) (105118,)\n"
          ],
          "name": "stdout"
        }
      ]
    },
    {
      "cell_type": "markdown",
      "metadata": {
        "id": "8Ynt-3hpP72r",
        "colab_type": "text"
      },
      "source": [
        "As expected, the shapes reflect size of each dataset, window size, and the *1* dimension. The *1* dimension indicates that we are making one prediction into the future. We see that the train set contains 315,393 data records composed of windows of 20 relative humidity readings. And, the test set contains 105,118 data records composed of windows of 20 relative humidity readings.\n",
        "\n",
        "So, why do we have 315,393 training observations instead of the original 315,413? Just subtract the first window of 20 from 315,413. For test data, subtract the first window of 20 from 105,138 to get 105,118.\n",
        "\n",
        "We can create bigger windows, but this dramatically increases the amount of data we must process. With only 20 observations per window, we already have 6,307,860 (315,393 x 20) data points for training and 2,102,360 (105,118 x 20) data points for testing!"
      ]
    },
    {
      "cell_type": "markdown",
      "metadata": {
        "id": "mWq7qVVoStUF",
        "colab_type": "text"
      },
      "source": [
        "## View Windows of Past History"
      ]
    },
    {
      "cell_type": "code",
      "metadata": {
        "id": "tZDzbgnjStZ6",
        "colab_type": "code",
        "colab": {
          "base_uri": "https://localhost:8080/",
          "height": 478
        },
        "outputId": "a8616d90-d848-43d5-c6ba-8a11e8dbbe71"
      },
      "source": [
        "print ('length of window:', len(x_train[0]), br)\n",
        "print ('first window of past history:')\n",
        "print (x_train[0], br)\n",
        "print ('target relative humidity to predict:')\n",
        "print (y_train[0])"
      ],
      "execution_count": 23,
      "outputs": [
        {
          "output_type": "stream",
          "text": [
            "length of window: 20 \n",
            "\n",
            "first window of past history:\n",
            "[[0.00184987]\n",
            " [0.00185185]\n",
            " [0.00186176]\n",
            " [0.00186771]\n",
            " [0.00186573]\n",
            " [0.00187168]\n",
            " [0.00187961]\n",
            " [0.00187168]\n",
            " [0.00185978]\n",
            " [0.0018459 ]\n",
            " [0.0018459 ]\n",
            " [0.00184788]\n",
            " [0.00185383]\n",
            " [0.00185383]\n",
            " [0.00186176]\n",
            " [0.00185582]\n",
            " [0.00185383]\n",
            " [0.00185383]\n",
            " [0.00185383]\n",
            " [0.00184987]] \n",
            "\n",
            "target relative humidity to predict:\n",
            "0.0018518500991722392\n"
          ],
          "name": "stdout"
        }
      ]
    },
    {
      "cell_type": "markdown",
      "metadata": {
        "id": "qK5mJ8hkStfs",
        "colab_type": "text"
      },
      "source": [
        "As expected, the first data window contains 20 relative humidity readings. So, how did we get the target?"
      ]
    },
    {
      "cell_type": "markdown",
      "metadata": {
        "id": "u4pFqwecUFhB",
        "colab_type": "text"
      },
      "source": [
        "Just take the last entry from the next window:"
      ]
    },
    {
      "cell_type": "code",
      "metadata": {
        "id": "5hXbwudPStmE",
        "colab_type": "code",
        "colab": {
          "base_uri": "https://localhost:8080/",
          "height": 52
        },
        "outputId": "77705bce-e872-48e6-fc2f-256b6f15cbbf"
      },
      "source": [
        "print ('target from the 1st window:', end='   ')\n",
        "print (np.round(y_train[0], 8))\n",
        "print ('last obs from the 2nd window:', end=' ')\n",
        "print (np.round(x_train[1][19][0], 8))"
      ],
      "execution_count": 24,
      "outputs": [
        {
          "output_type": "stream",
          "text": [
            "target from the 1st window:   0.00185185\n",
            "last obs from the 2nd window: 0.00185185\n"
          ],
          "name": "stdout"
        }
      ]
    },
    {
      "cell_type": "markdown",
      "metadata": {
        "id": "iki-zw2WUXyZ",
        "colab_type": "text"
      },
      "source": [
        "Verify by inspecting the second window:"
      ]
    },
    {
      "cell_type": "code",
      "metadata": {
        "id": "acNqRbM1UX6A",
        "colab_type": "code",
        "colab": {
          "base_uri": "https://localhost:8080/",
          "height": 443
        },
        "outputId": "f52035fa-2a92-45fc-d95a-5384cc939ad9"
      },
      "source": [
        "print ('second window of past history:')\n",
        "print (x_train[1], br)\n",
        "print ('target relative humidity to predict:')\n",
        "print (y_train[1])"
      ],
      "execution_count": 25,
      "outputs": [
        {
          "output_type": "stream",
          "text": [
            "second window of past history:\n",
            "[[0.00185185]\n",
            " [0.00186176]\n",
            " [0.00186771]\n",
            " [0.00186573]\n",
            " [0.00187168]\n",
            " [0.00187961]\n",
            " [0.00187168]\n",
            " [0.00185978]\n",
            " [0.0018459 ]\n",
            " [0.0018459 ]\n",
            " [0.00184788]\n",
            " [0.00185383]\n",
            " [0.00185383]\n",
            " [0.00186176]\n",
            " [0.00185582]\n",
            " [0.00185383]\n",
            " [0.00185383]\n",
            " [0.00185383]\n",
            " [0.00184987]\n",
            " [0.00185185]] \n",
            "\n",
            "target relative humidity to predict:\n",
            "0.0018459019725153689\n"
          ],
          "name": "stdout"
        }
      ]
    },
    {
      "cell_type": "markdown",
      "metadata": {
        "id": "MxYXtFd9T8YP",
        "colab_type": "text"
      },
      "source": [
        "Let's see if this pattern holds for the second and third windows:"
      ]
    },
    {
      "cell_type": "code",
      "metadata": {
        "id": "dxq-dQyMT8gJ",
        "colab_type": "code",
        "colab": {
          "base_uri": "https://localhost:8080/",
          "height": 105
        },
        "outputId": "41ea1889-2f28-42d4-f36c-5f4ec139016d"
      },
      "source": [
        "print ('target from the 2nd window:', end='   ')\n",
        "print (np.round(y_train[1], 8))\n",
        "print ('last obs from the 3rd window:', end=' ')\n",
        "print (np.round(x_train[2][19][0], 8), br)\n",
        "\n",
        "print ('target from the 3rd window:', end='   ')\n",
        "print (np.round(y_train[2], 8))\n",
        "print ('last obs from the 4th window:', end=' ')\n",
        "print (np.round(x_train[3][19][0], 8))"
      ],
      "execution_count": 26,
      "outputs": [
        {
          "output_type": "stream",
          "text": [
            "target from the 2nd window:   0.0018459\n",
            "last obs from the 3rd window: 0.0018459 \n",
            "\n",
            "target from the 3rd window:   0.00183202\n",
            "last obs from the 4th window: 0.00183202\n"
          ],
          "name": "stdout"
        }
      ]
    },
    {
      "cell_type": "markdown",
      "metadata": {
        "id": "gj_t835fTnSc",
        "colab_type": "text"
      },
      "source": [
        "Just to be sure, inspect the pattern for the fourth and fifth windows:"
      ]
    },
    {
      "cell_type": "code",
      "metadata": {
        "id": "Ig3BwEQ-jOcB",
        "colab_type": "code",
        "colab": {
          "base_uri": "https://localhost:8080/",
          "height": 105
        },
        "outputId": "91fc72c0-13f7-437e-8f30-674e1f080f4f"
      },
      "source": [
        "print ('target from the 4th window:', end='   ')\n",
        "print (np.round(y_train[3], 8))\n",
        "print ('last obs from the 5th window:', end=' ')\n",
        "print (np.round(x_train[4][19][0], 8), br)\n",
        "\n",
        "print ('target from the 5th window:', end='   ')\n",
        "print (np.round(y_train[4], 8))\n",
        "print ('last obs from the 6th window:', end=' ')\n",
        "print (np.round(x_train[5][19][0], 8))"
      ],
      "execution_count": 27,
      "outputs": [
        {
          "output_type": "stream",
          "text": [
            "target from the 4th window:   0.00183599\n",
            "last obs from the 5th window: 0.00183599 \n",
            "\n",
            "target from the 5th window:   0.00182806\n",
            "last obs from the 6th window: 0.00182806\n"
          ],
          "name": "stdout"
        }
      ]
    },
    {
      "cell_type": "markdown",
      "metadata": {
        "id": "JSF9KU58Tnd1",
        "colab_type": "text"
      },
      "source": [
        "## Plot Single Example"
      ]
    },
    {
      "cell_type": "markdown",
      "metadata": {
        "id": "n-NpNyliWofv",
        "colab_type": "text"
      },
      "source": [
        "Create a function that returns a list of time steps beginning at *-length* to *0*."
      ]
    },
    {
      "cell_type": "code",
      "metadata": {
        "id": "zo3HqYqRTnkO",
        "colab_type": "code",
        "colab": {}
      },
      "source": [
        "def create_time_steps(length):\n",
        "  return list(range(-length, 0))"
      ],
      "execution_count": 28,
      "outputs": []
    },
    {
      "cell_type": "markdown",
      "metadata": {
        "id": "a7MrJVPxTnr4",
        "colab_type": "text"
      },
      "source": [
        "Create another function that accepts a single data window and its associated target, delta, and a title. Parameter **delta** is used to indicate a variation in a variable. The function plots each element in the data window with its associated time step."
      ]
    },
    {
      "cell_type": "code",
      "metadata": {
        "id": "rbK9IXZjTnxg",
        "colab_type": "code",
        "colab": {}
      },
      "source": [
        "def plot(plot_data, delta=0, title='Data Window'):  \n",
        "  labels = ['history', 'actual future', 'model prediction']\n",
        "  marker = ['r.-', 'b*', 'g>']\n",
        "  time_steps = create_time_steps(plot_data[0].shape[0])\n",
        "  if delta: future = delta\n",
        "  else: future = 0\n",
        "  plt.title(title)\n",
        "  for i, obs in enumerate(plot_data):\n",
        "    if i:\n",
        "      plt.plot(future, obs, marker[i], markersize=10,\n",
        "               label=labels[i])\n",
        "    else:\n",
        "      plt.plot(time_steps, obs.flatten(), marker[i],\n",
        "               label=labels[i])\n",
        "  plt.legend()\n",
        "  plt.xlim([time_steps[0], (future+5)*2])\n",
        "  plt.xlabel('time step')\n",
        "  return plt\n"
      ],
      "execution_count": 29,
      "outputs": []
    },
    {
      "cell_type": "markdown",
      "metadata": {
        "id": "FTBREiK0W7YI",
        "colab_type": "text"
      },
      "source": [
        "Invoke the function based on the first data window and target from the train set:"
      ]
    },
    {
      "cell_type": "code",
      "metadata": {
        "id": "WFsz4jLIW7eg",
        "colab_type": "code",
        "colab": {
          "base_uri": "https://localhost:8080/",
          "height": 312
        },
        "outputId": "6ad96904-bb6b-41b8-b63a-110bda703cd9"
      },
      "source": [
        "plot([x_train[0], y_train[0]])"
      ],
      "execution_count": 30,
      "outputs": [
        {
          "output_type": "execute_result",
          "data": {
            "text/plain": [
              "<module 'matplotlib.pyplot' from '/usr/local/lib/python3.6/dist-packages/matplotlib/pyplot.py'>"
            ]
          },
          "metadata": {
            "tags": []
          },
          "execution_count": 30
        },
        {
          "output_type": "display_data",
          "data": {
            "image/png": "[encoded data removed]",
            "text/plain": [
              "<Figure size 432x288 with 1 Axes>"
            ]
          },
          "metadata": {
            "tags": [],
            "needs_background": "light"
          }
        }
      ]
    },
    {
      "cell_type": "markdown",
      "metadata": {
        "id": "v0NNFAv7W7k3",
        "colab_type": "text"
      },
      "source": [
        "We assume that delta is 0. It looks like our trend is pretty good, but we shouldn't get overconfident since relative humidity doesn't fluctuate wildly from one time step to the next. Actually, we set up our data this way because we created targets based on the last entry of the next window."
      ]
    },
    {
      "cell_type": "markdown",
      "metadata": {
        "id": "AbcV754vXfpz",
        "colab_type": "text"
      },
      "source": [
        "## Create a Visual Performance Baseline\n",
        "\n",
        "Before training our model, it is a good idea to create a simple visual performance baseline to compare against model performance. Of course, there are many ways to do this, but a very simple way is to use the average of the last 20 observations."
      ]
    },
    {
      "cell_type": "markdown",
      "metadata": {
        "id": "c1nZ2tWnXqjk",
        "colab_type": "text"
      },
      "source": [
        " Create a function that returns the average of a window of observations:"
      ]
    },
    {
      "cell_type": "code",
      "metadata": {
        "id": "aD_-riYvW7rE",
        "colab_type": "code",
        "colab": {}
      },
      "source": [
        "def baseline(history):\n",
        "  return np.mean(history)"
      ],
      "execution_count": 31,
      "outputs": []
    },
    {
      "cell_type": "markdown",
      "metadata": {
        "id": "HrsZGCu1W7wS",
        "colab_type": "text"
      },
      "source": [
        "Plot the first data window adding our baseline prediction."
      ]
    },
    {
      "cell_type": "code",
      "metadata": {
        "id": "JRVy_1A5W73C",
        "colab_type": "code",
        "colab": {
          "base_uri": "https://localhost:8080/",
          "height": 312
        },
        "outputId": "1729e133-2e37-4922-b9b0-fa4d4938a2c9"
      },
      "source": [
        "plot([x_train[0], y_train[0], baseline(x_train[0])], 0,\n",
        "     'baseline prediction')"
      ],
      "execution_count": 32,
      "outputs": [
        {
          "output_type": "execute_result",
          "data": {
            "text/plain": [
              "<module 'matplotlib.pyplot' from '/usr/local/lib/python3.6/dist-packages/matplotlib/pyplot.py'>"
            ]
          },
          "metadata": {
            "tags": []
          },
          "execution_count": 32
        },
        {
          "output_type": "display_data",
          "data": {
            "image/png": "[encoded data removed]",
            "text/plain": [
              "<Figure size 432x288 with 1 Axes>"
            ]
          },
          "metadata": {
            "tags": [],
            "needs_background": "light"
          }
        }
      ]
    },
    {
      "cell_type": "markdown",
      "metadata": {
        "id": "OQeyEG1gX5xC",
        "colab_type": "text"
      },
      "source": [
        "Now, we have a visual baseline to compare against our model."
      ]
    },
    {
      "cell_type": "markdown",
      "metadata": {
        "id": "5-Olu4qMO4ro",
        "colab_type": "text"
      },
      "source": [
        "## Create a Baseline Metric\n",
        "\n",
        "It's also a good idea to create a metric for the baseline. We can then numerically compare our model against the baseline metric. The simplest approach is to predict the last value for each window. We can then find the average mean squared error of the predictions and use this value as our metric."
      ]
    },
    {
      "cell_type": "code",
      "metadata": {
        "id": "XjRzFjSTO4yI",
        "colab_type": "code",
        "colab": {
          "base_uri": "https://localhost:8080/",
          "height": 105
        },
        "outputId": "efce74b4-cb96-4539-e430-bbf7c684b024"
      },
      "source": [
        "# display shape of test set\n",
        "print ('TensorFlow shape:', x_test[0].shape, br)\n",
        "\n",
        "# remove '1' dimension for easier processing\n",
        "x_test_np = tf.squeeze(x_test)\n",
        "print ('numpy shape:', x_test_np[0].shape, br)\n",
        "\n",
        "# predict last value for each window\n",
        "y_pred = x_test_np[:, -1]\n",
        "\n",
        "# compute average MSE\n",
        "MSE = np.mean(tf.keras.losses.mean_squared_error(\n",
        "    y_test, y_pred))\n",
        "print ('MSE:', MSE)"
      ],
      "execution_count": 33,
      "outputs": [
        {
          "output_type": "stream",
          "text": [
            "TensorFlow shape: (20, 1) \n",
            "\n",
            "numpy shape: (20,) \n",
            "\n",
            "MSE: 5.93914036657917e-10\n"
          ],
          "name": "stdout"
        }
      ]
    },
    {
      "cell_type": "markdown",
      "metadata": {
        "id": "cjtvdh1UYMgv",
        "colab_type": "text"
      },
      "source": [
        "Wow! The MSE is very small, which means that our baseline metric might be hard to beat. Why? In general, machine learning has a pretty significant limitation. Unless the learning algorithm is hardcoded to look for a specific kind of simple model, parameter learning can sometimes fail to find a simple solution to a simple problem. Our time series problem is really a very simple problem."
      ]
    },
    {
      "cell_type": "markdown",
      "metadata": {
        "id": "JMagzg2qO43g",
        "colab_type": "text"
      },
      "source": [
        "## RNN Forecasting Model\n",
        "\n",
        "A RNN is well-suited to time series data because its layers can provide feedback to earlier layers. Specifically, a RNN processes time series data time step by time step while remembering information it sees during training. Our model uses a GRU layer, which is a specialized RNN layer capable of remembering information over long periods of time. So, it is well-suited for time series modeling."
      ]
    },
    {
      "cell_type": "markdown",
      "metadata": {
        "id": "pAoUnBb9YfXY",
        "colab_type": "text"
      },
      "source": [
        "## Finish the Input Pipeline"
      ]
    },
    {
      "cell_type": "markdown",
      "metadata": {
        "id": "4fP7rbkJYnMR",
        "colab_type": "text"
      },
      "source": [
        " Shuffle (where appropriate), batch, and cache:"
      ]
    },
    {
      "cell_type": "code",
      "metadata": {
        "id": "mUh5sAjWO49i",
        "colab_type": "code",
        "colab": {}
      },
      "source": [
        "BATCH_SIZE = 256\n",
        "BUFFER_SIZE = 10000\n",
        "\n",
        "# prepare the train set\n",
        "train = tf.data.Dataset.from_tensor_slices((x_train, y_train))\n",
        "train_one = (train.cache()\n",
        ".shuffle(BUFFER_SIZE)\n",
        ".batch(BATCH_SIZE)\n",
        ".repeat())\n",
        "\n",
        "# prepare the test set\n",
        "test = tf.data.Dataset.from_tensor_slices((x_test, y_test))\n",
        "test_one = test.batch(BATCH_SIZE).repeat()"
      ],
      "execution_count": 36,
      "outputs": []
    },
    {
      "cell_type": "markdown",
      "metadata": {
        "id": "ulXyNg2VO5DR",
        "colab_type": "text"
      },
      "source": [
        "Inspect tensors:"
      ]
    },
    {
      "cell_type": "code",
      "metadata": {
        "id": "ByMAUur_O5Jx",
        "colab_type": "code",
        "colab": {
          "base_uri": "https://localhost:8080/",
          "height": 52
        },
        "outputId": "1de5961f-9135-4ff3-c4dd-f03422334c33"
      },
      "source": [
        "train_one, test_one"
      ],
      "execution_count": 37,
      "outputs": [
        {
          "output_type": "execute_result",
          "data": {
            "text/plain": [
              "(<RepeatDataset shapes: ((None, 20, 1), (None,)), types: (tf.float64, tf.float64)>,\n",
              " <RepeatDataset shapes: ((None, 20, 1), (None,)), types: (tf.float64, tf.float64)>)"
            ]
          },
          "metadata": {
            "tags": []
          },
          "execution_count": 37
        }
      ]
    },
    {
      "cell_type": "markdown",
      "metadata": {
        "id": "dB6WhYaNO5P1",
        "colab_type": "text"
      },
      "source": [
        "## Explore a Data Window"
      ]
    },
    {
      "cell_type": "markdown",
      "metadata": {
        "id": "RNaUvlD9ZM2Z",
        "colab_type": "text"
      },
      "source": [
        "Verify that features and labels are batched in 256 element windows:"
      ]
    },
    {
      "cell_type": "code",
      "metadata": {
        "id": "UUmUrUDTO5Vh",
        "colab_type": "code",
        "colab": {
          "base_uri": "https://localhost:8080/",
          "height": 34
        },
        "outputId": "569bb954-0b2f-4cf4-a4e5-f325a3627562"
      },
      "source": [
        "for feature, label in train_one.take(1):\n",
        "  print (len(feature), len(label))"
      ],
      "execution_count": 38,
      "outputs": [
        {
          "output_type": "stream",
          "text": [
            "256 256\n"
          ],
          "name": "stdout"
        }
      ]
    },
    {
      "cell_type": "markdown",
      "metadata": {
        "id": "vb6gsaV8ZBz6",
        "colab_type": "text"
      },
      "source": [
        "Display the first window from the first batch:"
      ]
    },
    {
      "cell_type": "code",
      "metadata": {
        "id": "bTIBpVGYZB6g",
        "colab_type": "code",
        "colab": {
          "base_uri": "https://localhost:8080/",
          "height": 425
        },
        "outputId": "69c6d623-b766-449b-86ea-c73de36cb6b1"
      },
      "source": [
        "for feature, label in train_one.take(1):\n",
        "  print ('feature:')\n",
        "  print (feature[0].numpy(), br)\n",
        "  print ('label:', label[0].numpy())"
      ],
      "execution_count": 39,
      "outputs": [
        {
          "output_type": "stream",
          "text": [
            "feature:\n",
            "[[0.00176263]\n",
            " [0.00169522]\n",
            " [0.00166151]\n",
            " [0.00165953]\n",
            " [0.00167142]\n",
            " [0.00173289]\n",
            " [0.00178246]\n",
            " [0.00177651]\n",
            " [0.00174677]\n",
            " [0.00172297]\n",
            " [0.00172099]\n",
            " [0.00171504]\n",
            " [0.00170513]\n",
            " [0.00170513]\n",
            " [0.00172694]\n",
            " [0.00174478]\n",
            " [0.00170513]\n",
            " [0.0015822 ]\n",
            " [0.00153263]\n",
            " [0.00150091]] \n",
            "\n",
            "label: 0.00148306624644629\n"
          ],
          "name": "stdout"
        }
      ]
    },
    {
      "cell_type": "markdown",
      "metadata": {
        "id": "p639qcyQZqjE",
        "colab_type": "text"
      },
      "source": [
        "As expected, the first window contains a feature set with 20 observations and a label with 1 prediction."
      ]
    },
    {
      "cell_type": "markdown",
      "metadata": {
        "id": "0CLJnZ0aZB_S",
        "colab_type": "text"
      },
      "source": [
        "## Create the Model"
      ]
    },
    {
      "cell_type": "markdown",
      "metadata": {
        "id": "qEKMo5OGZy0-",
        "colab_type": "text"
      },
      "source": [
        "Import requisite libraries and clear any previous model sessions:"
      ]
    },
    {
      "cell_type": "code",
      "metadata": {
        "id": "lVyuR2I9ZCFz",
        "colab_type": "code",
        "colab": {}
      },
      "source": [
        "# clear any previous models\n",
        "tf.keras.backend.clear_session()\n",
        "\n",
        "#import libraries\n",
        "from tensorflow.keras.models import Sequential\n",
        "from tensorflow.keras.layers import GRU, Dense"
      ],
      "execution_count": 40,
      "outputs": []
    },
    {
      "cell_type": "markdown",
      "metadata": {
        "id": "3nEFMPVVZCK-",
        "colab_type": "text"
      },
      "source": [
        "Establish the input shape:"
      ]
    },
    {
      "cell_type": "code",
      "metadata": {
        "id": "6zWCoKpaZCRA",
        "colab_type": "code",
        "colab": {
          "base_uri": "https://localhost:8080/",
          "height": 34
        },
        "outputId": "05a366f4-c52b-43d2-a255-84d500a3f734"
      },
      "source": [
        "input_shape = x_train.shape[-2:]\n",
        "input_shape"
      ],
      "execution_count": 41,
      "outputs": [
        {
          "output_type": "execute_result",
          "data": {
            "text/plain": [
              "(20, 1)"
            ]
          },
          "metadata": {
            "tags": []
          },
          "execution_count": 41
        }
      ]
    },
    {
      "cell_type": "markdown",
      "metadata": {
        "id": "ahELCHSPaC5y",
        "colab_type": "text"
      },
      "source": [
        "All is well because our input shape shows window size of 20 and includes the *1* dimension that shows that we are making a single prediction."
      ]
    },
    {
      "cell_type": "markdown",
      "metadata": {
        "id": "iGbylNlXaYg7",
        "colab_type": "text"
      },
      "source": [
        "Plant a seed for reproducibility and create the model:"
      ]
    },
    {
      "cell_type": "code",
      "metadata": {
        "id": "4ZoUdKd7aC_o",
        "colab_type": "code",
        "colab": {}
      },
      "source": [
        "# set seed to ensure reproducibility\n",
        "tf.random.set_seed(0)\n",
        "\n",
        "neurons = 32  # number of neurons in GRU layer\n",
        "\n",
        "model = Sequential([\n",
        "  GRU(neurons, input_shape=input_shape),\n",
        "  Dense(1)\n",
        "])"
      ],
      "execution_count": 42,
      "outputs": []
    },
    {
      "cell_type": "markdown",
      "metadata": {
        "id": "GYkxskloaDFF",
        "colab_type": "text"
      },
      "source": [
        "## Model Summary"
      ]
    },
    {
      "cell_type": "code",
      "metadata": {
        "id": "kljE1bvNaDLH",
        "colab_type": "code",
        "colab": {
          "base_uri": "https://localhost:8080/",
          "height": 230
        },
        "outputId": "be6c2d19-b86b-4eaa-fb68-c6ee904a4b65"
      },
      "source": [
        "model.summary()"
      ],
      "execution_count": 43,
      "outputs": [
        {
          "output_type": "stream",
          "text": [
            "Model: \"sequential\"\n",
            "_________________________________________________________________\n",
            "Layer (type)                 Output Shape              Param #   \n",
            "=================================================================\n",
            "gru (GRU)                    (None, 32)                3360      \n",
            "_________________________________________________________________\n",
            "dense (Dense)                (None, 1)                 33        \n",
            "=================================================================\n",
            "Total params: 3,393\n",
            "Trainable params: 3,393\n",
            "Non-trainable params: 0\n",
            "_________________________________________________________________\n"
          ],
          "name": "stdout"
        }
      ]
    },
    {
      "cell_type": "markdown",
      "metadata": {
        "id": "Rv5rN0PdaoBW",
        "colab_type": "text"
      },
      "source": [
        "3 x (32 squared + 32 + 2 * 32)"
      ]
    },
    {
      "cell_type": "markdown",
      "metadata": {
        "id": "aLl9Do6DaDP9",
        "colab_type": "text"
      },
      "source": [
        "## Verify that the Model Output is Correct"
      ]
    },
    {
      "cell_type": "markdown",
      "metadata": {
        "id": "s5zgZ-3lbALE",
        "colab_type": "text"
      },
      "source": [
        "Make an untrained prediction from the model:"
      ]
    },
    {
      "cell_type": "code",
      "metadata": {
        "id": "Nj5UhH4paDWu",
        "colab_type": "code",
        "colab": {
          "base_uri": "https://localhost:8080/",
          "height": 34
        },
        "outputId": "560c86d1-557c-4bfc-b3b9-e2ab6d961b44"
      },
      "source": [
        "for x, y in test_one.take(1):\n",
        "  print(model.predict(x).shape)"
      ],
      "execution_count": 44,
      "outputs": [
        {
          "output_type": "stream",
          "text": [
            "(256, 1)\n"
          ],
          "name": "stdout"
        }
      ]
    },
    {
      "cell_type": "markdown",
      "metadata": {
        "id": "DBldMdhuaDce",
        "colab_type": "text"
      },
      "source": [
        "The prediction shows batch size of 256 and 1. So, output of our model is working as expected."
      ]
    },
    {
      "cell_type": "markdown",
      "metadata": {
        "id": "2cnq0oADbuTh",
        "colab_type": "text"
      },
      "source": [
        "## Compile the Model"
      ]
    },
    {
      "cell_type": "code",
      "metadata": {
        "id": "pfjYBEOabudX",
        "colab_type": "code",
        "colab": {}
      },
      "source": [
        "model.compile(optimizer='adam', loss='mse')"
      ],
      "execution_count": 45,
      "outputs": []
    },
    {
      "cell_type": "markdown",
      "metadata": {
        "id": "PM84FJYubulv",
        "colab_type": "text"
      },
      "source": [
        "# Train the Model"
      ]
    },
    {
      "cell_type": "code",
      "metadata": {
        "id": "HIVXyCS4butd",
        "colab_type": "code",
        "colab": {
          "base_uri": "https://localhost:8080/",
          "height": 372
        },
        "outputId": "697ced98-93af-4c7c-db75-262dc1a7c9b9"
      },
      "source": [
        "num_train_steps = 400\n",
        "epochs = 10\n",
        "\n",
        "history = model.fit(train_one, epochs=epochs,\n",
        "                    steps_per_epoch=num_train_steps,\n",
        "                    validation_data=test_one,\n",
        "                    validation_steps=50)"
      ],
      "execution_count": 46,
      "outputs": [
        {
          "output_type": "stream",
          "text": [
            "Epoch 1/10\n",
            "400/400 [==============================] - 2s 4ms/step - loss: 1.1657e-06 - val_loss: 1.9854e-08\n",
            "Epoch 2/10\n",
            "400/400 [==============================] - 1s 3ms/step - loss: 2.2123e-08 - val_loss: 1.1063e-08\n",
            "Epoch 3/10\n",
            "400/400 [==============================] - 1s 3ms/step - loss: 1.1658e-08 - val_loss: 6.0978e-09\n",
            "Epoch 4/10\n",
            "400/400 [==============================] - 1s 3ms/step - loss: 6.6263e-09 - val_loss: 5.1237e-09\n",
            "Epoch 5/10\n",
            "400/400 [==============================] - 1s 3ms/step - loss: 3.2152e-08 - val_loss: 2.5847e-08\n",
            "Epoch 6/10\n",
            "400/400 [==============================] - 1s 3ms/step - loss: 1.6154e-08 - val_loss: 1.0229e-08\n",
            "Epoch 7/10\n",
            "400/400 [==============================] - 1s 3ms/step - loss: 4.2256e-08 - val_loss: 6.0450e-09\n",
            "Epoch 8/10\n",
            "400/400 [==============================] - 1s 3ms/step - loss: 2.9225e-08 - val_loss: 9.3755e-09\n",
            "Epoch 9/10\n",
            "400/400 [==============================] - 1s 3ms/step - loss: 3.0672e-08 - val_loss: 1.7869e-08\n",
            "Epoch 10/10\n",
            "400/400 [==============================] - 1s 3ms/step - loss: 3.3700e-08 - val_loss: 7.8686e-08\n"
          ],
          "name": "stdout"
        }
      ]
    },
    {
      "cell_type": "markdown",
      "metadata": {
        "id": "ctEUbhPfbuzc",
        "colab_type": "text"
      },
      "source": [
        "## Generalize on Test Data"
      ]
    },
    {
      "cell_type": "code",
      "metadata": {
        "id": "CHuvqdUhcdtW",
        "colab_type": "code",
        "colab": {
          "base_uri": "https://localhost:8080/",
          "height": 34
        },
        "outputId": "dff5c89c-3ba1-4db9-9eb1-246892fa8e78"
      },
      "source": [
        "test_loss = model.evaluate(test_one, steps=num_train_steps)"
      ],
      "execution_count": 47,
      "outputs": [
        {
          "output_type": "stream",
          "text": [
            "400/400 [==============================] - 1s 2ms/step - loss: 8.4156e-08\n"
          ],
          "name": "stdout"
        }
      ]
    },
    {
      "cell_type": "markdown",
      "metadata": {
        "id": "egnsHG0rcqKN",
        "colab_type": "text"
      },
      "source": [
        "## Make Predictions\n",
        "\n",
        "Make as many predictions as you wish, but we limit the number of predictions to *3* for demonstration purposes. "
      ]
    },
    {
      "cell_type": "code",
      "metadata": {
        "id": "yWJjRHwAcqUO",
        "colab_type": "code",
        "colab": {
          "base_uri": "https://localhost:8080/",
          "height": 851
        },
        "outputId": "a9b2a8e9-3719-471d-cd08-7b5e3e954acc"
      },
      "source": [
        "n = 3\n",
        "title = 'GRU prediction'\n",
        "\n",
        "for i, (x, y) in enumerate(test_one.take(n)):\n",
        "  p = model.predict(x)[0]\n",
        "  plot([x[0].numpy(), y[0].numpy(), p], 0,\n",
        "       title + ' window ' + str(i))\n",
        "  plt.show()"
      ],
      "execution_count": 48,
      "outputs": [
        {
          "output_type": "display_data",
          "data": {
            "image/png": "[encoded data removed]",
            "text/plain": [
              "<Figure size 432x288 with 1 Axes>"
            ]
          },
          "metadata": {
            "tags": [],
            "needs_background": "light"
          }
        },
        {
          "output_type": "display_data",
          "data": {
            "image/png": "[encoded data removed]",
            "text/plain": [
              "<Figure size 432x288 with 1 Axes>"
            ]
          },
          "metadata": {
            "tags": [],
            "needs_background": "light"
          }
        },
        {
          "output_type": "display_data",
          "data": {
            "image/png": "[encoded data removed]",
            "text/plain": [
              "<Figure size 432x288 with 1 Axes>"
            ]
          },
          "metadata": {
            "tags": [],
            "needs_background": "light"
          }
        }
      ]
    },
    {
      "cell_type": "markdown",
      "metadata": {
        "id": "wWS7QtnicqZ2",
        "colab_type": "text"
      },
      "source": [
        "By visually inspecting a few predicitons, it is difficult to gauge performance."
      ]
    },
    {
      "cell_type": "markdown",
      "metadata": {
        "id": "wasfZeN4dIoc",
        "colab_type": "text"
      },
      "source": [
        "## Plot Model Performance"
      ]
    },
    {
      "cell_type": "code",
      "metadata": {
        "id": "eCYsfG8IdIvg",
        "colab_type": "code",
        "colab": {
          "base_uri": "https://localhost:8080/",
          "height": 281
        },
        "outputId": "b799e165-a897-471f-96de-52fa1f3fc128"
      },
      "source": [
        "loss = history.history['loss']\n",
        "val_loss = history.history['val_loss']\n",
        "\n",
        "epochs = range(1, len(loss) + 1)\n",
        "\n",
        "plt.figure()\n",
        "plt.plot(epochs, loss, 'bo', label='training loss')\n",
        "plt.plot(epochs, val_loss, 'b', label='validation loss')\n",
        "plt.title('training and validation loss')\n",
        "plt.legend()\n",
        "plt.show()"
      ],
      "execution_count": 49,
      "outputs": [
        {
          "output_type": "display_data",
          "data": {
            "image/png": "[encoded data removed]",
            "text/plain": [
              "<Figure size 432x288 with 1 Axes>"
            ]
          },
          "metadata": {
            "tags": [],
            "needs_background": "light"
          }
        }
      ]
    },
    {
      "cell_type": "markdown",
      "metadata": {
        "id": "4ivJx8NOdP8j",
        "colab_type": "text"
      },
      "source": [
        "Voilà! Our model looks pretty good!"
      ]
    },
    {
      "cell_type": "markdown",
      "metadata": {
        "id": "il1YzXYBLHJg",
        "colab_type": "text"
      },
      "source": [
        "# Forecast a Multivariate Time Series\n",
        "\n",
        "We just demonstrated how to make a single prediction based on a single feature. Now, let's see how to forecast based on more than one variable. We can choose any of the 14 features (we don't want to predict from the date-time reference)."
      ]
    },
    {
      "cell_type": "markdown",
      "metadata": {
        "id": "Ln-opuGGY-s9",
        "colab_type": "text"
      },
      "source": [
        "Following are the available 14 features:\n",
        "\n",
        "* p (mbar) - atmospheric pressure in millibars\n",
        "* T (degC) - temperature in Celsius\n",
        "* Tpot (K) - temperature in Kelvin\n",
        "* Tdew (degC) - temperature in Celsius relative to humidity\n",
        "* rh (%) - relative humidity\n",
        "* VPmax (mbar) - saturation vapor pressure in millibars\n",
        "* VPact (mbar) - vapor pressure in millibars\n",
        "* VPdef (mbar) - vapor pressure deficit in millibars\n",
        "* sh (g/kg) - specific humidity in grams per kilogram\n",
        "* H2OC (mmol/mol) - water vapor concentration in millimoles per mole\n",
        "* rho (g/m**3) - air density in grams per meter cubed\n",
        "* wv (m/s) - wind speed in meters per second\n",
        "* max. wv (m/s) - maximum wind speed in meters per second\n",
        "* wd (deg) - wind direction in degrees"
      ]
    },
    {
      "cell_type": "markdown",
      "metadata": {
        "id": "4fulzTj7fHUn",
        "colab_type": "text"
      },
      "source": [
        "\n",
        "Create a variable to hold the features that we wish to consider for our multivariate time series experiment:"
      ]
    },
    {
      "cell_type": "code",
      "metadata": {
        "id": "FO12in3V0NFr",
        "colab_type": "code",
        "colab": {}
      },
      "source": [
        "mv_features = ['Tdew (degC)', 'sh (g/kg)',\n",
        "               'H2OC (mmol/mol)', 'T (degC)']"
      ],
      "execution_count": 50,
      "outputs": []
    },
    {
      "cell_type": "markdown",
      "metadata": {
        "id": "Rqti9gqaev7M",
        "colab_type": "text"
      },
      "source": [
        "We chose four features: 'Tdew (degC)', 'sh (g/kg)', 'H2OC (mmol/mol)', and 'T (degC)'. **Tdew (degC)** is the temperature in Celsius relative to humidity. **sh (g/kg)** is the specific humidity in grams per kilogram. **H2OC (mmol/mol)** is the water vapor concentration in millimoles per mole. And, **T (degC)** is the temperature in Celcius."
      ]
    },
    {
      "cell_type": "markdown",
      "metadata": {
        "id": "q3WMVSO1flJW",
        "colab_type": "text"
      },
      "source": [
        "We chose these features for demonstration purposes.  Choice of features should be based on a problem domain."
      ]
    },
    {
      "cell_type": "markdown",
      "metadata": {
        "id": "hugqcDrNfyxY",
        "colab_type": "text"
      },
      "source": [
        "Create a new dataframe to hold the features chosen for this experiment:"
      ]
    },
    {
      "cell_type": "code",
      "metadata": {
        "id": "L0DGLgjQf2R0",
        "colab_type": "code",
        "colab": {
          "base_uri": "https://localhost:8080/",
          "height": 227
        },
        "outputId": "e9d02ad1-daed-4344-d811-b31762a300d9"
      },
      "source": [
        "mv_features = df[mv_features]\n",
        "mv_features.index = df['Date Time']\n",
        "mv_features.head()"
      ],
      "execution_count": 51,
      "outputs": [
        {
          "output_type": "execute_result",
          "data": {
            "text/html": [
              "<div>\n",
              "<style scoped>\n",
              "    .dataframe tbody tr th:only-of-type {\n",
              "        vertical-align: middle;\n",
              "    }\n",
              "\n",
              "    .dataframe tbody tr th {\n",
              "        vertical-align: top;\n",
              "    }\n",
              "\n",
              "    .dataframe thead th {\n",
              "        text-align: right;\n",
              "    }\n",
              "</style>\n",
              "<table border=\"1\" class=\"dataframe\">\n",
              "  <thead>\n",
              "    <tr style=\"text-align: right;\">\n",
              "      <th></th>\n",
              "      <th>Tdew (degC)</th>\n",
              "      <th>sh (g/kg)</th>\n",
              "      <th>H2OC (mmol/mol)</th>\n",
              "      <th>T (degC)</th>\n",
              "    </tr>\n",
              "    <tr>\n",
              "      <th>Date Time</th>\n",
              "      <th></th>\n",
              "      <th></th>\n",
              "      <th></th>\n",
              "      <th></th>\n",
              "    </tr>\n",
              "  </thead>\n",
              "  <tbody>\n",
              "    <tr>\n",
              "      <th>01.01.2009 00:10:00</th>\n",
              "      <td>-8.90</td>\n",
              "      <td>1.94</td>\n",
              "      <td>3.12</td>\n",
              "      <td>-8.02</td>\n",
              "    </tr>\n",
              "    <tr>\n",
              "      <th>01.01.2009 00:20:00</th>\n",
              "      <td>-9.28</td>\n",
              "      <td>1.89</td>\n",
              "      <td>3.03</td>\n",
              "      <td>-8.41</td>\n",
              "    </tr>\n",
              "    <tr>\n",
              "      <th>01.01.2009 00:30:00</th>\n",
              "      <td>-9.31</td>\n",
              "      <td>1.88</td>\n",
              "      <td>3.02</td>\n",
              "      <td>-8.51</td>\n",
              "    </tr>\n",
              "    <tr>\n",
              "      <th>01.01.2009 00:40:00</th>\n",
              "      <td>-9.07</td>\n",
              "      <td>1.92</td>\n",
              "      <td>3.08</td>\n",
              "      <td>-8.31</td>\n",
              "    </tr>\n",
              "    <tr>\n",
              "      <th>01.01.2009 00:50:00</th>\n",
              "      <td>-9.04</td>\n",
              "      <td>1.92</td>\n",
              "      <td>3.09</td>\n",
              "      <td>-8.27</td>\n",
              "    </tr>\n",
              "  </tbody>\n",
              "</table>\n",
              "</div>"
            ],
            "text/plain": [
              "                     Tdew (degC)  sh (g/kg)  H2OC (mmol/mol)  T (degC)\n",
              "Date Time                                                             \n",
              "01.01.2009 00:10:00        -8.90       1.94             3.12     -8.02\n",
              "01.01.2009 00:20:00        -9.28       1.89             3.03     -8.41\n",
              "01.01.2009 00:30:00        -9.31       1.88             3.02     -8.51\n",
              "01.01.2009 00:40:00        -9.07       1.92             3.08     -8.31\n",
              "01.01.2009 00:50:00        -9.04       1.92             3.09     -8.27"
            ]
          },
          "metadata": {
            "tags": []
          },
          "execution_count": 51
        }
      ]
    },
    {
      "cell_type": "markdown",
      "metadata": {
        "id": "C1-QXfwKgFwv",
        "colab_type": "text"
      },
      "source": [
        "Visualize:"
      ]
    },
    {
      "cell_type": "code",
      "metadata": {
        "id": "1cY68G15gF4s",
        "colab_type": "code",
        "colab": {
          "base_uri": "https://localhost:8080/",
          "height": 401
        },
        "outputId": "12741cde-88d0-4e29-8eb1-edbf86535112"
      },
      "source": [
        "mv_features.plot(subplots=True)"
      ],
      "execution_count": 52,
      "outputs": [
        {
          "output_type": "execute_result",
          "data": {
            "text/plain": [
              "array([<matplotlib.axes._subplots.AxesSubplot object at 0x7fa4b8093ef0>,\n",
              "       <matplotlib.axes._subplots.AxesSubplot object at 0x7fa4b8038e80>,\n",
              "       <matplotlib.axes._subplots.AxesSubplot object at 0x7fa4967d70b8>,\n",
              "       <matplotlib.axes._subplots.AxesSubplot object at 0x7fa4967862e8>],\n",
              "      dtype=object)"
            ]
          },
          "metadata": {
            "tags": []
          },
          "execution_count": 52
        },
        {
          "output_type": "display_data",
          "data": {
            "image/png": "[encoded data removed]",
            "text/plain": [
              "<Figure size 432x288 with 4 Axes>"
            ]
          },
          "metadata": {
            "tags": [],
            "needs_background": "light"
          }
        }
      ]
    },
    {
      "cell_type": "markdown",
      "metadata": {
        "id": "ZRpJLr-n7tW1",
        "colab_type": "text"
      },
      "source": [
        "Visualize a single feature:"
      ]
    },
    {
      "cell_type": "code",
      "metadata": {
        "id": "eefPYiAa7thT",
        "colab_type": "code",
        "colab": {
          "base_uri": "https://localhost:8080/",
          "height": 347
        },
        "outputId": "f4604bb3-b5e3-485b-ecaf-50d40589a0e8"
      },
      "source": [
        "mv_features['T (degC)'].plot(subplots=True)"
      ],
      "execution_count": 53,
      "outputs": [
        {
          "output_type": "execute_result",
          "data": {
            "text/plain": [
              "array([<matplotlib.axes._subplots.AxesSubplot object at 0x7fa4b82da940>],\n",
              "      dtype=object)"
            ]
          },
          "metadata": {
            "tags": []
          },
          "execution_count": 53
        },
        {
          "output_type": "display_data",
          "data": {
            "image/png": "[encoded data removed]",
            "text/plain": [
              "<Figure size 432x288 with 1 Axes>"
            ]
          },
          "metadata": {
            "tags": [],
            "needs_background": "light"
          }
        }
      ]
    },
    {
      "cell_type": "markdown",
      "metadata": {
        "id": "pTC0dvhUgn1H",
        "colab_type": "text"
      },
      "source": [
        "# Scale Data for TensorFlow Consumption\n",
        "\n",
        "Convert dataframe to numpy arrays."
      ]
    },
    {
      "cell_type": "code",
      "metadata": {
        "id": "PEH-ivZIgn7G",
        "colab_type": "code",
        "colab": {
          "base_uri": "https://localhost:8080/",
          "height": 105
        },
        "outputId": "8c8e96fb-bba4-4664-873c-0f7f9355c6c4"
      },
      "source": [
        "f_np = mv_features.to_numpy()\n",
        "f_np[:5]"
      ],
      "execution_count": 54,
      "outputs": [
        {
          "output_type": "execute_result",
          "data": {
            "text/plain": [
              "array([[-8.9 ,  1.94,  3.12, -8.02],\n",
              "       [-9.28,  1.89,  3.03, -8.41],\n",
              "       [-9.31,  1.88,  3.02, -8.51],\n",
              "       [-9.07,  1.92,  3.08, -8.31],\n",
              "       [-9.04,  1.92,  3.09, -8.27]])"
            ]
          },
          "metadata": {
            "tags": []
          },
          "execution_count": 54
        }
      ]
    },
    {
      "cell_type": "markdown",
      "metadata": {
        "id": "QK4B8dur2M6G",
        "colab_type": "text"
      },
      "source": [
        "Check number of observations are in the dataset:"
      ]
    },
    {
      "cell_type": "code",
      "metadata": {
        "id": "BxJhxsIY2Ewl",
        "colab_type": "code",
        "colab": {
          "base_uri": "https://localhost:8080/",
          "height": 34
        },
        "outputId": "3f146343-a17a-46ff-da51-18f7cbd72662"
      },
      "source": [
        "len(f_np)"
      ],
      "execution_count": 55,
      "outputs": [
        {
          "output_type": "execute_result",
          "data": {
            "text/plain": [
              "420551"
            ]
          },
          "metadata": {
            "tags": []
          },
          "execution_count": 55
        }
      ]
    },
    {
      "cell_type": "markdown",
      "metadata": {
        "id": "k6FaO9_i26Kt",
        "colab_type": "text"
      },
      "source": [
        "As expected, we have 420,551 observations."
      ]
    },
    {
      "cell_type": "markdown",
      "metadata": {
        "id": "Euhhn7f-g4Wg",
        "colab_type": "text"
      },
      "source": [
        "Scale data and convert back to numpy arrays for easier processing:"
      ]
    },
    {
      "cell_type": "code",
      "metadata": {
        "id": "NWb4pzEgg4fV",
        "colab_type": "code",
        "colab": {
          "base_uri": "https://localhost:8080/",
          "height": 158
        },
        "outputId": "8b980a8b-abf3-423c-e97b-0da88d982415"
      },
      "source": [
        "# scale features\n",
        "f_sc = tf.keras.utils.normalize(f_np)\n",
        "print ('shape after tf function:', f_sc.shape, br)\n",
        "\n",
        "# squeeze\n",
        "f_sq = tf.squeeze(f_sc)\n",
        "\n",
        "# convert to numpy\n",
        "f_scaled = f_sq.numpy()\n",
        "print ('first five scaled observation:')\n",
        "print (f_scaled[:5])"
      ],
      "execution_count": 57,
      "outputs": [
        {
          "output_type": "stream",
          "text": [
            "shape after tf function: (420551, 4) \n",
            "\n",
            "first five scaled observation:\n",
            "[[-0.71023309  0.15481485  0.24898059 -0.6400078 ]\n",
            " [-0.71258339  0.14512744  0.23266462 -0.64577869]\n",
            " [-0.71039524  0.14345253  0.2304397  -0.64935161]\n",
            " [-0.70718415  0.14970161  0.24014633 -0.64792727]\n",
            " [-0.70731064  0.15022527  0.24176879 -0.64706405]]\n"
          ],
          "name": "stdout"
        }
      ]
    },
    {
      "cell_type": "markdown",
      "metadata": {
        "id": "OuURb5Nmh7s5",
        "colab_type": "text"
      },
      "source": [
        "# Multi-Step Model\n",
        "\n",
        "With relative humidity, we only predicted a single future point. But, we can create a model to learn to predict a range of future values, which is what we are going to do with the multivariate data we just established.\n",
        "\n",
        "Let's say that we want to train our multi-step model to learn to predict for the next 6 hours. Since our data time steps are 10 minutes (1 observation every 10 minutes), there are 6 observations every hour. Given that we want to predict for the next 6 hours, our model makes 36 (6 obs x 6) predictions.\n",
        "\n",
        "Let's also say that we want to show our model data from the last three (3) days for each sample. Since there are 24 hours in a day, we have 144 (6 x 24) observations each day. So, we have a total of 432 (3 x 144) observations. But, we want to sample every hour because we don't expect a drastic change in any of our features within 60 minutes. Thus, 72 (432 obs / 6 obs per hour) observations represents each window of data."
      ]
    },
    {
      "cell_type": "markdown",
      "metadata": {
        "id": "ieZDIEO6mSOD",
        "colab_type": "text"
      },
      "source": [
        "## Generators\n",
        "\n",
        "Since we are training multiple features to predict a range of future values, we create a generator function to create train and test splits. A **generator** is a function that returns an object iterator that we can iterate over one value at a time. A generator is defined like a normal function, but it generates a value with the *yield* keyword rather than *return*. So, adding the yield keyword automatically makes a function a generator.\n",
        "\n",
        "Generators are easy to implement, but a bit difficult to understand. We can invoke a generator in the same way as a regular function. But, when we invoke it a generator object is created. We must iterate over the generator object to see its contents. As we iterate over the generator object, all processes within the function are processed until it reaches a 'yield' statement. Once this happens, the generator yields a new value from its contents and returns execution back to the 'for' loop. So, a generator yields one element from its contents for each cycle of a loop."
      ]
    },
    {
      "cell_type": "markdown",
      "metadata": {
        "id": "bqsLeMGOmdL7",
        "colab_type": "text"
      },
      "source": [
        "## Advantages of Using a Generator\n",
        "\n",
        "Generator functions allow us to declare a function that behaves like an iterator. So, we can make iterators in a fast, easy, and clean way. An **iterator** is an object that can be iterated upon. It is used to abstract a container of data to make it behave like an iterable object. As programmers, we use iterable objects like strings, lists, and dictionaries frequently.\n",
        "\n",
        "Generators save memory space because they don’t compute the value of each item when instantiated. Generators only compute a value when explicitly asked to do so. Such behavior is known as **lazy evaluation**. Lazy evaluation is useful when we process large datasets because it allows us to start using data immediately rather than having to wait until the entire dataset is processed."
      ]
    },
    {
      "cell_type": "markdown",
      "metadata": {
        "id": "VkeisYz9mdRP",
        "colab_type": "text"
      },
      "source": [
        "## Generator Caveats\n",
        "\n",
        "* A generator creates a single object. So, a generator object can only be assigned to a single variable no matter how many values it yields.\n",
        "* Once iterated over, a generator is extinguished. So, it must be rerun to be repopulated."
      ]
    },
    {
      "cell_type": "markdown",
      "metadata": {
        "id": "O3qVvjs7mrJx",
        "colab_type": "text"
      },
      "source": [
        "## Create a Generator Function"
      ]
    },
    {
      "cell_type": "code",
      "metadata": {
        "id": "lXkDt9Y7mwrh",
        "colab_type": "code",
        "colab": {}
      },
      "source": [
        "def generator(d, t, o, e, w, ts, s):\n",
        "\n",
        "  # hold features and labels\n",
        "  features, labels = [], []\n",
        "\n",
        "  # initialize variables\n",
        "  data, target = d, t\n",
        "  origin, end = o, e\n",
        "  window, target_size = w, ts\n",
        "  step = s\n",
        "\n",
        "  # establish starting point that reflects window size\n",
        "  origin = origin + window\n",
        "\n",
        "  # enable split for test data\n",
        "  if end < 0:\n",
        "    end = len(data) - target_size\n",
        "\n",
        "  # create feature set of 'window-sized' elements\n",
        "  for i in range(origin, end):\n",
        "\n",
        "    # create index set to identify each window\n",
        "    indices = range(i-window, i, step)\n",
        "\n",
        "    # create features\n",
        "    features.append(data[indices])\n",
        "\n",
        "    # create labels\n",
        "    labels.append(target[i:i+target_size])\n",
        "\n",
        "  yield np.array(features), np.array(labels)"
      ],
      "execution_count": 58,
      "outputs": []
    },
    {
      "cell_type": "markdown",
      "metadata": {
        "id": "OgSZnfXxmwww",
        "colab_type": "text"
      },
      "source": [
        "## Generate Train and Test Data\n",
        "\n",
        "Now, let's invoke the generator to create train and test sets. Notice that we assign the generator object to a single variable!"
      ]
    },
    {
      "cell_type": "code",
      "metadata": {
        "id": "_60ji_-Gmw2r",
        "colab_type": "code",
        "colab": {}
      },
      "source": [
        "window = 432  # observations for 3 days\n",
        "future_target = 36  # predictions for the next 6 hours\n",
        "step = 6  # number of timesteps per hour\n",
        "\n",
        "train_gen = generator(f_scaled, f_scaled[:, 1], 0, train_split,\n",
        "                      window, future_target, step)\n",
        "\n",
        "test_gen = generator(f_scaled, f_scaled[:, 1], train_split, -1,\n",
        "                     window, future_target, step)"
      ],
      "execution_count": 59,
      "outputs": []
    },
    {
      "cell_type": "markdown",
      "metadata": {
        "id": "hsItSCPEmw8Z",
        "colab_type": "text"
      },
      "source": [
        "Wow! Notice how much faster the generator creates the data sets."
      ]
    },
    {
      "cell_type": "markdown",
      "metadata": {
        "id": "QXe5Wg55mxFc",
        "colab_type": "text"
      },
      "source": [
        "# Reconstitute Generated Tensors\n",
        "\n",
        "Remake the generated data into numpy arrays."
      ]
    },
    {
      "cell_type": "code",
      "metadata": {
        "id": "qqnDCXz8mxCx",
        "colab_type": "code",
        "colab": {}
      },
      "source": [
        "train_f, train_l = [], []\n",
        "for i, row in enumerate(train_gen):\n",
        "  train_f.append(row[0])\n",
        "  train_l.append(row[1])"
      ],
      "execution_count": 60,
      "outputs": []
    },
    {
      "cell_type": "markdown",
      "metadata": {
        "id": "v3RRbvQJo1wC",
        "colab_type": "text"
      },
      "source": [
        "Convert list data to numpy arrays:"
      ]
    },
    {
      "cell_type": "code",
      "metadata": {
        "id": "Zfz1bPtZmrP3",
        "colab_type": "code",
        "colab": {}
      },
      "source": [
        "train_features = np.asarray(train_f, dtype=np.float64)\n",
        "train_labels = np.asarray(train_l, dtype=np.float64)"
      ],
      "execution_count": 61,
      "outputs": []
    },
    {
      "cell_type": "markdown",
      "metadata": {
        "id": "UXM8W0yFmrVc",
        "colab_type": "text"
      },
      "source": [
        "Inspect shapes:"
      ]
    },
    {
      "cell_type": "code",
      "metadata": {
        "id": "L-U5j6Ynmra6",
        "colab_type": "code",
        "colab": {
          "base_uri": "https://localhost:8080/",
          "height": 34
        },
        "outputId": "eb81ea61-ca56-4ff6-9ed5-2878fe4ee4b9"
      },
      "source": [
        "train_features.shape, train_labels.shape"
      ],
      "execution_count": 62,
      "outputs": [
        {
          "output_type": "execute_result",
          "data": {
            "text/plain": [
              "((1, 314981, 72, 4), (1, 314981, 36))"
            ]
          },
          "metadata": {
            "tags": []
          },
          "execution_count": 62
        }
      ]
    },
    {
      "cell_type": "markdown",
      "metadata": {
        "id": "jA7ZMQv-mrhP",
        "colab_type": "text"
      },
      "source": [
        "Remove the *1* dimension with the *tf.squeeze* function."
      ]
    },
    {
      "cell_type": "code",
      "metadata": {
        "id": "v1E_1Uyap81e",
        "colab_type": "code",
        "colab": {
          "base_uri": "https://localhost:8080/",
          "height": 34
        },
        "outputId": "515af0dc-ec3d-4b3c-97df-16b1c0d7a4f4"
      },
      "source": [
        "train_features, train_labels = tf.squeeze(train_features),\\\n",
        "tf.squeeze(train_labels)\n",
        "\n",
        "train_features.shape, train_labels.shape"
      ],
      "execution_count": 63,
      "outputs": [
        {
          "output_type": "execute_result",
          "data": {
            "text/plain": [
              "(TensorShape([314981, 72, 4]), TensorShape([314981, 36]))"
            ]
          },
          "metadata": {
            "tags": []
          },
          "execution_count": 63
        }
      ]
    },
    {
      "cell_type": "markdown",
      "metadata": {
        "id": "xe4AVzqOmdYc",
        "colab_type": "text"
      },
      "source": [
        "Reconstitute test data:"
      ]
    },
    {
      "cell_type": "code",
      "metadata": {
        "id": "OaEFKhNvrLVH",
        "colab_type": "code",
        "colab": {
          "base_uri": "https://localhost:8080/",
          "height": 34
        },
        "outputId": "f2fc0392-a1b4-44a7-f4d0-04512845b947"
      },
      "source": [
        "# create test data\n",
        "test_f, test_l = [], []\n",
        "for i, row in enumerate(test_gen):\n",
        "  test_f.append(row[0])\n",
        "  test_l.append(row[1])\n",
        "\n",
        "# convert lists to numpy arrays\n",
        "test_features = np.asarray(test_f, dtype=np.float64)\n",
        "test_labels = np.asarray(test_l, dtype=np.float64)\n",
        "\n",
        "# squeeze out the '1' dimension created by the generator\n",
        "test_features, test_labels = tf.squeeze(test_features),\\\n",
        "tf.squeeze(test_labels)\n",
        "test_features.shape, test_labels.shape"
      ],
      "execution_count": 64,
      "outputs": [
        {
          "output_type": "execute_result",
          "data": {
            "text/plain": [
              "(TensorShape([104670, 72, 4]), TensorShape([104670, 36]))"
            ]
          },
          "metadata": {
            "tags": []
          },
          "execution_count": 64
        }
      ]
    },
    {
      "cell_type": "markdown",
      "metadata": {
        "id": "BDtkLf3jmdV6",
        "colab_type": "text"
      },
      "source": [
        "## Finish the Input Pipeline"
      ]
    },
    {
      "cell_type": "code",
      "metadata": {
        "id": "s3cRIQFOrddX",
        "colab_type": "code",
        "colab": {}
      },
      "source": [
        "train_mv = tf.data.Dataset.from_tensor_slices(\n",
        "    (train_features, train_labels))\n",
        "train_mv = train_mv.cache().shuffle(\n",
        "    BUFFER_SIZE).batch(BATCH_SIZE).repeat()\n",
        "\n",
        "test_mv = tf.data.Dataset.from_tensor_slices(\n",
        "    (test_features, test_labels))\n",
        "test_mv = test_mv.batch(BATCH_SIZE).repeat()"
      ],
      "execution_count": 67,
      "outputs": []
    },
    {
      "cell_type": "markdown",
      "metadata": {
        "id": "6liOxZ9ymdPI",
        "colab_type": "text"
      },
      "source": [
        "Check tensors:"
      ]
    },
    {
      "cell_type": "code",
      "metadata": {
        "id": "2FGIRfdLmSVY",
        "colab_type": "code",
        "colab": {
          "base_uri": "https://localhost:8080/",
          "height": 52
        },
        "outputId": "2194e527-946f-48a7-a86a-910c6c082c57"
      },
      "source": [
        "train_mv, test_mv"
      ],
      "execution_count": 68,
      "outputs": [
        {
          "output_type": "execute_result",
          "data": {
            "text/plain": [
              "(<RepeatDataset shapes: ((None, 72, 4), (None, 36)), types: (tf.float64, tf.float64)>,\n",
              " <RepeatDataset shapes: ((None, 72, 4), (None, 36)), types: (tf.float64, tf.float64)>)"
            ]
          },
          "metadata": {
            "tags": []
          },
          "execution_count": 68
        }
      ]
    },
    {
      "cell_type": "markdown",
      "metadata": {
        "id": "1siyo586mSct",
        "colab_type": "text"
      },
      "source": [
        "Check a batch:"
      ]
    },
    {
      "cell_type": "code",
      "metadata": {
        "id": "M7LGDzUZmSiQ",
        "colab_type": "code",
        "colab": {
          "base_uri": "https://localhost:8080/",
          "height": 52
        },
        "outputId": "fa394993-af5c-4847-aa26-f507dfa65240"
      },
      "source": [
        "for item in train_mv.take(1):\n",
        "  print (item[0].shape)\n",
        "  print (item[1].shape)"
      ],
      "execution_count": 69,
      "outputs": [
        {
          "output_type": "stream",
          "text": [
            "(256, 72, 4)\n",
            "(256, 36)\n"
          ],
          "name": "stdout"
        }
      ]
    },
    {
      "cell_type": "markdown",
      "metadata": {
        "id": "lEUm9lmLmSn_",
        "colab_type": "text"
      },
      "source": [
        "So, each batch contains 256 items. Each item has both feature sets and labels. Each feature set is a window of 120 observations where each observation contains 4 features. Each label contains 72 predictions."
      ]
    },
    {
      "cell_type": "markdown",
      "metadata": {
        "id": "UqsKZ7gilWlS",
        "colab_type": "text"
      },
      "source": [
        "Check first training example:"
      ]
    },
    {
      "cell_type": "code",
      "metadata": {
        "id": "Q7kaoRhvlWba",
        "colab_type": "code",
        "colab": {
          "base_uri": "https://localhost:8080/",
          "height": 1000
        },
        "outputId": "ddacb516-b200-40cb-bfcd-eea2f0b7c281"
      },
      "source": [
        "for feature, label in train_mv.take(1):\n",
        "  print ('observations:', len(feature[0]))\n",
        "  print (feature[0], br)\n",
        "  print ('predictions:', len(label[0]))\n",
        "  print (label[0])"
      ],
      "execution_count": 70,
      "outputs": [
        {
          "output_type": "stream",
          "text": [
            "observations: 72\n",
            "tf.Tensor(\n",
            "[[-0.79633926  0.18220538  0.29319343 -0.49667152]\n",
            " [-0.79248971  0.21604048  0.34709821 -0.45255873]\n",
            " [-0.7781363   0.21637472  0.34741856 -0.47643071]\n",
            " [-0.77492382  0.19563964  0.31397776 -0.51248041]\n",
            " [-0.73242708  0.16091829  0.25879643 -0.60883519]\n",
            " [-0.72260992  0.13861385  0.22344856 -0.63929011]\n",
            " [-0.72744609  0.1120186   0.1801745  -0.65254209]\n",
            " [-0.72482326  0.09921295  0.15924626 -0.66289416]\n",
            " [-0.73624558  0.08454495  0.13562419 -0.65757181]\n",
            " [-0.72747482  0.08230134  0.13237279 -0.66819483]\n",
            " [-0.72852477  0.06775753  0.10925245 -0.67284804]\n",
            " [-0.72946899  0.05822053  0.09295715 -0.67516245]\n",
            " [-0.73208029  0.05245873  0.08384029 -0.67400099]\n",
            " [-0.73405053  0.04791217  0.07684027 -0.67303032]\n",
            " [-0.73401017  0.04199241  0.06770205 -0.67444951]\n",
            " [-0.73355994  0.04101171  0.06553417 -0.67521339]\n",
            " [-0.73429329  0.03635115  0.05856575 -0.67532364]\n",
            " [-0.73226336  0.04042397  0.06526787 -0.67668041]\n",
            " [-0.73357424  0.03688136  0.05917229 -0.67602311]\n",
            " [-0.73569166  0.03385205  0.05432073 -0.67428561]\n",
            " [-0.73741106  0.03524833  0.05687799 -0.67212155]\n",
            " [-0.73822135  0.03785751  0.0609012  -0.67073623]\n",
            " [-0.74816916  0.06078558  0.09776347 -0.65344497]\n",
            " [-0.76714535  0.06998903  0.1120918  -0.62771409]\n",
            " [-0.80241509  0.10122362  0.1628963  -0.56510937]\n",
            " [-0.87504926  0.12601335  0.20271714 -0.4210881 ]\n",
            " [-0.89068369  0.14393177  0.2311375  -0.36406272]\n",
            " [-0.87930393  0.14912172  0.23910896 -0.38394558]\n",
            " [-0.79338845  0.11724598  0.18845673 -0.56680879]\n",
            " [-0.753324    0.1245882   0.19919625 -0.6142488 ]\n",
            " [-0.74864652  0.10628522  0.17072064 -0.63173278]\n",
            " [-0.73525076  0.09160101  0.14717229 -0.65525254]\n",
            " [-0.72866086  0.08134422  0.13060902 -0.66736628]\n",
            " [-0.72956604  0.07703146  0.12392017 -0.66816416]\n",
            " [-0.73087995  0.07073032  0.11359718 -0.66925884]\n",
            " [-0.73283486  0.06624201  0.10692608 -0.66867921]\n",
            " [-0.73056314  0.05668162  0.09107816 -0.67436597]\n",
            " [-0.73243243  0.0560067   0.08980384 -0.6725632 ]\n",
            " [-0.73507393  0.05263957  0.08412931 -0.67068446]\n",
            " [-0.7349795   0.05129933  0.08254529 -0.67108851]\n",
            " [-0.73714848  0.04805519  0.07706964 -0.6695992 ]\n",
            " [-0.73454375  0.04702872  0.07524595 -0.67273458]\n",
            " [-0.73518918  0.04058549  0.06552865 -0.67346542]\n",
            " [-0.73961642  0.04209199  0.06743309 -0.66831774]\n",
            " [-0.74172229  0.04459164  0.07196472 -0.66534255]\n",
            " [-0.74827755  0.04811338  0.07743962 -0.65709125]\n",
            " [-0.78424409  0.06670956  0.10738612 -0.60743664]\n",
            " [-0.83025724  0.08752903  0.14080757 -0.53215112]\n",
            " [-0.87072005  0.11584687  0.1861024  -0.44021812]\n",
            " [-0.89766033  0.14731278  0.23690652 -0.34114539]\n",
            " [-0.90225386  0.18278419  0.29264915 -0.25862018]\n",
            " [-0.89400656  0.17557454  0.28281736 -0.29990029]\n",
            " [-0.81946279  0.14630329  0.23424964 -0.50219836]\n",
            " [-0.75427002  0.15379909  0.24787833 -0.58819972]\n",
            " [-0.74631502  0.12235845  0.19677529 -0.62395656]\n",
            " [-0.7310972   0.11399928  0.18362759 -0.64713365]\n",
            " [-0.73234427  0.10802906  0.17364181 -0.6494999 ]\n",
            " [-0.72481584  0.09903924  0.15896744 -0.66299516]\n",
            " [-0.72706461  0.09013198  0.14421116 -0.66517398]\n",
            " [-0.72958857  0.09165381  0.14688888 -0.66160694]\n",
            " [-0.72955936  0.09195615  0.14798241 -0.66135347]\n",
            " [-0.73064461  0.07383011  0.11867506 -0.66829919]\n",
            " [-0.72960935  0.07505815  0.12086569 -0.66890056]\n",
            " [-0.73327458  0.06506521  0.10431089 -0.66872576]\n",
            " [-0.73150341  0.05608354  0.09041053 -0.67348596]\n",
            " [-0.73061169  0.06902581  0.11150324 -0.67008136]\n",
            " [-0.73566495  0.06270741  0.10094363 -0.66683975]\n",
            " [-0.73288534  0.06306578  0.1012104  -0.66981956]\n",
            " [-0.73449942  0.06904188  0.11046701 -0.66598863]\n",
            " [-0.74562004  0.0854851   0.13713235 -0.64648107]\n",
            " [-0.78046398  0.0988675   0.15910465 -0.59647876]\n",
            " [-0.80046466  0.10975804  0.17687123 -0.562073  ]], shape=(72, 4), dtype=float64) \n",
            "\n",
            "predictions: 36\n",
            "tf.Tensor(\n",
            "[0.14923804 0.15988264 0.16281708 0.16667152 0.17564763 0.20676963\n",
            " 0.20835583 0.20820958 0.19915933 0.19694309 0.20494751 0.21635142\n",
            " 0.228456   0.23718423 0.24357273 0.24622078 0.2463782  0.25430103\n",
            " 0.2678315  0.26069729 0.26327507 0.25300269 0.24512916 0.25057389\n",
            " 0.24871097 0.2298194  0.22407612 0.21931392 0.22732049 0.21759188\n",
            " 0.20768197 0.20472352 0.20141352 0.20180443 0.19411307 0.16947811], shape=(36,), dtype=float64)\n"
          ],
          "name": "stdout"
        }
      ]
    },
    {
      "cell_type": "markdown",
      "metadata": {
        "id": "u7ocjmCFlbuK",
        "colab_type": "text"
      },
      "source": [
        "As expected, the first window has 72 observations with 4 features and the first label has 36 predictions."
      ]
    },
    {
      "cell_type": "markdown",
      "metadata": {
        "id": "BPQUqoqEs3RJ",
        "colab_type": "text"
      },
      "source": [
        "Establish input shape:"
      ]
    },
    {
      "cell_type": "code",
      "metadata": {
        "id": "y3Ws7MPms2fi",
        "colab_type": "code",
        "colab": {
          "base_uri": "https://localhost:8080/",
          "height": 34
        },
        "outputId": "f513ff94-1aff-4e90-a6a6-1611d6159edd"
      },
      "source": [
        "input_shape_multi = feature.shape[-2:]\n",
        "input_shape_multi"
      ],
      "execution_count": 71,
      "outputs": [
        {
          "output_type": "execute_result",
          "data": {
            "text/plain": [
              "TensorShape([72, 4])"
            ]
          },
          "metadata": {
            "tags": []
          },
          "execution_count": 71
        }
      ]
    },
    {
      "cell_type": "markdown",
      "metadata": {
        "id": "SPSXlT46sUGq",
        "colab_type": "text"
      },
      "source": [
        "## Create the Model"
      ]
    },
    {
      "cell_type": "code",
      "metadata": {
        "id": "OAEx0ONzmSvB",
        "colab_type": "code",
        "colab": {}
      },
      "source": [
        "# clear any previous models\n",
        "tf.keras.backend.clear_session()\n",
        "\n",
        "\n",
        "# set seed to ensure reproducibility\n",
        "tf.random.set_seed(0)\n",
        "\n",
        "neurons = 32  # neurons in GRU layer\n",
        "outputs = 36\n",
        "\n",
        "gen_model = Sequential([\n",
        "  GRU(neurons, input_shape=input_shape_multi),\n",
        "  Dense(outputs)\n",
        "])"
      ],
      "execution_count": 72,
      "outputs": []
    },
    {
      "cell_type": "markdown",
      "metadata": {
        "id": "tUnF6r5NtTsC",
        "colab_type": "text"
      },
      "source": [
        "## Model Summary"
      ]
    },
    {
      "cell_type": "code",
      "metadata": {
        "id": "_CAIdN32tTxR",
        "colab_type": "code",
        "colab": {
          "base_uri": "https://localhost:8080/",
          "height": 230
        },
        "outputId": "36a69be1-8c17-4e89-cc39-e5c789c403ec"
      },
      "source": [
        "gen_model.summary()"
      ],
      "execution_count": 73,
      "outputs": [
        {
          "output_type": "stream",
          "text": [
            "Model: \"sequential\"\n",
            "_________________________________________________________________\n",
            "Layer (type)                 Output Shape              Param #   \n",
            "=================================================================\n",
            "gru (GRU)                    (None, 32)                3648      \n",
            "_________________________________________________________________\n",
            "dense (Dense)                (None, 36)                1188      \n",
            "=================================================================\n",
            "Total params: 4,836\n",
            "Trainable params: 4,836\n",
            "Non-trainable params: 0\n",
            "_________________________________________________________________\n"
          ],
          "name": "stdout"
        }
      ]
    },
    {
      "cell_type": "markdown",
      "metadata": {
        "id": "zi6Psh87sICI",
        "colab_type": "text"
      },
      "source": [
        "## Compile the Model"
      ]
    },
    {
      "cell_type": "code",
      "metadata": {
        "id": "YSamCqFDsIJB",
        "colab_type": "code",
        "colab": {}
      },
      "source": [
        "gen_model.compile(optimizer='adam', loss='mse')"
      ],
      "execution_count": 74,
      "outputs": []
    },
    {
      "cell_type": "markdown",
      "metadata": {
        "id": "ENshd1NvsIPK",
        "colab_type": "text"
      },
      "source": [
        "## Train the Model"
      ]
    },
    {
      "cell_type": "code",
      "metadata": {
        "id": "Fm4N6bBwsIUc",
        "colab_type": "code",
        "colab": {
          "base_uri": "https://localhost:8080/",
          "height": 372
        },
        "outputId": "987e32ff-3850-4e0e-d506-e1b9cefc2025"
      },
      "source": [
        "num_train_steps = 400\n",
        "epochs = 10\n",
        "\n",
        "gen_history = gen_model.fit(train_mv, epochs=epochs,\n",
        "                            steps_per_epoch=num_train_steps,\n",
        "                            validation_data=test_mv,\n",
        "                            validation_steps=50)"
      ],
      "execution_count": 75,
      "outputs": [
        {
          "output_type": "stream",
          "text": [
            "Epoch 1/10\n",
            "400/400 [==============================] - 3s 7ms/step - loss: 0.0107 - val_loss: 0.0030\n",
            "Epoch 2/10\n",
            "400/400 [==============================] - 3s 7ms/step - loss: 0.0020 - val_loss: 0.0025\n",
            "Epoch 3/10\n",
            "400/400 [==============================] - 3s 7ms/step - loss: 0.0012 - val_loss: 0.0024\n",
            "Epoch 4/10\n",
            "400/400 [==============================] - 2s 6ms/step - loss: 0.0014 - val_loss: 0.0023\n",
            "Epoch 5/10\n",
            "400/400 [==============================] - 2s 6ms/step - loss: 0.0014 - val_loss: 0.0022\n",
            "Epoch 6/10\n",
            "400/400 [==============================] - 2s 6ms/step - loss: 9.9439e-04 - val_loss: 0.0021\n",
            "Epoch 7/10\n",
            "400/400 [==============================] - 2s 6ms/step - loss: 0.0012 - val_loss: 0.0021\n",
            "Epoch 8/10\n",
            "400/400 [==============================] - 2s 6ms/step - loss: 0.0012 - val_loss: 0.0022\n",
            "Epoch 9/10\n",
            "400/400 [==============================] - 2s 6ms/step - loss: 9.4982e-04 - val_loss: 0.0021\n",
            "Epoch 10/10\n",
            "400/400 [==============================] - 2s 6ms/step - loss: 0.0011 - val_loss: 0.0021\n"
          ],
          "name": "stdout"
        }
      ]
    },
    {
      "cell_type": "markdown",
      "metadata": {
        "id": "6mUZf3OcsIa5",
        "colab_type": "text"
      },
      "source": [
        "## Generalize on Test Data"
      ]
    },
    {
      "cell_type": "code",
      "metadata": {
        "id": "v99Mgd9EsIgf",
        "colab_type": "code",
        "colab": {
          "base_uri": "https://localhost:8080/",
          "height": 34
        },
        "outputId": "c510cd2e-cf77-4217-af90-2cc51992b48c"
      },
      "source": [
        "test_loss = gen_model.evaluate(test_mv, steps=num_train_steps)"
      ],
      "execution_count": 76,
      "outputs": [
        {
          "output_type": "stream",
          "text": [
            "400/400 [==============================] - 1s 3ms/step - loss: 0.0011\n"
          ],
          "name": "stdout"
        }
      ]
    },
    {
      "cell_type": "markdown",
      "metadata": {
        "id": "taLeu2ODsIls",
        "colab_type": "text"
      },
      "source": [
        "## Plot Performance"
      ]
    },
    {
      "cell_type": "code",
      "metadata": {
        "id": "34BsrDp8sIrT",
        "colab_type": "code",
        "colab": {
          "base_uri": "https://localhost:8080/",
          "height": 281
        },
        "outputId": "2b942c6e-3e2c-4a4a-f92f-23a00b176dc0"
      },
      "source": [
        "loss = gen_history.history['loss']\n",
        "val_loss = gen_history.history['val_loss']\n",
        "\n",
        "epochs = range(1, len(loss) + 1)\n",
        "\n",
        "plt.figure()\n",
        "plt.plot(epochs, loss, 'bo', label='training loss')\n",
        "plt.plot(epochs, val_loss, 'b', label='validation loss')\n",
        "plt.title('training and validation loss')\n",
        "plt.legend()\n",
        "plt.show()"
      ],
      "execution_count": 77,
      "outputs": [
        {
          "output_type": "display_data",
          "data": {
            "image/png": "[encoded data removed]",
            "text/plain": [
              "<Figure size 432x288 with 1 Axes>"
            ]
          },
          "metadata": {
            "tags": [],
            "needs_background": "light"
          }
        }
      ]
    },
    {
      "cell_type": "markdown",
      "metadata": {
        "id": "Qm4uWsoTubV5",
        "colab_type": "text"
      },
      "source": [
        "## Plot a Data Window"
      ]
    },
    {
      "cell_type": "markdown",
      "metadata": {
        "id": "7mplEt3QxEem",
        "colab_type": "text"
      },
      "source": [
        "Create a plotting function:"
      ]
    },
    {
      "cell_type": "code",
      "metadata": {
        "id": "rFN9S3OAubqN",
        "colab_type": "code",
        "colab": {}
      },
      "source": [
        "def multi_step_plot(window, true_future, pred):\n",
        "  plt.figure(figsize=(12, 6))\n",
        "  num_in = create_time_steps(len(window))\n",
        "  num_out = len(true_future)\n",
        "\n",
        "  plt.plot(num_in, np.array(window[:, 1]), 'm',\n",
        "           label='history')\n",
        "  plt.plot(np.arange(num_out)/step, np.array(true_future),\n",
        "           'bo', label='true future')\n",
        "  if pred.any():\n",
        "    plt.plot(np.arange(num_out)/step, np.array(pred), 'go',\n",
        "             label='predicted future')\n",
        "  plt.legend(loc='upper left')\n",
        "  plt.show()"
      ],
      "execution_count": 78,
      "outputs": []
    },
    {
      "cell_type": "markdown",
      "metadata": {
        "id": "t27yL-z1ubyK",
        "colab_type": "text"
      },
      "source": [
        "Plot the first training window from the first batch:"
      ]
    },
    {
      "cell_type": "code",
      "metadata": {
        "id": "JaM4yHSmub4B",
        "colab_type": "code",
        "colab": {
          "base_uri": "https://localhost:8080/",
          "height": 374
        },
        "outputId": "616f01df-6983-4f4a-a793-58be98122ffe"
      },
      "source": [
        "for x, y in train_mv.take(1):\n",
        "  multi_step_plot(x[0], y[0], np.array([0]))"
      ],
      "execution_count": 79,
      "outputs": [
        {
          "output_type": "display_data",
          "data": {
            "image/png": "[encoded data removed]",
            "text/plain": [
              "<Figure size 864x432 with 1 Axes>"
            ]
          },
          "metadata": {
            "tags": [],
            "needs_background": "light"
          }
        }
      ]
    },
    {
      "cell_type": "markdown",
      "metadata": {
        "id": "pRndb0fnucHD",
        "colab_type": "text"
      },
      "source": [
        "## Make a Prediction"
      ]
    },
    {
      "cell_type": "code",
      "metadata": {
        "id": "dLxoFq2vucTf",
        "colab_type": "code",
        "colab": {
          "base_uri": "https://localhost:8080/",
          "height": 374
        },
        "outputId": "5dff2936-1f31-49d6-c098-768df8f4e25e"
      },
      "source": [
        "for x, y in test_mv.take(1):\n",
        "  y_pred = gen_model.predict(x)[0]\n",
        "  multi_step_plot(x[0], y[0], y_pred)"
      ],
      "execution_count": 80,
      "outputs": [
        {
          "output_type": "display_data",
          "data": {
            "image/png": "[encoded data removed]",
            "text/plain": [
              "<Figure size 864x432 with 1 Axes>"
            ]
          },
          "metadata": {
            "tags": [],
            "needs_background": "light"
          }
        }
      ]
    },
    {
      "cell_type": "markdown",
      "metadata": {
        "id": "aGJ-HUB5K_Fz",
        "colab_type": "text"
      },
      "source": [
        "Not bad."
      ]
    }
  ]
}