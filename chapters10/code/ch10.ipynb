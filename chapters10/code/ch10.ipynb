{
  "nbformat": 4,
  "nbformat_minor": 0,
  "metadata": {
    "colab": {
      "name": "ch10.ipynb",
      "provenance": [],
      "collapsed_sections": [],
      "machine_shape": "hm"
    },
    "kernelspec": {
      "name": "python3",
      "display_name": "Python 3"
    },
    "accelerator": "GPU"
  },
  "cells": [
    {
      "cell_type": "markdown",
      "metadata": {
        "id": "ceXcxnFyONlJ",
        "colab_type": "text"
      },
      "source": [
        "# Times Series Forecasting with RNNs\n",
        "\n",
        "A RNN is well suited for times series forecasting because it remembers the past and its decisions are influenced by what it has learned from the past. So, it makes good decisions as data changes. **Time series forecasting** is deploying a model to predict future values based on previously observed values.\n",
        "\n",
        "Times series data is different than what we have worked with so far because it is a sequence of observations taken sequentially in time. Time series data includes a time dimension, which is an explicit order dependence between observations."
      ]
    },
    {
      "cell_type": "markdown",
      "metadata": {
        "id": "XrE3vQtJaXho",
        "colab_type": "text"
      },
      "source": [
        "# Components of Time Series\n",
        "\n",
        "Times series forecasting is predicated upon four 4 constituent parts:\n",
        "\n",
        "* level - baseline value for the series if it were a straight line\n",
        "* trend - increasing or decreasing behavior over time\n",
        "* seasonality - repeating patterns or cycles of behavior over time\n",
        "* noise - variability in the observations not explained by the model\n",
        "\n",
        "All time series have a level and most have noise. But, trend and seasonality are optional."
      ]
    },
    {
      "cell_type": "markdown",
      "metadata": {
        "id": "P_INW1MFojGD",
        "colab_type": "text"
      },
      "source": [
        "# Weather Forecasting\n",
        "\n",
        "Forecasting the weather is a difficult and complex endeavor. But, leading edge companies like Google, IBM, Monsanto, and Facebook are leveraging AI technology to realize accurate and timely weather forecasts. Given the introductory nature or our lessons, we cannot hope to demonstrate such complex AI experiments. But, we can show you how to build a simple time series forecasting model using weather data.   "
      ]
    },
    {
      "cell_type": "markdown",
      "metadata": {
        "id": "S2S6yy-suUut",
        "colab_type": "text"
      },
      "source": [
        "As usual, we need to set up the GPU for each notebook. So, click the **Runtime** tab, click **Change runtime type** from the drop-down menu, choose **GPU** from the Hardware Accelerator drop-down menu, and click **Save**."
      ]
    },
    {
      "cell_type": "code",
      "metadata": {
        "id": "LRLvQJxzuiph",
        "colab_type": "code",
        "colab": {
          "base_uri": "https://localhost:8080/",
          "height": 34
        },
        "outputId": "b436dba3-cf8b-45aa-dad7-3434cdcf9855"
      },
      "source": [
        "import tensorflow as tf\n",
        "\n",
        "# display tf version and test if GPU is active\n",
        "\n",
        "tf.__version__, tf.test.gpu_device_name()"
      ],
      "execution_count": 1,
      "outputs": [
        {
          "output_type": "execute_result",
          "data": {
            "text/plain": [
              "('2.3.0', '/device:GPU:0')"
            ]
          },
          "metadata": {
            "tags": []
          },
          "execution_count": 1
        }
      ]
    },
    {
      "cell_type": "markdown",
      "metadata": {
        "id": "mFZvf4Oyriws",
        "colab_type": "text"
      },
      "source": [
        "# The Weather Dataset\n",
        "\n",
        "We introduce times series forecasting with RNNs for a univariate problem. We then forecast a multivariate time series. We use weather time series data to train our models. The data is recorded by the Max Planck Institute for Biogeochemistry. Find our more about the institute by perusing the following URL:\n",
        "\n",
        "https://www.bgc-jena.mpg.de/index.php/Main/HomePage"
      ]
    },
    {
      "cell_type": "markdown",
      "metadata": {
        "id": "a3AhAH9Stn_N",
        "colab_type": "text"
      },
      "source": [
        "Let's get the dataset."
      ]
    },
    {
      "cell_type": "code",
      "metadata": {
        "id": "QP4SKmO-ojuo",
        "colab_type": "code",
        "colab": {}
      },
      "source": [
        "import os\n",
        "\n",
        "p1 = 'https://storage.googleapis.com/tensorflow/'\n",
        "p2 = 'tf-keras-datasets/jena_climate_2009_2016.csv.zip'\n",
        "url = p1 + p2\n",
        "\n",
        "zip_path = tf.keras.utils.get_file(\n",
        "    origin = url,\n",
        "    fname='jena_climate_2009_2016.csv.zip',\n",
        "    extract=True)\n",
        "csv_path, _ = os.path.splitext(zip_path)"
      ],
      "execution_count": 2,
      "outputs": []
    },
    {
      "cell_type": "markdown",
      "metadata": {
        "id": "8Hb93GFXulgU",
        "colab_type": "text"
      },
      "source": [
        "We use the **splitext()** method to properly extract the CSV file from the URL. We then create an appropriate path for easy loading into Pandas."
      ]
    },
    {
      "cell_type": "markdown",
      "metadata": {
        "id": "VjPUtbtpx4Ch",
        "colab_type": "text"
      },
      "source": [
        "Now, we can easily read the CSV file into a Pandas dataframe. "
      ]
    },
    {
      "cell_type": "code",
      "metadata": {
        "id": "-rzYIXfLvOGu",
        "colab_type": "code",
        "colab": {}
      },
      "source": [
        "import pandas as pd\n",
        "\n",
        "df = pd.read_csv(csv_path)"
      ],
      "execution_count": 3,
      "outputs": []
    },
    {
      "cell_type": "markdown",
      "metadata": {
        "id": "nL2Pa9Xzxbhy",
        "colab_type": "text"
      },
      "source": [
        "# Explore the Data\n"
      ]
    },
    {
      "cell_type": "markdown",
      "metadata": {
        "id": "W7nJ_wkcwKP6",
        "colab_type": "text"
      },
      "source": [
        "Display the features of the dataframe:"
      ]
    },
    {
      "cell_type": "code",
      "metadata": {
        "id": "KNhwpviOwPdV",
        "colab_type": "code",
        "colab": {
          "base_uri": "https://localhost:8080/",
          "height": 272
        },
        "outputId": "94392382-a31d-4669-cf3f-ace129728419"
      },
      "source": [
        "list(df)"
      ],
      "execution_count": 4,
      "outputs": [
        {
          "output_type": "execute_result",
          "data": {
            "text/plain": [
              "['Date Time',\n",
              " 'p (mbar)',\n",
              " 'T (degC)',\n",
              " 'Tpot (K)',\n",
              " 'Tdew (degC)',\n",
              " 'rh (%)',\n",
              " 'VPmax (mbar)',\n",
              " 'VPact (mbar)',\n",
              " 'VPdef (mbar)',\n",
              " 'sh (g/kg)',\n",
              " 'H2OC (mmol/mol)',\n",
              " 'rho (g/m**3)',\n",
              " 'wv (m/s)',\n",
              " 'max. wv (m/s)',\n",
              " 'wd (deg)']"
            ]
          },
          "metadata": {
            "tags": []
          },
          "execution_count": 4
        }
      ]
    },
    {
      "cell_type": "markdown",
      "metadata": {
        "id": "7c4jL_G-xGXW",
        "colab_type": "text"
      },
      "source": [
        "Display the first few records:"
      ]
    },
    {
      "cell_type": "code",
      "metadata": {
        "id": "x0pVFP_Wxb3J",
        "colab_type": "code",
        "colab": {
          "base_uri": "https://localhost:8080/",
          "height": 142
        },
        "outputId": "a8d6e890-7ff0-4c2f-c706-046d129fe950"
      },
      "source": [
        "df.head(3)"
      ],
      "execution_count": 5,
      "outputs": [
        {
          "output_type": "execute_result",
          "data": {
            "text/html": [
              "<div>\n",
              "<style scoped>\n",
              "    .dataframe tbody tr th:only-of-type {\n",
              "        vertical-align: middle;\n",
              "    }\n",
              "\n",
              "    .dataframe tbody tr th {\n",
              "        vertical-align: top;\n",
              "    }\n",
              "\n",
              "    .dataframe thead th {\n",
              "        text-align: right;\n",
              "    }\n",
              "</style>\n",
              "<table border=\"1\" class=\"dataframe\">\n",
              "  <thead>\n",
              "    <tr style=\"text-align: right;\">\n",
              "      <th></th>\n",
              "      <th>Date Time</th>\n",
              "      <th>p (mbar)</th>\n",
              "      <th>T (degC)</th>\n",
              "      <th>Tpot (K)</th>\n",
              "      <th>Tdew (degC)</th>\n",
              "      <th>rh (%)</th>\n",
              "      <th>VPmax (mbar)</th>\n",
              "      <th>VPact (mbar)</th>\n",
              "      <th>VPdef (mbar)</th>\n",
              "      <th>sh (g/kg)</th>\n",
              "      <th>H2OC (mmol/mol)</th>\n",
              "      <th>rho (g/m**3)</th>\n",
              "      <th>wv (m/s)</th>\n",
              "      <th>max. wv (m/s)</th>\n",
              "      <th>wd (deg)</th>\n",
              "    </tr>\n",
              "  </thead>\n",
              "  <tbody>\n",
              "    <tr>\n",
              "      <th>0</th>\n",
              "      <td>01.01.2009 00:10:00</td>\n",
              "      <td>996.52</td>\n",
              "      <td>-8.02</td>\n",
              "      <td>265.40</td>\n",
              "      <td>-8.90</td>\n",
              "      <td>93.3</td>\n",
              "      <td>3.33</td>\n",
              "      <td>3.11</td>\n",
              "      <td>0.22</td>\n",
              "      <td>1.94</td>\n",
              "      <td>3.12</td>\n",
              "      <td>1307.75</td>\n",
              "      <td>1.03</td>\n",
              "      <td>1.75</td>\n",
              "      <td>152.3</td>\n",
              "    </tr>\n",
              "    <tr>\n",
              "      <th>1</th>\n",
              "      <td>01.01.2009 00:20:00</td>\n",
              "      <td>996.57</td>\n",
              "      <td>-8.41</td>\n",
              "      <td>265.01</td>\n",
              "      <td>-9.28</td>\n",
              "      <td>93.4</td>\n",
              "      <td>3.23</td>\n",
              "      <td>3.02</td>\n",
              "      <td>0.21</td>\n",
              "      <td>1.89</td>\n",
              "      <td>3.03</td>\n",
              "      <td>1309.80</td>\n",
              "      <td>0.72</td>\n",
              "      <td>1.50</td>\n",
              "      <td>136.1</td>\n",
              "    </tr>\n",
              "    <tr>\n",
              "      <th>2</th>\n",
              "      <td>01.01.2009 00:30:00</td>\n",
              "      <td>996.53</td>\n",
              "      <td>-8.51</td>\n",
              "      <td>264.91</td>\n",
              "      <td>-9.31</td>\n",
              "      <td>93.9</td>\n",
              "      <td>3.21</td>\n",
              "      <td>3.01</td>\n",
              "      <td>0.20</td>\n",
              "      <td>1.88</td>\n",
              "      <td>3.02</td>\n",
              "      <td>1310.24</td>\n",
              "      <td>0.19</td>\n",
              "      <td>0.63</td>\n",
              "      <td>171.6</td>\n",
              "    </tr>\n",
              "  </tbody>\n",
              "</table>\n",
              "</div>"
            ],
            "text/plain": [
              "             Date Time  p (mbar)  T (degC)  ...  wv (m/s)  max. wv (m/s)  wd (deg)\n",
              "0  01.01.2009 00:10:00    996.52     -8.02  ...      1.03           1.75     152.3\n",
              "1  01.01.2009 00:20:00    996.57     -8.41  ...      0.72           1.50     136.1\n",
              "2  01.01.2009 00:30:00    996.53     -8.51  ...      0.19           0.63     171.6\n",
              "\n",
              "[3 rows x 15 columns]"
            ]
          },
          "metadata": {
            "tags": []
          },
          "execution_count": 5
        }
      ]
    },
    {
      "cell_type": "markdown",
      "metadata": {
        "id": "L4RLkDLKu5xo",
        "colab_type": "text"
      },
      "source": [
        "Display the last few records."
      ]
    },
    {
      "cell_type": "code",
      "metadata": {
        "id": "qNvffjU-u2Bh",
        "colab_type": "code",
        "colab": {
          "base_uri": "https://localhost:8080/",
          "height": 142
        },
        "outputId": "3079d0c8-4800-4f83-8c21-af63683efc6b"
      },
      "source": [
        "df.tail(3)"
      ],
      "execution_count": 6,
      "outputs": [
        {
          "output_type": "execute_result",
          "data": {
            "text/html": [
              "<div>\n",
              "<style scoped>\n",
              "    .dataframe tbody tr th:only-of-type {\n",
              "        vertical-align: middle;\n",
              "    }\n",
              "\n",
              "    .dataframe tbody tr th {\n",
              "        vertical-align: top;\n",
              "    }\n",
              "\n",
              "    .dataframe thead th {\n",
              "        text-align: right;\n",
              "    }\n",
              "</style>\n",
              "<table border=\"1\" class=\"dataframe\">\n",
              "  <thead>\n",
              "    <tr style=\"text-align: right;\">\n",
              "      <th></th>\n",
              "      <th>Date Time</th>\n",
              "      <th>p (mbar)</th>\n",
              "      <th>T (degC)</th>\n",
              "      <th>Tpot (K)</th>\n",
              "      <th>Tdew (degC)</th>\n",
              "      <th>rh (%)</th>\n",
              "      <th>VPmax (mbar)</th>\n",
              "      <th>VPact (mbar)</th>\n",
              "      <th>VPdef (mbar)</th>\n",
              "      <th>sh (g/kg)</th>\n",
              "      <th>H2OC (mmol/mol)</th>\n",
              "      <th>rho (g/m**3)</th>\n",
              "      <th>wv (m/s)</th>\n",
              "      <th>max. wv (m/s)</th>\n",
              "      <th>wd (deg)</th>\n",
              "    </tr>\n",
              "  </thead>\n",
              "  <tbody>\n",
              "    <tr>\n",
              "      <th>420548</th>\n",
              "      <td>31.12.2016 23:40:00</td>\n",
              "      <td>999.82</td>\n",
              "      <td>-3.16</td>\n",
              "      <td>270.01</td>\n",
              "      <td>-8.21</td>\n",
              "      <td>67.91</td>\n",
              "      <td>4.84</td>\n",
              "      <td>3.28</td>\n",
              "      <td>1.55</td>\n",
              "      <td>2.05</td>\n",
              "      <td>3.28</td>\n",
              "      <td>1288.39</td>\n",
              "      <td>1.08</td>\n",
              "      <td>2.00</td>\n",
              "      <td>215.2</td>\n",
              "    </tr>\n",
              "    <tr>\n",
              "      <th>420549</th>\n",
              "      <td>31.12.2016 23:50:00</td>\n",
              "      <td>999.81</td>\n",
              "      <td>-4.23</td>\n",
              "      <td>268.94</td>\n",
              "      <td>-8.53</td>\n",
              "      <td>71.80</td>\n",
              "      <td>4.46</td>\n",
              "      <td>3.20</td>\n",
              "      <td>1.26</td>\n",
              "      <td>1.99</td>\n",
              "      <td>3.20</td>\n",
              "      <td>1293.56</td>\n",
              "      <td>1.49</td>\n",
              "      <td>2.16</td>\n",
              "      <td>225.8</td>\n",
              "    </tr>\n",
              "    <tr>\n",
              "      <th>420550</th>\n",
              "      <td>01.01.2017 00:00:00</td>\n",
              "      <td>999.82</td>\n",
              "      <td>-4.82</td>\n",
              "      <td>268.36</td>\n",
              "      <td>-8.42</td>\n",
              "      <td>75.70</td>\n",
              "      <td>4.27</td>\n",
              "      <td>3.23</td>\n",
              "      <td>1.04</td>\n",
              "      <td>2.01</td>\n",
              "      <td>3.23</td>\n",
              "      <td>1296.38</td>\n",
              "      <td>1.23</td>\n",
              "      <td>1.96</td>\n",
              "      <td>184.9</td>\n",
              "    </tr>\n",
              "  </tbody>\n",
              "</table>\n",
              "</div>"
            ],
            "text/plain": [
              "                  Date Time  p (mbar)  ...  max. wv (m/s)  wd (deg)\n",
              "420548  31.12.2016 23:40:00    999.82  ...           2.00     215.2\n",
              "420549  31.12.2016 23:50:00    999.81  ...           2.16     225.8\n",
              "420550  01.01.2017 00:00:00    999.82  ...           1.96     184.9\n",
              "\n",
              "[3 rows x 15 columns]"
            ]
          },
          "metadata": {
            "tags": []
          },
          "execution_count": 6
        }
      ]
    },
    {
      "cell_type": "markdown",
      "metadata": {
        "id": "xgw-MCltvFbL",
        "colab_type": "text"
      },
      "source": [
        "We can see that data collection began on January 1, 2009 and ended December 31, 2016. The last data recorded was on January 1, 2017, but it is irrelevant because it is the only recorded piece of data for that year. We can also see that data is recorded every 10 minutes. So, the time step for this experiment is 10 minutes. A **time step** is a single occurrence of an event. Generally, time series forecasting describes predicting the observation at the next time step."
      ]
    },
    {
      "cell_type": "markdown",
      "metadata": {
        "id": "pAkGV4tMunLb",
        "colab_type": "text"
      },
      "source": [
        " Continue with a concise summary of the dataframe."
      ]
    },
    {
      "cell_type": "code",
      "metadata": {
        "id": "mqmSEG8TxpS5",
        "colab_type": "code",
        "colab": {
          "base_uri": "https://localhost:8080/",
          "height": 391
        },
        "outputId": "f517f1bf-051f-4b5e-d29d-7f889c1a2942"
      },
      "source": [
        "df.info()"
      ],
      "execution_count": 7,
      "outputs": [
        {
          "output_type": "stream",
          "text": [
            "<class 'pandas.core.frame.DataFrame'>\n",
            "RangeIndex: 420551 entries, 0 to 420550\n",
            "Data columns (total 15 columns):\n",
            " #   Column           Non-Null Count   Dtype  \n",
            "---  ------           --------------   -----  \n",
            " 0   Date Time        420551 non-null  object \n",
            " 1   p (mbar)         420551 non-null  float64\n",
            " 2   T (degC)         420551 non-null  float64\n",
            " 3   Tpot (K)         420551 non-null  float64\n",
            " 4   Tdew (degC)      420551 non-null  float64\n",
            " 5   rh (%)           420551 non-null  float64\n",
            " 6   VPmax (mbar)     420551 non-null  float64\n",
            " 7   VPact (mbar)     420551 non-null  float64\n",
            " 8   VPdef (mbar)     420551 non-null  float64\n",
            " 9   sh (g/kg)        420551 non-null  float64\n",
            " 10  H2OC (mmol/mol)  420551 non-null  float64\n",
            " 11  rho (g/m**3)     420551 non-null  float64\n",
            " 12  wv (m/s)         420551 non-null  float64\n",
            " 13  max. wv (m/s)    420551 non-null  float64\n",
            " 14  wd (deg)         420551 non-null  float64\n",
            "dtypes: float64(14), object(1)\n",
            "memory usage: 48.1+ MB\n"
          ],
          "name": "stdout"
        }
      ]
    },
    {
      "cell_type": "markdown",
      "metadata": {
        "id": "iSJ9ipQlyt30",
        "colab_type": "text"
      },
      "source": [
        "We see that the dataset contains 14 different features as follows:\n",
        "\n",
        "* Date Time - date-time reference\n",
        "* p (mbar) - atmospheric pressure in millibars\n",
        "* T (degC) - temperature in Celsius\n",
        "* Tpot (K) - temperature in Kelvin\n",
        "* Tdew (degC) - temperature in Celsius relative to humidity\n",
        "* rh (%) - relative humidity\n",
        "* VPmax (mbar) - saturation vapor pressure in millibars\n",
        "* VPact (mbar) - vapor pressure in millibars\n",
        "* VPdef (mbar) - vapor pressure deficit in millibars\n",
        "* sh (g/kg) - specific humidity in grams per kilogram\n",
        "* H2OC (mmol/mol) - water vapor concentration in millimoles per mole\n",
        "* rho (g/m**3) - air density in grams per meter cubed\n",
        "* wv (m/s) - wind speed in meters per second\n",
        "* max. wv (m/s) - maximum wind speed in meters per second\n",
        "* wd (deg) - wind direction in degrees\n",
        "\n",
        "We also see that there is no missing data. All data is 'float64' except the 'Date Time' object. And, we see that the dataset contains 420,551 rows of data with indexes ranging from 0 to 420550."
      ]
    },
    {
      "cell_type": "markdown",
      "metadata": {
        "id": "3F7ngtq8yOTM",
        "colab_type": "text"
      },
      "source": [
        "Display statistical data:"
      ]
    },
    {
      "cell_type": "code",
      "metadata": {
        "id": "3szV_rjeyOM2",
        "colab_type": "code",
        "colab": {
          "base_uri": "https://localhost:8080/",
          "height": 483
        },
        "outputId": "141f3da7-9400-4bcb-ac07-27de26e68069"
      },
      "source": [
        "stats = df.describe()\n",
        "stats.transpose()"
      ],
      "execution_count": 17,
      "outputs": [
        {
          "output_type": "execute_result",
          "data": {
            "text/html": [
              "<div>\n",
              "<style scoped>\n",
              "    .dataframe tbody tr th:only-of-type {\n",
              "        vertical-align: middle;\n",
              "    }\n",
              "\n",
              "    .dataframe tbody tr th {\n",
              "        vertical-align: top;\n",
              "    }\n",
              "\n",
              "    .dataframe thead th {\n",
              "        text-align: right;\n",
              "    }\n",
              "</style>\n",
              "<table border=\"1\" class=\"dataframe\">\n",
              "  <thead>\n",
              "    <tr style=\"text-align: right;\">\n",
              "      <th></th>\n",
              "      <th>count</th>\n",
              "      <th>mean</th>\n",
              "      <th>std</th>\n",
              "      <th>min</th>\n",
              "      <th>25%</th>\n",
              "      <th>50%</th>\n",
              "      <th>75%</th>\n",
              "      <th>max</th>\n",
              "    </tr>\n",
              "  </thead>\n",
              "  <tbody>\n",
              "    <tr>\n",
              "      <th>p (mbar)</th>\n",
              "      <td>420551.0</td>\n",
              "      <td>989.212776</td>\n",
              "      <td>8.358481</td>\n",
              "      <td>913.60</td>\n",
              "      <td>984.20</td>\n",
              "      <td>989.58</td>\n",
              "      <td>994.72</td>\n",
              "      <td>1015.35</td>\n",
              "    </tr>\n",
              "    <tr>\n",
              "      <th>T (degC)</th>\n",
              "      <td>420551.0</td>\n",
              "      <td>9.450147</td>\n",
              "      <td>8.423365</td>\n",
              "      <td>-23.01</td>\n",
              "      <td>3.36</td>\n",
              "      <td>9.42</td>\n",
              "      <td>15.47</td>\n",
              "      <td>37.28</td>\n",
              "    </tr>\n",
              "    <tr>\n",
              "      <th>Tpot (K)</th>\n",
              "      <td>420551.0</td>\n",
              "      <td>283.492743</td>\n",
              "      <td>8.504471</td>\n",
              "      <td>250.60</td>\n",
              "      <td>277.43</td>\n",
              "      <td>283.47</td>\n",
              "      <td>289.53</td>\n",
              "      <td>311.34</td>\n",
              "    </tr>\n",
              "    <tr>\n",
              "      <th>Tdew (degC)</th>\n",
              "      <td>420551.0</td>\n",
              "      <td>4.955854</td>\n",
              "      <td>6.730674</td>\n",
              "      <td>-25.01</td>\n",
              "      <td>0.24</td>\n",
              "      <td>5.22</td>\n",
              "      <td>10.07</td>\n",
              "      <td>23.11</td>\n",
              "    </tr>\n",
              "    <tr>\n",
              "      <th>rh (%)</th>\n",
              "      <td>420551.0</td>\n",
              "      <td>76.008259</td>\n",
              "      <td>16.476175</td>\n",
              "      <td>12.95</td>\n",
              "      <td>65.21</td>\n",
              "      <td>79.30</td>\n",
              "      <td>89.40</td>\n",
              "      <td>100.00</td>\n",
              "    </tr>\n",
              "    <tr>\n",
              "      <th>VPmax (mbar)</th>\n",
              "      <td>420551.0</td>\n",
              "      <td>13.576251</td>\n",
              "      <td>7.739020</td>\n",
              "      <td>0.95</td>\n",
              "      <td>7.78</td>\n",
              "      <td>11.82</td>\n",
              "      <td>17.60</td>\n",
              "      <td>63.77</td>\n",
              "    </tr>\n",
              "    <tr>\n",
              "      <th>VPact (mbar)</th>\n",
              "      <td>420551.0</td>\n",
              "      <td>9.533756</td>\n",
              "      <td>4.184164</td>\n",
              "      <td>0.79</td>\n",
              "      <td>6.21</td>\n",
              "      <td>8.86</td>\n",
              "      <td>12.35</td>\n",
              "      <td>28.32</td>\n",
              "    </tr>\n",
              "    <tr>\n",
              "      <th>VPdef (mbar)</th>\n",
              "      <td>420551.0</td>\n",
              "      <td>4.042412</td>\n",
              "      <td>4.896851</td>\n",
              "      <td>0.00</td>\n",
              "      <td>0.87</td>\n",
              "      <td>2.19</td>\n",
              "      <td>5.30</td>\n",
              "      <td>46.01</td>\n",
              "    </tr>\n",
              "    <tr>\n",
              "      <th>sh (g/kg)</th>\n",
              "      <td>420551.0</td>\n",
              "      <td>6.022408</td>\n",
              "      <td>2.656139</td>\n",
              "      <td>0.50</td>\n",
              "      <td>3.92</td>\n",
              "      <td>5.59</td>\n",
              "      <td>7.80</td>\n",
              "      <td>18.13</td>\n",
              "    </tr>\n",
              "    <tr>\n",
              "      <th>H2OC (mmol/mol)</th>\n",
              "      <td>420551.0</td>\n",
              "      <td>9.640223</td>\n",
              "      <td>4.235395</td>\n",
              "      <td>0.80</td>\n",
              "      <td>6.29</td>\n",
              "      <td>8.96</td>\n",
              "      <td>12.49</td>\n",
              "      <td>28.82</td>\n",
              "    </tr>\n",
              "    <tr>\n",
              "      <th>rho (g/m**3)</th>\n",
              "      <td>420551.0</td>\n",
              "      <td>1216.062748</td>\n",
              "      <td>39.975208</td>\n",
              "      <td>1059.45</td>\n",
              "      <td>1187.49</td>\n",
              "      <td>1213.79</td>\n",
              "      <td>1242.77</td>\n",
              "      <td>1393.54</td>\n",
              "    </tr>\n",
              "    <tr>\n",
              "      <th>wv (m/s)</th>\n",
              "      <td>420551.0</td>\n",
              "      <td>1.702224</td>\n",
              "      <td>65.446714</td>\n",
              "      <td>-9999.00</td>\n",
              "      <td>0.99</td>\n",
              "      <td>1.76</td>\n",
              "      <td>2.86</td>\n",
              "      <td>28.49</td>\n",
              "    </tr>\n",
              "    <tr>\n",
              "      <th>max. wv (m/s)</th>\n",
              "      <td>420551.0</td>\n",
              "      <td>3.056555</td>\n",
              "      <td>69.016932</td>\n",
              "      <td>-9999.00</td>\n",
              "      <td>1.76</td>\n",
              "      <td>2.96</td>\n",
              "      <td>4.74</td>\n",
              "      <td>23.50</td>\n",
              "    </tr>\n",
              "    <tr>\n",
              "      <th>wd (deg)</th>\n",
              "      <td>420551.0</td>\n",
              "      <td>174.743738</td>\n",
              "      <td>86.681693</td>\n",
              "      <td>0.00</td>\n",
              "      <td>124.90</td>\n",
              "      <td>198.10</td>\n",
              "      <td>234.10</td>\n",
              "      <td>360.00</td>\n",
              "    </tr>\n",
              "  </tbody>\n",
              "</table>\n",
              "</div>"
            ],
            "text/plain": [
              "                    count         mean        std  ...      50%      75%      max\n",
              "p (mbar)         420551.0   989.212776   8.358481  ...   989.58   994.72  1015.35\n",
              "T (degC)         420551.0     9.450147   8.423365  ...     9.42    15.47    37.28\n",
              "Tpot (K)         420551.0   283.492743   8.504471  ...   283.47   289.53   311.34\n",
              "Tdew (degC)      420551.0     4.955854   6.730674  ...     5.22    10.07    23.11\n",
              "rh (%)           420551.0    76.008259  16.476175  ...    79.30    89.40   100.00\n",
              "VPmax (mbar)     420551.0    13.576251   7.739020  ...    11.82    17.60    63.77\n",
              "VPact (mbar)     420551.0     9.533756   4.184164  ...     8.86    12.35    28.32\n",
              "VPdef (mbar)     420551.0     4.042412   4.896851  ...     2.19     5.30    46.01\n",
              "sh (g/kg)        420551.0     6.022408   2.656139  ...     5.59     7.80    18.13\n",
              "H2OC (mmol/mol)  420551.0     9.640223   4.235395  ...     8.96    12.49    28.82\n",
              "rho (g/m**3)     420551.0  1216.062748  39.975208  ...  1213.79  1242.77  1393.54\n",
              "wv (m/s)         420551.0     1.702224  65.446714  ...     1.76     2.86    28.49\n",
              "max. wv (m/s)    420551.0     3.056555  69.016932  ...     2.96     4.74    23.50\n",
              "wd (deg)         420551.0   174.743738  86.681693  ...   198.10   234.10   360.00\n",
              "\n",
              "[14 rows x 8 columns]"
            ]
          },
          "metadata": {
            "tags": []
          },
          "execution_count": 17
        }
      ]
    },
    {
      "cell_type": "markdown",
      "metadata": {
        "id": "F7K5x1HCy6JV",
        "colab_type": "text"
      },
      "source": [
        "The **describe** method generates descriptive statistics. The **transpose** method transposes indexes and columns."
      ]
    },
    {
      "cell_type": "markdown",
      "metadata": {
        "id": "1L9EzTYi5FGW",
        "colab_type": "text"
      },
      "source": [
        "Display the shape of the dataframe:"
      ]
    },
    {
      "cell_type": "code",
      "metadata": {
        "id": "J-cQhnW95FNM",
        "colab_type": "code",
        "colab": {
          "base_uri": "https://localhost:8080/",
          "height": 34
        },
        "outputId": "a92b7ed2-e7f0-40da-c2ae-21f9c5c2dde2"
      },
      "source": [
        "df.shape"
      ],
      "execution_count": 18,
      "outputs": [
        {
          "output_type": "execute_result",
          "data": {
            "text/plain": [
              "(420551, 15)"
            ]
          },
          "metadata": {
            "tags": []
          },
          "execution_count": 18
        }
      ]
    },
    {
      "cell_type": "markdown",
      "metadata": {
        "id": "KL7jBRuF5Z1c",
        "colab_type": "text"
      },
      "source": [
        "The dataframe contains 420,551 rows (or records) with 15 features included in each row."
      ]
    },
    {
      "cell_type": "markdown",
      "metadata": {
        "id": "KxUN03FSvKsk",
        "colab_type": "text"
      },
      "source": [
        "# Plot Relative Humidity Over Time\n",
        "\n",
        "Since we have the data in a Pandas dataframe, We can easily plot any of the 13 features against *Date Time* time steps. Let's try this with relative humidity represented as **rh (%)**."
      ]
    },
    {
      "cell_type": "code",
      "metadata": {
        "id": "3ObUzD2K8gUW",
        "colab_type": "code",
        "colab": {
          "base_uri": "https://localhost:8080/",
          "height": 282
        },
        "outputId": "431147e2-3e77-417e-e140-e4feb3dbe30e"
      },
      "source": [
        "import matplotlib.pyplot as plt\n",
        "\n",
        "# create new dataframe with just relative humidty column\n",
        "rh = df['rh (%)']\n",
        "\n",
        "# plot it!\n",
        "rh.plot()"
      ],
      "execution_count": 19,
      "outputs": [
        {
          "output_type": "execute_result",
          "data": {
            "text/plain": [
              "<matplotlib.axes._subplots.AxesSubplot at 0x7fdb35f89d30>"
            ]
          },
          "metadata": {
            "tags": []
          },
          "execution_count": 19
        },
        {
          "output_type": "display_data",
          "data": {
            "image/png": "[encoded data removed]",
            "text/plain": [
              "<Figure size 432x288 with 1 Axes>"
            ]
          },
          "metadata": {
            "tags": [],
            "needs_background": "light"
          }
        }
      ]
    },
    {
      "cell_type": "markdown",
      "metadata": {
        "id": "YVhuMlWF9sLe",
        "colab_type": "text"
      },
      "source": [
        "From the plot, we see yearly periodicity of relative humidity. Since we have an observation every 10 minutes, each hour has 6 observations. And, each day has 144 (6 observations x 24 hours) observations. "
      ]
    },
    {
      "cell_type": "markdown",
      "metadata": {
        "id": "Jgfv4f8B-gz7",
        "colab_type": "text"
      },
      "source": [
        "Let's plot a more narrow view by displaying the first 10 days. Since we have 144 observations per day, we plot a total of 1,440 (10 days x 144 observations/day) observations. Notice that indexing begins a *0*."
      ]
    },
    {
      "cell_type": "code",
      "metadata": {
        "id": "KnjEftTz8nR_",
        "colab_type": "code",
        "colab": {
          "base_uri": "https://localhost:8080/",
          "height": 282
        },
        "outputId": "4d1d8761-27e9-4a68-8d59-fc6fb5575189"
      },
      "source": [
        "rh10 = df['rh (%)'][0:1439]\n",
        "rh10.plot()"
      ],
      "execution_count": 20,
      "outputs": [
        {
          "output_type": "execute_result",
          "data": {
            "text/plain": [
              "<matplotlib.axes._subplots.AxesSubplot at 0x7fdb35a7e4a8>"
            ]
          },
          "metadata": {
            "tags": []
          },
          "execution_count": 20
        },
        {
          "output_type": "display_data",
          "data": {
            "image/png": "[encoded data removed]",
            "text/plain": [
              "<Figure size 432x288 with 1 Axes>"
            ]
          },
          "metadata": {
            "tags": [],
            "needs_background": "light"
          }
        }
      ]
    },
    {
      "cell_type": "markdown",
      "metadata": {
        "id": "LahnMpBpAwRN",
        "colab_type": "text"
      },
      "source": [
        "With a more narrow view of the data, we can see daily periodicity. We also see that fluctuation is pretty chaotic. That is, we don't see a stable pattern."
      ]
    },
    {
      "cell_type": "markdown",
      "metadata": {
        "id": "vXlVRhIBG-kT",
        "colab_type": "text"
      },
      "source": [
        "Explore relative humidity by time step at a granular level:"
      ]
    },
    {
      "cell_type": "code",
      "metadata": {
        "id": "_t8XU6MNGOzR",
        "colab_type": "code",
        "colab": {
          "base_uri": "https://localhost:8080/",
          "height": 204
        },
        "outputId": "9e06f636-dec3-485b-cb9e-af9b366178fc"
      },
      "source": [
        "df[['Date Time','rh (%)']].head()"
      ],
      "execution_count": 21,
      "outputs": [
        {
          "output_type": "execute_result",
          "data": {
            "text/html": [
              "<div>\n",
              "<style scoped>\n",
              "    .dataframe tbody tr th:only-of-type {\n",
              "        vertical-align: middle;\n",
              "    }\n",
              "\n",
              "    .dataframe tbody tr th {\n",
              "        vertical-align: top;\n",
              "    }\n",
              "\n",
              "    .dataframe thead th {\n",
              "        text-align: right;\n",
              "    }\n",
              "</style>\n",
              "<table border=\"1\" class=\"dataframe\">\n",
              "  <thead>\n",
              "    <tr style=\"text-align: right;\">\n",
              "      <th></th>\n",
              "      <th>Date Time</th>\n",
              "      <th>rh (%)</th>\n",
              "    </tr>\n",
              "  </thead>\n",
              "  <tbody>\n",
              "    <tr>\n",
              "      <th>0</th>\n",
              "      <td>01.01.2009 00:10:00</td>\n",
              "      <td>93.3</td>\n",
              "    </tr>\n",
              "    <tr>\n",
              "      <th>1</th>\n",
              "      <td>01.01.2009 00:20:00</td>\n",
              "      <td>93.4</td>\n",
              "    </tr>\n",
              "    <tr>\n",
              "      <th>2</th>\n",
              "      <td>01.01.2009 00:30:00</td>\n",
              "      <td>93.9</td>\n",
              "    </tr>\n",
              "    <tr>\n",
              "      <th>3</th>\n",
              "      <td>01.01.2009 00:40:00</td>\n",
              "      <td>94.2</td>\n",
              "    </tr>\n",
              "    <tr>\n",
              "      <th>4</th>\n",
              "      <td>01.01.2009 00:50:00</td>\n",
              "      <td>94.1</td>\n",
              "    </tr>\n",
              "  </tbody>\n",
              "</table>\n",
              "</div>"
            ],
            "text/plain": [
              "             Date Time  rh (%)\n",
              "0  01.01.2009 00:10:00    93.3\n",
              "1  01.01.2009 00:20:00    93.4\n",
              "2  01.01.2009 00:30:00    93.9\n",
              "3  01.01.2009 00:40:00    94.2\n",
              "4  01.01.2009 00:50:00    94.1"
            ]
          },
          "metadata": {
            "tags": []
          },
          "execution_count": 21
        }
      ]
    },
    {
      "cell_type": "markdown",
      "metadata": {
        "id": "LLHmwHR3HxDv",
        "colab_type": "text"
      },
      "source": [
        "We can do the same exploration by setting an index:"
      ]
    },
    {
      "cell_type": "code",
      "metadata": {
        "id": "HIlD4PIOHxLd",
        "colab_type": "code",
        "colab": {
          "base_uri": "https://localhost:8080/",
          "height": 136
        },
        "outputId": "d4a963bf-c4f9-4f6c-9280-fc1c49944ef2"
      },
      "source": [
        "rh_dt = rh\n",
        "rh_dt.index = df['Date Time']\n",
        "rh_dt.head()"
      ],
      "execution_count": 22,
      "outputs": [
        {
          "output_type": "execute_result",
          "data": {
            "text/plain": [
              "Date Time\n",
              "01.01.2009 00:10:00    93.3\n",
              "01.01.2009 00:20:00    93.4\n",
              "01.01.2009 00:30:00    93.9\n",
              "01.01.2009 00:40:00    94.2\n",
              "01.01.2009 00:50:00    94.1\n",
              "Name: rh (%), dtype: float64"
            ]
          },
          "metadata": {
            "tags": []
          },
          "execution_count": 22
        }
      ]
    },
    {
      "cell_type": "markdown",
      "metadata": {
        "id": "9D6ccP4C2SEJ",
        "colab_type": "text"
      },
      "source": [
        "# Forecast a Univariate Time Series"
      ]
    },
    {
      "cell_type": "markdown",
      "metadata": {
        "id": "qlCTAqweBN8d",
        "colab_type": "text"
      },
      "source": [
        "## Scale Data"
      ]
    },
    {
      "cell_type": "markdown",
      "metadata": {
        "id": "b1S09E2H10M6",
        "colab_type": "text"
      },
      "source": [
        "\n",
        "Convert dataframe data into numpy arrays."
      ]
    },
    {
      "cell_type": "code",
      "metadata": {
        "id": "gDP6dzqJBfnd",
        "colab_type": "code",
        "colab": {}
      },
      "source": [
        "rh_np = rh.to_numpy()"
      ],
      "execution_count": 23,
      "outputs": []
    },
    {
      "cell_type": "markdown",
      "metadata": {
        "id": "NWW_Wym5y7W2",
        "colab_type": "text"
      },
      "source": [
        "Scale numpy data for efficient training. Scaling ensures small values on similar scales."
      ]
    },
    {
      "cell_type": "code",
      "metadata": {
        "id": "OF81tGSoCYo3",
        "colab_type": "code",
        "colab": {
          "base_uri": "https://localhost:8080/",
          "height": 119
        },
        "outputId": "85578720-ff0b-4fc3-ce69-15984bfe443d"
      },
      "source": [
        "br ='\\n'\n",
        "\n",
        "# original data\n",
        "print ('first five unscaled observations:', rh_np, br)\n",
        "\n",
        "# scale relative humidity data\n",
        "rh_scaled = tf.keras.utils.normalize(rh_np)\n",
        "print ('shape after tf function:', rh_scaled.shape)\n",
        "\n",
        "# squeeze out '1' dimension\n",
        "rh_scaled = tf.squeeze(rh_scaled)\n",
        "print ('shape after squeeze:', rh_scaled.shape, br)\n",
        "\n",
        "# convert to numpy\n",
        "rh_scaled = rh_scaled.numpy()\n",
        "print ('first five scaled observations:', rh_scaled[:5])"
      ],
      "execution_count": 24,
      "outputs": [
        {
          "output_type": "stream",
          "text": [
            "first five unscaled observations: [93.3  93.4  93.9  ... 67.91 71.8  75.7 ] \n",
            "\n",
            "shape after tf function: (1, 420551)\n",
            "shape after squeeze: (420551,) \n",
            "\n",
            "first five scaled observations: [0.00184987 0.00185185 0.00186176 0.00186771 0.00186573]\n"
          ],
          "name": "stdout"
        }
      ]
    },
    {
      "cell_type": "markdown",
      "metadata": {
        "id": "PMDgH6s7MY6O",
        "colab_type": "text"
      },
      "source": [
        "Begin by scaling relative humidity data. Squeeze out the extra *1* dimension added by the TensorFlow function so we can convert the TensorFlow tensor into a numpy array for easier processing. Display the first five scaled observations to verify that scaling worked as planned."
      ]
    },
    {
      "cell_type": "markdown",
      "metadata": {
        "id": "seMG11Z7BhSs",
        "colab_type": "text"
      },
      "source": [
        "## Establish Training Data Split"
      ]
    },
    {
      "cell_type": "code",
      "metadata": {
        "id": "hZpc3H2GBhbu",
        "colab_type": "code",
        "colab": {
          "base_uri": "https://localhost:8080/",
          "height": 34
        },
        "outputId": "ac8e6ad0-6edc-4069-8ab2-e5e0127f9841"
      },
      "source": [
        "import numpy as np\n",
        "\n",
        "# train split\n",
        "train_split = int(np.round(df.shape[0] * .75))\n",
        "train_split"
      ],
      "execution_count": 25,
      "outputs": [
        {
          "output_type": "execute_result",
          "data": {
            "text/plain": [
              "315413"
            ]
          },
          "metadata": {
            "tags": []
          },
          "execution_count": 25
        }
      ]
    },
    {
      "cell_type": "code",
      "metadata": {
        "id": "DPN9xTwRBs4r",
        "colab_type": "code",
        "colab": {
          "base_uri": "https://localhost:8080/",
          "height": 34
        },
        "outputId": "a395366f-9d61-47aa-fede-da1b59a52efb"
      },
      "source": [
        "# test split\n",
        "df.shape[0] - train_split"
      ],
      "execution_count": 26,
      "outputs": [
        {
          "output_type": "execute_result",
          "data": {
            "text/plain": [
              "105138"
            ]
          },
          "metadata": {
            "tags": []
          },
          "execution_count": 26
        }
      ]
    },
    {
      "cell_type": "code",
      "metadata": {
        "id": "KGAN0Pl0By-i",
        "colab_type": "code",
        "colab": {
          "base_uri": "https://localhost:8080/",
          "height": 51
        },
        "outputId": "e83289bb-ace4-4939-a7b8-bfabd7f17119"
      },
      "source": [
        "# calculate number of days of data\n",
        "\n",
        "print (np.round(train_split / 144, 2))\n",
        "print (np.round((df.shape[0] - train_split) / 144), 2)"
      ],
      "execution_count": 27,
      "outputs": [
        {
          "output_type": "stream",
          "text": [
            "2190.37\n",
            "730.0 2\n"
          ],
          "name": "stdout"
        }
      ]
    },
    {
      "cell_type": "markdown",
      "metadata": {
        "id": "zozuAyHWB3-4",
        "colab_type": "text"
      },
      "source": [
        "For this experiment, use the first 315,413 rows of the data for training and the remaining 105,138 (420,551 - 315,413) rows for the test set. So, training data accounts for about 2,190 (315, 413 / 144) days of data. And, test data accounts for about 730 days of data."
      ]
    },
    {
      "cell_type": "markdown",
      "metadata": {
        "id": "QqEkQarO_CZ9",
        "colab_type": "text"
      },
      "source": [
        "## Split Data into Features and Labels"
      ]
    },
    {
      "cell_type": "markdown",
      "metadata": {
        "id": "ktGm_zvP_SRC",
        "colab_type": "text"
      },
      "source": [
        "Create a function that splits the dataset into features and labels."
      ]
    },
    {
      "cell_type": "code",
      "metadata": {
        "id": "ZQNgd9Nq_CiJ",
        "colab_type": "code",
        "colab": {}
      },
      "source": [
        "def create_datasets(data, origin, end, window, target_size):\n",
        "\n",
        "  # list to hold feature set of windows\n",
        "  features = []\n",
        "\n",
        "  # lost to hold labels\n",
        "  labels = []\n",
        "\n",
        "  # establish starting point that reflects window size\n",
        "  origin = origin + window\n",
        "\n",
        "  # enable split for test data\n",
        "  if end is None:\n",
        "    end = len(data) - target_size\n",
        "\n",
        "  # create feature set of 'window-sized' elements\n",
        "  for i in range(origin, end):\n",
        "\n",
        "    # create index set to identify each window\n",
        "    indices = range(i-window, i)\n",
        "\n",
        "    # reshape data from (window,) to (window, 1)\n",
        "    features.append(np.reshape(data[indices], (window, 1)))\n",
        "\n",
        "    # create labels\n",
        "    labels.append(data[i+target_size])\n",
        "\n",
        "  return np.array(features), np.array(labels)"
      ],
      "execution_count": 28,
      "outputs": []
    },
    {
      "cell_type": "markdown",
      "metadata": {
        "id": "RhS35lOHCYQt",
        "colab_type": "text"
      },
      "source": [
        "The function accepts a dataset, an index where we want to start, an ending index, the size of each window, and target size. Parameter **window** is the size of the past window of information. The **target_size** is how far in the future we want our model to learn how to predict.\n",
        "\n",
        "The function continues by creating a list to hold the feature data and another to hold the labels. Next, it establishes the starting point that reflects the window size. To enable creating a test set, the function checks the 'end' value. If it is 'None', the function uses the length of the entire dataset as the ending value so the test set can start where the training set left off up to the ending value.\n",
        "\n",
        "Once training and test starting points are established, the function creates the feature windows and labels. The *indices* for each feature window is established as the window size. Each subsequent set of *indices* begins where the last set ended. Feature windows are reshaped for TensorFlow consumption and added to the *features* list. Labels are created as the last observation in the next window and then added to the *labels* list. Both features and labels are returned as numpy arrays.\n",
        "\n",
        "The function may seem confusing, but all it really does is create a dataset that holds relative humidities (for our experiment) and another that holds targets. Targets are based on the last relative humidity from the next window of data. This makes sense because the last relative humidity from the next window is a pretty good prediction of future relative humidity.\n",
        "\n",
        "So, the feature set becomes a set of windows that contain time step observations. And, the label set contains predictions for each window."
      ]
    },
    {
      "cell_type": "markdown",
      "metadata": {
        "id": "efXejRDLO4Qo",
        "colab_type": "text"
      },
      "source": [
        "## Create Train and Test Sets\n",
        "\n",
        "For the train set, we start at index 0 from the dataset and continue up to 315,413. For the test set, we take the remainder. We set the window size to 20 and target to 0."
      ]
    },
    {
      "cell_type": "markdown",
      "metadata": {
        "id": "HI65iUYRPR5O",
        "colab_type": "text"
      },
      "source": [
        "Invoke the function:"
      ]
    },
    {
      "cell_type": "code",
      "metadata": {
        "id": "zUOk18ASO4W8",
        "colab_type": "code",
        "colab": {}
      },
      "source": [
        "# create train and test sets\n",
        "\n",
        "import numpy as np\n",
        "\n",
        "window = 20\n",
        "target = 0\n",
        "\n",
        "x_train, y_train = create_datasets(rh_scaled, 0, train_split,\n",
        "                                   window, target)\n",
        "\n",
        "x_test, y_test = create_datasets(rh_scaled, train_split, None,\n",
        "                                 window, target)"
      ],
      "execution_count": 29,
      "outputs": []
    },
    {
      "cell_type": "markdown",
      "metadata": {
        "id": "TkR_ikc2O4em",
        "colab_type": "text"
      },
      "source": [
        "Inspect train and test data:"
      ]
    },
    {
      "cell_type": "code",
      "metadata": {
        "id": "E_ctNJrKO4lb",
        "colab_type": "code",
        "colab": {
          "base_uri": "https://localhost:8080/",
          "height": 51
        },
        "outputId": "f228fb31-f6f5-4cc8-a8a2-26dc38a2f44e"
      },
      "source": [
        "print ('train:', end=' ')\n",
        "print (x_train.shape, y_train.shape)\n",
        "\n",
        "print ('test:', end=' ')\n",
        "print (x_test.shape, y_test.shape)"
      ],
      "execution_count": 30,
      "outputs": [
        {
          "output_type": "stream",
          "text": [
            "train: (315393, 20, 1) (315393,)\n",
            "test: (105118, 20, 1) (105118,)\n"
          ],
          "name": "stdout"
        }
      ]
    },
    {
      "cell_type": "markdown",
      "metadata": {
        "id": "8Ynt-3hpP72r",
        "colab_type": "text"
      },
      "source": [
        "As expected, the shapes reflect size of each dataset, window size, and the *1* dimension. The *1* dimension indicates that we are making one prediction into the future. We see that the train set contains 315,393 data records composed of windows of 20 relative humidity readings. And, the test set contains 105,118 data records composed of windows of 20 relative humidity readings.\n",
        "\n",
        "So, why do we have 315,393 training observations instead of the original 315,413? Just subtract the first window of 20 from 315,413. For test data, subtract the first window of 20 from 105,138 to get 105,118.\n",
        "\n",
        "We can create bigger windows, but this dramatically increases the amount of data we must process. With only 20 observations per window, we already have 6,307,860 (315,393 x 20) data points for training and 2,102,360 (105,118 x 20) data points for testing!"
      ]
    },
    {
      "cell_type": "markdown",
      "metadata": {
        "id": "mWq7qVVoStUF",
        "colab_type": "text"
      },
      "source": [
        "## View Windows of Past History"
      ]
    },
    {
      "cell_type": "code",
      "metadata": {
        "id": "tZDzbgnjStZ6",
        "colab_type": "code",
        "colab": {
          "base_uri": "https://localhost:8080/",
          "height": 459
        },
        "outputId": "1b6561e4-3108-460b-9f01-4b5917dfcd7d"
      },
      "source": [
        "print ('length of window:', len(x_train[0]), br)\n",
        "print ('first window of past history:')\n",
        "print (x_train[0], br)\n",
        "print ('target relative humidity to predict:')\n",
        "print (y_train[0])"
      ],
      "execution_count": 31,
      "outputs": [
        {
          "output_type": "stream",
          "text": [
            "length of window: 20 \n",
            "\n",
            "first window of past history:\n",
            "[[0.00184987]\n",
            " [0.00185185]\n",
            " [0.00186176]\n",
            " [0.00186771]\n",
            " [0.00186573]\n",
            " [0.00187168]\n",
            " [0.00187961]\n",
            " [0.00187168]\n",
            " [0.00185978]\n",
            " [0.0018459 ]\n",
            " [0.0018459 ]\n",
            " [0.00184788]\n",
            " [0.00185383]\n",
            " [0.00185383]\n",
            " [0.00186176]\n",
            " [0.00185582]\n",
            " [0.00185383]\n",
            " [0.00185383]\n",
            " [0.00185383]\n",
            " [0.00184987]] \n",
            "\n",
            "target relative humidity to predict:\n",
            "0.0018518500991722392\n"
          ],
          "name": "stdout"
        }
      ]
    },
    {
      "cell_type": "markdown",
      "metadata": {
        "id": "qK5mJ8hkStfs",
        "colab_type": "text"
      },
      "source": [
        "As expected, the first data window contains 20 relative humidity readings. So, how did we get the target?"
      ]
    },
    {
      "cell_type": "markdown",
      "metadata": {
        "id": "u4pFqwecUFhB",
        "colab_type": "text"
      },
      "source": [
        "Just take the last entry from the next window:"
      ]
    },
    {
      "cell_type": "code",
      "metadata": {
        "id": "5hXbwudPStmE",
        "colab_type": "code",
        "colab": {
          "base_uri": "https://localhost:8080/",
          "height": 51
        },
        "outputId": "a782e186-2f01-479d-bca9-9ca18ad4e78a"
      },
      "source": [
        "print ('target from the 1st window:', end='   ')\n",
        "print (np.round(y_train[0], 8))\n",
        "print ('last obs from the 2nd window:', end=' ')\n",
        "print (np.round(x_train[1][19][0], 8))"
      ],
      "execution_count": 32,
      "outputs": [
        {
          "output_type": "stream",
          "text": [
            "target from the 1st window:   0.00185185\n",
            "last obs from the 2nd window: 0.00185185\n"
          ],
          "name": "stdout"
        }
      ]
    },
    {
      "cell_type": "markdown",
      "metadata": {
        "id": "iki-zw2WUXyZ",
        "colab_type": "text"
      },
      "source": [
        "Verify by inspecting the second window:"
      ]
    },
    {
      "cell_type": "code",
      "metadata": {
        "id": "acNqRbM1UX6A",
        "colab_type": "code",
        "colab": {
          "base_uri": "https://localhost:8080/",
          "height": 425
        },
        "outputId": "4f758a6b-43fa-45a0-a6a5-78e4bc9386dd"
      },
      "source": [
        "print ('second window of past history:')\n",
        "print (x_train[1], br)\n",
        "print ('target relative humidity to predict:')\n",
        "print (y_train[1])"
      ],
      "execution_count": 33,
      "outputs": [
        {
          "output_type": "stream",
          "text": [
            "second window of past history:\n",
            "[[0.00185185]\n",
            " [0.00186176]\n",
            " [0.00186771]\n",
            " [0.00186573]\n",
            " [0.00187168]\n",
            " [0.00187961]\n",
            " [0.00187168]\n",
            " [0.00185978]\n",
            " [0.0018459 ]\n",
            " [0.0018459 ]\n",
            " [0.00184788]\n",
            " [0.00185383]\n",
            " [0.00185383]\n",
            " [0.00186176]\n",
            " [0.00185582]\n",
            " [0.00185383]\n",
            " [0.00185383]\n",
            " [0.00185383]\n",
            " [0.00184987]\n",
            " [0.00185185]] \n",
            "\n",
            "target relative humidity to predict:\n",
            "0.0018459019725153689\n"
          ],
          "name": "stdout"
        }
      ]
    },
    {
      "cell_type": "markdown",
      "metadata": {
        "id": "MxYXtFd9T8YP",
        "colab_type": "text"
      },
      "source": [
        "Let's see if this pattern holds for the second and third windows:"
      ]
    },
    {
      "cell_type": "code",
      "metadata": {
        "id": "dxq-dQyMT8gJ",
        "colab_type": "code",
        "colab": {
          "base_uri": "https://localhost:8080/",
          "height": 102
        },
        "outputId": "d3e19a61-644f-479f-e224-9340505c27e1"
      },
      "source": [
        "print ('target from the 2nd window:', end='   ')\n",
        "print (np.round(y_train[1], 8))\n",
        "print ('last obs from the 3rd window:', end=' ')\n",
        "print (np.round(x_train[2][19][0], 8), br)\n",
        "\n",
        "print ('target from the 3rd window:', end='   ')\n",
        "print (np.round(y_train[2], 8))\n",
        "print ('last obs from the 4th window:', end=' ')\n",
        "print (np.round(x_train[3][19][0], 8))"
      ],
      "execution_count": 34,
      "outputs": [
        {
          "output_type": "stream",
          "text": [
            "target from the 2nd window:   0.0018459\n",
            "last obs from the 3rd window: 0.0018459 \n",
            "\n",
            "target from the 3rd window:   0.00183202\n",
            "last obs from the 4th window: 0.00183202\n"
          ],
          "name": "stdout"
        }
      ]
    },
    {
      "cell_type": "markdown",
      "metadata": {
        "id": "gj_t835fTnSc",
        "colab_type": "text"
      },
      "source": [
        "Just to be sure, inspect the pattern for the fourth and fifth windows:"
      ]
    },
    {
      "cell_type": "code",
      "metadata": {
        "id": "Ig3BwEQ-jOcB",
        "colab_type": "code",
        "colab": {
          "base_uri": "https://localhost:8080/",
          "height": 102
        },
        "outputId": "d9c6480e-c15f-45e9-c0c5-e3edc05dbdcb"
      },
      "source": [
        "print ('target from the 4th window:', end='   ')\n",
        "print (np.round(y_train[3], 8))\n",
        "print ('last obs from the fifth window:', end=' ')\n",
        "print (np.round(x_train[4][19][0], 8), br)\n",
        "\n",
        "print ('target from the 5th window:', end='   ')\n",
        "print (np.round(y_train[4], 8))\n",
        "print ('last obs from the 6th window:', end=' ')\n",
        "print (np.round(x_train[5][19][0], 8))"
      ],
      "execution_count": 35,
      "outputs": [
        {
          "output_type": "stream",
          "text": [
            "target from the 4th window:   0.00183599\n",
            "last obs from the fifth window: 0.00183599 \n",
            "\n",
            "target from the 5th window:   0.00182806\n",
            "last obs from the 6th window: 0.00182806\n"
          ],
          "name": "stdout"
        }
      ]
    },
    {
      "cell_type": "markdown",
      "metadata": {
        "id": "JSF9KU58Tnd1",
        "colab_type": "text"
      },
      "source": [
        "## Plot Single Example"
      ]
    },
    {
      "cell_type": "markdown",
      "metadata": {
        "id": "n-NpNyliWofv",
        "colab_type": "text"
      },
      "source": [
        "Create a function that returns a list of timesteps beginning at *-length* to *0*."
      ]
    },
    {
      "cell_type": "code",
      "metadata": {
        "id": "zo3HqYqRTnkO",
        "colab_type": "code",
        "colab": {}
      },
      "source": [
        "def create_time_steps(length):\n",
        "  return list(range(-length, 0))"
      ],
      "execution_count": 36,
      "outputs": []
    },
    {
      "cell_type": "markdown",
      "metadata": {
        "id": "a7MrJVPxTnr4",
        "colab_type": "text"
      },
      "source": [
        "Create another function that accepts a single data window and its associated target, delta, and a title. Parameter **delta** is used to indicate a variation in a variable. The function plots each element in the data window with its associated time step."
      ]
    },
    {
      "cell_type": "code",
      "metadata": {
        "id": "rbK9IXZjTnxg",
        "colab_type": "code",
        "colab": {}
      },
      "source": [
        "def plot(plot_data, delta=0, title='Data Window'):  \n",
        "  labels = ['history', 'actual future', 'model prediction']\n",
        "  marker = ['r.-', 'b*', 'g>']\n",
        "  time_steps = create_time_steps(plot_data[0].shape[0])\n",
        "  if delta: future = delta\n",
        "  else: future = 0\n",
        "  plt.title(title)\n",
        "  for i, obs in enumerate(plot_data):\n",
        "    if i:\n",
        "      plt.plot(future, obs, marker[i], markersize=10,\n",
        "               label=labels[i])\n",
        "    else:\n",
        "      plt.plot(time_steps, obs.flatten(), marker[i],\n",
        "               label=labels[i])\n",
        "  plt.legend()\n",
        "  plt.xlim([time_steps[0], (future+5)*2])\n",
        "  plt.xlabel('time step')\n",
        "  return plt"
      ],
      "execution_count": 39,
      "outputs": []
    },
    {
      "cell_type": "markdown",
      "metadata": {
        "id": "FTBREiK0W7YI",
        "colab_type": "text"
      },
      "source": [
        "Invoke the function based on the first data window and target from the train set:"
      ]
    },
    {
      "cell_type": "code",
      "metadata": {
        "id": "WFsz4jLIW7eg",
        "colab_type": "code",
        "colab": {
          "base_uri": "https://localhost:8080/",
          "height": 312
        },
        "outputId": "fffa5039-114b-4af9-990b-4cd1e4548b73"
      },
      "source": [
        "plot([x_train[0], y_train[0]])"
      ],
      "execution_count": 40,
      "outputs": [
        {
          "output_type": "execute_result",
          "data": {
            "text/plain": [
              "<module 'matplotlib.pyplot' from '/usr/local/lib/python3.6/dist-packages/matplotlib/pyplot.py'>"
            ]
          },
          "metadata": {
            "tags": []
          },
          "execution_count": 40
        },
        {
          "output_type": "display_data",
          "data": {
            "image/png": "[encoded data removed]",
            "text/plain": [
              "<Figure size 432x288 with 1 Axes>"
            ]
          },
          "metadata": {
            "tags": [],
            "needs_background": "light"
          }
        }
      ]
    },
    {
      "cell_type": "markdown",
      "metadata": {
        "id": "v0NNFAv7W7k3",
        "colab_type": "text"
      },
      "source": [
        "We assume that delta is 0. It looks like our trend is pretty good, but we shouldn't get overconfident since relative humidity doesn't fluctuate wildy from one time step to the next. Actually, we set up our data this way because we created creating targets based on the last entry of the next window."
      ]
    },
    {
      "cell_type": "markdown",
      "metadata": {
        "id": "AbcV754vXfpz",
        "colab_type": "text"
      },
      "source": [
        "## Create a Visual Performance Baseline\n",
        "\n",
        "Before training our model, it is a good idea to create a simple visual performance baseline to compare against model performance. Of course, there are many ways to do this, but a very simple way is to use the average of the last 20 observations."
      ]
    },
    {
      "cell_type": "markdown",
      "metadata": {
        "id": "c1nZ2tWnXqjk",
        "colab_type": "text"
      },
      "source": [
        " Create a function that returns the average of a window of observations:"
      ]
    },
    {
      "cell_type": "code",
      "metadata": {
        "id": "aD_-riYvW7rE",
        "colab_type": "code",
        "colab": {}
      },
      "source": [
        "def baseline(history):\n",
        "  return np.mean(history)"
      ],
      "execution_count": 41,
      "outputs": []
    },
    {
      "cell_type": "markdown",
      "metadata": {
        "id": "HrsZGCu1W7wS",
        "colab_type": "text"
      },
      "source": [
        "Plot the first data window adding our baseline prediction."
      ]
    },
    {
      "cell_type": "code",
      "metadata": {
        "id": "JRVy_1A5W73C",
        "colab_type": "code",
        "colab": {
          "base_uri": "https://localhost:8080/",
          "height": 312
        },
        "outputId": "2263a985-12d0-4b3c-f12d-ba8a7693324c"
      },
      "source": [
        "plot([x_train[0], y_train[0], baseline(x_train[0])], 0,\n",
        "     'baseline prediciton')"
      ],
      "execution_count": 42,
      "outputs": [
        {
          "output_type": "execute_result",
          "data": {
            "text/plain": [
              "<module 'matplotlib.pyplot' from '/usr/local/lib/python3.6/dist-packages/matplotlib/pyplot.py'>"
            ]
          },
          "metadata": {
            "tags": []
          },
          "execution_count": 42
        },
        {
          "output_type": "display_data",
          "data": {
            "image/png": "[encoded data removed]",
            "text/plain": [
              "<Figure size 432x288 with 1 Axes>"
            ]
          },
          "metadata": {
            "tags": [],
            "needs_background": "light"
          }
        }
      ]
    },
    {
      "cell_type": "markdown",
      "metadata": {
        "id": "OQeyEG1gX5xC",
        "colab_type": "text"
      },
      "source": [
        "Now, we have a visual baseline to compare against our model."
      ]
    },
    {
      "cell_type": "markdown",
      "metadata": {
        "id": "5-Olu4qMO4ro",
        "colab_type": "text"
      },
      "source": [
        "## Create a Baseline Metric\n",
        "\n",
        "It's also a good idea to create a metric for the baseline. We can then numerically compare our model against the baseline metric. The simplest approach is to predict the last value for each window. We can then find the average mean squared error of the predictions and use this value as our metric."
      ]
    },
    {
      "cell_type": "code",
      "metadata": {
        "id": "XjRzFjSTO4yI",
        "colab_type": "code",
        "colab": {
          "base_uri": "https://localhost:8080/",
          "height": 102
        },
        "outputId": "a7503c5a-f712-4780-aeba-f2fb00bdeabd"
      },
      "source": [
        "# display shape of test set\n",
        "print ('TensorFlow shape:', x_test[0].shape, br)\n",
        "\n",
        "# remove '1' dimension for easier processing\n",
        "x_test_np = tf.squeeze(x_test)\n",
        "print ('numpy shape:', x_test_np[0].shape, br)\n",
        "\n",
        "# predict last value for each window\n",
        "y_pred = x_test_np[:, -1]\n",
        "\n",
        "# compute average MSE\n",
        "MSE = np.mean(tf.keras.losses.mean_squared_error(y_test, y_pred))\n",
        "print ('MSE:', MSE)"
      ],
      "execution_count": 43,
      "outputs": [
        {
          "output_type": "stream",
          "text": [
            "TensorFlow shape: (20, 1) \n",
            "\n",
            "numpy shape: (20,) \n",
            "\n",
            "MSE: 5.93914036657917e-10\n"
          ],
          "name": "stdout"
        }
      ]
    },
    {
      "cell_type": "markdown",
      "metadata": {
        "id": "cjtvdh1UYMgv",
        "colab_type": "text"
      },
      "source": [
        "Wow! The MSE is very small, which means that our baseline metric might be hard to beat. Why? In general, machine learning has a pretty significant limitation. Unless the learning algorithm is hardcoded to look for a specific kind of simple model, parameter learning can sometimes fail to find a simple solution to a simple problem. Our time series problem is really a very simple problem."
      ]
    },
    {
      "cell_type": "markdown",
      "metadata": {
        "id": "JMagzg2qO43g",
        "colab_type": "text"
      },
      "source": [
        "## RNN Forecasting Model\n",
        "\n",
        "A RNN is well-suited to time series data because its layers can provide feedback to earlier layers. Specifically, a RNN processes time series data time step by time step while remembering information it sees during training. Our model uses a GRU layer, which is a specialized RNN layer capable of remembering information over long periods of time. So, it is well-suited for time series modeling."
      ]
    },
    {
      "cell_type": "markdown",
      "metadata": {
        "id": "pAoUnBb9YfXY",
        "colab_type": "text"
      },
      "source": [
        "## Finish the Input Pipeline"
      ]
    },
    {
      "cell_type": "markdown",
      "metadata": {
        "id": "4fP7rbkJYnMR",
        "colab_type": "text"
      },
      "source": [
        " Shuffle (where appropriate), batch, and cache:"
      ]
    },
    {
      "cell_type": "code",
      "metadata": {
        "id": "mUh5sAjWO49i",
        "colab_type": "code",
        "colab": {}
      },
      "source": [
        "BATCH_SIZE = 256\n",
        "BUFFER_SIZE = 10000\n",
        "\n",
        "# prepare the train set\n",
        "train = tf.data.Dataset.from_tensor_slices((x_train, y_train))\n",
        "train_one = train.cache().shuffle(BUFFER_SIZE).batch(BATCH_SIZE).repeat()\n",
        "\n",
        "# prepare the test set\n",
        "test = tf.data.Dataset.from_tensor_slices((x_test, y_test))\n",
        "test_one = test.batch(BATCH_SIZE).repeat()"
      ],
      "execution_count": 46,
      "outputs": []
    },
    {
      "cell_type": "markdown",
      "metadata": {
        "id": "ulXyNg2VO5DR",
        "colab_type": "text"
      },
      "source": [
        "Inspect tensors:"
      ]
    },
    {
      "cell_type": "code",
      "metadata": {
        "id": "ByMAUur_O5Jx",
        "colab_type": "code",
        "colab": {
          "base_uri": "https://localhost:8080/",
          "height": 51
        },
        "outputId": "e40954b2-c003-4a65-8b80-4d810408dc6c"
      },
      "source": [
        "train_one, test_one"
      ],
      "execution_count": 47,
      "outputs": [
        {
          "output_type": "execute_result",
          "data": {
            "text/plain": [
              "(<RepeatDataset shapes: ((None, 20, 1), (None,)), types: (tf.float64, tf.float64)>,\n",
              " <RepeatDataset shapes: ((None, 20, 1), (None,)), types: (tf.float64, tf.float64)>)"
            ]
          },
          "metadata": {
            "tags": []
          },
          "execution_count": 47
        }
      ]
    },
    {
      "cell_type": "markdown",
      "metadata": {
        "id": "dB6WhYaNO5P1",
        "colab_type": "text"
      },
      "source": [
        "## Explore a Data Window"
      ]
    },
    {
      "cell_type": "markdown",
      "metadata": {
        "id": "RNaUvlD9ZM2Z",
        "colab_type": "text"
      },
      "source": [
        "Verify that features and labels are batched in 256 element windows:"
      ]
    },
    {
      "cell_type": "code",
      "metadata": {
        "id": "UUmUrUDTO5Vh",
        "colab_type": "code",
        "colab": {
          "base_uri": "https://localhost:8080/",
          "height": 34
        },
        "outputId": "87acbb55-1a52-40f5-b79d-5be3467fe318"
      },
      "source": [
        "for feature, label in train_one.take(1):\n",
        "  print (len(feature), len(label))"
      ],
      "execution_count": 48,
      "outputs": [
        {
          "output_type": "stream",
          "text": [
            "256 256\n"
          ],
          "name": "stdout"
        }
      ]
    },
    {
      "cell_type": "markdown",
      "metadata": {
        "id": "vb6gsaV8ZBz6",
        "colab_type": "text"
      },
      "source": [
        "Display the first window from the first batch:"
      ]
    },
    {
      "cell_type": "code",
      "metadata": {
        "id": "bTIBpVGYZB6g",
        "colab_type": "code",
        "colab": {
          "base_uri": "https://localhost:8080/",
          "height": 408
        },
        "outputId": "c1ba2534-9f02-44a3-c214-d2d0dafab41b"
      },
      "source": [
        "for feature, label in train_one.take(1):\n",
        "  print ('feature:')\n",
        "  print (feature[0].numpy(), br)\n",
        "  print ('label:', label[0].numpy())"
      ],
      "execution_count": 49,
      "outputs": [
        {
          "output_type": "stream",
          "text": [
            "feature:\n",
            "[[0.00125486]\n",
            " [0.00124474]\n",
            " [0.00121064]\n",
            " [0.00118209]\n",
            " [0.0011696 ]\n",
            " [0.00120687]\n",
            " [0.00124237]\n",
            " [0.00125803]\n",
            " [0.00126556]\n",
            " [0.00128638]\n",
            " [0.00130621]\n",
            " [0.00132921]\n",
            " [0.00135578]\n",
            " [0.00137263]\n",
            " [0.00138234]\n",
            " [0.00138988]\n",
            " [0.00141367]\n",
            " [0.00143548]\n",
            " [0.00145531]\n",
            " [0.00147514]] \n",
            "\n",
            "label: 0.0015068587530737705\n"
          ],
          "name": "stdout"
        }
      ]
    },
    {
      "cell_type": "markdown",
      "metadata": {
        "id": "p639qcyQZqjE",
        "colab_type": "text"
      },
      "source": [
        "As expected, the first window contains a feature set with 20 observations and a label with 1 prediction."
      ]
    },
    {
      "cell_type": "markdown",
      "metadata": {
        "id": "0CLJnZ0aZB_S",
        "colab_type": "text"
      },
      "source": [
        "## Create the Model"
      ]
    },
    {
      "cell_type": "markdown",
      "metadata": {
        "id": "qEKMo5OGZy0-",
        "colab_type": "text"
      },
      "source": [
        "Import requisite libraries and clear any previous model sessions:"
      ]
    },
    {
      "cell_type": "code",
      "metadata": {
        "id": "lVyuR2I9ZCFz",
        "colab_type": "code",
        "colab": {}
      },
      "source": [
        "# clear any previous models\n",
        "\n",
        "tf.keras.backend.clear_session()\n",
        "\n",
        "#import libraries\n",
        "\n",
        "from tensorflow.keras.models import Sequential\n",
        "from tensorflow.keras.layers import GRU, Dense"
      ],
      "execution_count": 50,
      "outputs": []
    },
    {
      "cell_type": "markdown",
      "metadata": {
        "id": "3nEFMPVVZCK-",
        "colab_type": "text"
      },
      "source": [
        "Establish the input shape:"
      ]
    },
    {
      "cell_type": "code",
      "metadata": {
        "id": "6zWCoKpaZCRA",
        "colab_type": "code",
        "colab": {
          "base_uri": "https://localhost:8080/",
          "height": 34
        },
        "outputId": "82ac2d2a-d32f-499e-d99d-102336bdb27c"
      },
      "source": [
        "input_shape = x_train.shape[-2:]\n",
        "input_shape"
      ],
      "execution_count": 51,
      "outputs": [
        {
          "output_type": "execute_result",
          "data": {
            "text/plain": [
              "(20, 1)"
            ]
          },
          "metadata": {
            "tags": []
          },
          "execution_count": 51
        }
      ]
    },
    {
      "cell_type": "markdown",
      "metadata": {
        "id": "ahELCHSPaC5y",
        "colab_type": "text"
      },
      "source": [
        "All is well because our input shape shows window size of 20 and includes the *1* dimension that shows that we are making a single prediction."
      ]
    },
    {
      "cell_type": "markdown",
      "metadata": {
        "id": "iGbylNlXaYg7",
        "colab_type": "text"
      },
      "source": [
        "Plant a seed for reproducibility and create the model:"
      ]
    },
    {
      "cell_type": "code",
      "metadata": {
        "id": "4ZoUdKd7aC_o",
        "colab_type": "code",
        "colab": {}
      },
      "source": [
        "# set seed to ensure reproducibility\n",
        "tf.random.set_seed(0)\n",
        "\n",
        "neurons = 32  # number of neurons in GRU layer\n",
        "\n",
        "model = Sequential([\n",
        "  GRU(neurons, input_shape=input_shape),\n",
        "  Dense(1)\n",
        "])"
      ],
      "execution_count": 52,
      "outputs": []
    },
    {
      "cell_type": "markdown",
      "metadata": {
        "id": "GYkxskloaDFF",
        "colab_type": "text"
      },
      "source": [
        "## Model Summary"
      ]
    },
    {
      "cell_type": "code",
      "metadata": {
        "id": "kljE1bvNaDLH",
        "colab_type": "code",
        "colab": {
          "base_uri": "https://localhost:8080/",
          "height": 221
        },
        "outputId": "7fd1d8e4-0424-40ec-e2c5-5a42f5b0b1f1"
      },
      "source": [
        "model.summary()"
      ],
      "execution_count": 53,
      "outputs": [
        {
          "output_type": "stream",
          "text": [
            "Model: \"sequential\"\n",
            "_________________________________________________________________\n",
            "Layer (type)                 Output Shape              Param #   \n",
            "=================================================================\n",
            "gru (GRU)                    (None, 32)                3360      \n",
            "_________________________________________________________________\n",
            "dense (Dense)                (None, 1)                 33        \n",
            "=================================================================\n",
            "Total params: 3,393\n",
            "Trainable params: 3,393\n",
            "Non-trainable params: 0\n",
            "_________________________________________________________________\n"
          ],
          "name": "stdout"
        }
      ]
    },
    {
      "cell_type": "markdown",
      "metadata": {
        "id": "Rv5rN0PdaoBW",
        "colab_type": "text"
      },
      "source": [
        "3 x (32 squared + 32 + 2 * 32)"
      ]
    },
    {
      "cell_type": "markdown",
      "metadata": {
        "id": "aLl9Do6DaDP9",
        "colab_type": "text"
      },
      "source": [
        "## Verify that the Model Output is Correct"
      ]
    },
    {
      "cell_type": "markdown",
      "metadata": {
        "id": "s5zgZ-3lbALE",
        "colab_type": "text"
      },
      "source": [
        "Make an untrained prediction from the model:"
      ]
    },
    {
      "cell_type": "code",
      "metadata": {
        "id": "Nj5UhH4paDWu",
        "colab_type": "code",
        "colab": {
          "base_uri": "https://localhost:8080/",
          "height": 34
        },
        "outputId": "eda7f88a-a19a-4270-ad0c-b3675b1d4e2d"
      },
      "source": [
        "for x, y in test_one.take(1):\n",
        "  print(model.predict(x).shape)"
      ],
      "execution_count": 54,
      "outputs": [
        {
          "output_type": "stream",
          "text": [
            "(256, 1)\n"
          ],
          "name": "stdout"
        }
      ]
    },
    {
      "cell_type": "markdown",
      "metadata": {
        "id": "DBldMdhuaDce",
        "colab_type": "text"
      },
      "source": [
        "The prediction shows batch size of 256 and 1. So, output of our model is working as expected."
      ]
    },
    {
      "cell_type": "markdown",
      "metadata": {
        "id": "2cnq0oADbuTh",
        "colab_type": "text"
      },
      "source": [
        "## Compile the Model"
      ]
    },
    {
      "cell_type": "code",
      "metadata": {
        "id": "pfjYBEOabudX",
        "colab_type": "code",
        "colab": {}
      },
      "source": [
        "model.compile(optimizer='adam', loss='mse')"
      ],
      "execution_count": 55,
      "outputs": []
    },
    {
      "cell_type": "markdown",
      "metadata": {
        "id": "PM84FJYubulv",
        "colab_type": "text"
      },
      "source": [
        "# Train the Model"
      ]
    },
    {
      "cell_type": "code",
      "metadata": {
        "id": "HIVXyCS4butd",
        "colab_type": "code",
        "colab": {
          "base_uri": "https://localhost:8080/",
          "height": 357
        },
        "outputId": "7e6590e4-f0e5-45a4-f5fa-ec37f71856aa"
      },
      "source": [
        "num_train_steps = 400\n",
        "epochs = 10\n",
        "\n",
        "history = model.fit(train_one, epochs=epochs,\n",
        "                    steps_per_epoch=num_train_steps,\n",
        "                    validation_data=test_one, validation_steps=50)"
      ],
      "execution_count": 56,
      "outputs": [
        {
          "output_type": "stream",
          "text": [
            "Epoch 1/10\n",
            "400/400 [==============================] - 2s 4ms/step - loss: 1.1659e-06 - val_loss: 2.0402e-08\n",
            "Epoch 2/10\n",
            "400/400 [==============================] - 1s 3ms/step - loss: 2.1958e-08 - val_loss: 1.1275e-08\n",
            "Epoch 3/10\n",
            "400/400 [==============================] - 1s 3ms/step - loss: 1.2079e-08 - val_loss: 5.9204e-09\n",
            "Epoch 4/10\n",
            "400/400 [==============================] - 1s 3ms/step - loss: 6.8642e-09 - val_loss: 3.2195e-09\n",
            "Epoch 5/10\n",
            "400/400 [==============================] - 1s 3ms/step - loss: 1.3179e-08 - val_loss: 1.6071e-08\n",
            "Epoch 6/10\n",
            "400/400 [==============================] - 1s 3ms/step - loss: 3.3547e-08 - val_loss: 9.6983e-09\n",
            "Epoch 7/10\n",
            "400/400 [==============================] - 1s 3ms/step - loss: 3.8275e-08 - val_loss: 1.1762e-07\n",
            "Epoch 8/10\n",
            "400/400 [==============================] - 1s 3ms/step - loss: 3.3392e-08 - val_loss: 1.7163e-09\n",
            "Epoch 9/10\n",
            "400/400 [==============================] - 1s 3ms/step - loss: 3.3516e-08 - val_loss: 5.1894e-08\n",
            "Epoch 10/10\n",
            "400/400 [==============================] - 1s 3ms/step - loss: 2.8514e-08 - val_loss: 1.2813e-08\n"
          ],
          "name": "stdout"
        }
      ]
    },
    {
      "cell_type": "markdown",
      "metadata": {
        "id": "ctEUbhPfbuzc",
        "colab_type": "text"
      },
      "source": [
        "## Generalize on Test Data"
      ]
    },
    {
      "cell_type": "code",
      "metadata": {
        "id": "CHuvqdUhcdtW",
        "colab_type": "code",
        "colab": {
          "base_uri": "https://localhost:8080/",
          "height": 34
        },
        "outputId": "de6d3b0b-2c87-40ee-ce81-610d9de3fac3"
      },
      "source": [
        "test_loss = model.evaluate(test_one, steps=num_train_steps)"
      ],
      "execution_count": 57,
      "outputs": [
        {
          "output_type": "stream",
          "text": [
            "400/400 [==============================] - 1s 2ms/step - loss: 1.1678e-08\n"
          ],
          "name": "stdout"
        }
      ]
    },
    {
      "cell_type": "markdown",
      "metadata": {
        "id": "egnsHG0rcqKN",
        "colab_type": "text"
      },
      "source": [
        "## Make Predictions\n",
        "\n",
        "Make as many predictions as you wish, but we limit the number of predictions to *3* for demonstration purposes. "
      ]
    },
    {
      "cell_type": "code",
      "metadata": {
        "id": "yWJjRHwAcqUO",
        "colab_type": "code",
        "colab": {
          "base_uri": "https://localhost:8080/",
          "height": 851
        },
        "outputId": "073aa96b-2016-4590-85ef-c2a744b8a65c"
      },
      "source": [
        "n = 3\n",
        "title = 'GRU prediction'\n",
        "\n",
        "for i, (x, y) in enumerate(test_one.take(n)):\n",
        "  p = model.predict(x)[0]\n",
        "  plot([x[0].numpy(), y[0].numpy(), p], 0,\n",
        "       title + ' window ' + str(i))\n",
        "  plt.show()"
      ],
      "execution_count": 58,
      "outputs": [
        {
          "output_type": "display_data",
          "data": {
            "image/png": "[encoded data removed]",
            "text/plain": [
              "<Figure size 432x288 with 1 Axes>"
            ]
          },
          "metadata": {
            "tags": [],
            "needs_background": "light"
          }
        },
        {
          "output_type": "display_data",
          "data": {
            "image/png": "[encoded data removed]",
            "text/plain": [
              "<Figure size 432x288 with 1 Axes>"
            ]
          },
          "metadata": {
            "tags": [],
            "needs_background": "light"
          }
        },
        {
          "output_type": "display_data",
          "data": {
            "image/png": "[encoded data removed]",
            "text/plain": [
              "<Figure size 432x288 with 1 Axes>"
            ]
          },
          "metadata": {
            "tags": [],
            "needs_background": "light"
          }
        }
      ]
    },
    {
      "cell_type": "markdown",
      "metadata": {
        "id": "wWS7QtnicqZ2",
        "colab_type": "text"
      },
      "source": [
        "Visually, it doesn't appear that our model is predicting very well. But, the number range on the x-axis is very granular."
      ]
    },
    {
      "cell_type": "markdown",
      "metadata": {
        "id": "wasfZeN4dIoc",
        "colab_type": "text"
      },
      "source": [
        "## Plot Model Performance"
      ]
    },
    {
      "cell_type": "code",
      "metadata": {
        "id": "eCYsfG8IdIvg",
        "colab_type": "code",
        "colab": {
          "base_uri": "https://localhost:8080/",
          "height": 281
        },
        "outputId": "8c6bc0e4-f081-4f6e-8b38-50ece6d5cc82"
      },
      "source": [
        "loss = history.history['loss']\n",
        "val_loss = history.history['val_loss']\n",
        "\n",
        "epochs = range(1, len(loss) + 1)\n",
        "\n",
        "plt.figure()\n",
        "plt.plot(epochs, loss, 'bo', label='training loss')\n",
        "plt.plot(epochs, val_loss, 'b', label='validation loss')\n",
        "plt.title('training and validation loss')\n",
        "plt.legend()\n",
        "plt.show()"
      ],
      "execution_count": 59,
      "outputs": [
        {
          "output_type": "display_data",
          "data": {
            "image/png": "[encoded data removed]",
            "text/plain": [
              "<Figure size 432x288 with 1 Axes>"
            ]
          },
          "metadata": {
            "tags": [],
            "needs_background": "light"
          }
        }
      ]
    },
    {
      "cell_type": "markdown",
      "metadata": {
        "id": "4ivJx8NOdP8j",
        "colab_type": "text"
      },
      "source": [
        "Voilà! Our model looks pretty good!"
      ]
    },
    {
      "cell_type": "markdown",
      "metadata": {
        "id": "il1YzXYBLHJg",
        "colab_type": "text"
      },
      "source": [
        "# Forecast a Multivariate Time Series\n",
        "\n",
        "We just demonstrated how to forecast a single variable. Now, let's see how to forecast based on more than one variable. We can choose any of the 13 features (we don't want to predict from the timestep feature) from the DataFrame, but let's just look at three. Namely, 'Tdew (degC)', 'sh (g/kg)', and 'H2OC (mmol/mol)'. **Tdew (degC)** is the temperature in Celsius relative to humidity. **sh (g/kg)** is the specific humidity in grams per kilogram. **H2OC (mmol/mol)** is the water vapor concentration in millimoles per mole. And, **rho (g/m**3)** is the air density in grams per meter cubed.\n",
        "\n",
        "Let's create a variable to hold the features that we wish to consider for our multivariate time series experiment."
      ]
    },
    {
      "cell_type": "code",
      "metadata": {
        "id": "FO12in3V0NFr",
        "colab_type": "code",
        "colab": {}
      },
      "source": [
        "mv_features = ['Tdew (degC)', 'sh (g/kg)', 'H2OC (mmol/mol)', 'rho (g/m**3)']"
      ],
      "execution_count": 76,
      "outputs": []
    },
    {
      "cell_type": "code",
      "metadata": {
        "id": "1k-VqT8LeBS4",
        "colab_type": "code",
        "colab": {}
      },
      "source": [
        "mv_features = ['Tdew (degC)', 'sh (g/kg)', 'H2OC (mmol/mol)']"
      ],
      "execution_count": 62,
      "outputs": []
    },
    {
      "cell_type": "markdown",
      "metadata": {
        "id": "hugqcDrNfyxY",
        "colab_type": "text"
      },
      "source": [
        "Now, let's create a new DataFrame."
      ]
    },
    {
      "cell_type": "code",
      "metadata": {
        "id": "L0DGLgjQf2R0",
        "colab_type": "code",
        "colab": {
          "base_uri": "https://localhost:8080/",
          "height": 235
        },
        "outputId": "2a7a4f89-95cd-4755-9660-edc640a461df"
      },
      "source": [
        "mv_features = df[mv_features]\n",
        "mv_features.index = df['Date Time']\n",
        "mv_features.head()"
      ],
      "execution_count": 77,
      "outputs": [
        {
          "output_type": "execute_result",
          "data": {
            "text/html": [
              "<div>\n",
              "<style scoped>\n",
              "    .dataframe tbody tr th:only-of-type {\n",
              "        vertical-align: middle;\n",
              "    }\n",
              "\n",
              "    .dataframe tbody tr th {\n",
              "        vertical-align: top;\n",
              "    }\n",
              "\n",
              "    .dataframe thead th {\n",
              "        text-align: right;\n",
              "    }\n",
              "</style>\n",
              "<table border=\"1\" class=\"dataframe\">\n",
              "  <thead>\n",
              "    <tr style=\"text-align: right;\">\n",
              "      <th></th>\n",
              "      <th>Tdew (degC)</th>\n",
              "      <th>sh (g/kg)</th>\n",
              "      <th>H2OC (mmol/mol)</th>\n",
              "      <th>rho (g/m**3)</th>\n",
              "    </tr>\n",
              "    <tr>\n",
              "      <th>Date Time</th>\n",
              "      <th></th>\n",
              "      <th></th>\n",
              "      <th></th>\n",
              "      <th></th>\n",
              "    </tr>\n",
              "  </thead>\n",
              "  <tbody>\n",
              "    <tr>\n",
              "      <th>01.01.2009 00:10:00</th>\n",
              "      <td>-8.90</td>\n",
              "      <td>1.94</td>\n",
              "      <td>3.12</td>\n",
              "      <td>1307.75</td>\n",
              "    </tr>\n",
              "    <tr>\n",
              "      <th>01.01.2009 00:20:00</th>\n",
              "      <td>-9.28</td>\n",
              "      <td>1.89</td>\n",
              "      <td>3.03</td>\n",
              "      <td>1309.80</td>\n",
              "    </tr>\n",
              "    <tr>\n",
              "      <th>01.01.2009 00:30:00</th>\n",
              "      <td>-9.31</td>\n",
              "      <td>1.88</td>\n",
              "      <td>3.02</td>\n",
              "      <td>1310.24</td>\n",
              "    </tr>\n",
              "    <tr>\n",
              "      <th>01.01.2009 00:40:00</th>\n",
              "      <td>-9.07</td>\n",
              "      <td>1.92</td>\n",
              "      <td>3.08</td>\n",
              "      <td>1309.19</td>\n",
              "    </tr>\n",
              "    <tr>\n",
              "      <th>01.01.2009 00:50:00</th>\n",
              "      <td>-9.04</td>\n",
              "      <td>1.92</td>\n",
              "      <td>3.09</td>\n",
              "      <td>1309.00</td>\n",
              "    </tr>\n",
              "  </tbody>\n",
              "</table>\n",
              "</div>"
            ],
            "text/plain": [
              "                     Tdew (degC)  sh (g/kg)  H2OC (mmol/mol)  rho (g/m**3)\n",
              "Date Time                                                                 \n",
              "01.01.2009 00:10:00        -8.90       1.94             3.12       1307.75\n",
              "01.01.2009 00:20:00        -9.28       1.89             3.03       1309.80\n",
              "01.01.2009 00:30:00        -9.31       1.88             3.02       1310.24\n",
              "01.01.2009 00:40:00        -9.07       1.92             3.08       1309.19\n",
              "01.01.2009 00:50:00        -9.04       1.92             3.09       1309.00"
            ]
          },
          "metadata": {
            "tags": []
          },
          "execution_count": 77
        }
      ]
    },
    {
      "cell_type": "markdown",
      "metadata": {
        "id": "C1-QXfwKgFwv",
        "colab_type": "text"
      },
      "source": [
        "Pandas offers a very easy way to visualize. "
      ]
    },
    {
      "cell_type": "code",
      "metadata": {
        "id": "1cY68G15gF4s",
        "colab_type": "code",
        "colab": {
          "base_uri": "https://localhost:8080/",
          "height": 397
        },
        "outputId": "a40fe6f0-b9eb-49c3-cf09-7e961eb56bcc"
      },
      "source": [
        "mv_features.plot(subplots=True)"
      ],
      "execution_count": 78,
      "outputs": [
        {
          "output_type": "execute_result",
          "data": {
            "text/plain": [
              "array([<matplotlib.axes._subplots.AxesSubplot object at 0x7fdb0d32d4e0>,\n",
              "       <matplotlib.axes._subplots.AxesSubplot object at 0x7fdb0e1610f0>,\n",
              "       <matplotlib.axes._subplots.AxesSubplot object at 0x7fdb0e1102e8>,\n",
              "       <matplotlib.axes._subplots.AxesSubplot object at 0x7fdb0e0c4518>],\n",
              "      dtype=object)"
            ]
          },
          "metadata": {
            "tags": []
          },
          "execution_count": 78
        },
        {
          "output_type": "display_data",
          "data": {
            "image/png": "[encoded data removed]",
            "text/plain": [
              "<Figure size 432x288 with 4 Axes>"
            ]
          },
          "metadata": {
            "tags": [],
            "needs_background": "light"
          }
        }
      ]
    },
    {
      "cell_type": "markdown",
      "metadata": {
        "id": "ZRpJLr-n7tW1",
        "colab_type": "text"
      },
      "source": [
        "We can also visualize a single feature."
      ]
    },
    {
      "cell_type": "code",
      "metadata": {
        "id": "eefPYiAa7thT",
        "colab_type": "code",
        "colab": {
          "base_uri": "https://localhost:8080/",
          "height": 345
        },
        "outputId": "805f6d18-3ef8-4a0d-9181-0dd09a29057b"
      },
      "source": [
        "mv_features['H2OC (mmol/mol)'].plot(subplots=True)"
      ],
      "execution_count": 79,
      "outputs": [
        {
          "output_type": "execute_result",
          "data": {
            "text/plain": [
              "array([<matplotlib.axes._subplots.AxesSubplot object at 0x7fdb0e488ef0>],\n",
              "      dtype=object)"
            ]
          },
          "metadata": {
            "tags": []
          },
          "execution_count": 79
        },
        {
          "output_type": "display_data",
          "data": {
            "image/png": "[encoded data removed]",
            "text/plain": [
              "<Figure size 432x288 with 1 Axes>"
            ]
          },
          "metadata": {
            "tags": [],
            "needs_background": "light"
          }
        }
      ]
    },
    {
      "cell_type": "markdown",
      "metadata": {
        "id": "pTC0dvhUgn1H",
        "colab_type": "text"
      },
      "source": [
        "# Scale Data for TensorFlow Consumption\n",
        "\n",
        "First, convert DataFrame to numpy arrays."
      ]
    },
    {
      "cell_type": "code",
      "metadata": {
        "id": "PEH-ivZIgn7G",
        "colab_type": "code",
        "colab": {
          "base_uri": "https://localhost:8080/",
          "height": 102
        },
        "outputId": "641018fa-71df-4d98-dd61-ffe68daac819"
      },
      "source": [
        "# convert DataFrame to numpy arrays\n",
        "\n",
        "f_np = mv_features.to_numpy()\n",
        "f_np[:5]"
      ],
      "execution_count": 80,
      "outputs": [
        {
          "output_type": "execute_result",
          "data": {
            "text/plain": [
              "array([[  -8.9 ,    1.94,    3.12, 1307.75],\n",
              "       [  -9.28,    1.89,    3.03, 1309.8 ],\n",
              "       [  -9.31,    1.88,    3.02, 1310.24],\n",
              "       [  -9.07,    1.92,    3.08, 1309.19],\n",
              "       [  -9.04,    1.92,    3.09, 1309.  ]])"
            ]
          },
          "metadata": {
            "tags": []
          },
          "execution_count": 80
        }
      ]
    },
    {
      "cell_type": "markdown",
      "metadata": {
        "id": "QK4B8dur2M6G",
        "colab_type": "text"
      },
      "source": [
        "Let's see how many observations are in the dataset."
      ]
    },
    {
      "cell_type": "code",
      "metadata": {
        "id": "BxJhxsIY2Ewl",
        "colab_type": "code",
        "colab": {
          "base_uri": "https://localhost:8080/",
          "height": 34
        },
        "outputId": "8f53678c-f926-4b26-d733-814906d1d5af"
      },
      "source": [
        "len(f_np)"
      ],
      "execution_count": 81,
      "outputs": [
        {
          "output_type": "execute_result",
          "data": {
            "text/plain": [
              "420551"
            ]
          },
          "metadata": {
            "tags": []
          },
          "execution_count": 81
        }
      ]
    },
    {
      "cell_type": "markdown",
      "metadata": {
        "id": "k6FaO9_i26Kt",
        "colab_type": "text"
      },
      "source": [
        "As expected, we have 420,551 observations."
      ]
    },
    {
      "cell_type": "markdown",
      "metadata": {
        "id": "Euhhn7f-g4Wg",
        "colab_type": "text"
      },
      "source": [
        "Next, scale data and convert back to numpy arrays for easier processing."
      ]
    },
    {
      "cell_type": "code",
      "metadata": {
        "id": "NWb4pzEgg4fV",
        "colab_type": "code",
        "colab": {
          "base_uri": "https://localhost:8080/",
          "height": 136
        },
        "outputId": "c8abbf62-80c2-4517-8277-8224d4a302cc"
      },
      "source": [
        "# scale features\n",
        "f_scaled = tf.keras.utils.normalize(f_np)\n",
        "print ('shape after tf function:', f_scaled.shape, br)\n",
        "\n",
        "# squeeze\n",
        "f_scaled = tf.squeeze(f_scaled)\n",
        "\n",
        "# convert to numpy\n",
        "f_scaled = f_scaled.numpy()\n",
        "print ('first five scaled observation:', f_scaled[:5])"
      ],
      "execution_count": 82,
      "outputs": [
        {
          "output_type": "stream",
          "text": [
            "shape after tf function: (420551, 4) \n",
            "\n",
            "first five scaled observation: [[-0.0068054   0.00148342  0.00238571  0.9999729 ]\n",
            " [-0.00708485  0.00144293  0.00231326  0.99997119]\n",
            " [-0.00710536  0.00143481  0.00230485  0.99997107]\n",
            " [-0.00692775  0.00146651  0.00235253  0.99997216]\n",
            " [-0.00690584  0.00146673  0.00236052  0.99997229]]\n"
          ],
          "name": "stdout"
        }
      ]
    },
    {
      "cell_type": "markdown",
      "metadata": {
        "id": "OuURb5Nmh7s5",
        "colab_type": "text"
      },
      "source": [
        "# Multi-Step Model\n",
        "\n",
        "With relative humidity, we only predicted a single future point. But, we can create a model to learn to predict a range of future values, which is what we are going to do with the multivariate data we just established.\n",
        "\n",
        "Let's say that we want to train our multi-step model to learn to predict for the next 12 hours. Since our data time steps are 10 minutes (1 observation every 10 minutes), there are 6 observations every hour. Given that we want to predict for the next 12 hours, our model makes 72 (6 obs x 12) predictions.\n",
        "\n",
        "Let's also say that we want to show our model data from the last five (5) days for each sample. Since there are 24 hours in a day, we have 144 (6 x 24) observations each day. So, we have a total of 720 (5 x 144) observations. But, we want to sample every hour because we don't expect a drastic change in any of our features within 60 minutes. Thus, 120 (720 obs / 6 obs per hour) observations represents each window of data."
      ]
    },
    {
      "cell_type": "markdown",
      "metadata": {
        "id": "ieZDIEO6mSOD",
        "colab_type": "text"
      },
      "source": [
        "## Generators\n",
        "\n",
        "Since we are training multiple features to predict a range of future values, we create a generator function to create train and test splits. A **generator** is a function that returns an object iterator that we can iterate over one value at a time. A generator is defined like a normal function, but it generates a value with the *yield* keyword rather than *return*. So, adding the yield keyword automatically makes a function a generator.\n",
        "\n",
        "Generators are easy to implement, but a bit difficult to understand. We can invoke a generator in the same way as a regular function. But, when we invoke it a generator object is created. We must iterate over the generator object to see its contents. As we iterate over the generator object, all processes withing the function are processed until it reaches a 'yield' statement. Once this happens, the generator yields a new value from its contents and returns execution back to the 'for' loop. So, a generator yields one element from its contents for each cycle of a loop."
      ]
    },
    {
      "cell_type": "markdown",
      "metadata": {
        "id": "bqsLeMGOmdL7",
        "colab_type": "text"
      },
      "source": [
        "## Advantages of Using a Generator\n",
        "\n",
        "Generator functions allow us to declare a function that behaves like an iterator. So, we can make iterators in a fast, easy, and clean way. An **iterator** is an object that can be iterated upon. It is used to abstract a container of data to make it behave like an iterable object. As programmers, we use iterable objects like strings, lists, and dictionaries frequently.\n",
        "\n",
        "Generators save memory space because they don’t compute the value of each item when instantiated. Generators only compute a value when explicity asked to do so. Such behavior is known as **lazy evaluation**. Lazy evaluation is useful when we process large datasets because it allows us to start using data immediately rather than having to wait until the entire dataset is processed."
      ]
    },
    {
      "cell_type": "markdown",
      "metadata": {
        "id": "VkeisYz9mdRP",
        "colab_type": "text"
      },
      "source": [
        "## Generator Caveats\n",
        "\n",
        "* A generatore creates a single object. So, a generator object can only be assigned to a single variable no matter how many values it yields.\n",
        "* Once iterated over, a generator is extinguished. So, it must be rerun to be repopulated."
      ]
    },
    {
      "cell_type": "markdown",
      "metadata": {
        "id": "O3qVvjs7mrJx",
        "colab_type": "text"
      },
      "source": [
        "## Create a Generator Function"
      ]
    },
    {
      "cell_type": "code",
      "metadata": {
        "id": "lXkDt9Y7mwrh",
        "colab_type": "code",
        "colab": {}
      },
      "source": [
        "def generator(d, t, o, e, w, ts, s):\n",
        "\n",
        "  # hold features and labels\n",
        "  features, labels = [], []\n",
        "\n",
        "  # initialize variables\n",
        "  data, target = d, t\n",
        "  origin, end = o, e\n",
        "  window, target_size = w, ts\n",
        "  step = s\n",
        "\n",
        "  # establish starting point that reflects window size\n",
        "  origin = origin + window\n",
        "\n",
        "  # enable split for test data\n",
        "  if end < 0:\n",
        "    end = len(data) - target_size\n",
        "\n",
        "  # create feature set of 'window-sized' elements\n",
        "  for i in range(origin, end):\n",
        "\n",
        "    # create index set to identify each window\n",
        "    indices = range(i-window, i, step)\n",
        "\n",
        "    # create features\n",
        "    features.append(data[indices])\n",
        "\n",
        "    # create labels\n",
        "    labels.append(target[i:i+target_size])\n",
        "\n",
        "  yield np.array(features), np.array(labels)"
      ],
      "execution_count": 83,
      "outputs": []
    },
    {
      "cell_type": "markdown",
      "metadata": {
        "id": "OgSZnfXxmwww",
        "colab_type": "text"
      },
      "source": [
        "## Generate Train and Test Data\n",
        "\n",
        "Now, let's invoke the generator to create train and test sets. Notice that we assign the generator object to a single variable!"
      ]
    },
    {
      "cell_type": "code",
      "metadata": {
        "id": "_60ji_-Gmw2r",
        "colab_type": "code",
        "colab": {}
      },
      "source": [
        "window = 720  # observations for 5 days\n",
        "future_target = 72  # predictions for the next 12 hours\n",
        "step = 6  # number of timesteps per hour\n",
        "\n",
        "train_gen = generator(f_scaled, f_scaled[:, 1], 0, train_split,\n",
        "                      window, future_target, step)\n",
        "\n",
        "test_gen = generator(f_scaled, f_scaled[:, 1], train_split, -1,\n",
        "                     window, future_target, step)"
      ],
      "execution_count": 84,
      "outputs": []
    },
    {
      "cell_type": "markdown",
      "metadata": {
        "id": "hsItSCPEmw8Z",
        "colab_type": "text"
      },
      "source": [
        "Wow! Notice how much faster the generator creates the data sets."
      ]
    },
    {
      "cell_type": "markdown",
      "metadata": {
        "id": "QXe5Wg55mxFc",
        "colab_type": "text"
      },
      "source": [
        "# Reconstitute Generated Tensors\n",
        "\n",
        "Remake the generated data into numpy arrays. Begin with the train data by iterating the generator and creating train and test lists. "
      ]
    },
    {
      "cell_type": "code",
      "metadata": {
        "id": "qqnDCXz8mxCx",
        "colab_type": "code",
        "colab": {}
      },
      "source": [
        "train_f, train_l = [], []\n",
        "for i, row in enumerate(train_gen):\n",
        "  train_f.append(row[0])\n",
        "  train_l.append(row[1])"
      ],
      "execution_count": 85,
      "outputs": []
    },
    {
      "cell_type": "markdown",
      "metadata": {
        "id": "v3RRbvQJo1wC",
        "colab_type": "text"
      },
      "source": [
        "Convert list data to numpy arrays:"
      ]
    },
    {
      "cell_type": "code",
      "metadata": {
        "id": "Zfz1bPtZmrP3",
        "colab_type": "code",
        "colab": {}
      },
      "source": [
        "train_features = np.asarray(train_f, dtype=np.float64)\n",
        "train_labels = np.asarray(train_l, dtype=np.float64)"
      ],
      "execution_count": 86,
      "outputs": []
    },
    {
      "cell_type": "markdown",
      "metadata": {
        "id": "UXM8W0yFmrVc",
        "colab_type": "text"
      },
      "source": [
        "Inspect shapes:"
      ]
    },
    {
      "cell_type": "code",
      "metadata": {
        "id": "L-U5j6Ynmra6",
        "colab_type": "code",
        "colab": {
          "base_uri": "https://localhost:8080/",
          "height": 34
        },
        "outputId": "55c69878-fe30-4b58-b8fa-eb0309ead15d"
      },
      "source": [
        "train_features.shape, train_labels.shape"
      ],
      "execution_count": 87,
      "outputs": [
        {
          "output_type": "execute_result",
          "data": {
            "text/plain": [
              "((1, 314693, 120, 4), (1, 314693, 72))"
            ]
          },
          "metadata": {
            "tags": []
          },
          "execution_count": 87
        }
      ]
    },
    {
      "cell_type": "markdown",
      "metadata": {
        "id": "jA7ZMQv-mrhP",
        "colab_type": "text"
      },
      "source": [
        "Remove the *1* dimension with the *tf.squeeze* function."
      ]
    },
    {
      "cell_type": "code",
      "metadata": {
        "id": "v1E_1Uyap81e",
        "colab_type": "code",
        "colab": {
          "base_uri": "https://localhost:8080/",
          "height": 34
        },
        "outputId": "df299217-49a2-4133-980e-9817484cfe96"
      },
      "source": [
        "train_features, train_labels = tf.squeeze(train_features), tf.squeeze(train_labels)\n",
        "train_features.shape, train_labels.shape"
      ],
      "execution_count": 88,
      "outputs": [
        {
          "output_type": "execute_result",
          "data": {
            "text/plain": [
              "(TensorShape([314693, 120, 4]), TensorShape([314693, 72]))"
            ]
          },
          "metadata": {
            "tags": []
          },
          "execution_count": 88
        }
      ]
    },
    {
      "cell_type": "markdown",
      "metadata": {
        "id": "xe4AVzqOmdYc",
        "colab_type": "text"
      },
      "source": [
        "Reconstitute test data:"
      ]
    },
    {
      "cell_type": "code",
      "metadata": {
        "id": "OaEFKhNvrLVH",
        "colab_type": "code",
        "colab": {
          "base_uri": "https://localhost:8080/",
          "height": 34
        },
        "outputId": "8ab0c574-c2d4-448f-ff6a-9c672b73b803"
      },
      "source": [
        "# create test data\n",
        "test_f, test_l = [], []\n",
        "for i, row in enumerate(test_gen):\n",
        "  test_f.append(row[0])\n",
        "  test_l.append(row[1])\n",
        "\n",
        "# convert lists to numpy arrays\n",
        "test_features = np.asarray(test_f, dtype=np.float64)\n",
        "test_labels = np.asarray(test_l, dtype=np.float64)\n",
        "\n",
        "# squeeze out the '1' dimension created by the generator\n",
        "test_features, test_labels = tf.squeeze(test_features), tf.squeeze(test_labels)\n",
        "test_features.shape, test_labels.shape"
      ],
      "execution_count": 89,
      "outputs": [
        {
          "output_type": "execute_result",
          "data": {
            "text/plain": [
              "(TensorShape([104346, 120, 4]), TensorShape([104346, 72]))"
            ]
          },
          "metadata": {
            "tags": []
          },
          "execution_count": 89
        }
      ]
    },
    {
      "cell_type": "markdown",
      "metadata": {
        "id": "BDtkLf3jmdV6",
        "colab_type": "text"
      },
      "source": [
        "## Finish the Input Pipeline"
      ]
    },
    {
      "cell_type": "code",
      "metadata": {
        "id": "s3cRIQFOrddX",
        "colab_type": "code",
        "colab": {}
      },
      "source": [
        "train_mv = tf.data.Dataset.from_tensor_slices(\n",
        "    (train_features, train_labels))\n",
        "train_mv = train_mv.cache().shuffle(\n",
        "    BUFFER_SIZE).batch(BATCH_SIZE).repeat()\n",
        "\n",
        "test_mv = tf.data.Dataset.from_tensor_slices(\n",
        "    (test_features, test_labels))\n",
        "test_mv = test_mv.batch(BATCH_SIZE).repeat()"
      ],
      "execution_count": 92,
      "outputs": []
    },
    {
      "cell_type": "markdown",
      "metadata": {
        "id": "6liOxZ9ymdPI",
        "colab_type": "text"
      },
      "source": [
        "Check tensors:"
      ]
    },
    {
      "cell_type": "code",
      "metadata": {
        "id": "2FGIRfdLmSVY",
        "colab_type": "code",
        "colab": {
          "base_uri": "https://localhost:8080/",
          "height": 51
        },
        "outputId": "62678bff-7b6f-404d-d337-8abbd58440d8"
      },
      "source": [
        "train_mv, test_mv"
      ],
      "execution_count": 93,
      "outputs": [
        {
          "output_type": "execute_result",
          "data": {
            "text/plain": [
              "(<RepeatDataset shapes: ((None, 120, 4), (None, 72)), types: (tf.float64, tf.float64)>,\n",
              " <RepeatDataset shapes: ((None, 120, 4), (None, 72)), types: (tf.float64, tf.float64)>)"
            ]
          },
          "metadata": {
            "tags": []
          },
          "execution_count": 93
        }
      ]
    },
    {
      "cell_type": "markdown",
      "metadata": {
        "id": "1siyo586mSct",
        "colab_type": "text"
      },
      "source": [
        "Check a batch:"
      ]
    },
    {
      "cell_type": "code",
      "metadata": {
        "id": "M7LGDzUZmSiQ",
        "colab_type": "code",
        "colab": {
          "base_uri": "https://localhost:8080/",
          "height": 51
        },
        "outputId": "1d812b66-8b6a-421f-f89b-902e525087ee"
      },
      "source": [
        "for item in train_mv.take(1):\n",
        "  print (item[0].shape)\n",
        "  print (item[1].shape)"
      ],
      "execution_count": 94,
      "outputs": [
        {
          "output_type": "stream",
          "text": [
            "(256, 120, 4)\n",
            "(256, 72)\n"
          ],
          "name": "stdout"
        }
      ]
    },
    {
      "cell_type": "markdown",
      "metadata": {
        "id": "lEUm9lmLmSn_",
        "colab_type": "text"
      },
      "source": [
        "So, each batch contains 256 items. Each item has both feature sets and labels. Each feature set is a window of 120 observations where each observation contains 4 features. Each label contains 72 predictions."
      ]
    },
    {
      "cell_type": "markdown",
      "metadata": {
        "id": "BPQUqoqEs3RJ",
        "colab_type": "text"
      },
      "source": [
        "Establish input shape:"
      ]
    },
    {
      "cell_type": "code",
      "metadata": {
        "id": "y3Ws7MPms2fi",
        "colab_type": "code",
        "colab": {
          "base_uri": "https://localhost:8080/",
          "height": 34
        },
        "outputId": "6e06eacb-6567-4081-bbd1-770e48a9d2d0"
      },
      "source": [
        "input_shape_multi = item[0].shape[-2:]\n",
        "input_shape_multi"
      ],
      "execution_count": 95,
      "outputs": [
        {
          "output_type": "execute_result",
          "data": {
            "text/plain": [
              "TensorShape([120, 4])"
            ]
          },
          "metadata": {
            "tags": []
          },
          "execution_count": 95
        }
      ]
    },
    {
      "cell_type": "markdown",
      "metadata": {
        "id": "SPSXlT46sUGq",
        "colab_type": "text"
      },
      "source": [
        "## Create the Model"
      ]
    },
    {
      "cell_type": "code",
      "metadata": {
        "id": "OAEx0ONzmSvB",
        "colab_type": "code",
        "colab": {}
      },
      "source": [
        "# clear any previous models\n",
        "tf.keras.backend.clear_session()\n",
        "\n",
        "\n",
        "# set seed to ensure reproducibility\n",
        "tf.random.set_seed(0)\n",
        "\n",
        "neurons = 32  # neurons in GRU layer\n",
        "outputs = 72\n",
        "\n",
        "gen_model = Sequential([\n",
        "  GRU(neurons, input_shape=input_shape_multi),\n",
        "  Dense(outputs)\n",
        "])"
      ],
      "execution_count": 96,
      "outputs": []
    },
    {
      "cell_type": "markdown",
      "metadata": {
        "id": "tUnF6r5NtTsC",
        "colab_type": "text"
      },
      "source": [
        "## Model Summary"
      ]
    },
    {
      "cell_type": "code",
      "metadata": {
        "id": "_CAIdN32tTxR",
        "colab_type": "code",
        "colab": {
          "base_uri": "https://localhost:8080/",
          "height": 221
        },
        "outputId": "8aba8517-9468-49b5-fb81-2c1d79b5eb0a"
      },
      "source": [
        "gen_model.summary()"
      ],
      "execution_count": 97,
      "outputs": [
        {
          "output_type": "stream",
          "text": [
            "Model: \"sequential\"\n",
            "_________________________________________________________________\n",
            "Layer (type)                 Output Shape              Param #   \n",
            "=================================================================\n",
            "gru (GRU)                    (None, 32)                3648      \n",
            "_________________________________________________________________\n",
            "dense (Dense)                (None, 72)                2376      \n",
            "=================================================================\n",
            "Total params: 6,024\n",
            "Trainable params: 6,024\n",
            "Non-trainable params: 0\n",
            "_________________________________________________________________\n"
          ],
          "name": "stdout"
        }
      ]
    },
    {
      "cell_type": "markdown",
      "metadata": {
        "id": "zi6Psh87sICI",
        "colab_type": "text"
      },
      "source": [
        "## Compile the Model"
      ]
    },
    {
      "cell_type": "code",
      "metadata": {
        "id": "YSamCqFDsIJB",
        "colab_type": "code",
        "colab": {}
      },
      "source": [
        "gen_model.compile(optimizer='adam', loss='mse')"
      ],
      "execution_count": 98,
      "outputs": []
    },
    {
      "cell_type": "markdown",
      "metadata": {
        "id": "ENshd1NvsIPK",
        "colab_type": "text"
      },
      "source": [
        "## Train the Model"
      ]
    },
    {
      "cell_type": "code",
      "metadata": {
        "id": "Fm4N6bBwsIUc",
        "colab_type": "code",
        "colab": {
          "base_uri": "https://localhost:8080/",
          "height": 357
        },
        "outputId": "1aba0676-4c9b-46e7-f75e-b5fd09d7440d"
      },
      "source": [
        "num_train_steps = 400\n",
        "epochs = 10\n",
        "\n",
        "gen_history = gen_model.fit(train_mv, epochs=epochs,\n",
        "                            steps_per_epoch=num_train_steps,\n",
        "                            validation_data=test_mv,\n",
        "                            validation_steps=50)"
      ],
      "execution_count": 99,
      "outputs": [
        {
          "output_type": "stream",
          "text": [
            "Epoch 1/10\n",
            "400/400 [==============================] - 4s 9ms/step - loss: 3.6479e-04 - val_loss: 5.2611e-07\n",
            "Epoch 2/10\n",
            "400/400 [==============================] - 4s 9ms/step - loss: 3.1158e-06 - val_loss: 7.5770e-07\n",
            "Epoch 3/10\n",
            "400/400 [==============================] - 4s 10ms/step - loss: 2.3610e-06 - val_loss: 1.9507e-06\n",
            "Epoch 4/10\n",
            "400/400 [==============================] - 3s 8ms/step - loss: 1.6071e-06 - val_loss: 6.3563e-07\n",
            "Epoch 5/10\n",
            "400/400 [==============================] - 3s 8ms/step - loss: 1.2162e-06 - val_loss: 7.2377e-07\n",
            "Epoch 6/10\n",
            "400/400 [==============================] - 3s 8ms/step - loss: 8.5188e-07 - val_loss: 9.5920e-07\n",
            "Epoch 7/10\n",
            "400/400 [==============================] - 3s 8ms/step - loss: 7.0101e-07 - val_loss: 5.2487e-07\n",
            "Epoch 8/10\n",
            "400/400 [==============================] - 3s 8ms/step - loss: 7.0191e-07 - val_loss: 4.9559e-07\n",
            "Epoch 9/10\n",
            "400/400 [==============================] - 3s 8ms/step - loss: 6.0076e-07 - val_loss: 4.5978e-07\n",
            "Epoch 10/10\n",
            "400/400 [==============================] - 3s 8ms/step - loss: 5.8888e-07 - val_loss: 4.8457e-07\n"
          ],
          "name": "stdout"
        }
      ]
    },
    {
      "cell_type": "markdown",
      "metadata": {
        "id": "6mUZf3OcsIa5",
        "colab_type": "text"
      },
      "source": [
        "## Generalize on Test Data"
      ]
    },
    {
      "cell_type": "code",
      "metadata": {
        "id": "v99Mgd9EsIgf",
        "colab_type": "code",
        "colab": {
          "base_uri": "https://localhost:8080/",
          "height": 34
        },
        "outputId": "b3f8ce7c-bf90-431a-aa00-4a33005174e2"
      },
      "source": [
        "test_loss = gen_model.evaluate(test_mv, steps=num_train_steps)"
      ],
      "execution_count": 100,
      "outputs": [
        {
          "output_type": "stream",
          "text": [
            "400/400 [==============================] - 2s 4ms/step - loss: 6.7919e-07\n"
          ],
          "name": "stdout"
        }
      ]
    },
    {
      "cell_type": "markdown",
      "metadata": {
        "id": "taLeu2ODsIls",
        "colab_type": "text"
      },
      "source": [
        "## Plot Performance"
      ]
    },
    {
      "cell_type": "code",
      "metadata": {
        "id": "34BsrDp8sIrT",
        "colab_type": "code",
        "colab": {
          "base_uri": "https://localhost:8080/",
          "height": 281
        },
        "outputId": "01da29e4-4c7b-418b-88bd-b4b8476a2acf"
      },
      "source": [
        "loss = gen_history.history['loss']\n",
        "val_loss = gen_history.history['val_loss']\n",
        "\n",
        "epochs = range(1, len(loss) + 1)\n",
        "\n",
        "plt.figure()\n",
        "plt.plot(epochs, loss, 'bo', label='training loss')\n",
        "plt.plot(epochs, val_loss, 'b', label='validation loss')\n",
        "plt.title('training and validation loss')\n",
        "plt.legend()\n",
        "plt.show()"
      ],
      "execution_count": 101,
      "outputs": [
        {
          "output_type": "display_data",
          "data": {
            "image/png": "[encoded data removed]",
            "text/plain": [
              "<Figure size 432x288 with 1 Axes>"
            ]
          },
          "metadata": {
            "tags": [],
            "needs_background": "light"
          }
        }
      ]
    },
    {
      "cell_type": "markdown",
      "metadata": {
        "id": "Qm4uWsoTubV5",
        "colab_type": "text"
      },
      "source": [
        "## Plot a Data Window"
      ]
    },
    {
      "cell_type": "markdown",
      "metadata": {
        "id": "7mplEt3QxEem",
        "colab_type": "text"
      },
      "source": [
        "Create a plotting function:"
      ]
    },
    {
      "cell_type": "code",
      "metadata": {
        "id": "rFN9S3OAubqN",
        "colab_type": "code",
        "colab": {}
      },
      "source": [
        "def multi_step_plot(window, true_future, pred):\n",
        "  plt.figure(figsize=(12, 6))\n",
        "  num_in = create_time_steps(len(window))\n",
        "  num_out = len(true_future)\n",
        "\n",
        "  plt.plot(num_in, np.array(window[:, 1]), 'm', label='history')\n",
        "  plt.plot(np.arange(num_out)/step, np.array(true_future), 'bo',\n",
        "           label='true future')\n",
        "  if pred.any():\n",
        "    plt.plot(np.arange(num_out)/step, np.array(pred), 'go',\n",
        "             label='predicted future')\n",
        "  plt.legend(loc='upper left')\n",
        "  plt.show()"
      ],
      "execution_count": 102,
      "outputs": []
    },
    {
      "cell_type": "markdown",
      "metadata": {
        "id": "t27yL-z1ubyK",
        "colab_type": "text"
      },
      "source": [
        "Plot the first training window from the first batch:"
      ]
    },
    {
      "cell_type": "code",
      "metadata": {
        "id": "JaM4yHSmub4B",
        "colab_type": "code",
        "colab": {
          "base_uri": "https://localhost:8080/",
          "height": 374
        },
        "outputId": "fea7ceca-b596-48be-e014-ea166d8681f6"
      },
      "source": [
        "# plot first 'Tdew (degC)' window\n",
        "\n",
        "for x, y in train_mv.take(1):\n",
        "  multi_step_plot(x[0], y[0], np.array([0]))"
      ],
      "execution_count": 103,
      "outputs": [
        {
          "output_type": "display_data",
          "data": {
            "image/png": "[encoded data removed]",
            "text/plain": [
              "<Figure size 864x432 with 1 Axes>"
            ]
          },
          "metadata": {
            "tags": [],
            "needs_background": "light"
          }
        }
      ]
    },
    {
      "cell_type": "markdown",
      "metadata": {
        "id": "pRndb0fnucHD",
        "colab_type": "text"
      },
      "source": [
        "## Make a Prediction"
      ]
    },
    {
      "cell_type": "code",
      "metadata": {
        "id": "dLxoFq2vucTf",
        "colab_type": "code",
        "colab": {
          "base_uri": "https://localhost:8080/",
          "height": 374
        },
        "outputId": "4055b349-9c5c-49dd-cfcc-225c48949577"
      },
      "source": [
        "for x, y in test_mv.take(1):\n",
        "  y_pred = gen_model.predict(x)[0]\n",
        "  multi_step_plot(x[0], y[0], y_pred)"
      ],
      "execution_count": 105,
      "outputs": [
        {
          "output_type": "display_data",
          "data": {
            "image/png": "[encoded data removed]",
            "text/plain": [
              "<Figure size 864x432 with 1 Axes>"
            ]
          },
          "metadata": {
            "tags": [],
            "needs_background": "light"
          }
        }
      ]
    },
    {
      "cell_type": "markdown",
      "metadata": {
        "id": "aGJ-HUB5K_Fz",
        "colab_type": "text"
      },
      "source": [
        "Not bad."
      ]
    }
  ]
}