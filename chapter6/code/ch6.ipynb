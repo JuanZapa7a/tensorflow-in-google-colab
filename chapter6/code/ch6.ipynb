{
  "nbformat": 4,
  "nbformat_minor": 0,
  "metadata": {
    "colab": {
      "name": "ch6.ipynb",
      "provenance": [],
      "collapsed_sections": []
    },
    "kernelspec": {
      "name": "python3",
      "display_name": "Python 3"
    },
    "accelerator": "GPU"
  },
  "cells": [
    {
      "cell_type": "markdown",
      "metadata": {
        "id": "VvC5FVAg2-GM",
        "colab_type": "text"
      },
      "source": [
        "# Regression\n",
        "\n",
        "While classification is the problem of predicting the class of given data points, **regression** is the problem of learning the strength of association between features of a dataset and continuous outcomes. A **continuous** outcome is a real value such as an integer or floating point value often quantified as amounts and sizes. Simply, regression attempts to learn how strong the relationship is between features and outcomes. Formally, regression approximates a mapping function **f** from input variables **X** to a continuos variable **y**. \n",
        "\n",
        "In statistics, regression is typically defined as a measurement that attempts to determine the strength of the relationship between one dependent variable and a series of other changing variables known as independent variables. For those of you familiar with regression, you can think of independent variables as features and dependent variables as outcomes or outcome variables in the machine learning idiom.\n",
        "\n",
        "Since regression is used for predicting continous values, it can be referred to as **regression predictive modeling**. An algorithm capable of learning a regression predictive model is called a regression algorithm. Since regression predicts a quantity, *the performance must be measured as error* in those predictions.\n",
        "\n",
        "Performance of machine learning regression can be gauged in many ways. But, the most common are mean square error (MSE), mean absolute error (MAE), and root mean squared error (RMSE).\n",
        "\n",
        "**MSE** It is one of the most commonly used metrics, but least useful when a single bad prediction would ruin the entire model's predicting abilities. That is, when the dataset contains a lot of noise. It is most useful when the dataset contains outliers or unexpected values. Unexpected values are those that are too high or too low.\n",
        "\n",
        "**MAE** is not very sensitive to outliers in comparison to MSE since it doesn't punish huge errors. It is typically used when performance is measured on continuous variable data. It provides a linear value that averages the weighted individual differences equally.\n",
        "\n",
        "**RMSE** errors are squared before they are averaged. As such, RMSE assigns a higher weight to larger errors. So, RMSE is much more useful when large errors are present and they drastically affect the model's performance. A benefit of RMSE is that units of error score are the same as the predicted value."
      ]
    },
    {
      "cell_type": "markdown",
      "metadata": {
        "id": "cRzwZmb36zzj",
        "colab_type": "text"
      },
      "source": [
        "We need to set up the GPU for each notebook. So, click the **Runtime** tab, click **Change runtime type** from the drop-down menu, choose **GPU** from the Hardware Accelerator drop-down menu, and click **Save**."
      ]
    },
    {
      "cell_type": "code",
      "metadata": {
        "id": "JW7eUCwg0hef",
        "colab_type": "code",
        "colab": {
          "base_uri": "https://localhost:8080/",
          "height": 34
        },
        "outputId": "b2c78faa-82e3-40a4-81a8-cb03b03acd3f"
      },
      "source": [
        "import tensorflow as tf\n",
        "\n",
        "# display tf version and test if GPU is active\n",
        "\n",
        "tf.__version__, tf.test.gpu_device_name()"
      ],
      "execution_count": 3,
      "outputs": [
        {
          "output_type": "execute_result",
          "data": {
            "text/plain": [
              "('2.2.0', '/device:GPU:0')"
            ]
          },
          "metadata": {
            "tags": []
          },
          "execution_count": 3
        }
      ]
    },
    {
      "cell_type": "markdown",
      "metadata": {
        "id": "LedfTVyqJkJ1",
        "colab_type": "text"
      },
      "source": [
        "# Boston Housing Dataset \n",
        "\n",
        "The first regression dataset we explore is Boston Housing. **Boston Housing** is a dataset derived from information collected by the U.S. Census Service concerning housing in the area of Boston, Massachusetts. It was obtained from the StatLib archive (http://lib.stat.cmu.edu/datasets/boston), and has been used extensively throughout the machine learning literature to benchmark algorithms. The dataset is small in size with only 506 cases.\n",
        "\n",
        "The name for this dataset is simply **boston**. It contains 12 features and 1 outcome (or target). The features are as follows:\n",
        "\n",
        "1. CRIM - per capita crime rate by town\n",
        "2. ZN - proportion of residential land zoned for lots over 25,000 sq.ft.\n",
        "3. INDUS - proportion of non-retail business acres per town.\n",
        "4. CHAS - Charles River dummy variable (1 if tract bounds river; 0 otherwise)\n",
        "5. NOX - nitric oxides concentration (parts per 10 million)\n",
        "6. RM - average number of rooms per dwelling\n",
        "7. AGE - proportion of owner-occupied units built prior to 1940\n",
        "8. DIS - weighted distances to five Boston employment centres\n",
        "9. RAD - index of accessibility to radial highways\n",
        "10. TAX - full-value property-tax rate per $10,000\n",
        "11. PTRATIO - pupil-teacher ratio by town\n",
        "12. LSTAT - % lower status of the population\n",
        "\n",
        "The target is:\n",
        "\n",
        "* MEDV - median value of owner-occupied homes in $1000's\n",
        "\n",
        "Data was collected in the '70s, so don't be shocked by the low median value of homes."
      ]
    },
    {
      "cell_type": "markdown",
      "metadata": {
        "id": "bDv_GGAXqARW",
        "colab_type": "text"
      },
      "source": [
        "## Boston Data\n",
        "\n",
        "You can access any dataset for this book directly from GitHub with a few simple steps:\n",
        "\n",
        "1. visit the book URL: https://github.com/paperd/tensorflow\n",
        "2. locate the dataset and click on it\n",
        "3. click the **Raw** button\n",
        "4. copy the URL to Colab and assign it to a variable\n",
        "5. read the dataset with Pandas **read_csv** method\n",
        "\n",
        "For convenience, we've already located the appropriate URL and assigned to a variable as so:"
      ]
    },
    {
      "cell_type": "code",
      "metadata": {
        "id": "ktRCoDA2sAC6",
        "colab_type": "code",
        "colab": {}
      },
      "source": [
        "url = 'https://raw.githubusercontent.com/paperd/tensorflow/\\\n",
        "master/chapter6/data/boston.csv'"
      ],
      "execution_count": 4,
      "outputs": []
    },
    {
      "cell_type": "markdown",
      "metadata": {
        "id": "slf-ukRAzFvL",
        "colab_type": "text"
      },
      "source": [
        "Read the dataset into a Pandas DataFrame:"
      ]
    },
    {
      "cell_type": "code",
      "metadata": {
        "id": "9UyY0SgjsRpE",
        "colab_type": "code",
        "colab": {}
      },
      "source": [
        "import pandas as pd\n",
        "\n",
        "data = pd.read_csv(url)"
      ],
      "execution_count": 5,
      "outputs": []
    },
    {
      "cell_type": "markdown",
      "metadata": {
        "id": "E_ofnmbczlHL",
        "colab_type": "text"
      },
      "source": [
        "Verify that data was read properly:"
      ]
    },
    {
      "cell_type": "code",
      "metadata": {
        "id": "Vqe-Yv8du5JX",
        "colab_type": "code",
        "colab": {
          "base_uri": "https://localhost:8080/",
          "height": 204
        },
        "outputId": "c6485317-59db-4c73-d754-4d861bac0a77"
      },
      "source": [
        "data.head()"
      ],
      "execution_count": 6,
      "outputs": [
        {
          "output_type": "execute_result",
          "data": {
            "text/html": [
              "<div>\n",
              "<style scoped>\n",
              "    .dataframe tbody tr th:only-of-type {\n",
              "        vertical-align: middle;\n",
              "    }\n",
              "\n",
              "    .dataframe tbody tr th {\n",
              "        vertical-align: top;\n",
              "    }\n",
              "\n",
              "    .dataframe thead th {\n",
              "        text-align: right;\n",
              "    }\n",
              "</style>\n",
              "<table border=\"1\" class=\"dataframe\">\n",
              "  <thead>\n",
              "    <tr style=\"text-align: right;\">\n",
              "      <th></th>\n",
              "      <th>CRIM</th>\n",
              "      <th>ZN</th>\n",
              "      <th>INDUS</th>\n",
              "      <th>CHAS</th>\n",
              "      <th>NOX</th>\n",
              "      <th>RM</th>\n",
              "      <th>AGE</th>\n",
              "      <th>DIS</th>\n",
              "      <th>RAD</th>\n",
              "      <th>TAX</th>\n",
              "      <th>PTRATIO</th>\n",
              "      <th>LSTAT</th>\n",
              "      <th>MEDV</th>\n",
              "    </tr>\n",
              "  </thead>\n",
              "  <tbody>\n",
              "    <tr>\n",
              "      <th>0</th>\n",
              "      <td>0.00632</td>\n",
              "      <td>18.0</td>\n",
              "      <td>2.31</td>\n",
              "      <td>0</td>\n",
              "      <td>0.538</td>\n",
              "      <td>6.575</td>\n",
              "      <td>65.2</td>\n",
              "      <td>4.0900</td>\n",
              "      <td>1</td>\n",
              "      <td>296</td>\n",
              "      <td>15.3</td>\n",
              "      <td>4.98</td>\n",
              "      <td>24.0</td>\n",
              "    </tr>\n",
              "    <tr>\n",
              "      <th>1</th>\n",
              "      <td>0.02731</td>\n",
              "      <td>0.0</td>\n",
              "      <td>7.07</td>\n",
              "      <td>0</td>\n",
              "      <td>0.469</td>\n",
              "      <td>6.421</td>\n",
              "      <td>78.9</td>\n",
              "      <td>4.9671</td>\n",
              "      <td>2</td>\n",
              "      <td>242</td>\n",
              "      <td>17.8</td>\n",
              "      <td>9.14</td>\n",
              "      <td>21.6</td>\n",
              "    </tr>\n",
              "    <tr>\n",
              "      <th>2</th>\n",
              "      <td>0.02729</td>\n",
              "      <td>0.0</td>\n",
              "      <td>7.07</td>\n",
              "      <td>0</td>\n",
              "      <td>0.469</td>\n",
              "      <td>7.185</td>\n",
              "      <td>61.1</td>\n",
              "      <td>4.9671</td>\n",
              "      <td>2</td>\n",
              "      <td>242</td>\n",
              "      <td>17.8</td>\n",
              "      <td>4.03</td>\n",
              "      <td>34.7</td>\n",
              "    </tr>\n",
              "    <tr>\n",
              "      <th>3</th>\n",
              "      <td>0.03237</td>\n",
              "      <td>0.0</td>\n",
              "      <td>2.18</td>\n",
              "      <td>0</td>\n",
              "      <td>0.458</td>\n",
              "      <td>6.998</td>\n",
              "      <td>45.8</td>\n",
              "      <td>6.0622</td>\n",
              "      <td>3</td>\n",
              "      <td>222</td>\n",
              "      <td>18.7</td>\n",
              "      <td>2.94</td>\n",
              "      <td>33.4</td>\n",
              "    </tr>\n",
              "    <tr>\n",
              "      <th>4</th>\n",
              "      <td>0.06905</td>\n",
              "      <td>0.0</td>\n",
              "      <td>2.18</td>\n",
              "      <td>0</td>\n",
              "      <td>0.458</td>\n",
              "      <td>7.147</td>\n",
              "      <td>54.2</td>\n",
              "      <td>6.0622</td>\n",
              "      <td>3</td>\n",
              "      <td>222</td>\n",
              "      <td>18.7</td>\n",
              "      <td>5.33</td>\n",
              "      <td>36.2</td>\n",
              "    </tr>\n",
              "  </tbody>\n",
              "</table>\n",
              "</div>"
            ],
            "text/plain": [
              "      CRIM   ZN   INDUS   CHAS    NOX  ...  RAD  TAX  PTRATIO  LSTAT  MEDV\n",
              "0  0.00632  18.0    2.31     0  0.538  ...    1  296     15.3   4.98  24.0\n",
              "1  0.02731   0.0    7.07     0  0.469  ...    2  242     17.8   9.14  21.6\n",
              "2  0.02729   0.0    7.07     0  0.469  ...    2  242     17.8   4.03  34.7\n",
              "3  0.03237   0.0    2.18     0  0.458  ...    3  222     18.7   2.94  33.4\n",
              "4  0.06905   0.0    2.18     0  0.458  ...    3  222     18.7   5.33  36.2\n",
              "\n",
              "[5 rows x 13 columns]"
            ]
          },
          "metadata": {
            "tags": []
          },
          "execution_count": 6
        }
      ]
    },
    {
      "cell_type": "markdown",
      "metadata": {
        "id": "xXa89NmTw68J",
        "colab_type": "text"
      },
      "source": [
        "## Explore the Dataset"
      ]
    },
    {
      "cell_type": "markdown",
      "metadata": {
        "id": "vrqd6hb9z-me",
        "colab_type": "text"
      },
      "source": [
        "Get datatypes:"
      ]
    },
    {
      "cell_type": "code",
      "metadata": {
        "id": "eVcFWvh8wntF",
        "colab_type": "code",
        "colab": {
          "base_uri": "https://localhost:8080/",
          "height": 255
        },
        "outputId": "5d46fa8d-c9f6-46a3-f71d-b799007a2391"
      },
      "source": [
        "data.dtypes"
      ],
      "execution_count": 7,
      "outputs": [
        {
          "output_type": "execute_result",
          "data": {
            "text/plain": [
              "CRIM       float64\n",
              " ZN        float64\n",
              "INDUS      float64\n",
              "CHAS         int64\n",
              "NOX        float64\n",
              "RM         float64\n",
              "AGE        float64\n",
              "DIS        float64\n",
              "RAD          int64\n",
              "TAX          int64\n",
              "PTRATIO    float64\n",
              "LSTAT      float64\n",
              "MEDV       float64\n",
              "dtype: object"
            ]
          },
          "metadata": {
            "tags": []
          },
          "execution_count": 7
        }
      ]
    },
    {
      "cell_type": "markdown",
      "metadata": {
        "id": "WOQC0OnAw-C9",
        "colab_type": "text"
      },
      "source": [
        "Get general information:"
      ]
    },
    {
      "cell_type": "code",
      "metadata": {
        "id": "n4ucq5OMw_n2",
        "colab_type": "code",
        "colab": {
          "base_uri": "https://localhost:8080/",
          "height": 357
        },
        "outputId": "aea897b8-d963-4bd9-e2d1-b4dc6af7215a"
      },
      "source": [
        "data.info()"
      ],
      "execution_count": 8,
      "outputs": [
        {
          "output_type": "stream",
          "text": [
            "<class 'pandas.core.frame.DataFrame'>\n",
            "RangeIndex: 506 entries, 0 to 505\n",
            "Data columns (total 13 columns):\n",
            " #   Column   Non-Null Count  Dtype  \n",
            "---  ------   --------------  -----  \n",
            " 0   CRIM     506 non-null    float64\n",
            " 1    ZN      506 non-null    float64\n",
            " 2   INDUS    506 non-null    float64\n",
            " 3   CHAS     506 non-null    int64  \n",
            " 4   NOX      506 non-null    float64\n",
            " 5   RM       506 non-null    float64\n",
            " 6   AGE      506 non-null    float64\n",
            " 7   DIS      506 non-null    float64\n",
            " 8   RAD      506 non-null    int64  \n",
            " 9   TAX      506 non-null    int64  \n",
            " 10  PTRATIO  506 non-null    float64\n",
            " 11  LSTAT    506 non-null    float64\n",
            " 12  MEDV     506 non-null    float64\n",
            "dtypes: float64(10), int64(3)\n",
            "memory usage: 51.5 KB\n"
          ],
          "name": "stdout"
        }
      ]
    },
    {
      "cell_type": "markdown",
      "metadata": {
        "id": "w5322Or9xCq-",
        "colab_type": "text"
      },
      "source": [
        "Get basic statistics:"
      ]
    },
    {
      "cell_type": "code",
      "metadata": {
        "id": "b0oPawBywvfh",
        "colab_type": "code",
        "colab": {
          "base_uri": "https://localhost:8080/",
          "height": 452
        },
        "outputId": "34372451-087f-4d94-b2ad-bf09e6f735ce"
      },
      "source": [
        "data_t = data.describe()\n",
        "data_t.T"
      ],
      "execution_count": 9,
      "outputs": [
        {
          "output_type": "execute_result",
          "data": {
            "text/html": [
              "<div>\n",
              "<style scoped>\n",
              "    .dataframe tbody tr th:only-of-type {\n",
              "        vertical-align: middle;\n",
              "    }\n",
              "\n",
              "    .dataframe tbody tr th {\n",
              "        vertical-align: top;\n",
              "    }\n",
              "\n",
              "    .dataframe thead th {\n",
              "        text-align: right;\n",
              "    }\n",
              "</style>\n",
              "<table border=\"1\" class=\"dataframe\">\n",
              "  <thead>\n",
              "    <tr style=\"text-align: right;\">\n",
              "      <th></th>\n",
              "      <th>count</th>\n",
              "      <th>mean</th>\n",
              "      <th>std</th>\n",
              "      <th>min</th>\n",
              "      <th>25%</th>\n",
              "      <th>50%</th>\n",
              "      <th>75%</th>\n",
              "      <th>max</th>\n",
              "    </tr>\n",
              "  </thead>\n",
              "  <tbody>\n",
              "    <tr>\n",
              "      <th>CRIM</th>\n",
              "      <td>506.0</td>\n",
              "      <td>3.613524</td>\n",
              "      <td>8.601545</td>\n",
              "      <td>0.00632</td>\n",
              "      <td>0.082045</td>\n",
              "      <td>0.25651</td>\n",
              "      <td>3.677082</td>\n",
              "      <td>88.9762</td>\n",
              "    </tr>\n",
              "    <tr>\n",
              "      <th>ZN</th>\n",
              "      <td>506.0</td>\n",
              "      <td>11.363636</td>\n",
              "      <td>23.322453</td>\n",
              "      <td>0.00000</td>\n",
              "      <td>0.000000</td>\n",
              "      <td>0.00000</td>\n",
              "      <td>12.500000</td>\n",
              "      <td>100.0000</td>\n",
              "    </tr>\n",
              "    <tr>\n",
              "      <th>INDUS</th>\n",
              "      <td>506.0</td>\n",
              "      <td>11.136779</td>\n",
              "      <td>6.860353</td>\n",
              "      <td>0.46000</td>\n",
              "      <td>5.190000</td>\n",
              "      <td>9.69000</td>\n",
              "      <td>18.100000</td>\n",
              "      <td>27.7400</td>\n",
              "    </tr>\n",
              "    <tr>\n",
              "      <th>CHAS</th>\n",
              "      <td>506.0</td>\n",
              "      <td>0.069170</td>\n",
              "      <td>0.253994</td>\n",
              "      <td>0.00000</td>\n",
              "      <td>0.000000</td>\n",
              "      <td>0.00000</td>\n",
              "      <td>0.000000</td>\n",
              "      <td>1.0000</td>\n",
              "    </tr>\n",
              "    <tr>\n",
              "      <th>NOX</th>\n",
              "      <td>506.0</td>\n",
              "      <td>0.554695</td>\n",
              "      <td>0.115878</td>\n",
              "      <td>0.38500</td>\n",
              "      <td>0.449000</td>\n",
              "      <td>0.53800</td>\n",
              "      <td>0.624000</td>\n",
              "      <td>0.8710</td>\n",
              "    </tr>\n",
              "    <tr>\n",
              "      <th>RM</th>\n",
              "      <td>506.0</td>\n",
              "      <td>6.284634</td>\n",
              "      <td>0.702617</td>\n",
              "      <td>3.56100</td>\n",
              "      <td>5.885500</td>\n",
              "      <td>6.20850</td>\n",
              "      <td>6.623500</td>\n",
              "      <td>8.7800</td>\n",
              "    </tr>\n",
              "    <tr>\n",
              "      <th>AGE</th>\n",
              "      <td>506.0</td>\n",
              "      <td>68.574901</td>\n",
              "      <td>28.148861</td>\n",
              "      <td>2.90000</td>\n",
              "      <td>45.025000</td>\n",
              "      <td>77.50000</td>\n",
              "      <td>94.075000</td>\n",
              "      <td>100.0000</td>\n",
              "    </tr>\n",
              "    <tr>\n",
              "      <th>DIS</th>\n",
              "      <td>506.0</td>\n",
              "      <td>3.795043</td>\n",
              "      <td>2.105710</td>\n",
              "      <td>1.12960</td>\n",
              "      <td>2.100175</td>\n",
              "      <td>3.20745</td>\n",
              "      <td>5.188425</td>\n",
              "      <td>12.1265</td>\n",
              "    </tr>\n",
              "    <tr>\n",
              "      <th>RAD</th>\n",
              "      <td>506.0</td>\n",
              "      <td>9.549407</td>\n",
              "      <td>8.707259</td>\n",
              "      <td>1.00000</td>\n",
              "      <td>4.000000</td>\n",
              "      <td>5.00000</td>\n",
              "      <td>24.000000</td>\n",
              "      <td>24.0000</td>\n",
              "    </tr>\n",
              "    <tr>\n",
              "      <th>TAX</th>\n",
              "      <td>506.0</td>\n",
              "      <td>408.237154</td>\n",
              "      <td>168.537116</td>\n",
              "      <td>187.00000</td>\n",
              "      <td>279.000000</td>\n",
              "      <td>330.00000</td>\n",
              "      <td>666.000000</td>\n",
              "      <td>711.0000</td>\n",
              "    </tr>\n",
              "    <tr>\n",
              "      <th>PTRATIO</th>\n",
              "      <td>506.0</td>\n",
              "      <td>18.455534</td>\n",
              "      <td>2.164946</td>\n",
              "      <td>12.60000</td>\n",
              "      <td>17.400000</td>\n",
              "      <td>19.05000</td>\n",
              "      <td>20.200000</td>\n",
              "      <td>22.0000</td>\n",
              "    </tr>\n",
              "    <tr>\n",
              "      <th>LSTAT</th>\n",
              "      <td>506.0</td>\n",
              "      <td>12.653063</td>\n",
              "      <td>7.141062</td>\n",
              "      <td>1.73000</td>\n",
              "      <td>6.950000</td>\n",
              "      <td>11.36000</td>\n",
              "      <td>16.955000</td>\n",
              "      <td>37.9700</td>\n",
              "    </tr>\n",
              "    <tr>\n",
              "      <th>MEDV</th>\n",
              "      <td>506.0</td>\n",
              "      <td>22.532806</td>\n",
              "      <td>9.197104</td>\n",
              "      <td>5.00000</td>\n",
              "      <td>17.025000</td>\n",
              "      <td>21.20000</td>\n",
              "      <td>25.000000</td>\n",
              "      <td>50.0000</td>\n",
              "    </tr>\n",
              "  </tbody>\n",
              "</table>\n",
              "</div>"
            ],
            "text/plain": [
              "         count        mean         std  ...        50%         75%       max\n",
              "CRIM     506.0    3.613524    8.601545  ...    0.25651    3.677082   88.9762\n",
              " ZN      506.0   11.363636   23.322453  ...    0.00000   12.500000  100.0000\n",
              "INDUS    506.0   11.136779    6.860353  ...    9.69000   18.100000   27.7400\n",
              "CHAS     506.0    0.069170    0.253994  ...    0.00000    0.000000    1.0000\n",
              "NOX      506.0    0.554695    0.115878  ...    0.53800    0.624000    0.8710\n",
              "RM       506.0    6.284634    0.702617  ...    6.20850    6.623500    8.7800\n",
              "AGE      506.0   68.574901   28.148861  ...   77.50000   94.075000  100.0000\n",
              "DIS      506.0    3.795043    2.105710  ...    3.20745    5.188425   12.1265\n",
              "RAD      506.0    9.549407    8.707259  ...    5.00000   24.000000   24.0000\n",
              "TAX      506.0  408.237154  168.537116  ...  330.00000  666.000000  711.0000\n",
              "PTRATIO  506.0   18.455534    2.164946  ...   19.05000   20.200000   22.0000\n",
              "LSTAT    506.0   12.653063    7.141062  ...   11.36000   16.955000   37.9700\n",
              "MEDV     506.0   22.532806    9.197104  ...   21.20000   25.000000   50.0000\n",
              "\n",
              "[13 rows x 8 columns]"
            ]
          },
          "metadata": {
            "tags": []
          },
          "execution_count": 9
        }
      ]
    },
    {
      "cell_type": "markdown",
      "metadata": {
        "id": "csqLKtgOxW95",
        "colab_type": "text"
      },
      "source": [
        "Describe a specific feature:"
      ]
    },
    {
      "cell_type": "code",
      "metadata": {
        "id": "NFFLaTHbxGhu",
        "colab_type": "code",
        "colab": {
          "base_uri": "https://localhost:8080/",
          "height": 170
        },
        "outputId": "dad5e968-a8b1-407f-9c61-8fd94c5018cf"
      },
      "source": [
        "data.describe().LSTAT"
      ],
      "execution_count": 10,
      "outputs": [
        {
          "output_type": "execute_result",
          "data": {
            "text/plain": [
              "count    506.000000\n",
              "mean      12.653063\n",
              "std        7.141062\n",
              "min        1.730000\n",
              "25%        6.950000\n",
              "50%       11.360000\n",
              "75%       16.955000\n",
              "max       37.970000\n",
              "Name: LSTAT, dtype: float64"
            ]
          },
          "metadata": {
            "tags": []
          },
          "execution_count": 10
        }
      ]
    },
    {
      "cell_type": "markdown",
      "metadata": {
        "id": "f4S10R1VxsR9",
        "colab_type": "text"
      },
      "source": [
        "Or:"
      ]
    },
    {
      "cell_type": "code",
      "metadata": {
        "id": "oSrZQR8CxoC9",
        "colab_type": "code",
        "colab": {
          "base_uri": "https://localhost:8080/",
          "height": 170
        },
        "outputId": "1f184f50-9f00-4a05-f19b-24228de77766"
      },
      "source": [
        "data['LSTAT'].describe()"
      ],
      "execution_count": 11,
      "outputs": [
        {
          "output_type": "execute_result",
          "data": {
            "text/plain": [
              "count    506.000000\n",
              "mean      12.653063\n",
              "std        7.141062\n",
              "min        1.730000\n",
              "25%        6.950000\n",
              "50%       11.360000\n",
              "75%       16.955000\n",
              "max       37.970000\n",
              "Name: LSTAT, dtype: float64"
            ]
          },
          "metadata": {
            "tags": []
          },
          "execution_count": 11
        }
      ]
    },
    {
      "cell_type": "markdown",
      "metadata": {
        "id": "9kX3uwtnvsyT",
        "colab_type": "text"
      },
      "source": [
        "Get columns:"
      ]
    },
    {
      "cell_type": "code",
      "metadata": {
        "id": "Ma0GQx_9wc2N",
        "colab_type": "code",
        "colab": {
          "base_uri": "https://localhost:8080/",
          "height": 238
        },
        "outputId": "8e16d72f-9887-4411-abd8-fb1e5a50cafa"
      },
      "source": [
        "cols = list(data)\n",
        "cols"
      ],
      "execution_count": 12,
      "outputs": [
        {
          "output_type": "execute_result",
          "data": {
            "text/plain": [
              "['CRIM',\n",
              " ' ZN ',\n",
              " 'INDUS ',\n",
              " 'CHAS',\n",
              " 'NOX',\n",
              " 'RM',\n",
              " 'AGE',\n",
              " 'DIS',\n",
              " 'RAD',\n",
              " 'TAX',\n",
              " 'PTRATIO',\n",
              " 'LSTAT',\n",
              " 'MEDV']"
            ]
          },
          "metadata": {
            "tags": []
          },
          "execution_count": 12
        }
      ]
    },
    {
      "cell_type": "markdown",
      "metadata": {
        "id": "dI7Nn6Nn2yFe",
        "colab_type": "text"
      },
      "source": [
        "## Create Feature and Target Sets\n",
        "\n",
        "We need to create the feature set and target from the data, so let's do that now:"
      ]
    },
    {
      "cell_type": "code",
      "metadata": {
        "id": "NEjZO7VD0W-T",
        "colab_type": "code",
        "colab": {
          "base_uri": "https://localhost:8080/",
          "height": 119
        },
        "outputId": "e0a7f8e0-aef5-4e2b-d415-8898f36b3031"
      },
      "source": [
        "# create a copy of the DataFrame\n",
        "\n",
        "df = data.copy()\n",
        "\n",
        "# create the target\n",
        "\n",
        "target = df.pop('MEDV')\n",
        "print (target.head())"
      ],
      "execution_count": 13,
      "outputs": [
        {
          "output_type": "stream",
          "text": [
            "0    24.0\n",
            "1    21.6\n",
            "2    34.7\n",
            "3    33.4\n",
            "4    36.2\n",
            "Name: MEDV, dtype: float64\n"
          ],
          "name": "stdout"
        }
      ]
    },
    {
      "cell_type": "markdown",
      "metadata": {
        "id": "eqPdXTW63W2R",
        "colab_type": "text"
      },
      "source": [
        "Verify that feature set is as expected:"
      ]
    },
    {
      "cell_type": "code",
      "metadata": {
        "id": "Qa5MK7Hm3clR",
        "colab_type": "code",
        "colab": {
          "base_uri": "https://localhost:8080/",
          "height": 204
        },
        "outputId": "80a9ff62-5eb1-4ce7-c1c5-e95ff0ef761b"
      },
      "source": [
        "df.head()"
      ],
      "execution_count": 14,
      "outputs": [
        {
          "output_type": "execute_result",
          "data": {
            "text/html": [
              "<div>\n",
              "<style scoped>\n",
              "    .dataframe tbody tr th:only-of-type {\n",
              "        vertical-align: middle;\n",
              "    }\n",
              "\n",
              "    .dataframe tbody tr th {\n",
              "        vertical-align: top;\n",
              "    }\n",
              "\n",
              "    .dataframe thead th {\n",
              "        text-align: right;\n",
              "    }\n",
              "</style>\n",
              "<table border=\"1\" class=\"dataframe\">\n",
              "  <thead>\n",
              "    <tr style=\"text-align: right;\">\n",
              "      <th></th>\n",
              "      <th>CRIM</th>\n",
              "      <th>ZN</th>\n",
              "      <th>INDUS</th>\n",
              "      <th>CHAS</th>\n",
              "      <th>NOX</th>\n",
              "      <th>RM</th>\n",
              "      <th>AGE</th>\n",
              "      <th>DIS</th>\n",
              "      <th>RAD</th>\n",
              "      <th>TAX</th>\n",
              "      <th>PTRATIO</th>\n",
              "      <th>LSTAT</th>\n",
              "    </tr>\n",
              "  </thead>\n",
              "  <tbody>\n",
              "    <tr>\n",
              "      <th>0</th>\n",
              "      <td>0.00632</td>\n",
              "      <td>18.0</td>\n",
              "      <td>2.31</td>\n",
              "      <td>0</td>\n",
              "      <td>0.538</td>\n",
              "      <td>6.575</td>\n",
              "      <td>65.2</td>\n",
              "      <td>4.0900</td>\n",
              "      <td>1</td>\n",
              "      <td>296</td>\n",
              "      <td>15.3</td>\n",
              "      <td>4.98</td>\n",
              "    </tr>\n",
              "    <tr>\n",
              "      <th>1</th>\n",
              "      <td>0.02731</td>\n",
              "      <td>0.0</td>\n",
              "      <td>7.07</td>\n",
              "      <td>0</td>\n",
              "      <td>0.469</td>\n",
              "      <td>6.421</td>\n",
              "      <td>78.9</td>\n",
              "      <td>4.9671</td>\n",
              "      <td>2</td>\n",
              "      <td>242</td>\n",
              "      <td>17.8</td>\n",
              "      <td>9.14</td>\n",
              "    </tr>\n",
              "    <tr>\n",
              "      <th>2</th>\n",
              "      <td>0.02729</td>\n",
              "      <td>0.0</td>\n",
              "      <td>7.07</td>\n",
              "      <td>0</td>\n",
              "      <td>0.469</td>\n",
              "      <td>7.185</td>\n",
              "      <td>61.1</td>\n",
              "      <td>4.9671</td>\n",
              "      <td>2</td>\n",
              "      <td>242</td>\n",
              "      <td>17.8</td>\n",
              "      <td>4.03</td>\n",
              "    </tr>\n",
              "    <tr>\n",
              "      <th>3</th>\n",
              "      <td>0.03237</td>\n",
              "      <td>0.0</td>\n",
              "      <td>2.18</td>\n",
              "      <td>0</td>\n",
              "      <td>0.458</td>\n",
              "      <td>6.998</td>\n",
              "      <td>45.8</td>\n",
              "      <td>6.0622</td>\n",
              "      <td>3</td>\n",
              "      <td>222</td>\n",
              "      <td>18.7</td>\n",
              "      <td>2.94</td>\n",
              "    </tr>\n",
              "    <tr>\n",
              "      <th>4</th>\n",
              "      <td>0.06905</td>\n",
              "      <td>0.0</td>\n",
              "      <td>2.18</td>\n",
              "      <td>0</td>\n",
              "      <td>0.458</td>\n",
              "      <td>7.147</td>\n",
              "      <td>54.2</td>\n",
              "      <td>6.0622</td>\n",
              "      <td>3</td>\n",
              "      <td>222</td>\n",
              "      <td>18.7</td>\n",
              "      <td>5.33</td>\n",
              "    </tr>\n",
              "  </tbody>\n",
              "</table>\n",
              "</div>"
            ],
            "text/plain": [
              "      CRIM   ZN   INDUS   CHAS    NOX  ...     DIS  RAD  TAX  PTRATIO  LSTAT\n",
              "0  0.00632  18.0    2.31     0  0.538  ...  4.0900    1  296     15.3   4.98\n",
              "1  0.02731   0.0    7.07     0  0.469  ...  4.9671    2  242     17.8   9.14\n",
              "2  0.02729   0.0    7.07     0  0.469  ...  4.9671    2  242     17.8   4.03\n",
              "3  0.03237   0.0    2.18     0  0.458  ...  6.0622    3  222     18.7   2.94\n",
              "4  0.06905   0.0    2.18     0  0.458  ...  6.0622    3  222     18.7   5.33\n",
              "\n",
              "[5 rows x 12 columns]"
            ]
          },
          "metadata": {
            "tags": []
          },
          "execution_count": 14
        }
      ]
    },
    {
      "cell_type": "markdown",
      "metadata": {
        "id": "QF0OvwGiC8AY",
        "colab_type": "text"
      },
      "source": [
        "## Create a Statistics DataFrame\n",
        "\n",
        "Create a DataFrame to hold statistics with the **describe** method and transpose it for easier viewing:"
      ]
    },
    {
      "cell_type": "code",
      "metadata": {
        "id": "vPuL4cxRDwa8",
        "colab_type": "code",
        "colab": {
          "base_uri": "https://localhost:8080/",
          "height": 421
        },
        "outputId": "b9e0a045-8e71-4064-afe5-a84d842b3841"
      },
      "source": [
        "desc = df.describe()\n",
        "desc = desc.transpose()\n",
        "desc"
      ],
      "execution_count": 15,
      "outputs": [
        {
          "output_type": "execute_result",
          "data": {
            "text/html": [
              "<div>\n",
              "<style scoped>\n",
              "    .dataframe tbody tr th:only-of-type {\n",
              "        vertical-align: middle;\n",
              "    }\n",
              "\n",
              "    .dataframe tbody tr th {\n",
              "        vertical-align: top;\n",
              "    }\n",
              "\n",
              "    .dataframe thead th {\n",
              "        text-align: right;\n",
              "    }\n",
              "</style>\n",
              "<table border=\"1\" class=\"dataframe\">\n",
              "  <thead>\n",
              "    <tr style=\"text-align: right;\">\n",
              "      <th></th>\n",
              "      <th>count</th>\n",
              "      <th>mean</th>\n",
              "      <th>std</th>\n",
              "      <th>min</th>\n",
              "      <th>25%</th>\n",
              "      <th>50%</th>\n",
              "      <th>75%</th>\n",
              "      <th>max</th>\n",
              "    </tr>\n",
              "  </thead>\n",
              "  <tbody>\n",
              "    <tr>\n",
              "      <th>CRIM</th>\n",
              "      <td>506.0</td>\n",
              "      <td>3.613524</td>\n",
              "      <td>8.601545</td>\n",
              "      <td>0.00632</td>\n",
              "      <td>0.082045</td>\n",
              "      <td>0.25651</td>\n",
              "      <td>3.677082</td>\n",
              "      <td>88.9762</td>\n",
              "    </tr>\n",
              "    <tr>\n",
              "      <th>ZN</th>\n",
              "      <td>506.0</td>\n",
              "      <td>11.363636</td>\n",
              "      <td>23.322453</td>\n",
              "      <td>0.00000</td>\n",
              "      <td>0.000000</td>\n",
              "      <td>0.00000</td>\n",
              "      <td>12.500000</td>\n",
              "      <td>100.0000</td>\n",
              "    </tr>\n",
              "    <tr>\n",
              "      <th>INDUS</th>\n",
              "      <td>506.0</td>\n",
              "      <td>11.136779</td>\n",
              "      <td>6.860353</td>\n",
              "      <td>0.46000</td>\n",
              "      <td>5.190000</td>\n",
              "      <td>9.69000</td>\n",
              "      <td>18.100000</td>\n",
              "      <td>27.7400</td>\n",
              "    </tr>\n",
              "    <tr>\n",
              "      <th>CHAS</th>\n",
              "      <td>506.0</td>\n",
              "      <td>0.069170</td>\n",
              "      <td>0.253994</td>\n",
              "      <td>0.00000</td>\n",
              "      <td>0.000000</td>\n",
              "      <td>0.00000</td>\n",
              "      <td>0.000000</td>\n",
              "      <td>1.0000</td>\n",
              "    </tr>\n",
              "    <tr>\n",
              "      <th>NOX</th>\n",
              "      <td>506.0</td>\n",
              "      <td>0.554695</td>\n",
              "      <td>0.115878</td>\n",
              "      <td>0.38500</td>\n",
              "      <td>0.449000</td>\n",
              "      <td>0.53800</td>\n",
              "      <td>0.624000</td>\n",
              "      <td>0.8710</td>\n",
              "    </tr>\n",
              "    <tr>\n",
              "      <th>RM</th>\n",
              "      <td>506.0</td>\n",
              "      <td>6.284634</td>\n",
              "      <td>0.702617</td>\n",
              "      <td>3.56100</td>\n",
              "      <td>5.885500</td>\n",
              "      <td>6.20850</td>\n",
              "      <td>6.623500</td>\n",
              "      <td>8.7800</td>\n",
              "    </tr>\n",
              "    <tr>\n",
              "      <th>AGE</th>\n",
              "      <td>506.0</td>\n",
              "      <td>68.574901</td>\n",
              "      <td>28.148861</td>\n",
              "      <td>2.90000</td>\n",
              "      <td>45.025000</td>\n",
              "      <td>77.50000</td>\n",
              "      <td>94.075000</td>\n",
              "      <td>100.0000</td>\n",
              "    </tr>\n",
              "    <tr>\n",
              "      <th>DIS</th>\n",
              "      <td>506.0</td>\n",
              "      <td>3.795043</td>\n",
              "      <td>2.105710</td>\n",
              "      <td>1.12960</td>\n",
              "      <td>2.100175</td>\n",
              "      <td>3.20745</td>\n",
              "      <td>5.188425</td>\n",
              "      <td>12.1265</td>\n",
              "    </tr>\n",
              "    <tr>\n",
              "      <th>RAD</th>\n",
              "      <td>506.0</td>\n",
              "      <td>9.549407</td>\n",
              "      <td>8.707259</td>\n",
              "      <td>1.00000</td>\n",
              "      <td>4.000000</td>\n",
              "      <td>5.00000</td>\n",
              "      <td>24.000000</td>\n",
              "      <td>24.0000</td>\n",
              "    </tr>\n",
              "    <tr>\n",
              "      <th>TAX</th>\n",
              "      <td>506.0</td>\n",
              "      <td>408.237154</td>\n",
              "      <td>168.537116</td>\n",
              "      <td>187.00000</td>\n",
              "      <td>279.000000</td>\n",
              "      <td>330.00000</td>\n",
              "      <td>666.000000</td>\n",
              "      <td>711.0000</td>\n",
              "    </tr>\n",
              "    <tr>\n",
              "      <th>PTRATIO</th>\n",
              "      <td>506.0</td>\n",
              "      <td>18.455534</td>\n",
              "      <td>2.164946</td>\n",
              "      <td>12.60000</td>\n",
              "      <td>17.400000</td>\n",
              "      <td>19.05000</td>\n",
              "      <td>20.200000</td>\n",
              "      <td>22.0000</td>\n",
              "    </tr>\n",
              "    <tr>\n",
              "      <th>LSTAT</th>\n",
              "      <td>506.0</td>\n",
              "      <td>12.653063</td>\n",
              "      <td>7.141062</td>\n",
              "      <td>1.73000</td>\n",
              "      <td>6.950000</td>\n",
              "      <td>11.36000</td>\n",
              "      <td>16.955000</td>\n",
              "      <td>37.9700</td>\n",
              "    </tr>\n",
              "  </tbody>\n",
              "</table>\n",
              "</div>"
            ],
            "text/plain": [
              "         count        mean         std  ...        50%         75%       max\n",
              "CRIM     506.0    3.613524    8.601545  ...    0.25651    3.677082   88.9762\n",
              " ZN      506.0   11.363636   23.322453  ...    0.00000   12.500000  100.0000\n",
              "INDUS    506.0   11.136779    6.860353  ...    9.69000   18.100000   27.7400\n",
              "CHAS     506.0    0.069170    0.253994  ...    0.00000    0.000000    1.0000\n",
              "NOX      506.0    0.554695    0.115878  ...    0.53800    0.624000    0.8710\n",
              "RM       506.0    6.284634    0.702617  ...    6.20850    6.623500    8.7800\n",
              "AGE      506.0   68.574901   28.148861  ...   77.50000   94.075000  100.0000\n",
              "DIS      506.0    3.795043    2.105710  ...    3.20745    5.188425   12.1265\n",
              "RAD      506.0    9.549407    8.707259  ...    5.00000   24.000000   24.0000\n",
              "TAX      506.0  408.237154  168.537116  ...  330.00000  666.000000  711.0000\n",
              "PTRATIO  506.0   18.455534    2.164946  ...   19.05000   20.200000   22.0000\n",
              "LSTAT    506.0   12.653063    7.141062  ...   11.36000   16.955000   37.9700\n",
              "\n",
              "[12 rows x 8 columns]"
            ]
          },
          "metadata": {
            "tags": []
          },
          "execution_count": 15
        }
      ]
    },
    {
      "cell_type": "markdown",
      "metadata": {
        "id": "LxgVsm0mHng5",
        "colab_type": "text"
      },
      "source": [
        "We can easily target specific stats from the new DataFrame:"
      ]
    },
    {
      "cell_type": "code",
      "metadata": {
        "id": "sUmn5qnsPSe_",
        "colab_type": "code",
        "colab": {
          "base_uri": "https://localhost:8080/",
          "height": 421
        },
        "outputId": "2d74e7c5-3e6a-46bb-b2e3-7eb7dda81cf3"
      },
      "source": [
        "desc[['mean', 'std']]"
      ],
      "execution_count": 16,
      "outputs": [
        {
          "output_type": "execute_result",
          "data": {
            "text/html": [
              "<div>\n",
              "<style scoped>\n",
              "    .dataframe tbody tr th:only-of-type {\n",
              "        vertical-align: middle;\n",
              "    }\n",
              "\n",
              "    .dataframe tbody tr th {\n",
              "        vertical-align: top;\n",
              "    }\n",
              "\n",
              "    .dataframe thead th {\n",
              "        text-align: right;\n",
              "    }\n",
              "</style>\n",
              "<table border=\"1\" class=\"dataframe\">\n",
              "  <thead>\n",
              "    <tr style=\"text-align: right;\">\n",
              "      <th></th>\n",
              "      <th>mean</th>\n",
              "      <th>std</th>\n",
              "    </tr>\n",
              "  </thead>\n",
              "  <tbody>\n",
              "    <tr>\n",
              "      <th>CRIM</th>\n",
              "      <td>3.613524</td>\n",
              "      <td>8.601545</td>\n",
              "    </tr>\n",
              "    <tr>\n",
              "      <th>ZN</th>\n",
              "      <td>11.363636</td>\n",
              "      <td>23.322453</td>\n",
              "    </tr>\n",
              "    <tr>\n",
              "      <th>INDUS</th>\n",
              "      <td>11.136779</td>\n",
              "      <td>6.860353</td>\n",
              "    </tr>\n",
              "    <tr>\n",
              "      <th>CHAS</th>\n",
              "      <td>0.069170</td>\n",
              "      <td>0.253994</td>\n",
              "    </tr>\n",
              "    <tr>\n",
              "      <th>NOX</th>\n",
              "      <td>0.554695</td>\n",
              "      <td>0.115878</td>\n",
              "    </tr>\n",
              "    <tr>\n",
              "      <th>RM</th>\n",
              "      <td>6.284634</td>\n",
              "      <td>0.702617</td>\n",
              "    </tr>\n",
              "    <tr>\n",
              "      <th>AGE</th>\n",
              "      <td>68.574901</td>\n",
              "      <td>28.148861</td>\n",
              "    </tr>\n",
              "    <tr>\n",
              "      <th>DIS</th>\n",
              "      <td>3.795043</td>\n",
              "      <td>2.105710</td>\n",
              "    </tr>\n",
              "    <tr>\n",
              "      <th>RAD</th>\n",
              "      <td>9.549407</td>\n",
              "      <td>8.707259</td>\n",
              "    </tr>\n",
              "    <tr>\n",
              "      <th>TAX</th>\n",
              "      <td>408.237154</td>\n",
              "      <td>168.537116</td>\n",
              "    </tr>\n",
              "    <tr>\n",
              "      <th>PTRATIO</th>\n",
              "      <td>18.455534</td>\n",
              "      <td>2.164946</td>\n",
              "    </tr>\n",
              "    <tr>\n",
              "      <th>LSTAT</th>\n",
              "      <td>12.653063</td>\n",
              "      <td>7.141062</td>\n",
              "    </tr>\n",
              "  </tbody>\n",
              "</table>\n",
              "</div>"
            ],
            "text/plain": [
              "               mean         std\n",
              "CRIM       3.613524    8.601545\n",
              " ZN       11.363636   23.322453\n",
              "INDUS     11.136779    6.860353\n",
              "CHAS       0.069170    0.253994\n",
              "NOX        0.554695    0.115878\n",
              "RM         6.284634    0.702617\n",
              "AGE       68.574901   28.148861\n",
              "DIS        3.795043    2.105710\n",
              "RAD        9.549407    8.707259\n",
              "TAX      408.237154  168.537116\n",
              "PTRATIO   18.455534    2.164946\n",
              "LSTAT     12.653063    7.141062"
            ]
          },
          "metadata": {
            "tags": []
          },
          "execution_count": 16
        }
      ]
    },
    {
      "cell_type": "markdown",
      "metadata": {
        "id": "b0qDofPL3lYJ",
        "colab_type": "text"
      },
      "source": [
        "## Get Feature Names from the Features DataFrame\n",
        "\n",
        "It is easy to get the features since the target is no longer part of the DataFrame:"
      ]
    },
    {
      "cell_type": "code",
      "metadata": {
        "id": "z2ekWP1K3qxL",
        "colab_type": "code",
        "colab": {
          "base_uri": "https://localhost:8080/",
          "height": 221
        },
        "outputId": "253d64aa-022f-46fd-b2db-25abc2d65dfa"
      },
      "source": [
        "feature_cols = list(df)\n",
        "feature_cols"
      ],
      "execution_count": 17,
      "outputs": [
        {
          "output_type": "execute_result",
          "data": {
            "text/plain": [
              "['CRIM',\n",
              " ' ZN ',\n",
              " 'INDUS ',\n",
              " 'CHAS',\n",
              " 'NOX',\n",
              " 'RM',\n",
              " 'AGE',\n",
              " 'DIS',\n",
              " 'RAD',\n",
              " 'TAX',\n",
              " 'PTRATIO',\n",
              " 'LSTAT']"
            ]
          },
          "metadata": {
            "tags": []
          },
          "execution_count": 17
        }
      ]
    },
    {
      "cell_type": "markdown",
      "metadata": {
        "id": "C1W_h9RN4fCp",
        "colab_type": "text"
      },
      "source": [
        "Get number of features:"
      ]
    },
    {
      "cell_type": "code",
      "metadata": {
        "id": "5P2L_2w_4gpH",
        "colab_type": "code",
        "colab": {
          "base_uri": "https://localhost:8080/",
          "height": 34
        },
        "outputId": "daeb5194-b075-4dc4-c0a8-7c484914c4bd"
      },
      "source": [
        "len(feature_cols)"
      ],
      "execution_count": 18,
      "outputs": [
        {
          "output_type": "execute_result",
          "data": {
            "text/plain": [
              "12"
            ]
          },
          "metadata": {
            "tags": []
          },
          "execution_count": 18
        }
      ]
    },
    {
      "cell_type": "markdown",
      "metadata": {
        "id": "N54kSxyv4oKo",
        "colab_type": "text"
      },
      "source": [
        "Or:"
      ]
    },
    {
      "cell_type": "code",
      "metadata": {
        "id": "IXmW7klY4kgg",
        "colab_type": "code",
        "colab": {
          "base_uri": "https://localhost:8080/",
          "height": 34
        },
        "outputId": "2446c6aa-f4f3-407c-8fcc-835a461ffe01"
      },
      "source": [
        "len(df.columns)"
      ],
      "execution_count": 19,
      "outputs": [
        {
          "output_type": "execute_result",
          "data": {
            "text/plain": [
              "12"
            ]
          },
          "metadata": {
            "tags": []
          },
          "execution_count": 19
        }
      ]
    },
    {
      "cell_type": "markdown",
      "metadata": {
        "id": "jEzC5rjb5HPM",
        "colab_type": "text"
      },
      "source": [
        "## Convert Features and Labels to Numpy\n",
        "\n",
        "Convert Pandas DataFrame values to Numpy with the *values* method:"
      ]
    },
    {
      "cell_type": "code",
      "metadata": {
        "id": "F2LPNUWl5Vs8",
        "colab_type": "code",
        "colab": {
          "base_uri": "https://localhost:8080/",
          "height": 34
        },
        "outputId": "286b3f78-e960-4e68-811a-76c607b1f093"
      },
      "source": [
        "features = df.values\n",
        "labels = target.values\n",
        "\n",
        "type(features), type(labels)"
      ],
      "execution_count": 20,
      "outputs": [
        {
          "output_type": "execute_result",
          "data": {
            "text/plain": [
              "(numpy.ndarray, numpy.ndarray)"
            ]
          },
          "metadata": {
            "tags": []
          },
          "execution_count": 20
        }
      ]
    },
    {
      "cell_type": "markdown",
      "metadata": {
        "id": "N4TQdMlq5ZrT",
        "colab_type": "text"
      },
      "source": [
        "## Split into train and test sets:"
      ]
    },
    {
      "cell_type": "code",
      "metadata": {
        "id": "bMtTFidt5dfk",
        "colab_type": "code",
        "colab": {
          "base_uri": "https://localhost:8080/",
          "height": 68
        },
        "outputId": "1057e2b1-d403-45e9-bab1-db864ab73dc4"
      },
      "source": [
        "from sklearn.model_selection import train_test_split\n",
        "\n",
        "X_train, X_test, y_train, y_test = train_test_split(\n",
        "    features, labels, test_size=0.33, random_state=0)\n",
        "\n",
        "br = '\\n'\n",
        "\n",
        "print ('X_train shape:', end=' ')\n",
        "print (X_train.shape, br)\n",
        "\n",
        "print ('X_test shape:', end=' ')\n",
        "print (X_test.shape)"
      ],
      "execution_count": 23,
      "outputs": [
        {
          "output_type": "stream",
          "text": [
            "X_train shape: (339, 12) \n",
            "\n",
            "X_test shape: (167, 12)\n"
          ],
          "name": "stdout"
        }
      ]
    },
    {
      "cell_type": "markdown",
      "metadata": {
        "id": "49MtJKvH5yC3",
        "colab_type": "text"
      },
      "source": [
        "## Scale Data and Create TensorFlow Tensors\n",
        "\n",
        "With image data, we scale by dividing each element by 255.0 to ensure that each input parameter (a pixel, in our case) has a similar data distribution. However, features represented by continous values are scaled differently. We rescale continuous data to have a mean (μ) of 0 and standard deviation (σ) of 1. A σ of 1 is called unit variance."
      ]
    },
    {
      "cell_type": "code",
      "metadata": {
        "id": "Wstb8WM756LP",
        "colab_type": "code",
        "colab": {}
      },
      "source": [
        "# scale feature image data and create TensorFlow tensors\n",
        "\n",
        "from sklearn.preprocessing import StandardScaler\n",
        "\n",
        "scaler = StandardScaler()\n",
        "X_train_std = scaler.fit_transform(X_train)\n",
        "X_test_std = scaler.fit_transform(X_test)\n",
        "\n",
        "train = tf.data.Dataset.from_tensor_slices((X_train_std, y_train))\n",
        "test = tf.data.Dataset.from_tensor_slices((X_test_std, y_test))"
      ],
      "execution_count": 26,
      "outputs": []
    },
    {
      "cell_type": "markdown",
      "metadata": {
        "id": "nSGJ74he77B0",
        "colab_type": "text"
      },
      "source": [
        "Let's view the first tensor:"
      ]
    },
    {
      "cell_type": "code",
      "metadata": {
        "id": "b2S9LDDc79Kk",
        "colab_type": "code",
        "colab": {
          "base_uri": "https://localhost:8080/",
          "height": 85
        },
        "outputId": "c450d9c1-5ab9-4419-ef66-3488c73fa98e"
      },
      "source": [
        "def see_samples(data, num):\n",
        "  for feat, targ in data.take(num):\n",
        "    print ('Features: {}'.format(feat), br)\n",
        "    print ('Target: {}'.format(targ))\n",
        "\n",
        "n = 1\n",
        "see_samples(train, n)"
      ],
      "execution_count": 27,
      "outputs": [
        {
          "output_type": "stream",
          "text": [
            "Features: [-0.40069293  0.54888872 -0.899201   -0.2697866  -1.13360708  0.43514224\n",
            "  0.05150692  0.8106114  -0.63095801 -0.72342494  0.24982303 -0.73612695] \n",
            "\n",
            "Target: 23.9\n"
          ],
          "name": "stdout"
        }
      ]
    },
    {
      "cell_type": "markdown",
      "metadata": {
        "id": "YIPqAUdr8xPO",
        "colab_type": "text"
      },
      "source": [
        "The first sample looks exactly as we expect."
      ]
    },
    {
      "cell_type": "markdown",
      "metadata": {
        "id": "3hrGInpK5xNO",
        "colab_type": "text"
      },
      "source": [
        "## Prepare Tensors for Training"
      ]
    },
    {
      "cell_type": "code",
      "metadata": {
        "id": "yXJYOwMQ6gJB",
        "colab_type": "code",
        "colab": {}
      },
      "source": [
        "# continue the input pipeline (prepare tensors for training)\n",
        "\n",
        "BATCH_SIZE = 16\n",
        "SHUFFLE_BUFFER_SIZE = 100\n",
        "\n",
        "train_bs = train.shuffle(SHUFFLE_BUFFER_SIZE).batch(BATCH_SIZE).prefetch(1)\n",
        "test_bs = test.batch(BATCH_SIZE).prefetch(1)"
      ],
      "execution_count": 30,
      "outputs": []
    },
    {
      "cell_type": "markdown",
      "metadata": {
        "id": "iNcHvDts7ksK",
        "colab_type": "text"
      },
      "source": [
        "## Create a Model\n",
        "\n",
        "If we don't have a lot of training data, one technique to avoid overfitting is to create a small network with few hidden layers. We do just that!\n",
        "\n",
        "The 64 neuron input layer accommodates our 12 input features. We have one hidden layers with 64 neurons. The output layer has 1 neuron because we are using regression."
      ]
    },
    {
      "cell_type": "code",
      "metadata": {
        "id": "lIDe1Mxv7eSk",
        "colab_type": "code",
        "colab": {}
      },
      "source": [
        "from tensorflow.keras.models import Sequential\n",
        "from tensorflow.keras.layers import Dense, Flatten\n",
        "from tensorflow import keras\n",
        "import numpy as np\n",
        "\n",
        "# clear any previous model\n",
        "\n",
        "keras.backend.clear_session()\n",
        "\n",
        "# plant a random seed for replication purposes\n",
        "np.random.seed(0)\n",
        "tf.random.set_seed(0)\n",
        "\n",
        "# notice input shape accommodates 12 features!\n",
        "\n",
        "model = Sequential([\n",
        "  Dense(64, activation='relu', input_shape=[12,]),\n",
        "  Dense(64, activation='relu'),\n",
        "  Dense(1)\n",
        "])"
      ],
      "execution_count": 31,
      "outputs": []
    },
    {
      "cell_type": "markdown",
      "metadata": {
        "id": "ILxUyoN9bX0K",
        "colab_type": "text"
      },
      "source": [
        "## Compile the Model"
      ]
    },
    {
      "cell_type": "code",
      "metadata": {
        "id": "Qjpdb8QD-E5o",
        "colab_type": "code",
        "colab": {}
      },
      "source": [
        "rmse = tf.keras.metrics.RootMeanSquaredError()\n",
        "\n",
        "model.compile(loss='mse', optimizer='RMSProp',\n",
        "              metrics=[rmse, 'mae', 'mse'])"
      ],
      "execution_count": 32,
      "outputs": []
    },
    {
      "cell_type": "markdown",
      "metadata": {
        "id": "UFyAY087wBl0",
        "colab_type": "text"
      },
      "source": [
        "## Inspect the Model"
      ]
    },
    {
      "cell_type": "code",
      "metadata": {
        "id": "mX7BmLnIwBvz",
        "colab_type": "code",
        "colab": {
          "base_uri": "https://localhost:8080/",
          "height": 255
        },
        "outputId": "bc6be19a-0ab4-45ed-8748-162abb5d9d5e"
      },
      "source": [
        "model.summary()"
      ],
      "execution_count": 33,
      "outputs": [
        {
          "output_type": "stream",
          "text": [
            "Model: \"sequential\"\n",
            "_________________________________________________________________\n",
            "Layer (type)                 Output Shape              Param #   \n",
            "=================================================================\n",
            "dense (Dense)                (None, 64)                832       \n",
            "_________________________________________________________________\n",
            "dense_1 (Dense)              (None, 64)                4160      \n",
            "_________________________________________________________________\n",
            "dense_2 (Dense)              (None, 1)                 65        \n",
            "=================================================================\n",
            "Total params: 5,057\n",
            "Trainable params: 5,057\n",
            "Non-trainable params: 0\n",
            "_________________________________________________________________\n"
          ],
          "name": "stdout"
        }
      ]
    },
    {
      "cell_type": "markdown",
      "metadata": {
        "id": "X0kSUzSebW0T",
        "colab_type": "text"
      },
      "source": [
        "Evaluation metrics used for regression differ from classification. Mean Squared Error (MSE) is a common loss function used for regression problems. Similarly,  A common regression metric is Mean Absolute Error (MAE). With some experimentation, we found that **RMSProp** performed pretty well with this dataset. Since this is a beginning book, fine tuning optimizers are not covered in depth."
      ]
    },
    {
      "cell_type": "markdown",
      "metadata": {
        "id": "VJpNRr7sbbwS",
        "colab_type": "text"
      },
      "source": [
        "## Train the Model"
      ]
    },
    {
      "cell_type": "code",
      "metadata": {
        "id": "vOHauLH1_264",
        "colab_type": "code",
        "colab": {
          "base_uri": "https://localhost:8080/",
          "height": 1000
        },
        "outputId": "b4ee6638-fcf5-4374-b2b1-39fcaacc3d68"
      },
      "source": [
        "history = model.fit(train_bs, epochs=50,\n",
        "                    validation_data=test_bs)"
      ],
      "execution_count": 34,
      "outputs": [
        {
          "output_type": "stream",
          "text": [
            "Epoch 1/50\n",
            "22/22 [==============================] - 0s 10ms/step - loss: 528.5589 - root_mean_squared_error: 22.9904 - mae: 21.0277 - mse: 528.5589 - val_loss: 406.6022 - val_root_mean_squared_error: 20.1644 - val_mae: 18.1316 - val_mse: 406.6022\n",
            "Epoch 2/50\n",
            "22/22 [==============================] - 0s 4ms/step - loss: 362.6086 - root_mean_squared_error: 19.0423 - mae: 16.9730 - mse: 362.6086 - val_loss: 246.1976 - val_root_mean_squared_error: 15.6907 - val_mae: 13.5108 - val_mse: 246.1976\n",
            "Epoch 3/50\n",
            "22/22 [==============================] - 0s 4ms/step - loss: 200.5827 - root_mean_squared_error: 14.1627 - mae: 11.9269 - mse: 200.5827 - val_loss: 120.2619 - val_root_mean_squared_error: 10.9664 - val_mae: 8.8472 - val_mse: 120.2619\n",
            "Epoch 4/50\n",
            "22/22 [==============================] - 0s 4ms/step - loss: 94.2878 - root_mean_squared_error: 9.7102 - mae: 7.6920 - mse: 94.2878 - val_loss: 68.1286 - val_root_mean_squared_error: 8.2540 - val_mae: 6.4018 - val_mse: 68.1286\n",
            "Epoch 5/50\n",
            "22/22 [==============================] - 0s 4ms/step - loss: 53.5024 - root_mean_squared_error: 7.3145 - mae: 5.6960 - mse: 53.5024 - val_loss: 50.9382 - val_root_mean_squared_error: 7.1371 - val_mae: 5.4893 - val_mse: 50.9382\n",
            "Epoch 6/50\n",
            "22/22 [==============================] - 0s 4ms/step - loss: 36.3208 - root_mean_squared_error: 6.0267 - mae: 4.6551 - mse: 36.3208 - val_loss: 38.9818 - val_root_mean_squared_error: 6.2435 - val_mae: 4.7543 - val_mse: 38.9818\n",
            "Epoch 7/50\n",
            "22/22 [==============================] - 0s 4ms/step - loss: 27.3716 - root_mean_squared_error: 5.2318 - mae: 3.9582 - mse: 27.3716 - val_loss: 32.2101 - val_root_mean_squared_error: 5.6754 - val_mae: 4.3140 - val_mse: 32.2101\n",
            "Epoch 8/50\n",
            "22/22 [==============================] - 0s 4ms/step - loss: 22.2779 - root_mean_squared_error: 4.7199 - mae: 3.5028 - mse: 22.2779 - val_loss: 30.3922 - val_root_mean_squared_error: 5.5129 - val_mae: 4.1221 - val_mse: 30.3922\n",
            "Epoch 9/50\n",
            "22/22 [==============================] - 0s 4ms/step - loss: 19.5775 - root_mean_squared_error: 4.4246 - mae: 3.2508 - mse: 19.5775 - val_loss: 26.5681 - val_root_mean_squared_error: 5.1544 - val_mae: 3.8807 - val_mse: 26.5681\n",
            "Epoch 10/50\n",
            "22/22 [==============================] - 0s 4ms/step - loss: 17.6221 - root_mean_squared_error: 4.1979 - mae: 3.0322 - mse: 17.6221 - val_loss: 25.8200 - val_root_mean_squared_error: 5.0813 - val_mae: 3.7837 - val_mse: 25.8200\n",
            "Epoch 11/50\n",
            "22/22 [==============================] - 0s 4ms/step - loss: 16.1093 - root_mean_squared_error: 4.0136 - mae: 2.8949 - mse: 16.1093 - val_loss: 23.2061 - val_root_mean_squared_error: 4.8173 - val_mae: 3.5664 - val_mse: 23.2061\n",
            "Epoch 12/50\n",
            "22/22 [==============================] - 0s 4ms/step - loss: 15.2140 - root_mean_squared_error: 3.9005 - mae: 2.7860 - mse: 15.2140 - val_loss: 22.3516 - val_root_mean_squared_error: 4.7277 - val_mae: 3.4236 - val_mse: 22.3516\n",
            "Epoch 13/50\n",
            "22/22 [==============================] - 0s 4ms/step - loss: 14.2455 - root_mean_squared_error: 3.7743 - mae: 2.6816 - mse: 14.2455 - val_loss: 23.0452 - val_root_mean_squared_error: 4.8005 - val_mae: 3.5241 - val_mse: 23.0452\n",
            "Epoch 14/50\n",
            "22/22 [==============================] - 0s 4ms/step - loss: 13.2408 - root_mean_squared_error: 3.6388 - mae: 2.5875 - mse: 13.2408 - val_loss: 20.7386 - val_root_mean_squared_error: 4.5540 - val_mae: 3.2954 - val_mse: 20.7386\n",
            "Epoch 15/50\n",
            "22/22 [==============================] - 0s 4ms/step - loss: 12.8645 - root_mean_squared_error: 3.5867 - mae: 2.5522 - mse: 12.8645 - val_loss: 20.4489 - val_root_mean_squared_error: 4.5220 - val_mae: 3.1851 - val_mse: 20.4489\n",
            "Epoch 16/50\n",
            "22/22 [==============================] - 0s 4ms/step - loss: 12.3606 - root_mean_squared_error: 3.5158 - mae: 2.4782 - mse: 12.3606 - val_loss: 20.6058 - val_root_mean_squared_error: 4.5394 - val_mae: 3.3152 - val_mse: 20.6058\n",
            "Epoch 17/50\n",
            "22/22 [==============================] - 0s 4ms/step - loss: 11.8329 - root_mean_squared_error: 3.4399 - mae: 2.4458 - mse: 11.8329 - val_loss: 21.3687 - val_root_mean_squared_error: 4.6226 - val_mae: 3.4008 - val_mse: 21.3687\n",
            "Epoch 18/50\n",
            "22/22 [==============================] - 0s 4ms/step - loss: 11.3733 - root_mean_squared_error: 3.3724 - mae: 2.4174 - mse: 11.3733 - val_loss: 23.1546 - val_root_mean_squared_error: 4.8119 - val_mae: 3.5018 - val_mse: 23.1546\n",
            "Epoch 19/50\n",
            "22/22 [==============================] - 0s 4ms/step - loss: 11.1468 - root_mean_squared_error: 3.3387 - mae: 2.3895 - mse: 11.1468 - val_loss: 20.5634 - val_root_mean_squared_error: 4.5347 - val_mae: 3.4108 - val_mse: 20.5634\n",
            "Epoch 20/50\n",
            "22/22 [==============================] - 0s 4ms/step - loss: 10.7041 - root_mean_squared_error: 3.2717 - mae: 2.3605 - mse: 10.7041 - val_loss: 18.5357 - val_root_mean_squared_error: 4.3053 - val_mae: 3.0758 - val_mse: 18.5357\n",
            "Epoch 21/50\n",
            "22/22 [==============================] - 0s 4ms/step - loss: 10.6056 - root_mean_squared_error: 3.2566 - mae: 2.3337 - mse: 10.6056 - val_loss: 19.8373 - val_root_mean_squared_error: 4.4539 - val_mae: 3.2474 - val_mse: 19.8373\n",
            "Epoch 22/50\n",
            "22/22 [==============================] - 0s 4ms/step - loss: 10.2093 - root_mean_squared_error: 3.1952 - mae: 2.2607 - mse: 10.2093 - val_loss: 18.5072 - val_root_mean_squared_error: 4.3020 - val_mae: 3.0967 - val_mse: 18.5072\n",
            "Epoch 23/50\n",
            "22/22 [==============================] - 0s 4ms/step - loss: 10.0645 - root_mean_squared_error: 3.1725 - mae: 2.2721 - mse: 10.0645 - val_loss: 18.6040 - val_root_mean_squared_error: 4.3132 - val_mae: 3.1265 - val_mse: 18.6040\n",
            "Epoch 24/50\n",
            "22/22 [==============================] - 0s 4ms/step - loss: 10.0011 - root_mean_squared_error: 3.1625 - mae: 2.2788 - mse: 10.0011 - val_loss: 18.0228 - val_root_mean_squared_error: 4.2453 - val_mae: 3.0938 - val_mse: 18.0228\n",
            "Epoch 25/50\n",
            "22/22 [==============================] - 0s 4ms/step - loss: 9.8093 - root_mean_squared_error: 3.1320 - mae: 2.2293 - mse: 9.8093 - val_loss: 18.8822 - val_root_mean_squared_error: 4.3454 - val_mae: 3.2309 - val_mse: 18.8822\n",
            "Epoch 26/50\n",
            "22/22 [==============================] - 0s 4ms/step - loss: 9.4182 - root_mean_squared_error: 3.0689 - mae: 2.2416 - mse: 9.4182 - val_loss: 17.7547 - val_root_mean_squared_error: 4.2136 - val_mae: 3.0605 - val_mse: 17.7547\n",
            "Epoch 27/50\n",
            "22/22 [==============================] - 0s 4ms/step - loss: 9.2074 - root_mean_squared_error: 3.0344 - mae: 2.1758 - mse: 9.2074 - val_loss: 17.8121 - val_root_mean_squared_error: 4.2204 - val_mae: 3.0558 - val_mse: 17.8121\n",
            "Epoch 28/50\n",
            "22/22 [==============================] - 0s 4ms/step - loss: 9.1765 - root_mean_squared_error: 3.0293 - mae: 2.1987 - mse: 9.1765 - val_loss: 17.1064 - val_root_mean_squared_error: 4.1360 - val_mae: 2.9606 - val_mse: 17.1064\n",
            "Epoch 29/50\n",
            "22/22 [==============================] - 0s 4ms/step - loss: 9.1994 - root_mean_squared_error: 3.0331 - mae: 2.2005 - mse: 9.1994 - val_loss: 17.0373 - val_root_mean_squared_error: 4.1276 - val_mae: 3.0207 - val_mse: 17.0373\n",
            "Epoch 30/50\n",
            "22/22 [==============================] - 0s 4ms/step - loss: 8.9779 - root_mean_squared_error: 2.9963 - mae: 2.1707 - mse: 8.9779 - val_loss: 22.0458 - val_root_mean_squared_error: 4.6953 - val_mae: 3.6014 - val_mse: 22.0458\n",
            "Epoch 31/50\n",
            "22/22 [==============================] - 0s 4ms/step - loss: 8.9923 - root_mean_squared_error: 2.9987 - mae: 2.1921 - mse: 8.9923 - val_loss: 16.7027 - val_root_mean_squared_error: 4.0869 - val_mae: 3.0007 - val_mse: 16.7027\n",
            "Epoch 32/50\n",
            "22/22 [==============================] - 0s 4ms/step - loss: 8.7390 - root_mean_squared_error: 2.9562 - mae: 2.1477 - mse: 8.7390 - val_loss: 17.6028 - val_root_mean_squared_error: 4.1956 - val_mae: 3.1011 - val_mse: 17.6028\n",
            "Epoch 33/50\n",
            "22/22 [==============================] - 0s 4ms/step - loss: 8.8018 - root_mean_squared_error: 2.9668 - mae: 2.1630 - mse: 8.8018 - val_loss: 19.8802 - val_root_mean_squared_error: 4.4587 - val_mae: 3.3129 - val_mse: 19.8802\n",
            "Epoch 34/50\n",
            "22/22 [==============================] - 0s 4ms/step - loss: 8.3985 - root_mean_squared_error: 2.8980 - mae: 2.1051 - mse: 8.3985 - val_loss: 16.4652 - val_root_mean_squared_error: 4.0577 - val_mae: 2.9047 - val_mse: 16.4652\n",
            "Epoch 35/50\n",
            "22/22 [==============================] - 0s 4ms/step - loss: 8.2490 - root_mean_squared_error: 2.8721 - mae: 2.0615 - mse: 8.2490 - val_loss: 16.4294 - val_root_mean_squared_error: 4.0533 - val_mae: 2.9240 - val_mse: 16.4294\n",
            "Epoch 36/50\n",
            "22/22 [==============================] - 0s 4ms/step - loss: 8.6276 - root_mean_squared_error: 2.9373 - mae: 2.1410 - mse: 8.6276 - val_loss: 16.9133 - val_root_mean_squared_error: 4.1126 - val_mae: 2.9938 - val_mse: 16.9133\n",
            "Epoch 37/50\n",
            "22/22 [==============================] - 0s 4ms/step - loss: 8.2280 - root_mean_squared_error: 2.8684 - mae: 2.0724 - mse: 8.2280 - val_loss: 17.9176 - val_root_mean_squared_error: 4.2329 - val_mae: 3.1667 - val_mse: 17.9176\n",
            "Epoch 38/50\n",
            "22/22 [==============================] - 0s 4ms/step - loss: 8.0057 - root_mean_squared_error: 2.8294 - mae: 2.0723 - mse: 8.0057 - val_loss: 21.1157 - val_root_mean_squared_error: 4.5952 - val_mae: 3.5225 - val_mse: 21.1157\n",
            "Epoch 39/50\n",
            "22/22 [==============================] - 0s 4ms/step - loss: 7.8321 - root_mean_squared_error: 2.7986 - mae: 2.0737 - mse: 7.8321 - val_loss: 17.9338 - val_root_mean_squared_error: 4.2348 - val_mae: 3.0293 - val_mse: 17.9338\n",
            "Epoch 40/50\n",
            "22/22 [==============================] - 0s 4ms/step - loss: 7.8091 - root_mean_squared_error: 2.7945 - mae: 2.0357 - mse: 7.8091 - val_loss: 15.9213 - val_root_mean_squared_error: 3.9901 - val_mae: 2.9133 - val_mse: 15.9213\n",
            "Epoch 41/50\n",
            "22/22 [==============================] - 0s 4ms/step - loss: 7.7646 - root_mean_squared_error: 2.7865 - mae: 1.9932 - mse: 7.7646 - val_loss: 16.2182 - val_root_mean_squared_error: 4.0272 - val_mae: 2.9439 - val_mse: 16.2182\n",
            "Epoch 42/50\n",
            "22/22 [==============================] - 0s 4ms/step - loss: 7.8896 - root_mean_squared_error: 2.8088 - mae: 2.0250 - mse: 7.8896 - val_loss: 16.6980 - val_root_mean_squared_error: 4.0863 - val_mae: 2.9475 - val_mse: 16.6980\n",
            "Epoch 43/50\n",
            "22/22 [==============================] - 0s 4ms/step - loss: 7.5288 - root_mean_squared_error: 2.7439 - mae: 1.9906 - mse: 7.5288 - val_loss: 16.1779 - val_root_mean_squared_error: 4.0222 - val_mae: 2.8622 - val_mse: 16.1779\n",
            "Epoch 44/50\n",
            "22/22 [==============================] - 0s 4ms/step - loss: 7.3271 - root_mean_squared_error: 2.7069 - mae: 1.9572 - mse: 7.3271 - val_loss: 20.0678 - val_root_mean_squared_error: 4.4797 - val_mae: 3.3820 - val_mse: 20.0678\n",
            "Epoch 45/50\n",
            "22/22 [==============================] - 0s 4ms/step - loss: 7.4551 - root_mean_squared_error: 2.7304 - mae: 1.9980 - mse: 7.4551 - val_loss: 16.8158 - val_root_mean_squared_error: 4.1007 - val_mae: 2.9966 - val_mse: 16.8158\n",
            "Epoch 46/50\n",
            "22/22 [==============================] - 0s 4ms/step - loss: 7.3153 - root_mean_squared_error: 2.7047 - mae: 1.9771 - mse: 7.3153 - val_loss: 17.9500 - val_root_mean_squared_error: 4.2367 - val_mae: 3.1560 - val_mse: 17.9500\n",
            "Epoch 47/50\n",
            "22/22 [==============================] - 0s 4ms/step - loss: 7.3353 - root_mean_squared_error: 2.7084 - mae: 1.9434 - mse: 7.3353 - val_loss: 17.6926 - val_root_mean_squared_error: 4.2063 - val_mae: 3.0967 - val_mse: 17.6926\n",
            "Epoch 48/50\n",
            "22/22 [==============================] - 0s 4ms/step - loss: 7.2557 - root_mean_squared_error: 2.6936 - mae: 1.9562 - mse: 7.2557 - val_loss: 16.5206 - val_root_mean_squared_error: 4.0646 - val_mae: 2.9787 - val_mse: 16.5206\n",
            "Epoch 49/50\n",
            "22/22 [==============================] - 0s 3ms/step - loss: 7.0218 - root_mean_squared_error: 2.6499 - mae: 1.9357 - mse: 7.0218 - val_loss: 17.3926 - val_root_mean_squared_error: 4.1704 - val_mae: 3.1572 - val_mse: 17.3926\n",
            "Epoch 50/50\n",
            "22/22 [==============================] - 0s 4ms/step - loss: 7.0822 - root_mean_squared_error: 2.6612 - mae: 1.9381 - mse: 7.0822 - val_loss: 16.4291 - val_root_mean_squared_error: 4.0533 - val_mae: 2.9892 - val_mse: 16.4291\n"
          ],
          "name": "stdout"
        }
      ]
    },
    {
      "cell_type": "markdown",
      "metadata": {
        "id": "VdbqyS21Z9py",
        "colab_type": "text"
      },
      "source": [
        "## Visualize Training\n",
        "\n",
        "Let's try a different technique to visualize. Begin by creating variable **hist** that holds the model's history as a Pandas DataFrame. Create another variable **hist['epoch']** to hold epoch history. Display the last five rows to get an idea about performance."
      ]
    },
    {
      "cell_type": "code",
      "metadata": {
        "id": "6642hhv_bE6k",
        "colab_type": "code",
        "colab": {
          "base_uri": "https://localhost:8080/",
          "height": 204
        },
        "outputId": "a8da82d4-41d6-4903-85e3-5a5cf1724a6c"
      },
      "source": [
        "hist = pd.DataFrame(history.history)\n",
        "hist['epoch'] = history.epoch\n",
        "hist.tail()"
      ],
      "execution_count": 35,
      "outputs": [
        {
          "output_type": "execute_result",
          "data": {
            "text/html": [
              "<div>\n",
              "<style scoped>\n",
              "    .dataframe tbody tr th:only-of-type {\n",
              "        vertical-align: middle;\n",
              "    }\n",
              "\n",
              "    .dataframe tbody tr th {\n",
              "        vertical-align: top;\n",
              "    }\n",
              "\n",
              "    .dataframe thead th {\n",
              "        text-align: right;\n",
              "    }\n",
              "</style>\n",
              "<table border=\"1\" class=\"dataframe\">\n",
              "  <thead>\n",
              "    <tr style=\"text-align: right;\">\n",
              "      <th></th>\n",
              "      <th>loss</th>\n",
              "      <th>root_mean_squared_error</th>\n",
              "      <th>mae</th>\n",
              "      <th>mse</th>\n",
              "      <th>val_loss</th>\n",
              "      <th>val_root_mean_squared_error</th>\n",
              "      <th>val_mae</th>\n",
              "      <th>val_mse</th>\n",
              "      <th>epoch</th>\n",
              "    </tr>\n",
              "  </thead>\n",
              "  <tbody>\n",
              "    <tr>\n",
              "      <th>45</th>\n",
              "      <td>7.315349</td>\n",
              "      <td>2.704690</td>\n",
              "      <td>1.977121</td>\n",
              "      <td>7.315349</td>\n",
              "      <td>17.950006</td>\n",
              "      <td>4.236745</td>\n",
              "      <td>3.156028</td>\n",
              "      <td>17.950006</td>\n",
              "      <td>45</td>\n",
              "    </tr>\n",
              "    <tr>\n",
              "      <th>46</th>\n",
              "      <td>7.335293</td>\n",
              "      <td>2.708375</td>\n",
              "      <td>1.943426</td>\n",
              "      <td>7.335293</td>\n",
              "      <td>17.692562</td>\n",
              "      <td>4.206253</td>\n",
              "      <td>3.096700</td>\n",
              "      <td>17.692562</td>\n",
              "      <td>46</td>\n",
              "    </tr>\n",
              "    <tr>\n",
              "      <th>47</th>\n",
              "      <td>7.255728</td>\n",
              "      <td>2.693646</td>\n",
              "      <td>1.956244</td>\n",
              "      <td>7.255728</td>\n",
              "      <td>16.520590</td>\n",
              "      <td>4.064553</td>\n",
              "      <td>2.978718</td>\n",
              "      <td>16.520590</td>\n",
              "      <td>47</td>\n",
              "    </tr>\n",
              "    <tr>\n",
              "      <th>48</th>\n",
              "      <td>7.021847</td>\n",
              "      <td>2.649877</td>\n",
              "      <td>1.935658</td>\n",
              "      <td>7.021847</td>\n",
              "      <td>17.392565</td>\n",
              "      <td>4.170439</td>\n",
              "      <td>3.157177</td>\n",
              "      <td>17.392565</td>\n",
              "      <td>48</td>\n",
              "    </tr>\n",
              "    <tr>\n",
              "      <th>49</th>\n",
              "      <td>7.082221</td>\n",
              "      <td>2.661244</td>\n",
              "      <td>1.938143</td>\n",
              "      <td>7.082221</td>\n",
              "      <td>16.429083</td>\n",
              "      <td>4.053280</td>\n",
              "      <td>2.989198</td>\n",
              "      <td>16.429083</td>\n",
              "      <td>49</td>\n",
              "    </tr>\n",
              "  </tbody>\n",
              "</table>\n",
              "</div>"
            ],
            "text/plain": [
              "        loss  root_mean_squared_error       mae  ...   val_mae    val_mse  epoch\n",
              "45  7.315349                 2.704690  1.977121  ...  3.156028  17.950006     45\n",
              "46  7.335293                 2.708375  1.943426  ...  3.096700  17.692562     46\n",
              "47  7.255728                 2.693646  1.956244  ...  2.978718  16.520590     47\n",
              "48  7.021847                 2.649877  1.935658  ...  3.157177  17.392565     48\n",
              "49  7.082221                 2.661244  1.938143  ...  2.989198  16.429083     49\n",
              "\n",
              "[5 rows x 9 columns]"
            ]
          },
          "metadata": {
            "tags": []
          },
          "execution_count": 35
        }
      ]
    },
    {
      "cell_type": "markdown",
      "metadata": {
        "id": "PrjulWObh0MT",
        "colab_type": "text"
      },
      "source": [
        "Build the plots:"
      ]
    },
    {
      "cell_type": "code",
      "metadata": {
        "id": "QVCSdFw7h2Ix",
        "colab_type": "code",
        "colab": {
          "base_uri": "https://localhost:8080/",
          "height": 885
        },
        "outputId": "5add1372-a8fd-4472-9c62-135a20c68d82"
      },
      "source": [
        "import matplotlib.pyplot as plt\n",
        "\n",
        "def plot_history(history, limit1, limit2):\n",
        "  hist = pd.DataFrame(history.history)\n",
        "  hist['epoch'] = history.epoch\n",
        "\n",
        "  plt.figure()\n",
        "  plt.xlabel('epoch')\n",
        "  plt.ylabel('MAE [MPG]')\n",
        "  plt.plot(hist['epoch'], hist['mae'],\n",
        "           label='Train Error')\n",
        "  plt.plot(hist['epoch'], hist['val_mae'],\n",
        "           label = 'Val Error')\n",
        "  plt.ylim([0, limit1])\n",
        "  plt.legend()\n",
        "  plt.title('MAE by Epoch')\n",
        "  plt.show()\n",
        "\n",
        "  plt.clf()\n",
        "\n",
        "  plt.figure()\n",
        "  plt.xlabel('Epoch')\n",
        "  plt.ylabel('MSE [MPG]')\n",
        "  plt.plot(hist['epoch'], hist['mse'],\n",
        "           label='Train Error')\n",
        "  plt.plot(hist['epoch'], hist['val_mse'],\n",
        "           label = 'Val Error')\n",
        "  plt.ylim([0, limit2])\n",
        "  plt.legend()\n",
        "  plt.title('MSE by Epoch')\n",
        "  plt.show()\n",
        "\n",
        "  plt.clf()\n",
        "\n",
        "  plt.figure()\n",
        "  plt.xlabel('Epoch')\n",
        "  plt.ylabel('RMSE [MPG]')\n",
        "  plt.plot(hist['epoch'], hist['root_mean_squared_error'],\n",
        "           label='Train Error')\n",
        "  plt.plot(hist['epoch'], hist['val_root_mean_squared_error'],\n",
        "           label = 'Val Error')\n",
        "  plt.ylim([0, limit2])\n",
        "  plt.legend()\n",
        "  plt.title('RMSE by Epoch')\n",
        "  plt.show()\n",
        "\n",
        "# set limits to make plot readable\n",
        "\n",
        "mae_limit, mse_limit = 10, 100\n",
        "plot_history(history, mae_limit, mse_limit)"
      ],
      "execution_count": 37,
      "outputs": [
        {
          "output_type": "display_data",
          "data": {
            "image/png": "[encoded data removed]",
            "text/plain": [
              "<Figure size 432x288 with 1 Axes>"
            ]
          },
          "metadata": {
            "tags": [],
            "needs_background": "light"
          }
        },
        {
          "output_type": "display_data",
          "data": {
            "text/plain": [
              "<Figure size 432x288 with 0 Axes>"
            ]
          },
          "metadata": {
            "tags": []
          }
        },
        {
          "output_type": "display_data",
          "data": {
            "image/png": "[encoded data removed]",
            "text/plain": [
              "<Figure size 432x288 with 1 Axes>"
            ]
          },
          "metadata": {
            "tags": [],
            "needs_background": "light"
          }
        },
        {
          "output_type": "display_data",
          "data": {
            "text/plain": [
              "<Figure size 432x288 with 0 Axes>"
            ]
          },
          "metadata": {
            "tags": []
          }
        },
        {
          "output_type": "display_data",
          "data": {
            "image/png": "[encoded data removed]",
            "text/plain": [
              "<Figure size 432x288 with 1 Axes>"
            ]
          },
          "metadata": {
            "tags": [],
            "needs_background": "light"
          }
        }
      ]
    },
    {
      "cell_type": "markdown",
      "metadata": {
        "id": "WXkMIR1NODys",
        "colab_type": "text"
      },
      "source": [
        "Since the validation error is a worse than the train error (for MAE and MSE at least), the model is overfitting. What can we do? The first step is to estimate when performance begins to degrade. From the visualizations, can you see when this happens?"
      ]
    },
    {
      "cell_type": "markdown",
      "metadata": {
        "id": "KhMb48ROjvRF",
        "colab_type": "text"
      },
      "source": [
        "## Early Stopping\n",
        "\n",
        "With classification, our goal is to maximize accuracy. Of course, we can want to minimize loss. With regression, our goal is to minimize **MSE** or one of the other error metrics. From the visualizations, we can see that our model is overfitting because validation error is higher than training error. We can also see that once train and validation error cross, performance begins to degrade. \n",
        "\n",
        "There is one simple tuning experiment we can run to make this model more useful. We can stop the model when training and validation error are very close to each other. This technique is called early stopping. **Early stopping** is a widely used approach that stops training at the point when performance on a validation dataset starts to degrade.\n",
        "\n",
        "Let's modify our training experiment to automatically stop training when the validation score doesn't improve. We use an **EarlyStopping** callback that tests a training condition for every epoch. If a set amount of epochs elapses without showing improvement, then training is automatically stopped.\n",
        "\n",
        "All we need to do is update our fit() method and rerun training:"
      ]
    },
    {
      "cell_type": "code",
      "metadata": {
        "id": "N5KR6ta4mFCX",
        "colab_type": "code",
        "colab": {
          "base_uri": "https://localhost:8080/",
          "height": 119
        },
        "outputId": "4750691c-66be-4694-8030-0636c46cd200"
      },
      "source": [
        "# clear the previous model\n",
        "\n",
        "keras.backend.clear_session()\n",
        "\n",
        "# plant a random seed for replication purposes\n",
        "np.random.seed(0)\n",
        "tf.random.set_seed(0)\n",
        "\n",
        "# monitor 'val_loss' for early stopping\n",
        "\n",
        "early_stop = keras.callbacks.EarlyStopping(monitor='val_loss')\n",
        "\n",
        "history = model.fit(train_bs, epochs=50,\n",
        "                    validation_data=test_bs,\n",
        "                    callbacks=[early_stop])"
      ],
      "execution_count": 38,
      "outputs": [
        {
          "output_type": "stream",
          "text": [
            "Epoch 1/50\n",
            "22/22 [==============================] - 0s 5ms/step - loss: 7.0236 - root_mean_squared_error: 2.6502 - mae: 1.9431 - mse: 7.0236 - val_loss: 17.5819 - val_root_mean_squared_error: 4.1931 - val_mae: 3.0974 - val_mse: 17.5819\n",
            "Epoch 2/50\n",
            "22/22 [==============================] - 0s 4ms/step - loss: 7.0801 - root_mean_squared_error: 2.6609 - mae: 1.9250 - mse: 7.0801 - val_loss: 15.1304 - val_root_mean_squared_error: 3.8898 - val_mae: 2.8262 - val_mse: 15.1304\n",
            "Epoch 3/50\n",
            "22/22 [==============================] - 0s 4ms/step - loss: 7.0006 - root_mean_squared_error: 2.6459 - mae: 1.9158 - mse: 7.0006 - val_loss: 15.9179 - val_root_mean_squared_error: 3.9897 - val_mae: 2.9463 - val_mse: 15.9179\n"
          ],
          "name": "stdout"
        }
      ]
    },
    {
      "cell_type": "markdown",
      "metadata": {
        "id": "XYjx3SYewatv",
        "colab_type": "text"
      },
      "source": [
        "Although we can get great results with early stopping, it is a good idea to add some control to ensure the best performance. For added control, we can add a parameter that forces the model to continue to a point that gives us the best performance. The **patience** parameter can be set to a given a number of epochs after which training will be stopped if there is no improvement. Let's try this and see what happens. "
      ]
    },
    {
      "cell_type": "code",
      "metadata": {
        "id": "y9P-M8GiufXW",
        "colab_type": "code",
        "colab": {
          "base_uri": "https://localhost:8080/",
          "height": 255
        },
        "outputId": "51b313dd-8385-47f0-a0f9-447c336cda3d"
      },
      "source": [
        "# clear the previous model\n",
        "\n",
        "keras.backend.clear_session()\n",
        "\n",
        "# plant a random seed for replication purposes\n",
        "np.random.seed(0)\n",
        "tf.random.set_seed(0)\n",
        "\n",
        "# set number of patience epochs\n",
        "\n",
        "n = 4\n",
        "\n",
        "early_stop = keras.callbacks.EarlyStopping(monitor='val_loss', patience=n)\n",
        "\n",
        "history = model.fit(train_bs, epochs=50,\n",
        "                    validation_data=test_bs,\n",
        "                    callbacks=[early_stop])"
      ],
      "execution_count": 39,
      "outputs": [
        {
          "output_type": "stream",
          "text": [
            "Epoch 1/50\n",
            "22/22 [==============================] - 0s 5ms/step - loss: 6.6984 - root_mean_squared_error: 2.5881 - mae: 1.8618 - mse: 6.6984 - val_loss: 17.5989 - val_root_mean_squared_error: 4.1951 - val_mae: 3.1331 - val_mse: 17.5989\n",
            "Epoch 2/50\n",
            "22/22 [==============================] - 0s 4ms/step - loss: 6.8127 - root_mean_squared_error: 2.6101 - mae: 1.9004 - mse: 6.8127 - val_loss: 15.6439 - val_root_mean_squared_error: 3.9552 - val_mae: 2.8909 - val_mse: 15.6439\n",
            "Epoch 3/50\n",
            "22/22 [==============================] - 0s 4ms/step - loss: 6.7614 - root_mean_squared_error: 2.6003 - mae: 1.8592 - mse: 6.7614 - val_loss: 14.9963 - val_root_mean_squared_error: 3.8725 - val_mae: 2.8259 - val_mse: 14.9963\n",
            "Epoch 4/50\n",
            "22/22 [==============================] - 0s 4ms/step - loss: 6.7706 - root_mean_squared_error: 2.6020 - mae: 1.9000 - mse: 6.7706 - val_loss: 16.0421 - val_root_mean_squared_error: 4.0053 - val_mae: 2.9519 - val_mse: 16.0421\n",
            "Epoch 5/50\n",
            "22/22 [==============================] - 0s 4ms/step - loss: 6.5284 - root_mean_squared_error: 2.5551 - mae: 1.8540 - mse: 6.5284 - val_loss: 17.8216 - val_root_mean_squared_error: 4.2216 - val_mae: 3.2060 - val_mse: 17.8216\n",
            "Epoch 6/50\n",
            "22/22 [==============================] - 0s 4ms/step - loss: 6.6778 - root_mean_squared_error: 2.5842 - mae: 1.8535 - mse: 6.6778 - val_loss: 17.9702 - val_root_mean_squared_error: 4.2391 - val_mae: 3.2005 - val_mse: 17.9702\n",
            "Epoch 7/50\n",
            "22/22 [==============================] - 0s 4ms/step - loss: 6.3354 - root_mean_squared_error: 2.5170 - mae: 1.8635 - mse: 6.3354 - val_loss: 17.6185 - val_root_mean_squared_error: 4.1974 - val_mae: 3.1570 - val_mse: 17.6185\n"
          ],
          "name": "stdout"
        }
      ]
    },
    {
      "cell_type": "markdown",
      "metadata": {
        "id": "o_AMHiaEnN-N",
        "colab_type": "text"
      },
      "source": [
        "Now, we have a better model because it stops closer to the ideal performance.\n",
        "\n",
        "Let's plot:"
      ]
    },
    {
      "cell_type": "code",
      "metadata": {
        "id": "gWQNPB0RnP5M",
        "colab_type": "code",
        "colab": {
          "base_uri": "https://localhost:8080/",
          "height": 885
        },
        "outputId": "834c7973-c6ce-4bd2-f693-84430ff0d665"
      },
      "source": [
        "hist = pd.DataFrame(history.history)\n",
        "hist['epoch'] = history.epoch\n",
        "hist.tail()\n",
        "\n",
        "train_limit, test_limit = 10, 100\n",
        "\n",
        "plot_history(history, train_limit, test_limit)"
      ],
      "execution_count": 40,
      "outputs": [
        {
          "output_type": "display_data",
          "data": {
            "image/png": "[encoded data removed]",
            "text/plain": [
              "<Figure size 432x288 with 1 Axes>"
            ]
          },
          "metadata": {
            "tags": [],
            "needs_background": "light"
          }
        },
        {
          "output_type": "display_data",
          "data": {
            "text/plain": [
              "<Figure size 432x288 with 0 Axes>"
            ]
          },
          "metadata": {
            "tags": []
          }
        },
        {
          "output_type": "display_data",
          "data": {
            "image/png": "[encoded data removed]",
            "text/plain": [
              "<Figure size 432x288 with 1 Axes>"
            ]
          },
          "metadata": {
            "tags": [],
            "needs_background": "light"
          }
        },
        {
          "output_type": "display_data",
          "data": {
            "text/plain": [
              "<Figure size 432x288 with 0 Axes>"
            ]
          },
          "metadata": {
            "tags": []
          }
        },
        {
          "output_type": "display_data",
          "data": {
            "image/png": "[encoded data removed]",
            "text/plain": [
              "<Figure size 432x288 with 1 Axes>"
            ]
          },
          "metadata": {
            "tags": [],
            "needs_background": "light"
          }
        }
      ]
    },
    {
      "cell_type": "markdown",
      "metadata": {
        "id": "bnGaZrlBnWcb",
        "colab_type": "text"
      },
      "source": [
        "## Remove Bad Data\n",
        "\n",
        "Although early stopping worked as expected, we might be able to squeeze out a bit more performance with this dataset. The boston dataset has some bad data so we can modify it.\n",
        "\n",
        "What is wrong with the data? Prices of homes is capped at $50,000 because the Census Service censored the data. They decided to set the maximum value of the price variable to 50k USD, so no price can go beyond that value.\n",
        "\n",
        "What do we do? While maybe not ideal, we can remove data with prices at or above 50k USD. This is not ideal because we may be removing perfectly good data, but there is no way to know this. Another reason is because the dataset is so small to begin with. Neural nets are meant to perform at their best with larger datasets.\n",
        "\n",
        "Keep in mind that our book is an introduction, so we are not nearly as concerned with performance as we would be if working on real datasets. We are just trying to help you learn how to use TensorFlow 2.x. If you want to explore this topic further, we recommend this URL:\n",
        "\n",
        "https://towardsdatascience.com/things-you-didnt-know-about-the-boston-housing-dataset-2e87a6f960e8"
      ]
    },
    {
      "cell_type": "markdown",
      "metadata": {
        "id": "xVwxZFdHvAP6",
        "colab_type": "text"
      },
      "source": [
        "## Get Data\n",
        "\n",
        "To make this happen, we have to return to the original data because we've processed the heck out of it to ready it for TensorFlow consumption. So let's get started: "
      ]
    },
    {
      "cell_type": "code",
      "metadata": {
        "id": "OMWhR_VEsNFz",
        "colab_type": "code",
        "colab": {}
      },
      "source": [
        "# get the data\n",
        "\n",
        "url = 'https://raw.githubusercontent.com/paperd/tensorflow/\\\n",
        "master/chapter6/data/boston.csv'\n",
        "\n",
        "boston = pd.read_csv(url)"
      ],
      "execution_count": 41,
      "outputs": []
    },
    {
      "cell_type": "markdown",
      "metadata": {
        "id": "f1ZF45fpK54_",
        "colab_type": "text"
      },
      "source": [
        "Verify data:"
      ]
    },
    {
      "cell_type": "code",
      "metadata": {
        "id": "mx9YONJKK6AL",
        "colab_type": "code",
        "colab": {
          "base_uri": "https://localhost:8080/",
          "height": 204
        },
        "outputId": "6c0d695b-315a-4ce5-d4a7-c4facd2710d4"
      },
      "source": [
        "boston.head()"
      ],
      "execution_count": 42,
      "outputs": [
        {
          "output_type": "execute_result",
          "data": {
            "text/html": [
              "<div>\n",
              "<style scoped>\n",
              "    .dataframe tbody tr th:only-of-type {\n",
              "        vertical-align: middle;\n",
              "    }\n",
              "\n",
              "    .dataframe tbody tr th {\n",
              "        vertical-align: top;\n",
              "    }\n",
              "\n",
              "    .dataframe thead th {\n",
              "        text-align: right;\n",
              "    }\n",
              "</style>\n",
              "<table border=\"1\" class=\"dataframe\">\n",
              "  <thead>\n",
              "    <tr style=\"text-align: right;\">\n",
              "      <th></th>\n",
              "      <th>CRIM</th>\n",
              "      <th>ZN</th>\n",
              "      <th>INDUS</th>\n",
              "      <th>CHAS</th>\n",
              "      <th>NOX</th>\n",
              "      <th>RM</th>\n",
              "      <th>AGE</th>\n",
              "      <th>DIS</th>\n",
              "      <th>RAD</th>\n",
              "      <th>TAX</th>\n",
              "      <th>PTRATIO</th>\n",
              "      <th>LSTAT</th>\n",
              "      <th>MEDV</th>\n",
              "    </tr>\n",
              "  </thead>\n",
              "  <tbody>\n",
              "    <tr>\n",
              "      <th>0</th>\n",
              "      <td>0.00632</td>\n",
              "      <td>18.0</td>\n",
              "      <td>2.31</td>\n",
              "      <td>0</td>\n",
              "      <td>0.538</td>\n",
              "      <td>6.575</td>\n",
              "      <td>65.2</td>\n",
              "      <td>4.0900</td>\n",
              "      <td>1</td>\n",
              "      <td>296</td>\n",
              "      <td>15.3</td>\n",
              "      <td>4.98</td>\n",
              "      <td>24.0</td>\n",
              "    </tr>\n",
              "    <tr>\n",
              "      <th>1</th>\n",
              "      <td>0.02731</td>\n",
              "      <td>0.0</td>\n",
              "      <td>7.07</td>\n",
              "      <td>0</td>\n",
              "      <td>0.469</td>\n",
              "      <td>6.421</td>\n",
              "      <td>78.9</td>\n",
              "      <td>4.9671</td>\n",
              "      <td>2</td>\n",
              "      <td>242</td>\n",
              "      <td>17.8</td>\n",
              "      <td>9.14</td>\n",
              "      <td>21.6</td>\n",
              "    </tr>\n",
              "    <tr>\n",
              "      <th>2</th>\n",
              "      <td>0.02729</td>\n",
              "      <td>0.0</td>\n",
              "      <td>7.07</td>\n",
              "      <td>0</td>\n",
              "      <td>0.469</td>\n",
              "      <td>7.185</td>\n",
              "      <td>61.1</td>\n",
              "      <td>4.9671</td>\n",
              "      <td>2</td>\n",
              "      <td>242</td>\n",
              "      <td>17.8</td>\n",
              "      <td>4.03</td>\n",
              "      <td>34.7</td>\n",
              "    </tr>\n",
              "    <tr>\n",
              "      <th>3</th>\n",
              "      <td>0.03237</td>\n",
              "      <td>0.0</td>\n",
              "      <td>2.18</td>\n",
              "      <td>0</td>\n",
              "      <td>0.458</td>\n",
              "      <td>6.998</td>\n",
              "      <td>45.8</td>\n",
              "      <td>6.0622</td>\n",
              "      <td>3</td>\n",
              "      <td>222</td>\n",
              "      <td>18.7</td>\n",
              "      <td>2.94</td>\n",
              "      <td>33.4</td>\n",
              "    </tr>\n",
              "    <tr>\n",
              "      <th>4</th>\n",
              "      <td>0.06905</td>\n",
              "      <td>0.0</td>\n",
              "      <td>2.18</td>\n",
              "      <td>0</td>\n",
              "      <td>0.458</td>\n",
              "      <td>7.147</td>\n",
              "      <td>54.2</td>\n",
              "      <td>6.0622</td>\n",
              "      <td>3</td>\n",
              "      <td>222</td>\n",
              "      <td>18.7</td>\n",
              "      <td>5.33</td>\n",
              "      <td>36.2</td>\n",
              "    </tr>\n",
              "  </tbody>\n",
              "</table>\n",
              "</div>"
            ],
            "text/plain": [
              "      CRIM   ZN   INDUS   CHAS    NOX  ...  RAD  TAX  PTRATIO  LSTAT  MEDV\n",
              "0  0.00632  18.0    2.31     0  0.538  ...    1  296     15.3   4.98  24.0\n",
              "1  0.02731   0.0    7.07     0  0.469  ...    2  242     17.8   9.14  21.6\n",
              "2  0.02729   0.0    7.07     0  0.469  ...    2  242     17.8   4.03  34.7\n",
              "3  0.03237   0.0    2.18     0  0.458  ...    3  222     18.7   2.94  33.4\n",
              "4  0.06905   0.0    2.18     0  0.458  ...    3  222     18.7   5.33  36.2\n",
              "\n",
              "[5 rows x 13 columns]"
            ]
          },
          "metadata": {
            "tags": []
          },
          "execution_count": 42
        }
      ]
    },
    {
      "cell_type": "markdown",
      "metadata": {
        "id": "Dq-cW8LNxfc8",
        "colab_type": "text"
      },
      "source": [
        "## Remove Noise"
      ]
    },
    {
      "cell_type": "code",
      "metadata": {
        "id": "BqpBfLBiv3w0",
        "colab_type": "code",
        "colab": {
          "base_uri": "https://localhost:8080/",
          "height": 51
        },
        "outputId": "7bbd4c1a-a8ca-48e0-de28-e1b90ffb3e00"
      },
      "source": [
        "print ('data set before removing noise:', boston.shape)\n",
        "\n",
        "# remove noise\n",
        "\n",
        "noise = boston.loc[boston['MEDV'] >= 50]\n",
        "data = boston.drop(noise.index)\n",
        "\n",
        "print ('data set without noise:', data.shape)"
      ],
      "execution_count": 43,
      "outputs": [
        {
          "output_type": "stream",
          "text": [
            "data set before removing noise: (506, 13)\n",
            "data set without noise: (490, 13)\n"
          ],
          "name": "stdout"
        }
      ]
    },
    {
      "cell_type": "markdown",
      "metadata": {
        "id": "f9D-0FBBwGhb",
        "colab_type": "text"
      },
      "source": [
        "## Create Target Data\n",
        "\n",
        "So, we now have a dataset without the possibly corrupted data. Now, let's create an input pipeline like before and model the new dataset. First, we need to split target data from the DataFrame:"
      ]
    },
    {
      "cell_type": "code",
      "metadata": {
        "id": "xQixTaRjwXKE",
        "colab_type": "code",
        "colab": {
          "base_uri": "https://localhost:8080/",
          "height": 119
        },
        "outputId": "b5daab10-f2cc-43f5-f65d-f6be0c6cd199"
      },
      "source": [
        "# create a copy of the DataFrame\n",
        "\n",
        "df = data.copy()\n",
        "\n",
        "# create the target\n",
        "\n",
        "target = df.pop('MEDV')\n",
        "target.head()"
      ],
      "execution_count": 45,
      "outputs": [
        {
          "output_type": "execute_result",
          "data": {
            "text/plain": [
              "0    24.0\n",
              "1    21.6\n",
              "2    34.7\n",
              "3    33.4\n",
              "4    36.2\n",
              "Name: MEDV, dtype: float64"
            ]
          },
          "metadata": {
            "tags": []
          },
          "execution_count": 45
        }
      ]
    },
    {
      "cell_type": "markdown",
      "metadata": {
        "id": "XPgoqqJ8w34O",
        "colab_type": "text"
      },
      "source": [
        "## Transform Data\n",
        "\n",
        "Transform DataFrame into NumPy:"
      ]
    },
    {
      "cell_type": "code",
      "metadata": {
        "id": "zmBUFmc8xEO4",
        "colab_type": "code",
        "colab": {}
      },
      "source": [
        "features = df.values\n",
        "labels = target.values"
      ],
      "execution_count": 46,
      "outputs": []
    },
    {
      "cell_type": "markdown",
      "metadata": {
        "id": "Ir-nAuxWwfO0",
        "colab_type": "text"
      },
      "source": [
        "## Create Train and Test Data"
      ]
    },
    {
      "cell_type": "code",
      "metadata": {
        "id": "6J3pY8azwo4O",
        "colab_type": "code",
        "colab": {}
      },
      "source": [
        "X_train, X_test, y_train, y_test = train_test_split(\n",
        "    features, labels, test_size=0.33, random_state=0)\n",
        "\n",
        "# standardize feature image data and create TensorFlow tensors\n",
        "\n",
        "X_train_std = scaler.fit_transform(X_train)\n",
        "X_test_std = scaler.fit_transform(X_test)"
      ],
      "execution_count": 48,
      "outputs": []
    },
    {
      "cell_type": "markdown",
      "metadata": {
        "id": "8Yg6orsNx65D",
        "colab_type": "text"
      },
      "source": [
        "## Transform Data for the Input Pipeline"
      ]
    },
    {
      "cell_type": "code",
      "metadata": {
        "id": "BEmWJUZ8x7Bg",
        "colab_type": "code",
        "colab": {}
      },
      "source": [
        "train = tf.data.Dataset.from_tensor_slices((X_train_std, y_train))\n",
        "test = tf.data.Dataset.from_tensor_slices((X_test_std, y_test))"
      ],
      "execution_count": 50,
      "outputs": []
    },
    {
      "cell_type": "markdown",
      "metadata": {
        "id": "KEl6eu9tyHCq",
        "colab_type": "text"
      },
      "source": [
        "## Continue Building the Input Pipeline"
      ]
    },
    {
      "cell_type": "code",
      "metadata": {
        "id": "kkPVBlM-yHLg",
        "colab_type": "code",
        "colab": {}
      },
      "source": [
        "BATCH_SIZE = 16\n",
        "SHUFFLE_BUFFER_SIZE = 100\n",
        "\n",
        "train_n = train.shuffle(SHUFFLE_BUFFER_SIZE).batch(BATCH_SIZE).prefetch(1)\n",
        "test_n = test.batch(BATCH_SIZE).prefetch(1)"
      ],
      "execution_count": 52,
      "outputs": []
    },
    {
      "cell_type": "markdown",
      "metadata": {
        "id": "vaNUghFkz5Yb",
        "colab_type": "text"
      },
      "source": [
        "## Train the Model\n",
        "\n",
        "Let's reuse the model that we've already created and compiled. We just need to clear memory and retrain with the data with noise removed."
      ]
    },
    {
      "cell_type": "code",
      "metadata": {
        "id": "4PoJMr4Kz5jQ",
        "colab_type": "code",
        "colab": {
          "base_uri": "https://localhost:8080/",
          "height": 1000
        },
        "outputId": "ac875080-e7f8-4e6c-e34a-fe48f0bf060b"
      },
      "source": [
        "keras.backend.clear_session()\n",
        "\n",
        "# plant a random seed for replication purposes\n",
        "np.random.seed(0)\n",
        "tf.random.set_seed(0)\n",
        "\n",
        "history = model.fit(train_n, epochs=50,\n",
        "                    validation_data=test_n)"
      ],
      "execution_count": 53,
      "outputs": [
        {
          "output_type": "stream",
          "text": [
            "Epoch 1/50\n",
            "21/21 [==============================] - 0s 5ms/step - loss: 6.2805 - root_mean_squared_error: 2.5061 - mae: 1.8838 - mse: 6.2805 - val_loss: 11.9465 - val_root_mean_squared_error: 3.4564 - val_mae: 2.5133 - val_mse: 11.9465\n",
            "Epoch 2/50\n",
            "21/21 [==============================] - 0s 4ms/step - loss: 5.2857 - root_mean_squared_error: 2.2991 - mae: 1.7696 - mse: 5.2857 - val_loss: 11.7030 - val_root_mean_squared_error: 3.4210 - val_mae: 2.4732 - val_mse: 11.7030\n",
            "Epoch 3/50\n",
            "21/21 [==============================] - 0s 4ms/step - loss: 5.2978 - root_mean_squared_error: 2.3017 - mae: 1.7887 - mse: 5.2978 - val_loss: 12.5329 - val_root_mean_squared_error: 3.5402 - val_mae: 2.5919 - val_mse: 12.5329\n",
            "Epoch 4/50\n",
            "21/21 [==============================] - 0s 4ms/step - loss: 5.0758 - root_mean_squared_error: 2.2529 - mae: 1.7180 - mse: 5.0758 - val_loss: 15.9265 - val_root_mean_squared_error: 3.9908 - val_mae: 3.0069 - val_mse: 15.9265\n",
            "Epoch 5/50\n",
            "21/21 [==============================] - 0s 3ms/step - loss: 5.0241 - root_mean_squared_error: 2.2415 - mae: 1.6998 - mse: 5.0241 - val_loss: 12.0230 - val_root_mean_squared_error: 3.4674 - val_mae: 2.5369 - val_mse: 12.0230\n",
            "Epoch 6/50\n",
            "21/21 [==============================] - 0s 4ms/step - loss: 4.8458 - root_mean_squared_error: 2.2013 - mae: 1.6861 - mse: 4.8458 - val_loss: 14.3731 - val_root_mean_squared_error: 3.7912 - val_mae: 2.8311 - val_mse: 14.3731\n",
            "Epoch 7/50\n",
            "21/21 [==============================] - 0s 4ms/step - loss: 4.7227 - root_mean_squared_error: 2.1732 - mae: 1.6674 - mse: 4.7227 - val_loss: 15.4564 - val_root_mean_squared_error: 3.9315 - val_mae: 2.9704 - val_mse: 15.4564\n",
            "Epoch 8/50\n",
            "21/21 [==============================] - 0s 4ms/step - loss: 4.7622 - root_mean_squared_error: 2.1823 - mae: 1.6629 - mse: 4.7622 - val_loss: 13.8962 - val_root_mean_squared_error: 3.7278 - val_mae: 2.8015 - val_mse: 13.8962\n",
            "Epoch 9/50\n",
            "21/21 [==============================] - 0s 4ms/step - loss: 4.5529 - root_mean_squared_error: 2.1337 - mae: 1.6201 - mse: 4.5529 - val_loss: 11.8533 - val_root_mean_squared_error: 3.4429 - val_mae: 2.5569 - val_mse: 11.8533\n",
            "Epoch 10/50\n",
            "21/21 [==============================] - 0s 4ms/step - loss: 4.6543 - root_mean_squared_error: 2.1574 - mae: 1.6482 - mse: 4.6543 - val_loss: 11.5154 - val_root_mean_squared_error: 3.3934 - val_mae: 2.4589 - val_mse: 11.5154\n",
            "Epoch 11/50\n",
            "21/21 [==============================] - 0s 4ms/step - loss: 4.7073 - root_mean_squared_error: 2.1696 - mae: 1.6381 - mse: 4.7073 - val_loss: 11.1716 - val_root_mean_squared_error: 3.3424 - val_mae: 2.4407 - val_mse: 11.1716\n",
            "Epoch 12/50\n",
            "21/21 [==============================] - 0s 4ms/step - loss: 4.5641 - root_mean_squared_error: 2.1364 - mae: 1.6434 - mse: 4.5641 - val_loss: 12.8495 - val_root_mean_squared_error: 3.5846 - val_mae: 2.6479 - val_mse: 12.8495\n",
            "Epoch 13/50\n",
            "21/21 [==============================] - 0s 4ms/step - loss: 4.4937 - root_mean_squared_error: 2.1198 - mae: 1.6267 - mse: 4.4937 - val_loss: 13.2087 - val_root_mean_squared_error: 3.6344 - val_mae: 2.6755 - val_mse: 13.2087\n",
            "Epoch 14/50\n",
            "21/21 [==============================] - 0s 4ms/step - loss: 4.4549 - root_mean_squared_error: 2.1107 - mae: 1.5850 - mse: 4.4549 - val_loss: 10.8888 - val_root_mean_squared_error: 3.2998 - val_mae: 2.4222 - val_mse: 10.8888\n",
            "Epoch 15/50\n",
            "21/21 [==============================] - 0s 4ms/step - loss: 4.5855 - root_mean_squared_error: 2.1414 - mae: 1.6375 - mse: 4.5855 - val_loss: 11.2558 - val_root_mean_squared_error: 3.3550 - val_mae: 2.4323 - val_mse: 11.2558\n",
            "Epoch 16/50\n",
            "21/21 [==============================] - 0s 4ms/step - loss: 4.5100 - root_mean_squared_error: 2.1237 - mae: 1.6052 - mse: 4.5100 - val_loss: 13.3569 - val_root_mean_squared_error: 3.6547 - val_mae: 2.6939 - val_mse: 13.3569\n",
            "Epoch 17/50\n",
            "21/21 [==============================] - 0s 4ms/step - loss: 4.3124 - root_mean_squared_error: 2.0766 - mae: 1.5669 - mse: 4.3124 - val_loss: 16.6588 - val_root_mean_squared_error: 4.0815 - val_mae: 3.1091 - val_mse: 16.6588\n",
            "Epoch 18/50\n",
            "21/21 [==============================] - 0s 4ms/step - loss: 4.3665 - root_mean_squared_error: 2.0896 - mae: 1.5712 - mse: 4.3665 - val_loss: 12.6079 - val_root_mean_squared_error: 3.5508 - val_mae: 2.6265 - val_mse: 12.6079\n",
            "Epoch 19/50\n",
            "21/21 [==============================] - 0s 4ms/step - loss: 4.2825 - root_mean_squared_error: 2.0694 - mae: 1.5845 - mse: 4.2825 - val_loss: 11.9087 - val_root_mean_squared_error: 3.4509 - val_mae: 2.5286 - val_mse: 11.9087\n",
            "Epoch 20/50\n",
            "21/21 [==============================] - 0s 4ms/step - loss: 4.2427 - root_mean_squared_error: 2.0598 - mae: 1.5611 - mse: 4.2427 - val_loss: 11.6699 - val_root_mean_squared_error: 3.4161 - val_mae: 2.4959 - val_mse: 11.6699\n",
            "Epoch 21/50\n",
            "21/21 [==============================] - 0s 4ms/step - loss: 4.4143 - root_mean_squared_error: 2.1010 - mae: 1.5613 - mse: 4.4143 - val_loss: 12.2611 - val_root_mean_squared_error: 3.5016 - val_mae: 2.5666 - val_mse: 12.2611\n",
            "Epoch 22/50\n",
            "21/21 [==============================] - 0s 3ms/step - loss: 4.2396 - root_mean_squared_error: 2.0590 - mae: 1.5442 - mse: 4.2396 - val_loss: 13.4346 - val_root_mean_squared_error: 3.6653 - val_mae: 2.7231 - val_mse: 13.4346\n",
            "Epoch 23/50\n",
            "21/21 [==============================] - 0s 3ms/step - loss: 4.1709 - root_mean_squared_error: 2.0423 - mae: 1.5402 - mse: 4.1709 - val_loss: 12.0511 - val_root_mean_squared_error: 3.4715 - val_mae: 2.5088 - val_mse: 12.0511\n",
            "Epoch 24/50\n",
            "21/21 [==============================] - 0s 4ms/step - loss: 4.2252 - root_mean_squared_error: 2.0555 - mae: 1.5651 - mse: 4.2252 - val_loss: 13.0636 - val_root_mean_squared_error: 3.6144 - val_mae: 2.6564 - val_mse: 13.0636\n",
            "Epoch 25/50\n",
            "21/21 [==============================] - 0s 4ms/step - loss: 4.1267 - root_mean_squared_error: 2.0314 - mae: 1.5344 - mse: 4.1267 - val_loss: 14.2692 - val_root_mean_squared_error: 3.7775 - val_mae: 2.8058 - val_mse: 14.2692\n",
            "Epoch 26/50\n",
            "21/21 [==============================] - 0s 4ms/step - loss: 4.2830 - root_mean_squared_error: 2.0695 - mae: 1.5261 - mse: 4.2830 - val_loss: 12.1287 - val_root_mean_squared_error: 3.4826 - val_mae: 2.5280 - val_mse: 12.1287\n",
            "Epoch 27/50\n",
            "21/21 [==============================] - 0s 4ms/step - loss: 4.1626 - root_mean_squared_error: 2.0403 - mae: 1.5405 - mse: 4.1626 - val_loss: 13.2249 - val_root_mean_squared_error: 3.6366 - val_mae: 2.6463 - val_mse: 13.2249\n",
            "Epoch 28/50\n",
            "21/21 [==============================] - 0s 4ms/step - loss: 4.1352 - root_mean_squared_error: 2.0335 - mae: 1.5363 - mse: 4.1352 - val_loss: 13.0701 - val_root_mean_squared_error: 3.6153 - val_mae: 2.6532 - val_mse: 13.0701\n",
            "Epoch 29/50\n",
            "21/21 [==============================] - 0s 4ms/step - loss: 4.0194 - root_mean_squared_error: 2.0048 - mae: 1.5114 - mse: 4.0194 - val_loss: 14.1987 - val_root_mean_squared_error: 3.7681 - val_mae: 2.8040 - val_mse: 14.1987\n",
            "Epoch 30/50\n",
            "21/21 [==============================] - 0s 4ms/step - loss: 4.0980 - root_mean_squared_error: 2.0244 - mae: 1.5258 - mse: 4.0980 - val_loss: 11.4009 - val_root_mean_squared_error: 3.3765 - val_mae: 2.4447 - val_mse: 11.4009\n",
            "Epoch 31/50\n",
            "21/21 [==============================] - 0s 4ms/step - loss: 4.0478 - root_mean_squared_error: 2.0119 - mae: 1.5086 - mse: 4.0478 - val_loss: 12.7911 - val_root_mean_squared_error: 3.5765 - val_mae: 2.6161 - val_mse: 12.7911\n",
            "Epoch 32/50\n",
            "21/21 [==============================] - 0s 4ms/step - loss: 4.0691 - root_mean_squared_error: 2.0172 - mae: 1.5134 - mse: 4.0691 - val_loss: 13.1616 - val_root_mean_squared_error: 3.6279 - val_mae: 2.6357 - val_mse: 13.1616\n",
            "Epoch 33/50\n",
            "21/21 [==============================] - 0s 4ms/step - loss: 3.8911 - root_mean_squared_error: 1.9726 - mae: 1.4793 - mse: 3.8911 - val_loss: 11.4966 - val_root_mean_squared_error: 3.3907 - val_mae: 2.4657 - val_mse: 11.4966\n",
            "Epoch 34/50\n",
            "21/21 [==============================] - 0s 4ms/step - loss: 3.9993 - root_mean_squared_error: 1.9998 - mae: 1.5323 - mse: 3.9993 - val_loss: 13.5777 - val_root_mean_squared_error: 3.6848 - val_mae: 2.7029 - val_mse: 13.5777\n",
            "Epoch 35/50\n",
            "21/21 [==============================] - 0s 3ms/step - loss: 4.0745 - root_mean_squared_error: 2.0185 - mae: 1.5067 - mse: 4.0745 - val_loss: 12.7527 - val_root_mean_squared_error: 3.5711 - val_mae: 2.5961 - val_mse: 12.7527\n",
            "Epoch 36/50\n",
            "21/21 [==============================] - 0s 4ms/step - loss: 3.9420 - root_mean_squared_error: 1.9855 - mae: 1.4879 - mse: 3.9420 - val_loss: 11.6160 - val_root_mean_squared_error: 3.4082 - val_mae: 2.4587 - val_mse: 11.6160\n",
            "Epoch 37/50\n",
            "21/21 [==============================] - 0s 4ms/step - loss: 3.9739 - root_mean_squared_error: 1.9935 - mae: 1.4682 - mse: 3.9739 - val_loss: 11.5365 - val_root_mean_squared_error: 3.3965 - val_mae: 2.4308 - val_mse: 11.5365\n",
            "Epoch 38/50\n",
            "21/21 [==============================] - 0s 4ms/step - loss: 3.8924 - root_mean_squared_error: 1.9729 - mae: 1.4665 - mse: 3.8924 - val_loss: 11.3574 - val_root_mean_squared_error: 3.3701 - val_mae: 2.3851 - val_mse: 11.3574\n",
            "Epoch 39/50\n",
            "21/21 [==============================] - 0s 4ms/step - loss: 4.0294 - root_mean_squared_error: 2.0073 - mae: 1.5100 - mse: 4.0294 - val_loss: 15.9843 - val_root_mean_squared_error: 3.9980 - val_mae: 2.9864 - val_mse: 15.9843\n",
            "Epoch 40/50\n",
            "21/21 [==============================] - 0s 4ms/step - loss: 3.9285 - root_mean_squared_error: 1.9820 - mae: 1.4694 - mse: 3.9285 - val_loss: 12.9162 - val_root_mean_squared_error: 3.5939 - val_mae: 2.6097 - val_mse: 12.9162\n",
            "Epoch 41/50\n",
            "21/21 [==============================] - 0s 4ms/step - loss: 3.9740 - root_mean_squared_error: 1.9935 - mae: 1.4921 - mse: 3.9740 - val_loss: 12.1993 - val_root_mean_squared_error: 3.4928 - val_mae: 2.4913 - val_mse: 12.1993\n",
            "Epoch 42/50\n",
            "21/21 [==============================] - 0s 4ms/step - loss: 3.8896 - root_mean_squared_error: 1.9722 - mae: 1.4802 - mse: 3.8896 - val_loss: 13.0723 - val_root_mean_squared_error: 3.6156 - val_mae: 2.6366 - val_mse: 13.0723\n",
            "Epoch 43/50\n",
            "21/21 [==============================] - 0s 4ms/step - loss: 3.7919 - root_mean_squared_error: 1.9473 - mae: 1.4444 - mse: 3.7919 - val_loss: 11.7527 - val_root_mean_squared_error: 3.4282 - val_mae: 2.4423 - val_mse: 11.7527\n",
            "Epoch 44/50\n",
            "21/21 [==============================] - 0s 4ms/step - loss: 3.8271 - root_mean_squared_error: 1.9563 - mae: 1.4737 - mse: 3.8271 - val_loss: 13.1746 - val_root_mean_squared_error: 3.6297 - val_mae: 2.6373 - val_mse: 13.1746\n",
            "Epoch 45/50\n",
            "21/21 [==============================] - 0s 4ms/step - loss: 3.7844 - root_mean_squared_error: 1.9454 - mae: 1.4312 - mse: 3.7844 - val_loss: 13.2131 - val_root_mean_squared_error: 3.6350 - val_mae: 2.6586 - val_mse: 13.2131\n",
            "Epoch 46/50\n",
            "21/21 [==============================] - 0s 4ms/step - loss: 3.8364 - root_mean_squared_error: 1.9587 - mae: 1.4659 - mse: 3.8364 - val_loss: 12.2881 - val_root_mean_squared_error: 3.5054 - val_mae: 2.5323 - val_mse: 12.2881\n",
            "Epoch 47/50\n",
            "21/21 [==============================] - 0s 4ms/step - loss: 3.7882 - root_mean_squared_error: 1.9463 - mae: 1.4609 - mse: 3.7882 - val_loss: 12.9014 - val_root_mean_squared_error: 3.5918 - val_mae: 2.5999 - val_mse: 12.9014\n",
            "Epoch 48/50\n",
            "21/21 [==============================] - 0s 4ms/step - loss: 3.8444 - root_mean_squared_error: 1.9607 - mae: 1.4655 - mse: 3.8444 - val_loss: 15.9884 - val_root_mean_squared_error: 3.9985 - val_mae: 3.0011 - val_mse: 15.9884\n",
            "Epoch 49/50\n",
            "21/21 [==============================] - 0s 4ms/step - loss: 3.6866 - root_mean_squared_error: 1.9201 - mae: 1.4376 - mse: 3.6866 - val_loss: 14.2859 - val_root_mean_squared_error: 3.7797 - val_mae: 2.8003 - val_mse: 14.2859\n",
            "Epoch 50/50\n",
            "21/21 [==============================] - 0s 4ms/step - loss: 3.8063 - root_mean_squared_error: 1.9510 - mae: 1.4566 - mse: 3.8063 - val_loss: 12.4777 - val_root_mean_squared_error: 3.5324 - val_mae: 2.5106 - val_mse: 12.4777\n"
          ],
          "name": "stdout"
        }
      ]
    },
    {
      "cell_type": "markdown",
      "metadata": {
        "id": "j9z83OyU0e7t",
        "colab_type": "text"
      },
      "source": [
        "## Let's Visualize"
      ]
    },
    {
      "cell_type": "code",
      "metadata": {
        "id": "yvR2d3XK0fF7",
        "colab_type": "code",
        "colab": {
          "base_uri": "https://localhost:8080/",
          "height": 885
        },
        "outputId": "423566d2-3ea9-4450-f122-ccaeb82c0b4f"
      },
      "source": [
        "hist = pd.DataFrame(history.history)\n",
        "hist['epoch'] = history.epoch\n",
        "hist.tail()\n",
        "\n",
        "train_limit, test_limit = 10, 100\n",
        "\n",
        "plot_history(history, train_limit, test_limit)"
      ],
      "execution_count": 54,
      "outputs": [
        {
          "output_type": "display_data",
          "data": {
            "image/png": "[encoded data removed]",
            "text/plain": [
              "<Figure size 432x288 with 1 Axes>"
            ]
          },
          "metadata": {
            "tags": [],
            "needs_background": "light"
          }
        },
        {
          "output_type": "display_data",
          "data": {
            "text/plain": [
              "<Figure size 432x288 with 0 Axes>"
            ]
          },
          "metadata": {
            "tags": []
          }
        },
        {
          "output_type": "display_data",
          "data": {
            "image/png": "[encoded data removed]",
            "text/plain": [
              "<Figure size 432x288 with 1 Axes>"
            ]
          },
          "metadata": {
            "tags": [],
            "needs_background": "light"
          }
        },
        {
          "output_type": "display_data",
          "data": {
            "text/plain": [
              "<Figure size 432x288 with 0 Axes>"
            ]
          },
          "metadata": {
            "tags": []
          }
        },
        {
          "output_type": "display_data",
          "data": {
            "image/png": "[encoded data removed]",
            "text/plain": [
              "<Figure size 432x288 with 1 Axes>"
            ]
          },
          "metadata": {
            "tags": [],
            "needs_background": "light"
          }
        }
      ]
    },
    {
      "cell_type": "markdown",
      "metadata": {
        "id": "hS_PlzWL16gM",
        "colab_type": "text"
      },
      "source": [
        "It looks like we get the best performance very early on. Notice that performance doesn't really improve or degrade that much no matter how many epochs we use. So, let's use early stopping."
      ]
    },
    {
      "cell_type": "markdown",
      "metadata": {
        "id": "vaRuaaaazbo6",
        "colab_type": "text"
      },
      "source": [
        "## Train the Model\n",
        "\n",
        "Let's reuse the model that we've already created and compiled. We just need to clear memory and retrain with the data with noise removed."
      ]
    },
    {
      "cell_type": "code",
      "metadata": {
        "id": "B81mEli_zbxL",
        "colab_type": "code",
        "colab": {
          "base_uri": "https://localhost:8080/",
          "height": 289
        },
        "outputId": "d0430fe4-c399-45a0-a137-5b17faefd93d"
      },
      "source": [
        "keras.backend.clear_session()\n",
        "\n",
        "# plant a random seed for replication purposes\n",
        "np.random.seed(0)\n",
        "tf.random.set_seed(0)\n",
        "\n",
        "n = 4\n",
        "\n",
        "early_stop = keras.callbacks.EarlyStopping(monitor='val_loss', patience=n)\n",
        "\n",
        "history = model.fit(train_n, epochs=50,\n",
        "                    validation_data=test_n,\n",
        "                    callbacks=[early_stop])"
      ],
      "execution_count": 55,
      "outputs": [
        {
          "output_type": "stream",
          "text": [
            "Epoch 1/50\n",
            "21/21 [==============================] - 0s 5ms/step - loss: 3.6376 - root_mean_squared_error: 1.9073 - mae: 1.4195 - mse: 3.6376 - val_loss: 16.3366 - val_root_mean_squared_error: 4.0419 - val_mae: 3.0625 - val_mse: 16.3366\n",
            "Epoch 2/50\n",
            "21/21 [==============================] - 0s 4ms/step - loss: 3.6827 - root_mean_squared_error: 1.9190 - mae: 1.4418 - mse: 3.6827 - val_loss: 14.2375 - val_root_mean_squared_error: 3.7733 - val_mae: 2.7575 - val_mse: 14.2375\n",
            "Epoch 3/50\n",
            "21/21 [==============================] - 0s 4ms/step - loss: 3.7284 - root_mean_squared_error: 1.9309 - mae: 1.4578 - mse: 3.7284 - val_loss: 11.9917 - val_root_mean_squared_error: 3.4629 - val_mae: 2.4695 - val_mse: 11.9917\n",
            "Epoch 4/50\n",
            "21/21 [==============================] - 0s 4ms/step - loss: 3.5708 - root_mean_squared_error: 1.8896 - mae: 1.4142 - mse: 3.5708 - val_loss: 11.9833 - val_root_mean_squared_error: 3.4617 - val_mae: 2.4768 - val_mse: 11.9833\n",
            "Epoch 5/50\n",
            "21/21 [==============================] - 0s 4ms/step - loss: 3.8152 - root_mean_squared_error: 1.9532 - mae: 1.4636 - mse: 3.8152 - val_loss: 13.2149 - val_root_mean_squared_error: 3.6352 - val_mae: 2.6085 - val_mse: 13.2149\n",
            "Epoch 6/50\n",
            "21/21 [==============================] - 0s 4ms/step - loss: 3.6114 - root_mean_squared_error: 1.9004 - mae: 1.3999 - mse: 3.6114 - val_loss: 15.5729 - val_root_mean_squared_error: 3.9462 - val_mae: 2.9503 - val_mse: 15.5729\n",
            "Epoch 7/50\n",
            "21/21 [==============================] - 0s 4ms/step - loss: 3.7017 - root_mean_squared_error: 1.9240 - mae: 1.4146 - mse: 3.7017 - val_loss: 12.4618 - val_root_mean_squared_error: 3.5301 - val_mae: 2.5527 - val_mse: 12.4618\n",
            "Epoch 8/50\n",
            "21/21 [==============================] - 0s 4ms/step - loss: 3.6170 - root_mean_squared_error: 1.9018 - mae: 1.3929 - mse: 3.6170 - val_loss: 15.5342 - val_root_mean_squared_error: 3.9413 - val_mae: 2.9579 - val_mse: 15.5342\n"
          ],
          "name": "stdout"
        }
      ]
    },
    {
      "cell_type": "code",
      "metadata": {
        "id": "R_duWDKUz-Jo",
        "colab_type": "code",
        "colab": {
          "base_uri": "https://localhost:8080/",
          "height": 885
        },
        "outputId": "a11cf0f1-808b-44a9-88da-ab0cbaa52ec5"
      },
      "source": [
        "hist = pd.DataFrame(history.history)\n",
        "hist['epoch'] = history.epoch\n",
        "hist.tail()\n",
        "\n",
        "train_limit, test_limit = 10, 100\n",
        "\n",
        "plot_history(history, train_limit, test_limit)"
      ],
      "execution_count": 56,
      "outputs": [
        {
          "output_type": "display_data",
          "data": {
            "image/png": "[encoded data removed]",
            "text/plain": [
              "<Figure size 432x288 with 1 Axes>"
            ]
          },
          "metadata": {
            "tags": [],
            "needs_background": "light"
          }
        },
        {
          "output_type": "display_data",
          "data": {
            "text/plain": [
              "<Figure size 432x288 with 0 Axes>"
            ]
          },
          "metadata": {
            "tags": []
          }
        },
        {
          "output_type": "display_data",
          "data": {
            "image/png": "[encoded data removed]",
            "text/plain": [
              "<Figure size 432x288 with 1 Axes>"
            ]
          },
          "metadata": {
            "tags": [],
            "needs_background": "light"
          }
        },
        {
          "output_type": "display_data",
          "data": {
            "text/plain": [
              "<Figure size 432x288 with 0 Axes>"
            ]
          },
          "metadata": {
            "tags": []
          }
        },
        {
          "output_type": "display_data",
          "data": {
            "image/png": "[encoded data removed]",
            "text/plain": [
              "<Figure size 432x288 with 1 Axes>"
            ]
          },
          "metadata": {
            "tags": [],
            "needs_background": "light"
          }
        }
      ]
    },
    {
      "cell_type": "markdown",
      "metadata": {
        "id": "C_Jrdzdt0CMl",
        "colab_type": "text"
      },
      "source": [
        "Our model is not perfect, be we did improve performance. Of course, there are many advanced techniques that can be employed to further improve performance, but then we move into advanced terrritory."
      ]
    },
    {
      "cell_type": "markdown",
      "metadata": {
        "id": "D4t7QFwN6LxV",
        "colab_type": "text"
      },
      "source": [
        "## Generalize on Test Data\n",
        "\n",
        "Let's see how well the model generalizes with test data, which tells us how well we can expect the model to predict when we use it in the real world."
      ]
    },
    {
      "cell_type": "code",
      "metadata": {
        "id": "i5XL06mn6L7X",
        "colab_type": "code",
        "colab": {
          "base_uri": "https://localhost:8080/",
          "height": 68
        },
        "outputId": "48fd5728-43b9-487d-af72-97749a7b9264"
      },
      "source": [
        "loss, rmse, mae, mse = model.evaluate(test_n, verbose=2)\n",
        "\n",
        "print ()\n",
        "\n",
        "print('\"Testing set Mean Abs Error: {:5.2f} thousand dollars'.format(mae))"
      ],
      "execution_count": 57,
      "outputs": [
        {
          "output_type": "stream",
          "text": [
            "11/11 - 0s - loss: 15.5342 - root_mean_squared_error: 3.9413 - mae: 2.9579 - mse: 15.5342\n",
            "\n",
            "\"Testing set Mean Abs Error:  2.96 thousand dollars\n"
          ],
          "name": "stdout"
        }
      ]
    },
    {
      "cell_type": "markdown",
      "metadata": {
        "id": "aljDYGYD7kZd",
        "colab_type": "text"
      },
      "source": [
        "As we know, Mean Square Error (MSE) is a common loss function used for regression problems. Another common regression metric is Mean Absolute Error (MAE). MAE gives us a good idea how well our model performed in an easy to understand way. So, we can expect that our model predictions are off by the MAE value in thousands of dollars."
      ]
    },
    {
      "cell_type": "markdown",
      "metadata": {
        "id": "FqS1sCkb5cFx",
        "colab_type": "text"
      },
      "source": [
        "## Make Predictions"
      ]
    },
    {
      "cell_type": "code",
      "metadata": {
        "id": "32UEqma95do9",
        "colab_type": "code",
        "colab": {}
      },
      "source": [
        "predictions = model.predict(test_n)"
      ],
      "execution_count": 58,
      "outputs": []
    },
    {
      "cell_type": "markdown",
      "metadata": {
        "id": "dV5Ruefl8QOC",
        "colab_type": "text"
      },
      "source": [
        "## Display the First Prediction"
      ]
    },
    {
      "cell_type": "code",
      "metadata": {
        "id": "3jE7Qw4p8QXY",
        "colab_type": "code",
        "colab": {
          "base_uri": "https://localhost:8080/",
          "height": 51
        },
        "outputId": "5102762e-4885-48a6-b1bd-4ff409292b2e"
      },
      "source": [
        "# predicted housing price\n",
        "\n",
        "first = predictions[0]\n",
        "print ('predicted price:', first[0], 'thousand')\n",
        "\n",
        "# actual housing price\n",
        "\n",
        "print ('actual price:', y_test[0], 'thousand')"
      ],
      "execution_count": 59,
      "outputs": [
        {
          "output_type": "stream",
          "text": [
            "predicted price: 18.687223 thousand\n",
            "actual price: 24.3 thousand\n"
          ],
          "name": "stdout"
        }
      ]
    },
    {
      "cell_type": "markdown",
      "metadata": {
        "id": "iuW3tnCh9wQF",
        "colab_type": "text"
      },
      "source": [
        "## Display the First Five Predictions"
      ]
    },
    {
      "cell_type": "code",
      "metadata": {
        "id": "QWDDb3vo8vUl",
        "colab_type": "code",
        "colab": {
          "base_uri": "https://localhost:8080/",
          "height": 136
        },
        "outputId": "4db432e3-1b7d-4bed-d790-b94668f98e1d"
      },
      "source": [
        "five = predictions[:5]\n",
        "print (five, br)\n",
        "\n",
        "actuals = y_test[:5]\n",
        "print (actuals)"
      ],
      "execution_count": 60,
      "outputs": [
        {
          "output_type": "stream",
          "text": [
            "[[18.687223]\n",
            " [26.217735]\n",
            " [17.316042]\n",
            " [19.695024]\n",
            " [18.076483]] \n",
            "\n",
            "[24.3 32.5 17.8 19.5 19.9]\n"
          ],
          "name": "stdout"
        }
      ]
    },
    {
      "cell_type": "markdown",
      "metadata": {
        "id": "6GezQCoDAXzF",
        "colab_type": "text"
      },
      "source": [
        "## Visualize Predictions"
      ]
    },
    {
      "cell_type": "code",
      "metadata": {
        "id": "1WSnUbtBAYBD",
        "colab_type": "code",
        "colab": {
          "base_uri": "https://localhost:8080/",
          "height": 279
        },
        "outputId": "df68b813-baaf-4009-a9a2-70a8c38cca20"
      },
      "source": [
        "plt.scatter(y_test, predictions)\n",
        "plt.xlabel('True Values [price]')\n",
        "plt.ylabel('Predictions [price]')\n",
        "plt.axis('equal')\n",
        "plt.axis('square')\n",
        "plt.xlim([0,plt.xlim()[1]])\n",
        "plt.ylim([0,plt.ylim()[1]])\n",
        "_ = plt.plot([-100, 100], [-100, 100])"
      ],
      "execution_count": 61,
      "outputs": [
        {
          "output_type": "display_data",
          "data": {
            "image/png": "[encoded data removed]",
            "text/plain": [
              "<Figure size 432x288 with 1 Axes>"
            ]
          },
          "metadata": {
            "tags": [],
            "needs_background": "light"
          }
        }
      ]
    },
    {
      "cell_type": "markdown",
      "metadata": {
        "id": "L4bkl8gCC4ED",
        "colab_type": "text"
      },
      "source": [
        "The further a prediciton is away from the diagonal (true values), the more erroneous it is. "
      ]
    },
    {
      "cell_type": "markdown",
      "metadata": {
        "id": "PnYmzbJA0ynT",
        "colab_type": "text"
      },
      "source": [
        "# Load Boston Data from Scikit-Learn\n",
        "\n",
        "Since the Boston dataset is included in **sklearn.datasets**, let's load it from this environment. "
      ]
    },
    {
      "cell_type": "code",
      "metadata": {
        "id": "3Q4SP-dJ1OEK",
        "colab_type": "code",
        "colab": {}
      },
      "source": [
        "from sklearn import datasets\n",
        "\n",
        "dataset = datasets.load_boston()\n",
        "data, target = dataset.data, dataset.target"
      ],
      "execution_count": 62,
      "outputs": []
    },
    {
      "cell_type": "markdown",
      "metadata": {
        "id": "Pyuhb3if1uB0",
        "colab_type": "text"
      },
      "source": [
        "It's easier to load because we don't have to access a CSV file. On the downside, the data is not loaded as a DataFrame. But, we can create a DataFrame with a few simple steps."
      ]
    },
    {
      "cell_type": "markdown",
      "metadata": {
        "id": "Sd7XHVeXMRcA",
        "colab_type": "text"
      },
      "source": [
        "## Build a DataFrame from a **sklearn** dataset"
      ]
    },
    {
      "cell_type": "markdown",
      "metadata": {
        "id": "O7GBBz1bKsNo",
        "colab_type": "text"
      },
      "source": [
        "First, access information about the dataset with the **keys()** function."
      ]
    },
    {
      "cell_type": "code",
      "metadata": {
        "id": "5mGWEh7yK9LY",
        "colab_type": "code",
        "colab": {
          "base_uri": "https://localhost:8080/",
          "height": 34
        },
        "outputId": "8f1c9ebd-a148-4fcc-a65d-5c658d463d1d"
      },
      "source": [
        "dataset.keys() "
      ],
      "execution_count": 63,
      "outputs": [
        {
          "output_type": "execute_result",
          "data": {
            "text/plain": [
              "dict_keys(['data', 'target', 'feature_names', 'DESCR', 'filename'])"
            ]
          },
          "metadata": {
            "tags": []
          },
          "execution_count": 63
        }
      ]
    },
    {
      "cell_type": "markdown",
      "metadata": {
        "id": "nS21SwD9LAXn",
        "colab_type": "text"
      },
      "source": [
        "Second, access the feature names."
      ]
    },
    {
      "cell_type": "code",
      "metadata": {
        "id": "mAO2vYiiK-8-",
        "colab_type": "code",
        "colab": {
          "base_uri": "https://localhost:8080/",
          "height": 51
        },
        "outputId": "db7e4e8e-9fd8-4770-c014-674688254e8a"
      },
      "source": [
        "feature_names = dataset.feature_names\n",
        "feature_names"
      ],
      "execution_count": 64,
      "outputs": [
        {
          "output_type": "execute_result",
          "data": {
            "text/plain": [
              "array(['CRIM', 'ZN', 'INDUS', 'CHAS', 'NOX', 'RM', 'AGE', 'DIS', 'RAD',\n",
              "       'TAX', 'PTRATIO', 'B', 'LSTAT'], dtype='<U7')"
            ]
          },
          "metadata": {
            "tags": []
          },
          "execution_count": 64
        }
      ]
    },
    {
      "cell_type": "markdown",
      "metadata": {
        "id": "sEEINWNHLiNQ",
        "colab_type": "text"
      },
      "source": [
        "Third, build a dataframe with feature data."
      ]
    },
    {
      "cell_type": "code",
      "metadata": {
        "id": "ZDAx1B0DKUlv",
        "colab_type": "code",
        "colab": {
          "base_uri": "https://localhost:8080/",
          "height": 204
        },
        "outputId": "56df362f-c097-40b6-bda7-f7ef82dffee4"
      },
      "source": [
        "df_sklearn = pd.DataFrame(dataset.data, columns=feature_names)\n",
        "df_sklearn.head()"
      ],
      "execution_count": 65,
      "outputs": [
        {
          "output_type": "execute_result",
          "data": {
            "text/html": [
              "<div>\n",
              "<style scoped>\n",
              "    .dataframe tbody tr th:only-of-type {\n",
              "        vertical-align: middle;\n",
              "    }\n",
              "\n",
              "    .dataframe tbody tr th {\n",
              "        vertical-align: top;\n",
              "    }\n",
              "\n",
              "    .dataframe thead th {\n",
              "        text-align: right;\n",
              "    }\n",
              "</style>\n",
              "<table border=\"1\" class=\"dataframe\">\n",
              "  <thead>\n",
              "    <tr style=\"text-align: right;\">\n",
              "      <th></th>\n",
              "      <th>CRIM</th>\n",
              "      <th>ZN</th>\n",
              "      <th>INDUS</th>\n",
              "      <th>CHAS</th>\n",
              "      <th>NOX</th>\n",
              "      <th>RM</th>\n",
              "      <th>AGE</th>\n",
              "      <th>DIS</th>\n",
              "      <th>RAD</th>\n",
              "      <th>TAX</th>\n",
              "      <th>PTRATIO</th>\n",
              "      <th>B</th>\n",
              "      <th>LSTAT</th>\n",
              "    </tr>\n",
              "  </thead>\n",
              "  <tbody>\n",
              "    <tr>\n",
              "      <th>0</th>\n",
              "      <td>0.00632</td>\n",
              "      <td>18.0</td>\n",
              "      <td>2.31</td>\n",
              "      <td>0.0</td>\n",
              "      <td>0.538</td>\n",
              "      <td>6.575</td>\n",
              "      <td>65.2</td>\n",
              "      <td>4.0900</td>\n",
              "      <td>1.0</td>\n",
              "      <td>296.0</td>\n",
              "      <td>15.3</td>\n",
              "      <td>396.90</td>\n",
              "      <td>4.98</td>\n",
              "    </tr>\n",
              "    <tr>\n",
              "      <th>1</th>\n",
              "      <td>0.02731</td>\n",
              "      <td>0.0</td>\n",
              "      <td>7.07</td>\n",
              "      <td>0.0</td>\n",
              "      <td>0.469</td>\n",
              "      <td>6.421</td>\n",
              "      <td>78.9</td>\n",
              "      <td>4.9671</td>\n",
              "      <td>2.0</td>\n",
              "      <td>242.0</td>\n",
              "      <td>17.8</td>\n",
              "      <td>396.90</td>\n",
              "      <td>9.14</td>\n",
              "    </tr>\n",
              "    <tr>\n",
              "      <th>2</th>\n",
              "      <td>0.02729</td>\n",
              "      <td>0.0</td>\n",
              "      <td>7.07</td>\n",
              "      <td>0.0</td>\n",
              "      <td>0.469</td>\n",
              "      <td>7.185</td>\n",
              "      <td>61.1</td>\n",
              "      <td>4.9671</td>\n",
              "      <td>2.0</td>\n",
              "      <td>242.0</td>\n",
              "      <td>17.8</td>\n",
              "      <td>392.83</td>\n",
              "      <td>4.03</td>\n",
              "    </tr>\n",
              "    <tr>\n",
              "      <th>3</th>\n",
              "      <td>0.03237</td>\n",
              "      <td>0.0</td>\n",
              "      <td>2.18</td>\n",
              "      <td>0.0</td>\n",
              "      <td>0.458</td>\n",
              "      <td>6.998</td>\n",
              "      <td>45.8</td>\n",
              "      <td>6.0622</td>\n",
              "      <td>3.0</td>\n",
              "      <td>222.0</td>\n",
              "      <td>18.7</td>\n",
              "      <td>394.63</td>\n",
              "      <td>2.94</td>\n",
              "    </tr>\n",
              "    <tr>\n",
              "      <th>4</th>\n",
              "      <td>0.06905</td>\n",
              "      <td>0.0</td>\n",
              "      <td>2.18</td>\n",
              "      <td>0.0</td>\n",
              "      <td>0.458</td>\n",
              "      <td>7.147</td>\n",
              "      <td>54.2</td>\n",
              "      <td>6.0622</td>\n",
              "      <td>3.0</td>\n",
              "      <td>222.0</td>\n",
              "      <td>18.7</td>\n",
              "      <td>396.90</td>\n",
              "      <td>5.33</td>\n",
              "    </tr>\n",
              "  </tbody>\n",
              "</table>\n",
              "</div>"
            ],
            "text/plain": [
              "      CRIM    ZN  INDUS  CHAS    NOX  ...  RAD    TAX  PTRATIO       B  LSTAT\n",
              "0  0.00632  18.0   2.31   0.0  0.538  ...  1.0  296.0     15.3  396.90   4.98\n",
              "1  0.02731   0.0   7.07   0.0  0.469  ...  2.0  242.0     17.8  396.90   9.14\n",
              "2  0.02729   0.0   7.07   0.0  0.469  ...  2.0  242.0     17.8  392.83   4.03\n",
              "3  0.03237   0.0   2.18   0.0  0.458  ...  3.0  222.0     18.7  394.63   2.94\n",
              "4  0.06905   0.0   2.18   0.0  0.458  ...  3.0  222.0     18.7  396.90   5.33\n",
              "\n",
              "[5 rows x 13 columns]"
            ]
          },
          "metadata": {
            "tags": []
          },
          "execution_count": 65
        }
      ]
    },
    {
      "cell_type": "markdown",
      "metadata": {
        "id": "yDe8vMegUYeN",
        "colab_type": "text"
      },
      "source": [
        "Notice that the SKLEARN dataset has an additional column **B**. The B column is a bit controversial because it represents African American (or Black) people in a township."
      ]
    },
    {
      "cell_type": "markdown",
      "metadata": {
        "id": "PxkXVkLHMDPo",
        "colab_type": "text"
      },
      "source": [
        "Fourth, add target data."
      ]
    },
    {
      "cell_type": "code",
      "metadata": {
        "id": "vl3yBb1KKcrv",
        "colab_type": "code",
        "colab": {
          "base_uri": "https://localhost:8080/",
          "height": 204
        },
        "outputId": "d0224695-487d-42e3-b5c7-077764434104"
      },
      "source": [
        "df_sklearn['MEDV'] = dataset.target\n",
        "df_sklearn.head()"
      ],
      "execution_count": 66,
      "outputs": [
        {
          "output_type": "execute_result",
          "data": {
            "text/html": [
              "<div>\n",
              "<style scoped>\n",
              "    .dataframe tbody tr th:only-of-type {\n",
              "        vertical-align: middle;\n",
              "    }\n",
              "\n",
              "    .dataframe tbody tr th {\n",
              "        vertical-align: top;\n",
              "    }\n",
              "\n",
              "    .dataframe thead th {\n",
              "        text-align: right;\n",
              "    }\n",
              "</style>\n",
              "<table border=\"1\" class=\"dataframe\">\n",
              "  <thead>\n",
              "    <tr style=\"text-align: right;\">\n",
              "      <th></th>\n",
              "      <th>CRIM</th>\n",
              "      <th>ZN</th>\n",
              "      <th>INDUS</th>\n",
              "      <th>CHAS</th>\n",
              "      <th>NOX</th>\n",
              "      <th>RM</th>\n",
              "      <th>AGE</th>\n",
              "      <th>DIS</th>\n",
              "      <th>RAD</th>\n",
              "      <th>TAX</th>\n",
              "      <th>PTRATIO</th>\n",
              "      <th>B</th>\n",
              "      <th>LSTAT</th>\n",
              "      <th>MEDV</th>\n",
              "    </tr>\n",
              "  </thead>\n",
              "  <tbody>\n",
              "    <tr>\n",
              "      <th>0</th>\n",
              "      <td>0.00632</td>\n",
              "      <td>18.0</td>\n",
              "      <td>2.31</td>\n",
              "      <td>0.0</td>\n",
              "      <td>0.538</td>\n",
              "      <td>6.575</td>\n",
              "      <td>65.2</td>\n",
              "      <td>4.0900</td>\n",
              "      <td>1.0</td>\n",
              "      <td>296.0</td>\n",
              "      <td>15.3</td>\n",
              "      <td>396.90</td>\n",
              "      <td>4.98</td>\n",
              "      <td>24.0</td>\n",
              "    </tr>\n",
              "    <tr>\n",
              "      <th>1</th>\n",
              "      <td>0.02731</td>\n",
              "      <td>0.0</td>\n",
              "      <td>7.07</td>\n",
              "      <td>0.0</td>\n",
              "      <td>0.469</td>\n",
              "      <td>6.421</td>\n",
              "      <td>78.9</td>\n",
              "      <td>4.9671</td>\n",
              "      <td>2.0</td>\n",
              "      <td>242.0</td>\n",
              "      <td>17.8</td>\n",
              "      <td>396.90</td>\n",
              "      <td>9.14</td>\n",
              "      <td>21.6</td>\n",
              "    </tr>\n",
              "    <tr>\n",
              "      <th>2</th>\n",
              "      <td>0.02729</td>\n",
              "      <td>0.0</td>\n",
              "      <td>7.07</td>\n",
              "      <td>0.0</td>\n",
              "      <td>0.469</td>\n",
              "      <td>7.185</td>\n",
              "      <td>61.1</td>\n",
              "      <td>4.9671</td>\n",
              "      <td>2.0</td>\n",
              "      <td>242.0</td>\n",
              "      <td>17.8</td>\n",
              "      <td>392.83</td>\n",
              "      <td>4.03</td>\n",
              "      <td>34.7</td>\n",
              "    </tr>\n",
              "    <tr>\n",
              "      <th>3</th>\n",
              "      <td>0.03237</td>\n",
              "      <td>0.0</td>\n",
              "      <td>2.18</td>\n",
              "      <td>0.0</td>\n",
              "      <td>0.458</td>\n",
              "      <td>6.998</td>\n",
              "      <td>45.8</td>\n",
              "      <td>6.0622</td>\n",
              "      <td>3.0</td>\n",
              "      <td>222.0</td>\n",
              "      <td>18.7</td>\n",
              "      <td>394.63</td>\n",
              "      <td>2.94</td>\n",
              "      <td>33.4</td>\n",
              "    </tr>\n",
              "    <tr>\n",
              "      <th>4</th>\n",
              "      <td>0.06905</td>\n",
              "      <td>0.0</td>\n",
              "      <td>2.18</td>\n",
              "      <td>0.0</td>\n",
              "      <td>0.458</td>\n",
              "      <td>7.147</td>\n",
              "      <td>54.2</td>\n",
              "      <td>6.0622</td>\n",
              "      <td>3.0</td>\n",
              "      <td>222.0</td>\n",
              "      <td>18.7</td>\n",
              "      <td>396.90</td>\n",
              "      <td>5.33</td>\n",
              "      <td>36.2</td>\n",
              "    </tr>\n",
              "  </tbody>\n",
              "</table>\n",
              "</div>"
            ],
            "text/plain": [
              "      CRIM    ZN  INDUS  CHAS    NOX  ...    TAX  PTRATIO       B  LSTAT  MEDV\n",
              "0  0.00632  18.0   2.31   0.0  0.538  ...  296.0     15.3  396.90   4.98  24.0\n",
              "1  0.02731   0.0   7.07   0.0  0.469  ...  242.0     17.8  396.90   9.14  21.6\n",
              "2  0.02729   0.0   7.07   0.0  0.469  ...  242.0     17.8  392.83   4.03  34.7\n",
              "3  0.03237   0.0   2.18   0.0  0.458  ...  222.0     18.7  394.63   2.94  33.4\n",
              "4  0.06905   0.0   2.18   0.0  0.458  ...  222.0     18.7  396.90   5.33  36.2\n",
              "\n",
              "[5 rows x 14 columns]"
            ]
          },
          "metadata": {
            "tags": []
          },
          "execution_count": 66
        }
      ]
    },
    {
      "cell_type": "markdown",
      "metadata": {
        "id": "5su8IOmhKTAp",
        "colab_type": "text"
      },
      "source": [
        "## Remove Noise"
      ]
    },
    {
      "cell_type": "code",
      "metadata": {
        "id": "Q-YiPQnC1p4C",
        "colab_type": "code",
        "colab": {
          "base_uri": "https://localhost:8080/",
          "height": 51
        },
        "outputId": "67148994-490b-46d6-fdb5-a3346ff8535d"
      },
      "source": [
        "# remove noisy data\n",
        "\n",
        "print ('data set before removing noise:', df_sklearn.shape)\n",
        "\n",
        "noise = df_sklearn.loc[df_sklearn['MEDV'] >= 50]\n",
        "df_clean = df_sklearn.drop(noise.index)\n",
        "\n",
        "print ('data set without noise:', df_clean.shape)"
      ],
      "execution_count": 68,
      "outputs": [
        {
          "output_type": "stream",
          "text": [
            "data set before removing noise: (506, 14)\n",
            "data set without noise: (490, 14)\n"
          ],
          "name": "stdout"
        }
      ]
    },
    {
      "cell_type": "markdown",
      "metadata": {
        "id": "OOcbyYgt2mL1",
        "colab_type": "text"
      },
      "source": [
        "## Create Target"
      ]
    },
    {
      "cell_type": "code",
      "metadata": {
        "id": "tg4fWZWA2mYF",
        "colab_type": "code",
        "colab": {
          "base_uri": "https://localhost:8080/",
          "height": 119
        },
        "outputId": "d2121e4c-3c20-4b6f-eade-9b209833b29b"
      },
      "source": [
        "# create a copy of the DataFrame\n",
        "\n",
        "df = df_clean.copy()\n",
        "\n",
        "# create the target\n",
        "\n",
        "target = df.pop('MEDV')\n",
        "target.head()"
      ],
      "execution_count": 70,
      "outputs": [
        {
          "output_type": "execute_result",
          "data": {
            "text/plain": [
              "0    24.0\n",
              "1    21.6\n",
              "2    34.7\n",
              "3    33.4\n",
              "4    36.2\n",
              "Name: MEDV, dtype: float64"
            ]
          },
          "metadata": {
            "tags": []
          },
          "execution_count": 70
        }
      ]
    },
    {
      "cell_type": "markdown",
      "metadata": {
        "id": "bV5vEMOXJqvi",
        "colab_type": "text"
      },
      "source": [
        "## Transform Data"
      ]
    },
    {
      "cell_type": "code",
      "metadata": {
        "id": "qnrPIW__Jt6y",
        "colab_type": "code",
        "colab": {}
      },
      "source": [
        "features = df.values\n",
        "labels = target.values"
      ],
      "execution_count": 71,
      "outputs": []
    },
    {
      "cell_type": "markdown",
      "metadata": {
        "id": "AgvJv__E212r",
        "colab_type": "text"
      },
      "source": [
        "## Create Train and Test Data"
      ]
    },
    {
      "cell_type": "code",
      "metadata": {
        "id": "f6EUd-7c1VXj",
        "colab_type": "code",
        "colab": {}
      },
      "source": [
        "X_train, X_test, y_train, y_test = train_test_split(\n",
        "    features, labels, test_size=0.33, random_state=0)\n",
        "\n",
        "\n",
        "X_train_std = scaler.fit_transform(X_train)\n",
        "X_test_std = scaler.fit_transform(X_test)"
      ],
      "execution_count": 73,
      "outputs": []
    },
    {
      "cell_type": "markdown",
      "metadata": {
        "id": "FQDTVfqiQEBE",
        "colab_type": "text"
      },
      "source": [
        "## Transform Data for the Input Pipeline"
      ]
    },
    {
      "cell_type": "code",
      "metadata": {
        "id": "WaCwLInPJQVS",
        "colab_type": "code",
        "colab": {}
      },
      "source": [
        "train = tf.data.Dataset.from_tensor_slices((X_train_std, y_train))\n",
        "test = tf.data.Dataset.from_tensor_slices((X_test_std, y_test))"
      ],
      "execution_count": 75,
      "outputs": []
    },
    {
      "cell_type": "markdown",
      "metadata": {
        "id": "HHPyrgm5QOlc",
        "colab_type": "text"
      },
      "source": [
        "## Continue Building the Input Pipeline"
      ]
    },
    {
      "cell_type": "code",
      "metadata": {
        "id": "EjRWvjI-JQaW",
        "colab_type": "code",
        "colab": {}
      },
      "source": [
        "BATCH_SIZE = 16\n",
        "SHUFFLE_BUFFER_SIZE = 100\n",
        "\n",
        "train_sk = train.shuffle(SHUFFLE_BUFFER_SIZE).batch(BATCH_SIZE).prefetch(1)\n",
        "test_sk = test.batch(BATCH_SIZE).prefetch(1)"
      ],
      "execution_count": 77,
      "outputs": []
    },
    {
      "cell_type": "markdown",
      "metadata": {
        "id": "ZeKpqCRLW85R",
        "colab_type": "text"
      },
      "source": [
        "## Create a New Model and Compile\n",
        "\n",
        "You may not have noticed, but the **sklearn** boston dataset has an extra feature column. So, we can either remove the feature or create a new model that accommodates it. Let's just create a new model and compile. Notice that we changed the input shape to accommodate the extra feature."
      ]
    },
    {
      "cell_type": "code",
      "metadata": {
        "id": "_vcoBFZyXYEh",
        "colab_type": "code",
        "colab": {}
      },
      "source": [
        "# clear any previous model\n",
        "\n",
        "keras.backend.clear_session()\n",
        "\n",
        "# plant a random seed for replication purposes\n",
        "np.random.seed(0)\n",
        "tf.random.set_seed(0)\n",
        "\n",
        "# new model with 13 input features\n",
        "\n",
        "model = Sequential([\n",
        "  Dense(64, activation='relu', input_shape=[13,]),\n",
        "  Dense(64, activation='relu'),\n",
        "  Dense(1)\n",
        "])\n",
        "\n",
        "# compile the new model\n",
        "\n",
        "model.compile(loss='mse', optimizer='RMSProp',\n",
        "              metrics=['mae', 'mse'])"
      ],
      "execution_count": 78,
      "outputs": []
    },
    {
      "cell_type": "markdown",
      "metadata": {
        "id": "1ZGzrsKyU9I6",
        "colab_type": "text"
      },
      "source": [
        "## Train Data"
      ]
    },
    {
      "cell_type": "code",
      "metadata": {
        "id": "0HEfquohJQeo",
        "colab_type": "code",
        "colab": {
          "base_uri": "https://localhost:8080/",
          "height": 629
        },
        "outputId": "bc8c8967-c114-491f-99ca-aac579859178"
      },
      "source": [
        "n = 4\n",
        "\n",
        "early_stop = keras.callbacks.EarlyStopping(monitor='val_loss', patience=n)\n",
        "\n",
        "history = model.fit(train_sk, epochs=50,\n",
        "                    validation_data=test_sk,\n",
        "                    callbacks=[early_stop])"
      ],
      "execution_count": 79,
      "outputs": [
        {
          "output_type": "stream",
          "text": [
            "Epoch 1/50\n",
            "21/21 [==============================] - 0s 6ms/step - loss: 444.8763 - mae: 19.6456 - mse: 444.8763 - val_loss: 413.4243 - val_mae: 18.3210 - val_mse: 413.4243\n",
            "Epoch 2/50\n",
            "21/21 [==============================] - 0s 3ms/step - loss: 304.5066 - mae: 15.8733 - mse: 304.5066 - val_loss: 267.4167 - val_mae: 14.1076 - val_mse: 267.4167\n",
            "Epoch 3/50\n",
            "21/21 [==============================] - 0s 3ms/step - loss: 168.0415 - mae: 11.4047 - mse: 168.0415 - val_loss: 138.2882 - val_mae: 9.6074 - val_mse: 138.2882\n",
            "Epoch 4/50\n",
            "21/21 [==============================] - 0s 3ms/step - loss: 75.9102 - mae: 7.3573 - mse: 75.9102 - val_loss: 70.4388 - val_mae: 6.7686 - val_mse: 70.4388\n",
            "Epoch 5/50\n",
            "21/21 [==============================] - 0s 4ms/step - loss: 40.3686 - mae: 5.2175 - mse: 40.3686 - val_loss: 44.8567 - val_mae: 5.3682 - val_mse: 44.8567\n",
            "Epoch 6/50\n",
            "21/21 [==============================] - 0s 4ms/step - loss: 26.2057 - mae: 4.1271 - mse: 26.2057 - val_loss: 33.4894 - val_mae: 4.5764 - val_mse: 33.4894\n",
            "Epoch 7/50\n",
            "21/21 [==============================] - 0s 4ms/step - loss: 19.2579 - mae: 3.5038 - mse: 19.2579 - val_loss: 27.7242 - val_mae: 4.0863 - val_mse: 27.7242\n",
            "Epoch 8/50\n",
            "21/21 [==============================] - 0s 4ms/step - loss: 15.6980 - mae: 3.0851 - mse: 15.6980 - val_loss: 23.5725 - val_mae: 3.7597 - val_mse: 23.5725\n",
            "Epoch 9/50\n",
            "21/21 [==============================] - 0s 3ms/step - loss: 13.4648 - mae: 2.8479 - mse: 13.4648 - val_loss: 19.8307 - val_mae: 3.4437 - val_mse: 19.8307\n",
            "Epoch 10/50\n",
            "21/21 [==============================] - 0s 4ms/step - loss: 11.7129 - mae: 2.6862 - mse: 11.7129 - val_loss: 17.3813 - val_mae: 3.1958 - val_mse: 17.3813\n",
            "Epoch 11/50\n",
            "21/21 [==============================] - 0s 3ms/step - loss: 10.7293 - mae: 2.5414 - mse: 10.7293 - val_loss: 16.2086 - val_mae: 3.0787 - val_mse: 16.2086\n",
            "Epoch 12/50\n",
            "21/21 [==============================] - 0s 3ms/step - loss: 9.6669 - mae: 2.4677 - mse: 9.6669 - val_loss: 16.4834 - val_mae: 3.0598 - val_mse: 16.4834\n",
            "Epoch 13/50\n",
            "21/21 [==============================] - 0s 3ms/step - loss: 8.4528 - mae: 2.2917 - mse: 8.4528 - val_loss: 17.1005 - val_mae: 3.0829 - val_mse: 17.1005\n",
            "Epoch 14/50\n",
            "21/21 [==============================] - 0s 3ms/step - loss: 7.8867 - mae: 2.2042 - mse: 7.8867 - val_loss: 13.7325 - val_mae: 2.7953 - val_mse: 13.7325\n",
            "Epoch 15/50\n",
            "21/21 [==============================] - 0s 3ms/step - loss: 7.5319 - mae: 2.1346 - mse: 7.5319 - val_loss: 13.9264 - val_mae: 2.7804 - val_mse: 13.9264\n",
            "Epoch 16/50\n",
            "21/21 [==============================] - 0s 4ms/step - loss: 7.2071 - mae: 2.0732 - mse: 7.2071 - val_loss: 14.9000 - val_mae: 2.8385 - val_mse: 14.9000\n",
            "Epoch 17/50\n",
            "21/21 [==============================] - 0s 4ms/step - loss: 6.5213 - mae: 2.0133 - mse: 6.5213 - val_loss: 18.8183 - val_mae: 3.1834 - val_mse: 18.8183\n",
            "Epoch 18/50\n",
            "21/21 [==============================] - 0s 4ms/step - loss: 6.5209 - mae: 1.9800 - mse: 6.5209 - val_loss: 14.7718 - val_mae: 2.8222 - val_mse: 14.7718\n"
          ],
          "name": "stdout"
        }
      ]
    },
    {
      "cell_type": "markdown",
      "metadata": {
        "id": "9cd64V-vEIVJ",
        "colab_type": "text"
      },
      "source": [
        "# Read from UCI Irvine Machine Learning Repository\n",
        "\n",
        "We can also read housing data directly from the UCI Irvine Machine Learning Repository."
      ]
    },
    {
      "cell_type": "code",
      "metadata": {
        "id": "9z-kYHTFEIrB",
        "colab_type": "code",
        "colab": {
          "base_uri": "https://localhost:8080/",
          "height": 35
        },
        "outputId": "bc6cfcf2-eb25-489c-b523-12258090330e"
      },
      "source": [
        "dataset_path = keras.utils.get_file('housing.data', 'https://archive.ics.uci.\\\n",
        "edu/ml/machine-learning-databases/housing/housing.data')\n",
        "dataset_path"
      ],
      "execution_count": 82,
      "outputs": [
        {
          "output_type": "execute_result",
          "data": {
            "application/vnd.google.colaboratory.intrinsic": {
              "type": "string"
            },
            "text/plain": [
              "'/root/.keras/datasets/housing.data'"
            ]
          },
          "metadata": {
            "tags": []
          },
          "execution_count": 82
        }
      ]
    },
    {
      "cell_type": "code",
      "metadata": {
        "id": "EkfTV4JeGCiZ",
        "colab_type": "code",
        "colab": {
          "base_uri": "https://localhost:8080/",
          "height": 142
        },
        "outputId": "0c37d4ac-3cde-4d04-b918-005eb23db96f"
      },
      "source": [
        "cols = ['CRIM', 'ZN', 'INDUS', 'CHAS', 'NOX', 'RM', 'AGE', 'DIS',\n",
        "        'RAD', 'TAX', 'PTRATIO', 'B', 'LSTAT', 'MEDV']\n",
        " \n",
        "uci_data = pd.read_csv(dataset_path, names=cols, sep=' ',\n",
        "                       skipinitialspace=True)\n",
        "\n",
        "uci_data.head(3)"
      ],
      "execution_count": 83,
      "outputs": [
        {
          "output_type": "execute_result",
          "data": {
            "text/html": [
              "<div>\n",
              "<style scoped>\n",
              "    .dataframe tbody tr th:only-of-type {\n",
              "        vertical-align: middle;\n",
              "    }\n",
              "\n",
              "    .dataframe tbody tr th {\n",
              "        vertical-align: top;\n",
              "    }\n",
              "\n",
              "    .dataframe thead th {\n",
              "        text-align: right;\n",
              "    }\n",
              "</style>\n",
              "<table border=\"1\" class=\"dataframe\">\n",
              "  <thead>\n",
              "    <tr style=\"text-align: right;\">\n",
              "      <th></th>\n",
              "      <th>CRIM</th>\n",
              "      <th>ZN</th>\n",
              "      <th>INDUS</th>\n",
              "      <th>CHAS</th>\n",
              "      <th>NOX</th>\n",
              "      <th>RM</th>\n",
              "      <th>AGE</th>\n",
              "      <th>DIS</th>\n",
              "      <th>RAD</th>\n",
              "      <th>TAX</th>\n",
              "      <th>PTRATIO</th>\n",
              "      <th>B</th>\n",
              "      <th>LSTAT</th>\n",
              "      <th>MEDV</th>\n",
              "    </tr>\n",
              "  </thead>\n",
              "  <tbody>\n",
              "    <tr>\n",
              "      <th>0</th>\n",
              "      <td>0.00632</td>\n",
              "      <td>18.0</td>\n",
              "      <td>2.31</td>\n",
              "      <td>0</td>\n",
              "      <td>0.538</td>\n",
              "      <td>6.575</td>\n",
              "      <td>65.2</td>\n",
              "      <td>4.0900</td>\n",
              "      <td>1</td>\n",
              "      <td>296.0</td>\n",
              "      <td>15.3</td>\n",
              "      <td>396.90</td>\n",
              "      <td>4.98</td>\n",
              "      <td>24.0</td>\n",
              "    </tr>\n",
              "    <tr>\n",
              "      <th>1</th>\n",
              "      <td>0.02731</td>\n",
              "      <td>0.0</td>\n",
              "      <td>7.07</td>\n",
              "      <td>0</td>\n",
              "      <td>0.469</td>\n",
              "      <td>6.421</td>\n",
              "      <td>78.9</td>\n",
              "      <td>4.9671</td>\n",
              "      <td>2</td>\n",
              "      <td>242.0</td>\n",
              "      <td>17.8</td>\n",
              "      <td>396.90</td>\n",
              "      <td>9.14</td>\n",
              "      <td>21.6</td>\n",
              "    </tr>\n",
              "    <tr>\n",
              "      <th>2</th>\n",
              "      <td>0.02729</td>\n",
              "      <td>0.0</td>\n",
              "      <td>7.07</td>\n",
              "      <td>0</td>\n",
              "      <td>0.469</td>\n",
              "      <td>7.185</td>\n",
              "      <td>61.1</td>\n",
              "      <td>4.9671</td>\n",
              "      <td>2</td>\n",
              "      <td>242.0</td>\n",
              "      <td>17.8</td>\n",
              "      <td>392.83</td>\n",
              "      <td>4.03</td>\n",
              "      <td>34.7</td>\n",
              "    </tr>\n",
              "  </tbody>\n",
              "</table>\n",
              "</div>"
            ],
            "text/plain": [
              "      CRIM    ZN  INDUS  CHAS    NOX  ...    TAX  PTRATIO       B  LSTAT  MEDV\n",
              "0  0.00632  18.0   2.31     0  0.538  ...  296.0     15.3  396.90   4.98  24.0\n",
              "1  0.02731   0.0   7.07     0  0.469  ...  242.0     17.8  396.90   9.14  21.6\n",
              "2  0.02729   0.0   7.07     0  0.469  ...  242.0     17.8  392.83   4.03  34.7\n",
              "\n",
              "[3 rows x 14 columns]"
            ]
          },
          "metadata": {
            "tags": []
          },
          "execution_count": 83
        }
      ]
    },
    {
      "cell_type": "markdown",
      "metadata": {
        "id": "U966zKTUIlIp",
        "colab_type": "text"
      },
      "source": [
        "## Create the Input Pipeline"
      ]
    },
    {
      "cell_type": "code",
      "metadata": {
        "id": "qg9tPVjpIlS4",
        "colab_type": "code",
        "colab": {}
      },
      "source": [
        "# create a copy of the DataFrame\n",
        "\n",
        "df = uci_data.copy()\n",
        "\n",
        "# create the target\n",
        "\n",
        "target = df.pop('MEDV')\n",
        "\n",
        "# prepare features and labels\n",
        "\n",
        "features = df.values\n",
        "labels = target.values\n",
        "\n",
        "# create and train and test data\n",
        "\n",
        "X_train, X_test, y_train, y_test = train_test_split(\n",
        "    features, labels, test_size=0.33, random_state=0)\n",
        "\n",
        "# scale data\n",
        "\n",
        "X_train_std = scaler.fit_transform(X_train)\n",
        "X_test_std = scaler.fit_transform(X_test)\n",
        "\n",
        "# prepare train and test data for TensorFlow consumption\n",
        "\n",
        "train = tf.data.Dataset.from_tensor_slices((X_train_std, y_train))\n",
        "test = tf.data.Dataset.from_tensor_slices((X_test_std, y_test))\n",
        "\n",
        "# shuffle, batch, and prefetch\n",
        "\n",
        "BATCH_SIZE = 16\n",
        "SHUFFLE_BUFFER_SIZE = 100\n",
        "\n",
        "train_ml = train.shuffle(SHUFFLE_BUFFER_SIZE).batch(BATCH_SIZE).prefetch(1)\n",
        "test_ml = test.batch(BATCH_SIZE).prefetch(1)"
      ],
      "execution_count": 85,
      "outputs": []
    },
    {
      "cell_type": "markdown",
      "metadata": {
        "id": "o4M9c2TaJyEr",
        "colab_type": "text"
      },
      "source": [
        "## Model Data"
      ]
    },
    {
      "cell_type": "code",
      "metadata": {
        "id": "5B4id2LlJkos",
        "colab_type": "code",
        "colab": {}
      },
      "source": [
        "# clear any previous model\n",
        "\n",
        "keras.backend.clear_session()\n",
        "\n",
        "# plant a random seed for replication purposes\n",
        "np.random.seed(0)\n",
        "tf.random.set_seed(0)\n",
        "\n",
        "# new model with 13 input features\n",
        "\n",
        "model = Sequential([\n",
        "  Dense(64, activation='relu', input_shape=[13,]),\n",
        "  Dense(64, activation='relu'),\n",
        "  Dense(1)\n",
        "])\n",
        "\n",
        "# compile the new model\n",
        "\n",
        "model.compile(loss='mse', optimizer='RMSProp',\n",
        "              metrics=['mae', 'mse'])"
      ],
      "execution_count": 86,
      "outputs": []
    },
    {
      "cell_type": "markdown",
      "metadata": {
        "id": "_zLg_OqNJ5EB",
        "colab_type": "text"
      },
      "source": [
        "## Train"
      ]
    },
    {
      "cell_type": "code",
      "metadata": {
        "id": "s-aH2vngJ-nY",
        "colab_type": "code",
        "colab": {
          "base_uri": "https://localhost:8080/",
          "height": 1000
        },
        "outputId": "61384e6b-6c30-40c1-f217-616a2a6e1f1d"
      },
      "source": [
        "n = 4\n",
        "\n",
        "early_stop = keras.callbacks.EarlyStopping(monitor='val_loss', patience=n)\n",
        "\n",
        "history = model.fit(train_ml, epochs=50,\n",
        "                    validation_data=test_ml,\n",
        "                    callbacks=[early_stop])"
      ],
      "execution_count": 87,
      "outputs": [
        {
          "output_type": "stream",
          "text": [
            "Epoch 1/50\n",
            "22/22 [==============================] - 0s 6ms/step - loss: 529.4684 - mae: 20.9925 - mse: 529.4684 - val_loss: 412.6105 - val_mae: 18.1396 - val_mse: 412.6105\n",
            "Epoch 2/50\n",
            "22/22 [==============================] - 0s 4ms/step - loss: 370.8401 - mae: 17.0552 - mse: 370.8401 - val_loss: 253.0599 - val_mae: 13.6809 - val_mse: 253.0599\n",
            "Epoch 3/50\n",
            "22/22 [==============================] - 0s 3ms/step - loss: 205.0551 - mae: 12.0279 - mse: 205.0551 - val_loss: 123.8565 - val_mae: 9.0109 - val_mse: 123.8565\n",
            "Epoch 4/50\n",
            "22/22 [==============================] - 0s 3ms/step - loss: 95.3930 - mae: 7.7161 - mse: 95.3930 - val_loss: 68.3160 - val_mae: 6.4573 - val_mse: 68.3160\n",
            "Epoch 5/50\n",
            "22/22 [==============================] - 0s 3ms/step - loss: 53.8578 - mae: 5.7827 - mse: 53.8578 - val_loss: 52.3218 - val_mae: 5.5267 - val_mse: 52.3218\n",
            "Epoch 6/50\n",
            "22/22 [==============================] - 0s 3ms/step - loss: 37.2778 - mae: 4.6735 - mse: 37.2778 - val_loss: 39.7947 - val_mae: 4.7499 - val_mse: 39.7947\n",
            "Epoch 7/50\n",
            "22/22 [==============================] - 0s 3ms/step - loss: 27.5192 - mae: 3.9454 - mse: 27.5192 - val_loss: 34.3021 - val_mae: 4.2926 - val_mse: 34.3021\n",
            "Epoch 8/50\n",
            "22/22 [==============================] - 0s 3ms/step - loss: 22.9582 - mae: 3.5407 - mse: 22.9582 - val_loss: 33.9787 - val_mae: 4.2701 - val_mse: 33.9787\n",
            "Epoch 9/50\n",
            "22/22 [==============================] - 0s 3ms/step - loss: 20.2208 - mae: 3.2773 - mse: 20.2208 - val_loss: 28.1447 - val_mae: 3.8931 - val_mse: 28.1447\n",
            "Epoch 10/50\n",
            "22/22 [==============================] - 0s 4ms/step - loss: 18.3814 - mae: 3.1170 - mse: 18.3814 - val_loss: 26.3899 - val_mae: 3.6850 - val_mse: 26.3899\n",
            "Epoch 11/50\n",
            "22/22 [==============================] - 0s 3ms/step - loss: 16.6235 - mae: 2.9526 - mse: 16.6235 - val_loss: 24.5342 - val_mae: 3.5492 - val_mse: 24.5342\n",
            "Epoch 12/50\n",
            "22/22 [==============================] - 0s 3ms/step - loss: 15.1538 - mae: 2.7235 - mse: 15.1538 - val_loss: 22.9968 - val_mae: 3.5017 - val_mse: 22.9968\n",
            "Epoch 13/50\n",
            "22/22 [==============================] - 0s 3ms/step - loss: 14.1627 - mae: 2.6788 - mse: 14.1627 - val_loss: 22.3344 - val_mae: 3.3092 - val_mse: 22.3344\n",
            "Epoch 14/50\n",
            "22/22 [==============================] - 0s 4ms/step - loss: 13.2317 - mae: 2.5617 - mse: 13.2317 - val_loss: 21.7031 - val_mae: 3.2974 - val_mse: 21.7031\n",
            "Epoch 15/50\n",
            "22/22 [==============================] - 0s 4ms/step - loss: 12.4541 - mae: 2.4997 - mse: 12.4541 - val_loss: 20.7466 - val_mae: 3.1787 - val_mse: 20.7466\n",
            "Epoch 16/50\n",
            "22/22 [==============================] - 0s 4ms/step - loss: 12.1592 - mae: 2.4845 - mse: 12.1592 - val_loss: 21.7120 - val_mae: 3.3358 - val_mse: 21.7120\n",
            "Epoch 17/50\n",
            "22/22 [==============================] - 0s 3ms/step - loss: 11.2625 - mae: 2.3606 - mse: 11.2625 - val_loss: 20.2314 - val_mae: 3.1577 - val_mse: 20.2314\n",
            "Epoch 18/50\n",
            "22/22 [==============================] - 0s 3ms/step - loss: 10.9923 - mae: 2.3396 - mse: 10.9923 - val_loss: 18.9148 - val_mae: 3.0346 - val_mse: 18.9148\n",
            "Epoch 19/50\n",
            "22/22 [==============================] - 0s 3ms/step - loss: 10.4702 - mae: 2.2456 - mse: 10.4702 - val_loss: 20.7283 - val_mae: 3.3866 - val_mse: 20.7283\n",
            "Epoch 20/50\n",
            "22/22 [==============================] - 0s 3ms/step - loss: 10.2732 - mae: 2.2677 - mse: 10.2732 - val_loss: 18.1884 - val_mae: 2.9797 - val_mse: 18.1884\n",
            "Epoch 21/50\n",
            "22/22 [==============================] - 0s 4ms/step - loss: 9.9665 - mae: 2.2462 - mse: 9.9665 - val_loss: 19.2398 - val_mae: 3.0689 - val_mse: 19.2398\n",
            "Epoch 22/50\n",
            "22/22 [==============================] - 0s 4ms/step - loss: 9.7320 - mae: 2.2198 - mse: 9.7320 - val_loss: 19.9375 - val_mae: 3.2243 - val_mse: 19.9375\n",
            "Epoch 23/50\n",
            "22/22 [==============================] - 0s 3ms/step - loss: 9.6277 - mae: 2.2009 - mse: 9.6277 - val_loss: 18.0921 - val_mae: 2.9511 - val_mse: 18.0921\n",
            "Epoch 24/50\n",
            "22/22 [==============================] - 0s 3ms/step - loss: 9.0878 - mae: 2.1465 - mse: 9.0878 - val_loss: 17.7808 - val_mae: 2.9453 - val_mse: 17.7808\n",
            "Epoch 25/50\n",
            "22/22 [==============================] - 0s 3ms/step - loss: 9.2486 - mae: 2.1447 - mse: 9.2486 - val_loss: 17.0809 - val_mae: 2.8929 - val_mse: 17.0809\n",
            "Epoch 26/50\n",
            "22/22 [==============================] - 0s 3ms/step - loss: 9.0234 - mae: 2.1331 - mse: 9.0234 - val_loss: 17.0376 - val_mae: 2.8814 - val_mse: 17.0376\n",
            "Epoch 27/50\n",
            "22/22 [==============================] - 0s 4ms/step - loss: 8.8624 - mae: 2.1092 - mse: 8.8624 - val_loss: 21.0246 - val_mae: 3.3277 - val_mse: 21.0246\n",
            "Epoch 28/50\n",
            "22/22 [==============================] - 0s 4ms/step - loss: 8.5901 - mae: 2.0912 - mse: 8.5901 - val_loss: 20.4729 - val_mae: 3.4359 - val_mse: 20.4729\n",
            "Epoch 29/50\n",
            "22/22 [==============================] - 0s 4ms/step - loss: 8.6208 - mae: 2.1208 - mse: 8.6208 - val_loss: 16.5729 - val_mae: 2.8936 - val_mse: 16.5729\n",
            "Epoch 30/50\n",
            "22/22 [==============================] - 0s 3ms/step - loss: 8.1765 - mae: 2.0435 - mse: 8.1765 - val_loss: 19.5042 - val_mae: 3.1815 - val_mse: 19.5042\n",
            "Epoch 31/50\n",
            "22/22 [==============================] - 0s 4ms/step - loss: 8.2676 - mae: 2.0712 - mse: 8.2676 - val_loss: 16.7704 - val_mae: 2.8709 - val_mse: 16.7704\n",
            "Epoch 32/50\n",
            "22/22 [==============================] - 0s 3ms/step - loss: 7.9536 - mae: 2.0275 - mse: 7.9536 - val_loss: 16.3512 - val_mae: 2.8321 - val_mse: 16.3512\n",
            "Epoch 33/50\n",
            "22/22 [==============================] - 0s 4ms/step - loss: 7.9473 - mae: 2.0242 - mse: 7.9473 - val_loss: 16.0881 - val_mae: 2.8114 - val_mse: 16.0881\n",
            "Epoch 34/50\n",
            "22/22 [==============================] - 0s 4ms/step - loss: 7.8226 - mae: 2.0075 - mse: 7.8226 - val_loss: 16.3344 - val_mae: 2.8201 - val_mse: 16.3344\n",
            "Epoch 35/50\n",
            "22/22 [==============================] - 0s 3ms/step - loss: 7.5845 - mae: 1.9646 - mse: 7.5845 - val_loss: 16.5021 - val_mae: 2.7924 - val_mse: 16.5021\n",
            "Epoch 36/50\n",
            "22/22 [==============================] - 0s 3ms/step - loss: 7.7219 - mae: 1.9856 - mse: 7.7219 - val_loss: 17.5395 - val_mae: 2.9858 - val_mse: 17.5395\n",
            "Epoch 37/50\n",
            "22/22 [==============================] - 0s 4ms/step - loss: 7.3402 - mae: 1.9402 - mse: 7.3402 - val_loss: 16.4070 - val_mae: 2.8508 - val_mse: 16.4070\n"
          ],
          "name": "stdout"
        }
      ]
    },
    {
      "cell_type": "markdown",
      "metadata": {
        "id": "V3BgDTnS4Zv0",
        "colab_type": "text"
      },
      "source": [
        "# Model the Cars Dataset\n",
        "\n",
        "To get more practice, let's try another dataset."
      ]
    },
    {
      "cell_type": "markdown",
      "metadata": {
        "id": "fpE90Z-lUXoF",
        "colab_type": "text"
      },
      "source": [
        "## Get Cars Data from GitHub\n",
        "\n",
        "You can access any free standing dataset for this book directly from GitHub with a few simple steps:\n",
        "\n",
        "1.\tvisit the book URL: https://github.com/paperd/tensorflow\n",
        "2.\tlocate the dataset and click on it\n",
        "3.\tclick the Raw button\n",
        "4.\tcopy the URL to Colab and assign it to a variable\n",
        "5.\tread the dataset with the Pandas read_csv method"
      ]
    },
    {
      "cell_type": "markdown",
      "metadata": {
        "id": "A5oSilX2Up0X",
        "colab_type": "text"
      },
      "source": [
        "We’ve already located the URL and assigned it to a variable:"
      ]
    },
    {
      "cell_type": "code",
      "metadata": {
        "id": "x75xfFCeUsvv",
        "colab_type": "code",
        "colab": {}
      },
      "source": [
        "url = 'https://raw.githubusercontent.com/paperd/tensorflow/\\\n",
        "master/chapter6/data/cars.csv'"
      ],
      "execution_count": 88,
      "outputs": []
    },
    {
      "cell_type": "markdown",
      "metadata": {
        "id": "7LqH7ZHXWwsH",
        "colab_type": "text"
      },
      "source": [
        "Read the dataset into a Pandas DataFrame:"
      ]
    },
    {
      "cell_type": "code",
      "metadata": {
        "id": "1GhATmFIWw0N",
        "colab_type": "code",
        "colab": {}
      },
      "source": [
        "cars = pd.read_csv(url)"
      ],
      "execution_count": 89,
      "outputs": []
    },
    {
      "cell_type": "markdown",
      "metadata": {
        "id": "LzsbvIfHW_eO",
        "colab_type": "text"
      },
      "source": [
        "Verify data:"
      ]
    },
    {
      "cell_type": "code",
      "metadata": {
        "id": "xnfTcEviW_kn",
        "colab_type": "code",
        "colab": {
          "base_uri": "https://localhost:8080/",
          "height": 204
        },
        "outputId": "ff65156d-63a8-4b36-8aad-aac975f4c60f"
      },
      "source": [
        "cars.head()"
      ],
      "execution_count": 90,
      "outputs": [
        {
          "output_type": "execute_result",
          "data": {
            "text/html": [
              "<div>\n",
              "<style scoped>\n",
              "    .dataframe tbody tr th:only-of-type {\n",
              "        vertical-align: middle;\n",
              "    }\n",
              "\n",
              "    .dataframe tbody tr th {\n",
              "        vertical-align: top;\n",
              "    }\n",
              "\n",
              "    .dataframe thead th {\n",
              "        text-align: right;\n",
              "    }\n",
              "</style>\n",
              "<table border=\"1\" class=\"dataframe\">\n",
              "  <thead>\n",
              "    <tr style=\"text-align: right;\">\n",
              "      <th></th>\n",
              "      <th>Car</th>\n",
              "      <th>MPG</th>\n",
              "      <th>Cylinders</th>\n",
              "      <th>Displacement</th>\n",
              "      <th>HP</th>\n",
              "      <th>Weight</th>\n",
              "      <th>Acceleration</th>\n",
              "      <th>Model</th>\n",
              "      <th>Origin</th>\n",
              "    </tr>\n",
              "  </thead>\n",
              "  <tbody>\n",
              "    <tr>\n",
              "      <th>0</th>\n",
              "      <td>Chevrolet Chevelle Malibu</td>\n",
              "      <td>18.0</td>\n",
              "      <td>8</td>\n",
              "      <td>307.0</td>\n",
              "      <td>130</td>\n",
              "      <td>3504</td>\n",
              "      <td>12.0</td>\n",
              "      <td>70</td>\n",
              "      <td>US</td>\n",
              "    </tr>\n",
              "    <tr>\n",
              "      <th>1</th>\n",
              "      <td>Buick Skylark 320</td>\n",
              "      <td>15.0</td>\n",
              "      <td>8</td>\n",
              "      <td>350.0</td>\n",
              "      <td>165</td>\n",
              "      <td>3693</td>\n",
              "      <td>11.5</td>\n",
              "      <td>70</td>\n",
              "      <td>US</td>\n",
              "    </tr>\n",
              "    <tr>\n",
              "      <th>2</th>\n",
              "      <td>Plymouth Satellite</td>\n",
              "      <td>18.0</td>\n",
              "      <td>8</td>\n",
              "      <td>318.0</td>\n",
              "      <td>150</td>\n",
              "      <td>3436</td>\n",
              "      <td>11.0</td>\n",
              "      <td>70</td>\n",
              "      <td>US</td>\n",
              "    </tr>\n",
              "    <tr>\n",
              "      <th>3</th>\n",
              "      <td>AMC Rebel SST</td>\n",
              "      <td>16.0</td>\n",
              "      <td>8</td>\n",
              "      <td>304.0</td>\n",
              "      <td>150</td>\n",
              "      <td>3433</td>\n",
              "      <td>12.0</td>\n",
              "      <td>70</td>\n",
              "      <td>US</td>\n",
              "    </tr>\n",
              "    <tr>\n",
              "      <th>4</th>\n",
              "      <td>Ford Torino</td>\n",
              "      <td>17.0</td>\n",
              "      <td>8</td>\n",
              "      <td>302.0</td>\n",
              "      <td>140</td>\n",
              "      <td>3449</td>\n",
              "      <td>10.5</td>\n",
              "      <td>70</td>\n",
              "      <td>US</td>\n",
              "    </tr>\n",
              "  </tbody>\n",
              "</table>\n",
              "</div>"
            ],
            "text/plain": [
              "                         Car   MPG  Cylinders  ...  Acceleration  Model  Origin\n",
              "0  Chevrolet Chevelle Malibu  18.0          8  ...          12.0     70      US\n",
              "1          Buick Skylark 320  15.0          8  ...          11.5     70      US\n",
              "2         Plymouth Satellite  18.0          8  ...          11.0     70      US\n",
              "3              AMC Rebel SST  16.0          8  ...          12.0     70      US\n",
              "4                Ford Torino  17.0          8  ...          10.5     70      US\n",
              "\n",
              "[5 rows x 9 columns]"
            ]
          },
          "metadata": {
            "tags": []
          },
          "execution_count": 90
        }
      ]
    },
    {
      "cell_type": "markdown",
      "metadata": {
        "id": "qE0z68OZZzy6",
        "colab_type": "text"
      },
      "source": [
        "Get information about dataset:"
      ]
    },
    {
      "cell_type": "code",
      "metadata": {
        "id": "7gwYV3PDna2_",
        "colab_type": "code",
        "colab": {
          "base_uri": "https://localhost:8080/",
          "height": 289
        },
        "outputId": "91941187-8c3a-4faf-ec2e-86ec7db88a27"
      },
      "source": [
        "cars.info()"
      ],
      "execution_count": 91,
      "outputs": [
        {
          "output_type": "stream",
          "text": [
            "<class 'pandas.core.frame.DataFrame'>\n",
            "RangeIndex: 406 entries, 0 to 405\n",
            "Data columns (total 9 columns):\n",
            " #   Column        Non-Null Count  Dtype  \n",
            "---  ------        --------------  -----  \n",
            " 0   Car           406 non-null    object \n",
            " 1   MPG           406 non-null    float64\n",
            " 2   Cylinders     406 non-null    int64  \n",
            " 3   Displacement  406 non-null    float64\n",
            " 4   HP            406 non-null    int64  \n",
            " 5   Weight        406 non-null    int64  \n",
            " 6   Acceleration  406 non-null    float64\n",
            " 7   Model         406 non-null    int64  \n",
            " 8   Origin        406 non-null    object \n",
            "dtypes: float64(3), int64(4), object(2)\n",
            "memory usage: 28.7+ KB\n"
          ],
          "name": "stdout"
        }
      ]
    },
    {
      "cell_type": "markdown",
      "metadata": {
        "id": "339fLZfpuFv7",
        "colab_type": "text"
      },
      "source": [
        "## Slice Extraneous Data\n",
        "\n",
        "Since the name of each car has no impact on any predictions we might want to make, we can tuck it away into its own DataFrame in case we want to revisit it in the future. "
      ]
    },
    {
      "cell_type": "code",
      "metadata": {
        "id": "US4BYYkKui8c",
        "colab_type": "code",
        "colab": {
          "base_uri": "https://localhost:8080/",
          "height": 34
        },
        "outputId": "ec3ea8b1-9f68-4be0-bc92-a7ea64164b67"
      },
      "source": [
        "try:\n",
        "  name = cars.pop('Car')\n",
        "except:\n",
        "  print(\"An exception occurred\")"
      ],
      "execution_count": 93,
      "outputs": [
        {
          "output_type": "stream",
          "text": [
            "An exception occurred\n"
          ],
          "name": "stdout"
        }
      ]
    },
    {
      "cell_type": "markdown",
      "metadata": {
        "id": "8dkr3Jf5f6hs",
        "colab_type": "text"
      },
      "source": [
        "If an exception occurred, the *Car* column has already been removed."
      ]
    },
    {
      "cell_type": "markdown",
      "metadata": {
        "id": "u9rK49_2oFMe",
        "colab_type": "text"
      },
      "source": [
        "## Convert Categorical Column to Numeric \n",
        "\n",
        "Machine learning algorithms can only train numeric data. So, we must convert any non-numeric feature. The 'Origin' column is categorical, not numeric. To remedy, one solution is to encode the data as *one-hot*. **One hot encoding** is a process that converts categorical data into a numeric form for machine learning algorithm consumption.\n",
        "\n",
        "We start by slicing off the 'Origin' feature column from the original DataFrame into its own DataFrame. We then use this DataFrame as a template to build a new feature column in the original DataFrame for each category from the original 'Origin' feature."
      ]
    },
    {
      "cell_type": "code",
      "metadata": {
        "id": "-p9S_pG9qvYK",
        "colab_type": "code",
        "colab": {}
      },
      "source": [
        "# create a copy of DataFrame\n",
        "\n",
        "df = cars.copy()\n",
        "\n",
        "origin = df.pop('Origin')"
      ],
      "execution_count": 95,
      "outputs": []
    },
    {
      "cell_type": "markdown",
      "metadata": {
        "id": "bZWNEtdOrDSw",
        "colab_type": "text"
      },
      "source": [
        "Now, we define a feature column for 'US', 'Europe', and 'Japan' cars:"
      ]
    },
    {
      "cell_type": "code",
      "metadata": {
        "id": "bbSkoUbDoFWM",
        "colab_type": "code",
        "colab": {
          "base_uri": "https://localhost:8080/",
          "height": 204
        },
        "outputId": "3d87556e-11ed-40ab-fb3b-6cc1a0740663"
      },
      "source": [
        "df['US'] = (origin == 'US') * 1.0\n",
        "df['Europe'] = (origin == 'Europe') * 1.0\n",
        "df['Japan'] = (origin == 'Japan') * 1.0\n",
        "df.head()"
      ],
      "execution_count": 96,
      "outputs": [
        {
          "output_type": "execute_result",
          "data": {
            "text/html": [
              "<div>\n",
              "<style scoped>\n",
              "    .dataframe tbody tr th:only-of-type {\n",
              "        vertical-align: middle;\n",
              "    }\n",
              "\n",
              "    .dataframe tbody tr th {\n",
              "        vertical-align: top;\n",
              "    }\n",
              "\n",
              "    .dataframe thead th {\n",
              "        text-align: right;\n",
              "    }\n",
              "</style>\n",
              "<table border=\"1\" class=\"dataframe\">\n",
              "  <thead>\n",
              "    <tr style=\"text-align: right;\">\n",
              "      <th></th>\n",
              "      <th>MPG</th>\n",
              "      <th>Cylinders</th>\n",
              "      <th>Displacement</th>\n",
              "      <th>HP</th>\n",
              "      <th>Weight</th>\n",
              "      <th>Acceleration</th>\n",
              "      <th>Model</th>\n",
              "      <th>US</th>\n",
              "      <th>Europe</th>\n",
              "      <th>Japan</th>\n",
              "    </tr>\n",
              "  </thead>\n",
              "  <tbody>\n",
              "    <tr>\n",
              "      <th>0</th>\n",
              "      <td>18.0</td>\n",
              "      <td>8</td>\n",
              "      <td>307.0</td>\n",
              "      <td>130</td>\n",
              "      <td>3504</td>\n",
              "      <td>12.0</td>\n",
              "      <td>70</td>\n",
              "      <td>1.0</td>\n",
              "      <td>0.0</td>\n",
              "      <td>0.0</td>\n",
              "    </tr>\n",
              "    <tr>\n",
              "      <th>1</th>\n",
              "      <td>15.0</td>\n",
              "      <td>8</td>\n",
              "      <td>350.0</td>\n",
              "      <td>165</td>\n",
              "      <td>3693</td>\n",
              "      <td>11.5</td>\n",
              "      <td>70</td>\n",
              "      <td>1.0</td>\n",
              "      <td>0.0</td>\n",
              "      <td>0.0</td>\n",
              "    </tr>\n",
              "    <tr>\n",
              "      <th>2</th>\n",
              "      <td>18.0</td>\n",
              "      <td>8</td>\n",
              "      <td>318.0</td>\n",
              "      <td>150</td>\n",
              "      <td>3436</td>\n",
              "      <td>11.0</td>\n",
              "      <td>70</td>\n",
              "      <td>1.0</td>\n",
              "      <td>0.0</td>\n",
              "      <td>0.0</td>\n",
              "    </tr>\n",
              "    <tr>\n",
              "      <th>3</th>\n",
              "      <td>16.0</td>\n",
              "      <td>8</td>\n",
              "      <td>304.0</td>\n",
              "      <td>150</td>\n",
              "      <td>3433</td>\n",
              "      <td>12.0</td>\n",
              "      <td>70</td>\n",
              "      <td>1.0</td>\n",
              "      <td>0.0</td>\n",
              "      <td>0.0</td>\n",
              "    </tr>\n",
              "    <tr>\n",
              "      <th>4</th>\n",
              "      <td>17.0</td>\n",
              "      <td>8</td>\n",
              "      <td>302.0</td>\n",
              "      <td>140</td>\n",
              "      <td>3449</td>\n",
              "      <td>10.5</td>\n",
              "      <td>70</td>\n",
              "      <td>1.0</td>\n",
              "      <td>0.0</td>\n",
              "      <td>0.0</td>\n",
              "    </tr>\n",
              "  </tbody>\n",
              "</table>\n",
              "</div>"
            ],
            "text/plain": [
              "    MPG  Cylinders  Displacement   HP  ...  Model   US  Europe  Japan\n",
              "0  18.0          8         307.0  130  ...     70  1.0     0.0    0.0\n",
              "1  15.0          8         350.0  165  ...     70  1.0     0.0    0.0\n",
              "2  18.0          8         318.0  150  ...     70  1.0     0.0    0.0\n",
              "3  16.0          8         304.0  150  ...     70  1.0     0.0    0.0\n",
              "4  17.0          8         302.0  140  ...     70  1.0     0.0    0.0\n",
              "\n",
              "[5 rows x 10 columns]"
            ]
          },
          "metadata": {
            "tags": []
          },
          "execution_count": 96
        }
      ]
    },
    {
      "cell_type": "markdown",
      "metadata": {
        "id": "dq2cCot4rOnx",
        "colab_type": "text"
      },
      "source": [
        "So, for each entry in the 'US' feature column, we assign a '1.0' if the car is from the United States. Otherwise, we assign a '0.0'. We follow the same logic for the 'Europe' and 'Japan' feature columns based on the car's origin. Now, the algorithm can process the data properly."
      ]
    },
    {
      "cell_type": "markdown",
      "metadata": {
        "id": "JGFD-H8ssvlz",
        "colab_type": "text"
      },
      "source": [
        "## Create Features and Labels\n",
        "\n",
        "Our goal is to predict 'MPG' for cars in this dataset. So, the target is 'MPG' and features are the remaining feature columns."
      ]
    },
    {
      "cell_type": "markdown",
      "metadata": {
        "id": "B3q_-5-UxrqV",
        "colab_type": "text"
      },
      "source": [
        "## Create Target"
      ]
    },
    {
      "cell_type": "code",
      "metadata": {
        "id": "ZoFz6ESYxw5G",
        "colab_type": "code",
        "colab": {}
      },
      "source": [
        "# create a copy\n",
        "\n",
        "features = df.copy()\n",
        "\n",
        "target = features.pop('MPG')"
      ],
      "execution_count": 102,
      "outputs": []
    },
    {
      "cell_type": "markdown",
      "metadata": {
        "id": "GDUG_IdEx0ul",
        "colab_type": "text"
      },
      "source": [
        "## Get Number of Features"
      ]
    },
    {
      "cell_type": "code",
      "metadata": {
        "id": "8lHMcVVkx6vf",
        "colab_type": "code",
        "colab": {
          "base_uri": "https://localhost:8080/",
          "height": 68
        },
        "outputId": "3d37817e-f29a-469b-e629-aa164e39fbf9"
      },
      "source": [
        "# get features\n",
        "\n",
        "feature_cols = list(features)\n",
        "print (feature_cols, br)\n",
        "\n",
        "# get number of features\n",
        "\n",
        "num_features = len(feature_cols)\n",
        "print (num_features)"
      ],
      "execution_count": 103,
      "outputs": [
        {
          "output_type": "stream",
          "text": [
            "['Cylinders', 'Displacement', 'HP', 'Weight', 'Acceleration', 'Model', 'US', 'Europe', 'Japan'] \n",
            "\n",
            "9\n"
          ],
          "name": "stdout"
        }
      ]
    },
    {
      "cell_type": "markdown",
      "metadata": {
        "id": "ocxYnlhyyIP2",
        "colab_type": "text"
      },
      "source": [
        "## Create Data for TensorFlow Consumption"
      ]
    },
    {
      "cell_type": "code",
      "metadata": {
        "id": "kniXiO8psvvM",
        "colab_type": "code",
        "colab": {
          "base_uri": "https://localhost:8080/",
          "height": 68
        },
        "outputId": "8e0ee19a-bd72-4a55-96ba-da332151bbb4"
      },
      "source": [
        "# convert feature and target data to float\n",
        "\n",
        "features = features.values\n",
        "print (type(features), br)\n",
        "\n",
        "labels = target.values\n",
        "print (type(labels))"
      ],
      "execution_count": 104,
      "outputs": [
        {
          "output_type": "stream",
          "text": [
            "<class 'numpy.ndarray'> \n",
            "\n",
            "<class 'numpy.ndarray'>\n"
          ],
          "name": "stdout"
        }
      ]
    },
    {
      "cell_type": "markdown",
      "metadata": {
        "id": "OHON9vQdsSg6",
        "colab_type": "text"
      },
      "source": [
        "## Split Data into Train and Test Sets and Scale"
      ]
    },
    {
      "cell_type": "code",
      "metadata": {
        "id": "7TvDVxnus0-N",
        "colab_type": "code",
        "colab": {
          "base_uri": "https://localhost:8080/",
          "height": 68
        },
        "outputId": "25473897-752f-4dd2-d1fe-7e76e71b12c7"
      },
      "source": [
        "from sklearn.model_selection import train_test_split\n",
        "\n",
        "X_train, X_test, y_train, y_test = train_test_split(\n",
        "    features, labels, test_size=0.33, random_state=0)\n",
        "\n",
        "print ('X_train shape:', end=' ')\n",
        "print (X_train.shape, br)\n",
        "\n",
        "print ('X_test shape:', end=' ')\n",
        "print (X_test.shape)\n",
        "\n",
        "X_train_std = scaler.fit_transform(X_train)\n",
        "X_test_std = scaler.fit_transform(X_test)"
      ],
      "execution_count": 106,
      "outputs": [
        {
          "output_type": "stream",
          "text": [
            "X_train shape: (272, 9) \n",
            "\n",
            "X_test shape: (134, 9)\n"
          ],
          "name": "stdout"
        }
      ]
    },
    {
      "cell_type": "markdown",
      "metadata": {
        "id": "nincL1I_vD9N",
        "colab_type": "text"
      },
      "source": [
        "## Transform Data for the Input Pipeline"
      ]
    },
    {
      "cell_type": "code",
      "metadata": {
        "id": "i1oJGLRxvEFT",
        "colab_type": "code",
        "colab": {}
      },
      "source": [
        "train = tf.data.Dataset.from_tensor_slices((X_train_std, y_train))\n",
        "test = tf.data.Dataset.from_tensor_slices((X_test_std, y_test))"
      ],
      "execution_count": 108,
      "outputs": []
    },
    {
      "cell_type": "markdown",
      "metadata": {
        "id": "vS-KG3qWcOGg",
        "colab_type": "text"
      },
      "source": [
        "## Shuffle (where appropriate), Batch, and Prefetch"
      ]
    },
    {
      "cell_type": "code",
      "metadata": {
        "id": "-L8w9X9qvTB6",
        "colab_type": "code",
        "colab": {}
      },
      "source": [
        "BATCH_SIZE = 16\n",
        "SHUFFLE_BUFFER_SIZE = 100\n",
        "\n",
        "train_cars = train.shuffle(SHUFFLE_BUFFER_SIZE).batch(BATCH_SIZE).prefetch(1)\n",
        "test_cars = test.batch(BATCH_SIZE).prefetch(1)"
      ],
      "execution_count": 110,
      "outputs": []
    },
    {
      "cell_type": "markdown",
      "metadata": {
        "id": "FX5PjiJkvnDk",
        "colab_type": "text"
      },
      "source": [
        "## Create the Model"
      ]
    },
    {
      "cell_type": "code",
      "metadata": {
        "id": "p5mbECFVvnPi",
        "colab_type": "code",
        "colab": {}
      },
      "source": [
        "# clear any previous model\n",
        "\n",
        "keras.backend.clear_session()\n",
        "\n",
        "# create the model\n",
        "\n",
        "model = Sequential([\n",
        "  Dense(64, activation='relu', input_shape=[num_features]),\n",
        "  Dense(64, activation='relu'),\n",
        "  Dense(1)\n",
        "])"
      ],
      "execution_count": 120,
      "outputs": []
    },
    {
      "cell_type": "markdown",
      "metadata": {
        "id": "VWZqo4ZXyiUx",
        "colab_type": "text"
      },
      "source": [
        "## Compile the Model"
      ]
    },
    {
      "cell_type": "code",
      "metadata": {
        "id": "llbwbrfAyieZ",
        "colab_type": "code",
        "colab": {}
      },
      "source": [
        "rmse = tf.keras.metrics.RootMeanSquaredError()\n",
        "optimizer = tf.keras.optimizers.RMSprop(0.001)\n",
        "\n",
        "model.compile(loss='mse',\n",
        "              optimizer=optimizer,\n",
        "              metrics=[rmse, 'mae', 'mse'])"
      ],
      "execution_count": 121,
      "outputs": []
    },
    {
      "cell_type": "markdown",
      "metadata": {
        "id": "LQbREWjoyzc-",
        "colab_type": "text"
      },
      "source": [
        "## Inspect the Model"
      ]
    },
    {
      "cell_type": "code",
      "metadata": {
        "id": "XiFIJi0cyzll",
        "colab_type": "code",
        "colab": {
          "base_uri": "https://localhost:8080/",
          "height": 255
        },
        "outputId": "e3af5202-71c6-4e2e-feb3-c07d5d0c93b4"
      },
      "source": [
        "model.summary()"
      ],
      "execution_count": 122,
      "outputs": [
        {
          "output_type": "stream",
          "text": [
            "Model: \"sequential\"\n",
            "_________________________________________________________________\n",
            "Layer (type)                 Output Shape              Param #   \n",
            "=================================================================\n",
            "dense (Dense)                (None, 64)                640       \n",
            "_________________________________________________________________\n",
            "dense_1 (Dense)              (None, 64)                4160      \n",
            "_________________________________________________________________\n",
            "dense_2 (Dense)              (None, 1)                 65        \n",
            "=================================================================\n",
            "Total params: 4,865\n",
            "Trainable params: 4,865\n",
            "Non-trainable params: 0\n",
            "_________________________________________________________________\n"
          ],
          "name": "stdout"
        }
      ]
    },
    {
      "cell_type": "markdown",
      "metadata": {
        "id": "V2V7Qp3syt_u",
        "colab_type": "text"
      },
      "source": [
        "## Train the Model"
      ]
    },
    {
      "cell_type": "code",
      "metadata": {
        "id": "aB75wPfUyuJ-",
        "colab_type": "code",
        "colab": {
          "base_uri": "https://localhost:8080/",
          "height": 853
        },
        "outputId": "9ce1da7e-ad75-409d-e88c-2ccf233c9c95"
      },
      "source": [
        "history = model.fit(train_cars, epochs=100,\n",
        "                    validation_data=test_cars,\n",
        "                    callbacks=[early_stop])"
      ],
      "execution_count": 123,
      "outputs": [
        {
          "output_type": "stream",
          "text": [
            "Epoch 1/100\n",
            "17/17 [==============================] - 0s 8ms/step - loss: 530.3841 - root_mean_squared_error: 23.0301 - mae: 21.6267 - mse: 530.3841 - val_loss: 484.3900 - val_root_mean_squared_error: 22.0089 - val_mae: 20.3084 - val_mse: 484.3900\n",
            "Epoch 2/100\n",
            "17/17 [==============================] - 0s 4ms/step - loss: 422.5585 - root_mean_squared_error: 20.5562 - mae: 19.1417 - mse: 422.5585 - val_loss: 371.8039 - val_root_mean_squared_error: 19.2822 - val_mae: 17.7143 - val_mse: 371.8039\n",
            "Epoch 3/100\n",
            "17/17 [==============================] - 0s 4ms/step - loss: 303.9154 - root_mean_squared_error: 17.4332 - mae: 16.0349 - mse: 303.9154 - val_loss: 247.3068 - val_root_mean_squared_error: 15.7260 - val_mae: 14.2600 - val_mse: 247.3068\n",
            "Epoch 4/100\n",
            "17/17 [==============================] - 0s 4ms/step - loss: 184.6398 - root_mean_squared_error: 13.5882 - mae: 12.1395 - mse: 184.6398 - val_loss: 139.8950 - val_root_mean_squared_error: 11.8277 - val_mae: 10.4483 - val_mse: 139.8950\n",
            "Epoch 5/100\n",
            "17/17 [==============================] - 0s 4ms/step - loss: 94.4796 - root_mean_squared_error: 9.7201 - mae: 8.2546 - mse: 94.4796 - val_loss: 74.4199 - val_root_mean_squared_error: 8.6267 - val_mae: 7.0494 - val_mse: 74.4199\n",
            "Epoch 6/100\n",
            "17/17 [==============================] - 0s 4ms/step - loss: 47.3687 - root_mean_squared_error: 6.8825 - mae: 5.4850 - mse: 47.3687 - val_loss: 50.1997 - val_root_mean_squared_error: 7.0852 - val_mae: 5.5324 - val_mse: 50.1997\n",
            "Epoch 7/100\n",
            "17/17 [==============================] - 0s 4ms/step - loss: 32.7271 - root_mean_squared_error: 5.7208 - mae: 4.2353 - mse: 32.7271 - val_loss: 40.1290 - val_root_mean_squared_error: 6.3347 - val_mae: 4.7725 - val_mse: 40.1290\n",
            "Epoch 8/100\n",
            "17/17 [==============================] - 0s 4ms/step - loss: 26.8687 - root_mean_squared_error: 5.1835 - mae: 3.7574 - mse: 26.8687 - val_loss: 34.0752 - val_root_mean_squared_error: 5.8374 - val_mae: 4.2324 - val_mse: 34.0752\n",
            "Epoch 9/100\n",
            "17/17 [==============================] - 0s 4ms/step - loss: 23.2968 - root_mean_squared_error: 4.8267 - mae: 3.4485 - mse: 23.2968 - val_loss: 30.2174 - val_root_mean_squared_error: 5.4970 - val_mae: 3.8293 - val_mse: 30.2174\n",
            "Epoch 10/100\n",
            "17/17 [==============================] - 0s 4ms/step - loss: 20.7569 - root_mean_squared_error: 4.5560 - mae: 3.1670 - mse: 20.7569 - val_loss: 27.9945 - val_root_mean_squared_error: 5.2910 - val_mae: 3.5925 - val_mse: 27.9945\n",
            "Epoch 11/100\n",
            "17/17 [==============================] - 0s 4ms/step - loss: 18.9624 - root_mean_squared_error: 4.3546 - mae: 3.0076 - mse: 18.9624 - val_loss: 26.6268 - val_root_mean_squared_error: 5.1601 - val_mae: 3.3628 - val_mse: 26.6268\n",
            "Epoch 12/100\n",
            "17/17 [==============================] - 0s 4ms/step - loss: 17.6895 - root_mean_squared_error: 4.2059 - mae: 2.8576 - mse: 17.6895 - val_loss: 25.7263 - val_root_mean_squared_error: 5.0721 - val_mae: 3.2375 - val_mse: 25.7263\n",
            "Epoch 13/100\n",
            "17/17 [==============================] - 0s 4ms/step - loss: 16.7227 - root_mean_squared_error: 4.0893 - mae: 2.7072 - mse: 16.7227 - val_loss: 25.0115 - val_root_mean_squared_error: 5.0011 - val_mae: 3.1657 - val_mse: 25.0115\n",
            "Epoch 14/100\n",
            "17/17 [==============================] - 0s 4ms/step - loss: 15.7794 - root_mean_squared_error: 3.9723 - mae: 2.6018 - mse: 15.7794 - val_loss: 24.5087 - val_root_mean_squared_error: 4.9506 - val_mae: 3.0419 - val_mse: 24.5087\n",
            "Epoch 15/100\n",
            "17/17 [==============================] - 0s 4ms/step - loss: 15.3128 - root_mean_squared_error: 3.9132 - mae: 2.6234 - mse: 15.3128 - val_loss: 24.5464 - val_root_mean_squared_error: 4.9544 - val_mae: 3.0167 - val_mse: 24.5464\n",
            "Epoch 16/100\n",
            "17/17 [==============================] - 0s 4ms/step - loss: 15.0633 - root_mean_squared_error: 3.8811 - mae: 2.5508 - mse: 15.0633 - val_loss: 24.9059 - val_root_mean_squared_error: 4.9906 - val_mae: 3.0881 - val_mse: 24.9059\n",
            "Epoch 17/100\n",
            "17/17 [==============================] - 0s 4ms/step - loss: 14.4648 - root_mean_squared_error: 3.8033 - mae: 2.4983 - mse: 14.4648 - val_loss: 24.5583 - val_root_mean_squared_error: 4.9556 - val_mae: 3.1063 - val_mse: 24.5583\n",
            "Epoch 18/100\n",
            "17/17 [==============================] - 0s 4ms/step - loss: 14.0942 - root_mean_squared_error: 3.7542 - mae: 2.5293 - mse: 14.0942 - val_loss: 24.2833 - val_root_mean_squared_error: 4.9278 - val_mae: 2.8868 - val_mse: 24.2833\n",
            "Epoch 19/100\n",
            "17/17 [==============================] - 0s 4ms/step - loss: 14.1172 - root_mean_squared_error: 3.7573 - mae: 2.4955 - mse: 14.1172 - val_loss: 24.3814 - val_root_mean_squared_error: 4.9377 - val_mae: 2.8427 - val_mse: 24.3814\n",
            "Epoch 20/100\n",
            "17/17 [==============================] - 0s 4ms/step - loss: 13.4322 - root_mean_squared_error: 3.6650 - mae: 2.4142 - mse: 13.4322 - val_loss: 23.4404 - val_root_mean_squared_error: 4.8415 - val_mae: 2.7933 - val_mse: 23.4404\n",
            "Epoch 21/100\n",
            "17/17 [==============================] - 0s 4ms/step - loss: 13.1802 - root_mean_squared_error: 3.6305 - mae: 2.3333 - mse: 13.1802 - val_loss: 23.9394 - val_root_mean_squared_error: 4.8928 - val_mae: 2.9136 - val_mse: 23.9394\n",
            "Epoch 22/100\n",
            "17/17 [==============================] - 0s 4ms/step - loss: 12.8731 - root_mean_squared_error: 3.5879 - mae: 2.3541 - mse: 12.8731 - val_loss: 24.1827 - val_root_mean_squared_error: 4.9176 - val_mae: 2.8611 - val_mse: 24.1827\n",
            "Epoch 23/100\n",
            "17/17 [==============================] - 0s 4ms/step - loss: 12.9715 - root_mean_squared_error: 3.6016 - mae: 2.3969 - mse: 12.9715 - val_loss: 24.6523 - val_root_mean_squared_error: 4.9651 - val_mae: 2.9093 - val_mse: 24.6523\n",
            "Epoch 24/100\n",
            "17/17 [==============================] - 0s 4ms/step - loss: 12.5873 - root_mean_squared_error: 3.5479 - mae: 2.3753 - mse: 12.5873 - val_loss: 24.7474 - val_root_mean_squared_error: 4.9747 - val_mae: 2.7848 - val_mse: 24.7474\n"
          ],
          "name": "stdout"
        }
      ]
    },
    {
      "cell_type": "markdown",
      "metadata": {
        "id": "joGMOHSXEmXh",
        "colab_type": "text"
      },
      "source": [
        "## Visualize Training"
      ]
    },
    {
      "cell_type": "code",
      "metadata": {
        "id": "C05oagoDEmga",
        "colab_type": "code",
        "colab": {
          "base_uri": "https://localhost:8080/",
          "height": 885
        },
        "outputId": "11e7e638-7e53-4b6d-f44c-f6708e67a75f"
      },
      "source": [
        "hist = pd.DataFrame(history.history)\n",
        "hist['epoch'] = history.epoch\n",
        "hist.tail()\n",
        "\n",
        "train_limit, test_limit = 10, 100\n",
        "\n",
        "plot_history(history, train_limit, test_limit)"
      ],
      "execution_count": 124,
      "outputs": [
        {
          "output_type": "display_data",
          "data": {
            "image/png": "[encoded data removed]",
            "text/plain": [
              "<Figure size 432x288 with 1 Axes>"
            ]
          },
          "metadata": {
            "tags": [],
            "needs_background": "light"
          }
        },
        {
          "output_type": "display_data",
          "data": {
            "text/plain": [
              "<Figure size 432x288 with 0 Axes>"
            ]
          },
          "metadata": {
            "tags": []
          }
        },
        {
          "output_type": "display_data",
          "data": {
            "image/png": "[encoded data removed]",
            "text/plain": [
              "<Figure size 432x288 with 1 Axes>"
            ]
          },
          "metadata": {
            "tags": [],
            "needs_background": "light"
          }
        },
        {
          "output_type": "display_data",
          "data": {
            "text/plain": [
              "<Figure size 432x288 with 0 Axes>"
            ]
          },
          "metadata": {
            "tags": []
          }
        },
        {
          "output_type": "display_data",
          "data": {
            "image/png": "[encoded data removed]",
            "text/plain": [
              "<Figure size 432x288 with 1 Axes>"
            ]
          },
          "metadata": {
            "tags": [],
            "needs_background": "light"
          }
        }
      ]
    },
    {
      "cell_type": "markdown",
      "metadata": {
        "id": "s16YZD32FszM",
        "colab_type": "text"
      },
      "source": [
        "## Improve Model by Tweaking Early Stopping"
      ]
    },
    {
      "cell_type": "code",
      "metadata": {
        "id": "2fFNRSCTFs-b",
        "colab_type": "code",
        "colab": {
          "base_uri": "https://localhost:8080/",
          "height": 323
        },
        "outputId": "2c963901-9cab-4704-e4f2-9562b9a04855"
      },
      "source": [
        "keras.backend.clear_session()\n",
        "\n",
        "n = 4\n",
        "\n",
        "early_stop = keras.callbacks.EarlyStopping(monitor='val_loss', patience=n)\n",
        "\n",
        "history = model.fit(train_cars, epochs=100,\n",
        "                    validation_data=test_cars,\n",
        "                    callbacks=[early_stop])"
      ],
      "execution_count": 125,
      "outputs": [
        {
          "output_type": "stream",
          "text": [
            "Epoch 1/100\n",
            "17/17 [==============================] - 0s 4ms/step - loss: 12.4704 - root_mean_squared_error: 3.5314 - mae: 2.3378 - mse: 12.4704 - val_loss: 23.7506 - val_root_mean_squared_error: 4.8735 - val_mae: 2.7887 - val_mse: 23.7506\n",
            "Epoch 2/100\n",
            "17/17 [==============================] - 0s 4ms/step - loss: 12.2229 - root_mean_squared_error: 3.4961 - mae: 2.2921 - mse: 12.2229 - val_loss: 23.5241 - val_root_mean_squared_error: 4.8502 - val_mae: 2.7752 - val_mse: 23.5241\n",
            "Epoch 3/100\n",
            "17/17 [==============================] - 0s 4ms/step - loss: 12.1176 - root_mean_squared_error: 3.4810 - mae: 2.3346 - mse: 12.1176 - val_loss: 23.6982 - val_root_mean_squared_error: 4.8681 - val_mae: 2.7182 - val_mse: 23.6982\n",
            "Epoch 4/100\n",
            "17/17 [==============================] - 0s 4ms/step - loss: 11.8793 - root_mean_squared_error: 3.4466 - mae: 2.3227 - mse: 11.8793 - val_loss: 24.9347 - val_root_mean_squared_error: 4.9935 - val_mae: 2.8161 - val_mse: 24.9347\n",
            "Epoch 5/100\n",
            "17/17 [==============================] - 0s 4ms/step - loss: 11.9164 - root_mean_squared_error: 3.4520 - mae: 2.2898 - mse: 11.9164 - val_loss: 23.4612 - val_root_mean_squared_error: 4.8437 - val_mae: 2.7618 - val_mse: 23.4612\n",
            "Epoch 6/100\n",
            "17/17 [==============================] - 0s 4ms/step - loss: 11.6907 - root_mean_squared_error: 3.4192 - mae: 2.2608 - mse: 11.6907 - val_loss: 23.4662 - val_root_mean_squared_error: 4.8442 - val_mae: 2.7339 - val_mse: 23.4662\n",
            "Epoch 7/100\n",
            "17/17 [==============================] - 0s 4ms/step - loss: 11.7378 - root_mean_squared_error: 3.4260 - mae: 2.2598 - mse: 11.7378 - val_loss: 24.1001 - val_root_mean_squared_error: 4.9092 - val_mae: 2.7420 - val_mse: 24.1001\n",
            "Epoch 8/100\n",
            "17/17 [==============================] - 0s 4ms/step - loss: 11.3005 - root_mean_squared_error: 3.3616 - mae: 2.2213 - mse: 11.3005 - val_loss: 24.5089 - val_root_mean_squared_error: 4.9506 - val_mae: 2.8602 - val_mse: 24.5089\n",
            "Epoch 9/100\n",
            "17/17 [==============================] - 0s 5ms/step - loss: 11.5182 - root_mean_squared_error: 3.3939 - mae: 2.2379 - mse: 11.5182 - val_loss: 23.7261 - val_root_mean_squared_error: 4.8709 - val_mae: 2.7722 - val_mse: 23.7261\n"
          ],
          "name": "stdout"
        }
      ]
    },
    {
      "cell_type": "code",
      "metadata": {
        "id": "dJIKW3hKGb0g",
        "colab_type": "code",
        "colab": {
          "base_uri": "https://localhost:8080/",
          "height": 885
        },
        "outputId": "44c3cafb-815d-4992-b7ac-9dd430d38693"
      },
      "source": [
        "hist = pd.DataFrame(history.history)\n",
        "hist['epoch'] = history.epoch\n",
        "hist.tail()\n",
        "\n",
        "train_limit, test_limit = 10, 100\n",
        "\n",
        "plot_history(history, train_limit, test_limit)"
      ],
      "execution_count": 126,
      "outputs": [
        {
          "output_type": "display_data",
          "data": {
            "image/png": "[encoded data removed]",
            "text/plain": [
              "<Figure size 432x288 with 1 Axes>"
            ]
          },
          "metadata": {
            "tags": [],
            "needs_background": "light"
          }
        },
        {
          "output_type": "display_data",
          "data": {
            "text/plain": [
              "<Figure size 432x288 with 0 Axes>"
            ]
          },
          "metadata": {
            "tags": []
          }
        },
        {
          "output_type": "display_data",
          "data": {
            "image/png": "[encoded data removed]",
            "text/plain": [
              "<Figure size 432x288 with 1 Axes>"
            ]
          },
          "metadata": {
            "tags": [],
            "needs_background": "light"
          }
        },
        {
          "output_type": "display_data",
          "data": {
            "text/plain": [
              "<Figure size 432x288 with 0 Axes>"
            ]
          },
          "metadata": {
            "tags": []
          }
        },
        {
          "output_type": "display_data",
          "data": {
            "image/png": "[encoded data removed]",
            "text/plain": [
              "<Figure size 432x288 with 1 Axes>"
            ]
          },
          "metadata": {
            "tags": [],
            "needs_background": "light"
          }
        }
      ]
    },
    {
      "cell_type": "markdown",
      "metadata": {
        "id": "4wpHwumxGrU8",
        "colab_type": "text"
      },
      "source": [
        "## Generalize on Test Data"
      ]
    },
    {
      "cell_type": "code",
      "metadata": {
        "id": "E11l_ablGsAk",
        "colab_type": "code",
        "colab": {
          "base_uri": "https://localhost:8080/",
          "height": 68
        },
        "outputId": "e7b8004a-5e0f-42e6-8103-8853dfa40750"
      },
      "source": [
        "loss, rmse, mae, mse = model.evaluate(test_cars, verbose=2)\n",
        "\n",
        "print ()\n",
        "\n",
        "print('\"Testing set Mean Abs Error: {:5.2f} MPG'.format(mae))"
      ],
      "execution_count": 127,
      "outputs": [
        {
          "output_type": "stream",
          "text": [
            "9/9 - 0s - loss: 23.7261 - root_mean_squared_error: 4.8709 - mae: 2.7722 - mse: 23.7261\n",
            "\n",
            "\"Testing set Mean Abs Error:  2.77 MPG\n"
          ],
          "name": "stdout"
        }
      ]
    },
    {
      "cell_type": "markdown",
      "metadata": {
        "id": "DhMF55-uG3nM",
        "colab_type": "text"
      },
      "source": [
        "## Make Predictions"
      ]
    },
    {
      "cell_type": "code",
      "metadata": {
        "id": "ip7M-YQ1G30K",
        "colab_type": "code",
        "colab": {}
      },
      "source": [
        "predictions = model.predict(test_cars)"
      ],
      "execution_count": 128,
      "outputs": []
    },
    {
      "cell_type": "markdown",
      "metadata": {
        "id": "Hc9brgz5HCjN",
        "colab_type": "text"
      },
      "source": [
        "## Visualize Predictions"
      ]
    },
    {
      "cell_type": "code",
      "metadata": {
        "id": "spb90N-1HCsF",
        "colab_type": "code",
        "colab": {
          "base_uri": "https://localhost:8080/",
          "height": 281
        },
        "outputId": "b48192f8-8b1f-4c4e-f164-ffec34fd10c8"
      },
      "source": [
        "plt.scatter(y_test, predictions)\n",
        "plt.xlabel('True Values [MPG]')\n",
        "plt.ylabel('Predictions [MPG]')\n",
        "plt.axis('equal')\n",
        "plt.axis('square')\n",
        "plt.xlim([0,plt.xlim()[1]])\n",
        "plt.ylim([0,plt.ylim()[1]])\n",
        "_ = plt.plot([-100, 100], [-100, 100])"
      ],
      "execution_count": 129,
      "outputs": [
        {
          "output_type": "display_data",
          "data": {
            "image/png": "[encoded data removed]",
            "text/plain": [
              "<Figure size 432x288 with 1 Axes>"
            ]
          },
          "metadata": {
            "tags": [],
            "needs_background": "light"
          }
        }
      ]
    },
    {
      "cell_type": "markdown",
      "metadata": {
        "id": "PSKIfgtPNZNZ",
        "colab_type": "text"
      },
      "source": [
        "# Read from UCI Irvine Machine Learning Repository\n",
        "\n",
        "We can also read car data directly from the UCI Irvine Machine Learning Repository."
      ]
    },
    {
      "cell_type": "code",
      "metadata": {
        "id": "yis3wFh5NZa_",
        "colab_type": "code",
        "colab": {
          "base_uri": "https://localhost:8080/",
          "height": 35
        },
        "outputId": "b65c4a35-586f-4c02-b246-9ced93bfd22d"
      },
      "source": [
        "dataset_path = keras.utils.get_file(\"auto-mpg.data\", \"http://archive.ics.uci.\\\n",
        "edu/ml/machine-learning-databases/auto-mpg/auto-mpg.data\")\n",
        "dataset_path"
      ],
      "execution_count": 133,
      "outputs": [
        {
          "output_type": "execute_result",
          "data": {
            "application/vnd.google.colaboratory.intrinsic": {
              "type": "string"
            },
            "text/plain": [
              "'/root/.keras/datasets/auto-mpg.data'"
            ]
          },
          "metadata": {
            "tags": []
          },
          "execution_count": 133
        }
      ]
    },
    {
      "cell_type": "markdown",
      "metadata": {
        "id": "f1YifGCONsf3",
        "colab_type": "text"
      },
      "source": [
        "# Get Data into Pandas"
      ]
    },
    {
      "cell_type": "code",
      "metadata": {
        "id": "N5w6YKACNsql",
        "colab_type": "code",
        "colab": {
          "base_uri": "https://localhost:8080/",
          "height": 204
        },
        "outputId": "1eac279a-d1c7-4ff2-b61e-7995f936a1f5"
      },
      "source": [
        "column_names = ['MPG','Cylinders','Displacement','Horsepower','Weight',\n",
        "                'Acceleration', 'Model Year', 'Origin']\n",
        "\n",
        "uci_cars = pd.read_csv(dataset_path, names=column_names,\n",
        "                       na_values = '?', comment='\\t',\n",
        "                       sep=' ', skipinitialspace=True)\n",
        "\n",
        "uci_cars.head()"
      ],
      "execution_count": 134,
      "outputs": [
        {
          "output_type": "execute_result",
          "data": {
            "text/html": [
              "<div>\n",
              "<style scoped>\n",
              "    .dataframe tbody tr th:only-of-type {\n",
              "        vertical-align: middle;\n",
              "    }\n",
              "\n",
              "    .dataframe tbody tr th {\n",
              "        vertical-align: top;\n",
              "    }\n",
              "\n",
              "    .dataframe thead th {\n",
              "        text-align: right;\n",
              "    }\n",
              "</style>\n",
              "<table border=\"1\" class=\"dataframe\">\n",
              "  <thead>\n",
              "    <tr style=\"text-align: right;\">\n",
              "      <th></th>\n",
              "      <th>MPG</th>\n",
              "      <th>Cylinders</th>\n",
              "      <th>Displacement</th>\n",
              "      <th>Horsepower</th>\n",
              "      <th>Weight</th>\n",
              "      <th>Acceleration</th>\n",
              "      <th>Model Year</th>\n",
              "      <th>Origin</th>\n",
              "    </tr>\n",
              "  </thead>\n",
              "  <tbody>\n",
              "    <tr>\n",
              "      <th>0</th>\n",
              "      <td>18.0</td>\n",
              "      <td>8</td>\n",
              "      <td>307.0</td>\n",
              "      <td>130.0</td>\n",
              "      <td>3504.0</td>\n",
              "      <td>12.0</td>\n",
              "      <td>70</td>\n",
              "      <td>1</td>\n",
              "    </tr>\n",
              "    <tr>\n",
              "      <th>1</th>\n",
              "      <td>15.0</td>\n",
              "      <td>8</td>\n",
              "      <td>350.0</td>\n",
              "      <td>165.0</td>\n",
              "      <td>3693.0</td>\n",
              "      <td>11.5</td>\n",
              "      <td>70</td>\n",
              "      <td>1</td>\n",
              "    </tr>\n",
              "    <tr>\n",
              "      <th>2</th>\n",
              "      <td>18.0</td>\n",
              "      <td>8</td>\n",
              "      <td>318.0</td>\n",
              "      <td>150.0</td>\n",
              "      <td>3436.0</td>\n",
              "      <td>11.0</td>\n",
              "      <td>70</td>\n",
              "      <td>1</td>\n",
              "    </tr>\n",
              "    <tr>\n",
              "      <th>3</th>\n",
              "      <td>16.0</td>\n",
              "      <td>8</td>\n",
              "      <td>304.0</td>\n",
              "      <td>150.0</td>\n",
              "      <td>3433.0</td>\n",
              "      <td>12.0</td>\n",
              "      <td>70</td>\n",
              "      <td>1</td>\n",
              "    </tr>\n",
              "    <tr>\n",
              "      <th>4</th>\n",
              "      <td>17.0</td>\n",
              "      <td>8</td>\n",
              "      <td>302.0</td>\n",
              "      <td>140.0</td>\n",
              "      <td>3449.0</td>\n",
              "      <td>10.5</td>\n",
              "      <td>70</td>\n",
              "      <td>1</td>\n",
              "    </tr>\n",
              "  </tbody>\n",
              "</table>\n",
              "</div>"
            ],
            "text/plain": [
              "    MPG  Cylinders  Displacement  ...  Acceleration  Model Year  Origin\n",
              "0  18.0          8         307.0  ...          12.0          70       1\n",
              "1  15.0          8         350.0  ...          11.5          70       1\n",
              "2  18.0          8         318.0  ...          11.0          70       1\n",
              "3  16.0          8         304.0  ...          12.0          70       1\n",
              "4  17.0          8         302.0  ...          10.5          70       1\n",
              "\n",
              "[5 rows x 8 columns]"
            ]
          },
          "metadata": {
            "tags": []
          },
          "execution_count": 134
        }
      ]
    }
  ]
}