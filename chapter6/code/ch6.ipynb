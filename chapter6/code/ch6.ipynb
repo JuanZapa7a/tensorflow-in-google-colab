{
  "nbformat": 4,
  "nbformat_minor": 0,
  "metadata": {
    "colab": {
      "name": "ch6.ipynb",
      "provenance": [],
      "collapsed_sections": []
    },
    "kernelspec": {
      "name": "python3",
      "display_name": "Python 3"
    },
    "accelerator": "GPU"
  },
  "cells": [
    {
      "cell_type": "markdown",
      "metadata": {
        "id": "VvC5FVAg2-GM",
        "colab_type": "text"
      },
      "source": [
        "# Regression\n",
        "\n",
        "While classification is the problem of predicting the class of given data points, **regression** is the problem of learning the strength of association between features of a dataset and continuous outcomes. A **continuous** outcome is a real value such as an integer or floating point value often quantified as amounts and sizes. Simply, regression attempts to learn how strong the relationship is between features and outcomes. Formally, regression approximates a mapping function **f** from input variables **X** to a continuos variable **y**. \n",
        "\n",
        "In statistics, regression is typically defined as a measurement that attempts to determine the strength of the relationship between one dependent variable and a series of other changing variables known as independent variables. For those of you familiar with regression, you can think of independent variables as features and dependent variables as outcomes or outcome variables in the machine learning idiom.\n",
        "\n",
        "Since regression is used for predicting continous values, it can be referred to as **regression predictive modeling**. An algorithm capable of learning a regression predictive model is called a regression algorithm. Since regression predicts a quantity, *the performance must be measured as error* in those predictions.\n",
        "\n",
        "Performance of machine learning regression can be gauged in many ways. But, the most common are mean square error (MSE), mean absolute error (MAE), and root mean squared error (RMSE).\n",
        "\n",
        "**MSE** It is one of the most commonly used metrics, but least useful when a single bad prediction would ruin the entire model's predicting abilities. That is, when the dataset contains a lot of noise. It is most useful when the dataset contains outliers or unexpected values. Unexpected values are those that are too high or too low.\n",
        "\n",
        "**MAE** is not very sensitive to outliers in comparison to MSE since it doesn't punish huge errors. It is typically used when performance is measured on continuous variable data. It provides a linear value that averages the weighted individual differences equally.\n",
        "\n",
        "**RMSE** errors are squared before they are averaged. As such, RMSE assigns a higher weight to larger errors. So, RMSE is much more useful when large errors are present and they drastically affect the model's performance. A benefit of RMSE is that units of error score are the same as the predicted value."
      ]
    },
    {
      "cell_type": "markdown",
      "metadata": {
        "id": "cRzwZmb36zzj",
        "colab_type": "text"
      },
      "source": [
        "We need to set up the GPU for each notebook. So, click the **Runtime** tab, click **Change runtime type** from the drop-down menu, choose **GPU** from the Hardware Accelerator drop-down menu, and click **Save**."
      ]
    },
    {
      "cell_type": "code",
      "metadata": {
        "id": "JW7eUCwg0hef",
        "colab_type": "code",
        "colab": {
          "base_uri": "https://localhost:8080/",
          "height": 34
        },
        "outputId": "e120c2a8-488f-4fcf-b3fb-cb638591277d"
      },
      "source": [
        "import tensorflow as tf\n",
        "\n",
        "# display tf version and test if GPU is active\n",
        "\n",
        "tf.__version__, tf.test.gpu_device_name()"
      ],
      "execution_count": 1,
      "outputs": [
        {
          "output_type": "execute_result",
          "data": {
            "text/plain": [
              "('2.2.0', '/device:GPU:0')"
            ]
          },
          "metadata": {
            "tags": []
          },
          "execution_count": 1
        }
      ]
    },
    {
      "cell_type": "markdown",
      "metadata": {
        "id": "LedfTVyqJkJ1",
        "colab_type": "text"
      },
      "source": [
        "# Boston Housing Dataset \n",
        "\n",
        "The first regression dataset we explore is Boston Housing. **Boston Housing** is a dataset derived from information collected by the U.S. Census Service concerning housing in the area of Boston, Massachusetts. It was obtained from the StatLib archive (http://lib.stat.cmu.edu/datasets/boston), and has been used extensively throughout the machine learning literature to benchmark algorithms. The dataset is small in size with only 506 cases.\n",
        "\n",
        "The name for this dataset is simply **boston**. It contains 12 features and 1 outcome (or target). The features are as follows:\n",
        "\n",
        "1. CRIM - per capita crime rate by town\n",
        "2. ZN - proportion of residential land zoned for lots over 25,000 sq.ft.\n",
        "3. INDUS - proportion of non-retail business acres per town.\n",
        "4. CHAS - Charles River dummy variable (1 if tract bounds river; 0 otherwise)\n",
        "5. NOX - nitric oxides concentration (parts per 10 million)\n",
        "6. RM - average number of rooms per dwelling\n",
        "7. AGE - proportion of owner-occupied units built prior to 1940\n",
        "8. DIS - weighted distances to five Boston employment centres\n",
        "9. RAD - index of accessibility to radial highways\n",
        "10. TAX - full-value property-tax rate per $10,000\n",
        "11. PTRATIO - pupil-teacher ratio by town\n",
        "12. LSTAT - % lower status of the population\n",
        "\n",
        "The target is:\n",
        "\n",
        "* MEDV - median value of owner-occupied homes in $1000's\n",
        "\n",
        "Data was collected in the '70s, so don't be shocked by the low median value of homes."
      ]
    },
    {
      "cell_type": "markdown",
      "metadata": {
        "id": "bDv_GGAXqARW",
        "colab_type": "text"
      },
      "source": [
        "## Boston Data\n",
        "\n",
        "You can access any dataset for this book directly from GitHub with a few simple steps:\n",
        "\n",
        "1. visit the book URL: https://github.com/paperd/tensorflow\n",
        "2. locate the dataset and click on it\n",
        "3. click the **Raw** button\n",
        "4. copy the URL to Colab and assign it to a variable\n",
        "5. read the dataset with Pandas **read_csv** method\n",
        "\n",
        "For convenience, we've already located the appropriate URL and assigned to a variable as so:"
      ]
    },
    {
      "cell_type": "code",
      "metadata": {
        "id": "ktRCoDA2sAC6",
        "colab_type": "code",
        "colab": {}
      },
      "source": [
        "url = 'https://raw.githubusercontent.com/paperd/tensorflow/\\\n",
        "master/chapter6/data/boston.csv'"
      ],
      "execution_count": 2,
      "outputs": []
    },
    {
      "cell_type": "markdown",
      "metadata": {
        "id": "slf-ukRAzFvL",
        "colab_type": "text"
      },
      "source": [
        "Read the dataset into a Pandas DataFrame:"
      ]
    },
    {
      "cell_type": "code",
      "metadata": {
        "id": "9UyY0SgjsRpE",
        "colab_type": "code",
        "colab": {}
      },
      "source": [
        "import pandas as pd\n",
        "\n",
        "data = pd.read_csv(url)"
      ],
      "execution_count": 3,
      "outputs": []
    },
    {
      "cell_type": "markdown",
      "metadata": {
        "id": "E_ofnmbczlHL",
        "colab_type": "text"
      },
      "source": [
        "Verify that data was read properly:"
      ]
    },
    {
      "cell_type": "code",
      "metadata": {
        "id": "Vqe-Yv8du5JX",
        "colab_type": "code",
        "colab": {
          "base_uri": "https://localhost:8080/",
          "height": 204
        },
        "outputId": "108176ea-53a1-49f4-e8ba-d315d78ea0cc"
      },
      "source": [
        "data.head()"
      ],
      "execution_count": 4,
      "outputs": [
        {
          "output_type": "execute_result",
          "data": {
            "text/html": [
              "<div>\n",
              "<style scoped>\n",
              "    .dataframe tbody tr th:only-of-type {\n",
              "        vertical-align: middle;\n",
              "    }\n",
              "\n",
              "    .dataframe tbody tr th {\n",
              "        vertical-align: top;\n",
              "    }\n",
              "\n",
              "    .dataframe thead th {\n",
              "        text-align: right;\n",
              "    }\n",
              "</style>\n",
              "<table border=\"1\" class=\"dataframe\">\n",
              "  <thead>\n",
              "    <tr style=\"text-align: right;\">\n",
              "      <th></th>\n",
              "      <th>CRIM</th>\n",
              "      <th>ZN</th>\n",
              "      <th>INDUS</th>\n",
              "      <th>CHAS</th>\n",
              "      <th>NOX</th>\n",
              "      <th>RM</th>\n",
              "      <th>AGE</th>\n",
              "      <th>DIS</th>\n",
              "      <th>RAD</th>\n",
              "      <th>TAX</th>\n",
              "      <th>PTRATIO</th>\n",
              "      <th>LSTAT</th>\n",
              "      <th>MEDV</th>\n",
              "    </tr>\n",
              "  </thead>\n",
              "  <tbody>\n",
              "    <tr>\n",
              "      <th>0</th>\n",
              "      <td>0.00632</td>\n",
              "      <td>18.0</td>\n",
              "      <td>2.31</td>\n",
              "      <td>0</td>\n",
              "      <td>0.538</td>\n",
              "      <td>6.575</td>\n",
              "      <td>65.2</td>\n",
              "      <td>4.0900</td>\n",
              "      <td>1</td>\n",
              "      <td>296</td>\n",
              "      <td>15.3</td>\n",
              "      <td>4.98</td>\n",
              "      <td>24.0</td>\n",
              "    </tr>\n",
              "    <tr>\n",
              "      <th>1</th>\n",
              "      <td>0.02731</td>\n",
              "      <td>0.0</td>\n",
              "      <td>7.07</td>\n",
              "      <td>0</td>\n",
              "      <td>0.469</td>\n",
              "      <td>6.421</td>\n",
              "      <td>78.9</td>\n",
              "      <td>4.9671</td>\n",
              "      <td>2</td>\n",
              "      <td>242</td>\n",
              "      <td>17.8</td>\n",
              "      <td>9.14</td>\n",
              "      <td>21.6</td>\n",
              "    </tr>\n",
              "    <tr>\n",
              "      <th>2</th>\n",
              "      <td>0.02729</td>\n",
              "      <td>0.0</td>\n",
              "      <td>7.07</td>\n",
              "      <td>0</td>\n",
              "      <td>0.469</td>\n",
              "      <td>7.185</td>\n",
              "      <td>61.1</td>\n",
              "      <td>4.9671</td>\n",
              "      <td>2</td>\n",
              "      <td>242</td>\n",
              "      <td>17.8</td>\n",
              "      <td>4.03</td>\n",
              "      <td>34.7</td>\n",
              "    </tr>\n",
              "    <tr>\n",
              "      <th>3</th>\n",
              "      <td>0.03237</td>\n",
              "      <td>0.0</td>\n",
              "      <td>2.18</td>\n",
              "      <td>0</td>\n",
              "      <td>0.458</td>\n",
              "      <td>6.998</td>\n",
              "      <td>45.8</td>\n",
              "      <td>6.0622</td>\n",
              "      <td>3</td>\n",
              "      <td>222</td>\n",
              "      <td>18.7</td>\n",
              "      <td>2.94</td>\n",
              "      <td>33.4</td>\n",
              "    </tr>\n",
              "    <tr>\n",
              "      <th>4</th>\n",
              "      <td>0.06905</td>\n",
              "      <td>0.0</td>\n",
              "      <td>2.18</td>\n",
              "      <td>0</td>\n",
              "      <td>0.458</td>\n",
              "      <td>7.147</td>\n",
              "      <td>54.2</td>\n",
              "      <td>6.0622</td>\n",
              "      <td>3</td>\n",
              "      <td>222</td>\n",
              "      <td>18.7</td>\n",
              "      <td>5.33</td>\n",
              "      <td>36.2</td>\n",
              "    </tr>\n",
              "  </tbody>\n",
              "</table>\n",
              "</div>"
            ],
            "text/plain": [
              "      CRIM   ZN   INDUS   CHAS    NOX  ...  RAD  TAX  PTRATIO  LSTAT  MEDV\n",
              "0  0.00632  18.0    2.31     0  0.538  ...    1  296     15.3   4.98  24.0\n",
              "1  0.02731   0.0    7.07     0  0.469  ...    2  242     17.8   9.14  21.6\n",
              "2  0.02729   0.0    7.07     0  0.469  ...    2  242     17.8   4.03  34.7\n",
              "3  0.03237   0.0    2.18     0  0.458  ...    3  222     18.7   2.94  33.4\n",
              "4  0.06905   0.0    2.18     0  0.458  ...    3  222     18.7   5.33  36.2\n",
              "\n",
              "[5 rows x 13 columns]"
            ]
          },
          "metadata": {
            "tags": []
          },
          "execution_count": 4
        }
      ]
    },
    {
      "cell_type": "markdown",
      "metadata": {
        "id": "xXa89NmTw68J",
        "colab_type": "text"
      },
      "source": [
        "## Explore the Dataset"
      ]
    },
    {
      "cell_type": "markdown",
      "metadata": {
        "id": "vrqd6hb9z-me",
        "colab_type": "text"
      },
      "source": [
        "Get datatypes:"
      ]
    },
    {
      "cell_type": "code",
      "metadata": {
        "id": "eVcFWvh8wntF",
        "colab_type": "code",
        "colab": {
          "base_uri": "https://localhost:8080/",
          "height": 255
        },
        "outputId": "b76f5348-5ba3-4559-c816-2b7fd6042bc0"
      },
      "source": [
        "data.dtypes"
      ],
      "execution_count": 5,
      "outputs": [
        {
          "output_type": "execute_result",
          "data": {
            "text/plain": [
              "CRIM       float64\n",
              " ZN        float64\n",
              "INDUS      float64\n",
              "CHAS         int64\n",
              "NOX        float64\n",
              "RM         float64\n",
              "AGE        float64\n",
              "DIS        float64\n",
              "RAD          int64\n",
              "TAX          int64\n",
              "PTRATIO    float64\n",
              "LSTAT      float64\n",
              "MEDV       float64\n",
              "dtype: object"
            ]
          },
          "metadata": {
            "tags": []
          },
          "execution_count": 5
        }
      ]
    },
    {
      "cell_type": "markdown",
      "metadata": {
        "id": "WOQC0OnAw-C9",
        "colab_type": "text"
      },
      "source": [
        "Get general information:"
      ]
    },
    {
      "cell_type": "code",
      "metadata": {
        "id": "n4ucq5OMw_n2",
        "colab_type": "code",
        "colab": {
          "base_uri": "https://localhost:8080/",
          "height": 357
        },
        "outputId": "9833c64c-9c66-4a80-97d2-106700ceb030"
      },
      "source": [
        "data.info()"
      ],
      "execution_count": 6,
      "outputs": [
        {
          "output_type": "stream",
          "text": [
            "<class 'pandas.core.frame.DataFrame'>\n",
            "RangeIndex: 506 entries, 0 to 505\n",
            "Data columns (total 13 columns):\n",
            " #   Column   Non-Null Count  Dtype  \n",
            "---  ------   --------------  -----  \n",
            " 0   CRIM     506 non-null    float64\n",
            " 1    ZN      506 non-null    float64\n",
            " 2   INDUS    506 non-null    float64\n",
            " 3   CHAS     506 non-null    int64  \n",
            " 4   NOX      506 non-null    float64\n",
            " 5   RM       506 non-null    float64\n",
            " 6   AGE      506 non-null    float64\n",
            " 7   DIS      506 non-null    float64\n",
            " 8   RAD      506 non-null    int64  \n",
            " 9   TAX      506 non-null    int64  \n",
            " 10  PTRATIO  506 non-null    float64\n",
            " 11  LSTAT    506 non-null    float64\n",
            " 12  MEDV     506 non-null    float64\n",
            "dtypes: float64(10), int64(3)\n",
            "memory usage: 51.5 KB\n"
          ],
          "name": "stdout"
        }
      ]
    },
    {
      "cell_type": "markdown",
      "metadata": {
        "id": "w5322Or9xCq-",
        "colab_type": "text"
      },
      "source": [
        "Create a DataFrame that holds basic statistics with the describe method and transpose it for easier viewing:"
      ]
    },
    {
      "cell_type": "code",
      "metadata": {
        "id": "b0oPawBywvfh",
        "colab_type": "code",
        "colab": {
          "base_uri": "https://localhost:8080/",
          "height": 452
        },
        "outputId": "5cb70ad3-36dc-4120-dc13-14fb44825328"
      },
      "source": [
        "data_t = data.describe()\n",
        "desc = data_t.T\n",
        "desc"
      ],
      "execution_count": 7,
      "outputs": [
        {
          "output_type": "execute_result",
          "data": {
            "text/html": [
              "<div>\n",
              "<style scoped>\n",
              "    .dataframe tbody tr th:only-of-type {\n",
              "        vertical-align: middle;\n",
              "    }\n",
              "\n",
              "    .dataframe tbody tr th {\n",
              "        vertical-align: top;\n",
              "    }\n",
              "\n",
              "    .dataframe thead th {\n",
              "        text-align: right;\n",
              "    }\n",
              "</style>\n",
              "<table border=\"1\" class=\"dataframe\">\n",
              "  <thead>\n",
              "    <tr style=\"text-align: right;\">\n",
              "      <th></th>\n",
              "      <th>count</th>\n",
              "      <th>mean</th>\n",
              "      <th>std</th>\n",
              "      <th>min</th>\n",
              "      <th>25%</th>\n",
              "      <th>50%</th>\n",
              "      <th>75%</th>\n",
              "      <th>max</th>\n",
              "    </tr>\n",
              "  </thead>\n",
              "  <tbody>\n",
              "    <tr>\n",
              "      <th>CRIM</th>\n",
              "      <td>506.0</td>\n",
              "      <td>3.613524</td>\n",
              "      <td>8.601545</td>\n",
              "      <td>0.00632</td>\n",
              "      <td>0.082045</td>\n",
              "      <td>0.25651</td>\n",
              "      <td>3.677082</td>\n",
              "      <td>88.9762</td>\n",
              "    </tr>\n",
              "    <tr>\n",
              "      <th>ZN</th>\n",
              "      <td>506.0</td>\n",
              "      <td>11.363636</td>\n",
              "      <td>23.322453</td>\n",
              "      <td>0.00000</td>\n",
              "      <td>0.000000</td>\n",
              "      <td>0.00000</td>\n",
              "      <td>12.500000</td>\n",
              "      <td>100.0000</td>\n",
              "    </tr>\n",
              "    <tr>\n",
              "      <th>INDUS</th>\n",
              "      <td>506.0</td>\n",
              "      <td>11.136779</td>\n",
              "      <td>6.860353</td>\n",
              "      <td>0.46000</td>\n",
              "      <td>5.190000</td>\n",
              "      <td>9.69000</td>\n",
              "      <td>18.100000</td>\n",
              "      <td>27.7400</td>\n",
              "    </tr>\n",
              "    <tr>\n",
              "      <th>CHAS</th>\n",
              "      <td>506.0</td>\n",
              "      <td>0.069170</td>\n",
              "      <td>0.253994</td>\n",
              "      <td>0.00000</td>\n",
              "      <td>0.000000</td>\n",
              "      <td>0.00000</td>\n",
              "      <td>0.000000</td>\n",
              "      <td>1.0000</td>\n",
              "    </tr>\n",
              "    <tr>\n",
              "      <th>NOX</th>\n",
              "      <td>506.0</td>\n",
              "      <td>0.554695</td>\n",
              "      <td>0.115878</td>\n",
              "      <td>0.38500</td>\n",
              "      <td>0.449000</td>\n",
              "      <td>0.53800</td>\n",
              "      <td>0.624000</td>\n",
              "      <td>0.8710</td>\n",
              "    </tr>\n",
              "    <tr>\n",
              "      <th>RM</th>\n",
              "      <td>506.0</td>\n",
              "      <td>6.284634</td>\n",
              "      <td>0.702617</td>\n",
              "      <td>3.56100</td>\n",
              "      <td>5.885500</td>\n",
              "      <td>6.20850</td>\n",
              "      <td>6.623500</td>\n",
              "      <td>8.7800</td>\n",
              "    </tr>\n",
              "    <tr>\n",
              "      <th>AGE</th>\n",
              "      <td>506.0</td>\n",
              "      <td>68.574901</td>\n",
              "      <td>28.148861</td>\n",
              "      <td>2.90000</td>\n",
              "      <td>45.025000</td>\n",
              "      <td>77.50000</td>\n",
              "      <td>94.075000</td>\n",
              "      <td>100.0000</td>\n",
              "    </tr>\n",
              "    <tr>\n",
              "      <th>DIS</th>\n",
              "      <td>506.0</td>\n",
              "      <td>3.795043</td>\n",
              "      <td>2.105710</td>\n",
              "      <td>1.12960</td>\n",
              "      <td>2.100175</td>\n",
              "      <td>3.20745</td>\n",
              "      <td>5.188425</td>\n",
              "      <td>12.1265</td>\n",
              "    </tr>\n",
              "    <tr>\n",
              "      <th>RAD</th>\n",
              "      <td>506.0</td>\n",
              "      <td>9.549407</td>\n",
              "      <td>8.707259</td>\n",
              "      <td>1.00000</td>\n",
              "      <td>4.000000</td>\n",
              "      <td>5.00000</td>\n",
              "      <td>24.000000</td>\n",
              "      <td>24.0000</td>\n",
              "    </tr>\n",
              "    <tr>\n",
              "      <th>TAX</th>\n",
              "      <td>506.0</td>\n",
              "      <td>408.237154</td>\n",
              "      <td>168.537116</td>\n",
              "      <td>187.00000</td>\n",
              "      <td>279.000000</td>\n",
              "      <td>330.00000</td>\n",
              "      <td>666.000000</td>\n",
              "      <td>711.0000</td>\n",
              "    </tr>\n",
              "    <tr>\n",
              "      <th>PTRATIO</th>\n",
              "      <td>506.0</td>\n",
              "      <td>18.455534</td>\n",
              "      <td>2.164946</td>\n",
              "      <td>12.60000</td>\n",
              "      <td>17.400000</td>\n",
              "      <td>19.05000</td>\n",
              "      <td>20.200000</td>\n",
              "      <td>22.0000</td>\n",
              "    </tr>\n",
              "    <tr>\n",
              "      <th>LSTAT</th>\n",
              "      <td>506.0</td>\n",
              "      <td>12.653063</td>\n",
              "      <td>7.141062</td>\n",
              "      <td>1.73000</td>\n",
              "      <td>6.950000</td>\n",
              "      <td>11.36000</td>\n",
              "      <td>16.955000</td>\n",
              "      <td>37.9700</td>\n",
              "    </tr>\n",
              "    <tr>\n",
              "      <th>MEDV</th>\n",
              "      <td>506.0</td>\n",
              "      <td>22.532806</td>\n",
              "      <td>9.197104</td>\n",
              "      <td>5.00000</td>\n",
              "      <td>17.025000</td>\n",
              "      <td>21.20000</td>\n",
              "      <td>25.000000</td>\n",
              "      <td>50.0000</td>\n",
              "    </tr>\n",
              "  </tbody>\n",
              "</table>\n",
              "</div>"
            ],
            "text/plain": [
              "         count        mean         std  ...        50%         75%       max\n",
              "CRIM     506.0    3.613524    8.601545  ...    0.25651    3.677082   88.9762\n",
              " ZN      506.0   11.363636   23.322453  ...    0.00000   12.500000  100.0000\n",
              "INDUS    506.0   11.136779    6.860353  ...    9.69000   18.100000   27.7400\n",
              "CHAS     506.0    0.069170    0.253994  ...    0.00000    0.000000    1.0000\n",
              "NOX      506.0    0.554695    0.115878  ...    0.53800    0.624000    0.8710\n",
              "RM       506.0    6.284634    0.702617  ...    6.20850    6.623500    8.7800\n",
              "AGE      506.0   68.574901   28.148861  ...   77.50000   94.075000  100.0000\n",
              "DIS      506.0    3.795043    2.105710  ...    3.20745    5.188425   12.1265\n",
              "RAD      506.0    9.549407    8.707259  ...    5.00000   24.000000   24.0000\n",
              "TAX      506.0  408.237154  168.537116  ...  330.00000  666.000000  711.0000\n",
              "PTRATIO  506.0   18.455534    2.164946  ...   19.05000   20.200000   22.0000\n",
              "LSTAT    506.0   12.653063    7.141062  ...   11.36000   16.955000   37.9700\n",
              "MEDV     506.0   22.532806    9.197104  ...   21.20000   25.000000   50.0000\n",
              "\n",
              "[13 rows x 8 columns]"
            ]
          },
          "metadata": {
            "tags": []
          },
          "execution_count": 7
        }
      ]
    },
    {
      "cell_type": "markdown",
      "metadata": {
        "id": "xuxYRUxrbdgx",
        "colab_type": "text"
      },
      "source": [
        "Target specific statistics from the transposed DataFrame:"
      ]
    },
    {
      "cell_type": "code",
      "metadata": {
        "id": "jhUjNG-ubdpX",
        "colab_type": "code",
        "colab": {
          "base_uri": "https://localhost:8080/",
          "height": 452
        },
        "outputId": "59114d4d-dfbe-4392-d19b-29502a964caf"
      },
      "source": [
        "desc[['mean', 'std']]"
      ],
      "execution_count": 8,
      "outputs": [
        {
          "output_type": "execute_result",
          "data": {
            "text/html": [
              "<div>\n",
              "<style scoped>\n",
              "    .dataframe tbody tr th:only-of-type {\n",
              "        vertical-align: middle;\n",
              "    }\n",
              "\n",
              "    .dataframe tbody tr th {\n",
              "        vertical-align: top;\n",
              "    }\n",
              "\n",
              "    .dataframe thead th {\n",
              "        text-align: right;\n",
              "    }\n",
              "</style>\n",
              "<table border=\"1\" class=\"dataframe\">\n",
              "  <thead>\n",
              "    <tr style=\"text-align: right;\">\n",
              "      <th></th>\n",
              "      <th>mean</th>\n",
              "      <th>std</th>\n",
              "    </tr>\n",
              "  </thead>\n",
              "  <tbody>\n",
              "    <tr>\n",
              "      <th>CRIM</th>\n",
              "      <td>3.613524</td>\n",
              "      <td>8.601545</td>\n",
              "    </tr>\n",
              "    <tr>\n",
              "      <th>ZN</th>\n",
              "      <td>11.363636</td>\n",
              "      <td>23.322453</td>\n",
              "    </tr>\n",
              "    <tr>\n",
              "      <th>INDUS</th>\n",
              "      <td>11.136779</td>\n",
              "      <td>6.860353</td>\n",
              "    </tr>\n",
              "    <tr>\n",
              "      <th>CHAS</th>\n",
              "      <td>0.069170</td>\n",
              "      <td>0.253994</td>\n",
              "    </tr>\n",
              "    <tr>\n",
              "      <th>NOX</th>\n",
              "      <td>0.554695</td>\n",
              "      <td>0.115878</td>\n",
              "    </tr>\n",
              "    <tr>\n",
              "      <th>RM</th>\n",
              "      <td>6.284634</td>\n",
              "      <td>0.702617</td>\n",
              "    </tr>\n",
              "    <tr>\n",
              "      <th>AGE</th>\n",
              "      <td>68.574901</td>\n",
              "      <td>28.148861</td>\n",
              "    </tr>\n",
              "    <tr>\n",
              "      <th>DIS</th>\n",
              "      <td>3.795043</td>\n",
              "      <td>2.105710</td>\n",
              "    </tr>\n",
              "    <tr>\n",
              "      <th>RAD</th>\n",
              "      <td>9.549407</td>\n",
              "      <td>8.707259</td>\n",
              "    </tr>\n",
              "    <tr>\n",
              "      <th>TAX</th>\n",
              "      <td>408.237154</td>\n",
              "      <td>168.537116</td>\n",
              "    </tr>\n",
              "    <tr>\n",
              "      <th>PTRATIO</th>\n",
              "      <td>18.455534</td>\n",
              "      <td>2.164946</td>\n",
              "    </tr>\n",
              "    <tr>\n",
              "      <th>LSTAT</th>\n",
              "      <td>12.653063</td>\n",
              "      <td>7.141062</td>\n",
              "    </tr>\n",
              "    <tr>\n",
              "      <th>MEDV</th>\n",
              "      <td>22.532806</td>\n",
              "      <td>9.197104</td>\n",
              "    </tr>\n",
              "  </tbody>\n",
              "</table>\n",
              "</div>"
            ],
            "text/plain": [
              "               mean         std\n",
              "CRIM       3.613524    8.601545\n",
              " ZN       11.363636   23.322453\n",
              "INDUS     11.136779    6.860353\n",
              "CHAS       0.069170    0.253994\n",
              "NOX        0.554695    0.115878\n",
              "RM         6.284634    0.702617\n",
              "AGE       68.574901   28.148861\n",
              "DIS        3.795043    2.105710\n",
              "RAD        9.549407    8.707259\n",
              "TAX      408.237154  168.537116\n",
              "PTRATIO   18.455534    2.164946\n",
              "LSTAT     12.653063    7.141062\n",
              "MEDV      22.532806    9.197104"
            ]
          },
          "metadata": {
            "tags": []
          },
          "execution_count": 8
        }
      ]
    },
    {
      "cell_type": "markdown",
      "metadata": {
        "id": "csqLKtgOxW95",
        "colab_type": "text"
      },
      "source": [
        "Describe a specific feature:"
      ]
    },
    {
      "cell_type": "code",
      "metadata": {
        "id": "NFFLaTHbxGhu",
        "colab_type": "code",
        "colab": {
          "base_uri": "https://localhost:8080/",
          "height": 170
        },
        "outputId": "dd819e71-eeb3-44f8-ffc1-0dae670bfe57"
      },
      "source": [
        "data.describe().LSTAT"
      ],
      "execution_count": 9,
      "outputs": [
        {
          "output_type": "execute_result",
          "data": {
            "text/plain": [
              "count    506.000000\n",
              "mean      12.653063\n",
              "std        7.141062\n",
              "min        1.730000\n",
              "25%        6.950000\n",
              "50%       11.360000\n",
              "75%       16.955000\n",
              "max       37.970000\n",
              "Name: LSTAT, dtype: float64"
            ]
          },
          "metadata": {
            "tags": []
          },
          "execution_count": 9
        }
      ]
    },
    {
      "cell_type": "markdown",
      "metadata": {
        "id": "f4S10R1VxsR9",
        "colab_type": "text"
      },
      "source": [
        "Or:"
      ]
    },
    {
      "cell_type": "code",
      "metadata": {
        "id": "oSrZQR8CxoC9",
        "colab_type": "code",
        "colab": {
          "base_uri": "https://localhost:8080/",
          "height": 170
        },
        "outputId": "821582b5-157d-4f4a-9a2e-ca7975415266"
      },
      "source": [
        "data['LSTAT'].describe()"
      ],
      "execution_count": 10,
      "outputs": [
        {
          "output_type": "execute_result",
          "data": {
            "text/plain": [
              "count    506.000000\n",
              "mean      12.653063\n",
              "std        7.141062\n",
              "min        1.730000\n",
              "25%        6.950000\n",
              "50%       11.360000\n",
              "75%       16.955000\n",
              "max       37.970000\n",
              "Name: LSTAT, dtype: float64"
            ]
          },
          "metadata": {
            "tags": []
          },
          "execution_count": 10
        }
      ]
    },
    {
      "cell_type": "markdown",
      "metadata": {
        "id": "9kX3uwtnvsyT",
        "colab_type": "text"
      },
      "source": [
        "Get columns:"
      ]
    },
    {
      "cell_type": "code",
      "metadata": {
        "id": "Ma0GQx_9wc2N",
        "colab_type": "code",
        "colab": {
          "base_uri": "https://localhost:8080/",
          "height": 238
        },
        "outputId": "c045a847-1c80-4315-a422-a53836e7ab7f"
      },
      "source": [
        "cols = list(data)\n",
        "cols"
      ],
      "execution_count": 11,
      "outputs": [
        {
          "output_type": "execute_result",
          "data": {
            "text/plain": [
              "['CRIM',\n",
              " ' ZN ',\n",
              " 'INDUS ',\n",
              " 'CHAS',\n",
              " 'NOX',\n",
              " 'RM',\n",
              " 'AGE',\n",
              " 'DIS',\n",
              " 'RAD',\n",
              " 'TAX',\n",
              " 'PTRATIO',\n",
              " 'LSTAT',\n",
              " 'MEDV']"
            ]
          },
          "metadata": {
            "tags": []
          },
          "execution_count": 11
        }
      ]
    },
    {
      "cell_type": "markdown",
      "metadata": {
        "id": "dI7Nn6Nn2yFe",
        "colab_type": "text"
      },
      "source": [
        "## Create Feature and Target Sets\n",
        "\n",
        "We need to create the feature set and target from the data, so let's do that now:"
      ]
    },
    {
      "cell_type": "code",
      "metadata": {
        "id": "NEjZO7VD0W-T",
        "colab_type": "code",
        "colab": {
          "base_uri": "https://localhost:8080/",
          "height": 119
        },
        "outputId": "201dbd0f-e445-43cd-e580-f9ccbc9494da"
      },
      "source": [
        "# create a copy of the DataFrame\n",
        "\n",
        "df = data.copy()\n",
        "\n",
        "# create the target\n",
        "\n",
        "target = df.pop('MEDV')\n",
        "print (target.head())"
      ],
      "execution_count": 12,
      "outputs": [
        {
          "output_type": "stream",
          "text": [
            "0    24.0\n",
            "1    21.6\n",
            "2    34.7\n",
            "3    33.4\n",
            "4    36.2\n",
            "Name: MEDV, dtype: float64\n"
          ],
          "name": "stdout"
        }
      ]
    },
    {
      "cell_type": "markdown",
      "metadata": {
        "id": "eqPdXTW63W2R",
        "colab_type": "text"
      },
      "source": [
        "Verify that feature set is as expected:"
      ]
    },
    {
      "cell_type": "code",
      "metadata": {
        "id": "Qa5MK7Hm3clR",
        "colab_type": "code",
        "colab": {
          "base_uri": "https://localhost:8080/",
          "height": 204
        },
        "outputId": "9271b848-6c6c-434f-eb1d-4fe947396cfa"
      },
      "source": [
        "df.head()"
      ],
      "execution_count": 13,
      "outputs": [
        {
          "output_type": "execute_result",
          "data": {
            "text/html": [
              "<div>\n",
              "<style scoped>\n",
              "    .dataframe tbody tr th:only-of-type {\n",
              "        vertical-align: middle;\n",
              "    }\n",
              "\n",
              "    .dataframe tbody tr th {\n",
              "        vertical-align: top;\n",
              "    }\n",
              "\n",
              "    .dataframe thead th {\n",
              "        text-align: right;\n",
              "    }\n",
              "</style>\n",
              "<table border=\"1\" class=\"dataframe\">\n",
              "  <thead>\n",
              "    <tr style=\"text-align: right;\">\n",
              "      <th></th>\n",
              "      <th>CRIM</th>\n",
              "      <th>ZN</th>\n",
              "      <th>INDUS</th>\n",
              "      <th>CHAS</th>\n",
              "      <th>NOX</th>\n",
              "      <th>RM</th>\n",
              "      <th>AGE</th>\n",
              "      <th>DIS</th>\n",
              "      <th>RAD</th>\n",
              "      <th>TAX</th>\n",
              "      <th>PTRATIO</th>\n",
              "      <th>LSTAT</th>\n",
              "    </tr>\n",
              "  </thead>\n",
              "  <tbody>\n",
              "    <tr>\n",
              "      <th>0</th>\n",
              "      <td>0.00632</td>\n",
              "      <td>18.0</td>\n",
              "      <td>2.31</td>\n",
              "      <td>0</td>\n",
              "      <td>0.538</td>\n",
              "      <td>6.575</td>\n",
              "      <td>65.2</td>\n",
              "      <td>4.0900</td>\n",
              "      <td>1</td>\n",
              "      <td>296</td>\n",
              "      <td>15.3</td>\n",
              "      <td>4.98</td>\n",
              "    </tr>\n",
              "    <tr>\n",
              "      <th>1</th>\n",
              "      <td>0.02731</td>\n",
              "      <td>0.0</td>\n",
              "      <td>7.07</td>\n",
              "      <td>0</td>\n",
              "      <td>0.469</td>\n",
              "      <td>6.421</td>\n",
              "      <td>78.9</td>\n",
              "      <td>4.9671</td>\n",
              "      <td>2</td>\n",
              "      <td>242</td>\n",
              "      <td>17.8</td>\n",
              "      <td>9.14</td>\n",
              "    </tr>\n",
              "    <tr>\n",
              "      <th>2</th>\n",
              "      <td>0.02729</td>\n",
              "      <td>0.0</td>\n",
              "      <td>7.07</td>\n",
              "      <td>0</td>\n",
              "      <td>0.469</td>\n",
              "      <td>7.185</td>\n",
              "      <td>61.1</td>\n",
              "      <td>4.9671</td>\n",
              "      <td>2</td>\n",
              "      <td>242</td>\n",
              "      <td>17.8</td>\n",
              "      <td>4.03</td>\n",
              "    </tr>\n",
              "    <tr>\n",
              "      <th>3</th>\n",
              "      <td>0.03237</td>\n",
              "      <td>0.0</td>\n",
              "      <td>2.18</td>\n",
              "      <td>0</td>\n",
              "      <td>0.458</td>\n",
              "      <td>6.998</td>\n",
              "      <td>45.8</td>\n",
              "      <td>6.0622</td>\n",
              "      <td>3</td>\n",
              "      <td>222</td>\n",
              "      <td>18.7</td>\n",
              "      <td>2.94</td>\n",
              "    </tr>\n",
              "    <tr>\n",
              "      <th>4</th>\n",
              "      <td>0.06905</td>\n",
              "      <td>0.0</td>\n",
              "      <td>2.18</td>\n",
              "      <td>0</td>\n",
              "      <td>0.458</td>\n",
              "      <td>7.147</td>\n",
              "      <td>54.2</td>\n",
              "      <td>6.0622</td>\n",
              "      <td>3</td>\n",
              "      <td>222</td>\n",
              "      <td>18.7</td>\n",
              "      <td>5.33</td>\n",
              "    </tr>\n",
              "  </tbody>\n",
              "</table>\n",
              "</div>"
            ],
            "text/plain": [
              "      CRIM   ZN   INDUS   CHAS    NOX  ...     DIS  RAD  TAX  PTRATIO  LSTAT\n",
              "0  0.00632  18.0    2.31     0  0.538  ...  4.0900    1  296     15.3   4.98\n",
              "1  0.02731   0.0    7.07     0  0.469  ...  4.9671    2  242     17.8   9.14\n",
              "2  0.02729   0.0    7.07     0  0.469  ...  4.9671    2  242     17.8   4.03\n",
              "3  0.03237   0.0    2.18     0  0.458  ...  6.0622    3  222     18.7   2.94\n",
              "4  0.06905   0.0    2.18     0  0.458  ...  6.0622    3  222     18.7   5.33\n",
              "\n",
              "[5 rows x 12 columns]"
            ]
          },
          "metadata": {
            "tags": []
          },
          "execution_count": 13
        }
      ]
    },
    {
      "cell_type": "markdown",
      "metadata": {
        "id": "b0qDofPL3lYJ",
        "colab_type": "text"
      },
      "source": [
        "## Get Feature Names from the Features DataFrame\n",
        "\n",
        "It is easy to get the features since the target is no longer part of the DataFrame:"
      ]
    },
    {
      "cell_type": "code",
      "metadata": {
        "id": "z2ekWP1K3qxL",
        "colab_type": "code",
        "colab": {
          "base_uri": "https://localhost:8080/",
          "height": 221
        },
        "outputId": "70b38c2b-e292-4ee2-b87b-6ec7e641c8df"
      },
      "source": [
        "feature_cols = list(df)\n",
        "feature_cols"
      ],
      "execution_count": 14,
      "outputs": [
        {
          "output_type": "execute_result",
          "data": {
            "text/plain": [
              "['CRIM',\n",
              " ' ZN ',\n",
              " 'INDUS ',\n",
              " 'CHAS',\n",
              " 'NOX',\n",
              " 'RM',\n",
              " 'AGE',\n",
              " 'DIS',\n",
              " 'RAD',\n",
              " 'TAX',\n",
              " 'PTRATIO',\n",
              " 'LSTAT']"
            ]
          },
          "metadata": {
            "tags": []
          },
          "execution_count": 14
        }
      ]
    },
    {
      "cell_type": "markdown",
      "metadata": {
        "id": "C1W_h9RN4fCp",
        "colab_type": "text"
      },
      "source": [
        "Get number of features:"
      ]
    },
    {
      "cell_type": "code",
      "metadata": {
        "id": "5P2L_2w_4gpH",
        "colab_type": "code",
        "colab": {
          "base_uri": "https://localhost:8080/",
          "height": 34
        },
        "outputId": "b3bf0611-e3dd-4181-855e-0ee64e390a97"
      },
      "source": [
        "len(feature_cols)"
      ],
      "execution_count": 15,
      "outputs": [
        {
          "output_type": "execute_result",
          "data": {
            "text/plain": [
              "12"
            ]
          },
          "metadata": {
            "tags": []
          },
          "execution_count": 15
        }
      ]
    },
    {
      "cell_type": "markdown",
      "metadata": {
        "id": "N54kSxyv4oKo",
        "colab_type": "text"
      },
      "source": [
        "Or:"
      ]
    },
    {
      "cell_type": "code",
      "metadata": {
        "id": "IXmW7klY4kgg",
        "colab_type": "code",
        "colab": {
          "base_uri": "https://localhost:8080/",
          "height": 34
        },
        "outputId": "ab646730-0e9f-491e-8e54-f939b32a0915"
      },
      "source": [
        "len(df.columns)"
      ],
      "execution_count": 16,
      "outputs": [
        {
          "output_type": "execute_result",
          "data": {
            "text/plain": [
              "12"
            ]
          },
          "metadata": {
            "tags": []
          },
          "execution_count": 16
        }
      ]
    },
    {
      "cell_type": "markdown",
      "metadata": {
        "id": "jEzC5rjb5HPM",
        "colab_type": "text"
      },
      "source": [
        "## Convert Features and Labels to Numpy\n",
        "\n",
        "Convert Pandas DataFrame values to Numpy with the *values* method:"
      ]
    },
    {
      "cell_type": "code",
      "metadata": {
        "id": "F2LPNUWl5Vs8",
        "colab_type": "code",
        "colab": {
          "base_uri": "https://localhost:8080/",
          "height": 34
        },
        "outputId": "59d92fdf-8a6d-48d5-df29-a24985de27d9"
      },
      "source": [
        "features = df.values\n",
        "labels = target.values\n",
        "\n",
        "type(features), type(labels)"
      ],
      "execution_count": 17,
      "outputs": [
        {
          "output_type": "execute_result",
          "data": {
            "text/plain": [
              "(numpy.ndarray, numpy.ndarray)"
            ]
          },
          "metadata": {
            "tags": []
          },
          "execution_count": 17
        }
      ]
    },
    {
      "cell_type": "markdown",
      "metadata": {
        "id": "N4TQdMlq5ZrT",
        "colab_type": "text"
      },
      "source": [
        "## Split into train and test sets:"
      ]
    },
    {
      "cell_type": "code",
      "metadata": {
        "id": "bMtTFidt5dfk",
        "colab_type": "code",
        "colab": {
          "base_uri": "https://localhost:8080/",
          "height": 68
        },
        "outputId": "126e83b7-74ed-441a-fb43-3cd5491c14b0"
      },
      "source": [
        "from sklearn.model_selection import train_test_split\n",
        "\n",
        "X_train, X_test, y_train, y_test = train_test_split(\n",
        "    features, labels, test_size=0.33, random_state=0)\n",
        "\n",
        "br = '\\n'\n",
        "\n",
        "print ('X_train shape:', end=' ')\n",
        "print (X_train.shape, br)\n",
        "\n",
        "print ('X_test shape:', end=' ')\n",
        "print (X_test.shape)"
      ],
      "execution_count": 19,
      "outputs": [
        {
          "output_type": "stream",
          "text": [
            "X_train shape: (339, 12) \n",
            "\n",
            "X_test shape: (167, 12)\n"
          ],
          "name": "stdout"
        }
      ]
    },
    {
      "cell_type": "markdown",
      "metadata": {
        "id": "49MtJKvH5yC3",
        "colab_type": "text"
      },
      "source": [
        "## Scale Data and Create TensorFlow Tensors\n",
        "\n",
        "With image data, we scale by dividing each element by 255.0 to ensure that each input parameter (a pixel, in our case) has a similar data distribution. However, features represented by continous values are scaled differently. We rescale continuous data to have a mean (μ) of 0 and standard deviation (σ) of 1. A σ of 1 is called unit variance."
      ]
    },
    {
      "cell_type": "code",
      "metadata": {
        "id": "Wstb8WM756LP",
        "colab_type": "code",
        "colab": {}
      },
      "source": [
        "# scale feature data and create TensorFlow tensors\n",
        "\n",
        "from sklearn.preprocessing import StandardScaler\n",
        "\n",
        "scaler = StandardScaler()\n",
        "X_train_std = scaler.fit_transform(X_train)\n",
        "X_test_std = scaler.fit_transform(X_test)\n",
        "\n",
        "train = tf.data.Dataset.from_tensor_slices(\n",
        "    (X_train_std, y_train))\n",
        "test = tf.data.Dataset.from_tensor_slices(\n",
        "    (X_test_std, y_test))"
      ],
      "execution_count": 21,
      "outputs": []
    },
    {
      "cell_type": "markdown",
      "metadata": {
        "id": "nSGJ74he77B0",
        "colab_type": "text"
      },
      "source": [
        "Let's view the first tensor:"
      ]
    },
    {
      "cell_type": "code",
      "metadata": {
        "id": "b2S9LDDc79Kk",
        "colab_type": "code",
        "colab": {
          "base_uri": "https://localhost:8080/",
          "height": 85
        },
        "outputId": "6342a456-6713-48c2-d7f3-d44df67208a4"
      },
      "source": [
        "def see_samples(data, num):\n",
        "  for feat, targ in data.take(num):\n",
        "    print ('Features: {}'.format(feat), br)\n",
        "    print ('Target: {}'.format(targ))\n",
        "\n",
        "n = 1\n",
        "see_samples(train, n)"
      ],
      "execution_count": 22,
      "outputs": [
        {
          "output_type": "stream",
          "text": [
            "Features: [-0.40069293  0.54888872 -0.899201   -0.2697866  -1.13360708  0.43514224\n",
            "  0.05150692  0.8106114  -0.63095801 -0.72342494  0.24982303 -0.73612695] \n",
            "\n",
            "Target: 23.9\n"
          ],
          "name": "stdout"
        }
      ]
    },
    {
      "cell_type": "markdown",
      "metadata": {
        "id": "YIPqAUdr8xPO",
        "colab_type": "text"
      },
      "source": [
        "The first sample looks exactly as we expect."
      ]
    },
    {
      "cell_type": "markdown",
      "metadata": {
        "id": "3hrGInpK5xNO",
        "colab_type": "text"
      },
      "source": [
        "## Prepare Tensors for Training"
      ]
    },
    {
      "cell_type": "code",
      "metadata": {
        "id": "yXJYOwMQ6gJB",
        "colab_type": "code",
        "colab": {}
      },
      "source": [
        "BATCH_SIZE, SHUFFLE_BUFFER_SIZE  = 16, 100\n",
        "\n",
        "train_bs = train.shuffle(\n",
        "    SHUFFLE_BUFFER_SIZE).batch(BATCH_SIZE).prefetch(1)\n",
        "test_bs = test.batch(BATCH_SIZE).prefetch(1)"
      ],
      "execution_count": 24,
      "outputs": []
    },
    {
      "cell_type": "markdown",
      "metadata": {
        "id": "iNcHvDts7ksK",
        "colab_type": "text"
      },
      "source": [
        "## Create a Model\n",
        "\n",
        "If we don't have a lot of training data, one technique to avoid overfitting is to create a small network with few hidden layers. We do just that!\n",
        "\n",
        "The 64 neuron input layer accommodates our 12 input features. We have one hidden layers with 64 neurons. The output layer has 1 neuron because we are using regression."
      ]
    },
    {
      "cell_type": "code",
      "metadata": {
        "id": "lIDe1Mxv7eSk",
        "colab_type": "code",
        "colab": {}
      },
      "source": [
        "from tensorflow.keras.models import Sequential\n",
        "from tensorflow.keras.layers import Dense, Flatten\n",
        "from tensorflow import keras\n",
        "import numpy as np\n",
        "\n",
        "# clear any previous model\n",
        "\n",
        "keras.backend.clear_session()\n",
        "\n",
        "# plant a random seed for replication purposes\n",
        "np.random.seed(0)\n",
        "tf.random.set_seed(0)\n",
        "\n",
        "# notice input shape accommodates 12 features!\n",
        "\n",
        "model = Sequential([\n",
        "  Dense(64, activation='relu', input_shape=[12,]),\n",
        "  Dense(64, activation='relu'),\n",
        "  Dense(1)\n",
        "])"
      ],
      "execution_count": 26,
      "outputs": []
    },
    {
      "cell_type": "markdown",
      "metadata": {
        "id": "UFyAY087wBl0",
        "colab_type": "text"
      },
      "source": [
        "## Inspect the Model"
      ]
    },
    {
      "cell_type": "code",
      "metadata": {
        "id": "mX7BmLnIwBvz",
        "colab_type": "code",
        "colab": {
          "base_uri": "https://localhost:8080/",
          "height": 255
        },
        "outputId": "ee030648-7607-4c6f-90a7-17793f5a77d2"
      },
      "source": [
        "model.summary()"
      ],
      "execution_count": 27,
      "outputs": [
        {
          "output_type": "stream",
          "text": [
            "Model: \"sequential\"\n",
            "_________________________________________________________________\n",
            "Layer (type)                 Output Shape              Param #   \n",
            "=================================================================\n",
            "dense (Dense)                (None, 64)                832       \n",
            "_________________________________________________________________\n",
            "dense_1 (Dense)              (None, 64)                4160      \n",
            "_________________________________________________________________\n",
            "dense_2 (Dense)              (None, 1)                 65        \n",
            "=================================================================\n",
            "Total params: 5,057\n",
            "Trainable params: 5,057\n",
            "Non-trainable params: 0\n",
            "_________________________________________________________________\n"
          ],
          "name": "stdout"
        }
      ]
    },
    {
      "cell_type": "markdown",
      "metadata": {
        "id": "ILxUyoN9bX0K",
        "colab_type": "text"
      },
      "source": [
        "## Compile the Model"
      ]
    },
    {
      "cell_type": "code",
      "metadata": {
        "id": "Qjpdb8QD-E5o",
        "colab_type": "code",
        "colab": {}
      },
      "source": [
        "rmse = tf.keras.metrics.RootMeanSquaredError()\n",
        "\n",
        "model.compile(loss='mse', optimizer='RMSProp',\n",
        "              metrics=[rmse, 'mae', 'mse'])"
      ],
      "execution_count": 28,
      "outputs": []
    },
    {
      "cell_type": "markdown",
      "metadata": {
        "id": "X0kSUzSebW0T",
        "colab_type": "text"
      },
      "source": [
        "Mean Squared Error (MSE) is a common loss function used for regression problems. Mean Absolute Error (MAE) and RMSE are also common metrics. With some experimentation, we found that **RMSProp** performed pretty well with this dataset."
      ]
    },
    {
      "cell_type": "markdown",
      "metadata": {
        "id": "VJpNRr7sbbwS",
        "colab_type": "text"
      },
      "source": [
        "## Train the Model"
      ]
    },
    {
      "cell_type": "code",
      "metadata": {
        "id": "vOHauLH1_264",
        "colab_type": "code",
        "colab": {
          "base_uri": "https://localhost:8080/",
          "height": 1000
        },
        "outputId": "5da820dc-fcb3-4287-9fda-4738ba893c65"
      },
      "source": [
        "history = model.fit(train_bs, epochs=50,\n",
        "                    validation_data=test_bs)"
      ],
      "execution_count": 29,
      "outputs": [
        {
          "output_type": "stream",
          "text": [
            "Epoch 1/50\n",
            "22/22 [==============================] - 0s 12ms/step - loss: 526.8802 - root_mean_squared_error: 22.9539 - mae: 21.0225 - mse: 526.8802 - val_loss: 405.2940 - val_root_mean_squared_error: 20.1319 - val_mae: 18.1243 - val_mse: 405.2940\n",
            "Epoch 2/50\n",
            "22/22 [==============================] - 0s 4ms/step - loss: 364.7345 - root_mean_squared_error: 19.0980 - mae: 17.0372 - mse: 364.7345 - val_loss: 248.7171 - val_root_mean_squared_error: 15.7708 - val_mae: 13.6102 - val_mse: 248.7171\n",
            "Epoch 3/50\n",
            "22/22 [==============================] - 0s 4ms/step - loss: 202.5645 - root_mean_squared_error: 14.2325 - mae: 12.1101 - mse: 202.5645 - val_loss: 120.2835 - val_root_mean_squared_error: 10.9674 - val_mae: 8.8436 - val_mse: 120.2835\n",
            "Epoch 4/50\n",
            "22/22 [==============================] - 0s 4ms/step - loss: 92.9773 - root_mean_squared_error: 9.6425 - mae: 7.6549 - mse: 92.9773 - val_loss: 64.7672 - val_root_mean_squared_error: 8.0478 - val_mae: 6.3111 - val_mse: 64.7672\n",
            "Epoch 5/50\n",
            "22/22 [==============================] - 0s 4ms/step - loss: 49.9990 - root_mean_squared_error: 7.0710 - mae: 5.5701 - mse: 49.9990 - val_loss: 46.9363 - val_root_mean_squared_error: 6.8510 - val_mae: 5.2803 - val_mse: 46.9363\n",
            "Epoch 6/50\n",
            "22/22 [==============================] - 0s 4ms/step - loss: 33.8048 - root_mean_squared_error: 5.8142 - mae: 4.4768 - mse: 33.8048 - val_loss: 37.7408 - val_root_mean_squared_error: 6.1434 - val_mae: 4.7114 - val_mse: 37.7408\n",
            "Epoch 7/50\n",
            "22/22 [==============================] - 0s 4ms/step - loss: 25.6429 - root_mean_squared_error: 5.0639 - mae: 3.8270 - mse: 25.6429 - val_loss: 31.8338 - val_root_mean_squared_error: 5.6421 - val_mae: 4.2216 - val_mse: 31.8338\n",
            "Epoch 8/50\n",
            "22/22 [==============================] - 0s 4ms/step - loss: 21.3310 - root_mean_squared_error: 4.6185 - mae: 3.4133 - mse: 21.3310 - val_loss: 28.3141 - val_root_mean_squared_error: 5.3211 - val_mae: 4.0623 - val_mse: 28.3141\n",
            "Epoch 9/50\n",
            "22/22 [==============================] - 0s 4ms/step - loss: 19.0005 - root_mean_squared_error: 4.3590 - mae: 3.1625 - mse: 19.0005 - val_loss: 25.5905 - val_root_mean_squared_error: 5.0587 - val_mae: 3.7767 - val_mse: 25.5905\n",
            "Epoch 10/50\n",
            "22/22 [==============================] - 0s 4ms/step - loss: 17.4047 - root_mean_squared_error: 4.1719 - mae: 3.0178 - mse: 17.4047 - val_loss: 24.4482 - val_root_mean_squared_error: 4.9445 - val_mae: 3.6230 - val_mse: 24.4482\n",
            "Epoch 11/50\n",
            "22/22 [==============================] - 0s 4ms/step - loss: 15.9187 - root_mean_squared_error: 3.9898 - mae: 2.8520 - mse: 15.9187 - val_loss: 23.1970 - val_root_mean_squared_error: 4.8163 - val_mae: 3.6335 - val_mse: 23.1970\n",
            "Epoch 12/50\n",
            "22/22 [==============================] - 0s 4ms/step - loss: 15.0415 - root_mean_squared_error: 3.8783 - mae: 2.7915 - mse: 15.0415 - val_loss: 22.0241 - val_root_mean_squared_error: 4.6930 - val_mae: 3.4763 - val_mse: 22.0241\n",
            "Epoch 13/50\n",
            "22/22 [==============================] - 0s 4ms/step - loss: 13.9310 - root_mean_squared_error: 3.7324 - mae: 2.6631 - mse: 13.9310 - val_loss: 21.0476 - val_root_mean_squared_error: 4.5878 - val_mae: 3.3424 - val_mse: 21.0476\n",
            "Epoch 14/50\n",
            "22/22 [==============================] - 0s 4ms/step - loss: 13.3615 - root_mean_squared_error: 3.6553 - mae: 2.6021 - mse: 13.3615 - val_loss: 21.5281 - val_root_mean_squared_error: 4.6398 - val_mae: 3.3652 - val_mse: 21.5281\n",
            "Epoch 15/50\n",
            "22/22 [==============================] - 0s 4ms/step - loss: 12.6081 - root_mean_squared_error: 3.5508 - mae: 2.5425 - mse: 12.6081 - val_loss: 21.0601 - val_root_mean_squared_error: 4.5891 - val_mae: 3.3151 - val_mse: 21.0601\n",
            "Epoch 16/50\n",
            "22/22 [==============================] - 0s 4ms/step - loss: 12.3223 - root_mean_squared_error: 3.5103 - mae: 2.5067 - mse: 12.3223 - val_loss: 20.5293 - val_root_mean_squared_error: 4.5309 - val_mae: 3.2227 - val_mse: 20.5293\n",
            "Epoch 17/50\n",
            "22/22 [==============================] - 0s 4ms/step - loss: 11.6585 - root_mean_squared_error: 3.4145 - mae: 2.4208 - mse: 11.6585 - val_loss: 21.8106 - val_root_mean_squared_error: 4.6702 - val_mae: 3.3617 - val_mse: 21.8106\n",
            "Epoch 18/50\n",
            "22/22 [==============================] - 0s 4ms/step - loss: 11.3141 - root_mean_squared_error: 3.3636 - mae: 2.3910 - mse: 11.3141 - val_loss: 20.7368 - val_root_mean_squared_error: 4.5538 - val_mae: 3.3849 - val_mse: 20.7368\n",
            "Epoch 19/50\n",
            "22/22 [==============================] - 0s 4ms/step - loss: 11.0691 - root_mean_squared_error: 3.3270 - mae: 2.3661 - mse: 11.0691 - val_loss: 20.7805 - val_root_mean_squared_error: 4.5586 - val_mae: 3.3236 - val_mse: 20.7805\n",
            "Epoch 20/50\n",
            "22/22 [==============================] - 0s 4ms/step - loss: 10.5907 - root_mean_squared_error: 3.2543 - mae: 2.3210 - mse: 10.5907 - val_loss: 18.4011 - val_root_mean_squared_error: 4.2897 - val_mae: 3.0360 - val_mse: 18.4011\n",
            "Epoch 21/50\n",
            "22/22 [==============================] - 0s 4ms/step - loss: 10.3407 - root_mean_squared_error: 3.2157 - mae: 2.2906 - mse: 10.3407 - val_loss: 20.1793 - val_root_mean_squared_error: 4.4921 - val_mae: 3.3677 - val_mse: 20.1793\n",
            "Epoch 22/50\n",
            "22/22 [==============================] - 0s 4ms/step - loss: 10.2436 - root_mean_squared_error: 3.2006 - mae: 2.2864 - mse: 10.2436 - val_loss: 19.4264 - val_root_mean_squared_error: 4.4075 - val_mae: 3.2472 - val_mse: 19.4264\n",
            "Epoch 23/50\n",
            "22/22 [==============================] - 0s 4ms/step - loss: 10.2418 - root_mean_squared_error: 3.2003 - mae: 2.3160 - mse: 10.2418 - val_loss: 19.7639 - val_root_mean_squared_error: 4.4457 - val_mae: 3.3198 - val_mse: 19.7639\n",
            "Epoch 24/50\n",
            "22/22 [==============================] - 0s 4ms/step - loss: 9.7538 - root_mean_squared_error: 3.1231 - mae: 2.2366 - mse: 9.7538 - val_loss: 18.9011 - val_root_mean_squared_error: 4.3475 - val_mae: 3.2586 - val_mse: 18.9011\n",
            "Epoch 25/50\n",
            "22/22 [==============================] - 0s 4ms/step - loss: 9.8407 - root_mean_squared_error: 3.1370 - mae: 2.2867 - mse: 9.8407 - val_loss: 18.9346 - val_root_mean_squared_error: 4.3514 - val_mae: 3.2560 - val_mse: 18.9346\n",
            "Epoch 26/50\n",
            "22/22 [==============================] - 0s 4ms/step - loss: 9.5178 - root_mean_squared_error: 3.0851 - mae: 2.2321 - mse: 9.5178 - val_loss: 17.3758 - val_root_mean_squared_error: 4.1684 - val_mae: 2.9745 - val_mse: 17.3758\n",
            "Epoch 27/50\n",
            "22/22 [==============================] - 0s 4ms/step - loss: 9.3159 - root_mean_squared_error: 3.0522 - mae: 2.1839 - mse: 9.3159 - val_loss: 19.2378 - val_root_mean_squared_error: 4.3861 - val_mae: 3.3332 - val_mse: 19.2378\n",
            "Epoch 28/50\n",
            "22/22 [==============================] - 0s 4ms/step - loss: 9.5147 - root_mean_squared_error: 3.0846 - mae: 2.2585 - mse: 9.5147 - val_loss: 18.7150 - val_root_mean_squared_error: 4.3261 - val_mae: 3.2773 - val_mse: 18.7150\n",
            "Epoch 29/50\n",
            "22/22 [==============================] - 0s 4ms/step - loss: 8.9449 - root_mean_squared_error: 2.9908 - mae: 2.1853 - mse: 8.9449 - val_loss: 17.3863 - val_root_mean_squared_error: 4.1697 - val_mae: 3.0918 - val_mse: 17.3863\n",
            "Epoch 30/50\n",
            "22/22 [==============================] - 0s 4ms/step - loss: 8.9194 - root_mean_squared_error: 2.9865 - mae: 2.1727 - mse: 8.9194 - val_loss: 17.9803 - val_root_mean_squared_error: 4.2403 - val_mae: 3.1671 - val_mse: 17.9803\n",
            "Epoch 31/50\n",
            "22/22 [==============================] - 0s 4ms/step - loss: 8.7006 - root_mean_squared_error: 2.9497 - mae: 2.1469 - mse: 8.7006 - val_loss: 21.5710 - val_root_mean_squared_error: 4.6445 - val_mae: 3.4931 - val_mse: 21.5710\n",
            "Epoch 32/50\n",
            "22/22 [==============================] - 0s 4ms/step - loss: 8.5926 - root_mean_squared_error: 2.9313 - mae: 2.1690 - mse: 8.5926 - val_loss: 17.5734 - val_root_mean_squared_error: 4.1921 - val_mae: 3.0662 - val_mse: 17.5734\n",
            "Epoch 33/50\n",
            "22/22 [==============================] - 0s 4ms/step - loss: 8.3230 - root_mean_squared_error: 2.8850 - mae: 2.1188 - mse: 8.3230 - val_loss: 17.2409 - val_root_mean_squared_error: 4.1522 - val_mae: 3.0180 - val_mse: 17.2409\n",
            "Epoch 34/50\n",
            "22/22 [==============================] - 0s 4ms/step - loss: 8.4921 - root_mean_squared_error: 2.9141 - mae: 2.1026 - mse: 8.4921 - val_loss: 16.6586 - val_root_mean_squared_error: 4.0815 - val_mae: 2.9796 - val_mse: 16.6586\n",
            "Epoch 35/50\n",
            "22/22 [==============================] - 0s 5ms/step - loss: 8.2464 - root_mean_squared_error: 2.8717 - mae: 2.1035 - mse: 8.2464 - val_loss: 17.0851 - val_root_mean_squared_error: 4.1334 - val_mae: 3.0701 - val_mse: 17.0851\n",
            "Epoch 36/50\n",
            "22/22 [==============================] - 0s 4ms/step - loss: 8.0029 - root_mean_squared_error: 2.8289 - mae: 2.0602 - mse: 8.0029 - val_loss: 17.4627 - val_root_mean_squared_error: 4.1788 - val_mae: 3.1367 - val_mse: 17.4627\n",
            "Epoch 37/50\n",
            "22/22 [==============================] - 0s 4ms/step - loss: 8.3677 - root_mean_squared_error: 2.8927 - mae: 2.0949 - mse: 8.3677 - val_loss: 17.9108 - val_root_mean_squared_error: 4.2321 - val_mae: 3.1418 - val_mse: 17.9108\n",
            "Epoch 38/50\n",
            "22/22 [==============================] - 0s 4ms/step - loss: 7.7419 - root_mean_squared_error: 2.7824 - mae: 1.9948 - mse: 7.7419 - val_loss: 16.8398 - val_root_mean_squared_error: 4.1036 - val_mae: 2.9811 - val_mse: 16.8398\n",
            "Epoch 39/50\n",
            "22/22 [==============================] - 0s 4ms/step - loss: 7.7267 - root_mean_squared_error: 2.7797 - mae: 2.0206 - mse: 7.7267 - val_loss: 15.7150 - val_root_mean_squared_error: 3.9642 - val_mae: 2.8758 - val_mse: 15.7150\n",
            "Epoch 40/50\n",
            "22/22 [==============================] - 0s 4ms/step - loss: 7.7714 - root_mean_squared_error: 2.7877 - mae: 1.9968 - mse: 7.7714 - val_loss: 17.4394 - val_root_mean_squared_error: 4.1760 - val_mae: 3.1683 - val_mse: 17.4394\n",
            "Epoch 41/50\n",
            "22/22 [==============================] - 0s 4ms/step - loss: 7.8514 - root_mean_squared_error: 2.8020 - mae: 2.0103 - mse: 7.8514 - val_loss: 19.7673 - val_root_mean_squared_error: 4.4460 - val_mae: 3.3486 - val_mse: 19.7673\n",
            "Epoch 42/50\n",
            "22/22 [==============================] - 0s 4ms/step - loss: 7.7216 - root_mean_squared_error: 2.7788 - mae: 2.0231 - mse: 7.7216 - val_loss: 16.1736 - val_root_mean_squared_error: 4.0216 - val_mae: 2.9647 - val_mse: 16.1736\n",
            "Epoch 43/50\n",
            "22/22 [==============================] - 0s 4ms/step - loss: 7.4886 - root_mean_squared_error: 2.7365 - mae: 1.9773 - mse: 7.4886 - val_loss: 16.2451 - val_root_mean_squared_error: 4.0305 - val_mae: 2.9623 - val_mse: 16.2451\n",
            "Epoch 44/50\n",
            "22/22 [==============================] - 0s 4ms/step - loss: 7.3123 - root_mean_squared_error: 2.7041 - mae: 1.9588 - mse: 7.3123 - val_loss: 16.6529 - val_root_mean_squared_error: 4.0808 - val_mae: 3.0442 - val_mse: 16.6529\n",
            "Epoch 45/50\n",
            "22/22 [==============================] - 0s 4ms/step - loss: 7.2782 - root_mean_squared_error: 2.6978 - mae: 1.9684 - mse: 7.2782 - val_loss: 18.4020 - val_root_mean_squared_error: 4.2898 - val_mae: 3.1370 - val_mse: 18.4020\n",
            "Epoch 46/50\n",
            "22/22 [==============================] - 0s 4ms/step - loss: 7.2221 - root_mean_squared_error: 2.6874 - mae: 1.9573 - mse: 7.2221 - val_loss: 16.3890 - val_root_mean_squared_error: 4.0483 - val_mae: 3.0206 - val_mse: 16.3890\n",
            "Epoch 47/50\n",
            "22/22 [==============================] - 0s 4ms/step - loss: 7.1413 - root_mean_squared_error: 2.6723 - mae: 1.9397 - mse: 7.1413 - val_loss: 15.4048 - val_root_mean_squared_error: 3.9249 - val_mae: 2.8227 - val_mse: 15.4048\n",
            "Epoch 48/50\n",
            "22/22 [==============================] - 0s 4ms/step - loss: 7.1545 - root_mean_squared_error: 2.6748 - mae: 1.9389 - mse: 7.1545 - val_loss: 17.9254 - val_root_mean_squared_error: 4.2338 - val_mae: 3.1898 - val_mse: 17.9254\n",
            "Epoch 49/50\n",
            "22/22 [==============================] - 0s 4ms/step - loss: 7.0275 - root_mean_squared_error: 2.6509 - mae: 1.9318 - mse: 7.0275 - val_loss: 16.5858 - val_root_mean_squared_error: 4.0726 - val_mae: 3.0262 - val_mse: 16.5858\n",
            "Epoch 50/50\n",
            "22/22 [==============================] - 0s 4ms/step - loss: 6.8804 - root_mean_squared_error: 2.6231 - mae: 1.9009 - mse: 6.8804 - val_loss: 18.0573 - val_root_mean_squared_error: 4.2494 - val_mae: 3.2226 - val_mse: 18.0573\n"
          ],
          "name": "stdout"
        }
      ]
    },
    {
      "cell_type": "markdown",
      "metadata": {
        "id": "VdbqyS21Z9py",
        "colab_type": "text"
      },
      "source": [
        "## Visualize Training\n",
        "\n",
        "Let's try a different technique to visualize. Begin by creating variable **hist** that holds the model's history as a Pandas DataFrame. Create another variable **hist['epoch']** to hold epoch history. Display the last five rows to get an idea about performance."
      ]
    },
    {
      "cell_type": "code",
      "metadata": {
        "id": "6642hhv_bE6k",
        "colab_type": "code",
        "colab": {
          "base_uri": "https://localhost:8080/",
          "height": 204
        },
        "outputId": "82577ecf-0bd0-4986-9c36-1733d8bb7d8f"
      },
      "source": [
        "hist = pd.DataFrame(history.history)\n",
        "hist['epoch'] = history.epoch\n",
        "hist.tail()"
      ],
      "execution_count": 30,
      "outputs": [
        {
          "output_type": "execute_result",
          "data": {
            "text/html": [
              "<div>\n",
              "<style scoped>\n",
              "    .dataframe tbody tr th:only-of-type {\n",
              "        vertical-align: middle;\n",
              "    }\n",
              "\n",
              "    .dataframe tbody tr th {\n",
              "        vertical-align: top;\n",
              "    }\n",
              "\n",
              "    .dataframe thead th {\n",
              "        text-align: right;\n",
              "    }\n",
              "</style>\n",
              "<table border=\"1\" class=\"dataframe\">\n",
              "  <thead>\n",
              "    <tr style=\"text-align: right;\">\n",
              "      <th></th>\n",
              "      <th>loss</th>\n",
              "      <th>root_mean_squared_error</th>\n",
              "      <th>mae</th>\n",
              "      <th>mse</th>\n",
              "      <th>val_loss</th>\n",
              "      <th>val_root_mean_squared_error</th>\n",
              "      <th>val_mae</th>\n",
              "      <th>val_mse</th>\n",
              "      <th>epoch</th>\n",
              "    </tr>\n",
              "  </thead>\n",
              "  <tbody>\n",
              "    <tr>\n",
              "      <th>45</th>\n",
              "      <td>7.222107</td>\n",
              "      <td>2.687398</td>\n",
              "      <td>1.957316</td>\n",
              "      <td>7.222107</td>\n",
              "      <td>16.388990</td>\n",
              "      <td>4.048332</td>\n",
              "      <td>3.020634</td>\n",
              "      <td>16.388990</td>\n",
              "      <td>45</td>\n",
              "    </tr>\n",
              "    <tr>\n",
              "      <th>46</th>\n",
              "      <td>7.141298</td>\n",
              "      <td>2.672321</td>\n",
              "      <td>1.939715</td>\n",
              "      <td>7.141298</td>\n",
              "      <td>15.404785</td>\n",
              "      <td>3.924893</td>\n",
              "      <td>2.822665</td>\n",
              "      <td>15.404785</td>\n",
              "      <td>46</td>\n",
              "    </tr>\n",
              "    <tr>\n",
              "      <th>47</th>\n",
              "      <td>7.154507</td>\n",
              "      <td>2.674791</td>\n",
              "      <td>1.938851</td>\n",
              "      <td>7.154507</td>\n",
              "      <td>17.925396</td>\n",
              "      <td>4.233840</td>\n",
              "      <td>3.189765</td>\n",
              "      <td>17.925396</td>\n",
              "      <td>47</td>\n",
              "    </tr>\n",
              "    <tr>\n",
              "      <th>48</th>\n",
              "      <td>7.027476</td>\n",
              "      <td>2.650939</td>\n",
              "      <td>1.931760</td>\n",
              "      <td>7.027476</td>\n",
              "      <td>16.585810</td>\n",
              "      <td>4.072568</td>\n",
              "      <td>3.026223</td>\n",
              "      <td>16.585810</td>\n",
              "      <td>48</td>\n",
              "    </tr>\n",
              "    <tr>\n",
              "      <th>49</th>\n",
              "      <td>6.880424</td>\n",
              "      <td>2.623056</td>\n",
              "      <td>1.900900</td>\n",
              "      <td>6.880424</td>\n",
              "      <td>18.057257</td>\n",
              "      <td>4.249383</td>\n",
              "      <td>3.222632</td>\n",
              "      <td>18.057257</td>\n",
              "      <td>49</td>\n",
              "    </tr>\n",
              "  </tbody>\n",
              "</table>\n",
              "</div>"
            ],
            "text/plain": [
              "        loss  root_mean_squared_error       mae  ...   val_mae    val_mse  epoch\n",
              "45  7.222107                 2.687398  1.957316  ...  3.020634  16.388990     45\n",
              "46  7.141298                 2.672321  1.939715  ...  2.822665  15.404785     46\n",
              "47  7.154507                 2.674791  1.938851  ...  3.189765  17.925396     47\n",
              "48  7.027476                 2.650939  1.931760  ...  3.026223  16.585810     48\n",
              "49  6.880424                 2.623056  1.900900  ...  3.222632  18.057257     49\n",
              "\n",
              "[5 rows x 9 columns]"
            ]
          },
          "metadata": {
            "tags": []
          },
          "execution_count": 30
        }
      ]
    },
    {
      "cell_type": "markdown",
      "metadata": {
        "id": "PrjulWObh0MT",
        "colab_type": "text"
      },
      "source": [
        "Build the plots:"
      ]
    },
    {
      "cell_type": "code",
      "metadata": {
        "id": "QVCSdFw7h2Ix",
        "colab_type": "code",
        "colab": {
          "base_uri": "https://localhost:8080/",
          "height": 885
        },
        "outputId": "65962761-e263-4324-d6ca-e214459666b3"
      },
      "source": [
        "import matplotlib.pyplot as plt\n",
        "\n",
        "def plot_history(history, limit1, limit2):\n",
        "  hist = pd.DataFrame(history.history)\n",
        "  hist['epoch'] = history.epoch\n",
        "\n",
        "  plt.figure()\n",
        "  plt.xlabel('epoch')\n",
        "  plt.ylabel('MAE [MPG]')\n",
        "  plt.plot(hist['epoch'], hist['mae'],\n",
        "           label='Train Error')\n",
        "  plt.plot(hist['epoch'], hist['val_mae'],\n",
        "           label = 'Val Error')\n",
        "  plt.ylim([0, limit1])\n",
        "  plt.legend()\n",
        "  plt.title('MAE by Epoch')\n",
        "  plt.show()\n",
        "\n",
        "  plt.clf()\n",
        "\n",
        "  plt.figure()\n",
        "  plt.xlabel('Epoch')\n",
        "  plt.ylabel('MSE [MPG]')\n",
        "  plt.plot(hist['epoch'], hist['mse'],\n",
        "           label='Train Error')\n",
        "  plt.plot(hist['epoch'], hist['val_mse'],\n",
        "           label = 'Val Error')\n",
        "  plt.ylim([0, limit2])\n",
        "  plt.legend()\n",
        "  plt.title('MSE by Epoch')\n",
        "  plt.show()\n",
        "\n",
        "  plt.clf()\n",
        "\n",
        "  plt.figure()\n",
        "  plt.xlabel('Epoch')\n",
        "  plt.ylabel('RMSE [MPG]')\n",
        "  plt.plot(hist['epoch'], hist['root_mean_squared_error'],\n",
        "           label='Train Error')\n",
        "  plt.plot(hist['epoch'], hist['val_root_mean_squared_error'],\n",
        "           label = 'Val Error')\n",
        "  plt.ylim([0, limit2])\n",
        "  plt.legend()\n",
        "  plt.title('RMSE by Epoch')\n",
        "  plt.show()\n",
        "\n",
        "# set limits to make plot readable\n",
        "\n",
        "mae_limit, mse_limit = 10, 100\n",
        "plot_history(history, mae_limit, mse_limit)"
      ],
      "execution_count": 32,
      "outputs": [
        {
          "output_type": "display_data",
          "data": {
            "image/png": "[encoded data removed]",
            "text/plain": [
              "<Figure size 432x288 with 1 Axes>"
            ]
          },
          "metadata": {
            "tags": [],
            "needs_background": "light"
          }
        },
        {
          "output_type": "display_data",
          "data": {
            "text/plain": [
              "<Figure size 432x288 with 0 Axes>"
            ]
          },
          "metadata": {
            "tags": []
          }
        },
        {
          "output_type": "display_data",
          "data": {
            "image/png": "[encoded data removed]",
            "text/plain": [
              "<Figure size 432x288 with 1 Axes>"
            ]
          },
          "metadata": {
            "tags": [],
            "needs_background": "light"
          }
        },
        {
          "output_type": "display_data",
          "data": {
            "text/plain": [
              "<Figure size 432x288 with 0 Axes>"
            ]
          },
          "metadata": {
            "tags": []
          }
        },
        {
          "output_type": "display_data",
          "data": {
            "image/png": "[encoded data removed]",
            "text/plain": [
              "<Figure size 432x288 with 1 Axes>"
            ]
          },
          "metadata": {
            "tags": [],
            "needs_background": "light"
          }
        }
      ]
    },
    {
      "cell_type": "markdown",
      "metadata": {
        "id": "WXkMIR1NODys",
        "colab_type": "text"
      },
      "source": [
        "Since the validation error is a worse than the train error (for MAE and MSE at least), the model is overfitting. What can we do? The first step is to estimate when performance begins to degrade. From the visualizations, can you see when this happens?"
      ]
    },
    {
      "cell_type": "markdown",
      "metadata": {
        "id": "KhMb48ROjvRF",
        "colab_type": "text"
      },
      "source": [
        "## Early Stopping\n",
        "\n",
        "With classification, our goal is to maximize accuracy. Of course, we also want to minimize loss. With regression, our goal is to minimize **MSE** or one of the other error metrics. From the visualizations, we see that our model is overfitting because validation error is higher than training error. We also see that once train and validation error cross, performance begins to degrade. \n",
        "\n",
        "There is one simple tuning experiment we can run to make this model more useful. We can stop the model when training and validation error are very close to each other. This technique is called early stopping. **Early stopping** is a widely used approach that stops training at the point when performance on a validation dataset starts to degrade.\n",
        "\n",
        "Let's modify our training experiment to automatically stop training when the validation score doesn't improve. We use an **EarlyStopping** callback that tests a training condition for every epoch. If a set amount of epochs elapse without showing improvement, training is automatically stopped.\n",
        "\n",
        "All we need to do is update our fit() method and rerun training:"
      ]
    },
    {
      "cell_type": "code",
      "metadata": {
        "id": "N5KR6ta4mFCX",
        "colab_type": "code",
        "colab": {
          "base_uri": "https://localhost:8080/",
          "height": 119
        },
        "outputId": "2d3e64d4-9f5a-46c2-9af3-2ea4b5376ad0"
      },
      "source": [
        "# clear the previous model\n",
        "\n",
        "keras.backend.clear_session()\n",
        "\n",
        "# plant a random seed for replication purposes\n",
        "np.random.seed(0)\n",
        "tf.random.set_seed(0)\n",
        "\n",
        "# monitor 'val_loss' for early stopping\n",
        "\n",
        "early_stop = keras.callbacks.EarlyStopping(monitor='val_loss')\n",
        "\n",
        "history = model.fit(train_bs, epochs=50,\n",
        "                    validation_data=test_bs,\n",
        "                    callbacks=[early_stop])"
      ],
      "execution_count": 33,
      "outputs": [
        {
          "output_type": "stream",
          "text": [
            "Epoch 1/50\n",
            "22/22 [==============================] - 0s 5ms/step - loss: 6.8328 - root_mean_squared_error: 2.6140 - mae: 1.9171 - mse: 6.8328 - val_loss: 15.2717 - val_root_mean_squared_error: 3.9079 - val_mae: 2.8231 - val_mse: 15.2717\n",
            "Epoch 2/50\n",
            "22/22 [==============================] - 0s 4ms/step - loss: 6.8687 - root_mean_squared_error: 2.6208 - mae: 1.8880 - mse: 6.8687 - val_loss: 15.2568 - val_root_mean_squared_error: 3.9060 - val_mae: 2.8665 - val_mse: 15.2568\n",
            "Epoch 3/50\n",
            "22/22 [==============================] - 0s 5ms/step - loss: 6.7753 - root_mean_squared_error: 2.6029 - mae: 1.8642 - mse: 6.7753 - val_loss: 15.5242 - val_root_mean_squared_error: 3.9401 - val_mae: 2.9076 - val_mse: 15.5242\n"
          ],
          "name": "stdout"
        }
      ]
    },
    {
      "cell_type": "markdown",
      "metadata": {
        "id": "XYjx3SYewatv",
        "colab_type": "text"
      },
      "source": [
        "Although we can get great results with early stopping, it is a good idea to add some control to ensure the best performance. For added control, we can add a parameter that forces the model to continue to a point that gives us the best performance. The **patience** parameter can be set to a given a number of epochs after which training will be stopped if there is no improvement. Let's try this and see what happens. "
      ]
    },
    {
      "cell_type": "code",
      "metadata": {
        "id": "y9P-M8GiufXW",
        "colab_type": "code",
        "colab": {
          "base_uri": "https://localhost:8080/",
          "height": 357
        },
        "outputId": "01ee0e12-a058-4355-b1c6-f97a57506f77"
      },
      "source": [
        "# clear the previous model\n",
        "\n",
        "keras.backend.clear_session()\n",
        "\n",
        "# plant a random seed for replication purposes\n",
        "np.random.seed(0)\n",
        "tf.random.set_seed(0)\n",
        "\n",
        "# set number of patience epochs\n",
        "\n",
        "n = 4\n",
        "\n",
        "early_stop = keras.callbacks.EarlyStopping(\n",
        "    monitor='val_loss', patience=n)\n",
        "\n",
        "history = model.fit(train_bs, epochs=50,\n",
        "                    validation_data=test_bs,\n",
        "                    callbacks=[early_stop])"
      ],
      "execution_count": 34,
      "outputs": [
        {
          "output_type": "stream",
          "text": [
            "Epoch 1/50\n",
            "22/22 [==============================] - 0s 5ms/step - loss: 6.5642 - root_mean_squared_error: 2.5621 - mae: 1.8616 - mse: 6.5642 - val_loss: 16.7426 - val_root_mean_squared_error: 4.0918 - val_mae: 3.0456 - val_mse: 16.7426\n",
            "Epoch 2/50\n",
            "22/22 [==============================] - 0s 4ms/step - loss: 6.5771 - root_mean_squared_error: 2.5646 - mae: 1.8871 - mse: 6.5771 - val_loss: 15.7938 - val_root_mean_squared_error: 3.9741 - val_mae: 2.9013 - val_mse: 15.7938\n",
            "Epoch 3/50\n",
            "22/22 [==============================] - 0s 4ms/step - loss: 6.3759 - root_mean_squared_error: 2.5251 - mae: 1.8715 - mse: 6.3759 - val_loss: 16.2379 - val_root_mean_squared_error: 4.0296 - val_mae: 2.9898 - val_mse: 16.2379\n",
            "Epoch 4/50\n",
            "22/22 [==============================] - 0s 4ms/step - loss: 6.3182 - root_mean_squared_error: 2.5136 - mae: 1.8328 - mse: 6.3182 - val_loss: 15.4403 - val_root_mean_squared_error: 3.9294 - val_mae: 2.8862 - val_mse: 15.4403\n",
            "Epoch 5/50\n",
            "22/22 [==============================] - 0s 4ms/step - loss: 6.2805 - root_mean_squared_error: 2.5061 - mae: 1.8168 - mse: 6.2805 - val_loss: 15.1107 - val_root_mean_squared_error: 3.8872 - val_mae: 2.8514 - val_mse: 15.1107\n",
            "Epoch 6/50\n",
            "22/22 [==============================] - 0s 4ms/step - loss: 6.2443 - root_mean_squared_error: 2.4989 - mae: 1.8050 - mse: 6.2443 - val_loss: 14.7665 - val_root_mean_squared_error: 3.8427 - val_mae: 2.8098 - val_mse: 14.7665\n",
            "Epoch 7/50\n",
            "22/22 [==============================] - 0s 4ms/step - loss: 6.2640 - root_mean_squared_error: 2.5028 - mae: 1.8101 - mse: 6.2640 - val_loss: 16.4351 - val_root_mean_squared_error: 4.0540 - val_mae: 3.0611 - val_mse: 16.4351\n",
            "Epoch 8/50\n",
            "22/22 [==============================] - 0s 4ms/step - loss: 6.1492 - root_mean_squared_error: 2.4798 - mae: 1.7944 - mse: 6.1492 - val_loss: 14.7835 - val_root_mean_squared_error: 3.8449 - val_mae: 2.8198 - val_mse: 14.7835\n",
            "Epoch 9/50\n",
            "22/22 [==============================] - 0s 4ms/step - loss: 5.9636 - root_mean_squared_error: 2.4421 - mae: 1.7757 - mse: 5.9636 - val_loss: 15.8754 - val_root_mean_squared_error: 3.9844 - val_mae: 2.9457 - val_mse: 15.8754\n",
            "Epoch 10/50\n",
            "22/22 [==============================] - 0s 4ms/step - loss: 6.2854 - root_mean_squared_error: 2.5071 - mae: 1.8049 - mse: 6.2854 - val_loss: 17.8850 - val_root_mean_squared_error: 4.2291 - val_mae: 3.1534 - val_mse: 17.8850\n"
          ],
          "name": "stdout"
        }
      ]
    },
    {
      "cell_type": "markdown",
      "metadata": {
        "id": "o_AMHiaEnN-N",
        "colab_type": "text"
      },
      "source": [
        "Now, we have a better model because it stops closer to the ideal performance.\n",
        "\n",
        "Let's plot:"
      ]
    },
    {
      "cell_type": "code",
      "metadata": {
        "id": "gWQNPB0RnP5M",
        "colab_type": "code",
        "colab": {
          "base_uri": "https://localhost:8080/",
          "height": 885
        },
        "outputId": "60c71f83-4d46-4a4d-827e-45c6ad6e3e8d"
      },
      "source": [
        "hist = pd.DataFrame(history.history)\n",
        "hist['epoch'] = history.epoch\n",
        "\n",
        "train_limit, test_limit = 10, 100\n",
        "plot_history(history, train_limit, test_limit)"
      ],
      "execution_count": 35,
      "outputs": [
        {
          "output_type": "display_data",
          "data": {
            "image/png": "[encoded data removed]",
            "text/plain": [
              "<Figure size 432x288 with 1 Axes>"
            ]
          },
          "metadata": {
            "tags": [],
            "needs_background": "light"
          }
        },
        {
          "output_type": "display_data",
          "data": {
            "text/plain": [
              "<Figure size 432x288 with 0 Axes>"
            ]
          },
          "metadata": {
            "tags": []
          }
        },
        {
          "output_type": "display_data",
          "data": {
            "image/png": "[encoded data removed]",
            "text/plain": [
              "<Figure size 432x288 with 1 Axes>"
            ]
          },
          "metadata": {
            "tags": [],
            "needs_background": "light"
          }
        },
        {
          "output_type": "display_data",
          "data": {
            "text/plain": [
              "<Figure size 432x288 with 0 Axes>"
            ]
          },
          "metadata": {
            "tags": []
          }
        },
        {
          "output_type": "display_data",
          "data": {
            "image/png": "[encoded data removed]",
            "text/plain": [
              "<Figure size 432x288 with 1 Axes>"
            ]
          },
          "metadata": {
            "tags": [],
            "needs_background": "light"
          }
        }
      ]
    },
    {
      "cell_type": "markdown",
      "metadata": {
        "id": "bnGaZrlBnWcb",
        "colab_type": "text"
      },
      "source": [
        "## Remove Bad Data\n",
        "\n",
        "Although early stopping worked as expected, we might be able to squeeze out a bit more performance with this dataset. The boston dataset has some bad data so we can modify it.\n",
        "\n",
        "What is wrong with the data? Prices of homes are capped at $50,000 because the Census Service censored the data. They decided to set the maximum value of the price variable to 50k USD, so no price can go beyond that value.\n",
        "\n",
        "What do we do? While maybe not ideal, we can remove data with prices at or above 50k USD. This is not ideal because we may be removing perfectly good data, but there is no way to know this. Another reason is because the dataset is so small to begin with. Neural nets are meant to perform at their best with larger datasets.\n",
        "\n",
        "Keep in mind that our book is an introduction, so we are not nearly as concerned with performance as we would be if working on real datasets. We are just trying to help you learn how to use TensorFlow 2.x. If you want to explore this topic further, we recommend this URL:\n",
        "\n",
        "https://towardsdatascience.com/things-you-didnt-know-about-the-boston-housing-dataset-2e87a6f960e8"
      ]
    },
    {
      "cell_type": "markdown",
      "metadata": {
        "id": "xVwxZFdHvAP6",
        "colab_type": "text"
      },
      "source": [
        "## Get Data\n",
        "\n",
        "To make this happen, we have to return to the original data because we've processed the heck out of it to ready it for TensorFlow consumption. So let's get started: "
      ]
    },
    {
      "cell_type": "code",
      "metadata": {
        "id": "OMWhR_VEsNFz",
        "colab_type": "code",
        "colab": {}
      },
      "source": [
        "# get the raw data\n",
        "\n",
        "url = 'https://raw.githubusercontent.com/paperd/tensorflow/\\\n",
        "master/chapter6/data/boston.csv'\n",
        "\n",
        "boston = pd.read_csv(url)"
      ],
      "execution_count": 36,
      "outputs": []
    },
    {
      "cell_type": "markdown",
      "metadata": {
        "id": "f1ZF45fpK54_",
        "colab_type": "text"
      },
      "source": [
        "Verify data:"
      ]
    },
    {
      "cell_type": "code",
      "metadata": {
        "id": "mx9YONJKK6AL",
        "colab_type": "code",
        "colab": {
          "base_uri": "https://localhost:8080/",
          "height": 204
        },
        "outputId": "71e3eb03-0376-4fe0-b4e9-723616555883"
      },
      "source": [
        "boston.head()"
      ],
      "execution_count": 37,
      "outputs": [
        {
          "output_type": "execute_result",
          "data": {
            "text/html": [
              "<div>\n",
              "<style scoped>\n",
              "    .dataframe tbody tr th:only-of-type {\n",
              "        vertical-align: middle;\n",
              "    }\n",
              "\n",
              "    .dataframe tbody tr th {\n",
              "        vertical-align: top;\n",
              "    }\n",
              "\n",
              "    .dataframe thead th {\n",
              "        text-align: right;\n",
              "    }\n",
              "</style>\n",
              "<table border=\"1\" class=\"dataframe\">\n",
              "  <thead>\n",
              "    <tr style=\"text-align: right;\">\n",
              "      <th></th>\n",
              "      <th>CRIM</th>\n",
              "      <th>ZN</th>\n",
              "      <th>INDUS</th>\n",
              "      <th>CHAS</th>\n",
              "      <th>NOX</th>\n",
              "      <th>RM</th>\n",
              "      <th>AGE</th>\n",
              "      <th>DIS</th>\n",
              "      <th>RAD</th>\n",
              "      <th>TAX</th>\n",
              "      <th>PTRATIO</th>\n",
              "      <th>LSTAT</th>\n",
              "      <th>MEDV</th>\n",
              "    </tr>\n",
              "  </thead>\n",
              "  <tbody>\n",
              "    <tr>\n",
              "      <th>0</th>\n",
              "      <td>0.00632</td>\n",
              "      <td>18.0</td>\n",
              "      <td>2.31</td>\n",
              "      <td>0</td>\n",
              "      <td>0.538</td>\n",
              "      <td>6.575</td>\n",
              "      <td>65.2</td>\n",
              "      <td>4.0900</td>\n",
              "      <td>1</td>\n",
              "      <td>296</td>\n",
              "      <td>15.3</td>\n",
              "      <td>4.98</td>\n",
              "      <td>24.0</td>\n",
              "    </tr>\n",
              "    <tr>\n",
              "      <th>1</th>\n",
              "      <td>0.02731</td>\n",
              "      <td>0.0</td>\n",
              "      <td>7.07</td>\n",
              "      <td>0</td>\n",
              "      <td>0.469</td>\n",
              "      <td>6.421</td>\n",
              "      <td>78.9</td>\n",
              "      <td>4.9671</td>\n",
              "      <td>2</td>\n",
              "      <td>242</td>\n",
              "      <td>17.8</td>\n",
              "      <td>9.14</td>\n",
              "      <td>21.6</td>\n",
              "    </tr>\n",
              "    <tr>\n",
              "      <th>2</th>\n",
              "      <td>0.02729</td>\n",
              "      <td>0.0</td>\n",
              "      <td>7.07</td>\n",
              "      <td>0</td>\n",
              "      <td>0.469</td>\n",
              "      <td>7.185</td>\n",
              "      <td>61.1</td>\n",
              "      <td>4.9671</td>\n",
              "      <td>2</td>\n",
              "      <td>242</td>\n",
              "      <td>17.8</td>\n",
              "      <td>4.03</td>\n",
              "      <td>34.7</td>\n",
              "    </tr>\n",
              "    <tr>\n",
              "      <th>3</th>\n",
              "      <td>0.03237</td>\n",
              "      <td>0.0</td>\n",
              "      <td>2.18</td>\n",
              "      <td>0</td>\n",
              "      <td>0.458</td>\n",
              "      <td>6.998</td>\n",
              "      <td>45.8</td>\n",
              "      <td>6.0622</td>\n",
              "      <td>3</td>\n",
              "      <td>222</td>\n",
              "      <td>18.7</td>\n",
              "      <td>2.94</td>\n",
              "      <td>33.4</td>\n",
              "    </tr>\n",
              "    <tr>\n",
              "      <th>4</th>\n",
              "      <td>0.06905</td>\n",
              "      <td>0.0</td>\n",
              "      <td>2.18</td>\n",
              "      <td>0</td>\n",
              "      <td>0.458</td>\n",
              "      <td>7.147</td>\n",
              "      <td>54.2</td>\n",
              "      <td>6.0622</td>\n",
              "      <td>3</td>\n",
              "      <td>222</td>\n",
              "      <td>18.7</td>\n",
              "      <td>5.33</td>\n",
              "      <td>36.2</td>\n",
              "    </tr>\n",
              "  </tbody>\n",
              "</table>\n",
              "</div>"
            ],
            "text/plain": [
              "      CRIM   ZN   INDUS   CHAS    NOX  ...  RAD  TAX  PTRATIO  LSTAT  MEDV\n",
              "0  0.00632  18.0    2.31     0  0.538  ...    1  296     15.3   4.98  24.0\n",
              "1  0.02731   0.0    7.07     0  0.469  ...    2  242     17.8   9.14  21.6\n",
              "2  0.02729   0.0    7.07     0  0.469  ...    2  242     17.8   4.03  34.7\n",
              "3  0.03237   0.0    2.18     0  0.458  ...    3  222     18.7   2.94  33.4\n",
              "4  0.06905   0.0    2.18     0  0.458  ...    3  222     18.7   5.33  36.2\n",
              "\n",
              "[5 rows x 13 columns]"
            ]
          },
          "metadata": {
            "tags": []
          },
          "execution_count": 37
        }
      ]
    },
    {
      "cell_type": "markdown",
      "metadata": {
        "id": "Dq-cW8LNxfc8",
        "colab_type": "text"
      },
      "source": [
        "## Remove Noise"
      ]
    },
    {
      "cell_type": "code",
      "metadata": {
        "id": "BqpBfLBiv3w0",
        "colab_type": "code",
        "colab": {
          "base_uri": "https://localhost:8080/",
          "height": 51
        },
        "outputId": "1d60b189-705c-494b-c3b9-87d391daeb0f"
      },
      "source": [
        "print ('data set before removing noise:', boston.shape)\n",
        "\n",
        "# remove noise\n",
        "\n",
        "noise = boston.loc[boston['MEDV'] >= 50]\n",
        "data = boston.drop(noise.index)\n",
        "\n",
        "print ('data set without noise:', data.shape)"
      ],
      "execution_count": 38,
      "outputs": [
        {
          "output_type": "stream",
          "text": [
            "data set before removing noise: (506, 13)\n",
            "data set without noise: (490, 13)\n"
          ],
          "name": "stdout"
        }
      ]
    },
    {
      "cell_type": "markdown",
      "metadata": {
        "id": "f9D-0FBBwGhb",
        "colab_type": "text"
      },
      "source": [
        "## Create Feature and Target Data\n",
        "\n",
        "So, we now have a dataset without the possibly corrupted data. Split the data into feature and target sets:"
      ]
    },
    {
      "cell_type": "code",
      "metadata": {
        "id": "xQixTaRjwXKE",
        "colab_type": "code",
        "colab": {}
      },
      "source": [
        "# create a copy of the DataFrame\n",
        "\n",
        "df = data.copy()\n",
        "\n",
        "# create feature and target sets\n",
        "\n",
        "target, features = df.pop('MEDV'), df.values\n",
        "labels = target.values"
      ],
      "execution_count": 39,
      "outputs": []
    },
    {
      "cell_type": "markdown",
      "metadata": {
        "id": "Ir-nAuxWwfO0",
        "colab_type": "text"
      },
      "source": [
        "## Build the Input Pipeline"
      ]
    },
    {
      "cell_type": "code",
      "metadata": {
        "id": "6J3pY8azwo4O",
        "colab_type": "code",
        "colab": {}
      },
      "source": [
        "X_train, X_test, y_train, y_test = train_test_split(\n",
        "    features, labels, test_size=0.33, random_state=0)\n",
        "\n",
        "# standardize feature data and create TensorFlow tensors\n",
        "\n",
        "X_train_std = scaler.fit_transform(X_train)\n",
        "X_test_std = scaler.fit_transform(X_test)\n",
        "\n",
        "# slice data for TensorFlow consumption\n",
        "\n",
        "train = tf.data.Dataset.from_tensor_slices(\n",
        "    (X_train_std, y_train))\n",
        "test = tf.data.Dataset.from_tensor_slices(\n",
        "    (X_test_std, y_test))\n",
        "\n",
        "# shuffle, batch, prefetch\n",
        "\n",
        "BATCH_SIZE = 16\n",
        "SHUFFLE_BUFFER_SIZE = 100\n",
        "\n",
        "train_n = train.shuffle(\n",
        "    SHUFFLE_BUFFER_SIZE).batch(BATCH_SIZE).prefetch(1)\n",
        "test_n = test.batch(BATCH_SIZE).prefetch(1)"
      ],
      "execution_count": 42,
      "outputs": []
    },
    {
      "cell_type": "markdown",
      "metadata": {
        "id": "Nt5KAvKXeS3U",
        "colab_type": "text"
      },
      "source": [
        "## Compile and Train"
      ]
    },
    {
      "cell_type": "code",
      "metadata": {
        "id": "xzY0_Hd5eS-r",
        "colab_type": "code",
        "colab": {
          "base_uri": "https://localhost:8080/",
          "height": 357
        },
        "outputId": "48fabb8d-3cd7-42c7-b89d-de0fd3d1cfe7"
      },
      "source": [
        "rmse = tf.keras.metrics.RootMeanSquaredError()\n",
        "\n",
        "model.compile(loss='mse', optimizer='RMSProp',\n",
        "              metrics=[rmse, 'mae', 'mse'])\n",
        "\n",
        "keras.backend.clear_session()\n",
        "\n",
        "# plant a random seed for replication purposes\n",
        "np.random.seed(0)\n",
        "tf.random.set_seed(0)\n",
        "\n",
        "n = 4\n",
        "\n",
        "early_stop = keras.callbacks.EarlyStopping(\n",
        "    monitor='val_loss', patience=n)\n",
        "\n",
        "history = model.fit(train_n, epochs=50,\n",
        "                    validation_data=test_n,\n",
        "                    callbacks=[early_stop])"
      ],
      "execution_count": 43,
      "outputs": [
        {
          "output_type": "stream",
          "text": [
            "Epoch 1/50\n",
            "21/21 [==============================] - 0s 8ms/step - loss: 5.7006 - root_mean_squared_error: 2.3876 - mae: 1.8042 - mse: 5.7006 - val_loss: 12.1046 - val_root_mean_squared_error: 3.4792 - val_mae: 2.6040 - val_mse: 12.1046\n",
            "Epoch 2/50\n",
            "21/21 [==============================] - 0s 4ms/step - loss: 5.2717 - root_mean_squared_error: 2.2960 - mae: 1.7372 - mse: 5.2717 - val_loss: 12.8651 - val_root_mean_squared_error: 3.5868 - val_mae: 2.6879 - val_mse: 12.8651\n",
            "Epoch 3/50\n",
            "21/21 [==============================] - 0s 4ms/step - loss: 4.9696 - root_mean_squared_error: 2.2293 - mae: 1.7309 - mse: 4.9696 - val_loss: 13.6629 - val_root_mean_squared_error: 3.6963 - val_mae: 2.7833 - val_mse: 13.6629\n",
            "Epoch 4/50\n",
            "21/21 [==============================] - 0s 4ms/step - loss: 4.8696 - root_mean_squared_error: 2.2067 - mae: 1.6512 - mse: 4.8696 - val_loss: 11.8077 - val_root_mean_squared_error: 3.4362 - val_mae: 2.5463 - val_mse: 11.8077\n",
            "Epoch 5/50\n",
            "21/21 [==============================] - 0s 4ms/step - loss: 4.8127 - root_mean_squared_error: 2.1938 - mae: 1.6696 - mse: 4.8127 - val_loss: 15.1534 - val_root_mean_squared_error: 3.8927 - val_mae: 2.9622 - val_mse: 15.1534\n",
            "Epoch 6/50\n",
            "21/21 [==============================] - 0s 4ms/step - loss: 4.7685 - root_mean_squared_error: 2.1837 - mae: 1.6497 - mse: 4.7685 - val_loss: 10.8027 - val_root_mean_squared_error: 3.2868 - val_mae: 2.4182 - val_mse: 10.8027\n",
            "Epoch 7/50\n",
            "21/21 [==============================] - 0s 4ms/step - loss: 4.6952 - root_mean_squared_error: 2.1668 - mae: 1.6566 - mse: 4.6952 - val_loss: 11.9391 - val_root_mean_squared_error: 3.4553 - val_mae: 2.5907 - val_mse: 11.9391\n",
            "Epoch 8/50\n",
            "21/21 [==============================] - 0s 5ms/step - loss: 4.6257 - root_mean_squared_error: 2.1507 - mae: 1.6582 - mse: 4.6257 - val_loss: 12.2532 - val_root_mean_squared_error: 3.5005 - val_mae: 2.6060 - val_mse: 12.2532\n",
            "Epoch 9/50\n",
            "21/21 [==============================] - 0s 4ms/step - loss: 4.6954 - root_mean_squared_error: 2.1669 - mae: 1.6542 - mse: 4.6954 - val_loss: 11.9568 - val_root_mean_squared_error: 3.4579 - val_mae: 2.5910 - val_mse: 11.9568\n",
            "Epoch 10/50\n",
            "21/21 [==============================] - 0s 4ms/step - loss: 4.4150 - root_mean_squared_error: 2.1012 - mae: 1.6084 - mse: 4.4150 - val_loss: 11.8284 - val_root_mean_squared_error: 3.4392 - val_mae: 2.5849 - val_mse: 11.8284\n"
          ],
          "name": "stdout"
        }
      ]
    },
    {
      "cell_type": "markdown",
      "metadata": {
        "id": "j9z83OyU0e7t",
        "colab_type": "text"
      },
      "source": [
        "## Let's Visualize"
      ]
    },
    {
      "cell_type": "code",
      "metadata": {
        "id": "yvR2d3XK0fF7",
        "colab_type": "code",
        "colab": {
          "base_uri": "https://localhost:8080/",
          "height": 885
        },
        "outputId": "8d5960f6-5fdc-4a66-da22-88b28215426f"
      },
      "source": [
        "hist = pd.DataFrame(history.history)\n",
        "hist['epoch'] = history.epoch\n",
        "\n",
        "train_limit, test_limit = 10, 100\n",
        "\n",
        "plot_history(history, train_limit, test_limit)"
      ],
      "execution_count": 44,
      "outputs": [
        {
          "output_type": "display_data",
          "data": {
            "image/png": "[encoded data removed]",
            "text/plain": [
              "<Figure size 432x288 with 1 Axes>"
            ]
          },
          "metadata": {
            "tags": [],
            "needs_background": "light"
          }
        },
        {
          "output_type": "display_data",
          "data": {
            "text/plain": [
              "<Figure size 432x288 with 0 Axes>"
            ]
          },
          "metadata": {
            "tags": []
          }
        },
        {
          "output_type": "display_data",
          "data": {
            "image/png": "[encoded data removed]",
            "text/plain": [
              "<Figure size 432x288 with 1 Axes>"
            ]
          },
          "metadata": {
            "tags": [],
            "needs_background": "light"
          }
        },
        {
          "output_type": "display_data",
          "data": {
            "text/plain": [
              "<Figure size 432x288 with 0 Axes>"
            ]
          },
          "metadata": {
            "tags": []
          }
        },
        {
          "output_type": "display_data",
          "data": {
            "image/png": "[encoded data removed]",
            "text/plain": [
              "<Figure size 432x288 with 1 Axes>"
            ]
          },
          "metadata": {
            "tags": [],
            "needs_background": "light"
          }
        }
      ]
    },
    {
      "cell_type": "markdown",
      "metadata": {
        "id": "C_Jrdzdt0CMl",
        "colab_type": "text"
      },
      "source": [
        "Our model is not perfect, be we did improve performance."
      ]
    },
    {
      "cell_type": "markdown",
      "metadata": {
        "id": "D4t7QFwN6LxV",
        "colab_type": "text"
      },
      "source": [
        "## Generalize on Test Data\n",
        "\n",
        "Let's see how well the model generalizes with test data, which tells us how well we can expect the model to predict when we use it in the real world."
      ]
    },
    {
      "cell_type": "code",
      "metadata": {
        "id": "i5XL06mn6L7X",
        "colab_type": "code",
        "colab": {
          "base_uri": "https://localhost:8080/",
          "height": 68
        },
        "outputId": "e3a943d8-f072-4c3a-a4f7-c01a1ca92a79"
      },
      "source": [
        "loss, rmse, mae, mse = model.evaluate(test_n, verbose=2)\n",
        "\n",
        "print ()\n",
        "\n",
        "print('\"Testing set Mean Abs Error: {:5.2f} thousand dollars'.\n",
        "      format(mae))"
      ],
      "execution_count": 45,
      "outputs": [
        {
          "output_type": "stream",
          "text": [
            "11/11 - 0s - loss: 11.8284 - root_mean_squared_error: 3.4392 - mae: 2.5849 - mse: 11.8284\n",
            "\n",
            "\"Testing set Mean Abs Error:  2.58 thousand dollars\n"
          ],
          "name": "stdout"
        }
      ]
    },
    {
      "cell_type": "markdown",
      "metadata": {
        "id": "aljDYGYD7kZd",
        "colab_type": "text"
      },
      "source": [
        "As we know, Mean Square Error (MSE) is a common loss function used for regression problems. Another common regression metric is Mean Absolute Error (MAE). MAE gives us a good idea how well our model performed in an easy to understand way. So, we can expect that our model predictions are off by the MAE value in thousands of dollars."
      ]
    },
    {
      "cell_type": "markdown",
      "metadata": {
        "id": "FqS1sCkb5cFx",
        "colab_type": "text"
      },
      "source": [
        "## Make Predictions"
      ]
    },
    {
      "cell_type": "code",
      "metadata": {
        "id": "32UEqma95do9",
        "colab_type": "code",
        "colab": {}
      },
      "source": [
        "predictions = model.predict(test_n)"
      ],
      "execution_count": 46,
      "outputs": []
    },
    {
      "cell_type": "markdown",
      "metadata": {
        "id": "dV5Ruefl8QOC",
        "colab_type": "text"
      },
      "source": [
        "Display the first prediction:"
      ]
    },
    {
      "cell_type": "code",
      "metadata": {
        "id": "3jE7Qw4p8QXY",
        "colab_type": "code",
        "colab": {
          "base_uri": "https://localhost:8080/",
          "height": 51
        },
        "outputId": "9d4934bd-6d2b-447e-9ae5-6e9c0688b51c"
      },
      "source": [
        "# predicted housing price\n",
        "\n",
        "first = predictions[0]\n",
        "print ('predicted price:', first[0], 'thousand')\n",
        "\n",
        "# actual housing price\n",
        "\n",
        "print ('actual price:', y_test[0], 'thousand')"
      ],
      "execution_count": 47,
      "outputs": [
        {
          "output_type": "stream",
          "text": [
            "predicted price: 19.045574 thousand\n",
            "actual price: 24.3 thousand\n"
          ],
          "name": "stdout"
        }
      ]
    },
    {
      "cell_type": "markdown",
      "metadata": {
        "id": "iuW3tnCh9wQF",
        "colab_type": "text"
      },
      "source": [
        "Display the first five predictions:"
      ]
    },
    {
      "cell_type": "code",
      "metadata": {
        "id": "QWDDb3vo8vUl",
        "colab_type": "code",
        "colab": {
          "base_uri": "https://localhost:8080/",
          "height": 136
        },
        "outputId": "8586c611-fe4d-4f92-9472-5013bbbcf6e4"
      },
      "source": [
        "five = predictions[:5]\n",
        "print (five, br)\n",
        "\n",
        "actuals = y_test[:5]\n",
        "print (actuals)"
      ],
      "execution_count": 48,
      "outputs": [
        {
          "output_type": "stream",
          "text": [
            "[[19.045574]\n",
            " [27.501915]\n",
            " [17.996832]\n",
            " [20.251947]\n",
            " [18.476595]] \n",
            "\n",
            "[24.3 32.5 17.8 19.5 19.9]\n"
          ],
          "name": "stdout"
        }
      ]
    },
    {
      "cell_type": "markdown",
      "metadata": {
        "id": "6GezQCoDAXzF",
        "colab_type": "text"
      },
      "source": [
        "## Visualize Predictions"
      ]
    },
    {
      "cell_type": "code",
      "metadata": {
        "id": "1WSnUbtBAYBD",
        "colab_type": "code",
        "colab": {
          "base_uri": "https://localhost:8080/",
          "height": 279
        },
        "outputId": "590743aa-40e3-4169-e10c-594a6be95e5d"
      },
      "source": [
        "plt.scatter(y_test, predictions)\n",
        "plt.xlabel('True Values [price]')\n",
        "plt.ylabel('Predictions [price]')\n",
        "plt.axis('equal')\n",
        "plt.axis('square')\n",
        "plt.xlim([0,plt.xlim()[1]])\n",
        "plt.ylim([0,plt.ylim()[1]])\n",
        "_ = plt.plot([-100, 100], [-100, 100])"
      ],
      "execution_count": 49,
      "outputs": [
        {
          "output_type": "display_data",
          "data": {
            "image/png": "[encoded data removed]",
            "text/plain": [
              "<Figure size 432x288 with 1 Axes>"
            ]
          },
          "metadata": {
            "tags": [],
            "needs_background": "light"
          }
        }
      ]
    },
    {
      "cell_type": "markdown",
      "metadata": {
        "id": "L4bkl8gCC4ED",
        "colab_type": "text"
      },
      "source": [
        "The further a prediciton is away from the diagonal (true values), the more erroneous it is. "
      ]
    },
    {
      "cell_type": "markdown",
      "metadata": {
        "id": "PnYmzbJA0ynT",
        "colab_type": "text"
      },
      "source": [
        "# Load Boston Data from Scikit-Learn\n",
        "\n",
        "Since the Boston dataset is included in **sklearn.datasets**, let's load it from this environment. "
      ]
    },
    {
      "cell_type": "code",
      "metadata": {
        "id": "3Q4SP-dJ1OEK",
        "colab_type": "code",
        "colab": {}
      },
      "source": [
        "from sklearn import datasets\n",
        "\n",
        "dataset = datasets.load_boston()\n",
        "data, target = dataset.data, dataset.target"
      ],
      "execution_count": 50,
      "outputs": []
    },
    {
      "cell_type": "markdown",
      "metadata": {
        "id": "Pyuhb3if1uB0",
        "colab_type": "text"
      },
      "source": [
        "It's easier to load because we don't have to access a CSV file. On the downside, the data is not loaded as a DataFrame. But, we can create a DataFrame with a few simple steps."
      ]
    },
    {
      "cell_type": "markdown",
      "metadata": {
        "id": "Sd7XHVeXMRcA",
        "colab_type": "text"
      },
      "source": [
        "## Build a DataFrame from a **sklearn** dataset"
      ]
    },
    {
      "cell_type": "markdown",
      "metadata": {
        "id": "O7GBBz1bKsNo",
        "colab_type": "text"
      },
      "source": [
        "First, access information about the dataset with the **keys()** function."
      ]
    },
    {
      "cell_type": "code",
      "metadata": {
        "id": "5mGWEh7yK9LY",
        "colab_type": "code",
        "colab": {
          "base_uri": "https://localhost:8080/",
          "height": 34
        },
        "outputId": "959e2e44-b9a6-4ecc-f66f-c801ef673908"
      },
      "source": [
        "dataset.keys() "
      ],
      "execution_count": 51,
      "outputs": [
        {
          "output_type": "execute_result",
          "data": {
            "text/plain": [
              "dict_keys(['data', 'target', 'feature_names', 'DESCR', 'filename'])"
            ]
          },
          "metadata": {
            "tags": []
          },
          "execution_count": 51
        }
      ]
    },
    {
      "cell_type": "markdown",
      "metadata": {
        "id": "nS21SwD9LAXn",
        "colab_type": "text"
      },
      "source": [
        "Second, access the feature names."
      ]
    },
    {
      "cell_type": "code",
      "metadata": {
        "id": "mAO2vYiiK-8-",
        "colab_type": "code",
        "colab": {
          "base_uri": "https://localhost:8080/",
          "height": 51
        },
        "outputId": "522c3eef-1055-4b29-dfe4-8f33cdf0bbfd"
      },
      "source": [
        "feature_names = dataset.feature_names\n",
        "feature_names"
      ],
      "execution_count": 52,
      "outputs": [
        {
          "output_type": "execute_result",
          "data": {
            "text/plain": [
              "array(['CRIM', 'ZN', 'INDUS', 'CHAS', 'NOX', 'RM', 'AGE', 'DIS', 'RAD',\n",
              "       'TAX', 'PTRATIO', 'B', 'LSTAT'], dtype='<U7')"
            ]
          },
          "metadata": {
            "tags": []
          },
          "execution_count": 52
        }
      ]
    },
    {
      "cell_type": "markdown",
      "metadata": {
        "id": "sEEINWNHLiNQ",
        "colab_type": "text"
      },
      "source": [
        "Third, build a dataframe with feature and target data."
      ]
    },
    {
      "cell_type": "code",
      "metadata": {
        "id": "ZDAx1B0DKUlv",
        "colab_type": "code",
        "colab": {
          "base_uri": "https://localhost:8080/",
          "height": 204
        },
        "outputId": "7efbe773-ab24-4105-96bd-513f41c2dfde"
      },
      "source": [
        "df_sklearn = pd.DataFrame(dataset.data, columns=feature_names)\n",
        "\n",
        "df_sklearn['MEDV'] = dataset.target\n",
        "df_sklearn.head()"
      ],
      "execution_count": 53,
      "outputs": [
        {
          "output_type": "execute_result",
          "data": {
            "text/html": [
              "<div>\n",
              "<style scoped>\n",
              "    .dataframe tbody tr th:only-of-type {\n",
              "        vertical-align: middle;\n",
              "    }\n",
              "\n",
              "    .dataframe tbody tr th {\n",
              "        vertical-align: top;\n",
              "    }\n",
              "\n",
              "    .dataframe thead th {\n",
              "        text-align: right;\n",
              "    }\n",
              "</style>\n",
              "<table border=\"1\" class=\"dataframe\">\n",
              "  <thead>\n",
              "    <tr style=\"text-align: right;\">\n",
              "      <th></th>\n",
              "      <th>CRIM</th>\n",
              "      <th>ZN</th>\n",
              "      <th>INDUS</th>\n",
              "      <th>CHAS</th>\n",
              "      <th>NOX</th>\n",
              "      <th>RM</th>\n",
              "      <th>AGE</th>\n",
              "      <th>DIS</th>\n",
              "      <th>RAD</th>\n",
              "      <th>TAX</th>\n",
              "      <th>PTRATIO</th>\n",
              "      <th>B</th>\n",
              "      <th>LSTAT</th>\n",
              "      <th>MEDV</th>\n",
              "    </tr>\n",
              "  </thead>\n",
              "  <tbody>\n",
              "    <tr>\n",
              "      <th>0</th>\n",
              "      <td>0.00632</td>\n",
              "      <td>18.0</td>\n",
              "      <td>2.31</td>\n",
              "      <td>0.0</td>\n",
              "      <td>0.538</td>\n",
              "      <td>6.575</td>\n",
              "      <td>65.2</td>\n",
              "      <td>4.0900</td>\n",
              "      <td>1.0</td>\n",
              "      <td>296.0</td>\n",
              "      <td>15.3</td>\n",
              "      <td>396.90</td>\n",
              "      <td>4.98</td>\n",
              "      <td>24.0</td>\n",
              "    </tr>\n",
              "    <tr>\n",
              "      <th>1</th>\n",
              "      <td>0.02731</td>\n",
              "      <td>0.0</td>\n",
              "      <td>7.07</td>\n",
              "      <td>0.0</td>\n",
              "      <td>0.469</td>\n",
              "      <td>6.421</td>\n",
              "      <td>78.9</td>\n",
              "      <td>4.9671</td>\n",
              "      <td>2.0</td>\n",
              "      <td>242.0</td>\n",
              "      <td>17.8</td>\n",
              "      <td>396.90</td>\n",
              "      <td>9.14</td>\n",
              "      <td>21.6</td>\n",
              "    </tr>\n",
              "    <tr>\n",
              "      <th>2</th>\n",
              "      <td>0.02729</td>\n",
              "      <td>0.0</td>\n",
              "      <td>7.07</td>\n",
              "      <td>0.0</td>\n",
              "      <td>0.469</td>\n",
              "      <td>7.185</td>\n",
              "      <td>61.1</td>\n",
              "      <td>4.9671</td>\n",
              "      <td>2.0</td>\n",
              "      <td>242.0</td>\n",
              "      <td>17.8</td>\n",
              "      <td>392.83</td>\n",
              "      <td>4.03</td>\n",
              "      <td>34.7</td>\n",
              "    </tr>\n",
              "    <tr>\n",
              "      <th>3</th>\n",
              "      <td>0.03237</td>\n",
              "      <td>0.0</td>\n",
              "      <td>2.18</td>\n",
              "      <td>0.0</td>\n",
              "      <td>0.458</td>\n",
              "      <td>6.998</td>\n",
              "      <td>45.8</td>\n",
              "      <td>6.0622</td>\n",
              "      <td>3.0</td>\n",
              "      <td>222.0</td>\n",
              "      <td>18.7</td>\n",
              "      <td>394.63</td>\n",
              "      <td>2.94</td>\n",
              "      <td>33.4</td>\n",
              "    </tr>\n",
              "    <tr>\n",
              "      <th>4</th>\n",
              "      <td>0.06905</td>\n",
              "      <td>0.0</td>\n",
              "      <td>2.18</td>\n",
              "      <td>0.0</td>\n",
              "      <td>0.458</td>\n",
              "      <td>7.147</td>\n",
              "      <td>54.2</td>\n",
              "      <td>6.0622</td>\n",
              "      <td>3.0</td>\n",
              "      <td>222.0</td>\n",
              "      <td>18.7</td>\n",
              "      <td>396.90</td>\n",
              "      <td>5.33</td>\n",
              "      <td>36.2</td>\n",
              "    </tr>\n",
              "  </tbody>\n",
              "</table>\n",
              "</div>"
            ],
            "text/plain": [
              "      CRIM    ZN  INDUS  CHAS    NOX  ...    TAX  PTRATIO       B  LSTAT  MEDV\n",
              "0  0.00632  18.0   2.31   0.0  0.538  ...  296.0     15.3  396.90   4.98  24.0\n",
              "1  0.02731   0.0   7.07   0.0  0.469  ...  242.0     17.8  396.90   9.14  21.6\n",
              "2  0.02729   0.0   7.07   0.0  0.469  ...  242.0     17.8  392.83   4.03  34.7\n",
              "3  0.03237   0.0   2.18   0.0  0.458  ...  222.0     18.7  394.63   2.94  33.4\n",
              "4  0.06905   0.0   2.18   0.0  0.458  ...  222.0     18.7  396.90   5.33  36.2\n",
              "\n",
              "[5 rows x 14 columns]"
            ]
          },
          "metadata": {
            "tags": []
          },
          "execution_count": 53
        }
      ]
    },
    {
      "cell_type": "markdown",
      "metadata": {
        "id": "L5uk9b2Pnaxm",
        "colab_type": "text"
      },
      "source": [
        "Check information:"
      ]
    },
    {
      "cell_type": "code",
      "metadata": {
        "id": "QacJ8roampKr",
        "colab_type": "code",
        "colab": {
          "base_uri": "https://localhost:8080/",
          "height": 374
        },
        "outputId": "77c43c9a-742a-4133-a495-4129e77d832c"
      },
      "source": [
        "df_sklearn.info()"
      ],
      "execution_count": 54,
      "outputs": [
        {
          "output_type": "stream",
          "text": [
            "<class 'pandas.core.frame.DataFrame'>\n",
            "RangeIndex: 506 entries, 0 to 505\n",
            "Data columns (total 14 columns):\n",
            " #   Column   Non-Null Count  Dtype  \n",
            "---  ------   --------------  -----  \n",
            " 0   CRIM     506 non-null    float64\n",
            " 1   ZN       506 non-null    float64\n",
            " 2   INDUS    506 non-null    float64\n",
            " 3   CHAS     506 non-null    float64\n",
            " 4   NOX      506 non-null    float64\n",
            " 5   RM       506 non-null    float64\n",
            " 6   AGE      506 non-null    float64\n",
            " 7   DIS      506 non-null    float64\n",
            " 8   RAD      506 non-null    float64\n",
            " 9   TAX      506 non-null    float64\n",
            " 10  PTRATIO  506 non-null    float64\n",
            " 11  B        506 non-null    float64\n",
            " 12  LSTAT    506 non-null    float64\n",
            " 13  MEDV     506 non-null    float64\n",
            "dtypes: float64(14)\n",
            "memory usage: 55.5 KB\n"
          ],
          "name": "stdout"
        }
      ]
    },
    {
      "cell_type": "markdown",
      "metadata": {
        "id": "5su8IOmhKTAp",
        "colab_type": "text"
      },
      "source": [
        "## Remove Noise"
      ]
    },
    {
      "cell_type": "code",
      "metadata": {
        "id": "Q-YiPQnC1p4C",
        "colab_type": "code",
        "colab": {
          "base_uri": "https://localhost:8080/",
          "height": 51
        },
        "outputId": "796bd8a0-4322-4a7f-9505-a27ddc9267e6"
      },
      "source": [
        "# remove noisy data\n",
        "\n",
        "print ('data set before removing noise:', df_sklearn.shape)\n",
        "\n",
        "noise = df_sklearn.loc[df_sklearn['MEDV'] >= 50]\n",
        "df_clean = df_sklearn.drop(noise.index)\n",
        "\n",
        "print ('data set without noise:', df_clean.shape)"
      ],
      "execution_count": 55,
      "outputs": [
        {
          "output_type": "stream",
          "text": [
            "data set before removing noise: (506, 14)\n",
            "data set without noise: (490, 14)\n"
          ],
          "name": "stdout"
        }
      ]
    },
    {
      "cell_type": "markdown",
      "metadata": {
        "id": "OOcbyYgt2mL1",
        "colab_type": "text"
      },
      "source": [
        "## Build the Input Pipeline"
      ]
    },
    {
      "cell_type": "code",
      "metadata": {
        "id": "tg4fWZWA2mYF",
        "colab_type": "code",
        "colab": {}
      },
      "source": [
        "# create a copy of the DataFrame\n",
        "\n",
        "df = df_clean.copy()\n",
        "\n",
        "# create the target\n",
        "\n",
        "target = df.pop('MEDV')\n",
        "\n",
        "# convert features and target data\n",
        "\n",
        "features = df.values\n",
        "labels = target.values\n",
        "\n",
        "# create train and test sets\n",
        "\n",
        "X_train, X_test, y_train, y_test = train_test_split(\n",
        "    features, labels, test_size=0.33, random_state=0)\n",
        "\n",
        "X_train_std = scaler.fit_transform(X_train)\n",
        "X_test_std = scaler.fit_transform(X_test)\n",
        "\n",
        "# slice data into a TensorFlow consumable form\n",
        "\n",
        "train = tf.data.Dataset.from_tensor_slices(\n",
        "    (X_train_std, y_train))\n",
        "test = tf.data.Dataset.from_tensor_slices(\n",
        "    (X_test_std, y_test))\n",
        "\n",
        "# finalize the pipeline\n",
        "\n",
        "BATCH_SIZE = 16\n",
        "SHUFFLE_BUFFER_SIZE = 100\n",
        "\n",
        "train_sk = train.shuffle(\n",
        "    SHUFFLE_BUFFER_SIZE).batch(BATCH_SIZE).prefetch(1)\n",
        "test_sk = test.batch(BATCH_SIZE).prefetch(1)"
      ],
      "execution_count": 58,
      "outputs": []
    },
    {
      "cell_type": "markdown",
      "metadata": {
        "id": "ZeKpqCRLW85R",
        "colab_type": "text"
      },
      "source": [
        "## Create a New Model and Compile\n",
        "\n",
        "You may not have noticed, but the **sklearn** boston dataset has an extra feature column. So, we can either remove the feature or create a new model that accommodates it. Let's just create a new model and compile. Notice that we changed the input shape to accommodate the extra feature."
      ]
    },
    {
      "cell_type": "code",
      "metadata": {
        "id": "_vcoBFZyXYEh",
        "colab_type": "code",
        "colab": {
          "base_uri": "https://localhost:8080/",
          "height": 853
        },
        "outputId": "06eaf281-c3d0-4b94-d021-d0309aec76d3"
      },
      "source": [
        "# clear any previous model\n",
        "\n",
        "keras.backend.clear_session()\n",
        "\n",
        "# plant a random seed for replication purposes\n",
        "np.random.seed(0)\n",
        "tf.random.set_seed(0)\n",
        "\n",
        "# new model with 13 input features\n",
        "\n",
        "model = Sequential([\n",
        "  Dense(64, activation='relu', input_shape=[13,]),\n",
        "  Dense(64, activation='relu'),\n",
        "  Dense(1)\n",
        "])\n",
        "\n",
        "# compile the new model\n",
        "\n",
        "rmse = tf.keras.metrics.RootMeanSquaredError()\n",
        "\n",
        "model.compile(loss='mse', optimizer='RMSProp',\n",
        "              metrics=[rmse, 'mae', 'mse'])\n",
        "\n",
        "# train\n",
        "\n",
        "n = 4\n",
        "\n",
        "early_stop = keras.callbacks.EarlyStopping(monitor='val_loss', patience=n)\n",
        "\n",
        "history = model.fit(train_sk, epochs=50,\n",
        "                    validation_data=test_sk,\n",
        "                    callbacks=[early_stop])"
      ],
      "execution_count": 60,
      "outputs": [
        {
          "output_type": "stream",
          "text": [
            "Epoch 1/50\n",
            "21/21 [==============================] - 0s 8ms/step - loss: 442.6791 - root_mean_squared_error: 21.0399 - mae: 19.6151 - mse: 442.6791 - val_loss: 410.6849 - val_root_mean_squared_error: 20.2654 - val_mae: 18.3025 - val_mse: 410.6849\n",
            "Epoch 2/50\n",
            "21/21 [==============================] - 0s 4ms/step - loss: 297.7402 - root_mean_squared_error: 17.2552 - mae: 15.7029 - mse: 297.7402 - val_loss: 256.0681 - val_root_mean_squared_error: 16.0021 - val_mae: 13.8227 - val_mse: 256.0681\n",
            "Epoch 3/50\n",
            "21/21 [==============================] - 0s 4ms/step - loss: 159.1462 - root_mean_squared_error: 12.6153 - mae: 11.0680 - mse: 159.1462 - val_loss: 129.6851 - val_root_mean_squared_error: 11.3879 - val_mae: 9.2715 - val_mse: 129.6851\n",
            "Epoch 4/50\n",
            "21/21 [==============================] - 0s 4ms/step - loss: 71.6020 - root_mean_squared_error: 8.4618 - mae: 7.0763 - mse: 71.6020 - val_loss: 68.3293 - val_root_mean_squared_error: 8.2662 - val_mae: 6.7118 - val_mse: 68.3293\n",
            "Epoch 5/50\n",
            "21/21 [==============================] - 0s 4ms/step - loss: 40.1300 - root_mean_squared_error: 6.3348 - mae: 5.1686 - mse: 40.1300 - val_loss: 45.6238 - val_root_mean_squared_error: 6.7545 - val_mae: 5.3972 - val_mse: 45.6238\n",
            "Epoch 6/50\n",
            "21/21 [==============================] - 0s 4ms/step - loss: 27.3209 - root_mean_squared_error: 5.2269 - mae: 4.2215 - mse: 27.3209 - val_loss: 33.0511 - val_root_mean_squared_error: 5.7490 - val_mae: 4.5598 - val_mse: 33.0511\n",
            "Epoch 7/50\n",
            "21/21 [==============================] - 0s 4ms/step - loss: 20.0669 - root_mean_squared_error: 4.4796 - mae: 3.6041 - mse: 20.0669 - val_loss: 26.2448 - val_root_mean_squared_error: 5.1230 - val_mae: 3.9711 - val_mse: 26.2448\n",
            "Epoch 8/50\n",
            "21/21 [==============================] - 0s 4ms/step - loss: 16.2250 - root_mean_squared_error: 4.0280 - mae: 3.1924 - mse: 16.2250 - val_loss: 22.6156 - val_root_mean_squared_error: 4.7556 - val_mae: 3.6527 - val_mse: 22.6156\n",
            "Epoch 9/50\n",
            "21/21 [==============================] - 0s 4ms/step - loss: 13.8632 - root_mean_squared_error: 3.7233 - mae: 2.9206 - mse: 13.8632 - val_loss: 21.7785 - val_root_mean_squared_error: 4.6667 - val_mae: 3.5574 - val_mse: 21.7785\n",
            "Epoch 10/50\n",
            "21/21 [==============================] - 0s 4ms/step - loss: 12.1031 - root_mean_squared_error: 3.4790 - mae: 2.7056 - mse: 12.1031 - val_loss: 20.8940 - val_root_mean_squared_error: 4.5710 - val_mae: 3.4623 - val_mse: 20.8940\n",
            "Epoch 11/50\n",
            "21/21 [==============================] - 0s 4ms/step - loss: 10.9285 - root_mean_squared_error: 3.3058 - mae: 2.5749 - mse: 10.9285 - val_loss: 16.3415 - val_root_mean_squared_error: 4.0425 - val_mae: 3.0913 - val_mse: 16.3415\n",
            "Epoch 12/50\n",
            "21/21 [==============================] - 0s 4ms/step - loss: 9.5005 - root_mean_squared_error: 3.0823 - mae: 2.4029 - mse: 9.5005 - val_loss: 20.5615 - val_root_mean_squared_error: 4.5345 - val_mae: 3.4834 - val_mse: 20.5615\n",
            "Epoch 13/50\n",
            "21/21 [==============================] - 0s 4ms/step - loss: 8.9826 - root_mean_squared_error: 2.9971 - mae: 2.3485 - mse: 8.9826 - val_loss: 15.7163 - val_root_mean_squared_error: 3.9644 - val_mae: 3.0513 - val_mse: 15.7163\n",
            "Epoch 14/50\n",
            "21/21 [==============================] - 0s 4ms/step - loss: 8.2151 - root_mean_squared_error: 2.8662 - mae: 2.2546 - mse: 8.2151 - val_loss: 15.6476 - val_root_mean_squared_error: 3.9557 - val_mae: 2.9864 - val_mse: 15.6476\n",
            "Epoch 15/50\n",
            "21/21 [==============================] - 0s 4ms/step - loss: 7.6958 - root_mean_squared_error: 2.7741 - mae: 2.1845 - mse: 7.6958 - val_loss: 14.7819 - val_root_mean_squared_error: 3.8447 - val_mae: 2.9138 - val_mse: 14.7819\n",
            "Epoch 16/50\n",
            "21/21 [==============================] - 0s 4ms/step - loss: 7.2540 - root_mean_squared_error: 2.6933 - mae: 2.0985 - mse: 7.2540 - val_loss: 14.9385 - val_root_mean_squared_error: 3.8650 - val_mae: 2.8902 - val_mse: 14.9385\n",
            "Epoch 17/50\n",
            "21/21 [==============================] - 0s 4ms/step - loss: 6.8495 - root_mean_squared_error: 2.6171 - mae: 2.0514 - mse: 6.8495 - val_loss: 13.5339 - val_root_mean_squared_error: 3.6788 - val_mae: 2.7492 - val_mse: 13.5339\n",
            "Epoch 18/50\n",
            "21/21 [==============================] - 0s 4ms/step - loss: 6.6106 - root_mean_squared_error: 2.5711 - mae: 2.0254 - mse: 6.6106 - val_loss: 15.3244 - val_root_mean_squared_error: 3.9146 - val_mae: 2.8785 - val_mse: 15.3244\n",
            "Epoch 19/50\n",
            "21/21 [==============================] - 0s 4ms/step - loss: 6.1225 - root_mean_squared_error: 2.4744 - mae: 1.9388 - mse: 6.1225 - val_loss: 15.3690 - val_root_mean_squared_error: 3.9203 - val_mae: 2.8501 - val_mse: 15.3690\n",
            "Epoch 20/50\n",
            "21/21 [==============================] - 0s 4ms/step - loss: 6.0309 - root_mean_squared_error: 2.4558 - mae: 1.9507 - mse: 6.0309 - val_loss: 13.0102 - val_root_mean_squared_error: 3.6070 - val_mae: 2.6267 - val_mse: 13.0102\n",
            "Epoch 21/50\n",
            "21/21 [==============================] - 0s 4ms/step - loss: 5.8751 - root_mean_squared_error: 2.4239 - mae: 1.9068 - mse: 5.8751 - val_loss: 15.1599 - val_root_mean_squared_error: 3.8936 - val_mae: 2.7882 - val_mse: 15.1599\n",
            "Epoch 22/50\n",
            "21/21 [==============================] - 0s 4ms/step - loss: 5.7501 - root_mean_squared_error: 2.3979 - mae: 1.8695 - mse: 5.7501 - val_loss: 14.4671 - val_root_mean_squared_error: 3.8036 - val_mae: 2.7062 - val_mse: 14.4671\n",
            "Epoch 23/50\n",
            "21/21 [==============================] - 0s 4ms/step - loss: 5.6815 - root_mean_squared_error: 2.3836 - mae: 1.8427 - mse: 5.6815 - val_loss: 15.1401 - val_root_mean_squared_error: 3.8910 - val_mae: 2.8103 - val_mse: 15.1401\n",
            "Epoch 24/50\n",
            "21/21 [==============================] - 0s 4ms/step - loss: 5.4866 - root_mean_squared_error: 2.3424 - mae: 1.8331 - mse: 5.4866 - val_loss: 13.9284 - val_root_mean_squared_error: 3.7321 - val_mae: 2.7290 - val_mse: 13.9284\n"
          ],
          "name": "stdout"
        }
      ]
    },
    {
      "cell_type": "markdown",
      "metadata": {
        "id": "9cd64V-vEIVJ",
        "colab_type": "text"
      },
      "source": [
        "# Read from UCI Irvine Machine Learning Repository\n",
        "\n",
        "We can also read housing data directly from the UCI Irvine Machine Learning Repository."
      ]
    },
    {
      "cell_type": "code",
      "metadata": {
        "id": "9z-kYHTFEIrB",
        "colab_type": "code",
        "colab": {
          "base_uri": "https://localhost:8080/",
          "height": 69
        },
        "outputId": "4d78056f-445c-437b-f7d3-fa91cd407f7e"
      },
      "source": [
        "dataset_path = keras.utils.get_file('housing.data', 'https://archive.ics.uci.\\\n",
        "edu/ml/machine-learning-databases/housing/housing.data')\n",
        "dataset_path"
      ],
      "execution_count": 61,
      "outputs": [
        {
          "output_type": "stream",
          "text": [
            "Downloading data from https://archive.ics.uci.edu/ml/machine-learning-databases/housing/housing.data\n",
            "49152/49082 [==============================] - 0s 1us/step\n"
          ],
          "name": "stdout"
        },
        {
          "output_type": "execute_result",
          "data": {
            "application/vnd.google.colaboratory.intrinsic": {
              "type": "string"
            },
            "text/plain": [
              "'/root/.keras/datasets/housing.data'"
            ]
          },
          "metadata": {
            "tags": []
          },
          "execution_count": 61
        }
      ]
    },
    {
      "cell_type": "code",
      "metadata": {
        "id": "EkfTV4JeGCiZ",
        "colab_type": "code",
        "colab": {
          "base_uri": "https://localhost:8080/",
          "height": 142
        },
        "outputId": "4f26dbc0-44c4-48ae-e5bf-0c79bb97c822"
      },
      "source": [
        "cols = ['CRIM', 'ZN', 'INDUS', 'CHAS', 'NOX', 'RM', 'AGE', 'DIS',\n",
        "        'RAD', 'TAX', 'PTRATIO', 'B', 'LSTAT', 'MEDV']\n",
        " \n",
        "uci_data = pd.read_csv(dataset_path, names=cols, sep=' ',\n",
        "                       skipinitialspace=True)\n",
        "\n",
        "uci_data.head(3)"
      ],
      "execution_count": 62,
      "outputs": [
        {
          "output_type": "execute_result",
          "data": {
            "text/html": [
              "<div>\n",
              "<style scoped>\n",
              "    .dataframe tbody tr th:only-of-type {\n",
              "        vertical-align: middle;\n",
              "    }\n",
              "\n",
              "    .dataframe tbody tr th {\n",
              "        vertical-align: top;\n",
              "    }\n",
              "\n",
              "    .dataframe thead th {\n",
              "        text-align: right;\n",
              "    }\n",
              "</style>\n",
              "<table border=\"1\" class=\"dataframe\">\n",
              "  <thead>\n",
              "    <tr style=\"text-align: right;\">\n",
              "      <th></th>\n",
              "      <th>CRIM</th>\n",
              "      <th>ZN</th>\n",
              "      <th>INDUS</th>\n",
              "      <th>CHAS</th>\n",
              "      <th>NOX</th>\n",
              "      <th>RM</th>\n",
              "      <th>AGE</th>\n",
              "      <th>DIS</th>\n",
              "      <th>RAD</th>\n",
              "      <th>TAX</th>\n",
              "      <th>PTRATIO</th>\n",
              "      <th>B</th>\n",
              "      <th>LSTAT</th>\n",
              "      <th>MEDV</th>\n",
              "    </tr>\n",
              "  </thead>\n",
              "  <tbody>\n",
              "    <tr>\n",
              "      <th>0</th>\n",
              "      <td>0.00632</td>\n",
              "      <td>18.0</td>\n",
              "      <td>2.31</td>\n",
              "      <td>0</td>\n",
              "      <td>0.538</td>\n",
              "      <td>6.575</td>\n",
              "      <td>65.2</td>\n",
              "      <td>4.0900</td>\n",
              "      <td>1</td>\n",
              "      <td>296.0</td>\n",
              "      <td>15.3</td>\n",
              "      <td>396.90</td>\n",
              "      <td>4.98</td>\n",
              "      <td>24.0</td>\n",
              "    </tr>\n",
              "    <tr>\n",
              "      <th>1</th>\n",
              "      <td>0.02731</td>\n",
              "      <td>0.0</td>\n",
              "      <td>7.07</td>\n",
              "      <td>0</td>\n",
              "      <td>0.469</td>\n",
              "      <td>6.421</td>\n",
              "      <td>78.9</td>\n",
              "      <td>4.9671</td>\n",
              "      <td>2</td>\n",
              "      <td>242.0</td>\n",
              "      <td>17.8</td>\n",
              "      <td>396.90</td>\n",
              "      <td>9.14</td>\n",
              "      <td>21.6</td>\n",
              "    </tr>\n",
              "    <tr>\n",
              "      <th>2</th>\n",
              "      <td>0.02729</td>\n",
              "      <td>0.0</td>\n",
              "      <td>7.07</td>\n",
              "      <td>0</td>\n",
              "      <td>0.469</td>\n",
              "      <td>7.185</td>\n",
              "      <td>61.1</td>\n",
              "      <td>4.9671</td>\n",
              "      <td>2</td>\n",
              "      <td>242.0</td>\n",
              "      <td>17.8</td>\n",
              "      <td>392.83</td>\n",
              "      <td>4.03</td>\n",
              "      <td>34.7</td>\n",
              "    </tr>\n",
              "  </tbody>\n",
              "</table>\n",
              "</div>"
            ],
            "text/plain": [
              "      CRIM    ZN  INDUS  CHAS    NOX  ...    TAX  PTRATIO       B  LSTAT  MEDV\n",
              "0  0.00632  18.0   2.31     0  0.538  ...  296.0     15.3  396.90   4.98  24.0\n",
              "1  0.02731   0.0   7.07     0  0.469  ...  242.0     17.8  396.90   9.14  21.6\n",
              "2  0.02729   0.0   7.07     0  0.469  ...  242.0     17.8  392.83   4.03  34.7\n",
              "\n",
              "[3 rows x 14 columns]"
            ]
          },
          "metadata": {
            "tags": []
          },
          "execution_count": 62
        }
      ]
    },
    {
      "cell_type": "code",
      "metadata": {
        "id": "4pL32EoarTxt",
        "colab_type": "code",
        "colab": {
          "base_uri": "https://localhost:8080/",
          "height": 374
        },
        "outputId": "6263068c-f44e-4b7c-d413-130e235b53fb"
      },
      "source": [
        "uci_data.info()"
      ],
      "execution_count": 63,
      "outputs": [
        {
          "output_type": "stream",
          "text": [
            "<class 'pandas.core.frame.DataFrame'>\n",
            "RangeIndex: 506 entries, 0 to 505\n",
            "Data columns (total 14 columns):\n",
            " #   Column   Non-Null Count  Dtype  \n",
            "---  ------   --------------  -----  \n",
            " 0   CRIM     506 non-null    float64\n",
            " 1   ZN       506 non-null    float64\n",
            " 2   INDUS    506 non-null    float64\n",
            " 3   CHAS     506 non-null    int64  \n",
            " 4   NOX      506 non-null    float64\n",
            " 5   RM       506 non-null    float64\n",
            " 6   AGE      506 non-null    float64\n",
            " 7   DIS      506 non-null    float64\n",
            " 8   RAD      506 non-null    int64  \n",
            " 9   TAX      506 non-null    float64\n",
            " 10  PTRATIO  506 non-null    float64\n",
            " 11  B        506 non-null    float64\n",
            " 12  LSTAT    506 non-null    float64\n",
            " 13  MEDV     506 non-null    float64\n",
            "dtypes: float64(12), int64(2)\n",
            "memory usage: 55.5 KB\n"
          ],
          "name": "stdout"
        }
      ]
    },
    {
      "cell_type": "markdown",
      "metadata": {
        "id": "U966zKTUIlIp",
        "colab_type": "text"
      },
      "source": [
        "## Create the Input Pipeline"
      ]
    },
    {
      "cell_type": "code",
      "metadata": {
        "id": "qg9tPVjpIlS4",
        "colab_type": "code",
        "colab": {}
      },
      "source": [
        "# create a copy of the DataFrame\n",
        "\n",
        "df = uci_data.copy()\n",
        "\n",
        "# create the target\n",
        "\n",
        "target = df.pop('MEDV')\n",
        "\n",
        "# prepare features and labels\n",
        "\n",
        "features = df.values\n",
        "labels = target.values\n",
        "\n",
        "# create and train and test data\n",
        "\n",
        "X_train, X_test, y_train, y_test = train_test_split(\n",
        "    features, labels, test_size=0.33, random_state=0)\n",
        "\n",
        "# scale data\n",
        "\n",
        "X_train_std = scaler.fit_transform(X_train)\n",
        "X_test_std = scaler.fit_transform(X_test)\n",
        "\n",
        "# prepare train and test data for TensorFlow consumption\n",
        "\n",
        "train = tf.data.Dataset.from_tensor_slices((X_train_std, y_train))\n",
        "test = tf.data.Dataset.from_tensor_slices((X_test_std, y_test))\n",
        "\n",
        "# shuffle, batch, and prefetch\n",
        "\n",
        "BATCH_SIZE = 16\n",
        "SHUFFLE_BUFFER_SIZE = 100\n",
        "\n",
        "train_ml = train.shuffle(SHUFFLE_BUFFER_SIZE).batch(BATCH_SIZE).prefetch(1)\n",
        "test_ml = test.batch(BATCH_SIZE).prefetch(1)"
      ],
      "execution_count": 65,
      "outputs": []
    },
    {
      "cell_type": "markdown",
      "metadata": {
        "id": "o4M9c2TaJyEr",
        "colab_type": "text"
      },
      "source": [
        "## Compile and Model Data"
      ]
    },
    {
      "cell_type": "code",
      "metadata": {
        "id": "5B4id2LlJkos",
        "colab_type": "code",
        "colab": {
          "base_uri": "https://localhost:8080/",
          "height": 1000
        },
        "outputId": "b19efc6f-88b9-4a22-96c3-a599b94299cd"
      },
      "source": [
        "# clear any previous model\n",
        "\n",
        "keras.backend.clear_session()\n",
        "\n",
        "# plant a random seed for replication purposes\n",
        "np.random.seed(0)\n",
        "tf.random.set_seed(0)\n",
        "\n",
        "# new model with 13 input features\n",
        "\n",
        "model = Sequential([\n",
        "  Dense(64, activation='relu', input_shape=[13,]),\n",
        "  Dense(64, activation='relu'),\n",
        "  Dense(1)\n",
        "])\n",
        "\n",
        "# compile the new model\n",
        "\n",
        "rmse = tf.keras.metrics.RootMeanSquaredError()\n",
        "\n",
        "model.compile(loss='mse', optimizer='RMSProp',\n",
        "              metrics=[rmse, 'mae', 'mse'])\n",
        "\n",
        "# train\n",
        "\n",
        "n = 4\n",
        "\n",
        "early_stop = keras.callbacks.EarlyStopping(monitor='val_loss', patience=n)\n",
        "\n",
        "history = model.fit(train_ml, epochs=50,\n",
        "                    validation_data=test_ml,\n",
        "                    callbacks=[early_stop])"
      ],
      "execution_count": 66,
      "outputs": [
        {
          "output_type": "stream",
          "text": [
            "Epoch 1/50\n",
            "22/22 [==============================] - 0s 7ms/step - loss: 529.4684 - root_mean_squared_error: 23.0102 - mae: 20.9925 - mse: 529.4684 - val_loss: 412.6105 - val_root_mean_squared_error: 20.3128 - val_mae: 18.1396 - val_mse: 412.6105\n",
            "Epoch 2/50\n",
            "22/22 [==============================] - 0s 4ms/step - loss: 370.8401 - root_mean_squared_error: 19.2572 - mae: 17.0552 - mse: 370.8401 - val_loss: 253.0599 - val_root_mean_squared_error: 15.9079 - val_mae: 13.6809 - val_mse: 253.0599\n",
            "Epoch 3/50\n",
            "22/22 [==============================] - 0s 4ms/step - loss: 205.0551 - root_mean_squared_error: 14.3197 - mae: 12.0279 - mse: 205.0551 - val_loss: 123.8565 - val_root_mean_squared_error: 11.1291 - val_mae: 9.0109 - val_mse: 123.8565\n",
            "Epoch 4/50\n",
            "22/22 [==============================] - 0s 4ms/step - loss: 95.3930 - root_mean_squared_error: 9.7669 - mae: 7.7161 - mse: 95.3930 - val_loss: 68.3160 - val_root_mean_squared_error: 8.2653 - val_mae: 6.4573 - val_mse: 68.3160\n",
            "Epoch 5/50\n",
            "22/22 [==============================] - 0s 4ms/step - loss: 53.8578 - root_mean_squared_error: 7.3388 - mae: 5.7827 - mse: 53.8578 - val_loss: 52.3218 - val_root_mean_squared_error: 7.2334 - val_mae: 5.5267 - val_mse: 52.3218\n",
            "Epoch 6/50\n",
            "22/22 [==============================] - 0s 4ms/step - loss: 37.2778 - root_mean_squared_error: 6.1056 - mae: 4.6735 - mse: 37.2778 - val_loss: 39.7947 - val_root_mean_squared_error: 6.3083 - val_mae: 4.7499 - val_mse: 39.7947\n",
            "Epoch 7/50\n",
            "22/22 [==============================] - 0s 4ms/step - loss: 27.5192 - root_mean_squared_error: 5.2459 - mae: 3.9454 - mse: 27.5192 - val_loss: 34.3021 - val_root_mean_squared_error: 5.8568 - val_mae: 4.2926 - val_mse: 34.3021\n",
            "Epoch 8/50\n",
            "22/22 [==============================] - 0s 4ms/step - loss: 22.9582 - root_mean_squared_error: 4.7915 - mae: 3.5407 - mse: 22.9582 - val_loss: 33.9787 - val_root_mean_squared_error: 5.8291 - val_mae: 4.2701 - val_mse: 33.9787\n",
            "Epoch 9/50\n",
            "22/22 [==============================] - 0s 4ms/step - loss: 20.2208 - root_mean_squared_error: 4.4968 - mae: 3.2773 - mse: 20.2208 - val_loss: 28.1447 - val_root_mean_squared_error: 5.3052 - val_mae: 3.8931 - val_mse: 28.1447\n",
            "Epoch 10/50\n",
            "22/22 [==============================] - 0s 4ms/step - loss: 18.3814 - root_mean_squared_error: 4.2874 - mae: 3.1170 - mse: 18.3814 - val_loss: 26.3899 - val_root_mean_squared_error: 5.1371 - val_mae: 3.6850 - val_mse: 26.3899\n",
            "Epoch 11/50\n",
            "22/22 [==============================] - 0s 4ms/step - loss: 16.6235 - root_mean_squared_error: 4.0772 - mae: 2.9526 - mse: 16.6235 - val_loss: 24.5342 - val_root_mean_squared_error: 4.9532 - val_mae: 3.5492 - val_mse: 24.5342\n",
            "Epoch 12/50\n",
            "22/22 [==============================] - 0s 4ms/step - loss: 15.1538 - root_mean_squared_error: 3.8928 - mae: 2.7235 - mse: 15.1538 - val_loss: 22.9968 - val_root_mean_squared_error: 4.7955 - val_mae: 3.5017 - val_mse: 22.9968\n",
            "Epoch 13/50\n",
            "22/22 [==============================] - 0s 4ms/step - loss: 14.1627 - root_mean_squared_error: 3.7633 - mae: 2.6788 - mse: 14.1627 - val_loss: 22.3344 - val_root_mean_squared_error: 4.7259 - val_mae: 3.3092 - val_mse: 22.3344\n",
            "Epoch 14/50\n",
            "22/22 [==============================] - 0s 4ms/step - loss: 13.2317 - root_mean_squared_error: 3.6375 - mae: 2.5617 - mse: 13.2317 - val_loss: 21.7031 - val_root_mean_squared_error: 4.6587 - val_mae: 3.2974 - val_mse: 21.7031\n",
            "Epoch 15/50\n",
            "22/22 [==============================] - 0s 4ms/step - loss: 12.4541 - root_mean_squared_error: 3.5290 - mae: 2.4997 - mse: 12.4541 - val_loss: 20.7466 - val_root_mean_squared_error: 4.5548 - val_mae: 3.1787 - val_mse: 20.7466\n",
            "Epoch 16/50\n",
            "22/22 [==============================] - 0s 4ms/step - loss: 12.1592 - root_mean_squared_error: 3.4870 - mae: 2.4845 - mse: 12.1592 - val_loss: 21.7120 - val_root_mean_squared_error: 4.6596 - val_mae: 3.3358 - val_mse: 21.7120\n",
            "Epoch 17/50\n",
            "22/22 [==============================] - 0s 4ms/step - loss: 11.2625 - root_mean_squared_error: 3.3560 - mae: 2.3606 - mse: 11.2625 - val_loss: 20.2314 - val_root_mean_squared_error: 4.4979 - val_mae: 3.1577 - val_mse: 20.2314\n",
            "Epoch 18/50\n",
            "22/22 [==============================] - 0s 4ms/step - loss: 10.9923 - root_mean_squared_error: 3.3155 - mae: 2.3396 - mse: 10.9923 - val_loss: 18.9148 - val_root_mean_squared_error: 4.3491 - val_mae: 3.0346 - val_mse: 18.9148\n",
            "Epoch 19/50\n",
            "22/22 [==============================] - 0s 4ms/step - loss: 10.4702 - root_mean_squared_error: 3.2358 - mae: 2.2456 - mse: 10.4702 - val_loss: 20.7283 - val_root_mean_squared_error: 4.5528 - val_mae: 3.3866 - val_mse: 20.7283\n",
            "Epoch 20/50\n",
            "22/22 [==============================] - 0s 4ms/step - loss: 10.2732 - root_mean_squared_error: 3.2052 - mae: 2.2677 - mse: 10.2732 - val_loss: 18.1884 - val_root_mean_squared_error: 4.2648 - val_mae: 2.9797 - val_mse: 18.1884\n",
            "Epoch 21/50\n",
            "22/22 [==============================] - 0s 4ms/step - loss: 9.9665 - root_mean_squared_error: 3.1570 - mae: 2.2462 - mse: 9.9665 - val_loss: 19.2398 - val_root_mean_squared_error: 4.3863 - val_mae: 3.0689 - val_mse: 19.2398\n",
            "Epoch 22/50\n",
            "22/22 [==============================] - 0s 4ms/step - loss: 9.7320 - root_mean_squared_error: 3.1196 - mae: 2.2198 - mse: 9.7320 - val_loss: 19.9375 - val_root_mean_squared_error: 4.4651 - val_mae: 3.2243 - val_mse: 19.9375\n",
            "Epoch 23/50\n",
            "22/22 [==============================] - 0s 4ms/step - loss: 9.6277 - root_mean_squared_error: 3.1029 - mae: 2.2009 - mse: 9.6277 - val_loss: 18.0921 - val_root_mean_squared_error: 4.2535 - val_mae: 2.9511 - val_mse: 18.0921\n",
            "Epoch 24/50\n",
            "22/22 [==============================] - 0s 4ms/step - loss: 9.0878 - root_mean_squared_error: 3.0146 - mae: 2.1465 - mse: 9.0878 - val_loss: 17.7808 - val_root_mean_squared_error: 4.2167 - val_mae: 2.9453 - val_mse: 17.7808\n",
            "Epoch 25/50\n",
            "22/22 [==============================] - 0s 4ms/step - loss: 9.2486 - root_mean_squared_error: 3.0411 - mae: 2.1447 - mse: 9.2486 - val_loss: 17.0809 - val_root_mean_squared_error: 4.1329 - val_mae: 2.8929 - val_mse: 17.0809\n",
            "Epoch 26/50\n",
            "22/22 [==============================] - 0s 4ms/step - loss: 9.0233 - root_mean_squared_error: 3.0039 - mae: 2.1331 - mse: 9.0233 - val_loss: 17.0376 - val_root_mean_squared_error: 4.1277 - val_mae: 2.8814 - val_mse: 17.0376\n",
            "Epoch 27/50\n",
            "22/22 [==============================] - 0s 4ms/step - loss: 8.8624 - root_mean_squared_error: 2.9770 - mae: 2.1092 - mse: 8.8624 - val_loss: 21.0246 - val_root_mean_squared_error: 4.5853 - val_mae: 3.3277 - val_mse: 21.0246\n",
            "Epoch 28/50\n",
            "22/22 [==============================] - 0s 4ms/step - loss: 8.5901 - root_mean_squared_error: 2.9309 - mae: 2.0912 - mse: 8.5901 - val_loss: 20.4729 - val_root_mean_squared_error: 4.5247 - val_mae: 3.4359 - val_mse: 20.4729\n",
            "Epoch 29/50\n",
            "22/22 [==============================] - 0s 4ms/step - loss: 8.6208 - root_mean_squared_error: 2.9361 - mae: 2.1208 - mse: 8.6208 - val_loss: 16.5729 - val_root_mean_squared_error: 4.0710 - val_mae: 2.8936 - val_mse: 16.5729\n",
            "Epoch 30/50\n",
            "22/22 [==============================] - 0s 4ms/step - loss: 8.1765 - root_mean_squared_error: 2.8594 - mae: 2.0435 - mse: 8.1765 - val_loss: 19.5042 - val_root_mean_squared_error: 4.4164 - val_mae: 3.1815 - val_mse: 19.5042\n",
            "Epoch 31/50\n",
            "22/22 [==============================] - 0s 4ms/step - loss: 8.2676 - root_mean_squared_error: 2.8753 - mae: 2.0712 - mse: 8.2676 - val_loss: 16.7704 - val_root_mean_squared_error: 4.0952 - val_mae: 2.8709 - val_mse: 16.7704\n",
            "Epoch 32/50\n",
            "22/22 [==============================] - 0s 4ms/step - loss: 7.9536 - root_mean_squared_error: 2.8202 - mae: 2.0275 - mse: 7.9536 - val_loss: 16.3512 - val_root_mean_squared_error: 4.0437 - val_mae: 2.8321 - val_mse: 16.3512\n",
            "Epoch 33/50\n",
            "22/22 [==============================] - 0s 4ms/step - loss: 7.9473 - root_mean_squared_error: 2.8191 - mae: 2.0242 - mse: 7.9473 - val_loss: 16.0881 - val_root_mean_squared_error: 4.0110 - val_mae: 2.8114 - val_mse: 16.0881\n",
            "Epoch 34/50\n",
            "22/22 [==============================] - 0s 5ms/step - loss: 7.8226 - root_mean_squared_error: 2.7969 - mae: 2.0075 - mse: 7.8226 - val_loss: 16.3344 - val_root_mean_squared_error: 4.0416 - val_mae: 2.8201 - val_mse: 16.3344\n",
            "Epoch 35/50\n",
            "22/22 [==============================] - 0s 4ms/step - loss: 7.5845 - root_mean_squared_error: 2.7540 - mae: 1.9646 - mse: 7.5845 - val_loss: 16.5021 - val_root_mean_squared_error: 4.0623 - val_mae: 2.7924 - val_mse: 16.5021\n",
            "Epoch 36/50\n",
            "22/22 [==============================] - 0s 4ms/step - loss: 7.7219 - root_mean_squared_error: 2.7788 - mae: 1.9856 - mse: 7.7219 - val_loss: 17.5395 - val_root_mean_squared_error: 4.1880 - val_mae: 2.9858 - val_mse: 17.5395\n",
            "Epoch 37/50\n",
            "22/22 [==============================] - 0s 4ms/step - loss: 7.3402 - root_mean_squared_error: 2.7093 - mae: 1.9402 - mse: 7.3402 - val_loss: 16.4070 - val_root_mean_squared_error: 4.0506 - val_mae: 2.8508 - val_mse: 16.4070\n"
          ],
          "name": "stdout"
        }
      ]
    },
    {
      "cell_type": "markdown",
      "metadata": {
        "id": "V3BgDTnS4Zv0",
        "colab_type": "text"
      },
      "source": [
        "# Model the Cars Dataset\n",
        "\n",
        "To get more practice, let's try another dataset."
      ]
    },
    {
      "cell_type": "markdown",
      "metadata": {
        "id": "fpE90Z-lUXoF",
        "colab_type": "text"
      },
      "source": [
        "## Get Cars Data from GitHub\n",
        "\n",
        "You can access any free standing dataset for this book directly from GitHub with a few simple steps:\n",
        "\n",
        "1.\tvisit the book URL: https://github.com/paperd/tensorflow\n",
        "2.\tlocate the dataset and click on it\n",
        "3.\tclick the Raw button\n",
        "4.\tcopy the URL to Colab and assign it to a variable\n",
        "5.\tread the dataset with the Pandas read_csv method"
      ]
    },
    {
      "cell_type": "markdown",
      "metadata": {
        "id": "A5oSilX2Up0X",
        "colab_type": "text"
      },
      "source": [
        "We’ve already located the URL and assigned it to a variable:"
      ]
    },
    {
      "cell_type": "code",
      "metadata": {
        "id": "x75xfFCeUsvv",
        "colab_type": "code",
        "colab": {}
      },
      "source": [
        "cars_url = 'https://raw.githubusercontent.com/paperd/tensorflow/\\\n",
        "master/chapter6/data/cars.csv'"
      ],
      "execution_count": 67,
      "outputs": []
    },
    {
      "cell_type": "markdown",
      "metadata": {
        "id": "7LqH7ZHXWwsH",
        "colab_type": "text"
      },
      "source": [
        "Read the dataset into a Pandas DataFrame:"
      ]
    },
    {
      "cell_type": "code",
      "metadata": {
        "id": "1GhATmFIWw0N",
        "colab_type": "code",
        "colab": {}
      },
      "source": [
        "cars = pd.read_csv(cars_url)"
      ],
      "execution_count": 68,
      "outputs": []
    },
    {
      "cell_type": "markdown",
      "metadata": {
        "id": "LzsbvIfHW_eO",
        "colab_type": "text"
      },
      "source": [
        "Verify data:"
      ]
    },
    {
      "cell_type": "code",
      "metadata": {
        "id": "xnfTcEviW_kn",
        "colab_type": "code",
        "colab": {
          "base_uri": "https://localhost:8080/",
          "height": 204
        },
        "outputId": "7c732e7f-5f3f-4201-d58c-b306de0febaa"
      },
      "source": [
        "cars.head()"
      ],
      "execution_count": 69,
      "outputs": [
        {
          "output_type": "execute_result",
          "data": {
            "text/html": [
              "<div>\n",
              "<style scoped>\n",
              "    .dataframe tbody tr th:only-of-type {\n",
              "        vertical-align: middle;\n",
              "    }\n",
              "\n",
              "    .dataframe tbody tr th {\n",
              "        vertical-align: top;\n",
              "    }\n",
              "\n",
              "    .dataframe thead th {\n",
              "        text-align: right;\n",
              "    }\n",
              "</style>\n",
              "<table border=\"1\" class=\"dataframe\">\n",
              "  <thead>\n",
              "    <tr style=\"text-align: right;\">\n",
              "      <th></th>\n",
              "      <th>Car</th>\n",
              "      <th>MPG</th>\n",
              "      <th>Cylinders</th>\n",
              "      <th>Displacement</th>\n",
              "      <th>HP</th>\n",
              "      <th>Weight</th>\n",
              "      <th>Acceleration</th>\n",
              "      <th>Model</th>\n",
              "      <th>Origin</th>\n",
              "    </tr>\n",
              "  </thead>\n",
              "  <tbody>\n",
              "    <tr>\n",
              "      <th>0</th>\n",
              "      <td>Chevrolet Chevelle Malibu</td>\n",
              "      <td>18.0</td>\n",
              "      <td>8</td>\n",
              "      <td>307.0</td>\n",
              "      <td>130</td>\n",
              "      <td>3504</td>\n",
              "      <td>12.0</td>\n",
              "      <td>70</td>\n",
              "      <td>US</td>\n",
              "    </tr>\n",
              "    <tr>\n",
              "      <th>1</th>\n",
              "      <td>Buick Skylark 320</td>\n",
              "      <td>15.0</td>\n",
              "      <td>8</td>\n",
              "      <td>350.0</td>\n",
              "      <td>165</td>\n",
              "      <td>3693</td>\n",
              "      <td>11.5</td>\n",
              "      <td>70</td>\n",
              "      <td>US</td>\n",
              "    </tr>\n",
              "    <tr>\n",
              "      <th>2</th>\n",
              "      <td>Plymouth Satellite</td>\n",
              "      <td>18.0</td>\n",
              "      <td>8</td>\n",
              "      <td>318.0</td>\n",
              "      <td>150</td>\n",
              "      <td>3436</td>\n",
              "      <td>11.0</td>\n",
              "      <td>70</td>\n",
              "      <td>US</td>\n",
              "    </tr>\n",
              "    <tr>\n",
              "      <th>3</th>\n",
              "      <td>AMC Rebel SST</td>\n",
              "      <td>16.0</td>\n",
              "      <td>8</td>\n",
              "      <td>304.0</td>\n",
              "      <td>150</td>\n",
              "      <td>3433</td>\n",
              "      <td>12.0</td>\n",
              "      <td>70</td>\n",
              "      <td>US</td>\n",
              "    </tr>\n",
              "    <tr>\n",
              "      <th>4</th>\n",
              "      <td>Ford Torino</td>\n",
              "      <td>17.0</td>\n",
              "      <td>8</td>\n",
              "      <td>302.0</td>\n",
              "      <td>140</td>\n",
              "      <td>3449</td>\n",
              "      <td>10.5</td>\n",
              "      <td>70</td>\n",
              "      <td>US</td>\n",
              "    </tr>\n",
              "  </tbody>\n",
              "</table>\n",
              "</div>"
            ],
            "text/plain": [
              "                         Car   MPG  Cylinders  ...  Acceleration  Model  Origin\n",
              "0  Chevrolet Chevelle Malibu  18.0          8  ...          12.0     70      US\n",
              "1          Buick Skylark 320  15.0          8  ...          11.5     70      US\n",
              "2         Plymouth Satellite  18.0          8  ...          11.0     70      US\n",
              "3              AMC Rebel SST  16.0          8  ...          12.0     70      US\n",
              "4                Ford Torino  17.0          8  ...          10.5     70      US\n",
              "\n",
              "[5 rows x 9 columns]"
            ]
          },
          "metadata": {
            "tags": []
          },
          "execution_count": 69
        }
      ]
    },
    {
      "cell_type": "markdown",
      "metadata": {
        "id": "qE0z68OZZzy6",
        "colab_type": "text"
      },
      "source": [
        "Get information about dataset:"
      ]
    },
    {
      "cell_type": "code",
      "metadata": {
        "id": "7gwYV3PDna2_",
        "colab_type": "code",
        "colab": {
          "base_uri": "https://localhost:8080/",
          "height": 289
        },
        "outputId": "0b0a86a2-9f31-4f49-d5ff-a866fc96a622"
      },
      "source": [
        "cars.info()"
      ],
      "execution_count": 70,
      "outputs": [
        {
          "output_type": "stream",
          "text": [
            "<class 'pandas.core.frame.DataFrame'>\n",
            "RangeIndex: 406 entries, 0 to 405\n",
            "Data columns (total 9 columns):\n",
            " #   Column        Non-Null Count  Dtype  \n",
            "---  ------        --------------  -----  \n",
            " 0   Car           406 non-null    object \n",
            " 1   MPG           406 non-null    float64\n",
            " 2   Cylinders     406 non-null    int64  \n",
            " 3   Displacement  406 non-null    float64\n",
            " 4   HP            406 non-null    int64  \n",
            " 5   Weight        406 non-null    int64  \n",
            " 6   Acceleration  406 non-null    float64\n",
            " 7   Model         406 non-null    int64  \n",
            " 8   Origin        406 non-null    object \n",
            "dtypes: float64(3), int64(4), object(2)\n",
            "memory usage: 28.7+ KB\n"
          ],
          "name": "stdout"
        }
      ]
    },
    {
      "cell_type": "markdown",
      "metadata": {
        "id": "u9rK49_2oFMe",
        "colab_type": "text"
      },
      "source": [
        "## Convert Categorical Column to Numeric \n",
        "\n",
        "Machine learning algorithms can only train numeric data. So, we must convert any non-numeric feature. The 'Origin' column is categorical, not numeric. To remedy, one solution is to encode the data as *one-hot*. **One hot encoding** is a process that converts categorical data into a numeric form for machine learning algorithm consumption.\n",
        "\n",
        "We start by slicing off the 'Origin' feature column from the original DataFrame into its own DataFrame. We then use this DataFrame as a template to build a new feature column in the original DataFrame for each category from the original 'Origin' feature."
      ]
    },
    {
      "cell_type": "code",
      "metadata": {
        "id": "-p9S_pG9qvYK",
        "colab_type": "code",
        "colab": {}
      },
      "source": [
        "# create a copy of DataFrame\n",
        "\n",
        "df = cars.copy()\n",
        "\n",
        "origin = df.pop('Origin')"
      ],
      "execution_count": 71,
      "outputs": []
    },
    {
      "cell_type": "markdown",
      "metadata": {
        "id": "bZWNEtdOrDSw",
        "colab_type": "text"
      },
      "source": [
        "Now, we define a feature column for 'US', 'Europe', and 'Japan' cars:"
      ]
    },
    {
      "cell_type": "code",
      "metadata": {
        "id": "bbSkoUbDoFWM",
        "colab_type": "code",
        "colab": {
          "base_uri": "https://localhost:8080/",
          "height": 297
        },
        "outputId": "f5a0e087-a7d8-4a47-d3a9-9de6090ac7fa"
      },
      "source": [
        "df['US'] = (origin == 'US') * 1.0\n",
        "df['Europe'] = (origin == 'Europe') * 1.0\n",
        "df['Japan'] = (origin == 'Japan') * 1.0\n",
        "df.tail(8)"
      ],
      "execution_count": 72,
      "outputs": [
        {
          "output_type": "execute_result",
          "data": {
            "text/html": [
              "<div>\n",
              "<style scoped>\n",
              "    .dataframe tbody tr th:only-of-type {\n",
              "        vertical-align: middle;\n",
              "    }\n",
              "\n",
              "    .dataframe tbody tr th {\n",
              "        vertical-align: top;\n",
              "    }\n",
              "\n",
              "    .dataframe thead th {\n",
              "        text-align: right;\n",
              "    }\n",
              "</style>\n",
              "<table border=\"1\" class=\"dataframe\">\n",
              "  <thead>\n",
              "    <tr style=\"text-align: right;\">\n",
              "      <th></th>\n",
              "      <th>Car</th>\n",
              "      <th>MPG</th>\n",
              "      <th>Cylinders</th>\n",
              "      <th>Displacement</th>\n",
              "      <th>HP</th>\n",
              "      <th>Weight</th>\n",
              "      <th>Acceleration</th>\n",
              "      <th>Model</th>\n",
              "      <th>US</th>\n",
              "      <th>Europe</th>\n",
              "      <th>Japan</th>\n",
              "    </tr>\n",
              "  </thead>\n",
              "  <tbody>\n",
              "    <tr>\n",
              "      <th>398</th>\n",
              "      <td>Toyota Celica GT</td>\n",
              "      <td>32.0</td>\n",
              "      <td>4</td>\n",
              "      <td>144.0</td>\n",
              "      <td>96</td>\n",
              "      <td>2665</td>\n",
              "      <td>13.9</td>\n",
              "      <td>82</td>\n",
              "      <td>0.0</td>\n",
              "      <td>0.0</td>\n",
              "      <td>1.0</td>\n",
              "    </tr>\n",
              "    <tr>\n",
              "      <th>399</th>\n",
              "      <td>Dodge Charger 2.2</td>\n",
              "      <td>36.0</td>\n",
              "      <td>4</td>\n",
              "      <td>135.0</td>\n",
              "      <td>84</td>\n",
              "      <td>2370</td>\n",
              "      <td>13.0</td>\n",
              "      <td>82</td>\n",
              "      <td>1.0</td>\n",
              "      <td>0.0</td>\n",
              "      <td>0.0</td>\n",
              "    </tr>\n",
              "    <tr>\n",
              "      <th>400</th>\n",
              "      <td>Chevrolet Camaro</td>\n",
              "      <td>27.0</td>\n",
              "      <td>4</td>\n",
              "      <td>151.0</td>\n",
              "      <td>90</td>\n",
              "      <td>2950</td>\n",
              "      <td>17.3</td>\n",
              "      <td>82</td>\n",
              "      <td>1.0</td>\n",
              "      <td>0.0</td>\n",
              "      <td>0.0</td>\n",
              "    </tr>\n",
              "    <tr>\n",
              "      <th>401</th>\n",
              "      <td>Ford Mustang GL</td>\n",
              "      <td>27.0</td>\n",
              "      <td>4</td>\n",
              "      <td>140.0</td>\n",
              "      <td>86</td>\n",
              "      <td>2790</td>\n",
              "      <td>15.6</td>\n",
              "      <td>82</td>\n",
              "      <td>1.0</td>\n",
              "      <td>0.0</td>\n",
              "      <td>0.0</td>\n",
              "    </tr>\n",
              "    <tr>\n",
              "      <th>402</th>\n",
              "      <td>Volkswagen Pickup</td>\n",
              "      <td>44.0</td>\n",
              "      <td>4</td>\n",
              "      <td>97.0</td>\n",
              "      <td>52</td>\n",
              "      <td>2130</td>\n",
              "      <td>24.6</td>\n",
              "      <td>82</td>\n",
              "      <td>0.0</td>\n",
              "      <td>1.0</td>\n",
              "      <td>0.0</td>\n",
              "    </tr>\n",
              "    <tr>\n",
              "      <th>403</th>\n",
              "      <td>Dodge Rampage</td>\n",
              "      <td>32.0</td>\n",
              "      <td>4</td>\n",
              "      <td>135.0</td>\n",
              "      <td>84</td>\n",
              "      <td>2295</td>\n",
              "      <td>11.6</td>\n",
              "      <td>82</td>\n",
              "      <td>1.0</td>\n",
              "      <td>0.0</td>\n",
              "      <td>0.0</td>\n",
              "    </tr>\n",
              "    <tr>\n",
              "      <th>404</th>\n",
              "      <td>Ford Ranger</td>\n",
              "      <td>28.0</td>\n",
              "      <td>4</td>\n",
              "      <td>120.0</td>\n",
              "      <td>79</td>\n",
              "      <td>2625</td>\n",
              "      <td>18.6</td>\n",
              "      <td>82</td>\n",
              "      <td>1.0</td>\n",
              "      <td>0.0</td>\n",
              "      <td>0.0</td>\n",
              "    </tr>\n",
              "    <tr>\n",
              "      <th>405</th>\n",
              "      <td>Chevy S-10</td>\n",
              "      <td>31.0</td>\n",
              "      <td>4</td>\n",
              "      <td>119.0</td>\n",
              "      <td>82</td>\n",
              "      <td>2720</td>\n",
              "      <td>19.4</td>\n",
              "      <td>82</td>\n",
              "      <td>1.0</td>\n",
              "      <td>0.0</td>\n",
              "      <td>0.0</td>\n",
              "    </tr>\n",
              "  </tbody>\n",
              "</table>\n",
              "</div>"
            ],
            "text/plain": [
              "                   Car   MPG  Cylinders  ...   US  Europe  Japan\n",
              "398   Toyota Celica GT  32.0          4  ...  0.0     0.0    1.0\n",
              "399  Dodge Charger 2.2  36.0          4  ...  1.0     0.0    0.0\n",
              "400   Chevrolet Camaro  27.0          4  ...  1.0     0.0    0.0\n",
              "401    Ford Mustang GL  27.0          4  ...  1.0     0.0    0.0\n",
              "402  Volkswagen Pickup  44.0          4  ...  0.0     1.0    0.0\n",
              "403      Dodge Rampage  32.0          4  ...  1.0     0.0    0.0\n",
              "404        Ford Ranger  28.0          4  ...  1.0     0.0    0.0\n",
              "405         Chevy S-10  31.0          4  ...  1.0     0.0    0.0\n",
              "\n",
              "[8 rows x 11 columns]"
            ]
          },
          "metadata": {
            "tags": []
          },
          "execution_count": 72
        }
      ]
    },
    {
      "cell_type": "markdown",
      "metadata": {
        "id": "dq2cCot4rOnx",
        "colab_type": "text"
      },
      "source": [
        "So, for each entry in the 'US' feature column, we assign a '1.0' if the car is from the United States. Otherwise, we assign a '0.0'. We follow the same logic for the 'Europe' and 'Japan' feature columns based on the car's origin. Now, the algorithm can process the data properly."
      ]
    },
    {
      "cell_type": "markdown",
      "metadata": {
        "id": "339fLZfpuFv7",
        "colab_type": "text"
      },
      "source": [
        "## Slice Extraneous Data\n",
        "\n",
        "Since the name of each car has no impact on any predictions we might want to make, we can tuck it away into its own DataFrame in case we want to revisit it in the future. "
      ]
    },
    {
      "cell_type": "code",
      "metadata": {
        "id": "evOZ7OnJvYGN",
        "colab_type": "code",
        "colab": {
          "base_uri": "https://localhost:8080/",
          "height": 34
        },
        "outputId": "dda01bd1-1d19-413c-d1ea-c25a6e540cd7"
      },
      "source": [
        "try:\n",
        "  name = df.pop('Car')\n",
        "except:\n",
        "  print(\"An exception occurred\")"
      ],
      "execution_count": 74,
      "outputs": [
        {
          "output_type": "stream",
          "text": [
            "An exception occurred\n"
          ],
          "name": "stdout"
        }
      ]
    },
    {
      "cell_type": "markdown",
      "metadata": {
        "id": "0c8psgMcvv-w",
        "colab_type": "text"
      },
      "source": [
        "If an exception occurrs, the *Car* column has already been removed."
      ]
    },
    {
      "cell_type": "markdown",
      "metadata": {
        "id": "pVoMB5PlwL4z",
        "colab_type": "text"
      },
      "source": [
        "Verify:"
      ]
    },
    {
      "cell_type": "code",
      "metadata": {
        "id": "-KwHEouxvaA9",
        "colab_type": "code",
        "colab": {
          "base_uri": "https://localhost:8080/",
          "height": 297
        },
        "outputId": "853d0be4-2854-49bb-ce16-fd2a444bca38"
      },
      "source": [
        "df.tail(8)"
      ],
      "execution_count": 75,
      "outputs": [
        {
          "output_type": "execute_result",
          "data": {
            "text/html": [
              "<div>\n",
              "<style scoped>\n",
              "    .dataframe tbody tr th:only-of-type {\n",
              "        vertical-align: middle;\n",
              "    }\n",
              "\n",
              "    .dataframe tbody tr th {\n",
              "        vertical-align: top;\n",
              "    }\n",
              "\n",
              "    .dataframe thead th {\n",
              "        text-align: right;\n",
              "    }\n",
              "</style>\n",
              "<table border=\"1\" class=\"dataframe\">\n",
              "  <thead>\n",
              "    <tr style=\"text-align: right;\">\n",
              "      <th></th>\n",
              "      <th>MPG</th>\n",
              "      <th>Cylinders</th>\n",
              "      <th>Displacement</th>\n",
              "      <th>HP</th>\n",
              "      <th>Weight</th>\n",
              "      <th>Acceleration</th>\n",
              "      <th>Model</th>\n",
              "      <th>US</th>\n",
              "      <th>Europe</th>\n",
              "      <th>Japan</th>\n",
              "    </tr>\n",
              "  </thead>\n",
              "  <tbody>\n",
              "    <tr>\n",
              "      <th>398</th>\n",
              "      <td>32.0</td>\n",
              "      <td>4</td>\n",
              "      <td>144.0</td>\n",
              "      <td>96</td>\n",
              "      <td>2665</td>\n",
              "      <td>13.9</td>\n",
              "      <td>82</td>\n",
              "      <td>0.0</td>\n",
              "      <td>0.0</td>\n",
              "      <td>1.0</td>\n",
              "    </tr>\n",
              "    <tr>\n",
              "      <th>399</th>\n",
              "      <td>36.0</td>\n",
              "      <td>4</td>\n",
              "      <td>135.0</td>\n",
              "      <td>84</td>\n",
              "      <td>2370</td>\n",
              "      <td>13.0</td>\n",
              "      <td>82</td>\n",
              "      <td>1.0</td>\n",
              "      <td>0.0</td>\n",
              "      <td>0.0</td>\n",
              "    </tr>\n",
              "    <tr>\n",
              "      <th>400</th>\n",
              "      <td>27.0</td>\n",
              "      <td>4</td>\n",
              "      <td>151.0</td>\n",
              "      <td>90</td>\n",
              "      <td>2950</td>\n",
              "      <td>17.3</td>\n",
              "      <td>82</td>\n",
              "      <td>1.0</td>\n",
              "      <td>0.0</td>\n",
              "      <td>0.0</td>\n",
              "    </tr>\n",
              "    <tr>\n",
              "      <th>401</th>\n",
              "      <td>27.0</td>\n",
              "      <td>4</td>\n",
              "      <td>140.0</td>\n",
              "      <td>86</td>\n",
              "      <td>2790</td>\n",
              "      <td>15.6</td>\n",
              "      <td>82</td>\n",
              "      <td>1.0</td>\n",
              "      <td>0.0</td>\n",
              "      <td>0.0</td>\n",
              "    </tr>\n",
              "    <tr>\n",
              "      <th>402</th>\n",
              "      <td>44.0</td>\n",
              "      <td>4</td>\n",
              "      <td>97.0</td>\n",
              "      <td>52</td>\n",
              "      <td>2130</td>\n",
              "      <td>24.6</td>\n",
              "      <td>82</td>\n",
              "      <td>0.0</td>\n",
              "      <td>1.0</td>\n",
              "      <td>0.0</td>\n",
              "    </tr>\n",
              "    <tr>\n",
              "      <th>403</th>\n",
              "      <td>32.0</td>\n",
              "      <td>4</td>\n",
              "      <td>135.0</td>\n",
              "      <td>84</td>\n",
              "      <td>2295</td>\n",
              "      <td>11.6</td>\n",
              "      <td>82</td>\n",
              "      <td>1.0</td>\n",
              "      <td>0.0</td>\n",
              "      <td>0.0</td>\n",
              "    </tr>\n",
              "    <tr>\n",
              "      <th>404</th>\n",
              "      <td>28.0</td>\n",
              "      <td>4</td>\n",
              "      <td>120.0</td>\n",
              "      <td>79</td>\n",
              "      <td>2625</td>\n",
              "      <td>18.6</td>\n",
              "      <td>82</td>\n",
              "      <td>1.0</td>\n",
              "      <td>0.0</td>\n",
              "      <td>0.0</td>\n",
              "    </tr>\n",
              "    <tr>\n",
              "      <th>405</th>\n",
              "      <td>31.0</td>\n",
              "      <td>4</td>\n",
              "      <td>119.0</td>\n",
              "      <td>82</td>\n",
              "      <td>2720</td>\n",
              "      <td>19.4</td>\n",
              "      <td>82</td>\n",
              "      <td>1.0</td>\n",
              "      <td>0.0</td>\n",
              "      <td>0.0</td>\n",
              "    </tr>\n",
              "  </tbody>\n",
              "</table>\n",
              "</div>"
            ],
            "text/plain": [
              "      MPG  Cylinders  Displacement  HP  ...  Model   US  Europe  Japan\n",
              "398  32.0          4         144.0  96  ...     82  0.0     0.0    1.0\n",
              "399  36.0          4         135.0  84  ...     82  1.0     0.0    0.0\n",
              "400  27.0          4         151.0  90  ...     82  1.0     0.0    0.0\n",
              "401  27.0          4         140.0  86  ...     82  1.0     0.0    0.0\n",
              "402  44.0          4          97.0  52  ...     82  0.0     1.0    0.0\n",
              "403  32.0          4         135.0  84  ...     82  1.0     0.0    0.0\n",
              "404  28.0          4         120.0  79  ...     82  1.0     0.0    0.0\n",
              "405  31.0          4         119.0  82  ...     82  1.0     0.0    0.0\n",
              "\n",
              "[8 rows x 10 columns]"
            ]
          },
          "metadata": {
            "tags": []
          },
          "execution_count": 75
        }
      ]
    },
    {
      "cell_type": "markdown",
      "metadata": {
        "id": "JGFD-H8ssvlz",
        "colab_type": "text"
      },
      "source": [
        "## Create Features and Labels\n",
        "\n",
        "Our goal is to predict 'MPG' for cars in this dataset. So, the target is 'MPG' and features are the remaining feature columns."
      ]
    },
    {
      "cell_type": "markdown",
      "metadata": {
        "id": "B3q_-5-UxrqV",
        "colab_type": "text"
      },
      "source": [
        "Create features and targets:"
      ]
    },
    {
      "cell_type": "code",
      "metadata": {
        "id": "ZoFz6ESYxw5G",
        "colab_type": "code",
        "colab": {
          "base_uri": "https://localhost:8080/",
          "height": 68
        },
        "outputId": "359621cb-ef18-4cef-acbe-d4a316b348e6"
      },
      "source": [
        "# create data sets\n",
        "\n",
        "features = df.copy()\n",
        "target = features.pop('MPG')\n",
        "\n",
        "# get feature names\n",
        "\n",
        "feature_cols = list(features)\n",
        "print (feature_cols)\n",
        "\n",
        "# get number of features\n",
        "\n",
        "num_features = len(feature_cols)\n",
        "print (num_features)\n",
        "\n",
        "# convert feature and target data to float\n",
        "\n",
        "features = features.values\n",
        "labels = target.values\n",
        "(type(features), type(labels))"
      ],
      "execution_count": 77,
      "outputs": [
        {
          "output_type": "stream",
          "text": [
            "['Cylinders', 'Displacement', 'HP', 'Weight', 'Acceleration', 'Model', 'US', 'Europe', 'Japan']\n",
            "9\n"
          ],
          "name": "stdout"
        },
        {
          "output_type": "execute_result",
          "data": {
            "text/plain": [
              "(numpy.ndarray, numpy.ndarray)"
            ]
          },
          "metadata": {
            "tags": []
          },
          "execution_count": 77
        }
      ]
    },
    {
      "cell_type": "markdown",
      "metadata": {
        "id": "OHON9vQdsSg6",
        "colab_type": "text"
      },
      "source": [
        "## Build the Input Pipeline"
      ]
    },
    {
      "cell_type": "code",
      "metadata": {
        "id": "7TvDVxnus0-N",
        "colab_type": "code",
        "colab": {
          "base_uri": "https://localhost:8080/",
          "height": 68
        },
        "outputId": "924b276e-7655-4b83-f459-21e0c6e7c8f7"
      },
      "source": [
        "# split\n",
        "\n",
        "X_train, X_test, y_train, y_test = train_test_split(\n",
        "    features, labels, test_size=0.33, random_state=0)\n",
        "\n",
        "print ('X_train shape:', end=' ')\n",
        "print (X_train.shape, br)\n",
        "\n",
        "print ('X_test shape:', end=' ')\n",
        "print (X_test.shape)\n",
        "\n",
        "# scale\n",
        "\n",
        "X_train_std = scaler.fit_transform(X_train)\n",
        "X_test_std = scaler.fit_transform(X_test)\n",
        "\n",
        "# slice\n",
        "\n",
        "train = tf.data.Dataset.from_tensor_slices(\n",
        "    (X_train_std, y_train))\n",
        "test = tf.data.Dataset.from_tensor_slices(\n",
        "    (X_test_std, y_test))\n",
        "\n",
        "# shuffle, batch, prefetch\n",
        "\n",
        "BATCH_SIZE = 16\n",
        "SHUFFLE_BUFFER_SIZE = 100\n",
        "\n",
        "train_cars = train.shuffle(\n",
        "    SHUFFLE_BUFFER_SIZE).batch(BATCH_SIZE).prefetch(1)\n",
        "test_cars = test.batch(BATCH_SIZE).prefetch(1)"
      ],
      "execution_count": 80,
      "outputs": [
        {
          "output_type": "stream",
          "text": [
            "X_train shape: (272, 9) \n",
            "\n",
            "X_test shape: (134, 9)\n"
          ],
          "name": "stdout"
        }
      ]
    },
    {
      "cell_type": "markdown",
      "metadata": {
        "id": "FX5PjiJkvnDk",
        "colab_type": "text"
      },
      "source": [
        "## Model Data"
      ]
    },
    {
      "cell_type": "code",
      "metadata": {
        "id": "p5mbECFVvnPi",
        "colab_type": "code",
        "colab": {
          "base_uri": "https://localhost:8080/",
          "height": 921
        },
        "outputId": "8e41aa0f-4641-4b8a-9577-2feed2dfd216"
      },
      "source": [
        "# clear any previous model\n",
        "\n",
        "keras.backend.clear_session()\n",
        "\n",
        "# create the model\n",
        "\n",
        "model = Sequential([\n",
        "  Dense(64, activation='relu', input_shape=[num_features]),\n",
        "  Dense(64, activation='relu'),\n",
        "  Dense(1)\n",
        "])\n",
        "\n",
        "# compile\n",
        "\n",
        "rmse = tf.keras.metrics.RootMeanSquaredError()\n",
        "optimizer = tf.keras.optimizers.RMSprop(0.001)\n",
        "\n",
        "model.compile(loss='mse',\n",
        "              optimizer=optimizer,\n",
        "              metrics=[rmse, 'mae', 'mse'])\n",
        "\n",
        "# train\n",
        "\n",
        "keras.backend.clear_session()\n",
        "\n",
        "n = 4\n",
        "\n",
        "early_stop = keras.callbacks.EarlyStopping(\n",
        "    monitor='val_loss', patience=n)\n",
        "\n",
        "car_history = model.fit(train_cars, epochs=100,\n",
        "                        validation_data=test_cars,\n",
        "                        callbacks=[early_stop])"
      ],
      "execution_count": 81,
      "outputs": [
        {
          "output_type": "stream",
          "text": [
            "Epoch 1/100\n",
            "17/17 [==============================] - 0s 9ms/step - loss: 563.8441 - root_mean_squared_error: 23.7454 - mae: 22.3944 - mse: 563.8441 - val_loss: 530.1664 - val_root_mean_squared_error: 23.0253 - val_mae: 21.3268 - val_mse: 530.1664\n",
            "Epoch 2/100\n",
            "17/17 [==============================] - 0s 4ms/step - loss: 479.4173 - root_mean_squared_error: 21.8956 - mae: 20.5470 - mse: 479.4173 - val_loss: 442.7196 - val_root_mean_squared_error: 21.0409 - val_mae: 19.4312 - val_mse: 442.7196\n",
            "Epoch 3/100\n",
            "17/17 [==============================] - 0s 4ms/step - loss: 383.0551 - root_mean_squared_error: 19.5718 - mae: 18.2422 - mse: 383.0551 - val_loss: 335.5870 - val_root_mean_squared_error: 18.3190 - val_mae: 16.8221 - val_mse: 335.5870\n",
            "Epoch 4/100\n",
            "17/17 [==============================] - 0s 4ms/step - loss: 273.9926 - root_mean_squared_error: 16.5527 - mae: 15.2072 - mse: 273.9926 - val_loss: 223.5784 - val_root_mean_squared_error: 14.9525 - val_mae: 13.5204 - val_mse: 223.5784\n",
            "Epoch 5/100\n",
            "17/17 [==============================] - 0s 4ms/step - loss: 164.6154 - root_mean_squared_error: 12.8303 - mae: 11.5001 - mse: 164.6154 - val_loss: 123.3932 - val_root_mean_squared_error: 11.1083 - val_mae: 9.6890 - val_mse: 123.3932\n",
            "Epoch 6/100\n",
            "17/17 [==============================] - 0s 4ms/step - loss: 82.0054 - root_mean_squared_error: 9.0557 - mae: 7.6223 - mse: 82.0054 - val_loss: 67.4731 - val_root_mean_squared_error: 8.2142 - val_mae: 6.6212 - val_mse: 67.4731\n",
            "Epoch 7/100\n",
            "17/17 [==============================] - 0s 4ms/step - loss: 41.9871 - root_mean_squared_error: 6.4797 - mae: 5.0664 - mse: 41.9871 - val_loss: 46.6470 - val_root_mean_squared_error: 6.8299 - val_mae: 5.2638 - val_mse: 46.6470\n",
            "Epoch 8/100\n",
            "17/17 [==============================] - 0s 4ms/step - loss: 28.6732 - root_mean_squared_error: 5.3547 - mae: 4.0097 - mse: 28.6732 - val_loss: 37.0160 - val_root_mean_squared_error: 6.0841 - val_mae: 4.4338 - val_mse: 37.0160\n",
            "Epoch 9/100\n",
            "17/17 [==============================] - 0s 4ms/step - loss: 23.2319 - root_mean_squared_error: 4.8199 - mae: 3.4907 - mse: 23.2319 - val_loss: 31.3786 - val_root_mean_squared_error: 5.6017 - val_mae: 3.8725 - val_mse: 31.3786\n",
            "Epoch 10/100\n",
            "17/17 [==============================] - 0s 4ms/step - loss: 20.1754 - root_mean_squared_error: 4.4917 - mae: 3.1584 - mse: 20.1754 - val_loss: 28.1445 - val_root_mean_squared_error: 5.3051 - val_mae: 3.5573 - val_mse: 28.1445\n",
            "Epoch 11/100\n",
            "17/17 [==============================] - 0s 4ms/step - loss: 18.6761 - root_mean_squared_error: 4.3216 - mae: 3.0117 - mse: 18.6761 - val_loss: 27.5213 - val_root_mean_squared_error: 5.2461 - val_mae: 3.4415 - val_mse: 27.5213\n",
            "Epoch 12/100\n",
            "17/17 [==============================] - 0s 4ms/step - loss: 17.3988 - root_mean_squared_error: 4.1712 - mae: 2.9033 - mse: 17.3988 - val_loss: 26.8334 - val_root_mean_squared_error: 5.1801 - val_mae: 3.2629 - val_mse: 26.8334\n",
            "Epoch 13/100\n",
            "17/17 [==============================] - 0s 4ms/step - loss: 16.4289 - root_mean_squared_error: 4.0533 - mae: 2.7421 - mse: 16.4289 - val_loss: 26.2298 - val_root_mean_squared_error: 5.1215 - val_mae: 3.2121 - val_mse: 26.2298\n",
            "Epoch 14/100\n",
            "17/17 [==============================] - 0s 4ms/step - loss: 15.5627 - root_mean_squared_error: 3.9450 - mae: 2.6965 - mse: 15.5627 - val_loss: 24.9432 - val_root_mean_squared_error: 4.9943 - val_mae: 3.1004 - val_mse: 24.9432\n",
            "Epoch 15/100\n",
            "17/17 [==============================] - 0s 4ms/step - loss: 15.0089 - root_mean_squared_error: 3.8741 - mae: 2.6261 - mse: 15.0089 - val_loss: 25.3052 - val_root_mean_squared_error: 5.0304 - val_mae: 3.1390 - val_mse: 25.3052\n",
            "Epoch 16/100\n",
            "17/17 [==============================] - 0s 5ms/step - loss: 14.6352 - root_mean_squared_error: 3.8256 - mae: 2.5835 - mse: 14.6352 - val_loss: 25.1156 - val_root_mean_squared_error: 5.0115 - val_mae: 2.9804 - val_mse: 25.1156\n",
            "Epoch 17/100\n",
            "17/17 [==============================] - 0s 4ms/step - loss: 14.1334 - root_mean_squared_error: 3.7594 - mae: 2.5246 - mse: 14.1334 - val_loss: 24.4166 - val_root_mean_squared_error: 4.9413 - val_mae: 2.9560 - val_mse: 24.4166\n",
            "Epoch 18/100\n",
            "17/17 [==============================] - 0s 4ms/step - loss: 13.7954 - root_mean_squared_error: 3.7142 - mae: 2.4897 - mse: 13.7954 - val_loss: 24.7196 - val_root_mean_squared_error: 4.9719 - val_mae: 2.9312 - val_mse: 24.7196\n",
            "Epoch 19/100\n",
            "17/17 [==============================] - 0s 4ms/step - loss: 13.2677 - root_mean_squared_error: 3.6425 - mae: 2.4651 - mse: 13.2677 - val_loss: 24.4253 - val_root_mean_squared_error: 4.9422 - val_mae: 2.9461 - val_mse: 24.4253\n",
            "Epoch 20/100\n",
            "17/17 [==============================] - 0s 4ms/step - loss: 13.4277 - root_mean_squared_error: 3.6644 - mae: 2.4660 - mse: 13.4277 - val_loss: 24.3963 - val_root_mean_squared_error: 4.9393 - val_mae: 2.8950 - val_mse: 24.3963\n",
            "Epoch 21/100\n",
            "17/17 [==============================] - 0s 4ms/step - loss: 12.6076 - root_mean_squared_error: 3.5507 - mae: 2.3702 - mse: 12.6076 - val_loss: 24.6875 - val_root_mean_squared_error: 4.9686 - val_mae: 2.8306 - val_mse: 24.6875\n",
            "Epoch 22/100\n",
            "17/17 [==============================] - 0s 4ms/step - loss: 12.4414 - root_mean_squared_error: 3.5272 - mae: 2.3354 - mse: 12.4414 - val_loss: 24.3839 - val_root_mean_squared_error: 4.9380 - val_mae: 2.9640 - val_mse: 24.3839\n",
            "Epoch 23/100\n",
            "17/17 [==============================] - 0s 4ms/step - loss: 12.3833 - root_mean_squared_error: 3.5190 - mae: 2.3868 - mse: 12.3833 - val_loss: 25.1024 - val_root_mean_squared_error: 5.0102 - val_mae: 2.8497 - val_mse: 25.1024\n",
            "Epoch 24/100\n",
            "17/17 [==============================] - 0s 4ms/step - loss: 12.1076 - root_mean_squared_error: 3.4796 - mae: 2.3762 - mse: 12.1076 - val_loss: 24.7668 - val_root_mean_squared_error: 4.9766 - val_mae: 2.8170 - val_mse: 24.7668\n",
            "Epoch 25/100\n",
            "17/17 [==============================] - 0s 4ms/step - loss: 12.0564 - root_mean_squared_error: 3.4722 - mae: 2.3143 - mse: 12.0564 - val_loss: 24.6438 - val_root_mean_squared_error: 4.9642 - val_mae: 2.8123 - val_mse: 24.6438\n",
            "Epoch 26/100\n",
            "17/17 [==============================] - 0s 4ms/step - loss: 11.6598 - root_mean_squared_error: 3.4146 - mae: 2.3005 - mse: 11.6598 - val_loss: 24.6990 - val_root_mean_squared_error: 4.9698 - val_mae: 2.7893 - val_mse: 24.6990\n"
          ],
          "name": "stdout"
        }
      ]
    },
    {
      "cell_type": "markdown",
      "metadata": {
        "id": "LQbREWjoyzc-",
        "colab_type": "text"
      },
      "source": [
        "## Inspect the Model"
      ]
    },
    {
      "cell_type": "code",
      "metadata": {
        "id": "XiFIJi0cyzll",
        "colab_type": "code",
        "colab": {
          "base_uri": "https://localhost:8080/",
          "height": 255
        },
        "outputId": "b727db82-1d1f-4e46-bcb5-e5276eb273ed"
      },
      "source": [
        "model.summary()"
      ],
      "execution_count": 82,
      "outputs": [
        {
          "output_type": "stream",
          "text": [
            "Model: \"sequential\"\n",
            "_________________________________________________________________\n",
            "Layer (type)                 Output Shape              Param #   \n",
            "=================================================================\n",
            "dense (Dense)                (None, 64)                640       \n",
            "_________________________________________________________________\n",
            "dense_1 (Dense)              (None, 64)                4160      \n",
            "_________________________________________________________________\n",
            "dense_2 (Dense)              (None, 1)                 65        \n",
            "=================================================================\n",
            "Total params: 4,865\n",
            "Trainable params: 4,865\n",
            "Non-trainable params: 0\n",
            "_________________________________________________________________\n"
          ],
          "name": "stdout"
        }
      ]
    },
    {
      "cell_type": "markdown",
      "metadata": {
        "id": "joGMOHSXEmXh",
        "colab_type": "text"
      },
      "source": [
        "## Visualize Training"
      ]
    },
    {
      "cell_type": "code",
      "metadata": {
        "id": "C05oagoDEmga",
        "colab_type": "code",
        "colab": {
          "base_uri": "https://localhost:8080/",
          "height": 885
        },
        "outputId": "1a89f201-e64c-4ff7-f1ae-e67ae288216a"
      },
      "source": [
        "hist = pd.DataFrame(car_history.history)\n",
        "hist['epoch'] = car_history.epoch\n",
        "\n",
        "train_limit, test_limit = 10, 100\n",
        "\n",
        "plot_history(history, train_limit, test_limit)"
      ],
      "execution_count": 83,
      "outputs": [
        {
          "output_type": "display_data",
          "data": {
            "image/png": "[encoded data removed]",
            "text/plain": [
              "<Figure size 432x288 with 1 Axes>"
            ]
          },
          "metadata": {
            "tags": [],
            "needs_background": "light"
          }
        },
        {
          "output_type": "display_data",
          "data": {
            "text/plain": [
              "<Figure size 432x288 with 0 Axes>"
            ]
          },
          "metadata": {
            "tags": []
          }
        },
        {
          "output_type": "display_data",
          "data": {
            "image/png": "[encoded data removed]",
            "text/plain": [
              "<Figure size 432x288 with 1 Axes>"
            ]
          },
          "metadata": {
            "tags": [],
            "needs_background": "light"
          }
        },
        {
          "output_type": "display_data",
          "data": {
            "text/plain": [
              "<Figure size 432x288 with 0 Axes>"
            ]
          },
          "metadata": {
            "tags": []
          }
        },
        {
          "output_type": "display_data",
          "data": {
            "image/png": "[encoded data removed]",
            "text/plain": [
              "<Figure size 432x288 with 1 Axes>"
            ]
          },
          "metadata": {
            "tags": [],
            "needs_background": "light"
          }
        }
      ]
    },
    {
      "cell_type": "markdown",
      "metadata": {
        "id": "4wpHwumxGrU8",
        "colab_type": "text"
      },
      "source": [
        "## Generalize on Test Data"
      ]
    },
    {
      "cell_type": "code",
      "metadata": {
        "id": "E11l_ablGsAk",
        "colab_type": "code",
        "colab": {
          "base_uri": "https://localhost:8080/",
          "height": 68
        },
        "outputId": "8e6a5042-0d91-4d86-b739-5bdde37b4510"
      },
      "source": [
        "loss, rmse, mae, mse = model.evaluate(test_cars, verbose=2)\n",
        "\n",
        "print ()\n",
        "\n",
        "print('\"Testing set Mean Abs Error: {:5.2f} MPG'.format(mae))"
      ],
      "execution_count": 84,
      "outputs": [
        {
          "output_type": "stream",
          "text": [
            "9/9 - 0s - loss: 24.6990 - root_mean_squared_error: 4.9698 - mae: 2.7893 - mse: 24.6990\n",
            "\n",
            "\"Testing set Mean Abs Error:  2.79 MPG\n"
          ],
          "name": "stdout"
        }
      ]
    },
    {
      "cell_type": "markdown",
      "metadata": {
        "id": "DhMF55-uG3nM",
        "colab_type": "text"
      },
      "source": [
        "## Make Predictions"
      ]
    },
    {
      "cell_type": "code",
      "metadata": {
        "id": "ip7M-YQ1G30K",
        "colab_type": "code",
        "colab": {}
      },
      "source": [
        "predictions = model.predict(test_cars)"
      ],
      "execution_count": 85,
      "outputs": []
    },
    {
      "cell_type": "markdown",
      "metadata": {
        "id": "Hc9brgz5HCjN",
        "colab_type": "text"
      },
      "source": [
        "## Visualize Predictions"
      ]
    },
    {
      "cell_type": "code",
      "metadata": {
        "id": "spb90N-1HCsF",
        "colab_type": "code",
        "colab": {
          "base_uri": "https://localhost:8080/",
          "height": 279
        },
        "outputId": "5043723d-8975-4d2f-bbeb-2215475cc9d5"
      },
      "source": [
        "plt.scatter(y_test, predictions)\n",
        "plt.xlabel('True Values [MPG]')\n",
        "plt.ylabel('Predictions [MPG]')\n",
        "plt.axis('equal')\n",
        "plt.axis('square')\n",
        "plt.xlim([0,plt.xlim()[1]])\n",
        "plt.ylim([0,plt.ylim()[1]])\n",
        "_ = plt.plot([-100, 100], [-100, 100])"
      ],
      "execution_count": 86,
      "outputs": [
        {
          "output_type": "display_data",
          "data": {
            "image/png": "[encoded data removed]",
            "text/plain": [
              "<Figure size 432x288 with 1 Axes>"
            ]
          },
          "metadata": {
            "tags": [],
            "needs_background": "light"
          }
        }
      ]
    },
    {
      "cell_type": "markdown",
      "metadata": {
        "id": "PSKIfgtPNZNZ",
        "colab_type": "text"
      },
      "source": [
        "# Read from UCI Irvine Machine Learning Repository\n",
        "\n",
        "We can also read car data directly from the UCI Irvine Machine Learning Repository."
      ]
    },
    {
      "cell_type": "code",
      "metadata": {
        "id": "yis3wFh5NZa_",
        "colab_type": "code",
        "colab": {
          "base_uri": "https://localhost:8080/",
          "height": 69
        },
        "outputId": "624676a9-e8ab-40c7-ef8b-071f8a996b36"
      },
      "source": [
        "dataset_path = keras.utils.get_file(\"auto-mpg.data\", \"http://archive.ics.uci.\\\n",
        "edu/ml/machine-learning-databases/auto-mpg/auto-mpg.data\")\n",
        "dataset_path"
      ],
      "execution_count": 87,
      "outputs": [
        {
          "output_type": "stream",
          "text": [
            "Downloading data from http://archive.ics.uci.edu/ml/machine-learning-databases/auto-mpg/auto-mpg.data\n",
            "32768/30286 [================================] - 0s 1us/step\n"
          ],
          "name": "stdout"
        },
        {
          "output_type": "execute_result",
          "data": {
            "application/vnd.google.colaboratory.intrinsic": {
              "type": "string"
            },
            "text/plain": [
              "'/root/.keras/datasets/auto-mpg.data'"
            ]
          },
          "metadata": {
            "tags": []
          },
          "execution_count": 87
        }
      ]
    },
    {
      "cell_type": "markdown",
      "metadata": {
        "id": "f1YifGCONsf3",
        "colab_type": "text"
      },
      "source": [
        "# Get Data into Pandas"
      ]
    },
    {
      "cell_type": "code",
      "metadata": {
        "id": "N5w6YKACNsql",
        "colab_type": "code",
        "colab": {
          "base_uri": "https://localhost:8080/",
          "height": 204
        },
        "outputId": "39687f5e-d28d-4ab5-b820-8e3bd2f1b5ed"
      },
      "source": [
        "column_names = ['MPG','Cylinders','Displacement','Horsepower','Weight',\n",
        "                'Acceleration', 'Model Year', 'Origin']\n",
        "\n",
        "uci_cars = pd.read_csv(dataset_path, names=column_names,\n",
        "                       na_values = '?', comment='\\t',\n",
        "                       sep=' ', skipinitialspace=True)\n",
        "\n",
        "uci_cars.head()"
      ],
      "execution_count": 88,
      "outputs": [
        {
          "output_type": "execute_result",
          "data": {
            "text/html": [
              "<div>\n",
              "<style scoped>\n",
              "    .dataframe tbody tr th:only-of-type {\n",
              "        vertical-align: middle;\n",
              "    }\n",
              "\n",
              "    .dataframe tbody tr th {\n",
              "        vertical-align: top;\n",
              "    }\n",
              "\n",
              "    .dataframe thead th {\n",
              "        text-align: right;\n",
              "    }\n",
              "</style>\n",
              "<table border=\"1\" class=\"dataframe\">\n",
              "  <thead>\n",
              "    <tr style=\"text-align: right;\">\n",
              "      <th></th>\n",
              "      <th>MPG</th>\n",
              "      <th>Cylinders</th>\n",
              "      <th>Displacement</th>\n",
              "      <th>Horsepower</th>\n",
              "      <th>Weight</th>\n",
              "      <th>Acceleration</th>\n",
              "      <th>Model Year</th>\n",
              "      <th>Origin</th>\n",
              "    </tr>\n",
              "  </thead>\n",
              "  <tbody>\n",
              "    <tr>\n",
              "      <th>0</th>\n",
              "      <td>18.0</td>\n",
              "      <td>8</td>\n",
              "      <td>307.0</td>\n",
              "      <td>130.0</td>\n",
              "      <td>3504.0</td>\n",
              "      <td>12.0</td>\n",
              "      <td>70</td>\n",
              "      <td>1</td>\n",
              "    </tr>\n",
              "    <tr>\n",
              "      <th>1</th>\n",
              "      <td>15.0</td>\n",
              "      <td>8</td>\n",
              "      <td>350.0</td>\n",
              "      <td>165.0</td>\n",
              "      <td>3693.0</td>\n",
              "      <td>11.5</td>\n",
              "      <td>70</td>\n",
              "      <td>1</td>\n",
              "    </tr>\n",
              "    <tr>\n",
              "      <th>2</th>\n",
              "      <td>18.0</td>\n",
              "      <td>8</td>\n",
              "      <td>318.0</td>\n",
              "      <td>150.0</td>\n",
              "      <td>3436.0</td>\n",
              "      <td>11.0</td>\n",
              "      <td>70</td>\n",
              "      <td>1</td>\n",
              "    </tr>\n",
              "    <tr>\n",
              "      <th>3</th>\n",
              "      <td>16.0</td>\n",
              "      <td>8</td>\n",
              "      <td>304.0</td>\n",
              "      <td>150.0</td>\n",
              "      <td>3433.0</td>\n",
              "      <td>12.0</td>\n",
              "      <td>70</td>\n",
              "      <td>1</td>\n",
              "    </tr>\n",
              "    <tr>\n",
              "      <th>4</th>\n",
              "      <td>17.0</td>\n",
              "      <td>8</td>\n",
              "      <td>302.0</td>\n",
              "      <td>140.0</td>\n",
              "      <td>3449.0</td>\n",
              "      <td>10.5</td>\n",
              "      <td>70</td>\n",
              "      <td>1</td>\n",
              "    </tr>\n",
              "  </tbody>\n",
              "</table>\n",
              "</div>"
            ],
            "text/plain": [
              "    MPG  Cylinders  Displacement  ...  Acceleration  Model Year  Origin\n",
              "0  18.0          8         307.0  ...          12.0          70       1\n",
              "1  15.0          8         350.0  ...          11.5          70       1\n",
              "2  18.0          8         318.0  ...          11.0          70       1\n",
              "3  16.0          8         304.0  ...          12.0          70       1\n",
              "4  17.0          8         302.0  ...          10.5          70       1\n",
              "\n",
              "[5 rows x 8 columns]"
            ]
          },
          "metadata": {
            "tags": []
          },
          "execution_count": 88
        }
      ]
    }
  ]
}